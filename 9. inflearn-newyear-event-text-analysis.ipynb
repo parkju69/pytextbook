{
 "cells": [
  {
   "cell_type": "markdown",
   "metadata": {},
   "source": [
    "## 인프런 2020년 새해 다짐 이벤트 댓글 분석\n",
    "* https://www.inflearn.com/pages/newyear-event-20200102\n",
    "* 영상 튜토리얼 : [댓글 수백 수천개 분석하기?! [1/5] 이벤트 데이터 크롤링 feat. 인프런 새해 다짐 이벤트 - YouTube](https://www.youtube.com/watch?v=OUSwQk79H8I&list=PLaTc2c6yEwmohRzCxWQqJ7Z9aqc-sQ5gC)\n",
    "\n",
    "## 기획자나 마케터가 되어 이벤트 댓글을 분석해 보자!\n",
    "### 내가 만약 수백 수천개의 댓글을 다 읽어봐야 한다면?\n",
    "### 댓글 속에 제품에 대한 관심을 빈도수로 추출해야 한다면?\n",
    "* 쇼핑몰에서 제품 관련 이벤트 진행시 어떤 제품을 고객이 선호하는지 알고 싶다면?\n",
    "* 고객 DB와 연계할 수 있다면 이벤트 혹은 마케팅 세그먼트로 활용해 볼 수도 있지 않을까?\n",
    "\n",
    "\n",
    "### 향후 마케팅이나 전략을 어떻게 세워야 할까?\n",
    "\n",
    "인프런 강의를 운영하며 사람들은 어떤 강의를 듣고 싶은지 좀 더 잘 분석할 수 있다면 해당 분야의 강의를 더 개설하거나 해당 댓글을 남긴 사람에게 적절한 강의를 프로모션하면 강의를 수강할 확률이 더 높을 것이다. 수 천, 수 만개의 댓글 데이터 속에서 사용자의 목소리를 찾을 수 있을 것이다."
   ]
  },
  {
   "cell_type": "markdown",
   "metadata": {},
   "source": [
    "## 라이브러리 로드"
   ]
  },
  {
   "cell_type": "code",
   "execution_count": 1,
   "metadata": {},
   "outputs": [],
   "source": [
    "import pandas as pd\n",
    "import numpy as np\n",
    "import re\n",
    "import matplotlib.pyplot as plt"
   ]
  },
  {
   "cell_type": "markdown",
   "metadata": {},
   "source": [
    "## 시각화를 위한 한글폰트 설정"
   ]
  },
  {
   "cell_type": "code",
   "execution_count": 2,
   "metadata": {},
   "outputs": [],
   "source": [
    "def get_font_family():\n",
    "    \"\"\"\n",
    "    시스템 환경에 따른 기본 폰트명을 반환하는 함수\n",
    "    \"\"\"\n",
    "    import platform\n",
    "    system_name = platform.system()\n",
    "\n",
    "    if system_name == \"Darwin\" :\n",
    "        font_family = \"AppleGothic\"\n",
    "    elif system_name == \"Windows\":\n",
    "        font_family = \"Malgun Gothic\"\n",
    "    else:\n",
    "        !apt-get install fonts-nanum -qq > /dev/null\n",
    "        !fc-cache -fv\n",
    "\n",
    "        import matplotlib as mpl\n",
    "        mpl.font_manager._rebuild()\n",
    "        findfont = mpl.font_manager.fontManager.findfont\n",
    "        mpl.font_manager.findfont = findfont\n",
    "        mpl.backends.backend_agg.findfont = findfont\n",
    "        \n",
    "        font_family = \"NanumBarunGothic\"\n",
    "    return font_family\n",
    "\n",
    "# 폰트설정\n",
    "plt.rc(\"font\", family=get_font_family())\n",
    "\n",
    "# 마이너스폰트 설정\n",
    "plt.rc(\"axes\", unicode_minus=False)\n",
    "\n",
    "%config InlineBackend.figure_format = 'retina'"
   ]
  },
  {
   "cell_type": "markdown",
   "metadata": {},
   "source": [
    "## 크롤링한 파일 로드하기"
   ]
  },
  {
   "cell_type": "code",
   "execution_count": 3,
   "metadata": {
    "scrolled": true
   },
   "outputs": [
    {
     "data": {
      "text/plain": [
       "(2449, 1)"
      ]
     },
     "execution_count": 3,
     "metadata": {},
     "output_type": "execute_result"
    }
   ],
   "source": [
    "# df 라는 변수에 이벤트 댓글 파일을 로드합니다.\n",
    "df = pd.read_csv(\"https://bit.ly/inflearn-event-text-csv\")\n",
    "df.shape"
   ]
  },
  {
   "cell_type": "code",
   "execution_count": 4,
   "metadata": {},
   "outputs": [
    {
     "data": {
      "text/html": [
       "<div>\n",
       "<style scoped>\n",
       "    .dataframe tbody tr th:only-of-type {\n",
       "        vertical-align: middle;\n",
       "    }\n",
       "\n",
       "    .dataframe tbody tr th {\n",
       "        vertical-align: top;\n",
       "    }\n",
       "\n",
       "    .dataframe thead th {\n",
       "        text-align: right;\n",
       "    }\n",
       "</style>\n",
       "<table border=\"1\" class=\"dataframe\">\n",
       "  <thead>\n",
       "    <tr style=\"text-align: right;\">\n",
       "      <th></th>\n",
       "      <th>text</th>\n",
       "    </tr>\n",
       "  </thead>\n",
       "  <tbody>\n",
       "    <tr>\n",
       "      <th>0</th>\n",
       "      <td>2020년 목표: 스프링 열심히 공부하서 직장에서 사랑받고 싶어요!!\\n관심 있는 ...</td>\n",
       "    </tr>\n",
       "    <tr>\n",
       "      <th>1</th>\n",
       "      <td>2020년 목표: C++ 열심히 공부해서, 학교에서 꼭 A 맞기..!! \\n관심있는...</td>\n",
       "    </tr>\n",
       "    <tr>\n",
       "      <th>2</th>\n",
       "      <td>2020년 목표 : 리액트 공부하기</td>\n",
       "    </tr>\n",
       "    <tr>\n",
       "      <th>3</th>\n",
       "      <td>40대 프로그래밍 시작! : 우리를 위한 프로그래밍 : 파이썬 중급</td>\n",
       "    </tr>\n",
       "    <tr>\n",
       "      <th>4</th>\n",
       "      <td>2020년 목표 : 돌머리 비전공자가 멋진 전공자 되기!</td>\n",
       "    </tr>\n",
       "  </tbody>\n",
       "</table>\n",
       "</div>"
      ],
      "text/plain": [
       "                                                text\n",
       "0  2020년 목표: 스프링 열심히 공부하서 직장에서 사랑받고 싶어요!!\\n관심 있는 ...\n",
       "1  2020년 목표: C++ 열심히 공부해서, 학교에서 꼭 A 맞기..!! \\n관심있는...\n",
       "2                                2020년 목표 : 리액트 공부하기\n",
       "3              40대 프로그래밍 시작! : 우리를 위한 프로그래밍 : 파이썬 중급\n",
       "4                    2020년 목표 : 돌머리 비전공자가 멋진 전공자 되기!"
      ]
     },
     "execution_count": 4,
     "metadata": {},
     "output_type": "execute_result"
    }
   ],
   "source": [
    "# head 로 미리보기 합니다.\n",
    "df.head()"
   ]
  },
  {
   "cell_type": "code",
   "execution_count": 5,
   "metadata": {},
   "outputs": [
    {
     "data": {
      "text/html": [
       "<div>\n",
       "<style scoped>\n",
       "    .dataframe tbody tr th:only-of-type {\n",
       "        vertical-align: middle;\n",
       "    }\n",
       "\n",
       "    .dataframe tbody tr th {\n",
       "        vertical-align: top;\n",
       "    }\n",
       "\n",
       "    .dataframe thead th {\n",
       "        text-align: right;\n",
       "    }\n",
       "</style>\n",
       "<table border=\"1\" class=\"dataframe\">\n",
       "  <thead>\n",
       "    <tr style=\"text-align: right;\">\n",
       "      <th></th>\n",
       "      <th>text</th>\n",
       "    </tr>\n",
       "  </thead>\n",
       "  <tbody>\n",
       "    <tr>\n",
       "      <th>2444</th>\n",
       "      <td>작년 한해도 일이 바쁘다, 야근해서 힘들다는 핑계로 ***님의 JPA 강의를 또 스...</td>\n",
       "    </tr>\n",
       "    <tr>\n",
       "      <th>2445</th>\n",
       "      <td>저는 졸업을 1년 남기고 있는 컴퓨터공학과 학생입니다. 졸업 프로젝트로 웹/앱 개발...</td>\n",
       "    </tr>\n",
       "    <tr>\n",
       "      <th>2446</th>\n",
       "      <td>에프터 이펙트를 써본 적은 있는데, 매번 기초만 배우다 말았어요. 이걸 할 줄 안다...</td>\n",
       "    </tr>\n",
       "    <tr>\n",
       "      <th>2447</th>\n",
       "      <td>저번에 인프런에서 페이스북 마케팅 강의를 듣고 많은 도움을 받았습니다. 마케팅 업무...</td>\n",
       "    </tr>\n",
       "    <tr>\n",
       "      <th>2448</th>\n",
       "      <td>인프런 0호 팀원이에요!\\n그동안 서비스 개발 때문에 js 를 많이 했었는데 앞으론...</td>\n",
       "    </tr>\n",
       "  </tbody>\n",
       "</table>\n",
       "</div>"
      ],
      "text/plain": [
       "                                                   text\n",
       "2444  작년 한해도 일이 바쁘다, 야근해서 힘들다는 핑계로 ***님의 JPA 강의를 또 스...\n",
       "2445  저는 졸업을 1년 남기고 있는 컴퓨터공학과 학생입니다. 졸업 프로젝트로 웹/앱 개발...\n",
       "2446  에프터 이펙트를 써본 적은 있는데, 매번 기초만 배우다 말았어요. 이걸 할 줄 안다...\n",
       "2447  저번에 인프런에서 페이스북 마케팅 강의를 듣고 많은 도움을 받았습니다. 마케팅 업무...\n",
       "2448  인프런 0호 팀원이에요!\\n그동안 서비스 개발 때문에 js 를 많이 했었는데 앞으론..."
      ]
     },
     "execution_count": 5,
     "metadata": {},
     "output_type": "execute_result"
    }
   ],
   "source": [
    "# tail 로 미리보기 합니다.\n",
    "df.tail()"
   ]
  },
  {
   "cell_type": "markdown",
   "metadata": {},
   "source": [
    "## 데이터 전처리"
   ]
  },
  {
   "cell_type": "markdown",
   "metadata": {},
   "source": [
    "### 네트워크 오류 등으로 발생한 중복 입력 값을 제거\n",
    "* 빈도 수 중복을 방지하기 위해"
   ]
  },
  {
   "cell_type": "code",
   "execution_count": 6,
   "metadata": {},
   "outputs": [
    {
     "name": "stdout",
     "output_type": "stream",
     "text": [
      "(2449, 1)\n",
      "(2410, 1)\n"
     ]
    }
   ],
   "source": [
    "# drop_duplicates 를 통해 중복을 제거합니다. 이때 마지막 글을 남깁니다.\n",
    "print(df.shape)\n",
    "df = df.drop_duplicates([\"text\"], keep=\"last\")\n",
    "print(df.shape)"
   ]
  },
  {
   "cell_type": "markdown",
   "metadata": {},
   "source": [
    "### 원본은 따로 보존"
   ]
  },
  {
   "cell_type": "code",
   "execution_count": 7,
   "metadata": {},
   "outputs": [
    {
     "data": {
      "text/html": [
       "<div>\n",
       "<style scoped>\n",
       "    .dataframe tbody tr th:only-of-type {\n",
       "        vertical-align: middle;\n",
       "    }\n",
       "\n",
       "    .dataframe tbody tr th {\n",
       "        vertical-align: top;\n",
       "    }\n",
       "\n",
       "    .dataframe thead th {\n",
       "        text-align: right;\n",
       "    }\n",
       "</style>\n",
       "<table border=\"1\" class=\"dataframe\">\n",
       "  <thead>\n",
       "    <tr style=\"text-align: right;\">\n",
       "      <th></th>\n",
       "      <th>text</th>\n",
       "      <th>origin_text</th>\n",
       "    </tr>\n",
       "  </thead>\n",
       "  <tbody>\n",
       "    <tr>\n",
       "      <th>0</th>\n",
       "      <td>2020년 목표: 스프링 열심히 공부하서 직장에서 사랑받고 싶어요!!\\n관심 있는 ...</td>\n",
       "      <td>2020년 목표: 스프링 열심히 공부하서 직장에서 사랑받고 싶어요!!\\n관심 있는 ...</td>\n",
       "    </tr>\n",
       "    <tr>\n",
       "      <th>1</th>\n",
       "      <td>2020년 목표: C++ 열심히 공부해서, 학교에서 꼭 A 맞기..!! \\n관심있는...</td>\n",
       "      <td>2020년 목표: C++ 열심히 공부해서, 학교에서 꼭 A 맞기..!! \\n관심있는...</td>\n",
       "    </tr>\n",
       "    <tr>\n",
       "      <th>3</th>\n",
       "      <td>40대 프로그래밍 시작! : 우리를 위한 프로그래밍 : 파이썬 중급</td>\n",
       "      <td>40대 프로그래밍 시작! : 우리를 위한 프로그래밍 : 파이썬 중급</td>\n",
       "    </tr>\n",
       "    <tr>\n",
       "      <th>4</th>\n",
       "      <td>2020년 목표 : 돌머리 비전공자가 멋진 전공자 되기!</td>\n",
       "      <td>2020년 목표 : 돌머리 비전공자가 멋진 전공자 되기!</td>\n",
       "    </tr>\n",
       "    <tr>\n",
       "      <th>5</th>\n",
       "      <td>2020 년목표: 비전공자(경영)가 전공자(it) 되기!!!</td>\n",
       "      <td>2020 년목표: 비전공자(경영)가 전공자(it) 되기!!!</td>\n",
       "    </tr>\n",
       "  </tbody>\n",
       "</table>\n",
       "</div>"
      ],
      "text/plain": [
       "                                                text  \\\n",
       "0  2020년 목표: 스프링 열심히 공부하서 직장에서 사랑받고 싶어요!!\\n관심 있는 ...   \n",
       "1  2020년 목표: C++ 열심히 공부해서, 학교에서 꼭 A 맞기..!! \\n관심있는...   \n",
       "3              40대 프로그래밍 시작! : 우리를 위한 프로그래밍 : 파이썬 중급   \n",
       "4                    2020년 목표 : 돌머리 비전공자가 멋진 전공자 되기!   \n",
       "5                  2020 년목표: 비전공자(경영)가 전공자(it) 되기!!!   \n",
       "\n",
       "                                         origin_text  \n",
       "0  2020년 목표: 스프링 열심히 공부하서 직장에서 사랑받고 싶어요!!\\n관심 있는 ...  \n",
       "1  2020년 목표: C++ 열심히 공부해서, 학교에서 꼭 A 맞기..!! \\n관심있는...  \n",
       "3              40대 프로그래밍 시작! : 우리를 위한 프로그래밍 : 파이썬 중급  \n",
       "4                    2020년 목표 : 돌머리 비전공자가 멋진 전공자 되기!  \n",
       "5                  2020 년목표: 비전공자(경영)가 전공자(it) 되기!!!  "
      ]
     },
     "execution_count": 7,
     "metadata": {},
     "output_type": "execute_result"
    }
   ],
   "source": [
    "# 전처리 전에 원본을 보존하기 위해 origin_text 라는 컬럼에 복사해 둡니다.\n",
    "df[\"origin_text\"] = df[\"text\"]\n",
    "df.head()"
   ]
  },
  {
   "cell_type": "markdown",
   "metadata": {},
   "source": [
    "### 소문자 변환"
   ]
  },
  {
   "cell_type": "code",
   "execution_count": 8,
   "metadata": {},
   "outputs": [],
   "source": [
    "# \"text\" 파이썬은 대소문자를 구분하기 때문에 데이터 필터링을 위해 대문자를 모두 소문자로 변경\n",
    "df[\"text\"] = df[\"text\"].str.lower()"
   ]
  },
  {
   "cell_type": "code",
   "execution_count": 9,
   "metadata": {
    "scrolled": true
   },
   "outputs": [],
   "source": [
    "# 같은 의미의 단어를 하나로 통일 예) python => 파이썬\n",
    "# replace 는 텍스트가 완전히 일치될 때만 사용할 수 있습니다.\n",
    "# 일부만 일치한다면 str.replace 를 사용하면 원하는 텍스트로 변경이 가능합니다.\n",
    "df[\"text\"] = df[\"text\"].str.replace(\n",
    "    \"python\", \"파이썬\").str.replace(\n",
    "    \"pandas\", \"판다스\").str.replace(\n",
    "    \"javascript\", \"자바스크립트\").str.replace(\n",
    "    \"java\", \"자바\").str.replace(\n",
    "    \"react\", \"리액트\")"
   ]
  },
  {
   "cell_type": "markdown",
   "metadata": {},
   "source": [
    "### 텍스트로 관심 강의 분리"
   ]
  },
  {
   "cell_type": "code",
   "execution_count": 10,
   "metadata": {
    "scrolled": true
   },
   "outputs": [
    {
     "data": {
      "text/plain": [
       "0    2020년 목표 스프링 열심히 공부하서 직장에서 사랑받고 싶어요!!\\n관심 있는 강...\n",
       "1    2020년 목표 c++ 열심히 공부해서, 학교에서 꼭 a 맞기..!! \\n관심있는 ...\n",
       "3                  40대 프로그래밍 시작!  우리를 위한 프로그래밍  파이썬 중급\n",
       "4                       2020년 목표  돌머리 비전공자가 멋진 전공자 되기!\n",
       "5                     2020 년목표 비전공자(경영)가 전공자(it) 되기!!!\n",
       "Name: course, dtype: object"
      ]
     },
     "execution_count": 10,
     "metadata": {},
     "output_type": "execute_result"
    }
   ],
   "source": [
    "# 이 이벤트에는 \"관심강의\"라는 텍스트가 있습니다.\n",
    "# \"관심강의\"를 기준으로 텍스트를 분리하고 관심강의 뒤에 있는 텍스트를 가져옵니다.\n",
    "# 대부분 \"관심강의\"라는 텍스트를 쓰고 뒤에 강의명을 쓰기 때문입니다.\n",
    "# 전처리한 내용은 실수를 방지하기 위해 \"course\" 라는 새로운 컬럼에 담습니다.\n",
    "# \"관심 강의\", \"관심 강좌\" 에 대해서도 똑같이 전처리 합니다.\n",
    "# \":\" 특수문자를 빈문자로 바꿔줍니다.\n",
    "\n",
    "df[\"course\"] = df[\"text\"].apply(lambda x: x.split(\"관심강의\")[-1])\n",
    "df[\"course\"] = df[\"course\"].apply(lambda x: x.split(\"관심 강의\")[-1])\n",
    "df[\"course\"] = df[\"course\"].apply(lambda x: x.split(\"관심 강좌\")[-1])\n",
    "df[\"course\"] = df[\"course\"].str.replace(\":\", \"\")\n",
    "df[\"course\"].head()"
   ]
  },
  {
   "cell_type": "code",
   "execution_count": 11,
   "metadata": {},
   "outputs": [
    {
     "data": {
      "text/html": [
       "<div>\n",
       "<style scoped>\n",
       "    .dataframe tbody tr th:only-of-type {\n",
       "        vertical-align: middle;\n",
       "    }\n",
       "\n",
       "    .dataframe tbody tr th {\n",
       "        vertical-align: top;\n",
       "    }\n",
       "\n",
       "    .dataframe thead th {\n",
       "        text-align: right;\n",
       "    }\n",
       "</style>\n",
       "<table border=\"1\" class=\"dataframe\">\n",
       "  <thead>\n",
       "    <tr style=\"text-align: right;\">\n",
       "      <th></th>\n",
       "      <th>text</th>\n",
       "      <th>course</th>\n",
       "    </tr>\n",
       "  </thead>\n",
       "  <tbody>\n",
       "    <tr>\n",
       "      <th>0</th>\n",
       "      <td>2020년 목표: 스프링 열심히 공부하서 직장에서 사랑받고 싶어요!!\\n관심 있는 ...</td>\n",
       "      <td>2020년 목표 스프링 열심히 공부하서 직장에서 사랑받고 싶어요!!\\n관심 있는 강...</td>\n",
       "    </tr>\n",
       "    <tr>\n",
       "      <th>1</th>\n",
       "      <td>2020년 목표: c++ 열심히 공부해서, 학교에서 꼭 a 맞기..!! \\n관심있는...</td>\n",
       "      <td>2020년 목표 c++ 열심히 공부해서, 학교에서 꼭 a 맞기..!! \\n관심있는 ...</td>\n",
       "    </tr>\n",
       "    <tr>\n",
       "      <th>3</th>\n",
       "      <td>40대 프로그래밍 시작! : 우리를 위한 프로그래밍 : 파이썬 중급</td>\n",
       "      <td>40대 프로그래밍 시작!  우리를 위한 프로그래밍  파이썬 중급</td>\n",
       "    </tr>\n",
       "    <tr>\n",
       "      <th>4</th>\n",
       "      <td>2020년 목표 : 돌머리 비전공자가 멋진 전공자 되기!</td>\n",
       "      <td>2020년 목표  돌머리 비전공자가 멋진 전공자 되기!</td>\n",
       "    </tr>\n",
       "    <tr>\n",
       "      <th>5</th>\n",
       "      <td>2020 년목표: 비전공자(경영)가 전공자(it) 되기!!!</td>\n",
       "      <td>2020 년목표 비전공자(경영)가 전공자(it) 되기!!!</td>\n",
       "    </tr>\n",
       "  </tbody>\n",
       "</table>\n",
       "</div>"
      ],
      "text/plain": [
       "                                                text  \\\n",
       "0  2020년 목표: 스프링 열심히 공부하서 직장에서 사랑받고 싶어요!!\\n관심 있는 ...   \n",
       "1  2020년 목표: c++ 열심히 공부해서, 학교에서 꼭 a 맞기..!! \\n관심있는...   \n",
       "3              40대 프로그래밍 시작! : 우리를 위한 프로그래밍 : 파이썬 중급   \n",
       "4                    2020년 목표 : 돌머리 비전공자가 멋진 전공자 되기!   \n",
       "5                  2020 년목표: 비전공자(경영)가 전공자(it) 되기!!!   \n",
       "\n",
       "                                              course  \n",
       "0  2020년 목표 스프링 열심히 공부하서 직장에서 사랑받고 싶어요!!\\n관심 있는 강...  \n",
       "1  2020년 목표 c++ 열심히 공부해서, 학교에서 꼭 a 맞기..!! \\n관심있는 ...  \n",
       "3                40대 프로그래밍 시작!  우리를 위한 프로그래밍  파이썬 중급  \n",
       "4                     2020년 목표  돌머리 비전공자가 멋진 전공자 되기!  \n",
       "5                   2020 년목표 비전공자(경영)가 전공자(it) 되기!!!  "
      ]
     },
     "execution_count": 11,
     "metadata": {},
     "output_type": "execute_result"
    }
   ],
   "source": [
    "# \"text\", \"course\" 전처리 내용 미리보기\n",
    "df[[\"text\", \"course\"]].head()"
   ]
  },
  {
   "cell_type": "markdown",
   "metadata": {},
   "source": [
    "## 띄어 쓰기를 제거한 텍스트에서 키워드 추출\n",
    "* TIOBE 프로그래밍 언어 순위 : [index | TIOBE - The Software Quality Company](https://www.tiobe.com/tiobe-index/?fbclid=IwAR34dJfgDHq2DK0C6X3g8IsUno2NhOiikMyxT6fw9SoyujFhy5FPvQogMoA)"
   ]
  },
  {
   "cell_type": "code",
   "execution_count": 12,
   "metadata": {},
   "outputs": [],
   "source": [
    "# 특정 키워드가 들어가는 댓글을 찾습니다.\n",
    "search_keyword = ['머신러닝', '딥러닝', '파이썬', '판다스', '공공데이터',\n",
    "                  'django', '크롤링', '시각화', '데이터분석', \n",
    "                  '웹개발', '엑셀', 'c', '자바', '자바스크립트', \n",
    "                  'node', 'vue', '리액트']\n",
    "\n",
    "# for 문을 통해 해당 키워드가 있는지 여부를 True, False값으로 표시하도록 합니다.\n",
    "# 키워드에 따라 컬럼을 새로 만듭니다.\n",
    "for keyword in search_keyword:\n",
    "    df[keyword] = df[\"course\"].str.contains(keyword)"
   ]
  },
  {
   "cell_type": "code",
   "execution_count": 13,
   "metadata": {},
   "outputs": [
    {
     "data": {
      "text/html": [
       "<div>\n",
       "<style scoped>\n",
       "    .dataframe tbody tr th:only-of-type {\n",
       "        vertical-align: middle;\n",
       "    }\n",
       "\n",
       "    .dataframe tbody tr th {\n",
       "        vertical-align: top;\n",
       "    }\n",
       "\n",
       "    .dataframe thead th {\n",
       "        text-align: right;\n",
       "    }\n",
       "</style>\n",
       "<table border=\"1\" class=\"dataframe\">\n",
       "  <thead>\n",
       "    <tr style=\"text-align: right;\">\n",
       "      <th></th>\n",
       "      <th>text</th>\n",
       "      <th>origin_text</th>\n",
       "      <th>course</th>\n",
       "      <th>머신러닝</th>\n",
       "      <th>딥러닝</th>\n",
       "      <th>파이썬</th>\n",
       "      <th>판다스</th>\n",
       "      <th>공공데이터</th>\n",
       "      <th>django</th>\n",
       "      <th>크롤링</th>\n",
       "      <th>시각화</th>\n",
       "      <th>데이터분석</th>\n",
       "      <th>웹개발</th>\n",
       "      <th>엑셀</th>\n",
       "      <th>c</th>\n",
       "      <th>자바</th>\n",
       "      <th>자바스크립트</th>\n",
       "      <th>node</th>\n",
       "      <th>vue</th>\n",
       "      <th>리액트</th>\n",
       "    </tr>\n",
       "  </thead>\n",
       "  <tbody>\n",
       "    <tr>\n",
       "      <th>0</th>\n",
       "      <td>2020년 목표: 스프링 열심히 공부하서 직장에서 사랑받고 싶어요!!\\n관심 있는 ...</td>\n",
       "      <td>2020년 목표: 스프링 열심히 공부하서 직장에서 사랑받고 싶어요!!\\n관심 있는 ...</td>\n",
       "      <td>2020년 목표 스프링 열심히 공부하서 직장에서 사랑받고 싶어요!!\\n관심 있는 강...</td>\n",
       "      <td>False</td>\n",
       "      <td>False</td>\n",
       "      <td>False</td>\n",
       "      <td>False</td>\n",
       "      <td>False</td>\n",
       "      <td>False</td>\n",
       "      <td>False</td>\n",
       "      <td>False</td>\n",
       "      <td>False</td>\n",
       "      <td>False</td>\n",
       "      <td>False</td>\n",
       "      <td>True</td>\n",
       "      <td>False</td>\n",
       "      <td>False</td>\n",
       "      <td>False</td>\n",
       "      <td>False</td>\n",
       "      <td>False</td>\n",
       "    </tr>\n",
       "    <tr>\n",
       "      <th>1</th>\n",
       "      <td>2020년 목표: c++ 열심히 공부해서, 학교에서 꼭 a 맞기..!! \\n관심있는...</td>\n",
       "      <td>2020년 목표: C++ 열심히 공부해서, 학교에서 꼭 A 맞기..!! \\n관심있는...</td>\n",
       "      <td>2020년 목표 c++ 열심히 공부해서, 학교에서 꼭 a 맞기..!! \\n관심있는 ...</td>\n",
       "      <td>False</td>\n",
       "      <td>False</td>\n",
       "      <td>False</td>\n",
       "      <td>False</td>\n",
       "      <td>False</td>\n",
       "      <td>False</td>\n",
       "      <td>False</td>\n",
       "      <td>False</td>\n",
       "      <td>False</td>\n",
       "      <td>False</td>\n",
       "      <td>False</td>\n",
       "      <td>True</td>\n",
       "      <td>False</td>\n",
       "      <td>False</td>\n",
       "      <td>False</td>\n",
       "      <td>False</td>\n",
       "      <td>False</td>\n",
       "    </tr>\n",
       "    <tr>\n",
       "      <th>3</th>\n",
       "      <td>40대 프로그래밍 시작! : 우리를 위한 프로그래밍 : 파이썬 중급</td>\n",
       "      <td>40대 프로그래밍 시작! : 우리를 위한 프로그래밍 : 파이썬 중급</td>\n",
       "      <td>40대 프로그래밍 시작!  우리를 위한 프로그래밍  파이썬 중급</td>\n",
       "      <td>False</td>\n",
       "      <td>False</td>\n",
       "      <td>True</td>\n",
       "      <td>False</td>\n",
       "      <td>False</td>\n",
       "      <td>False</td>\n",
       "      <td>False</td>\n",
       "      <td>False</td>\n",
       "      <td>False</td>\n",
       "      <td>False</td>\n",
       "      <td>False</td>\n",
       "      <td>False</td>\n",
       "      <td>False</td>\n",
       "      <td>False</td>\n",
       "      <td>False</td>\n",
       "      <td>False</td>\n",
       "      <td>False</td>\n",
       "    </tr>\n",
       "    <tr>\n",
       "      <th>4</th>\n",
       "      <td>2020년 목표 : 돌머리 비전공자가 멋진 전공자 되기!</td>\n",
       "      <td>2020년 목표 : 돌머리 비전공자가 멋진 전공자 되기!</td>\n",
       "      <td>2020년 목표  돌머리 비전공자가 멋진 전공자 되기!</td>\n",
       "      <td>False</td>\n",
       "      <td>False</td>\n",
       "      <td>False</td>\n",
       "      <td>False</td>\n",
       "      <td>False</td>\n",
       "      <td>False</td>\n",
       "      <td>False</td>\n",
       "      <td>False</td>\n",
       "      <td>False</td>\n",
       "      <td>False</td>\n",
       "      <td>False</td>\n",
       "      <td>False</td>\n",
       "      <td>False</td>\n",
       "      <td>False</td>\n",
       "      <td>False</td>\n",
       "      <td>False</td>\n",
       "      <td>False</td>\n",
       "    </tr>\n",
       "    <tr>\n",
       "      <th>5</th>\n",
       "      <td>2020 년목표: 비전공자(경영)가 전공자(it) 되기!!!</td>\n",
       "      <td>2020 년목표: 비전공자(경영)가 전공자(it) 되기!!!</td>\n",
       "      <td>2020 년목표 비전공자(경영)가 전공자(it) 되기!!!</td>\n",
       "      <td>False</td>\n",
       "      <td>False</td>\n",
       "      <td>False</td>\n",
       "      <td>False</td>\n",
       "      <td>False</td>\n",
       "      <td>False</td>\n",
       "      <td>False</td>\n",
       "      <td>False</td>\n",
       "      <td>False</td>\n",
       "      <td>False</td>\n",
       "      <td>False</td>\n",
       "      <td>False</td>\n",
       "      <td>False</td>\n",
       "      <td>False</td>\n",
       "      <td>False</td>\n",
       "      <td>False</td>\n",
       "      <td>False</td>\n",
       "    </tr>\n",
       "  </tbody>\n",
       "</table>\n",
       "</div>"
      ],
      "text/plain": [
       "                                                text  \\\n",
       "0  2020년 목표: 스프링 열심히 공부하서 직장에서 사랑받고 싶어요!!\\n관심 있는 ...   \n",
       "1  2020년 목표: c++ 열심히 공부해서, 학교에서 꼭 a 맞기..!! \\n관심있는...   \n",
       "3              40대 프로그래밍 시작! : 우리를 위한 프로그래밍 : 파이썬 중급   \n",
       "4                    2020년 목표 : 돌머리 비전공자가 멋진 전공자 되기!   \n",
       "5                  2020 년목표: 비전공자(경영)가 전공자(it) 되기!!!   \n",
       "\n",
       "                                         origin_text  \\\n",
       "0  2020년 목표: 스프링 열심히 공부하서 직장에서 사랑받고 싶어요!!\\n관심 있는 ...   \n",
       "1  2020년 목표: C++ 열심히 공부해서, 학교에서 꼭 A 맞기..!! \\n관심있는...   \n",
       "3              40대 프로그래밍 시작! : 우리를 위한 프로그래밍 : 파이썬 중급   \n",
       "4                    2020년 목표 : 돌머리 비전공자가 멋진 전공자 되기!   \n",
       "5                  2020 년목표: 비전공자(경영)가 전공자(it) 되기!!!   \n",
       "\n",
       "                                              course   머신러닝    딥러닝    파이썬  \\\n",
       "0  2020년 목표 스프링 열심히 공부하서 직장에서 사랑받고 싶어요!!\\n관심 있는 강...  False  False  False   \n",
       "1  2020년 목표 c++ 열심히 공부해서, 학교에서 꼭 a 맞기..!! \\n관심있는 ...  False  False  False   \n",
       "3                40대 프로그래밍 시작!  우리를 위한 프로그래밍  파이썬 중급  False  False   True   \n",
       "4                     2020년 목표  돌머리 비전공자가 멋진 전공자 되기!  False  False  False   \n",
       "5                   2020 년목표 비전공자(경영)가 전공자(it) 되기!!!  False  False  False   \n",
       "\n",
       "     판다스  공공데이터  django    크롤링    시각화  데이터분석    웹개발     엑셀      c     자바  \\\n",
       "0  False  False   False  False  False  False  False  False   True  False   \n",
       "1  False  False   False  False  False  False  False  False   True  False   \n",
       "3  False  False   False  False  False  False  False  False  False  False   \n",
       "4  False  False   False  False  False  False  False  False  False  False   \n",
       "5  False  False   False  False  False  False  False  False  False  False   \n",
       "\n",
       "   자바스크립트   node    vue    리액트  \n",
       "0   False  False  False  False  \n",
       "1   False  False  False  False  \n",
       "3   False  False  False  False  \n",
       "4   False  False  False  False  \n",
       "5   False  False  False  False  "
      ]
     },
     "execution_count": 13,
     "metadata": {},
     "output_type": "execute_result"
    }
   ],
   "source": [
    "# 미리보기 합니다.\n",
    "df.head()"
   ]
  },
  {
   "cell_type": "code",
   "execution_count": 14,
   "metadata": {
    "scrolled": true
   },
   "outputs": [
    {
     "data": {
      "text/plain": [
       "(429, 20)"
      ]
     },
     "execution_count": 14,
     "metadata": {},
     "output_type": "execute_result"
    }
   ],
   "source": [
    "# 파이썬|공공데이터|판다스 라는 텍스트가 들어가는 데이터가 있는지 찾습니다.\n",
    "df_python = df[df[\"text\"].str.contains(\"파이썬|공공데이터|판다스\")].copy()\n",
    "df_python.shape"
   ]
  },
  {
   "cell_type": "code",
   "execution_count": 15,
   "metadata": {
    "scrolled": true
   },
   "outputs": [
    {
     "data": {
      "text/plain": [
       "c         409\n",
       "파이썬       405\n",
       "자바        341\n",
       "자바스크립트    140\n",
       "리액트       137\n",
       "머신러닝      133\n",
       "vue       132\n",
       "node      117\n",
       "크롤링        56\n",
       "딥러닝        52\n",
       "django     31\n",
       "시각화        30\n",
       "웹개발        27\n",
       "데이터분석      24\n",
       "엑셀         18\n",
       "공공데이터      12\n",
       "판다스         6\n",
       "dtype: int64"
      ]
     },
     "execution_count": 15,
     "metadata": {},
     "output_type": "execute_result"
    }
   ],
   "source": [
    "# 결과를 모두 더하면 해당 키워드의 등장 빈도수를 카운트 할 수 있습니다.\n",
    "# search_keyword 컬럼만 가져와서 빈도수를 sum으로 더합니다.\n",
    "df[search_keyword].sum().sort_values(ascending=False)"
   ]
  },
  {
   "cell_type": "code",
   "execution_count": 16,
   "metadata": {},
   "outputs": [
    {
     "name": "stdout",
     "output_type": "stream",
     "text": [
      "--------------------\n",
      "#관심강의: 프로그래밍 시작하기 : 파이썬 입문, 공공데이터로 파이썬 데이터 분석 시작하기\n",
      "파이썬의 고수가 되고싶어요\n",
      "--------------------\n",
      "자바기반 웹 개발자입니다. 데이터 분석에 많이 쓰이는 파이썬이 궁금합니다.\n",
      "#관심강의: 프로그래밍 시작하기 : 파이썬 입문, 공공데이터로 파이썬 데이터 분석 시작하기\n",
      "--------------------\n",
      "올해 안에 원하는 공부 다 끝내보려고요. 내년이면 수능이라..\n",
      "\n",
      "#관심강의: 공공데이터로 파이썬 데이터 분석 시작하기\n",
      "--------------------\n",
      "it개발자입니다. 개발을 오래 안하고 관리만 했더니 다시 개발이 너무 하고싶습니다. 올해는 인프런을 통해서 개발쪽 스킬셋을 업그레이드 하고 싶습니다!\n",
      "#관심강의: 공공데이터로 파이썬 데이터 분석 시작하기\n",
      "--------------------\n",
      "파이썬 데이터분석 마스터\n",
      "#관심강의:공공데이터로 파이썬 데이터 분석 시작하기\n",
      "--------------------\n",
      "올해 졸업하는 컴퓨터공학과 학생입니다!\n",
      "백엔드 혹은 데이터 엔지니어 쪽으로 취업하고 싶습니다!\n",
      "#관심강의: 공공데이터로 파이썬 데이터 분석 시작하기\n",
      "--------------------\n",
      "텍스트 마이닝만 수강한 뒤 현재 맡은 마케팅 업무 능률이 엄청나게 올라가는 것을 확인했으며 승진과 고가에 엄청나게 득을 보았습니다 감사합니다! 앞으로도 인프런 애용하겠습니다.\n",
      "추가적으로 해 *** 강사님의 [공공데이터로 파이썬 데이터 분석 시작하기] 강의를 듣고 상권분석과 공공데이터 활용 역량을 올릴 예정입니다. 화이팅!!!\n",
      "#관심강의 : 공공데이터로 파이썬 데이터 분석 시작하기\n",
      "--------------------\n",
      "데이터분석 2년차가 되는데 작년에 파이썬 강의를 담아놓고 그대로 1년간 방치... 올해는 꼭 완강하고 실습해서 개발자에게 의존하지 않고 혼자 크롤링&분석 해내고 싶어요! \n",
      "#관심강의: 공공데이터로 파이썬 데이터분석 시작하기, database 1&2 - mysql\n",
      "--------------------\n",
      "2020년에는 데이터 분석쪽으로 이직하고 싶어요! 인프런 강의 듣고 이직에 성공하고 싶습니다!!\n",
      "#관심강의: 공공데이터로 파이썬 데이터 분석 시작하기\n",
      "--------------------\n",
      "경영학과 졸업생입니다. 새해엔 엑셀! 파이썬! 취직! 해내겠습니다. 좋은 강의, 커리큘럼이 있는 인프런 너무 감사합니다 ~^^\n",
      "#관심강의: 공공데이터로 분석하기\n",
      "--------------------\n",
      "인프런으로 파이썬 기초문법부터 입문했어요! 실무 데이터분석에 활용할 수 있는 수준으로 실력을 올리고 싶습니다:)\n",
      "#관심강의: 공공데이터로 파이썬 데이터 분석 시작하기\n",
      "--------------------\n",
      "나만의 프로젝트 하나 완성할 수 있을 정도의 지식 쌓기!\n",
      "#관심강의:공공데이터로 파이썬 데이터 분석 시작하기\n"
     ]
    }
   ],
   "source": [
    "# 공공데이터 텍스트가 들어가는 문장만 찾습니다.\n",
    "# pandas 를 통해 볼때 문장이 길면 끝까지 보이지 않습니다.\n",
    "# 문장의 전체를 보기 위해 for문을 통해 해당 텍스트를 순회하며 출력합니다.\n",
    "# 이 때, 데이터 사이에 ------ 줄로 구분해서 표시하도록 합니다.\n",
    "text = df.loc[(df[\"공공데이터\"] == True), \"text\"]\n",
    "for t in text:\n",
    "    print(\"-\"*20)\n",
    "    print(t)"
   ]
  },
  {
   "cell_type": "markdown",
   "metadata": {},
   "source": [
    "## 판다스 단어가 들어가는 텍스트만 찾기\n",
    "* 이미 str.contains 를 통해 판다스가 들어가는 텍스트에 대해 컬럼을 만들어 놨습니다. 이 값이  True 라면 판다스 강좌 입니다."
   ]
  },
  {
   "cell_type": "code",
   "execution_count": 17,
   "metadata": {
    "scrolled": true
   },
   "outputs": [
    {
     "data": {
      "text/plain": [
       "541     2020년에는 데이터분석 관련한 실력을 쌓고싶습니다!\\n#관심강의 : 파이썬, 판다...\n",
       "690     취미로 안드로이드 개발하는 사람입니다. 자바로 작성하다 보니, kotlin이 안드로...\n",
       "758            판다스 라입러리에 관심이 많아서 배워보려 합니다 #관심강의 : *** 판다스\n",
       "1237      2020년!! 올 해는 빅데이터 분석 전문가 되기!!\\n#관심강의 : 파이썬, 판다스\n",
       "2155    2020년 목표  파이썬 을  활용해  데이터 분석 작업을 진행하고 싶습니다.  관...\n",
       "2365    저는 백세시대에 조금 더 오랫동안 it일을 하기위해서 it전략기획에서 데이터분석가로...\n",
       "Name: text, dtype: object"
      ]
     },
     "execution_count": 17,
     "metadata": {},
     "output_type": "execute_result"
    }
   ],
   "source": [
    "# pandas 라는 텍스트가 들어가는 내용만 찾습니다.\n",
    "\n",
    "df.loc[df[\"판다스\"] == True, \"text\"]"
   ]
  },
  {
   "cell_type": "markdown",
   "metadata": {},
   "source": [
    "## 빈도수 계산을 위한 텍스트 데이터 벡터화\n",
    "* BOW 단어 가방에 단어를 토큰화 해서 담아줌"
   ]
  },
  {
   "cell_type": "code",
   "execution_count": 18,
   "metadata": {},
   "outputs": [
    {
     "data": {
      "text/plain": [
       "['파이썬', '데이터', '분석']"
      ]
     },
     "execution_count": 18,
     "metadata": {},
     "output_type": "execute_result"
    }
   ],
   "source": [
    "# \"파이썬 데이터 분석\" 이라는 텍스트를 토큰화 split 을 통해 해봅니다.\n",
    "\"파이썬 데이터 분석\".split()"
   ]
  },
  {
   "cell_type": "code",
   "execution_count": 19,
   "metadata": {},
   "outputs": [
    {
     "data": {
      "text/plain": [
       "CountVectorizer(max_features=2000, min_df=2, ngram_range=(3, 6))"
      ]
     },
     "execution_count": 19,
     "metadata": {},
     "output_type": "execute_result"
    }
   ],
   "source": [
    "# 사이킷런의 CountVectorizer 를 통해 벡터화 합니다.\n",
    "# vectorizer 라는 변수에 CountVectorizer 를 담습니다.\n",
    "from sklearn.feature_extraction.text import CountVectorizer\n",
    "\n",
    "vectorizer = CountVectorizer(analyzer = 'word', # 캐릭터 단위로 벡터화 할 수도 있습니다.\n",
    "                             tokenizer = None, # 토크나이저를 따로 지정해 줄 수도 있습니다.\n",
    "                             preprocessor = None, # 전처리 도구\n",
    "                             stop_words = None, # 불용어 nltk등의 도구를 사용할 수도 있습니다.\n",
    "                             min_df = 2, # 토큰이 나타날 최소 문서 개수로 오타나 자주 나오지 않는 특수한 전문용어 제거에 좋습니다. \n",
    "                             ngram_range=(3, 6), # BOW의 단위 갯수의 범위를 지정합니다.\n",
    "                             max_features = 2000 # 만들 피처의 수, 단어의 수\n",
    "                            )\n",
    "vectorizer"
   ]
  },
  {
   "cell_type": "code",
   "execution_count": 20,
   "metadata": {},
   "outputs": [
    {
     "data": {
      "text/plain": [
       "(2410, 2000)"
      ]
     },
     "execution_count": 20,
     "metadata": {},
     "output_type": "execute_result"
    }
   ],
   "source": [
    "# df['course'] 만 벡터화 합니다.\n",
    "feature_vector = vectorizer.fit_transform(df['course'])\n",
    "feature_vector.shape"
   ]
  },
  {
   "cell_type": "code",
   "execution_count": 21,
   "metadata": {},
   "outputs": [
    {
     "name": "stdout",
     "output_type": "stream",
     "text": [
      "2000\n"
     ]
    },
    {
     "data": {
      "text/plain": [
       "array(['12개 만들면서 배우는', '12개 만들면서 배우는 ios', '12개 만들면서 배우는 ios 아이폰',\n",
       "       '12개 만들면서 배우는 ios 아이폰 개발', '12개를 만들며 배우는', '12개를 만들며 배우는 swift4',\n",
       "       '12개를 만들며 배우는 swift4 ios11', '12개를 만들며 배우는 swift4 ios11 아이폰',\n",
       "       '2018 do it', '2018 do it 안드로이드'], dtype=object)"
      ]
     },
     "execution_count": 21,
     "metadata": {},
     "output_type": "execute_result"
    }
   ],
   "source": [
    "# vectorizer 에서 get_feature_names 를 추출합니다.\n",
    "vocab = vectorizer.get_feature_names_out()\n",
    "print(len(vocab))\n",
    "vocab[:10]"
   ]
  },
  {
   "cell_type": "code",
   "execution_count": 22,
   "metadata": {},
   "outputs": [
    {
     "data": {
      "text/html": [
       "<div>\n",
       "<style scoped>\n",
       "    .dataframe tbody tr th:only-of-type {\n",
       "        vertical-align: middle;\n",
       "    }\n",
       "\n",
       "    .dataframe tbody tr th {\n",
       "        vertical-align: top;\n",
       "    }\n",
       "\n",
       "    .dataframe thead th {\n",
       "        text-align: right;\n",
       "    }\n",
       "</style>\n",
       "<table border=\"1\" class=\"dataframe\">\n",
       "  <thead>\n",
       "    <tr style=\"text-align: right;\">\n",
       "      <th></th>\n",
       "      <th>12개 만들면서 배우는</th>\n",
       "      <th>12개 만들면서 배우는 ios</th>\n",
       "      <th>12개 만들면서 배우는 ios 아이폰</th>\n",
       "      <th>12개 만들면서 배우는 ios 아이폰 개발</th>\n",
       "      <th>12개를 만들며 배우는</th>\n",
       "      <th>12개를 만들며 배우는 swift4</th>\n",
       "      <th>12개를 만들며 배우는 swift4 ios11</th>\n",
       "      <th>12개를 만들며 배우는 swift4 ios11 아이폰</th>\n",
       "      <th>2018 do it</th>\n",
       "      <th>2018 do it 안드로이드</th>\n",
       "      <th>...</th>\n",
       "      <th>활용2 api 개발과 성능 최적화</th>\n",
       "      <th>활용한 다양한 자동화</th>\n",
       "      <th>활용한 다양한 자동화 어플리케이션</th>\n",
       "      <th>활용한 다양한 자동화 어플리케이션 제작하기</th>\n",
       "      <th>활용한 데이터분석과 it보안</th>\n",
       "      <th>활용한 리액트 native</th>\n",
       "      <th>활용한 리액트 native 개발</th>\n",
       "      <th>활용한 메신져 만들기</th>\n",
       "      <th>활용한 메신져 만들기 android</th>\n",
       "      <th>활용한 파이썬 프로그래밍</th>\n",
       "    </tr>\n",
       "  </thead>\n",
       "  <tbody>\n",
       "    <tr>\n",
       "      <th>0</th>\n",
       "      <td>0</td>\n",
       "      <td>0</td>\n",
       "      <td>0</td>\n",
       "      <td>0</td>\n",
       "      <td>0</td>\n",
       "      <td>0</td>\n",
       "      <td>0</td>\n",
       "      <td>0</td>\n",
       "      <td>0</td>\n",
       "      <td>0</td>\n",
       "      <td>...</td>\n",
       "      <td>0</td>\n",
       "      <td>0</td>\n",
       "      <td>0</td>\n",
       "      <td>0</td>\n",
       "      <td>0</td>\n",
       "      <td>0</td>\n",
       "      <td>0</td>\n",
       "      <td>0</td>\n",
       "      <td>0</td>\n",
       "      <td>0</td>\n",
       "    </tr>\n",
       "    <tr>\n",
       "      <th>1</th>\n",
       "      <td>0</td>\n",
       "      <td>0</td>\n",
       "      <td>0</td>\n",
       "      <td>0</td>\n",
       "      <td>0</td>\n",
       "      <td>0</td>\n",
       "      <td>0</td>\n",
       "      <td>0</td>\n",
       "      <td>0</td>\n",
       "      <td>0</td>\n",
       "      <td>...</td>\n",
       "      <td>0</td>\n",
       "      <td>0</td>\n",
       "      <td>0</td>\n",
       "      <td>0</td>\n",
       "      <td>0</td>\n",
       "      <td>0</td>\n",
       "      <td>0</td>\n",
       "      <td>0</td>\n",
       "      <td>0</td>\n",
       "      <td>0</td>\n",
       "    </tr>\n",
       "    <tr>\n",
       "      <th>2</th>\n",
       "      <td>0</td>\n",
       "      <td>0</td>\n",
       "      <td>0</td>\n",
       "      <td>0</td>\n",
       "      <td>0</td>\n",
       "      <td>0</td>\n",
       "      <td>0</td>\n",
       "      <td>0</td>\n",
       "      <td>0</td>\n",
       "      <td>0</td>\n",
       "      <td>...</td>\n",
       "      <td>0</td>\n",
       "      <td>0</td>\n",
       "      <td>0</td>\n",
       "      <td>0</td>\n",
       "      <td>0</td>\n",
       "      <td>0</td>\n",
       "      <td>0</td>\n",
       "      <td>0</td>\n",
       "      <td>0</td>\n",
       "      <td>0</td>\n",
       "    </tr>\n",
       "    <tr>\n",
       "      <th>3</th>\n",
       "      <td>0</td>\n",
       "      <td>0</td>\n",
       "      <td>0</td>\n",
       "      <td>0</td>\n",
       "      <td>0</td>\n",
       "      <td>0</td>\n",
       "      <td>0</td>\n",
       "      <td>0</td>\n",
       "      <td>0</td>\n",
       "      <td>0</td>\n",
       "      <td>...</td>\n",
       "      <td>0</td>\n",
       "      <td>0</td>\n",
       "      <td>0</td>\n",
       "      <td>0</td>\n",
       "      <td>0</td>\n",
       "      <td>0</td>\n",
       "      <td>0</td>\n",
       "      <td>0</td>\n",
       "      <td>0</td>\n",
       "      <td>0</td>\n",
       "    </tr>\n",
       "    <tr>\n",
       "      <th>4</th>\n",
       "      <td>0</td>\n",
       "      <td>0</td>\n",
       "      <td>0</td>\n",
       "      <td>0</td>\n",
       "      <td>0</td>\n",
       "      <td>0</td>\n",
       "      <td>0</td>\n",
       "      <td>0</td>\n",
       "      <td>0</td>\n",
       "      <td>0</td>\n",
       "      <td>...</td>\n",
       "      <td>0</td>\n",
       "      <td>0</td>\n",
       "      <td>0</td>\n",
       "      <td>0</td>\n",
       "      <td>0</td>\n",
       "      <td>0</td>\n",
       "      <td>0</td>\n",
       "      <td>0</td>\n",
       "      <td>0</td>\n",
       "      <td>0</td>\n",
       "    </tr>\n",
       "  </tbody>\n",
       "</table>\n",
       "<p>5 rows × 2000 columns</p>\n",
       "</div>"
      ],
      "text/plain": [
       "   12개 만들면서 배우는  12개 만들면서 배우는 ios  12개 만들면서 배우는 ios 아이폰  \\\n",
       "0             0                 0                     0   \n",
       "1             0                 0                     0   \n",
       "2             0                 0                     0   \n",
       "3             0                 0                     0   \n",
       "4             0                 0                     0   \n",
       "\n",
       "   12개 만들면서 배우는 ios 아이폰 개발  12개를 만들며 배우는  12개를 만들며 배우는 swift4  \\\n",
       "0                        0             0                    0   \n",
       "1                        0             0                    0   \n",
       "2                        0             0                    0   \n",
       "3                        0             0                    0   \n",
       "4                        0             0                    0   \n",
       "\n",
       "   12개를 만들며 배우는 swift4 ios11  12개를 만들며 배우는 swift4 ios11 아이폰  2018 do it  \\\n",
       "0                          0                              0           0   \n",
       "1                          0                              0           0   \n",
       "2                          0                              0           0   \n",
       "3                          0                              0           0   \n",
       "4                          0                              0           0   \n",
       "\n",
       "   2018 do it 안드로이드  ...  활용2 api 개발과 성능 최적화  활용한 다양한 자동화  활용한 다양한 자동화 어플리케이션  \\\n",
       "0                 0  ...                   0            0                   0   \n",
       "1                 0  ...                   0            0                   0   \n",
       "2                 0  ...                   0            0                   0   \n",
       "3                 0  ...                   0            0                   0   \n",
       "4                 0  ...                   0            0                   0   \n",
       "\n",
       "   활용한 다양한 자동화 어플리케이션 제작하기  활용한 데이터분석과 it보안  활용한 리액트 native  \\\n",
       "0                        0                0               0   \n",
       "1                        0                0               0   \n",
       "2                        0                0               0   \n",
       "3                        0                0               0   \n",
       "4                        0                0               0   \n",
       "\n",
       "   활용한 리액트 native 개발  활용한 메신져 만들기  활용한 메신져 만들기 android  활용한 파이썬 프로그래밍  \n",
       "0                  0            0                    0              0  \n",
       "1                  0            0                    0              0  \n",
       "2                  0            0                    0              0  \n",
       "3                  0            0                    0              0  \n",
       "4                  0            0                    0              0  \n",
       "\n",
       "[5 rows x 2000 columns]"
      ]
     },
     "execution_count": 22,
     "metadata": {},
     "output_type": "execute_result"
    }
   ],
   "source": [
    "# 각 리뷰마다 등장하는 단어에 빈도수가 표현됩니다. 0 은 등장하지 않음을 의미합니다.\n",
    "pd.DataFrame(feature_vector[:10].toarray(), columns=vocab).head()"
   ]
  },
  {
   "cell_type": "code",
   "execution_count": 23,
   "metadata": {},
   "outputs": [
    {
     "data": {
      "text/html": [
       "<div>\n",
       "<style scoped>\n",
       "    .dataframe tbody tr th:only-of-type {\n",
       "        vertical-align: middle;\n",
       "    }\n",
       "\n",
       "    .dataframe tbody tr th {\n",
       "        vertical-align: top;\n",
       "    }\n",
       "\n",
       "    .dataframe thead th {\n",
       "        text-align: right;\n",
       "    }\n",
       "</style>\n",
       "<table border=\"1\" class=\"dataframe\">\n",
       "  <thead>\n",
       "    <tr style=\"text-align: right;\">\n",
       "      <th></th>\n",
       "      <th>12개 만들면서 배우는</th>\n",
       "      <th>12개 만들면서 배우는 ios</th>\n",
       "      <th>12개 만들면서 배우는 ios 아이폰</th>\n",
       "      <th>12개 만들면서 배우는 ios 아이폰 개발</th>\n",
       "      <th>12개를 만들며 배우는</th>\n",
       "      <th>12개를 만들며 배우는 swift4</th>\n",
       "      <th>12개를 만들며 배우는 swift4 ios11</th>\n",
       "      <th>12개를 만들며 배우는 swift4 ios11 아이폰</th>\n",
       "      <th>2018 do it</th>\n",
       "      <th>2018 do it 안드로이드</th>\n",
       "      <th>...</th>\n",
       "      <th>활용2 api 개발과 성능 최적화</th>\n",
       "      <th>활용한 다양한 자동화</th>\n",
       "      <th>활용한 다양한 자동화 어플리케이션</th>\n",
       "      <th>활용한 다양한 자동화 어플리케이션 제작하기</th>\n",
       "      <th>활용한 데이터분석과 it보안</th>\n",
       "      <th>활용한 리액트 native</th>\n",
       "      <th>활용한 리액트 native 개발</th>\n",
       "      <th>활용한 메신져 만들기</th>\n",
       "      <th>활용한 메신져 만들기 android</th>\n",
       "      <th>활용한 파이썬 프로그래밍</th>\n",
       "    </tr>\n",
       "  </thead>\n",
       "  <tbody>\n",
       "    <tr>\n",
       "      <th>0</th>\n",
       "      <td>2</td>\n",
       "      <td>2</td>\n",
       "      <td>2</td>\n",
       "      <td>2</td>\n",
       "      <td>2</td>\n",
       "      <td>2</td>\n",
       "      <td>2</td>\n",
       "      <td>2</td>\n",
       "      <td>2</td>\n",
       "      <td>2</td>\n",
       "      <td>...</td>\n",
       "      <td>16</td>\n",
       "      <td>13</td>\n",
       "      <td>13</td>\n",
       "      <td>12</td>\n",
       "      <td>2</td>\n",
       "      <td>8</td>\n",
       "      <td>8</td>\n",
       "      <td>2</td>\n",
       "      <td>2</td>\n",
       "      <td>2</td>\n",
       "    </tr>\n",
       "  </tbody>\n",
       "</table>\n",
       "<p>1 rows × 2000 columns</p>\n",
       "</div>"
      ],
      "text/plain": [
       "   12개 만들면서 배우는  12개 만들면서 배우는 ios  12개 만들면서 배우는 ios 아이폰  \\\n",
       "0             2                 2                     2   \n",
       "\n",
       "   12개 만들면서 배우는 ios 아이폰 개발  12개를 만들며 배우는  12개를 만들며 배우는 swift4  \\\n",
       "0                        2             2                    2   \n",
       "\n",
       "   12개를 만들며 배우는 swift4 ios11  12개를 만들며 배우는 swift4 ios11 아이폰  2018 do it  \\\n",
       "0                          2                              2           2   \n",
       "\n",
       "   2018 do it 안드로이드  ...  활용2 api 개발과 성능 최적화  활용한 다양한 자동화  활용한 다양한 자동화 어플리케이션  \\\n",
       "0                 2  ...                  16           13                  13   \n",
       "\n",
       "   활용한 다양한 자동화 어플리케이션 제작하기  활용한 데이터분석과 it보안  활용한 리액트 native  \\\n",
       "0                       12                2               8   \n",
       "\n",
       "   활용한 리액트 native 개발  활용한 메신져 만들기  활용한 메신져 만들기 android  활용한 파이썬 프로그래밍  \n",
       "0                  8            2                    2              2  \n",
       "\n",
       "[1 rows x 2000 columns]"
      ]
     },
     "execution_count": 23,
     "metadata": {},
     "output_type": "execute_result"
    }
   ],
   "source": [
    "# 위에서 구한 단어벡터를 더하면 단어가 전체에서 등장하는 횟수를 알 수 있습니다.\n",
    "# 벡터화 된 피처를 확인해 봄\n",
    "# Bag of words 에 몇 개의 단어가 들어있는지 확인\n",
    "dist = np.sum(feature_vector, axis=0)\n",
    "    \n",
    "df_freq = pd.DataFrame(dist, columns=vocab)\n",
    "df_freq"
   ]
  },
  {
   "cell_type": "code",
   "execution_count": 24,
   "metadata": {},
   "outputs": [
    {
     "data": {
      "text/html": [
       "<div>\n",
       "<style scoped>\n",
       "    .dataframe tbody tr th:only-of-type {\n",
       "        vertical-align: middle;\n",
       "    }\n",
       "\n",
       "    .dataframe tbody tr th {\n",
       "        vertical-align: top;\n",
       "    }\n",
       "\n",
       "    .dataframe thead th {\n",
       "        text-align: right;\n",
       "    }\n",
       "</style>\n",
       "<table border=\"1\" class=\"dataframe\">\n",
       "  <thead>\n",
       "    <tr style=\"text-align: right;\">\n",
       "      <th></th>\n",
       "      <th>0</th>\n",
       "    </tr>\n",
       "  </thead>\n",
       "  <tbody>\n",
       "    <tr>\n",
       "      <th>nodebird sns 만들기</th>\n",
       "      <td>60</td>\n",
       "    </tr>\n",
       "    <tr>\n",
       "      <th>스프링 데이터 jpa</th>\n",
       "      <td>59</td>\n",
       "    </tr>\n",
       "    <tr>\n",
       "      <th>리액트로 nodebird sns</th>\n",
       "      <td>49</td>\n",
       "    </tr>\n",
       "    <tr>\n",
       "      <th>머신러닝 완벽 가이드</th>\n",
       "      <td>49</td>\n",
       "    </tr>\n",
       "    <tr>\n",
       "      <th>리액트로 nodebird sns 만들기</th>\n",
       "      <td>49</td>\n",
       "    </tr>\n",
       "    <tr>\n",
       "      <th>파이썬 머신러닝 완벽</th>\n",
       "      <td>49</td>\n",
       "    </tr>\n",
       "    <tr>\n",
       "      <th>프로그래밍과 자바스크립트 es6</th>\n",
       "      <td>48</td>\n",
       "    </tr>\n",
       "    <tr>\n",
       "      <th>파이썬 머신러닝 완벽 가이드</th>\n",
       "      <td>48</td>\n",
       "    </tr>\n",
       "    <tr>\n",
       "      <th>함수형 프로그래밍과 자바스크립트 es6</th>\n",
       "      <td>47</td>\n",
       "    </tr>\n",
       "    <tr>\n",
       "      <th>2020년 공부 목표</th>\n",
       "      <td>47</td>\n",
       "    </tr>\n",
       "    <tr>\n",
       "      <th>함수형 프로그래밍과 자바스크립트</th>\n",
       "      <td>47</td>\n",
       "    </tr>\n",
       "    <tr>\n",
       "      <th>스프링 부트와 jpa</th>\n",
       "      <td>40</td>\n",
       "    </tr>\n",
       "    <tr>\n",
       "      <th>관심있는 인프런 강의명</th>\n",
       "      <td>39</td>\n",
       "    </tr>\n",
       "    <tr>\n",
       "      <th>실전 스프링 부트와</th>\n",
       "      <td>39</td>\n",
       "    </tr>\n",
       "    <tr>\n",
       "      <th>실전 스프링 부트와 jpa</th>\n",
       "      <td>39</td>\n",
       "    </tr>\n",
       "    <tr>\n",
       "      <th>부트 개념과 활용</th>\n",
       "      <td>36</td>\n",
       "    </tr>\n",
       "    <tr>\n",
       "      <th>스프링 부트 개념과</th>\n",
       "      <td>35</td>\n",
       "    </tr>\n",
       "    <tr>\n",
       "      <th>표준 jpa 프로그래밍</th>\n",
       "      <td>34</td>\n",
       "    </tr>\n",
       "    <tr>\n",
       "      <th>스프링 부트 개념과 활용</th>\n",
       "      <td>34</td>\n",
       "    </tr>\n",
       "    <tr>\n",
       "      <th>orm 표준 jpa</th>\n",
       "      <td>34</td>\n",
       "    </tr>\n",
       "    <tr>\n",
       "      <th>orm 표준 jpa 프로그래밍</th>\n",
       "      <td>34</td>\n",
       "    </tr>\n",
       "    <tr>\n",
       "      <th>자바 orm 표준</th>\n",
       "      <td>33</td>\n",
       "    </tr>\n",
       "    <tr>\n",
       "      <th>위한 알고리즘 입문 with</th>\n",
       "      <td>33</td>\n",
       "    </tr>\n",
       "    <tr>\n",
       "      <th>자바 orm 표준 jpa</th>\n",
       "      <td>33</td>\n",
       "    </tr>\n",
       "    <tr>\n",
       "      <th>알고리즘 입문 with</th>\n",
       "      <td>33</td>\n",
       "    </tr>\n",
       "    <tr>\n",
       "      <th>자바 orm 표준 jpa 프로그래밍</th>\n",
       "      <td>33</td>\n",
       "    </tr>\n",
       "    <tr>\n",
       "      <th>위한 알고리즘 입문</th>\n",
       "      <td>33</td>\n",
       "    </tr>\n",
       "    <tr>\n",
       "      <th>rest api 개발</th>\n",
       "      <td>32</td>\n",
       "    </tr>\n",
       "    <tr>\n",
       "      <th>it 취업을 위한</th>\n",
       "      <td>31</td>\n",
       "    </tr>\n",
       "    <tr>\n",
       "      <th>파이썬 실전 활용</th>\n",
       "      <td>31</td>\n",
       "    </tr>\n",
       "  </tbody>\n",
       "</table>\n",
       "</div>"
      ],
      "text/plain": [
       "                        0\n",
       "nodebird sns 만들기       60\n",
       "스프링 데이터 jpa            59\n",
       "리액트로 nodebird sns      49\n",
       "머신러닝 완벽 가이드            49\n",
       "리액트로 nodebird sns 만들기  49\n",
       "파이썬 머신러닝 완벽            49\n",
       "프로그래밍과 자바스크립트 es6      48\n",
       "파이썬 머신러닝 완벽 가이드        48\n",
       "함수형 프로그래밍과 자바스크립트 es6  47\n",
       "2020년 공부 목표            47\n",
       "함수형 프로그래밍과 자바스크립트      47\n",
       "스프링 부트와 jpa            40\n",
       "관심있는 인프런 강의명           39\n",
       "실전 스프링 부트와             39\n",
       "실전 스프링 부트와 jpa         39\n",
       "부트 개념과 활용              36\n",
       "스프링 부트 개념과             35\n",
       "표준 jpa 프로그래밍           34\n",
       "스프링 부트 개념과 활용          34\n",
       "orm 표준 jpa             34\n",
       "orm 표준 jpa 프로그래밍       34\n",
       "자바 orm 표준              33\n",
       "위한 알고리즘 입문 with        33\n",
       "자바 orm 표준 jpa          33\n",
       "알고리즘 입문 with           33\n",
       "자바 orm 표준 jpa 프로그래밍    33\n",
       "위한 알고리즘 입문             33\n",
       "rest api 개발            32\n",
       "it 취업을 위한              31\n",
       "파이썬 실전 활용              31"
      ]
     },
     "execution_count": 24,
     "metadata": {},
     "output_type": "execute_result"
    }
   ],
   "source": [
    "# 행과 열의 축을 T로 바꿔주고 빈도수로 정렬합니다.\n",
    "df_freq.T.sort_values(by=0, ascending=False).head(30)"
   ]
  },
  {
   "cell_type": "code",
   "execution_count": 25,
   "metadata": {},
   "outputs": [
    {
     "data": {
      "text/html": [
       "<div>\n",
       "<style scoped>\n",
       "    .dataframe tbody tr th:only-of-type {\n",
       "        vertical-align: middle;\n",
       "    }\n",
       "\n",
       "    .dataframe tbody tr th {\n",
       "        vertical-align: top;\n",
       "    }\n",
       "\n",
       "    .dataframe thead th {\n",
       "        text-align: right;\n",
       "    }\n",
       "</style>\n",
       "<table border=\"1\" class=\"dataframe\">\n",
       "  <thead>\n",
       "    <tr style=\"text-align: right;\">\n",
       "      <th></th>\n",
       "      <th>course</th>\n",
       "      <th>freq</th>\n",
       "    </tr>\n",
       "  </thead>\n",
       "  <tbody>\n",
       "    <tr>\n",
       "      <th>0</th>\n",
       "      <td>12개 만들면서 배우는</td>\n",
       "      <td>2</td>\n",
       "    </tr>\n",
       "    <tr>\n",
       "      <th>1</th>\n",
       "      <td>12개 만들면서 배우는 ios</td>\n",
       "      <td>2</td>\n",
       "    </tr>\n",
       "    <tr>\n",
       "      <th>2</th>\n",
       "      <td>12개 만들면서 배우는 ios 아이폰</td>\n",
       "      <td>2</td>\n",
       "    </tr>\n",
       "    <tr>\n",
       "      <th>3</th>\n",
       "      <td>12개 만들면서 배우는 ios 아이폰 개발</td>\n",
       "      <td>2</td>\n",
       "    </tr>\n",
       "    <tr>\n",
       "      <th>4</th>\n",
       "      <td>12개를 만들며 배우는</td>\n",
       "      <td>2</td>\n",
       "    </tr>\n",
       "  </tbody>\n",
       "</table>\n",
       "</div>"
      ],
      "text/plain": [
       "                    course  freq\n",
       "0             12개 만들면서 배우는     2\n",
       "1         12개 만들면서 배우는 ios     2\n",
       "2     12개 만들면서 배우는 ios 아이폰     2\n",
       "3  12개 만들면서 배우는 ios 아이폰 개발     2\n",
       "4             12개를 만들며 배우는     2"
      ]
     },
     "execution_count": 25,
     "metadata": {},
     "output_type": "execute_result"
    }
   ],
   "source": [
    "# [\"course\", \"freq\"] 라는 컬럼명을 주어 위에서 만든 데이터프레임을 변환합니다.\n",
    "df_freq_T = df_freq.T.reset_index()\n",
    "df_freq_T.columns = [\"course\", \"freq\"]\n",
    "df_freq_T.head()"
   ]
  },
  {
   "cell_type": "code",
   "execution_count": 26,
   "metadata": {},
   "outputs": [
    {
     "data": {
      "text/html": [
       "<div>\n",
       "<style scoped>\n",
       "    .dataframe tbody tr th:only-of-type {\n",
       "        vertical-align: middle;\n",
       "    }\n",
       "\n",
       "    .dataframe tbody tr th {\n",
       "        vertical-align: top;\n",
       "    }\n",
       "\n",
       "    .dataframe thead th {\n",
       "        text-align: right;\n",
       "    }\n",
       "</style>\n",
       "<table border=\"1\" class=\"dataframe\">\n",
       "  <thead>\n",
       "    <tr style=\"text-align: right;\">\n",
       "      <th></th>\n",
       "      <th>course</th>\n",
       "      <th>freq</th>\n",
       "      <th>course_find</th>\n",
       "    </tr>\n",
       "  </thead>\n",
       "  <tbody>\n",
       "    <tr>\n",
       "      <th>1999</th>\n",
       "      <td>활용한 파이썬 프로그래밍</td>\n",
       "      <td>2</td>\n",
       "      <td>활용한 파이썬 프로그래밍</td>\n",
       "    </tr>\n",
       "    <tr>\n",
       "      <th>1998</th>\n",
       "      <td>활용한 메신져 만들기 android</td>\n",
       "      <td>2</td>\n",
       "      <td>활용한 메신져 만들기 android</td>\n",
       "    </tr>\n",
       "    <tr>\n",
       "      <th>1997</th>\n",
       "      <td>활용한 메신져 만들기</td>\n",
       "      <td>2</td>\n",
       "      <td>활용한 메신져 만들기</td>\n",
       "    </tr>\n",
       "    <tr>\n",
       "      <th>1996</th>\n",
       "      <td>활용한 리액트 native 개발</td>\n",
       "      <td>8</td>\n",
       "      <td>활용한 리액트 native 개발</td>\n",
       "    </tr>\n",
       "    <tr>\n",
       "      <th>1995</th>\n",
       "      <td>활용한 리액트 native</td>\n",
       "      <td>8</td>\n",
       "      <td>활용한 리액트 native</td>\n",
       "    </tr>\n",
       "    <tr>\n",
       "      <th>1994</th>\n",
       "      <td>활용한 데이터분석과 it보안</td>\n",
       "      <td>2</td>\n",
       "      <td>활용한 데이터분석과 it보안</td>\n",
       "    </tr>\n",
       "    <tr>\n",
       "      <th>1992</th>\n",
       "      <td>활용한 다양한 자동화 어플리케이션</td>\n",
       "      <td>13</td>\n",
       "      <td>활용한 다양한 자동화 어플리케이션</td>\n",
       "    </tr>\n",
       "    <tr>\n",
       "      <th>1993</th>\n",
       "      <td>활용한 다양한 자동화 어플리케이션 제작하기</td>\n",
       "      <td>12</td>\n",
       "      <td>활용한 다양한 자동화 어플리케이션</td>\n",
       "    </tr>\n",
       "    <tr>\n",
       "      <th>1991</th>\n",
       "      <td>활용한 다양한 자동화</td>\n",
       "      <td>13</td>\n",
       "      <td>활용한 다양한 자동화</td>\n",
       "    </tr>\n",
       "    <tr>\n",
       "      <th>1989</th>\n",
       "      <td>활용2 api 개발과 성능</td>\n",
       "      <td>16</td>\n",
       "      <td>활용2 api 개발과 성능</td>\n",
       "    </tr>\n",
       "  </tbody>\n",
       "</table>\n",
       "</div>"
      ],
      "text/plain": [
       "                       course  freq          course_find\n",
       "1999            활용한 파이썬 프로그래밍     2        활용한 파이썬 프로그래밍\n",
       "1998      활용한 메신져 만들기 android     2  활용한 메신져 만들기 android\n",
       "1997              활용한 메신져 만들기     2          활용한 메신져 만들기\n",
       "1996        활용한 리액트 native 개발     8    활용한 리액트 native 개발\n",
       "1995           활용한 리액트 native     8       활용한 리액트 native\n",
       "1994          활용한 데이터분석과 it보안     2      활용한 데이터분석과 it보안\n",
       "1992       활용한 다양한 자동화 어플리케이션    13   활용한 다양한 자동화 어플리케이션\n",
       "1993  활용한 다양한 자동화 어플리케이션 제작하기    12   활용한 다양한 자동화 어플리케이션\n",
       "1991              활용한 다양한 자동화    13          활용한 다양한 자동화\n",
       "1989           활용2 api 개발과 성능    16       활용2 api 개발과 성능"
      ]
     },
     "execution_count": 26,
     "metadata": {},
     "output_type": "execute_result"
    }
   ],
   "source": [
    "# 강의명을 토큰 3개로 중복제거하기 위해, 강좌명에서 지식공유자의 이름을 빈문자열로 변경합니다.\n",
    "# 강의명을 lambda 식을 사용해서 x.split() 으로 나누고 [:4] 앞에서 4개까지만 텍스트를 가져오고 다시 join으로 합쳐줍니다. \n",
    "# 중복된 텍스트를 구분해서 보기 위함입니다.\n",
    "df_freq_T[\"course_find\"] = df_freq_T[\"course\"].str.replace(\"홍정모의\", \"\")\n",
    "df_freq_T[\"course_find\"] = df_freq_T[\"course_find\"].apply(lambda x : \" \". join(x.split()[:4]))\n",
    "df_freq_T.sort_values([\"course_find\", \"freq\"], ascending=False).head(10)"
   ]
  },
  {
   "cell_type": "code",
   "execution_count": 27,
   "metadata": {},
   "outputs": [
    {
     "name": "stdout",
     "output_type": "stream",
     "text": [
      "(2000, 3)\n",
      "(1441, 3)\n"
     ]
    }
   ],
   "source": [
    "# 3개의 ngram과 빈도수로 역순 정렬을 하게 되면 빈도수가 높고, ngram수가 많은 순으로 정렬이 됨 \n",
    "# 여기에서 drop_duplicates로 첫 번째 강좌를 남기고 나머지 중복을 삭제 합니다.\n",
    "print(df_freq_T.shape)\n",
    "df_course = df_freq_T.drop_duplicates([\"course_find\", \"freq\"], keep=\"first\")\n",
    "print(df_course.shape)"
   ]
  },
  {
   "cell_type": "code",
   "execution_count": 28,
   "metadata": {},
   "outputs": [
    {
     "data": {
      "text/html": [
       "<div>\n",
       "<style scoped>\n",
       "    .dataframe tbody tr th:only-of-type {\n",
       "        vertical-align: middle;\n",
       "    }\n",
       "\n",
       "    .dataframe tbody tr th {\n",
       "        vertical-align: top;\n",
       "    }\n",
       "\n",
       "    .dataframe thead th {\n",
       "        text-align: right;\n",
       "    }\n",
       "</style>\n",
       "<table border=\"1\" class=\"dataframe\">\n",
       "  <thead>\n",
       "    <tr style=\"text-align: right;\">\n",
       "      <th></th>\n",
       "      <th>course</th>\n",
       "      <th>freq</th>\n",
       "      <th>course_find</th>\n",
       "    </tr>\n",
       "  </thead>\n",
       "  <tbody>\n",
       "    <tr>\n",
       "      <th>319</th>\n",
       "      <td>nodebird sns 만들기</td>\n",
       "      <td>60</td>\n",
       "      <td>nodebird sns 만들기</td>\n",
       "    </tr>\n",
       "    <tr>\n",
       "      <th>1094</th>\n",
       "      <td>스프링 데이터 jpa</td>\n",
       "      <td>59</td>\n",
       "      <td>스프링 데이터 jpa</td>\n",
       "    </tr>\n",
       "    <tr>\n",
       "      <th>885</th>\n",
       "      <td>리액트로 nodebird sns 만들기</td>\n",
       "      <td>49</td>\n",
       "      <td>리액트로 nodebird sns 만들기</td>\n",
       "    </tr>\n",
       "    <tr>\n",
       "      <th>1761</th>\n",
       "      <td>파이썬 머신러닝 완벽</td>\n",
       "      <td>49</td>\n",
       "      <td>파이썬 머신러닝 완벽</td>\n",
       "    </tr>\n",
       "    <tr>\n",
       "      <th>906</th>\n",
       "      <td>머신러닝 완벽 가이드</td>\n",
       "      <td>49</td>\n",
       "      <td>머신러닝 완벽 가이드</td>\n",
       "    </tr>\n",
       "    <tr>\n",
       "      <th>884</th>\n",
       "      <td>리액트로 nodebird sns</td>\n",
       "      <td>49</td>\n",
       "      <td>리액트로 nodebird sns</td>\n",
       "    </tr>\n",
       "    <tr>\n",
       "      <th>1891</th>\n",
       "      <td>프로그래밍과 자바스크립트 es6</td>\n",
       "      <td>48</td>\n",
       "      <td>프로그래밍과 자바스크립트 es6</td>\n",
       "    </tr>\n",
       "    <tr>\n",
       "      <th>1762</th>\n",
       "      <td>파이썬 머신러닝 완벽 가이드</td>\n",
       "      <td>48</td>\n",
       "      <td>파이썬 머신러닝 완벽 가이드</td>\n",
       "    </tr>\n",
       "    <tr>\n",
       "      <th>1936</th>\n",
       "      <td>함수형 프로그래밍과 자바스크립트 es6</td>\n",
       "      <td>47</td>\n",
       "      <td>함수형 프로그래밍과 자바스크립트 es6</td>\n",
       "    </tr>\n",
       "    <tr>\n",
       "      <th>1935</th>\n",
       "      <td>함수형 프로그래밍과 자바스크립트</td>\n",
       "      <td>47</td>\n",
       "      <td>함수형 프로그래밍과 자바스크립트</td>\n",
       "    </tr>\n",
       "    <tr>\n",
       "      <th>11</th>\n",
       "      <td>2020년 공부 목표</td>\n",
       "      <td>47</td>\n",
       "      <td>2020년 공부 목표</td>\n",
       "    </tr>\n",
       "    <tr>\n",
       "      <th>1108</th>\n",
       "      <td>스프링 부트와 jpa</td>\n",
       "      <td>40</td>\n",
       "      <td>스프링 부트와 jpa</td>\n",
       "    </tr>\n",
       "    <tr>\n",
       "      <th>706</th>\n",
       "      <td>관심있는 인프런 강의명</td>\n",
       "      <td>39</td>\n",
       "      <td>관심있는 인프런 강의명</td>\n",
       "    </tr>\n",
       "    <tr>\n",
       "      <th>1191</th>\n",
       "      <td>실전 스프링 부트와</td>\n",
       "      <td>39</td>\n",
       "      <td>실전 스프링 부트와</td>\n",
       "    </tr>\n",
       "    <tr>\n",
       "      <th>1192</th>\n",
       "      <td>실전 스프링 부트와 jpa</td>\n",
       "      <td>39</td>\n",
       "      <td>실전 스프링 부트와 jpa</td>\n",
       "    </tr>\n",
       "    <tr>\n",
       "      <th>988</th>\n",
       "      <td>부트 개념과 활용</td>\n",
       "      <td>36</td>\n",
       "      <td>부트 개념과 활용</td>\n",
       "    </tr>\n",
       "    <tr>\n",
       "      <th>1104</th>\n",
       "      <td>스프링 부트 개념과</td>\n",
       "      <td>35</td>\n",
       "      <td>스프링 부트 개념과</td>\n",
       "    </tr>\n",
       "    <tr>\n",
       "      <th>338</th>\n",
       "      <td>orm 표준 jpa</td>\n",
       "      <td>34</td>\n",
       "      <td>orm 표준 jpa</td>\n",
       "    </tr>\n",
       "    <tr>\n",
       "      <th>1840</th>\n",
       "      <td>표준 jpa 프로그래밍</td>\n",
       "      <td>34</td>\n",
       "      <td>표준 jpa 프로그래밍</td>\n",
       "    </tr>\n",
       "    <tr>\n",
       "      <th>1105</th>\n",
       "      <td>스프링 부트 개념과 활용</td>\n",
       "      <td>34</td>\n",
       "      <td>스프링 부트 개념과 활용</td>\n",
       "    </tr>\n",
       "  </tbody>\n",
       "</table>\n",
       "</div>"
      ],
      "text/plain": [
       "                     course  freq            course_find\n",
       "319        nodebird sns 만들기    60       nodebird sns 만들기\n",
       "1094            스프링 데이터 jpa    59            스프링 데이터 jpa\n",
       "885   리액트로 nodebird sns 만들기    49  리액트로 nodebird sns 만들기\n",
       "1761            파이썬 머신러닝 완벽    49            파이썬 머신러닝 완벽\n",
       "906             머신러닝 완벽 가이드    49            머신러닝 완벽 가이드\n",
       "884       리액트로 nodebird sns    49      리액트로 nodebird sns\n",
       "1891      프로그래밍과 자바스크립트 es6    48      프로그래밍과 자바스크립트 es6\n",
       "1762        파이썬 머신러닝 완벽 가이드    48        파이썬 머신러닝 완벽 가이드\n",
       "1936  함수형 프로그래밍과 자바스크립트 es6    47  함수형 프로그래밍과 자바스크립트 es6\n",
       "1935      함수형 프로그래밍과 자바스크립트    47      함수형 프로그래밍과 자바스크립트\n",
       "11              2020년 공부 목표    47            2020년 공부 목표\n",
       "1108            스프링 부트와 jpa    40            스프링 부트와 jpa\n",
       "706            관심있는 인프런 강의명    39           관심있는 인프런 강의명\n",
       "1191             실전 스프링 부트와    39             실전 스프링 부트와\n",
       "1192         실전 스프링 부트와 jpa    39         실전 스프링 부트와 jpa\n",
       "988               부트 개념과 활용    36              부트 개념과 활용\n",
       "1104             스프링 부트 개념과    35             스프링 부트 개념과\n",
       "338              orm 표준 jpa    34             orm 표준 jpa\n",
       "1840           표준 jpa 프로그래밍    34           표준 jpa 프로그래밍\n",
       "1105          스프링 부트 개념과 활용    34          스프링 부트 개념과 활용"
      ]
     },
     "execution_count": 28,
     "metadata": {},
     "output_type": "execute_result"
    }
   ],
   "source": [
    "# 빈도수로 정렬을 하고 어떤 강좌가 댓글에서 가장 많이 언급되었는지 봅니다.\n",
    "df_course = df_course.sort_values(by=\"freq\", ascending=False)\n",
    "df_course.head(20)"
   ]
  },
  {
   "cell_type": "code",
   "execution_count": 29,
   "metadata": {},
   "outputs": [],
   "source": [
    "# 전처리가 다 되었다면 다른 팀 또는 담당자에게 전달하기 위해  csv 형태로 저장합니다.\n",
    "df_course.to_csv(\"event-course-name-freq.csv\")"
   ]
  },
  {
   "cell_type": "markdown",
   "metadata": {},
   "source": [
    "## TF-IDF 로 가중치를 주어 벡터화\n",
    "### TfidfTransformer()\n",
    "* norm='l2' 각 문서의 피처 벡터를 어떻게 벡터 정규화 할지 정합니다.\n",
    "    - L2 : 벡터의 각 원소의 제곱의 합이 1이 되도록 만드는 것이고 기본 값(유클리디안거리)\n",
    "    - L1 : 벡터의 각 원소의 절댓값의 합이 1이 되도록 크기를 조절(맨하탄거리)\n",
    "* smooth_idf=False\n",
    "    - 피처를 만들 때 0으로 나오는 항목에 대해 작은 값을 더해서(스무딩을 해서) 피처를 만들지 아니면 그냥 생성할지를 결정\n",
    "* sublinear_tf=False\n",
    "* use_idf=True\n",
    "    - TF-IDF를 사용해 피처를 만들 것인지 아니면 단어 빈도 자체를 사용할 것인지 여부"
   ]
  },
  {
   "cell_type": "code",
   "execution_count": 30,
   "metadata": {},
   "outputs": [
    {
     "data": {
      "text/plain": [
       "TfidfTransformer(smooth_idf=False)"
      ]
     },
     "execution_count": 30,
     "metadata": {},
     "output_type": "execute_result"
    }
   ],
   "source": [
    "# TfidfTransformer 를 불러와서 가중치를 주어 벡터화 합니다.\n",
    "# transformer 라는 변수로 저장하고 재사용합니다.\n",
    "from sklearn.feature_extraction.text import TfidfTransformer\n",
    "transformer = TfidfTransformer(smooth_idf=False)\n",
    "transformer"
   ]
  },
  {
   "cell_type": "code",
   "execution_count": 31,
   "metadata": {},
   "outputs": [
    {
     "data": {
      "text/plain": [
       "(2410, 2000)"
      ]
     },
     "execution_count": 31,
     "metadata": {},
     "output_type": "execute_result"
    }
   ],
   "source": [
    "# fit_transform 으로 가중치를 적용하고 결과를 feature_tfidf 로 받습니다.\n",
    "feature_tfidf = transformer.fit_transform(feature_vector)\n",
    "feature_tfidf.shape"
   ]
  },
  {
   "cell_type": "code",
   "execution_count": 32,
   "metadata": {},
   "outputs": [
    {
     "data": {
      "text/html": [
       "<div>\n",
       "<style scoped>\n",
       "    .dataframe tbody tr th:only-of-type {\n",
       "        vertical-align: middle;\n",
       "    }\n",
       "\n",
       "    .dataframe tbody tr th {\n",
       "        vertical-align: top;\n",
       "    }\n",
       "\n",
       "    .dataframe thead th {\n",
       "        text-align: right;\n",
       "    }\n",
       "</style>\n",
       "<table border=\"1\" class=\"dataframe\">\n",
       "  <thead>\n",
       "    <tr style=\"text-align: right;\">\n",
       "      <th></th>\n",
       "      <th>12개 만들면서 배우는</th>\n",
       "      <th>12개 만들면서 배우는 ios</th>\n",
       "      <th>12개 만들면서 배우는 ios 아이폰</th>\n",
       "      <th>12개 만들면서 배우는 ios 아이폰 개발</th>\n",
       "      <th>12개를 만들며 배우는</th>\n",
       "      <th>12개를 만들며 배우는 swift4</th>\n",
       "      <th>12개를 만들며 배우는 swift4 ios11</th>\n",
       "      <th>12개를 만들며 배우는 swift4 ios11 아이폰</th>\n",
       "      <th>2018 do it</th>\n",
       "      <th>2018 do it 안드로이드</th>\n",
       "      <th>...</th>\n",
       "      <th>활용2 api 개발과 성능 최적화</th>\n",
       "      <th>활용한 다양한 자동화</th>\n",
       "      <th>활용한 다양한 자동화 어플리케이션</th>\n",
       "      <th>활용한 다양한 자동화 어플리케이션 제작하기</th>\n",
       "      <th>활용한 데이터분석과 it보안</th>\n",
       "      <th>활용한 리액트 native</th>\n",
       "      <th>활용한 리액트 native 개발</th>\n",
       "      <th>활용한 메신져 만들기</th>\n",
       "      <th>활용한 메신져 만들기 android</th>\n",
       "      <th>활용한 파이썬 프로그래밍</th>\n",
       "    </tr>\n",
       "  </thead>\n",
       "  <tbody>\n",
       "    <tr>\n",
       "      <th>0</th>\n",
       "      <td>0.0</td>\n",
       "      <td>0.0</td>\n",
       "      <td>0.0</td>\n",
       "      <td>0.0</td>\n",
       "      <td>0.0</td>\n",
       "      <td>0.0</td>\n",
       "      <td>0.0</td>\n",
       "      <td>0.0</td>\n",
       "      <td>0.0</td>\n",
       "      <td>0.0</td>\n",
       "      <td>...</td>\n",
       "      <td>0.0</td>\n",
       "      <td>0.0</td>\n",
       "      <td>0.0</td>\n",
       "      <td>0.0</td>\n",
       "      <td>0.0</td>\n",
       "      <td>0.0</td>\n",
       "      <td>0.0</td>\n",
       "      <td>0.0</td>\n",
       "      <td>0.0</td>\n",
       "      <td>0.0</td>\n",
       "    </tr>\n",
       "    <tr>\n",
       "      <th>1</th>\n",
       "      <td>0.0</td>\n",
       "      <td>0.0</td>\n",
       "      <td>0.0</td>\n",
       "      <td>0.0</td>\n",
       "      <td>0.0</td>\n",
       "      <td>0.0</td>\n",
       "      <td>0.0</td>\n",
       "      <td>0.0</td>\n",
       "      <td>0.0</td>\n",
       "      <td>0.0</td>\n",
       "      <td>...</td>\n",
       "      <td>0.0</td>\n",
       "      <td>0.0</td>\n",
       "      <td>0.0</td>\n",
       "      <td>0.0</td>\n",
       "      <td>0.0</td>\n",
       "      <td>0.0</td>\n",
       "      <td>0.0</td>\n",
       "      <td>0.0</td>\n",
       "      <td>0.0</td>\n",
       "      <td>0.0</td>\n",
       "    </tr>\n",
       "    <tr>\n",
       "      <th>2</th>\n",
       "      <td>0.0</td>\n",
       "      <td>0.0</td>\n",
       "      <td>0.0</td>\n",
       "      <td>0.0</td>\n",
       "      <td>0.0</td>\n",
       "      <td>0.0</td>\n",
       "      <td>0.0</td>\n",
       "      <td>0.0</td>\n",
       "      <td>0.0</td>\n",
       "      <td>0.0</td>\n",
       "      <td>...</td>\n",
       "      <td>0.0</td>\n",
       "      <td>0.0</td>\n",
       "      <td>0.0</td>\n",
       "      <td>0.0</td>\n",
       "      <td>0.0</td>\n",
       "      <td>0.0</td>\n",
       "      <td>0.0</td>\n",
       "      <td>0.0</td>\n",
       "      <td>0.0</td>\n",
       "      <td>0.0</td>\n",
       "    </tr>\n",
       "    <tr>\n",
       "      <th>3</th>\n",
       "      <td>0.0</td>\n",
       "      <td>0.0</td>\n",
       "      <td>0.0</td>\n",
       "      <td>0.0</td>\n",
       "      <td>0.0</td>\n",
       "      <td>0.0</td>\n",
       "      <td>0.0</td>\n",
       "      <td>0.0</td>\n",
       "      <td>0.0</td>\n",
       "      <td>0.0</td>\n",
       "      <td>...</td>\n",
       "      <td>0.0</td>\n",
       "      <td>0.0</td>\n",
       "      <td>0.0</td>\n",
       "      <td>0.0</td>\n",
       "      <td>0.0</td>\n",
       "      <td>0.0</td>\n",
       "      <td>0.0</td>\n",
       "      <td>0.0</td>\n",
       "      <td>0.0</td>\n",
       "      <td>0.0</td>\n",
       "    </tr>\n",
       "    <tr>\n",
       "      <th>4</th>\n",
       "      <td>0.0</td>\n",
       "      <td>0.0</td>\n",
       "      <td>0.0</td>\n",
       "      <td>0.0</td>\n",
       "      <td>0.0</td>\n",
       "      <td>0.0</td>\n",
       "      <td>0.0</td>\n",
       "      <td>0.0</td>\n",
       "      <td>0.0</td>\n",
       "      <td>0.0</td>\n",
       "      <td>...</td>\n",
       "      <td>0.0</td>\n",
       "      <td>0.0</td>\n",
       "      <td>0.0</td>\n",
       "      <td>0.0</td>\n",
       "      <td>0.0</td>\n",
       "      <td>0.0</td>\n",
       "      <td>0.0</td>\n",
       "      <td>0.0</td>\n",
       "      <td>0.0</td>\n",
       "      <td>0.0</td>\n",
       "    </tr>\n",
       "  </tbody>\n",
       "</table>\n",
       "<p>5 rows × 2000 columns</p>\n",
       "</div>"
      ],
      "text/plain": [
       "   12개 만들면서 배우는  12개 만들면서 배우는 ios  12개 만들면서 배우는 ios 아이폰  \\\n",
       "0           0.0               0.0                   0.0   \n",
       "1           0.0               0.0                   0.0   \n",
       "2           0.0               0.0                   0.0   \n",
       "3           0.0               0.0                   0.0   \n",
       "4           0.0               0.0                   0.0   \n",
       "\n",
       "   12개 만들면서 배우는 ios 아이폰 개발  12개를 만들며 배우는  12개를 만들며 배우는 swift4  \\\n",
       "0                      0.0           0.0                  0.0   \n",
       "1                      0.0           0.0                  0.0   \n",
       "2                      0.0           0.0                  0.0   \n",
       "3                      0.0           0.0                  0.0   \n",
       "4                      0.0           0.0                  0.0   \n",
       "\n",
       "   12개를 만들며 배우는 swift4 ios11  12개를 만들며 배우는 swift4 ios11 아이폰  2018 do it  \\\n",
       "0                        0.0                            0.0         0.0   \n",
       "1                        0.0                            0.0         0.0   \n",
       "2                        0.0                            0.0         0.0   \n",
       "3                        0.0                            0.0         0.0   \n",
       "4                        0.0                            0.0         0.0   \n",
       "\n",
       "   2018 do it 안드로이드  ...  활용2 api 개발과 성능 최적화  활용한 다양한 자동화  활용한 다양한 자동화 어플리케이션  \\\n",
       "0               0.0  ...                 0.0          0.0                 0.0   \n",
       "1               0.0  ...                 0.0          0.0                 0.0   \n",
       "2               0.0  ...                 0.0          0.0                 0.0   \n",
       "3               0.0  ...                 0.0          0.0                 0.0   \n",
       "4               0.0  ...                 0.0          0.0                 0.0   \n",
       "\n",
       "   활용한 다양한 자동화 어플리케이션 제작하기  활용한 데이터분석과 it보안  활용한 리액트 native  \\\n",
       "0                      0.0              0.0             0.0   \n",
       "1                      0.0              0.0             0.0   \n",
       "2                      0.0              0.0             0.0   \n",
       "3                      0.0              0.0             0.0   \n",
       "4                      0.0              0.0             0.0   \n",
       "\n",
       "   활용한 리액트 native 개발  활용한 메신져 만들기  활용한 메신져 만들기 android  활용한 파이썬 프로그래밍  \n",
       "0                0.0          0.0                  0.0            0.0  \n",
       "1                0.0          0.0                  0.0            0.0  \n",
       "2                0.0          0.0                  0.0            0.0  \n",
       "3                0.0          0.0                  0.0            0.0  \n",
       "4                0.0          0.0                  0.0            0.0  \n",
       "\n",
       "[5 rows x 2000 columns]"
      ]
     },
     "execution_count": 32,
     "metadata": {},
     "output_type": "execute_result"
    }
   ],
   "source": [
    "# 각 row에서 전체 단어가방에 있는 어휘에서 등장하는 단어에 대한 one-hot-vector에 TF-IDF 가중치 반영한 결과를 봅니다.\n",
    "# feature_tfidf.toarray() 로 배열로 만들고  데이터 프레임을 만들어 tfidf_freq 라는 변수에 할당해서 봅니다.\n",
    "tfidf_freq = pd.DataFrame(feature_tfidf.toarray(), columns=vocab)\n",
    "tfidf_freq.head() "
   ]
  },
  {
   "cell_type": "code",
   "execution_count": 33,
   "metadata": {},
   "outputs": [
    {
     "data": {
      "text/html": [
       "<div>\n",
       "<style scoped>\n",
       "    .dataframe tbody tr th:only-of-type {\n",
       "        vertical-align: middle;\n",
       "    }\n",
       "\n",
       "    .dataframe tbody tr th {\n",
       "        vertical-align: top;\n",
       "    }\n",
       "\n",
       "    .dataframe thead th {\n",
       "        text-align: right;\n",
       "    }\n",
       "</style>\n",
       "<table border=\"1\" class=\"dataframe\">\n",
       "  <thead>\n",
       "    <tr style=\"text-align: right;\">\n",
       "      <th></th>\n",
       "      <th>0</th>\n",
       "    </tr>\n",
       "  </thead>\n",
       "  <tbody>\n",
       "    <tr>\n",
       "      <th>스프링 데이터 jpa</th>\n",
       "      <td>35.203215</td>\n",
       "    </tr>\n",
       "    <tr>\n",
       "      <th>파이썬 실전 활용</th>\n",
       "      <td>27.690173</td>\n",
       "    </tr>\n",
       "    <tr>\n",
       "      <th>nodebird sns 만들기</th>\n",
       "      <td>26.817724</td>\n",
       "    </tr>\n",
       "    <tr>\n",
       "      <th>머신러닝 완벽 가이드</th>\n",
       "      <td>24.470756</td>\n",
       "    </tr>\n",
       "    <tr>\n",
       "      <th>파이썬 머신러닝 완벽</th>\n",
       "      <td>24.470756</td>\n",
       "    </tr>\n",
       "    <tr>\n",
       "      <th>리액트로 nodebird sns</th>\n",
       "      <td>24.187518</td>\n",
       "    </tr>\n",
       "    <tr>\n",
       "      <th>리액트로 nodebird sns 만들기</th>\n",
       "      <td>24.187518</td>\n",
       "    </tr>\n",
       "    <tr>\n",
       "      <th>파이썬 머신러닝 완벽 가이드</th>\n",
       "      <td>23.569611</td>\n",
       "    </tr>\n",
       "    <tr>\n",
       "      <th>프로그래밍과 자바스크립트 es6</th>\n",
       "      <td>20.056301</td>\n",
       "    </tr>\n",
       "    <tr>\n",
       "      <th>함수형 프로그래밍과 자바스크립트 es6</th>\n",
       "      <td>19.143864</td>\n",
       "    </tr>\n",
       "  </tbody>\n",
       "</table>\n",
       "</div>"
      ],
      "text/plain": [
       "                               0\n",
       "스프링 데이터 jpa            35.203215\n",
       "파이썬 실전 활용              27.690173\n",
       "nodebird sns 만들기       26.817724\n",
       "머신러닝 완벽 가이드            24.470756\n",
       "파이썬 머신러닝 완벽            24.470756\n",
       "리액트로 nodebird sns      24.187518\n",
       "리액트로 nodebird sns 만들기  24.187518\n",
       "파이썬 머신러닝 완벽 가이드        23.569611\n",
       "프로그래밍과 자바스크립트 es6      20.056301\n",
       "함수형 프로그래밍과 자바스크립트 es6  19.143864"
      ]
     },
     "execution_count": 33,
     "metadata": {},
     "output_type": "execute_result"
    }
   ],
   "source": [
    "# tfidf_freq를 sum 으로 가중치를 다 더해줍니다.\n",
    "df_tfidf = pd.DataFrame(tfidf_freq.sum())\n",
    "df_tfidf_top = df_tfidf.sort_values(by=0, ascending=False)\n",
    "df_tfidf_top.head(10)"
   ]
  },
  {
   "cell_type": "code",
   "execution_count": 34,
   "metadata": {},
   "outputs": [
    {
     "name": "stdout",
     "output_type": "stream",
     "text": [
      "스프링 데이터 jpa\n",
      "파이썬 실전 활용\n",
      "nodebird sns 만들기\n",
      "머신러닝 완벽 가이드\n",
      "파이썬 머신러닝 완벽\n",
      "리액트로 nodebird sns\n",
      "리액트로 nodebird sns 만들기\n",
      "파이썬 머신러닝 완벽 가이드\n",
      "프로그래밍과 자바스크립트 es6\n",
      "함수형 프로그래밍과 자바스크립트 es6\n",
      "함수형 프로그래밍과 자바스크립트\n",
      "따라하며 배우는 c언어\n",
      "부트 개념과 활용\n",
      "스프링 부트 개념과\n",
      "스프링 부트 개념과 활용\n",
      "실전 스프링 데이터\n",
      "2020년 공부 목표\n",
      "실전 스프링 데이터 jpa\n",
      "파이썬 머신러닝 완벽가이드\n",
      "관심있는 인프런 강의명\n",
      "rest api 개발\n",
      "대세는 쿠버네티스 기초편\n",
      "스프링부트 개념과 활용\n",
      "orm 표준 jpa 프로그래밍\n",
      "표준 jpa 프로그래밍\n",
      "orm 표준 jpa\n",
      "js 완벽 가이드\n",
      "vue js 완벽 가이드\n",
      "vue js 완벽\n",
      "자바 orm 표준\n"
     ]
    }
   ],
   "source": [
    "# 중간에 생략되는 단어를 자세히 보고자 할 때\n",
    "for t in df_tfidf_top.index[:30]:\n",
    "    print(t)"
   ]
  },
  {
   "cell_type": "markdown",
   "metadata": {},
   "source": [
    "## 군집화 \n",
    "* 실루엣 분석추가 https://www.kaggle.com/fabiendaniel/customer-segmentation\n",
    "### KMeans"
   ]
  },
  {
   "cell_type": "code",
   "execution_count": null,
   "metadata": {},
   "outputs": [
    {
     "name": "stderr",
     "output_type": "stream",
     "text": [
      " 30%|██████████████████████████████████████████████████                                                                                                                     | 12/40 [00:05<00:13,  2.08it/s]"
     ]
    }
   ],
   "source": [
    "from sklearn.cluster import KMeans\n",
    "from tqdm import trange\n",
    "inertia = []\n",
    "\n",
    "start = 30\n",
    "end = 70\n",
    "\n",
    "# 적절한 클러스터의 갯수를 알기 위해 inertia 값을 구함\n",
    "# trange 를 통해 시작과 끝 값을 지정해 주면 진행 정도를 알 수 있습니다.\n",
    "# 학습을 할 때는 feature_tfidf 값을 사용합니다.\n",
    "# cls.inertia_ 값을 inertia 리스트에 저장합니다.\n",
    "for i in trange(start, end):\n",
    "    cls = KMeans(n_clusters=i, random_state=42)\n",
    "    cls.fit(feature_tfidf)\n",
    "    inertia.append(cls.inertia_)"
   ]
  },
  {
   "cell_type": "code",
   "execution_count": null,
   "metadata": {},
   "outputs": [],
   "source": [
    "# 위에서 구한 값을 시각화 합니다.\n",
    "# x축에는 클러스터의 수를 y축에는 inertia 값을 넣어 그립니다.\n",
    "\n",
    "plt.plot(range(start, end), inertia)\n",
    "plt.title(\"KMeans 클러스터 수 비교\")"
   ]
  },
  {
   "cell_type": "markdown",
   "metadata": {},
   "source": [
    "* 적정한 클러스터 갯수를 넣어 군집화 합니다."
   ]
  },
  {
   "cell_type": "code",
   "execution_count": null,
   "metadata": {},
   "outputs": [],
   "source": [
    "# n_clusters 에 적절한 값을 넣어줍니다.\n",
    "# fit.predict 를 하고 결과를 cluster 라는 새로운 컬럼에 담습니다.\n",
    "n_clusters = 50\n",
    "cls = KMeans(n_clusters=n_clusters, random_state=42)\n",
    "cls.fit(feature_tfidf)\n",
    "prediction = cls.predict(feature_tfidf)\n",
    "df[\"cluster\"] = prediction"
   ]
  },
  {
   "cell_type": "code",
   "execution_count": null,
   "metadata": {},
   "outputs": [],
   "source": [
    "# 클러스터 센터\n",
    "cc = cls.cluster_centers_"
   ]
  },
  {
   "cell_type": "code",
   "execution_count": null,
   "metadata": {},
   "outputs": [],
   "source": [
    "from sklearn.manifold import TSNE\n",
    "tsne = TSNE(n_components=2)\n",
    "\n",
    "X_tsne = tsne.fit_transform(feature_tfidf)\n",
    "X_tsne.shape"
   ]
  },
  {
   "cell_type": "code",
   "execution_count": null,
   "metadata": {},
   "outputs": [],
   "source": [
    "df2d = pd.DataFrame(X_tsne, columns=['x', 'y'])\n",
    "df2d.shape"
   ]
  },
  {
   "cell_type": "code",
   "execution_count": null,
   "metadata": {},
   "outputs": [],
   "source": [
    "df2d[\"cluster\"] = prediction\n",
    "df2d.head()"
   ]
  },
  {
   "cell_type": "code",
   "execution_count": null,
   "metadata": {},
   "outputs": [],
   "source": [
    "df2d[\"cluster\"] = df2d[\"cluster\"].astype(int)"
   ]
  },
  {
   "cell_type": "code",
   "execution_count": null,
   "metadata": {},
   "outputs": [],
   "source": [
    "# df[\"cluster\"] 의 빈도수를 value_counts로 세어봅니다.\n",
    "df[\"cluster\"].value_counts().head(10)"
   ]
  },
  {
   "cell_type": "markdown",
   "metadata": {},
   "source": [
    "### MiniBatchKMeans\n",
    "* [Comparison of the K-Means and MiniBatchKMeans clustering algorithms — scikit-learn documentation](https://scikit-learn.org/stable/auto_examples/cluster/plot_mini_batch_kmeans.html)"
   ]
  },
  {
   "cell_type": "code",
   "execution_count": null,
   "metadata": {},
   "outputs": [],
   "source": [
    "# batch_size 를 쓸 수 있는 MiniBatchKMeans 로 군집화\n",
    "from sklearn.cluster import MiniBatchKMeans\n",
    "b_inertia = []\n",
    "\n",
    "# 적절한 클러스터의 갯수를 알기 위해 inertia 값을 구함\n",
    "# trange 를 통해 시작과 끝 값을 지정해 주면 진행 정도를 알 수 있습니다.\n",
    "# b_inertia 리스트에 cls.inertia_ 값을 넣어줍니다.\n",
    "for i in trange(start, end):\n",
    "    cls = MiniBatchKMeans(n_clusters=i, random_state=42)\n",
    "    cls.fit(feature_tfidf)\n",
    "    b_inertia.append(cls.inertia_)"
   ]
  },
  {
   "cell_type": "code",
   "execution_count": null,
   "metadata": {},
   "outputs": [],
   "source": [
    "# 위에서 구한 값을 시각화 합니다.\n",
    "# x축에는 클러스터의 수를 y축에는 b_inertia 값을 넣어 그립니다.\n",
    "plt.plot(range(start, end), b_inertia)\n",
    "plt.title(\"MiniBatchKMeans 클러스터 수 비교\")"
   ]
  },
  {
   "cell_type": "code",
   "execution_count": null,
   "metadata": {},
   "outputs": [],
   "source": [
    "# MiniBatchKMeans 를 통해 학습을 시킵니다.\n",
    "# 결과를 bcluster 라는 변수에 저장합니다.\n",
    "cls = MiniBatchKMeans(n_clusters=n_clusters, random_state=42)\n",
    "cls.fit(feature_tfidf)\n",
    "prediction = cls.predict(feature_tfidf)\n",
    "df[\"bcluster\"] = prediction"
   ]
  },
  {
   "cell_type": "code",
   "execution_count": null,
   "metadata": {},
   "outputs": [],
   "source": [
    "# bcluster의 빈도수를 구합니다.\n",
    "df[\"bcluster\"].value_counts().head(10)"
   ]
  },
  {
   "cell_type": "code",
   "execution_count": null,
   "metadata": {},
   "outputs": [],
   "source": [
    "# 어떤 강좌명이 있는지 특정 클러스터의 값을 봅니다.  \n",
    "df.loc[df[\"bcluster\"] == 21, \"course\"].value_counts().head(1)"
   ]
  },
  {
   "cell_type": "code",
   "execution_count": null,
   "metadata": {},
   "outputs": [],
   "source": [
    "# bcluster, cluster, course 값을 미리보기 합니다.\n",
    "df.loc[df[\"bcluster\"] == 21, [\"bcluster\", \"cluster\", \"course\"]]"
   ]
  },
  {
   "cell_type": "code",
   "execution_count": null,
   "metadata": {
    "scrolled": false
   },
   "outputs": [],
   "source": [
    "df.loc[df[\"bcluster\"] == 24, [\"bcluster\", \"cluster\", \"origin_text\", \"course\"]].tail(10)"
   ]
  },
  {
   "cell_type": "markdown",
   "metadata": {},
   "source": [
    "### 클러스터 예측 정확도 확인하기"
   ]
  },
  {
   "cell_type": "code",
   "execution_count": null,
   "metadata": {},
   "outputs": [],
   "source": [
    "# n_clusters 위에서 정의한 클러스터 수를 사용\n",
    "feature_array = feature_vector.toarray()\n",
    "# 예측한 클러스터의 유니크 값\n",
    "labels = np.unique(prediction)\n",
    "df_cluster_score = []\n",
    "df_cluster = []\n",
    "for label in labels:\n",
    "    id_temp = np.where(prediction==label) # 예측한 값이 클러스터 번호와 매치 되는 것을 가져옴\n",
    "    x_means = np.mean(feature_array[id_temp], axis = 0) # 클러스터의 평균 값을 구함\n",
    "    sorted_means = np.argsort(x_means)[::-1][:n_clusters] # 값을 역순으로 정렬해서 클러스터 수 만큼 가져옴\n",
    "    features = vectorizer.get_feature_names()\n",
    "    best_features = [(features[i], x_means[i]) for i in sorted_means] \n",
    "    # 클러스터별 전체 스코어\n",
    "    df_score = pd.DataFrame(best_features, columns = ['features', 'score'])\n",
    "    df_cluster_score.append(df_score)\n",
    "    # 클러스터 대표 키워드\n",
    "    df_cluster.append(best_features[0])"
   ]
  },
  {
   "cell_type": "code",
   "execution_count": null,
   "metadata": {},
   "outputs": [],
   "source": [
    "# 개별 클러스터에서 점수가 가장 높은 단어를 추출 아래 점수가 클수록 예측 정확도가 높음\n",
    "# MiniBatchKMeans 로 예측한 값 기준\n",
    "pd.DataFrame(df_cluster, columns = ['features', 'score']).sort_values(by=[\"features\", \"score\"], ascending=False)"
   ]
  },
  {
   "cell_type": "code",
   "execution_count": null,
   "metadata": {},
   "outputs": [],
   "source": [
    "# score 정확도가 1이 나온 클러스터를 찾아봄 - 같은 강좌끼리 묶였는지 확인 함\n",
    "df.loc[df[\"bcluster\"] == 28, [\"bcluster\", \"cluster\", \"origin_text\", \"course\"]]"
   ]
  },
  {
   "cell_type": "markdown",
   "metadata": {},
   "source": [
    "## WordCloud\n",
    "* [amueller/word_cloud: A little word cloud generator in Python](https://github.com/amueller/word_cloud)\n",
    "* 설치 방법 : [Wordcloud :: Anaconda Cloud](https://anaconda.org/conda-forge/wordcloud)"
   ]
  },
  {
   "cell_type": "code",
   "execution_count": null,
   "metadata": {},
   "outputs": [],
   "source": [
    "# 불용어 - 자주 등장하지만 의미가 크지 않아 제외하고 싶은 텍스트\n",
    "# stopwords = [\"관심 강의\", \"관심강의\", \"관심\", \"강의\", \"강좌\", \"강의를\",\n",
    "#              \"올해\", \"올해는\", \"열심히\", \"공부를\", \"합니다\", \"하고\", \"싶어요\", \n",
    "#              \"있는\", \"있습니다\", \"싶습니다\", \"2020년\"]\n",
    "# 불용어를 제거하지 않고 그리려면 아래 주석을 풀어서 stopword 변수에 덮어쓰기를 합니다.\n",
    "stopwords = []\n",
    "# displayWordCloud 라는 함수를 만들어 재사용합니다.\n",
    "from wordcloud import WordCloud\n",
    "\n",
    "\n",
    "def displayWordCloud(data = None, backgroundcolor = 'black', width=1280, height=768):\n",
    "    wordcloud = WordCloud(\n",
    "                        font_path = '/Library/Fonts/NanumBarunGothic.ttf', \n",
    "                        stopwords = stopwords, \n",
    "                        background_color = backgroundcolor, \n",
    "                        width = width, height = height, \n",
    "                        random_state=42).generate(data)\n",
    "    plt.figure(figsize = (15 , 10))\n",
    "    plt.imshow(wordcloud)\n",
    "    plt.axis(\"off\")\n",
    "    plt.show() "
   ]
  },
  {
   "cell_type": "code",
   "execution_count": null,
   "metadata": {
    "scrolled": false
   },
   "outputs": [],
   "source": [
    "course_text = \" \".join(df[\"course\"])\n",
    "displayWordCloud(course_text)"
   ]
  },
  {
   "cell_type": "code",
   "execution_count": null,
   "metadata": {},
   "outputs": [],
   "source": []
  },
  {
   "cell_type": "code",
   "execution_count": null,
   "metadata": {},
   "outputs": [],
   "source": []
  },
  {
   "cell_type": "code",
   "execution_count": null,
   "metadata": {},
   "outputs": [],
   "source": []
  }
 ],
 "metadata": {
  "kernelspec": {
   "display_name": "Python 3 (ipykernel)",
   "language": "python",
   "name": "python3"
  },
  "language_info": {
   "codemirror_mode": {
    "name": "ipython",
    "version": 3
   },
   "file_extension": ".py",
   "mimetype": "text/x-python",
   "name": "python",
   "nbconvert_exporter": "python",
   "pygments_lexer": "ipython3",
   "version": "3.7.6"
  },
  "toc": {
   "base_numbering": 1,
   "nav_menu": {},
   "number_sections": true,
   "sideBar": true,
   "skip_h1_title": false,
   "title_cell": "Table of Contents",
   "title_sidebar": "Contents",
   "toc_cell": false,
   "toc_position": {
    "height": "calc(100% - 180px)",
    "left": "10px",
    "top": "150px",
    "width": "256px"
   },
   "toc_section_display": true,
   "toc_window_display": false
  },
  "varInspector": {
   "cols": {
    "lenName": 16,
    "lenType": 16,
    "lenVar": 40
   },
   "kernels_config": {
    "python": {
     "delete_cmd_postfix": "",
     "delete_cmd_prefix": "del ",
     "library": "var_list.py",
     "varRefreshCmd": "print(var_dic_list())"
    },
    "r": {
     "delete_cmd_postfix": ") ",
     "delete_cmd_prefix": "rm(",
     "library": "var_list.r",
     "varRefreshCmd": "cat(var_dic_list()) "
    }
   },
   "types_to_exclude": [
    "module",
    "function",
    "builtin_function_or_method",
    "instance",
    "_Feature"
   ],
   "window_display": false
  }
 },
 "nbformat": 4,
 "nbformat_minor": 2
}
