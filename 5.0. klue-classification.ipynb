{
 "cells": [
  {
   "cell_type": "markdown",
   "metadata": {
    "id": "Vbr1bXAeenSW"
   },
   "source": [
    "## 기초 분류 모델 만들기"
   ]
  },
  {
   "cell_type": "markdown",
   "metadata": {
    "id": "LL-gGaOyenSb"
   },
   "source": [
    "## 라이브러리 로드\n"
   ]
  },
  {
   "cell_type": "code",
   "execution_count": null,
   "metadata": {
    "id": "DfStAGBJenSe"
   },
   "outputs": [],
   "source": [
    "# 필요 라이브러리 설치\n",
    "# koreanize-matplotlib : 한글폰트 사용을 위해 \n",
    "# konlpy : 한국어 형태소 분석을 위해 \n",
    "# tqdm : 오래 걸리는 작업의 진행상태를 보기 위해 \n",
    "# !pip install koreanize-matplotlib\n",
    "# !pip install konlpy --upgrade\n",
    "# !pip install tqdm --upgrade"
   ]
  },
  {
   "cell_type": "code",
   "execution_count": null,
   "metadata": {
    "id": "PGk0c2F6enSc"
   },
   "outputs": [],
   "source": [
    "import pandas as pd\n",
    "import numpy as np\n",
    "import seaborn as sns\n",
    "import matplotlib.pyplot as plt"
   ]
  },
  {
   "cell_type": "markdown",
   "metadata": {
    "id": "ghMSYBGgenSd"
   },
   "source": [
    "## 시각화를 위한 폰트 설정\n"
   ]
  },
  {
   "cell_type": "code",
   "execution_count": null,
   "metadata": {
    "colab": {
     "base_uri": "https://localhost:8080/",
     "height": 595
    },
    "executionInfo": {
     "elapsed": 17384,
     "status": "ok",
     "timestamp": 1652597310169,
     "user": {
      "displayName": "Joeun Park",
      "userId": "17163383815352082166"
     },
     "user_tz": -540
    },
    "id": "KrwkmPO2enSe",
    "outputId": "78285cfb-b60e-4da5-b93c-f69ba5c7f493"
   },
   "outputs": [],
   "source": [
    "import koreanize_matplotlib\n",
    "\n",
    "# 그래프에 retina display 적용\n",
    "%config InlineBackend.figure_format = 'retina'\n",
    "\n",
    "pd.Series([1, 3, 5, -7, 9]).plot(title=\"한글\")"
   ]
  },
  {
   "cell_type": "markdown",
   "metadata": {
    "id": "Y8F2bVFKenSf"
   },
   "source": [
    "## 데이터 로드"
   ]
  },
  {
   "cell_type": "code",
   "execution_count": null,
   "metadata": {
    "colab": {
     "base_uri": "https://localhost:8080/"
    },
    "executionInfo": {
     "elapsed": 1885,
     "status": "ok",
     "timestamp": 1652597312409,
     "user": {
      "displayName": "Joeun Park",
      "userId": "17163383815352082166"
     },
     "user_tz": -540
    },
    "id": "i13zCCvZe6Km",
    "outputId": "67f5b42e-d3f9-4fe3-832c-6391d42a7953"
   },
   "outputs": [],
   "source": [
    "# 데이콘의 해당 데이터셋은 CC-BY-4.0 라이센스입니다.\n",
    "# 데이터 출처 : https://dacon.io/competitions/official/235747/data\n",
    "# 로컬 PC에서 실습 시 직접 데이콘 사이트에 회원가입하고 다운로드 해주세요.\n",
    "\n",
    "import os, platform\n",
    "\n",
    "base_path = \"data/klue/\"\n",
    "file_name = \"dacon-klue-open-zip\"\n",
    "\n",
    "def file_exist_check(base_path):\n",
    "    if os.path.exists(f\"{base_path}train_data.csv\"):\n",
    "        print(f\"{os.getcwd()}/{base_path} 경로에 파일이 있음\")\n",
    "        return\n",
    "\n",
    "    if not os.path.exists(base_path):\n",
    "        os.makedirs(base_path)\n",
    "    \n",
    "    if platform.system() == \"Linux\":\n",
    "        print(f\"파일을 다운로드 하고 {base_path} 경로에 압축을 해제함\")\n",
    "        !wget https://bit.ly/{file_name}\n",
    "        !unzip {file_name} -d {base_path}\n",
    "        return \n",
    "    else:\n",
    "        print(f\"\"\"https://dacon.io/competitions/official/235747/data 에서 다운로드 하고\n",
    "              실습 경로 {os.getcwd()}/{base_path}에 옮겨주세요.\"\"\")\n",
    "        return\n",
    "    \n",
    "file_exist_check(base_path) "
   ]
  },
  {
   "cell_type": "code",
   "execution_count": null,
   "metadata": {
    "colab": {
     "base_uri": "https://localhost:8080/"
    },
    "executionInfo": {
     "elapsed": 7,
     "status": "ok",
     "timestamp": 1632536588880,
     "user": {
      "displayName": "todaycode오늘코드",
      "photoUrl": "https://lh3.googleusercontent.com/a-/AOh14GgLiO5i_xXRR_qAG77avSrsWiiI4KHJR6t4xysb=s64",
      "userId": "06313463015165663090"
     },
     "user_tz": -540
    },
    "id": "fgDzdAbkenSg",
    "outputId": "c883f91e-88d9-455a-f567-39d736c34d1c"
   },
   "outputs": [],
   "source": [
    "# 학습, 예측 데이터셋을 불러옵니다.\n",
    "train = pd.read_csv(\"data/klue/train_data.csv\")\n",
    "test = pd.read_csv(\"data/klue/test_data.csv\")\n",
    "train.shape, test.shape"
   ]
  },
  {
   "cell_type": "code",
   "execution_count": null,
   "metadata": {
    "colab": {
     "base_uri": "https://localhost:8080/",
     "height": 266
    },
    "executionInfo": {
     "elapsed": 556,
     "status": "ok",
     "timestamp": 1632536598317,
     "user": {
      "displayName": "todaycode오늘코드",
      "photoUrl": "https://lh3.googleusercontent.com/a-/AOh14GgLiO5i_xXRR_qAG77avSrsWiiI4KHJR6t4xysb=s64",
      "userId": "06313463015165663090"
     },
     "user_tz": -540
    },
    "id": "mRWZt03eenSh",
    "outputId": "6ae1d8a4-e75c-40ad-abac-30a7c4efa556"
   },
   "outputs": [],
   "source": [
    "# 토픽을 불러옵니다.\n",
    "topic = pd.read_csv(\"data/klue/topic_dict.csv\")\n",
    "topic"
   ]
  },
  {
   "cell_type": "code",
   "execution_count": null,
   "metadata": {
    "colab": {
     "base_uri": "https://localhost:8080/",
     "height": 204
    },
    "executionInfo": {
     "elapsed": 10,
     "status": "ok",
     "timestamp": 1632536600006,
     "user": {
      "displayName": "todaycode오늘코드",
      "photoUrl": "https://lh3.googleusercontent.com/a-/AOh14GgLiO5i_xXRR_qAG77avSrsWiiI4KHJR6t4xysb=s64",
      "userId": "06313463015165663090"
     },
     "user_tz": -540
    },
    "id": "Ppb2RklQenSh",
    "outputId": "7d2d1a9f-8e70-47cf-affe-799f5ecfaf53"
   },
   "outputs": [],
   "source": [
    "train.head()"
   ]
  },
  {
   "cell_type": "code",
   "execution_count": null,
   "metadata": {
    "colab": {
     "base_uri": "https://localhost:8080/",
     "height": 204
    },
    "executionInfo": {
     "elapsed": 5,
     "status": "ok",
     "timestamp": 1632536600495,
     "user": {
      "displayName": "todaycode오늘코드",
      "photoUrl": "https://lh3.googleusercontent.com/a-/AOh14GgLiO5i_xXRR_qAG77avSrsWiiI4KHJR6t4xysb=s64",
      "userId": "06313463015165663090"
     },
     "user_tz": -540
    },
    "id": "ch3U2NcWenSh",
    "outputId": "4cec1257-12da-4013-a335-95ae1ca55022"
   },
   "outputs": [],
   "source": [
    "test.head()"
   ]
  },
  {
   "cell_type": "markdown",
   "metadata": {
    "id": "VTDAIirmenSi"
   },
   "source": [
    "## 전처리를 위한 데이터 병합"
   ]
  },
  {
   "cell_type": "code",
   "execution_count": null,
   "metadata": {
    "colab": {
     "base_uri": "https://localhost:8080/"
    },
    "executionInfo": {
     "elapsed": 394,
     "status": "ok",
     "timestamp": 1632536605192,
     "user": {
      "displayName": "todaycode오늘코드",
      "photoUrl": "https://lh3.googleusercontent.com/a-/AOh14GgLiO5i_xXRR_qAG77avSrsWiiI4KHJR6t4xysb=s64",
      "userId": "06313463015165663090"
     },
     "user_tz": -540
    },
    "id": "sOeN1BIbenSi",
    "outputId": "7749b75e-2eb5-4a3c-e4e3-4242ef643452"
   },
   "outputs": [],
   "source": [
    "topic[\"topic\"].values"
   ]
  },
  {
   "cell_type": "code",
   "execution_count": null,
   "metadata": {
    "colab": {
     "base_uri": "https://localhost:8080/"
    },
    "executionInfo": {
     "elapsed": 5,
     "status": "ok",
     "timestamp": 1632536607243,
     "user": {
      "displayName": "todaycode오늘코드",
      "photoUrl": "https://lh3.googleusercontent.com/a-/AOh14GgLiO5i_xXRR_qAG77avSrsWiiI4KHJR6t4xysb=s64",
      "userId": "06313463015165663090"
     },
     "user_tz": -540
    },
    "id": "ivT09Y7IenSi",
    "outputId": "6ed546cd-0cc5-4028-c664-e9c4b82fcbe9"
   },
   "outputs": [],
   "source": [
    "# 전처리를 위해 데이터 병합\n",
    "raw = pd.concat([train, test])\n",
    "raw.shape"
   ]
  },
  {
   "cell_type": "code",
   "execution_count": null,
   "metadata": {
    "colab": {
     "base_uri": "https://localhost:8080/",
     "height": 204
    },
    "executionInfo": {
     "elapsed": 9,
     "status": "ok",
     "timestamp": 1632536608802,
     "user": {
      "displayName": "todaycode오늘코드",
      "photoUrl": "https://lh3.googleusercontent.com/a-/AOh14GgLiO5i_xXRR_qAG77avSrsWiiI4KHJR6t4xysb=s64",
      "userId": "06313463015165663090"
     },
     "user_tz": -540
    },
    "id": "A92UCQp0enSj",
    "outputId": "2a844e10-bda0-403d-db27-d85289711070"
   },
   "outputs": [],
   "source": [
    "raw.head()"
   ]
  },
  {
   "cell_type": "code",
   "execution_count": null,
   "metadata": {
    "colab": {
     "base_uri": "https://localhost:8080/",
     "height": 204
    },
    "executionInfo": {
     "elapsed": 9,
     "status": "ok",
     "timestamp": 1632536610898,
     "user": {
      "displayName": "todaycode오늘코드",
      "photoUrl": "https://lh3.googleusercontent.com/a-/AOh14GgLiO5i_xXRR_qAG77avSrsWiiI4KHJR6t4xysb=s64",
      "userId": "06313463015165663090"
     },
     "user_tz": -540
    },
    "id": "1plKtH2YenSj",
    "outputId": "c7ad7814-43c1-44e1-b42f-ce46543e867f"
   },
   "outputs": [],
   "source": [
    "raw.tail()"
   ]
  },
  {
   "cell_type": "code",
   "execution_count": null,
   "metadata": {
    "colab": {
     "base_uri": "https://localhost:8080/"
    },
    "executionInfo": {
     "elapsed": 6,
     "status": "ok",
     "timestamp": 1632536613219,
     "user": {
      "displayName": "todaycode오늘코드",
      "photoUrl": "https://lh3.googleusercontent.com/a-/AOh14GgLiO5i_xXRR_qAG77avSrsWiiI4KHJR6t4xysb=s64",
      "userId": "06313463015165663090"
     },
     "user_tz": -540
    },
    "id": "Kk_pkVEwenSj",
    "outputId": "86f9d2fa-79c0-4c95-a1d0-c7aaf2ed6578"
   },
   "outputs": [],
   "source": [
    "df = raw.merge(topic, how=\"left\")\n",
    "df.shape"
   ]
  },
  {
   "cell_type": "code",
   "execution_count": null,
   "metadata": {
    "colab": {
     "base_uri": "https://localhost:8080/",
     "height": 204
    },
    "executionInfo": {
     "elapsed": 10,
     "status": "ok",
     "timestamp": 1632536614653,
     "user": {
      "displayName": "todaycode오늘코드",
      "photoUrl": "https://lh3.googleusercontent.com/a-/AOh14GgLiO5i_xXRR_qAG77avSrsWiiI4KHJR6t4xysb=s64",
      "userId": "06313463015165663090"
     },
     "user_tz": -540
    },
    "id": "ZArbUFL9enSj",
    "outputId": "f10b2a09-4a21-4b4a-85e0-d09b0ec6f76a"
   },
   "outputs": [],
   "source": [
    "df.head()"
   ]
  },
  {
   "cell_type": "markdown",
   "metadata": {
    "id": "8t7HijUgenSk"
   },
   "source": [
    "## 정답값 빈도수"
   ]
  },
  {
   "cell_type": "code",
   "execution_count": null,
   "metadata": {
    "colab": {
     "base_uri": "https://localhost:8080/"
    },
    "executionInfo": {
     "elapsed": 451,
     "status": "ok",
     "timestamp": 1632543506621,
     "user": {
      "displayName": "todaycode오늘코드",
      "photoUrl": "https://lh3.googleusercontent.com/a-/AOh14GgLiO5i_xXRR_qAG77avSrsWiiI4KHJR6t4xysb=s64",
      "userId": "06313463015165663090"
     },
     "user_tz": -540
    },
    "id": "kTlR2nI0enSk",
    "outputId": "5e64b038-3313-46c0-d92c-0aaa2c432efd",
    "scrolled": true
   },
   "outputs": [],
   "source": [
    "# test는 결측치로 되어 있기 때문에 빈도수에 포함되지 않습니다.\n",
    "df[\"topic_idx\"].value_counts()"
   ]
  },
  {
   "cell_type": "code",
   "execution_count": null,
   "metadata": {
    "colab": {
     "base_uri": "https://localhost:8080/",
     "height": 381
    },
    "executionInfo": {
     "elapsed": 12,
     "status": "ok",
     "timestamp": 1632543508866,
     "user": {
      "displayName": "todaycode오늘코드",
      "photoUrl": "https://lh3.googleusercontent.com/a-/AOh14GgLiO5i_xXRR_qAG77avSrsWiiI4KHJR6t4xysb=s64",
      "userId": "06313463015165663090"
     },
     "user_tz": -540
    },
    "id": "dh6stoVjenSk",
    "outputId": "cc7477b1-e153-498a-f04f-3bb14d9be9a5",
    "scrolled": false
   },
   "outputs": [],
   "source": [
    "# df 로 빈도수를 구했지만 test 데이터는 topic이 결측치라 포함되지 않습니다. \n",
    "sns.countplot(data=df, y=\"topic\")"
   ]
  },
  {
   "cell_type": "markdown",
   "metadata": {
    "id": "loh_aLWxenSk"
   },
   "source": [
    "## 문자 길이"
   ]
  },
  {
   "cell_type": "code",
   "execution_count": null,
   "metadata": {
    "id": "cdp_ZufMenSk"
   },
   "outputs": [],
   "source": [
    "# 문자, 단어 빈도수 파생변수 만들기\n",
    "df[\"len\"] = df[\"title\"].apply(lambda x : len(x))\n",
    "df[\"word_count\"] = df[\"title\"].apply(lambda x : len(x.split()))\n",
    "df[\"unique_word_count\"] = df[\"title\"].apply(lambda x : len(set(x.split())))"
   ]
  },
  {
   "cell_type": "code",
   "execution_count": null,
   "metadata": {
    "colab": {
     "base_uri": "https://localhost:8080/",
     "height": 204
    },
    "executionInfo": {
     "elapsed": 428,
     "status": "ok",
     "timestamp": 1632544172415,
     "user": {
      "displayName": "todaycode오늘코드",
      "photoUrl": "https://lh3.googleusercontent.com/a-/AOh14GgLiO5i_xXRR_qAG77avSrsWiiI4KHJR6t4xysb=s64",
      "userId": "06313463015165663090"
     },
     "user_tz": -540
    },
    "id": "7FPvinN0enSl",
    "outputId": "f4475817-cc75-4d8f-caaa-34ea50c55bae"
   },
   "outputs": [],
   "source": [
    "# 파생변수가 잘 만들어졌는지 확인하기\n",
    "df.head()"
   ]
  },
  {
   "cell_type": "code",
   "execution_count": null,
   "metadata": {
    "colab": {
     "base_uri": "https://localhost:8080/",
     "height": 191
    },
    "executionInfo": {
     "elapsed": 1741,
     "status": "ok",
     "timestamp": 1632554224222,
     "user": {
      "displayName": "todaycode오늘코드",
      "photoUrl": "https://lh3.googleusercontent.com/a-/AOh14GgLiO5i_xXRR_qAG77avSrsWiiI4KHJR6t4xysb=s64",
      "userId": "06313463015165663090"
     },
     "user_tz": -540
    },
    "id": "3wrohs-4enSl",
    "outputId": "259ac7b6-b617-4cdb-a29a-b0f152b337be"
   },
   "outputs": [],
   "source": [
    "fig, axes = plt.subplots(1, 3, figsize=(15, 2))\n",
    "sns.histplot(df[\"len\"], ax=axes[0])\n",
    "sns.histplot(df[\"word_count\"], ax=axes[1])\n",
    "sns.histplot(df[\"unique_word_count\"], ax=axes[2])"
   ]
  },
  {
   "cell_type": "code",
   "execution_count": null,
   "metadata": {
    "colab": {
     "base_uri": "https://localhost:8080/",
     "height": 297
    },
    "executionInfo": {
     "elapsed": 10,
     "status": "ok",
     "timestamp": 1632544203539,
     "user": {
      "displayName": "todaycode오늘코드",
      "photoUrl": "https://lh3.googleusercontent.com/a-/AOh14GgLiO5i_xXRR_qAG77avSrsWiiI4KHJR6t4xysb=s64",
      "userId": "06313463015165663090"
     },
     "user_tz": -540
    },
    "id": "V4O0ePwlenSl",
    "outputId": "b9bb4077-3172-43a7-db38-991ef0520d59"
   },
   "outputs": [],
   "source": [
    "df[[\"len\", \"word_count\", \"unique_word_count\"]].describe()"
   ]
  },
  {
   "cell_type": "markdown",
   "metadata": {
    "id": "u3G29lEl0VQk"
   },
   "source": [
    "### 주제별 글자와 단어 수"
   ]
  },
  {
   "cell_type": "code",
   "execution_count": null,
   "metadata": {
    "colab": {
     "base_uri": "https://localhost:8080/",
     "height": 603
    },
    "executionInfo": {
     "elapsed": 7069,
     "status": "ok",
     "timestamp": 1632554455771,
     "user": {
      "displayName": "todaycode오늘코드",
      "photoUrl": "https://lh3.googleusercontent.com/a-/AOh14GgLiO5i_xXRR_qAG77avSrsWiiI4KHJR6t4xysb=s64",
      "userId": "06313463015165663090"
     },
     "user_tz": -540
    },
    "id": "gpxur9cHenSl",
    "outputId": "8b23d574-99b5-4f29-c5e3-5078bf536990"
   },
   "outputs": [],
   "source": [
    "sns.displot(data=df, x=\"len\",\n",
    "            hue=\"topic\", col=\"topic\", col_wrap=2, aspect=5, height=2)"
   ]
  },
  {
   "cell_type": "code",
   "execution_count": null,
   "metadata": {
    "colab": {
     "base_uri": "https://localhost:8080/",
     "height": 603
    },
    "executionInfo": {
     "elapsed": 6349,
     "status": "ok",
     "timestamp": 1632554438275,
     "user": {
      "displayName": "todaycode오늘코드",
      "photoUrl": "https://lh3.googleusercontent.com/a-/AOh14GgLiO5i_xXRR_qAG77avSrsWiiI4KHJR6t4xysb=s64",
      "userId": "06313463015165663090"
     },
     "user_tz": -540
    },
    "id": "VbU5N6QfenSl",
    "outputId": "b7043058-aa5d-46f1-b856-9b77994d40c9"
   },
   "outputs": [],
   "source": [
    "sns.displot(data=df, x=\"word_count\",\n",
    "            hue=\"topic\", col=\"topic\", col_wrap=2, aspect=5, height=2)"
   ]
  },
  {
   "cell_type": "code",
   "execution_count": null,
   "metadata": {
    "colab": {
     "base_uri": "https://localhost:8080/",
     "height": 603
    },
    "executionInfo": {
     "elapsed": 6821,
     "status": "ok",
     "timestamp": 1632569137541,
     "user": {
      "displayName": "todaycode오늘코드",
      "photoUrl": "https://lh3.googleusercontent.com/a-/AOh14GgLiO5i_xXRR_qAG77avSrsWiiI4KHJR6t4xysb=s64",
      "userId": "06313463015165663090"
     },
     "user_tz": -540
    },
    "id": "02P7H5J2enSl",
    "outputId": "ba7dbc39-bb45-461d-8c6f-b88afd4ae565"
   },
   "outputs": [],
   "source": [
    "sns.displot(data=df, x=\"unique_word_count\",\n",
    "            hue=\"topic\", col=\"topic\", col_wrap=2, aspect=5, height=2)"
   ]
  },
  {
   "cell_type": "markdown",
   "metadata": {
    "id": "s2Tq8lQuenSl"
   },
   "source": [
    "## 문자 전처리\n",
    "\n",
    "### 숫자 제거"
   ]
  },
  {
   "cell_type": "code",
   "execution_count": null,
   "metadata": {
    "id": "r106GMfLenSl"
   },
   "outputs": [],
   "source": [
    "import re\n",
    "# df[\"title\"] = df[\"title\"].map(lambda x : re.sub(\"[0-9]\", \"\", x))\n",
    "df[\"title\"] = df[\"title\"].str.replace(\"[0-9]\", \"\", regex=True)"
   ]
  },
  {
   "cell_type": "markdown",
   "metadata": {
    "id": "TfJ924LJenSm"
   },
   "source": [
    "### 영문자는 모두 소문자로 변경\n",
    "\n",
    "대소문자가 섞여 있으면 다른 다른 단어로 다루기 때문에 영문자는 모두 대문자 혹은 소문자로 변경합니다."
   ]
  },
  {
   "cell_type": "code",
   "execution_count": null,
   "metadata": {
    "id": "prDYgv_yenSm"
   },
   "outputs": [],
   "source": [
    "df[\"title\"] = df[\"title\"].str.lower()"
   ]
  },
  {
   "cell_type": "markdown",
   "metadata": {},
   "source": [
    "### 조사, 어미, 구두점 제거"
   ]
  },
  {
   "cell_type": "code",
   "execution_count": null,
   "metadata": {},
   "outputs": [],
   "source": [
    "# 형태소 분석기(Okt) 불러오기 \n",
    "\n",
    "from konlpy.tag import Okt\n",
    "okt = Okt() \n",
    "\n",
    "# 조사, 어미, 구두점 제거, 어간 추출\n",
    "def okt_clean(text):\n",
    "    clean_text = []\n",
    "    for word in okt.pos(text, stem=True):\n",
    "        if word[1] not in ['Josa', 'Eomi', 'Punctuation']:\n",
    "            clean_text.append(word[0])\n",
    "    \n",
    "    return \" \".join(clean_text) \n",
    "\n",
    "from tqdm import tqdm\n",
    "tqdm.pandas() \n",
    "\n",
    "train['title'] = train['title'].progress_map(okt_clean)\n",
    "test['title'] = test['title'].progress_map(okt_clean)"
   ]
  },
  {
   "cell_type": "markdown",
   "metadata": {
    "id": "pYXTHsoDenSm"
   },
   "source": [
    "### 불용어 제거"
   ]
  },
  {
   "cell_type": "code",
   "execution_count": null,
   "metadata": {
    "id": "gqhA8LjXenSm"
   },
   "outputs": [],
   "source": [
    "# 불용어 제거\n",
    "def remove_stopwords(text):\n",
    "    tokens = text.split(' ')\n",
    "    stops = [ '합니다', '하는', '할', '하고', '한다', \n",
    "             '그리고', '입니다', '그 ', ' 등', '이런', ' 것 ', ' 및 ',' 제 ', ' 더 ']\n",
    "    meaningful_words = [w for w in tokens if not w in stops]\n",
    "    return ' '.join(meaningful_words)"
   ]
  },
  {
   "cell_type": "code",
   "execution_count": null,
   "metadata": {
    "id": "yTaQCojeenSn"
   },
   "outputs": [],
   "source": [
    "df[\"title\"] = df[\"title\"].map(remove_stopwords)"
   ]
  },
  {
   "cell_type": "markdown",
   "metadata": {
    "id": "BHSUtJqEenSn"
   },
   "source": [
    "## 학습, 예측 데이터셋 분리"
   ]
  },
  {
   "cell_type": "code",
   "execution_count": null,
   "metadata": {
    "id": "nuGaeykBenSn"
   },
   "outputs": [],
   "source": [
    "label_name = \"topic_idx\""
   ]
  },
  {
   "cell_type": "code",
   "execution_count": null,
   "metadata": {
    "id": "TgE3OOHTenSn"
   },
   "outputs": [],
   "source": [
    "train = df[df[label_name].notnull()]\n",
    "test = df[df[label_name].isnull()]\n",
    "train.shape, test.shape"
   ]
  },
  {
   "cell_type": "code",
   "execution_count": null,
   "metadata": {
    "id": "JdX91EYdenSn"
   },
   "outputs": [],
   "source": [
    "X_train = train[\"title\"]\n",
    "X_test = test[\"title\"]\n",
    "\n",
    "X_train.shape, X_test.shape"
   ]
  },
  {
   "cell_type": "code",
   "execution_count": null,
   "metadata": {
    "id": "Vz2zkeRLenSn"
   },
   "outputs": [],
   "source": [
    "y_train = train[label_name]\n",
    "y_train.value_counts()"
   ]
  },
  {
   "cell_type": "code",
   "execution_count": null,
   "metadata": {
    "id": "e2ZIDRrpenSn"
   },
   "outputs": [],
   "source": [
    "y_test = test[label_name]\n",
    "y_test.value_counts()"
   ]
  },
  {
   "cell_type": "markdown",
   "metadata": {
    "id": "nLkgFZFWenSn"
   },
   "source": [
    "## 벡터화\n",
    "* 머신러닝이나 딥러닝 알고리즘은 문자를 이해할 수 없습니다. 내부에서는 수치 계산이 이루어지기 때문에 문자를 숫자로 변경해 주어야 합니다.\n",
    "\n",
    "\n",
    "### TF-IDF(Term Frequency - Inverse Document Frequency)"
   ]
  },
  {
   "cell_type": "code",
   "execution_count": null,
   "metadata": {
    "id": "F2pFKg3WenSn"
   },
   "outputs": [],
   "source": [
    "from sklearn.feature_extraction.text import TfidfVectorizer\n",
    "\n",
    "tfidf_vect = TfidfVectorizer(tokenizer=None, \n",
    "                             ngram_range=(1,2),\n",
    "                             min_df=3, \n",
    "                             max_df=0.95)\n",
    "tfidf_vect.fit(X_train)"
   ]
  },
  {
   "cell_type": "code",
   "execution_count": null,
   "metadata": {
    "id": "xDPFJjHBenSo"
   },
   "outputs": [],
   "source": [
    "train_feature_tfidf = tfidf_vect.transform(X_train)\n",
    "test_feature_tfidf = tfidf_vect.transform(X_test)\n",
    "\n",
    "train_feature_tfidf.shape, test_feature_tfidf.shape"
   ]
  },
  {
   "cell_type": "code",
   "execution_count": null,
   "metadata": {
    "id": "hNoC_qbRenSo"
   },
   "outputs": [],
   "source": [
    "# 단어 사전\n",
    "vocab = tfidf_vect.get_feature_names()\n",
    "print(len(vocab))\n",
    "vocab[:10]"
   ]
  },
  {
   "cell_type": "code",
   "execution_count": null,
   "metadata": {
    "id": "zLgDf7gVenSo"
   },
   "outputs": [],
   "source": [
    "# np.sum 으로 위에서 구한 train_feature_vector 의 값을 모두 더합니다. axis=0 으로 합니다. \n",
    "dist = np.sum(train_feature_tfidf, axis=0)\n",
    "\n",
    "vocab_count = pd.DataFrame(dist, columns=vocab)\n",
    "vocab_count"
   ]
  },
  {
   "cell_type": "code",
   "execution_count": null,
   "metadata": {
    "id": "1wK_G7RuenSo",
    "scrolled": false
   },
   "outputs": [],
   "source": [
    "# 위에서 구한 빈도수를 그래프로 그립니다.\n",
    "vocab_count.T[0].sort_values(ascending=False).head(50).plot.bar(figsize=(15, 4))"
   ]
  },
  {
   "cell_type": "markdown",
   "metadata": {
    "id": "35kJ-DWlenSo"
   },
   "source": [
    "## 학습과 예측"
   ]
  },
  {
   "cell_type": "code",
   "execution_count": null,
   "metadata": {
    "id": "WDYIgm0JenSo"
   },
   "outputs": [],
   "source": [
    "# RandomForestClassifier 를 불러옵니다.\n",
    "from sklearn.ensemble import RandomForestClassifier\n",
    "\n",
    "# 랜덤포레스트 분류기를 사용\n",
    "model = RandomForestClassifier(n_estimators = 100, n_jobs = -1, random_state=42)\n",
    "model"
   ]
  },
  {
   "cell_type": "code",
   "execution_count": null,
   "metadata": {
    "id": "2KX0eZVZenSo"
   },
   "outputs": [],
   "source": [
    "from lightgbm import LGBMClassifier\n",
    "\n",
    "# lightgbm 분류기 사용\n",
    "model = LGBMClassifier(random_state=42)\n",
    "model"
   ]
  },
  {
   "cell_type": "markdown",
   "metadata": {
    "id": "G42T001VenSo"
   },
   "source": [
    "### 교차 검증"
   ]
  },
  {
   "cell_type": "code",
   "execution_count": null,
   "metadata": {
    "id": "TtDajG3aenSp"
   },
   "outputs": [],
   "source": [
    "from sklearn.model_selection import cross_val_predict\n",
    "\n",
    "y_pred = cross_val_predict(model, train_feature_tfidf, y_train, cv=3, n_jobs=-1, verbose=1)"
   ]
  },
  {
   "cell_type": "markdown",
   "metadata": {
    "id": "AuKzS8pPenSp"
   },
   "source": [
    "### 교차 검증 정확도"
   ]
  },
  {
   "cell_type": "code",
   "execution_count": null,
   "metadata": {
    "id": "pnpoPXdIenSp",
    "scrolled": true
   },
   "outputs": [],
   "source": [
    "valid_accuracy = (y_pred == y_train).mean()\n",
    "valid_accuracy"
   ]
  },
  {
   "cell_type": "code",
   "execution_count": null,
   "metadata": {
    "id": "Y4TVDB8kenSp"
   },
   "outputs": [],
   "source": [
    "df_accuracy = pd.DataFrame({\"pred\": y_pred, \"train\": y_train})\n",
    "df_accuracy[\"accuracy\"] = (y_pred == y_train)"
   ]
  },
  {
   "cell_type": "code",
   "execution_count": null,
   "metadata": {
    "id": "XMfqI2KpenSp"
   },
   "outputs": [],
   "source": [
    "topic"
   ]
  },
  {
   "cell_type": "code",
   "execution_count": null,
   "metadata": {
    "id": "Vl-JhrUmenSp"
   },
   "outputs": [],
   "source": [
    "df_accuracy.groupby([\"train\"])[\"accuracy\"].mean()"
   ]
  },
  {
   "cell_type": "code",
   "execution_count": null,
   "metadata": {
    "id": "CjcKXioQenSp"
   },
   "outputs": [],
   "source": [
    "df_accuracy.rename(columns={\"pred\":\"predict\"})"
   ]
  },
  {
   "cell_type": "markdown",
   "metadata": {
    "id": "4OGrxoGEenSp"
   },
   "source": [
    "### 학습\n"
   ]
  },
  {
   "cell_type": "code",
   "execution_count": null,
   "metadata": {
    "id": "DGwHTV9uenSp",
    "scrolled": true
   },
   "outputs": [],
   "source": [
    "# fit 으로 학습시킵니다.\n",
    "%time model.fit(train_feature_tfidf, y_train)"
   ]
  },
  {
   "cell_type": "markdown",
   "metadata": {
    "id": "jj6T3qITenSq"
   },
   "source": [
    "### 예측"
   ]
  },
  {
   "cell_type": "code",
   "execution_count": null,
   "metadata": {
    "id": "8ErXsWONenSq"
   },
   "outputs": [],
   "source": [
    "# predict로 예측합니다. \n",
    "y_predict = model.predict(test_feature_tfidf)\n",
    "y_predict[:5]"
   ]
  },
  {
   "cell_type": "markdown",
   "metadata": {
    "id": "yz_Dx1jEenSq"
   },
   "source": [
    "## 답안지 로드\n",
    "\n",
    "sample_submission.csv 파일은 마치 답안지와 같습니다."
   ]
  },
  {
   "cell_type": "code",
   "execution_count": null,
   "metadata": {
    "id": "bjDXXKSYenSq"
   },
   "outputs": [],
   "source": [
    "submit = pd.read_csv(\"data/klue/sample_submission.csv\")\n",
    "submit.head()"
   ]
  },
  {
   "cell_type": "code",
   "execution_count": null,
   "metadata": {
    "id": "6IDuzRftenSq"
   },
   "outputs": [],
   "source": [
    "# 정답값 측정을 위해 y_test 변수에 할당\n",
    "submit[\"topic_idx\"] = y_predict"
   ]
  },
  {
   "cell_type": "code",
   "execution_count": null,
   "metadata": {
    "id": "F7boYJb4enSq"
   },
   "outputs": [],
   "source": [
    "submit.to_csv(f\"submit_{valid_accuracy}.csv\", index=False)"
   ]
  },
  {
   "cell_type": "code",
   "execution_count": null,
   "metadata": {
    "id": "ZB1HBD38enSq"
   },
   "outputs": [],
   "source": []
  }
 ],
 "metadata": {
  "colab": {
   "collapsed_sections": [],
   "name": "klue-classification.ipynb",
   "provenance": []
  },
  "kernelspec": {
   "display_name": "Python 3 (ipykernel)",
   "language": "python",
   "name": "python3"
  },
  "language_info": {
   "codemirror_mode": {
    "name": "ipython",
    "version": 3
   },
   "file_extension": ".py",
   "mimetype": "text/x-python",
   "name": "python",
   "nbconvert_exporter": "python",
   "pygments_lexer": "ipython3",
   "version": "3.7.13"
  },
  "toc": {
   "base_numbering": 1,
   "nav_menu": {},
   "number_sections": true,
   "sideBar": true,
   "skip_h1_title": false,
   "title_cell": "Table of Contents",
   "title_sidebar": "Contents",
   "toc_cell": false,
   "toc_position": {},
   "toc_section_display": true,
   "toc_window_display": false
  },
  "varInspector": {
   "cols": {
    "lenName": 16,
    "lenType": 16,
    "lenVar": 40
   },
   "kernels_config": {
    "python": {
     "delete_cmd_postfix": "",
     "delete_cmd_prefix": "del ",
     "library": "var_list.py",
     "varRefreshCmd": "print(var_dic_list())"
    },
    "r": {
     "delete_cmd_postfix": ") ",
     "delete_cmd_prefix": "rm(",
     "library": "var_list.r",
     "varRefreshCmd": "cat(var_dic_list()) "
    }
   },
   "types_to_exclude": [
    "module",
    "function",
    "builtin_function_or_method",
    "instance",
    "_Feature"
   ],
   "window_display": false
  }
 },
 "nbformat": 4,
 "nbformat_minor": 1
}
