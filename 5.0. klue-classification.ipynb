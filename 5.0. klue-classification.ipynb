{
 "cells": [
  {
   "cell_type": "markdown",
   "metadata": {
    "id": "Vbr1bXAeenSW"
   },
   "source": [
    "## 기초 분류 모델 만들기"
   ]
  },
  {
   "cell_type": "markdown",
   "metadata": {
    "id": "LL-gGaOyenSb"
   },
   "source": [
    "## 라이브러리 로드\n"
   ]
  },
  {
   "cell_type": "code",
   "execution_count": 1,
   "metadata": {
    "id": "DfStAGBJenSe"
   },
   "outputs": [],
   "source": [
    "# 필요 라이브러리 설치\n",
    "# koreanize-matplotlib : 한글폰트 사용을 위해 \n",
    "# konlpy : 한국어 형태소 분석을 위해 \n",
    "# tqdm : 오래 걸리는 작업의 진행상태를 보기 위해 \n",
    "# !pip install koreanize-matplotlib\n",
    "# !pip install konlpy --upgrade\n",
    "# !pip install tqdm --upgrade"
   ]
  },
  {
   "cell_type": "code",
   "execution_count": 2,
   "metadata": {
    "id": "PGk0c2F6enSc"
   },
   "outputs": [],
   "source": [
    "import pandas as pd\n",
    "import numpy as np\n",
    "import seaborn as sns\n",
    "import matplotlib.pyplot as plt"
   ]
  },
  {
   "cell_type": "markdown",
   "metadata": {
    "id": "ghMSYBGgenSd"
   },
   "source": [
    "## 시각화를 위한 폰트 설정\n"
   ]
  },
  {
   "cell_type": "code",
   "execution_count": 3,
   "metadata": {
    "colab": {
     "base_uri": "https://localhost:8080/",
     "height": 595
    },
    "executionInfo": {
     "elapsed": 17384,
     "status": "ok",
     "timestamp": 1652597310169,
     "user": {
      "displayName": "Joeun Park",
      "userId": "17163383815352082166"
     },
     "user_tz": -540
    },
    "id": "KrwkmPO2enSe",
    "outputId": "78285cfb-b60e-4da5-b93c-f69ba5c7f493"
   },
   "outputs": [
    {
     "data": {
      "text/plain": [
       "<AxesSubplot:title={'center':'한글'}>"
      ]
     },
     "execution_count": 3,
     "metadata": {},
     "output_type": "execute_result"
    },
    {
     "data": {
      "image/png": "[encoded data removed]",
      "text/plain": [
       "<Figure size 432x288 with 1 Axes>"
      ]
     },
     "metadata": {
      "image/png": {
       "height": 263,
       "width": 365
      },
      "needs_background": "light"
     },
     "output_type": "display_data"
    }
   ],
   "source": [
    "import koreanize_matplotlib\n",
    "\n",
    "# 그래프에 retina display 적용\n",
    "%config InlineBackend.figure_format = 'retina'\n",
    "\n",
    "pd.Series([1, 3, 5, -7, 9]).plot(title=\"한글\")"
   ]
  },
  {
   "cell_type": "markdown",
   "metadata": {
    "id": "Y8F2bVFKenSf"
   },
   "source": [
    "## 데이터 로드"
   ]
  },
  {
   "cell_type": "code",
   "execution_count": 4,
   "metadata": {
    "colab": {
     "base_uri": "https://localhost:8080/"
    },
    "executionInfo": {
     "elapsed": 1885,
     "status": "ok",
     "timestamp": 1652597312409,
     "user": {
      "displayName": "Joeun Park",
      "userId": "17163383815352082166"
     },
     "user_tz": -540
    },
    "id": "i13zCCvZe6Km",
    "outputId": "67f5b42e-d3f9-4fe3-832c-6391d42a7953"
   },
   "outputs": [
    {
     "name": "stdout",
     "output_type": "stream",
     "text": [
      "/Users/corazzon/codes/pytextbook/data/klue/ 경로에 파일이 있음\n"
     ]
    }
   ],
   "source": [
    "# 데이콘의 해당 데이터셋은 CC-BY-4.0 라이센스입니다.\n",
    "# 데이터 출처 : https://dacon.io/competitions/official/235747/data\n",
    "# 로컬 PC에서 실습 시 직접 데이콘 사이트에 회원가입하고 다운로드 해주세요.\n",
    "\n",
    "import os, platform\n",
    "\n",
    "base_path = \"data/klue/\"\n",
    "file_name = \"dacon-klue-open-zip\"\n",
    "\n",
    "def file_exist_check(base_path):\n",
    "    if os.path.exists(f\"{base_path}train_data.csv\"):\n",
    "        print(f\"{os.getcwd()}/{base_path} 경로에 파일이 있음\")\n",
    "        return\n",
    "\n",
    "    if not os.path.exists(base_path):\n",
    "        os.makedirs(base_path)\n",
    "    \n",
    "    if platform.system() == \"Linux\":\n",
    "        print(f\"파일을 다운로드 하고 {base_path} 경로에 압축을 해제함\")\n",
    "        !wget https://bit.ly/{file_name}\n",
    "        !unzip {file_name} -d {base_path}\n",
    "        return \n",
    "    else:\n",
    "        print(f\"\"\"https://dacon.io/competitions/official/235747/data 에서 다운로드 하고\n",
    "              실습 경로 {os.getcwd()}/{base_path}에 옮겨주세요.\"\"\")\n",
    "        return\n",
    "    \n",
    "file_exist_check(base_path) "
   ]
  },
  {
   "cell_type": "code",
   "execution_count": 5,
   "metadata": {
    "colab": {
     "base_uri": "https://localhost:8080/"
    },
    "executionInfo": {
     "elapsed": 7,
     "status": "ok",
     "timestamp": 1632536588880,
     "user": {
      "displayName": "todaycode오늘코드",
      "photoUrl": "https://lh3.googleusercontent.com/a-/AOh14GgLiO5i_xXRR_qAG77avSrsWiiI4KHJR6t4xysb=s64",
      "userId": "06313463015165663090"
     },
     "user_tz": -540
    },
    "id": "fgDzdAbkenSg",
    "outputId": "c883f91e-88d9-455a-f567-39d736c34d1c"
   },
   "outputs": [
    {
     "data": {
      "text/plain": [
       "((45654, 3), (9131, 2))"
      ]
     },
     "execution_count": 5,
     "metadata": {},
     "output_type": "execute_result"
    }
   ],
   "source": [
    "# 학습, 예측 데이터셋을 불러옵니다.\n",
    "train = pd.read_csv(os.path.join(base_path, \"train_data.csv\"))\n",
    "test = pd.read_csv(os.path.join(base_path, \"test_data.csv\"))\n",
    "train.shape, test.shape"
   ]
  },
  {
   "cell_type": "code",
   "execution_count": 6,
   "metadata": {
    "colab": {
     "base_uri": "https://localhost:8080/",
     "height": 266
    },
    "executionInfo": {
     "elapsed": 556,
     "status": "ok",
     "timestamp": 1632536598317,
     "user": {
      "displayName": "todaycode오늘코드",
      "photoUrl": "https://lh3.googleusercontent.com/a-/AOh14GgLiO5i_xXRR_qAG77avSrsWiiI4KHJR6t4xysb=s64",
      "userId": "06313463015165663090"
     },
     "user_tz": -540
    },
    "id": "mRWZt03eenSh",
    "outputId": "6ae1d8a4-e75c-40ad-abac-30a7c4efa556"
   },
   "outputs": [
    {
     "data": {
      "text/html": [
       "<div>\n",
       "<style scoped>\n",
       "    .dataframe tbody tr th:only-of-type {\n",
       "        vertical-align: middle;\n",
       "    }\n",
       "\n",
       "    .dataframe tbody tr th {\n",
       "        vertical-align: top;\n",
       "    }\n",
       "\n",
       "    .dataframe thead th {\n",
       "        text-align: right;\n",
       "    }\n",
       "</style>\n",
       "<table border=\"1\" class=\"dataframe\">\n",
       "  <thead>\n",
       "    <tr style=\"text-align: right;\">\n",
       "      <th></th>\n",
       "      <th>topic</th>\n",
       "      <th>topic_idx</th>\n",
       "    </tr>\n",
       "  </thead>\n",
       "  <tbody>\n",
       "    <tr>\n",
       "      <th>0</th>\n",
       "      <td>IT과학</td>\n",
       "      <td>0</td>\n",
       "    </tr>\n",
       "    <tr>\n",
       "      <th>1</th>\n",
       "      <td>경제</td>\n",
       "      <td>1</td>\n",
       "    </tr>\n",
       "    <tr>\n",
       "      <th>2</th>\n",
       "      <td>사회</td>\n",
       "      <td>2</td>\n",
       "    </tr>\n",
       "    <tr>\n",
       "      <th>3</th>\n",
       "      <td>생활문화</td>\n",
       "      <td>3</td>\n",
       "    </tr>\n",
       "    <tr>\n",
       "      <th>4</th>\n",
       "      <td>세계</td>\n",
       "      <td>4</td>\n",
       "    </tr>\n",
       "    <tr>\n",
       "      <th>5</th>\n",
       "      <td>스포츠</td>\n",
       "      <td>5</td>\n",
       "    </tr>\n",
       "    <tr>\n",
       "      <th>6</th>\n",
       "      <td>정치</td>\n",
       "      <td>6</td>\n",
       "    </tr>\n",
       "  </tbody>\n",
       "</table>\n",
       "</div>"
      ],
      "text/plain": [
       "  topic  topic_idx\n",
       "0  IT과학          0\n",
       "1    경제          1\n",
       "2    사회          2\n",
       "3  생활문화          3\n",
       "4    세계          4\n",
       "5   스포츠          5\n",
       "6    정치          6"
      ]
     },
     "execution_count": 6,
     "metadata": {},
     "output_type": "execute_result"
    }
   ],
   "source": [
    "# 토픽을 불러옵니다.\n",
    "topic = pd.read_csv(os.path.join(base_path, \"topic_dict.csv\"))\n",
    "topic"
   ]
  },
  {
   "cell_type": "code",
   "execution_count": 7,
   "metadata": {
    "colab": {
     "base_uri": "https://localhost:8080/",
     "height": 204
    },
    "executionInfo": {
     "elapsed": 10,
     "status": "ok",
     "timestamp": 1632536600006,
     "user": {
      "displayName": "todaycode오늘코드",
      "photoUrl": "https://lh3.googleusercontent.com/a-/AOh14GgLiO5i_xXRR_qAG77avSrsWiiI4KHJR6t4xysb=s64",
      "userId": "06313463015165663090"
     },
     "user_tz": -540
    },
    "id": "Ppb2RklQenSh",
    "outputId": "7d2d1a9f-8e70-47cf-affe-799f5ecfaf53"
   },
   "outputs": [
    {
     "data": {
      "text/html": [
       "<div>\n",
       "<style scoped>\n",
       "    .dataframe tbody tr th:only-of-type {\n",
       "        vertical-align: middle;\n",
       "    }\n",
       "\n",
       "    .dataframe tbody tr th {\n",
       "        vertical-align: top;\n",
       "    }\n",
       "\n",
       "    .dataframe thead th {\n",
       "        text-align: right;\n",
       "    }\n",
       "</style>\n",
       "<table border=\"1\" class=\"dataframe\">\n",
       "  <thead>\n",
       "    <tr style=\"text-align: right;\">\n",
       "      <th></th>\n",
       "      <th>index</th>\n",
       "      <th>title</th>\n",
       "      <th>topic_idx</th>\n",
       "    </tr>\n",
       "  </thead>\n",
       "  <tbody>\n",
       "    <tr>\n",
       "      <th>0</th>\n",
       "      <td>0</td>\n",
       "      <td>인천→핀란드 항공기 결항…휴가철 여행객 분통</td>\n",
       "      <td>4</td>\n",
       "    </tr>\n",
       "    <tr>\n",
       "      <th>1</th>\n",
       "      <td>1</td>\n",
       "      <td>실리콘밸리 넘어서겠다…구글 15조원 들여 美전역 거점화</td>\n",
       "      <td>4</td>\n",
       "    </tr>\n",
       "    <tr>\n",
       "      <th>2</th>\n",
       "      <td>2</td>\n",
       "      <td>이란 외무 긴장완화 해결책은 미국이 경제전쟁 멈추는 것</td>\n",
       "      <td>4</td>\n",
       "    </tr>\n",
       "    <tr>\n",
       "      <th>3</th>\n",
       "      <td>3</td>\n",
       "      <td>NYT 클린턴 측근韓기업 특수관계 조명…공과 사 맞물려종합</td>\n",
       "      <td>4</td>\n",
       "    </tr>\n",
       "    <tr>\n",
       "      <th>4</th>\n",
       "      <td>4</td>\n",
       "      <td>시진핑 트럼프에 중미 무역협상 조속 타결 희망</td>\n",
       "      <td>4</td>\n",
       "    </tr>\n",
       "  </tbody>\n",
       "</table>\n",
       "</div>"
      ],
      "text/plain": [
       "   index                             title  topic_idx\n",
       "0      0          인천→핀란드 항공기 결항…휴가철 여행객 분통          4\n",
       "1      1    실리콘밸리 넘어서겠다…구글 15조원 들여 美전역 거점화          4\n",
       "2      2    이란 외무 긴장완화 해결책은 미국이 경제전쟁 멈추는 것          4\n",
       "3      3  NYT 클린턴 측근韓기업 특수관계 조명…공과 사 맞물려종합          4\n",
       "4      4         시진핑 트럼프에 중미 무역협상 조속 타결 희망          4"
      ]
     },
     "execution_count": 7,
     "metadata": {},
     "output_type": "execute_result"
    }
   ],
   "source": [
    "train.head()"
   ]
  },
  {
   "cell_type": "code",
   "execution_count": 8,
   "metadata": {
    "colab": {
     "base_uri": "https://localhost:8080/",
     "height": 204
    },
    "executionInfo": {
     "elapsed": 5,
     "status": "ok",
     "timestamp": 1632536600495,
     "user": {
      "displayName": "todaycode오늘코드",
      "photoUrl": "https://lh3.googleusercontent.com/a-/AOh14GgLiO5i_xXRR_qAG77avSrsWiiI4KHJR6t4xysb=s64",
      "userId": "06313463015165663090"
     },
     "user_tz": -540
    },
    "id": "ch3U2NcWenSh",
    "outputId": "4cec1257-12da-4013-a335-95ae1ca55022"
   },
   "outputs": [
    {
     "data": {
      "text/html": [
       "<div>\n",
       "<style scoped>\n",
       "    .dataframe tbody tr th:only-of-type {\n",
       "        vertical-align: middle;\n",
       "    }\n",
       "\n",
       "    .dataframe tbody tr th {\n",
       "        vertical-align: top;\n",
       "    }\n",
       "\n",
       "    .dataframe thead th {\n",
       "        text-align: right;\n",
       "    }\n",
       "</style>\n",
       "<table border=\"1\" class=\"dataframe\">\n",
       "  <thead>\n",
       "    <tr style=\"text-align: right;\">\n",
       "      <th></th>\n",
       "      <th>index</th>\n",
       "      <th>title</th>\n",
       "    </tr>\n",
       "  </thead>\n",
       "  <tbody>\n",
       "    <tr>\n",
       "      <th>0</th>\n",
       "      <td>45654</td>\n",
       "      <td>유튜브 내달 2일까지 크리에이터 지원 공간 운영</td>\n",
       "    </tr>\n",
       "    <tr>\n",
       "      <th>1</th>\n",
       "      <td>45655</td>\n",
       "      <td>어버이날 맑다가 흐려져…남부지방 옅은 황사</td>\n",
       "    </tr>\n",
       "    <tr>\n",
       "      <th>2</th>\n",
       "      <td>45656</td>\n",
       "      <td>내년부터 국가RD 평가 때 논문건수는 반영 않는다</td>\n",
       "    </tr>\n",
       "    <tr>\n",
       "      <th>3</th>\n",
       "      <td>45657</td>\n",
       "      <td>김명자 신임 과총 회장 원로와 젊은 과학자 지혜 모을 것</td>\n",
       "    </tr>\n",
       "    <tr>\n",
       "      <th>4</th>\n",
       "      <td>45658</td>\n",
       "      <td>회색인간 작가 김동식 양심고백 등 새 소설집 2권 출간</td>\n",
       "    </tr>\n",
       "  </tbody>\n",
       "</table>\n",
       "</div>"
      ],
      "text/plain": [
       "   index                            title\n",
       "0  45654       유튜브 내달 2일까지 크리에이터 지원 공간 운영\n",
       "1  45655          어버이날 맑다가 흐려져…남부지방 옅은 황사\n",
       "2  45656      내년부터 국가RD 평가 때 논문건수는 반영 않는다\n",
       "3  45657  김명자 신임 과총 회장 원로와 젊은 과학자 지혜 모을 것\n",
       "4  45658   회색인간 작가 김동식 양심고백 등 새 소설집 2권 출간"
      ]
     },
     "execution_count": 8,
     "metadata": {},
     "output_type": "execute_result"
    }
   ],
   "source": [
    "test.head()"
   ]
  },
  {
   "cell_type": "markdown",
   "metadata": {
    "id": "VTDAIirmenSi"
   },
   "source": [
    "## 전처리를 위한 데이터 병합"
   ]
  },
  {
   "cell_type": "code",
   "execution_count": 9,
   "metadata": {
    "colab": {
     "base_uri": "https://localhost:8080/"
    },
    "executionInfo": {
     "elapsed": 394,
     "status": "ok",
     "timestamp": 1632536605192,
     "user": {
      "displayName": "todaycode오늘코드",
      "photoUrl": "https://lh3.googleusercontent.com/a-/AOh14GgLiO5i_xXRR_qAG77avSrsWiiI4KHJR6t4xysb=s64",
      "userId": "06313463015165663090"
     },
     "user_tz": -540
    },
    "id": "sOeN1BIbenSi",
    "outputId": "7749b75e-2eb5-4a3c-e4e3-4242ef643452"
   },
   "outputs": [
    {
     "data": {
      "text/plain": [
       "array(['IT과학', '경제', '사회', '생활문화', '세계', '스포츠', '정치'], dtype=object)"
      ]
     },
     "execution_count": 9,
     "metadata": {},
     "output_type": "execute_result"
    }
   ],
   "source": [
    "topic[\"topic\"].values"
   ]
  },
  {
   "cell_type": "code",
   "execution_count": 10,
   "metadata": {
    "colab": {
     "base_uri": "https://localhost:8080/"
    },
    "executionInfo": {
     "elapsed": 5,
     "status": "ok",
     "timestamp": 1632536607243,
     "user": {
      "displayName": "todaycode오늘코드",
      "photoUrl": "https://lh3.googleusercontent.com/a-/AOh14GgLiO5i_xXRR_qAG77avSrsWiiI4KHJR6t4xysb=s64",
      "userId": "06313463015165663090"
     },
     "user_tz": -540
    },
    "id": "ivT09Y7IenSi",
    "outputId": "6ed546cd-0cc5-4028-c664-e9c4b82fcbe9"
   },
   "outputs": [
    {
     "data": {
      "text/plain": [
       "(54785, 3)"
      ]
     },
     "execution_count": 10,
     "metadata": {},
     "output_type": "execute_result"
    }
   ],
   "source": [
    "# 전처리를 위해 데이터 병합\n",
    "raw = pd.concat([train, test])\n",
    "raw.shape"
   ]
  },
  {
   "cell_type": "code",
   "execution_count": 11,
   "metadata": {
    "colab": {
     "base_uri": "https://localhost:8080/",
     "height": 204
    },
    "executionInfo": {
     "elapsed": 9,
     "status": "ok",
     "timestamp": 1632536608802,
     "user": {
      "displayName": "todaycode오늘코드",
      "photoUrl": "https://lh3.googleusercontent.com/a-/AOh14GgLiO5i_xXRR_qAG77avSrsWiiI4KHJR6t4xysb=s64",
      "userId": "06313463015165663090"
     },
     "user_tz": -540
    },
    "id": "A92UCQp0enSj",
    "outputId": "2a844e10-bda0-403d-db27-d85289711070"
   },
   "outputs": [
    {
     "data": {
      "text/html": [
       "<div>\n",
       "<style scoped>\n",
       "    .dataframe tbody tr th:only-of-type {\n",
       "        vertical-align: middle;\n",
       "    }\n",
       "\n",
       "    .dataframe tbody tr th {\n",
       "        vertical-align: top;\n",
       "    }\n",
       "\n",
       "    .dataframe thead th {\n",
       "        text-align: right;\n",
       "    }\n",
       "</style>\n",
       "<table border=\"1\" class=\"dataframe\">\n",
       "  <thead>\n",
       "    <tr style=\"text-align: right;\">\n",
       "      <th></th>\n",
       "      <th>index</th>\n",
       "      <th>title</th>\n",
       "      <th>topic_idx</th>\n",
       "    </tr>\n",
       "  </thead>\n",
       "  <tbody>\n",
       "    <tr>\n",
       "      <th>0</th>\n",
       "      <td>0</td>\n",
       "      <td>인천→핀란드 항공기 결항…휴가철 여행객 분통</td>\n",
       "      <td>4.0</td>\n",
       "    </tr>\n",
       "    <tr>\n",
       "      <th>1</th>\n",
       "      <td>1</td>\n",
       "      <td>실리콘밸리 넘어서겠다…구글 15조원 들여 美전역 거점화</td>\n",
       "      <td>4.0</td>\n",
       "    </tr>\n",
       "    <tr>\n",
       "      <th>2</th>\n",
       "      <td>2</td>\n",
       "      <td>이란 외무 긴장완화 해결책은 미국이 경제전쟁 멈추는 것</td>\n",
       "      <td>4.0</td>\n",
       "    </tr>\n",
       "    <tr>\n",
       "      <th>3</th>\n",
       "      <td>3</td>\n",
       "      <td>NYT 클린턴 측근韓기업 특수관계 조명…공과 사 맞물려종합</td>\n",
       "      <td>4.0</td>\n",
       "    </tr>\n",
       "    <tr>\n",
       "      <th>4</th>\n",
       "      <td>4</td>\n",
       "      <td>시진핑 트럼프에 중미 무역협상 조속 타결 희망</td>\n",
       "      <td>4.0</td>\n",
       "    </tr>\n",
       "  </tbody>\n",
       "</table>\n",
       "</div>"
      ],
      "text/plain": [
       "   index                             title  topic_idx\n",
       "0      0          인천→핀란드 항공기 결항…휴가철 여행객 분통        4.0\n",
       "1      1    실리콘밸리 넘어서겠다…구글 15조원 들여 美전역 거점화        4.0\n",
       "2      2    이란 외무 긴장완화 해결책은 미국이 경제전쟁 멈추는 것        4.0\n",
       "3      3  NYT 클린턴 측근韓기업 특수관계 조명…공과 사 맞물려종합        4.0\n",
       "4      4         시진핑 트럼프에 중미 무역협상 조속 타결 희망        4.0"
      ]
     },
     "execution_count": 11,
     "metadata": {},
     "output_type": "execute_result"
    }
   ],
   "source": [
    "raw.head()"
   ]
  },
  {
   "cell_type": "code",
   "execution_count": 12,
   "metadata": {
    "colab": {
     "base_uri": "https://localhost:8080/",
     "height": 204
    },
    "executionInfo": {
     "elapsed": 9,
     "status": "ok",
     "timestamp": 1632536610898,
     "user": {
      "displayName": "todaycode오늘코드",
      "photoUrl": "https://lh3.googleusercontent.com/a-/AOh14GgLiO5i_xXRR_qAG77avSrsWiiI4KHJR6t4xysb=s64",
      "userId": "06313463015165663090"
     },
     "user_tz": -540
    },
    "id": "1plKtH2YenSj",
    "outputId": "c7ad7814-43c1-44e1-b42f-ce46543e867f"
   },
   "outputs": [
    {
     "data": {
      "text/html": [
       "<div>\n",
       "<style scoped>\n",
       "    .dataframe tbody tr th:only-of-type {\n",
       "        vertical-align: middle;\n",
       "    }\n",
       "\n",
       "    .dataframe tbody tr th {\n",
       "        vertical-align: top;\n",
       "    }\n",
       "\n",
       "    .dataframe thead th {\n",
       "        text-align: right;\n",
       "    }\n",
       "</style>\n",
       "<table border=\"1\" class=\"dataframe\">\n",
       "  <thead>\n",
       "    <tr style=\"text-align: right;\">\n",
       "      <th></th>\n",
       "      <th>index</th>\n",
       "      <th>title</th>\n",
       "      <th>topic_idx</th>\n",
       "    </tr>\n",
       "  </thead>\n",
       "  <tbody>\n",
       "    <tr>\n",
       "      <th>9126</th>\n",
       "      <td>54780</td>\n",
       "      <td>인천 오후 3시35분 대설주의보…눈 3.1cm 쌓여</td>\n",
       "      <td>NaN</td>\n",
       "    </tr>\n",
       "    <tr>\n",
       "      <th>9127</th>\n",
       "      <td>54781</td>\n",
       "      <td>노래방에서 지인 성추행 외교부 사무관 불구속 입건종합</td>\n",
       "      <td>NaN</td>\n",
       "    </tr>\n",
       "    <tr>\n",
       "      <th>9128</th>\n",
       "      <td>54782</td>\n",
       "      <td>40년 전 부마항쟁 부산 시위 사진 2점 최초 공개</td>\n",
       "      <td>NaN</td>\n",
       "    </tr>\n",
       "    <tr>\n",
       "      <th>9129</th>\n",
       "      <td>54783</td>\n",
       "      <td>게시판 아리랑TV 아프리카개발은행 총회 개회식 생중계</td>\n",
       "      <td>NaN</td>\n",
       "    </tr>\n",
       "    <tr>\n",
       "      <th>9130</th>\n",
       "      <td>54784</td>\n",
       "      <td>유영민 과기장관 강소특구는 지역 혁신의 중심…지원책 강구</td>\n",
       "      <td>NaN</td>\n",
       "    </tr>\n",
       "  </tbody>\n",
       "</table>\n",
       "</div>"
      ],
      "text/plain": [
       "      index                            title  topic_idx\n",
       "9126  54780     인천 오후 3시35분 대설주의보…눈 3.1cm 쌓여        NaN\n",
       "9127  54781    노래방에서 지인 성추행 외교부 사무관 불구속 입건종합        NaN\n",
       "9128  54782     40년 전 부마항쟁 부산 시위 사진 2점 최초 공개        NaN\n",
       "9129  54783    게시판 아리랑TV 아프리카개발은행 총회 개회식 생중계        NaN\n",
       "9130  54784  유영민 과기장관 강소특구는 지역 혁신의 중심…지원책 강구        NaN"
      ]
     },
     "execution_count": 12,
     "metadata": {},
     "output_type": "execute_result"
    }
   ],
   "source": [
    "raw.tail()"
   ]
  },
  {
   "cell_type": "code",
   "execution_count": 13,
   "metadata": {
    "colab": {
     "base_uri": "https://localhost:8080/"
    },
    "executionInfo": {
     "elapsed": 6,
     "status": "ok",
     "timestamp": 1632536613219,
     "user": {
      "displayName": "todaycode오늘코드",
      "photoUrl": "https://lh3.googleusercontent.com/a-/AOh14GgLiO5i_xXRR_qAG77avSrsWiiI4KHJR6t4xysb=s64",
      "userId": "06313463015165663090"
     },
     "user_tz": -540
    },
    "id": "Kk_pkVEwenSj",
    "outputId": "86f9d2fa-79c0-4c95-a1d0-c7aaf2ed6578"
   },
   "outputs": [
    {
     "data": {
      "text/plain": [
       "(54785, 4)"
      ]
     },
     "execution_count": 13,
     "metadata": {},
     "output_type": "execute_result"
    }
   ],
   "source": [
    "df = raw.merge(topic, how=\"left\")\n",
    "df.shape"
   ]
  },
  {
   "cell_type": "code",
   "execution_count": 14,
   "metadata": {
    "colab": {
     "base_uri": "https://localhost:8080/",
     "height": 204
    },
    "executionInfo": {
     "elapsed": 10,
     "status": "ok",
     "timestamp": 1632536614653,
     "user": {
      "displayName": "todaycode오늘코드",
      "photoUrl": "https://lh3.googleusercontent.com/a-/AOh14GgLiO5i_xXRR_qAG77avSrsWiiI4KHJR6t4xysb=s64",
      "userId": "06313463015165663090"
     },
     "user_tz": -540
    },
    "id": "ZArbUFL9enSj",
    "outputId": "f10b2a09-4a21-4b4a-85e0-d09b0ec6f76a"
   },
   "outputs": [
    {
     "data": {
      "text/html": [
       "<div>\n",
       "<style scoped>\n",
       "    .dataframe tbody tr th:only-of-type {\n",
       "        vertical-align: middle;\n",
       "    }\n",
       "\n",
       "    .dataframe tbody tr th {\n",
       "        vertical-align: top;\n",
       "    }\n",
       "\n",
       "    .dataframe thead th {\n",
       "        text-align: right;\n",
       "    }\n",
       "</style>\n",
       "<table border=\"1\" class=\"dataframe\">\n",
       "  <thead>\n",
       "    <tr style=\"text-align: right;\">\n",
       "      <th></th>\n",
       "      <th>index</th>\n",
       "      <th>title</th>\n",
       "      <th>topic_idx</th>\n",
       "      <th>topic</th>\n",
       "    </tr>\n",
       "  </thead>\n",
       "  <tbody>\n",
       "    <tr>\n",
       "      <th>0</th>\n",
       "      <td>0</td>\n",
       "      <td>인천→핀란드 항공기 결항…휴가철 여행객 분통</td>\n",
       "      <td>4.0</td>\n",
       "      <td>세계</td>\n",
       "    </tr>\n",
       "    <tr>\n",
       "      <th>1</th>\n",
       "      <td>1</td>\n",
       "      <td>실리콘밸리 넘어서겠다…구글 15조원 들여 美전역 거점화</td>\n",
       "      <td>4.0</td>\n",
       "      <td>세계</td>\n",
       "    </tr>\n",
       "    <tr>\n",
       "      <th>2</th>\n",
       "      <td>2</td>\n",
       "      <td>이란 외무 긴장완화 해결책은 미국이 경제전쟁 멈추는 것</td>\n",
       "      <td>4.0</td>\n",
       "      <td>세계</td>\n",
       "    </tr>\n",
       "    <tr>\n",
       "      <th>3</th>\n",
       "      <td>3</td>\n",
       "      <td>NYT 클린턴 측근韓기업 특수관계 조명…공과 사 맞물려종합</td>\n",
       "      <td>4.0</td>\n",
       "      <td>세계</td>\n",
       "    </tr>\n",
       "    <tr>\n",
       "      <th>4</th>\n",
       "      <td>4</td>\n",
       "      <td>시진핑 트럼프에 중미 무역협상 조속 타결 희망</td>\n",
       "      <td>4.0</td>\n",
       "      <td>세계</td>\n",
       "    </tr>\n",
       "  </tbody>\n",
       "</table>\n",
       "</div>"
      ],
      "text/plain": [
       "   index                             title  topic_idx topic\n",
       "0      0          인천→핀란드 항공기 결항…휴가철 여행객 분통        4.0    세계\n",
       "1      1    실리콘밸리 넘어서겠다…구글 15조원 들여 美전역 거점화        4.0    세계\n",
       "2      2    이란 외무 긴장완화 해결책은 미국이 경제전쟁 멈추는 것        4.0    세계\n",
       "3      3  NYT 클린턴 측근韓기업 특수관계 조명…공과 사 맞물려종합        4.0    세계\n",
       "4      4         시진핑 트럼프에 중미 무역협상 조속 타결 희망        4.0    세계"
      ]
     },
     "execution_count": 14,
     "metadata": {},
     "output_type": "execute_result"
    }
   ],
   "source": [
    "df.head()"
   ]
  },
  {
   "cell_type": "markdown",
   "metadata": {
    "id": "8t7HijUgenSk"
   },
   "source": [
    "## 정답값 빈도수"
   ]
  },
  {
   "cell_type": "code",
   "execution_count": 15,
   "metadata": {
    "colab": {
     "base_uri": "https://localhost:8080/"
    },
    "executionInfo": {
     "elapsed": 451,
     "status": "ok",
     "timestamp": 1632543506621,
     "user": {
      "displayName": "todaycode오늘코드",
      "photoUrl": "https://lh3.googleusercontent.com/a-/AOh14GgLiO5i_xXRR_qAG77avSrsWiiI4KHJR6t4xysb=s64",
      "userId": "06313463015165663090"
     },
     "user_tz": -540
    },
    "id": "kTlR2nI0enSk",
    "outputId": "5e64b038-3313-46c0-d92c-0aaa2c432efd",
    "scrolled": true
   },
   "outputs": [
    {
     "data": {
      "text/plain": [
       "4.0    7629\n",
       "2.0    7362\n",
       "5.0    6933\n",
       "6.0    6751\n",
       "1.0    6222\n",
       "3.0    5933\n",
       "0.0    4824\n",
       "Name: topic_idx, dtype: int64"
      ]
     },
     "execution_count": 15,
     "metadata": {},
     "output_type": "execute_result"
    }
   ],
   "source": [
    "# test는 결측치로 되어 있기 때문에 빈도수에 포함되지 않습니다.\n",
    "df[\"topic_idx\"].value_counts()"
   ]
  },
  {
   "cell_type": "code",
   "execution_count": 16,
   "metadata": {
    "colab": {
     "base_uri": "https://localhost:8080/",
     "height": 381
    },
    "executionInfo": {
     "elapsed": 12,
     "status": "ok",
     "timestamp": 1632543508866,
     "user": {
      "displayName": "todaycode오늘코드",
      "photoUrl": "https://lh3.googleusercontent.com/a-/AOh14GgLiO5i_xXRR_qAG77avSrsWiiI4KHJR6t4xysb=s64",
      "userId": "06313463015165663090"
     },
     "user_tz": -540
    },
    "id": "dh6stoVjenSk",
    "outputId": "cc7477b1-e153-498a-f04f-3bb14d9be9a5",
    "scrolled": false
   },
   "outputs": [
    {
     "data": {
      "text/plain": [
       "<AxesSubplot:xlabel='count', ylabel='topic'>"
      ]
     },
     "execution_count": 16,
     "metadata": {},
     "output_type": "execute_result"
    },
    {
     "data": {
      "image/png": "[encoded data removed]",
      "text/plain": [
       "<Figure size 432x288 with 1 Axes>"
      ]
     },
     "metadata": {
      "image/png": {
       "height": 261,
       "width": 418
      },
      "needs_background": "light"
     },
     "output_type": "display_data"
    }
   ],
   "source": [
    "# df 로 빈도수를 구했지만 test 데이터는 topic이 결측치라 포함되지 않습니다. \n",
    "sns.countplot(data=df, y=\"topic\")"
   ]
  },
  {
   "cell_type": "markdown",
   "metadata": {
    "id": "loh_aLWxenSk"
   },
   "source": [
    "## 문자 길이"
   ]
  },
  {
   "cell_type": "code",
   "execution_count": 17,
   "metadata": {
    "id": "cdp_ZufMenSk"
   },
   "outputs": [],
   "source": [
    "# 문자, 단어 빈도수 파생변수 만들기\n",
    "df[\"len\"] = df[\"title\"].apply(lambda x : len(x))\n",
    "df[\"word_count\"] = df[\"title\"].apply(lambda x : len(x.split()))\n",
    "df[\"unique_word_count\"] = df[\"title\"].apply(lambda x : len(set(x.split())))"
   ]
  },
  {
   "cell_type": "code",
   "execution_count": 18,
   "metadata": {
    "colab": {
     "base_uri": "https://localhost:8080/",
     "height": 204
    },
    "executionInfo": {
     "elapsed": 428,
     "status": "ok",
     "timestamp": 1632544172415,
     "user": {
      "displayName": "todaycode오늘코드",
      "photoUrl": "https://lh3.googleusercontent.com/a-/AOh14GgLiO5i_xXRR_qAG77avSrsWiiI4KHJR6t4xysb=s64",
      "userId": "06313463015165663090"
     },
     "user_tz": -540
    },
    "id": "7FPvinN0enSl",
    "outputId": "f4475817-cc75-4d8f-caaa-34ea50c55bae"
   },
   "outputs": [
    {
     "data": {
      "text/html": [
       "<div>\n",
       "<style scoped>\n",
       "    .dataframe tbody tr th:only-of-type {\n",
       "        vertical-align: middle;\n",
       "    }\n",
       "\n",
       "    .dataframe tbody tr th {\n",
       "        vertical-align: top;\n",
       "    }\n",
       "\n",
       "    .dataframe thead th {\n",
       "        text-align: right;\n",
       "    }\n",
       "</style>\n",
       "<table border=\"1\" class=\"dataframe\">\n",
       "  <thead>\n",
       "    <tr style=\"text-align: right;\">\n",
       "      <th></th>\n",
       "      <th>index</th>\n",
       "      <th>title</th>\n",
       "      <th>topic_idx</th>\n",
       "      <th>topic</th>\n",
       "      <th>len</th>\n",
       "      <th>word_count</th>\n",
       "      <th>unique_word_count</th>\n",
       "    </tr>\n",
       "  </thead>\n",
       "  <tbody>\n",
       "    <tr>\n",
       "      <th>0</th>\n",
       "      <td>0</td>\n",
       "      <td>인천→핀란드 항공기 결항…휴가철 여행객 분통</td>\n",
       "      <td>4.0</td>\n",
       "      <td>세계</td>\n",
       "      <td>24</td>\n",
       "      <td>5</td>\n",
       "      <td>5</td>\n",
       "    </tr>\n",
       "    <tr>\n",
       "      <th>1</th>\n",
       "      <td>1</td>\n",
       "      <td>실리콘밸리 넘어서겠다…구글 15조원 들여 美전역 거점화</td>\n",
       "      <td>4.0</td>\n",
       "      <td>세계</td>\n",
       "      <td>30</td>\n",
       "      <td>6</td>\n",
       "      <td>6</td>\n",
       "    </tr>\n",
       "    <tr>\n",
       "      <th>2</th>\n",
       "      <td>2</td>\n",
       "      <td>이란 외무 긴장완화 해결책은 미국이 경제전쟁 멈추는 것</td>\n",
       "      <td>4.0</td>\n",
       "      <td>세계</td>\n",
       "      <td>30</td>\n",
       "      <td>8</td>\n",
       "      <td>8</td>\n",
       "    </tr>\n",
       "    <tr>\n",
       "      <th>3</th>\n",
       "      <td>3</td>\n",
       "      <td>NYT 클린턴 측근韓기업 특수관계 조명…공과 사 맞물려종합</td>\n",
       "      <td>4.0</td>\n",
       "      <td>세계</td>\n",
       "      <td>32</td>\n",
       "      <td>7</td>\n",
       "      <td>7</td>\n",
       "    </tr>\n",
       "    <tr>\n",
       "      <th>4</th>\n",
       "      <td>4</td>\n",
       "      <td>시진핑 트럼프에 중미 무역협상 조속 타결 희망</td>\n",
       "      <td>4.0</td>\n",
       "      <td>세계</td>\n",
       "      <td>25</td>\n",
       "      <td>7</td>\n",
       "      <td>7</td>\n",
       "    </tr>\n",
       "  </tbody>\n",
       "</table>\n",
       "</div>"
      ],
      "text/plain": [
       "   index                             title  topic_idx topic  len  word_count  \\\n",
       "0      0          인천→핀란드 항공기 결항…휴가철 여행객 분통        4.0    세계   24           5   \n",
       "1      1    실리콘밸리 넘어서겠다…구글 15조원 들여 美전역 거점화        4.0    세계   30           6   \n",
       "2      2    이란 외무 긴장완화 해결책은 미국이 경제전쟁 멈추는 것        4.0    세계   30           8   \n",
       "3      3  NYT 클린턴 측근韓기업 특수관계 조명…공과 사 맞물려종합        4.0    세계   32           7   \n",
       "4      4         시진핑 트럼프에 중미 무역협상 조속 타결 희망        4.0    세계   25           7   \n",
       "\n",
       "   unique_word_count  \n",
       "0                  5  \n",
       "1                  6  \n",
       "2                  8  \n",
       "3                  7  \n",
       "4                  7  "
      ]
     },
     "execution_count": 18,
     "metadata": {},
     "output_type": "execute_result"
    }
   ],
   "source": [
    "# 파생변수가 잘 만들어졌는지 확인하기\n",
    "df.head()"
   ]
  },
  {
   "cell_type": "code",
   "execution_count": 19,
   "metadata": {
    "colab": {
     "base_uri": "https://localhost:8080/",
     "height": 191
    },
    "executionInfo": {
     "elapsed": 1741,
     "status": "ok",
     "timestamp": 1632554224222,
     "user": {
      "displayName": "todaycode오늘코드",
      "photoUrl": "https://lh3.googleusercontent.com/a-/AOh14GgLiO5i_xXRR_qAG77avSrsWiiI4KHJR6t4xysb=s64",
      "userId": "06313463015165663090"
     },
     "user_tz": -540
    },
    "id": "3wrohs-4enSl",
    "outputId": "259ac7b6-b617-4cdb-a29a-b0f152b337be"
   },
   "outputs": [
    {
     "data": {
      "text/plain": [
       "<AxesSubplot:xlabel='unique_word_count', ylabel='Count'>"
      ]
     },
     "execution_count": 19,
     "metadata": {},
     "output_type": "execute_result"
    },
    {
     "data": {
      "image/png": "[encoded data removed]",
      "text/plain": [
       "<Figure size 1080x144 with 3 Axes>"
      ]
     },
     "metadata": {
      "image/png": {
       "height": 153,
       "width": 896
      },
      "needs_background": "light"
     },
     "output_type": "display_data"
    }
   ],
   "source": [
    "fig, axes = plt.subplots(1, 3, figsize=(15, 2))\n",
    "sns.histplot(df[\"len\"], ax=axes[0])\n",
    "sns.histplot(df[\"word_count\"], ax=axes[1])\n",
    "sns.histplot(df[\"unique_word_count\"], ax=axes[2])"
   ]
  },
  {
   "cell_type": "code",
   "execution_count": 20,
   "metadata": {
    "colab": {
     "base_uri": "https://localhost:8080/",
     "height": 297
    },
    "executionInfo": {
     "elapsed": 10,
     "status": "ok",
     "timestamp": 1632544203539,
     "user": {
      "displayName": "todaycode오늘코드",
      "photoUrl": "https://lh3.googleusercontent.com/a-/AOh14GgLiO5i_xXRR_qAG77avSrsWiiI4KHJR6t4xysb=s64",
      "userId": "06313463015165663090"
     },
     "user_tz": -540
    },
    "id": "V4O0ePwlenSl",
    "outputId": "b9bb4077-3172-43a7-db38-991ef0520d59"
   },
   "outputs": [
    {
     "data": {
      "text/html": [
       "<div>\n",
       "<style scoped>\n",
       "    .dataframe tbody tr th:only-of-type {\n",
       "        vertical-align: middle;\n",
       "    }\n",
       "\n",
       "    .dataframe tbody tr th {\n",
       "        vertical-align: top;\n",
       "    }\n",
       "\n",
       "    .dataframe thead th {\n",
       "        text-align: right;\n",
       "    }\n",
       "</style>\n",
       "<table border=\"1\" class=\"dataframe\">\n",
       "  <thead>\n",
       "    <tr style=\"text-align: right;\">\n",
       "      <th></th>\n",
       "      <th>len</th>\n",
       "      <th>word_count</th>\n",
       "      <th>unique_word_count</th>\n",
       "    </tr>\n",
       "  </thead>\n",
       "  <tbody>\n",
       "    <tr>\n",
       "      <th>count</th>\n",
       "      <td>54785.000000</td>\n",
       "      <td>54785.000000</td>\n",
       "      <td>54785.000000</td>\n",
       "    </tr>\n",
       "    <tr>\n",
       "      <th>mean</th>\n",
       "      <td>27.318846</td>\n",
       "      <td>6.587880</td>\n",
       "      <td>6.576198</td>\n",
       "    </tr>\n",
       "    <tr>\n",
       "      <th>std</th>\n",
       "      <td>4.947738</td>\n",
       "      <td>1.471852</td>\n",
       "      <td>1.465320</td>\n",
       "    </tr>\n",
       "    <tr>\n",
       "      <th>min</th>\n",
       "      <td>4.000000</td>\n",
       "      <td>1.000000</td>\n",
       "      <td>1.000000</td>\n",
       "    </tr>\n",
       "    <tr>\n",
       "      <th>25%</th>\n",
       "      <td>25.000000</td>\n",
       "      <td>6.000000</td>\n",
       "      <td>6.000000</td>\n",
       "    </tr>\n",
       "    <tr>\n",
       "      <th>50%</th>\n",
       "      <td>28.000000</td>\n",
       "      <td>7.000000</td>\n",
       "      <td>7.000000</td>\n",
       "    </tr>\n",
       "    <tr>\n",
       "      <th>75%</th>\n",
       "      <td>31.000000</td>\n",
       "      <td>8.000000</td>\n",
       "      <td>8.000000</td>\n",
       "    </tr>\n",
       "    <tr>\n",
       "      <th>max</th>\n",
       "      <td>44.000000</td>\n",
       "      <td>13.000000</td>\n",
       "      <td>13.000000</td>\n",
       "    </tr>\n",
       "  </tbody>\n",
       "</table>\n",
       "</div>"
      ],
      "text/plain": [
       "                len    word_count  unique_word_count\n",
       "count  54785.000000  54785.000000       54785.000000\n",
       "mean      27.318846      6.587880           6.576198\n",
       "std        4.947738      1.471852           1.465320\n",
       "min        4.000000      1.000000           1.000000\n",
       "25%       25.000000      6.000000           6.000000\n",
       "50%       28.000000      7.000000           7.000000\n",
       "75%       31.000000      8.000000           8.000000\n",
       "max       44.000000     13.000000          13.000000"
      ]
     },
     "execution_count": 20,
     "metadata": {},
     "output_type": "execute_result"
    }
   ],
   "source": [
    "df[[\"len\", \"word_count\", \"unique_word_count\"]].describe()"
   ]
  },
  {
   "cell_type": "markdown",
   "metadata": {
    "id": "u3G29lEl0VQk"
   },
   "source": [
    "### 주제별 글자와 단어 수"
   ]
  },
  {
   "cell_type": "code",
   "execution_count": 21,
   "metadata": {
    "colab": {
     "base_uri": "https://localhost:8080/",
     "height": 603
    },
    "executionInfo": {
     "elapsed": 7069,
     "status": "ok",
     "timestamp": 1632554455771,
     "user": {
      "displayName": "todaycode오늘코드",
      "photoUrl": "https://lh3.googleusercontent.com/a-/AOh14GgLiO5i_xXRR_qAG77avSrsWiiI4KHJR6t4xysb=s64",
      "userId": "06313463015165663090"
     },
     "user_tz": -540
    },
    "id": "gpxur9cHenSl",
    "outputId": "8b23d574-99b5-4f29-c5e3-5078bf536990"
   },
   "outputs": [
    {
     "data": {
      "text/plain": [
       "<seaborn.axisgrid.FacetGrid at 0x7f883441f510>"
      ]
     },
     "execution_count": 21,
     "metadata": {},
     "output_type": "execute_result"
    },
    {
     "data": {
      "image/png": "[encoded data removed]",
      "text/plain": [
       "<Figure size 1513.5x576 with 7 Axes>"
      ]
     },
     "metadata": {
      "image/png": {
       "height": 570,
       "width": 1512
      },
      "needs_background": "light"
     },
     "output_type": "display_data"
    }
   ],
   "source": [
    "sns.displot(data=df, x=\"len\",\n",
    "            hue=\"topic\", col=\"topic\", col_wrap=2, aspect=5, height=2)"
   ]
  },
  {
   "cell_type": "code",
   "execution_count": 22,
   "metadata": {
    "colab": {
     "base_uri": "https://localhost:8080/",
     "height": 603
    },
    "executionInfo": {
     "elapsed": 6349,
     "status": "ok",
     "timestamp": 1632554438275,
     "user": {
      "displayName": "todaycode오늘코드",
      "photoUrl": "https://lh3.googleusercontent.com/a-/AOh14GgLiO5i_xXRR_qAG77avSrsWiiI4KHJR6t4xysb=s64",
      "userId": "06313463015165663090"
     },
     "user_tz": -540
    },
    "id": "VbU5N6QfenSl",
    "outputId": "b7043058-aa5d-46f1-b856-9b77994d40c9"
   },
   "outputs": [
    {
     "data": {
      "text/plain": [
       "<seaborn.axisgrid.FacetGrid at 0x7f8834410850>"
      ]
     },
     "execution_count": 22,
     "metadata": {},
     "output_type": "execute_result"
    },
    {
     "data": {
      "image/png": "[encoded data removed]",
      "text/plain": [
       "<Figure size 1513.5x576 with 7 Axes>"
      ]
     },
     "metadata": {
      "image/png": {
       "height": 570,
       "width": 1512
      },
      "needs_background": "light"
     },
     "output_type": "display_data"
    }
   ],
   "source": [
    "sns.displot(data=df, x=\"word_count\",\n",
    "            hue=\"topic\", col=\"topic\", col_wrap=2, aspect=5, height=2)"
   ]
  },
  {
   "cell_type": "code",
   "execution_count": 23,
   "metadata": {
    "colab": {
     "base_uri": "https://localhost:8080/",
     "height": 603
    },
    "executionInfo": {
     "elapsed": 6821,
     "status": "ok",
     "timestamp": 1632569137541,
     "user": {
      "displayName": "todaycode오늘코드",
      "photoUrl": "https://lh3.googleusercontent.com/a-/AOh14GgLiO5i_xXRR_qAG77avSrsWiiI4KHJR6t4xysb=s64",
      "userId": "06313463015165663090"
     },
     "user_tz": -540
    },
    "id": "02P7H5J2enSl",
    "outputId": "ba7dbc39-bb45-461d-8c6f-b88afd4ae565"
   },
   "outputs": [
    {
     "data": {
      "text/plain": [
       "<seaborn.axisgrid.FacetGrid at 0x7f882118b2d0>"
      ]
     },
     "execution_count": 23,
     "metadata": {},
     "output_type": "execute_result"
    },
    {
     "data": {
      "image/png": "[encoded data removed]",
      "text/plain": [
       "<Figure size 1513.5x576 with 7 Axes>"
      ]
     },
     "metadata": {
      "image/png": {
       "height": 570,
       "width": 1512
      },
      "needs_background": "light"
     },
     "output_type": "display_data"
    }
   ],
   "source": [
    "sns.displot(data=df, x=\"unique_word_count\",\n",
    "            hue=\"topic\", col=\"topic\", col_wrap=2, aspect=5, height=2)"
   ]
  },
  {
   "cell_type": "markdown",
   "metadata": {
    "id": "s2Tq8lQuenSl"
   },
   "source": [
    "## 문자 전처리\n",
    "\n",
    "### 숫자 제거"
   ]
  },
  {
   "cell_type": "code",
   "execution_count": 24,
   "metadata": {
    "id": "r106GMfLenSl"
   },
   "outputs": [],
   "source": [
    "import re\n",
    "# df[\"title\"] = df[\"title\"].map(lambda x : re.sub(\"[0-9]\", \"\", x))\n",
    "df[\"title\"] = df[\"title\"].str.replace(\"[0-9]\", \"\", regex=True)"
   ]
  },
  {
   "cell_type": "markdown",
   "metadata": {
    "id": "TfJ924LJenSm"
   },
   "source": [
    "### 영문자는 모두 소문자로 변경\n",
    "\n",
    "대소문자가 섞여 있으면 다른 다른 단어로 다루기 때문에 영문자는 모두 대문자 혹은 소문자로 변경합니다."
   ]
  },
  {
   "cell_type": "code",
   "execution_count": 25,
   "metadata": {
    "id": "prDYgv_yenSm"
   },
   "outputs": [],
   "source": [
    "df[\"title\"] = df[\"title\"].str.lower()"
   ]
  },
  {
   "cell_type": "markdown",
   "metadata": {},
   "source": [
    "### 조사, 어미, 구두점 제거"
   ]
  },
  {
   "cell_type": "code",
   "execution_count": 26,
   "metadata": {},
   "outputs": [
    {
     "name": "stderr",
     "output_type": "stream",
     "text": [
      "100%|████████████████████████████████████████████████████████████████████████████████████████████████████████████████████████████████████████████████████████████████| 45654/45654 [01:04<00:00, 704.81it/s]\n",
      "100%|██████████████████████████████████████████████████████████████████████████████████████████████████████████████████████████████████████████████████████████████████| 9131/9131 [00:15<00:00, 583.87it/s]\n"
     ]
    }
   ],
   "source": [
    "# 형태소 분석기(Okt) 불러오기 \n",
    "\n",
    "from konlpy.tag import Okt\n",
    "okt = Okt() \n",
    "\n",
    "# 어간 추출(stemming) : 조사, 어미, 구두점 제거\n",
    "def okt_clean(text):\n",
    "    clean_text = []\n",
    "    for word in okt.pos(text, stem=True):\n",
    "        if word[1] not in ['Josa', 'Eomi', 'Punctuation']:\n",
    "            clean_text.append(word[0])\n",
    "    \n",
    "    return \" \".join(clean_text) \n",
    "\n",
    "from tqdm import tqdm\n",
    "tqdm.pandas() \n",
    "\n",
    "train['title'] = train['title'].progress_map(okt_clean)\n",
    "test['title'] = test['title'].progress_map(okt_clean)"
   ]
  },
  {
   "cell_type": "markdown",
   "metadata": {
    "id": "pYXTHsoDenSm"
   },
   "source": [
    "### 불용어 제거"
   ]
  },
  {
   "cell_type": "code",
   "execution_count": 27,
   "metadata": {
    "id": "gqhA8LjXenSm"
   },
   "outputs": [],
   "source": [
    "# 불용어 제거\n",
    "def remove_stopwords(text):\n",
    "    tokens = text.split(' ')\n",
    "    stops = [ '합니다', '하는', '할', '하고', '한다', \n",
    "             '그리고', '입니다', '그 ', ' 등', '이런', ' 것 ', ' 및 ',' 제 ', ' 더 ']\n",
    "    meaningful_words = [w for w in tokens if not w in stops]\n",
    "    return ' '.join(meaningful_words)"
   ]
  },
  {
   "cell_type": "code",
   "execution_count": 28,
   "metadata": {
    "id": "yTaQCojeenSn"
   },
   "outputs": [],
   "source": [
    "df[\"title\"] = df[\"title\"].map(remove_stopwords)"
   ]
  },
  {
   "cell_type": "markdown",
   "metadata": {
    "id": "BHSUtJqEenSn"
   },
   "source": [
    "## 학습, 예측 데이터셋 분리"
   ]
  },
  {
   "cell_type": "code",
   "execution_count": 29,
   "metadata": {
    "id": "nuGaeykBenSn"
   },
   "outputs": [],
   "source": [
    "label_name = \"topic_idx\""
   ]
  },
  {
   "cell_type": "code",
   "execution_count": 30,
   "metadata": {
    "id": "TgE3OOHTenSn"
   },
   "outputs": [
    {
     "data": {
      "text/plain": [
       "((45654, 7), (9131, 7))"
      ]
     },
     "execution_count": 30,
     "metadata": {},
     "output_type": "execute_result"
    }
   ],
   "source": [
    "train = df[df[label_name].notnull()]\n",
    "test = df[df[label_name].isnull()]\n",
    "train.shape, test.shape"
   ]
  },
  {
   "cell_type": "code",
   "execution_count": 31,
   "metadata": {
    "id": "JdX91EYdenSn"
   },
   "outputs": [
    {
     "data": {
      "text/plain": [
       "((45654,), (9131,))"
      ]
     },
     "execution_count": 31,
     "metadata": {},
     "output_type": "execute_result"
    }
   ],
   "source": [
    "X_train = train[\"title\"]\n",
    "X_test = test[\"title\"]\n",
    "\n",
    "X_train.shape, X_test.shape"
   ]
  },
  {
   "cell_type": "code",
   "execution_count": 32,
   "metadata": {
    "id": "Vz2zkeRLenSn"
   },
   "outputs": [
    {
     "data": {
      "text/plain": [
       "4.0    7629\n",
       "2.0    7362\n",
       "5.0    6933\n",
       "6.0    6751\n",
       "1.0    6222\n",
       "3.0    5933\n",
       "0.0    4824\n",
       "Name: topic_idx, dtype: int64"
      ]
     },
     "execution_count": 32,
     "metadata": {},
     "output_type": "execute_result"
    }
   ],
   "source": [
    "y_train = train[label_name]\n",
    "y_train.value_counts()"
   ]
  },
  {
   "cell_type": "code",
   "execution_count": 33,
   "metadata": {
    "id": "e2ZIDRrpenSn"
   },
   "outputs": [
    {
     "data": {
      "text/plain": [
       "Series([], Name: topic_idx, dtype: int64)"
      ]
     },
     "execution_count": 33,
     "metadata": {},
     "output_type": "execute_result"
    }
   ],
   "source": [
    "y_test = test[label_name]\n",
    "y_test.value_counts()"
   ]
  },
  {
   "cell_type": "markdown",
   "metadata": {
    "id": "nLkgFZFWenSn"
   },
   "source": [
    "## 벡터화\n",
    "* 머신러닝이나 딥러닝 알고리즘은 문자를 이해할 수 없습니다. 내부에서는 수치 계산이 이루어지기 때문에 문자를 숫자로 변경해 주어야 합니다.\n",
    "\n",
    "\n",
    "### TF-IDF(Term Frequency - Inverse Document Frequency)"
   ]
  },
  {
   "cell_type": "code",
   "execution_count": 34,
   "metadata": {
    "id": "F2pFKg3WenSn"
   },
   "outputs": [
    {
     "data": {
      "text/plain": [
       "TfidfVectorizer(max_df=0.95, min_df=3, ngram_range=(1, 2))"
      ]
     },
     "execution_count": 34,
     "metadata": {},
     "output_type": "execute_result"
    }
   ],
   "source": [
    "from sklearn.feature_extraction.text import TfidfVectorizer\n",
    "\n",
    "tfidf_vect = TfidfVectorizer(tokenizer=None, \n",
    "                             ngram_range=(1,2),\n",
    "                             min_df=3, \n",
    "                             max_df=0.95)\n",
    "tfidf_vect.fit(X_train)"
   ]
  },
  {
   "cell_type": "code",
   "execution_count": 35,
   "metadata": {
    "id": "xDPFJjHBenSo"
   },
   "outputs": [
    {
     "data": {
      "text/plain": [
       "((45654, 22377), (9131, 22377))"
      ]
     },
     "execution_count": 35,
     "metadata": {},
     "output_type": "execute_result"
    }
   ],
   "source": [
    "train_feature_tfidf = tfidf_vect.transform(X_train)\n",
    "test_feature_tfidf = tfidf_vect.transform(X_test)\n",
    "\n",
    "train_feature_tfidf.shape, test_feature_tfidf.shape"
   ]
  },
  {
   "cell_type": "code",
   "execution_count": 36,
   "metadata": {
    "id": "hNoC_qbRenSo"
   },
   "outputs": [
    {
     "name": "stdout",
     "output_type": "stream",
     "text": [
      "22377\n"
     ]
    },
    {
     "name": "stderr",
     "output_type": "stream",
     "text": [
      "/Users/corazzon/opt/anaconda3/lib/python3.7/site-packages/sklearn/utils/deprecation.py:87: FutureWarning: Function get_feature_names is deprecated; get_feature_names is deprecated in 1.0 and will be removed in 1.2. Please use get_feature_names_out instead.\n",
      "  warnings.warn(msg, category=FutureWarning)\n"
     ]
    },
    {
     "data": {
      "text/plain": [
       "['aa로',\n",
       " 'abs',\n",
       " 'acl',\n",
       " 'afc',\n",
       " 'afc 챔스리그',\n",
       " 'afc 챔피언십',\n",
       " 'afc 회장',\n",
       " 'ag',\n",
       " 'ag 우승',\n",
       " 'ai']"
      ]
     },
     "execution_count": 36,
     "metadata": {},
     "output_type": "execute_result"
    }
   ],
   "source": [
    "# 단어 사전\n",
    "vocab = tfidf_vect.get_feature_names()\n",
    "print(len(vocab))\n",
    "vocab[:10]"
   ]
  },
  {
   "cell_type": "code",
   "execution_count": 37,
   "metadata": {
    "id": "zLgDf7gVenSo"
   },
   "outputs": [
    {
     "data": {
      "text/html": [
       "<div>\n",
       "<style scoped>\n",
       "    .dataframe tbody tr th:only-of-type {\n",
       "        vertical-align: middle;\n",
       "    }\n",
       "\n",
       "    .dataframe tbody tr th {\n",
       "        vertical-align: top;\n",
       "    }\n",
       "\n",
       "    .dataframe thead th {\n",
       "        text-align: right;\n",
       "    }\n",
       "</style>\n",
       "<table border=\"1\" class=\"dataframe\">\n",
       "  <thead>\n",
       "    <tr style=\"text-align: right;\">\n",
       "      <th></th>\n",
       "      <th>aa로</th>\n",
       "      <th>abs</th>\n",
       "      <th>acl</th>\n",
       "      <th>afc</th>\n",
       "      <th>afc 챔스리그</th>\n",
       "      <th>afc 챔피언십</th>\n",
       "      <th>afc 회장</th>\n",
       "      <th>ag</th>\n",
       "      <th>ag 우승</th>\n",
       "      <th>ai</th>\n",
       "      <th>...</th>\n",
       "      <th>힘으로</th>\n",
       "      <th>힘은</th>\n",
       "      <th>힘이</th>\n",
       "      <th>힘입어</th>\n",
       "      <th>힘찬</th>\n",
       "      <th>힙합</th>\n",
       "      <th>女농구대표팀</th>\n",
       "      <th>女배구</th>\n",
       "      <th>女배구 대표팀</th>\n",
       "      <th>ｍ짜리</th>\n",
       "    </tr>\n",
       "  </thead>\n",
       "  <tbody>\n",
       "    <tr>\n",
       "      <th>0</th>\n",
       "      <td>1.374165</td>\n",
       "      <td>1.493937</td>\n",
       "      <td>4.560771</td>\n",
       "      <td>10.036045</td>\n",
       "      <td>3.516982</td>\n",
       "      <td>2.254818</td>\n",
       "      <td>1.220953</td>\n",
       "      <td>14.847285</td>\n",
       "      <td>1.557569</td>\n",
       "      <td>74.285975</td>\n",
       "      <td>...</td>\n",
       "      <td>4.326381</td>\n",
       "      <td>3.062647</td>\n",
       "      <td>1.748944</td>\n",
       "      <td>2.051542</td>\n",
       "      <td>2.495783</td>\n",
       "      <td>1.965046</td>\n",
       "      <td>1.537386</td>\n",
       "      <td>8.787677</td>\n",
       "      <td>2.478833</td>\n",
       "      <td>1.40821</td>\n",
       "    </tr>\n",
       "  </tbody>\n",
       "</table>\n",
       "<p>1 rows × 22377 columns</p>\n",
       "</div>"
      ],
      "text/plain": [
       "        aa로       abs       acl        afc  afc 챔스리그  afc 챔피언십    afc 회장  \\\n",
       "0  1.374165  1.493937  4.560771  10.036045  3.516982  2.254818  1.220953   \n",
       "\n",
       "          ag     ag 우승         ai  ...       힘으로        힘은        힘이  \\\n",
       "0  14.847285  1.557569  74.285975  ...  4.326381  3.062647  1.748944   \n",
       "\n",
       "        힘입어        힘찬        힙합    女농구대표팀       女배구   女배구 대표팀      ｍ짜리  \n",
       "0  2.051542  2.495783  1.965046  1.537386  8.787677  2.478833  1.40821  \n",
       "\n",
       "[1 rows x 22377 columns]"
      ]
     },
     "execution_count": 37,
     "metadata": {},
     "output_type": "execute_result"
    }
   ],
   "source": [
    "# np.sum 으로 위에서 구한 train_feature_vector 의 값을 모두 더합니다. axis=0 으로 합니다. \n",
    "dist = np.sum(train_feature_tfidf, axis=0)\n",
    "\n",
    "vocab_count = pd.DataFrame(dist, columns=vocab)\n",
    "vocab_count"
   ]
  },
  {
   "cell_type": "code",
   "execution_count": 38,
   "metadata": {
    "id": "1wK_G7RuenSo",
    "scrolled": false
   },
   "outputs": [
    {
     "data": {
      "text/plain": [
       "<AxesSubplot:>"
      ]
     },
     "execution_count": 38,
     "metadata": {},
     "output_type": "execute_result"
    },
    {
     "data": {
      "image/png": "[encoded data removed]",
      "text/plain": [
       "<Figure size 1080x288 with 1 Axes>"
      ]
     },
     "metadata": {
      "image/png": {
       "height": 276,
       "width": 876
      },
      "needs_background": "light"
     },
     "output_type": "display_data"
    }
   ],
   "source": [
    "# 위에서 구한 빈도수를 그래프로 그립니다.\n",
    "vocab_count.T[0].sort_values(ascending=False).head(50).plot.bar(figsize=(15, 4))"
   ]
  },
  {
   "cell_type": "markdown",
   "metadata": {
    "id": "35kJ-DWlenSo"
   },
   "source": [
    "## 학습과 예측"
   ]
  },
  {
   "cell_type": "code",
   "execution_count": 39,
   "metadata": {
    "id": "WDYIgm0JenSo"
   },
   "outputs": [
    {
     "data": {
      "text/plain": [
       "RandomForestClassifier(n_jobs=-1, random_state=42)"
      ]
     },
     "execution_count": 39,
     "metadata": {},
     "output_type": "execute_result"
    }
   ],
   "source": [
    "# RandomForestClassifier 를 불러옵니다.\n",
    "from sklearn.ensemble import RandomForestClassifier\n",
    "\n",
    "# 랜덤포레스트 분류기를 사용\n",
    "model = RandomForestClassifier(n_estimators = 100, n_jobs = -1, random_state=42)\n",
    "model"
   ]
  },
  {
   "cell_type": "markdown",
   "metadata": {
    "id": "G42T001VenSo"
   },
   "source": [
    "### 교차 검증"
   ]
  },
  {
   "cell_type": "code",
   "execution_count": 40,
   "metadata": {
    "id": "TtDajG3aenSp"
   },
   "outputs": [
    {
     "name": "stderr",
     "output_type": "stream",
     "text": [
      "[Parallel(n_jobs=-1)]: Using backend LokyBackend with 8 concurrent workers.\n",
      "[Parallel(n_jobs=-1)]: Done   3 out of   3 | elapsed:   58.1s finished\n"
     ]
    }
   ],
   "source": [
    "from sklearn.model_selection import cross_val_predict\n",
    "\n",
    "y_pred = cross_val_predict(model, train_feature_tfidf, y_train, cv=3, n_jobs=-1, verbose=1)"
   ]
  },
  {
   "cell_type": "markdown",
   "metadata": {
    "id": "AuKzS8pPenSp"
   },
   "source": [
    "### 교차 검증 정확도"
   ]
  },
  {
   "cell_type": "code",
   "execution_count": 41,
   "metadata": {
    "id": "pnpoPXdIenSp",
    "scrolled": true
   },
   "outputs": [
    {
     "data": {
      "text/plain": [
       "0.7384676041529767"
      ]
     },
     "execution_count": 41,
     "metadata": {},
     "output_type": "execute_result"
    }
   ],
   "source": [
    "valid_accuracy = (y_pred == y_train).mean()\n",
    "valid_accuracy"
   ]
  },
  {
   "cell_type": "code",
   "execution_count": 42,
   "metadata": {
    "id": "Y4TVDB8kenSp"
   },
   "outputs": [],
   "source": [
    "df_accuracy = pd.DataFrame({\"pred\": y_pred, \"train\": y_train})\n",
    "df_accuracy[\"accuracy\"] = (y_pred == y_train)"
   ]
  },
  {
   "cell_type": "code",
   "execution_count": 43,
   "metadata": {
    "id": "XMfqI2KpenSp"
   },
   "outputs": [
    {
     "data": {
      "text/html": [
       "<div>\n",
       "<style scoped>\n",
       "    .dataframe tbody tr th:only-of-type {\n",
       "        vertical-align: middle;\n",
       "    }\n",
       "\n",
       "    .dataframe tbody tr th {\n",
       "        vertical-align: top;\n",
       "    }\n",
       "\n",
       "    .dataframe thead th {\n",
       "        text-align: right;\n",
       "    }\n",
       "</style>\n",
       "<table border=\"1\" class=\"dataframe\">\n",
       "  <thead>\n",
       "    <tr style=\"text-align: right;\">\n",
       "      <th></th>\n",
       "      <th>topic</th>\n",
       "      <th>topic_idx</th>\n",
       "    </tr>\n",
       "  </thead>\n",
       "  <tbody>\n",
       "    <tr>\n",
       "      <th>0</th>\n",
       "      <td>IT과학</td>\n",
       "      <td>0</td>\n",
       "    </tr>\n",
       "    <tr>\n",
       "      <th>1</th>\n",
       "      <td>경제</td>\n",
       "      <td>1</td>\n",
       "    </tr>\n",
       "    <tr>\n",
       "      <th>2</th>\n",
       "      <td>사회</td>\n",
       "      <td>2</td>\n",
       "    </tr>\n",
       "    <tr>\n",
       "      <th>3</th>\n",
       "      <td>생활문화</td>\n",
       "      <td>3</td>\n",
       "    </tr>\n",
       "    <tr>\n",
       "      <th>4</th>\n",
       "      <td>세계</td>\n",
       "      <td>4</td>\n",
       "    </tr>\n",
       "    <tr>\n",
       "      <th>5</th>\n",
       "      <td>스포츠</td>\n",
       "      <td>5</td>\n",
       "    </tr>\n",
       "    <tr>\n",
       "      <th>6</th>\n",
       "      <td>정치</td>\n",
       "      <td>6</td>\n",
       "    </tr>\n",
       "  </tbody>\n",
       "</table>\n",
       "</div>"
      ],
      "text/plain": [
       "  topic  topic_idx\n",
       "0  IT과학          0\n",
       "1    경제          1\n",
       "2    사회          2\n",
       "3  생활문화          3\n",
       "4    세계          4\n",
       "5   스포츠          5\n",
       "6    정치          6"
      ]
     },
     "execution_count": 43,
     "metadata": {},
     "output_type": "execute_result"
    }
   ],
   "source": [
    "topic"
   ]
  },
  {
   "cell_type": "code",
   "execution_count": 44,
   "metadata": {
    "id": "Vl-JhrUmenSp"
   },
   "outputs": [
    {
     "data": {
      "text/plain": [
       "train\n",
       "0.0    0.746061\n",
       "1.0    0.664417\n",
       "2.0    0.630264\n",
       "3.0    0.773302\n",
       "4.0    0.723293\n",
       "5.0    0.867157\n",
       "6.0    0.773663\n",
       "Name: accuracy, dtype: float64"
      ]
     },
     "execution_count": 44,
     "metadata": {},
     "output_type": "execute_result"
    }
   ],
   "source": [
    "df_accuracy.groupby([\"train\"])[\"accuracy\"].mean()"
   ]
  },
  {
   "cell_type": "code",
   "execution_count": 45,
   "metadata": {
    "id": "CjcKXioQenSp"
   },
   "outputs": [
    {
     "data": {
      "text/html": [
       "<div>\n",
       "<style scoped>\n",
       "    .dataframe tbody tr th:only-of-type {\n",
       "        vertical-align: middle;\n",
       "    }\n",
       "\n",
       "    .dataframe tbody tr th {\n",
       "        vertical-align: top;\n",
       "    }\n",
       "\n",
       "    .dataframe thead th {\n",
       "        text-align: right;\n",
       "    }\n",
       "</style>\n",
       "<table border=\"1\" class=\"dataframe\">\n",
       "  <thead>\n",
       "    <tr style=\"text-align: right;\">\n",
       "      <th></th>\n",
       "      <th>predict</th>\n",
       "      <th>train</th>\n",
       "      <th>accuracy</th>\n",
       "    </tr>\n",
       "  </thead>\n",
       "  <tbody>\n",
       "    <tr>\n",
       "      <th>0</th>\n",
       "      <td>2.0</td>\n",
       "      <td>4.0</td>\n",
       "      <td>False</td>\n",
       "    </tr>\n",
       "    <tr>\n",
       "      <th>1</th>\n",
       "      <td>1.0</td>\n",
       "      <td>4.0</td>\n",
       "      <td>False</td>\n",
       "    </tr>\n",
       "    <tr>\n",
       "      <th>2</th>\n",
       "      <td>4.0</td>\n",
       "      <td>4.0</td>\n",
       "      <td>True</td>\n",
       "    </tr>\n",
       "    <tr>\n",
       "      <th>3</th>\n",
       "      <td>3.0</td>\n",
       "      <td>4.0</td>\n",
       "      <td>False</td>\n",
       "    </tr>\n",
       "    <tr>\n",
       "      <th>4</th>\n",
       "      <td>4.0</td>\n",
       "      <td>4.0</td>\n",
       "      <td>True</td>\n",
       "    </tr>\n",
       "    <tr>\n",
       "      <th>...</th>\n",
       "      <td>...</td>\n",
       "      <td>...</td>\n",
       "      <td>...</td>\n",
       "    </tr>\n",
       "    <tr>\n",
       "      <th>45649</th>\n",
       "      <td>4.0</td>\n",
       "      <td>1.0</td>\n",
       "      <td>False</td>\n",
       "    </tr>\n",
       "    <tr>\n",
       "      <th>45650</th>\n",
       "      <td>2.0</td>\n",
       "      <td>2.0</td>\n",
       "      <td>True</td>\n",
       "    </tr>\n",
       "    <tr>\n",
       "      <th>45651</th>\n",
       "      <td>2.0</td>\n",
       "      <td>1.0</td>\n",
       "      <td>False</td>\n",
       "    </tr>\n",
       "    <tr>\n",
       "      <th>45652</th>\n",
       "      <td>2.0</td>\n",
       "      <td>2.0</td>\n",
       "      <td>True</td>\n",
       "    </tr>\n",
       "    <tr>\n",
       "      <th>45653</th>\n",
       "      <td>2.0</td>\n",
       "      <td>2.0</td>\n",
       "      <td>True</td>\n",
       "    </tr>\n",
       "  </tbody>\n",
       "</table>\n",
       "<p>45654 rows × 3 columns</p>\n",
       "</div>"
      ],
      "text/plain": [
       "       predict  train  accuracy\n",
       "0          2.0    4.0     False\n",
       "1          1.0    4.0     False\n",
       "2          4.0    4.0      True\n",
       "3          3.0    4.0     False\n",
       "4          4.0    4.0      True\n",
       "...        ...    ...       ...\n",
       "45649      4.0    1.0     False\n",
       "45650      2.0    2.0      True\n",
       "45651      2.0    1.0     False\n",
       "45652      2.0    2.0      True\n",
       "45653      2.0    2.0      True\n",
       "\n",
       "[45654 rows x 3 columns]"
      ]
     },
     "execution_count": 45,
     "metadata": {},
     "output_type": "execute_result"
    }
   ],
   "source": [
    "df_accuracy.rename(columns={\"pred\":\"predict\"})"
   ]
  },
  {
   "cell_type": "markdown",
   "metadata": {
    "id": "4OGrxoGEenSp"
   },
   "source": [
    "### 학습\n"
   ]
  },
  {
   "cell_type": "code",
   "execution_count": 46,
   "metadata": {
    "id": "DGwHTV9uenSp",
    "scrolled": true
   },
   "outputs": [
    {
     "name": "stdout",
     "output_type": "stream",
     "text": [
      "CPU times: user 2min 42s, sys: 882 ms, total: 2min 42s\n",
      "Wall time: 21.8 s\n"
     ]
    },
    {
     "data": {
      "text/plain": [
       "RandomForestClassifier(n_jobs=-1, random_state=42)"
      ]
     },
     "execution_count": 46,
     "metadata": {},
     "output_type": "execute_result"
    }
   ],
   "source": [
    "# fit 으로 학습시킵니다.\n",
    "%time model.fit(train_feature_tfidf, y_train)"
   ]
  },
  {
   "cell_type": "markdown",
   "metadata": {
    "id": "jj6T3qITenSq"
   },
   "source": [
    "### 예측"
   ]
  },
  {
   "cell_type": "code",
   "execution_count": 47,
   "metadata": {
    "id": "8ErXsWONenSq"
   },
   "outputs": [
    {
     "data": {
      "text/plain": [
       "array([2., 3., 2., 2., 3.])"
      ]
     },
     "execution_count": 47,
     "metadata": {},
     "output_type": "execute_result"
    }
   ],
   "source": [
    "# predict로 예측합니다. \n",
    "y_predict = model.predict(test_feature_tfidf)\n",
    "y_predict[:5]"
   ]
  },
  {
   "cell_type": "markdown",
   "metadata": {
    "id": "yz_Dx1jEenSq"
   },
   "source": [
    "## 답안지 로드\n",
    "\n",
    "sample_submission.csv 파일은 마치 답안지와 같습니다."
   ]
  },
  {
   "cell_type": "code",
   "execution_count": 48,
   "metadata": {
    "id": "bjDXXKSYenSq"
   },
   "outputs": [
    {
     "data": {
      "text/html": [
       "<div>\n",
       "<style scoped>\n",
       "    .dataframe tbody tr th:only-of-type {\n",
       "        vertical-align: middle;\n",
       "    }\n",
       "\n",
       "    .dataframe tbody tr th {\n",
       "        vertical-align: top;\n",
       "    }\n",
       "\n",
       "    .dataframe thead th {\n",
       "        text-align: right;\n",
       "    }\n",
       "</style>\n",
       "<table border=\"1\" class=\"dataframe\">\n",
       "  <thead>\n",
       "    <tr style=\"text-align: right;\">\n",
       "      <th></th>\n",
       "      <th>index</th>\n",
       "      <th>topic_idx</th>\n",
       "    </tr>\n",
       "  </thead>\n",
       "  <tbody>\n",
       "    <tr>\n",
       "      <th>0</th>\n",
       "      <td>45654</td>\n",
       "      <td>0</td>\n",
       "    </tr>\n",
       "    <tr>\n",
       "      <th>1</th>\n",
       "      <td>45655</td>\n",
       "      <td>0</td>\n",
       "    </tr>\n",
       "    <tr>\n",
       "      <th>2</th>\n",
       "      <td>45656</td>\n",
       "      <td>0</td>\n",
       "    </tr>\n",
       "    <tr>\n",
       "      <th>3</th>\n",
       "      <td>45657</td>\n",
       "      <td>0</td>\n",
       "    </tr>\n",
       "    <tr>\n",
       "      <th>4</th>\n",
       "      <td>45658</td>\n",
       "      <td>0</td>\n",
       "    </tr>\n",
       "  </tbody>\n",
       "</table>\n",
       "</div>"
      ],
      "text/plain": [
       "   index  topic_idx\n",
       "0  45654          0\n",
       "1  45655          0\n",
       "2  45656          0\n",
       "3  45657          0\n",
       "4  45658          0"
      ]
     },
     "execution_count": 48,
     "metadata": {},
     "output_type": "execute_result"
    }
   ],
   "source": [
    "submit = pd.read_csv(os.path.join(base_path, \"sample_submission.csv\"))\n",
    "submit.head()"
   ]
  },
  {
   "cell_type": "code",
   "execution_count": 49,
   "metadata": {
    "id": "6IDuzRftenSq"
   },
   "outputs": [],
   "source": [
    "# 정답값 측정을 위해 y_test 변수에 할당\n",
    "submit[\"topic_idx\"] = y_predict"
   ]
  },
  {
   "cell_type": "code",
   "execution_count": 50,
   "metadata": {},
   "outputs": [
    {
     "data": {
      "text/plain": [
       "'data/klue/submit_0.7384676041529767.csv'"
      ]
     },
     "execution_count": 50,
     "metadata": {},
     "output_type": "execute_result"
    }
   ],
   "source": [
    "file_name = os.path.join(base_path, f\"submit_{valid_accuracy}.csv\")\n",
    "file_name"
   ]
  },
  {
   "cell_type": "code",
   "execution_count": 51,
   "metadata": {
    "id": "F7boYJb4enSq"
   },
   "outputs": [],
   "source": [
    "submit.to_csv(file_name, index=False)"
   ]
  },
  {
   "cell_type": "code",
   "execution_count": null,
   "metadata": {
    "id": "ZB1HBD38enSq"
   },
   "outputs": [],
   "source": []
  }
 ],
 "metadata": {
  "kernelspec": {
   "display_name": "Python 3 (ipykernel)",
   "language": "python",
   "name": "python3"
  },
  "language_info": {
   "codemirror_mode": {
    "name": "ipython",
    "version": 3
   },
   "file_extension": ".py",
   "mimetype": "text/x-python",
   "name": "python",
   "nbconvert_exporter": "python",
   "pygments_lexer": "ipython3",
   "version": "3.7.13"
  },
  "toc": {
   "base_numbering": 1,
   "nav_menu": {},
   "number_sections": true,
   "sideBar": true,
   "skip_h1_title": false,
   "title_cell": "Table of Contents",
   "title_sidebar": "Contents",
   "toc_cell": false,
   "toc_position": {},
   "toc_section_display": true,
   "toc_window_display": false
  },
  "varInspector": {
   "cols": {
    "lenName": 16,
    "lenType": 16,
    "lenVar": 40
   },
   "kernels_config": {
    "python": {
     "delete_cmd_postfix": "",
     "delete_cmd_prefix": "del ",
     "library": "var_list.py",
     "varRefreshCmd": "print(var_dic_list())"
    },
    "r": {
     "delete_cmd_postfix": ") ",
     "delete_cmd_prefix": "rm(",
     "library": "var_list.r",
     "varRefreshCmd": "cat(var_dic_list()) "
    }
   },
   "types_to_exclude": [
    "module",
    "function",
    "builtin_function_or_method",
    "instance",
    "_Feature"
   ],
   "window_display": false
  }
 },
 "nbformat": 4,
 "nbformat_minor": 1
}
