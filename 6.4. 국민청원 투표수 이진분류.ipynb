{
 "cells": [
  {
   "cell_type": "markdown",
   "metadata": {
    "colab_type": "text",
    "id": "Ddb_N_hoGWLg"
   },
   "source": [
    "# 국민청원 데이터로 이진 분류하기"
   ]
  },
  {
   "cell_type": "markdown",
   "metadata": {
    "colab_type": "text",
    "id": "Ai6XYDVxGWLh"
   },
   "source": [
    "* 예제로 응답여부를 0과 1로 예측합니다.\n",
    "* 응답여부 외에도 청원의 카테고리를 예측하는 분류를 해볼 수도 있을것 같아요. \n",
    "* 이 예제를 참고하여 응답여부외에 청원내용으로 평균 이상의 투표를 받을 것인지 여부를 예측해 보면 좋겠습니다.\n",
    "* 파이썬의 머신러닝 라이브러리인 Scikit-learn을 사용합니다."
   ]
  },
  {
   "cell_type": "code",
   "execution_count": 1,
   "metadata": {
    "colab": {
     "base_uri": "https://localhost:8080/",
     "height": 52
    },
    "colab_type": "code",
    "executionInfo": {
     "elapsed": 1007,
     "status": "ok",
     "timestamp": 1550296264855,
     "user": {
      "displayName": "Joeun Park",
      "photoUrl": "https://lh6.googleusercontent.com/-JYBWhNoobh0/AAAAAAAAAAI/AAAAAAAADIs/8dW1MgKePR0/s64/photo.jpg",
      "userId": "17163383815352082166"
     },
     "user_tz": -540
    },
    "id": "_wQrrZ86GWLj",
    "outputId": "17471a21-5921-499d-ef0d-f3ef46df91d5"
   },
   "outputs": [
    {
     "name": "stdout",
     "output_type": "stream",
     "text": [
      "1.3.5\n",
      "1.21.5\n"
     ]
    }
   ],
   "source": [
    "import pandas as pd\n",
    "import numpy as np\n",
    "import re\n",
    "print(pd.__version__)\n",
    "print(np.__version__)"
   ]
  },
  {
   "cell_type": "markdown",
   "metadata": {
    "colab_type": "text",
    "id": "0nh1yksKGWLn"
   },
   "source": [
    "# 데이터 로드하기\n",
    "*  데이터 출처 : https://github.com/akngs/petitions"
   ]
  },
  {
   "cell_type": "code",
   "execution_count": 13,
   "metadata": {},
   "outputs": [
    {
     "name": "stdout",
     "output_type": "stream",
     "text": [
      "https://drive.google.com/uc?export=download&id=1d8VEAj6n83wT1YRlCrhoU_1mMSvYpXc4 -O petition.csv 에서 다운로드 받아 실습 경로 /Users/corazzon/codes/pytextbook/data에 옮겨주세요.\n"
     ]
    }
   ],
   "source": [
    "base_path = \"data\"\n",
    "gdrive_id = \"1d8VEAj6n83wT1YRlCrhoU_1mMSvYpXc4\"\n",
    "file_name = \"petition.csv\"\n",
    "\n",
    "file_link = f\"https://drive.google.com/uc?export=download&id={gdrive_id} -O {file_name}\"\n",
    "import os\n",
    "import platform\n",
    "\n",
    "def file_exist_check(base_path, gdrive_id, file_name):\n",
    "    if os.path.exists(f\"./{file_name}\"):\n",
    "        print(f\"{os.getcwd()}/{base_path} 경로에 파일이 있음\")\n",
    "        return\n",
    "\n",
    "    if not os.path.exists(base_path):\n",
    "        os.makedirs(base_path)\n",
    "    \n",
    "    if platform.system() == \"Linux\":\n",
    "        print(f\"파일을 다운로드 하고 {base_path} 경로에 압축을 해제함\")\n",
    "        !wget file_link\n",
    "        !unzip {file_name} -d {base_path}\n",
    "        return \n",
    "    else:\n",
    "        print(f\"{file_link} 에서 다운로드 받아 실습 경로 {os.getcwd()}/{base_path}에 옮겨주세요.\"\"\")\n",
    "        return\n",
    "    \n",
    "file_exist_check(base_path, gdrive_id, file_name) "
   ]
  },
  {
   "cell_type": "code",
   "execution_count": null,
   "metadata": {
    "colab": {
     "base_uri": "https://localhost:8080/",
     "height": 34
    },
    "colab_type": "code",
    "executionInfo": {
     "elapsed": 20980,
     "status": "ok",
     "timestamp": 1550296342305,
     "user": {
      "displayName": "Joeun Park",
      "photoUrl": "https://lh6.googleusercontent.com/-JYBWhNoobh0/AAAAAAAAAAI/AAAAAAAADIs/8dW1MgKePR0/s64/photo.jpg",
      "userId": "17163383815352082166"
     },
     "user_tz": -540
    },
    "id": "qZsZL9eBGWLo",
    "outputId": "f01dae3b-df65-4ed0-a48c-bfb0219b6f0e"
   },
   "outputs": [],
   "source": [
    "petitions = pd.read_csv('petition.csv',\n",
    "                        parse_dates=['start', 'end'])\n",
    "# 데이터의 크기가 어느정도인지 본다.\n",
    "petitions.shape"
   ]
  },
  {
   "cell_type": "code",
   "execution_count": null,
   "metadata": {
    "colab": {
     "base_uri": "https://localhost:8080/",
     "height": 297
    },
    "colab_type": "code",
    "executionInfo": {
     "elapsed": 985,
     "status": "ok",
     "timestamp": 1550296342678,
     "user": {
      "displayName": "Joeun Park",
      "photoUrl": "https://lh6.googleusercontent.com/-JYBWhNoobh0/AAAAAAAAAAI/AAAAAAAADIs/8dW1MgKePR0/s64/photo.jpg",
      "userId": "17163383815352082166"
     },
     "user_tz": -540
    },
    "id": "cWPp0PaTGWLs",
    "outputId": "a7e2d4ad-fdb4-4f78-d020-d0e3125dd823"
   },
   "outputs": [],
   "source": [
    "petitions.describe()"
   ]
  },
  {
   "cell_type": "code",
   "execution_count": null,
   "metadata": {
    "colab": {
     "base_uri": "https://localhost:8080/",
     "height": 34
    },
    "colab_type": "code",
    "executionInfo": {
     "elapsed": 889,
     "status": "ok",
     "timestamp": 1550296343716,
     "user": {
      "displayName": "Joeun Park",
      "photoUrl": "https://lh6.googleusercontent.com/-JYBWhNoobh0/AAAAAAAAAAI/AAAAAAAADIs/8dW1MgKePR0/s64/photo.jpg",
      "userId": "17163383815352082166"
     },
     "user_tz": -540
    },
    "id": "ZX-Js1ZnGWLx",
    "outputId": "d0d50f01-7b69-4c81-fbbf-74c33ae1c803"
   },
   "outputs": [],
   "source": [
    "# 전체 데이터 중 투표가 500건 이상인 데이터를 기준으로 가져옵니다. \n",
    "# 아웃라이어 데이터 제거를 위해 20만건 이상 데이터도 제거합니다.\n",
    "petition_remove_outlier = petitions.loc[(petitions['votes'] > 500) & \n",
    "                                        (petitions['votes'] < 200000)]\n",
    "petition_remove_outlier.shape"
   ]
  },
  {
   "cell_type": "code",
   "execution_count": null,
   "metadata": {
    "colab": {},
    "colab_type": "code",
    "id": "zhNm4m1UGWL0"
   },
   "outputs": [],
   "source": [
    "df = petition_remove_outlier.copy()"
   ]
  },
  {
   "cell_type": "code",
   "execution_count": null,
   "metadata": {
    "colab": {
     "base_uri": "https://localhost:8080/",
     "height": 297
    },
    "colab_type": "code",
    "executionInfo": {
     "elapsed": 923,
     "status": "ok",
     "timestamp": 1550296443247,
     "user": {
      "displayName": "Joeun Park",
      "photoUrl": "https://lh6.googleusercontent.com/-JYBWhNoobh0/AAAAAAAAAAI/AAAAAAAADIs/8dW1MgKePR0/s64/photo.jpg",
      "userId": "17163383815352082166"
     },
     "user_tz": -540
    },
    "id": "WB-ltSN0GWL3",
    "outputId": "fa3c2996-5924-4a3f-93ea-72d0f2724d88"
   },
   "outputs": [],
   "source": [
    "df.describe()"
   ]
  },
  {
   "cell_type": "markdown",
   "metadata": {
    "colab_type": "text",
    "id": "Rm3fY9L7GWL6"
   },
   "source": [
    "# 이진분류 대상 정하기"
   ]
  },
  {
   "cell_type": "code",
   "execution_count": null,
   "metadata": {
    "colab": {
     "base_uri": "https://localhost:8080/",
     "height": 34
    },
    "colab_type": "code",
    "executionInfo": {
     "elapsed": 922,
     "status": "ok",
     "timestamp": 1550296473512,
     "user": {
      "displayName": "Joeun Park",
      "photoUrl": "https://lh6.googleusercontent.com/-JYBWhNoobh0/AAAAAAAAAAI/AAAAAAAADIs/8dW1MgKePR0/s64/photo.jpg",
      "userId": "17163383815352082166"
     },
     "user_tz": -540
    },
    "id": "xRoBt62WGWL6",
    "outputId": "7ec3764e-b0e4-4f14-f14c-6eda4de58f50"
   },
   "outputs": [],
   "source": [
    "# 답변대상건이 몇 건인지 봅니다. \n",
    "df.loc[df['answered'] == 1].shape"
   ]
  },
  {
   "cell_type": "code",
   "execution_count": null,
   "metadata": {
    "colab": {
     "base_uri": "https://localhost:8080/",
     "height": 286
    },
    "colab_type": "code",
    "executionInfo": {
     "elapsed": 1048,
     "status": "ok",
     "timestamp": 1550296485545,
     "user": {
      "displayName": "Joeun Park",
      "photoUrl": "https://lh6.googleusercontent.com/-JYBWhNoobh0/AAAAAAAAAAI/AAAAAAAADIs/8dW1MgKePR0/s64/photo.jpg",
      "userId": "17163383815352082166"
     },
     "user_tz": -540
    },
    "id": "sqeQ5caHGWL-",
    "outputId": "4f85cd86-378b-4a68-84bf-6f0cefdc2360"
   },
   "outputs": [],
   "source": [
    "%matplotlib inline \n",
    "df['votes'].plot.hist()"
   ]
  },
  {
   "cell_type": "markdown",
   "metadata": {
    "colab_type": "text",
    "id": "MF-j2CiAGWME"
   },
   "source": [
    "# 투표수를 평균보다 높게 혹은 적게 받는지 예측해 보기"
   ]
  },
  {
   "cell_type": "code",
   "execution_count": null,
   "metadata": {
    "colab": {},
    "colab_type": "code",
    "id": "UGynO02lGWMF"
   },
   "outputs": [],
   "source": [
    "# 기본값을 0으로 세팅\n",
    "df['votes_pos_neg'] = 0"
   ]
  },
  {
   "cell_type": "code",
   "execution_count": null,
   "metadata": {
    "colab": {
     "base_uri": "https://localhost:8080/",
     "height": 34
    },
    "colab_type": "code",
    "executionInfo": {
     "elapsed": 1015,
     "status": "ok",
     "timestamp": 1550296537368,
     "user": {
      "displayName": "Joeun Park",
      "photoUrl": "https://lh6.googleusercontent.com/-JYBWhNoobh0/AAAAAAAAAAI/AAAAAAAADIs/8dW1MgKePR0/s64/photo.jpg",
      "userId": "17163383815352082166"
     },
     "user_tz": -540
    },
    "id": "vD764md3GWML",
    "outputId": "d8085b9b-f583-4ac7-cdca-20e4dcb356ba"
   },
   "outputs": [],
   "source": [
    "# 평균 투표수를 구해 옵니다.\n",
    "votes_mean = df['votes'].mean()\n",
    "votes_mean"
   ]
  },
  {
   "cell_type": "code",
   "execution_count": null,
   "metadata": {
    "colab": {},
    "colab_type": "code",
    "id": "-qvvZnLrGWMP"
   },
   "outputs": [],
   "source": [
    "# 투표수가 평균을 넘으면 1로 다시 세팅합니다.\n",
    "df['votes_pos_neg'] = (df['votes'] > votes_mean) == 1"
   ]
  },
  {
   "cell_type": "code",
   "execution_count": null,
   "metadata": {
    "colab": {
     "base_uri": "https://localhost:8080/",
     "height": 34
    },
    "colab_type": "code",
    "executionInfo": {
     "elapsed": 1092,
     "status": "ok",
     "timestamp": 1550296552387,
     "user": {
      "displayName": "Joeun Park",
      "photoUrl": "https://lh6.googleusercontent.com/-JYBWhNoobh0/AAAAAAAAAAI/AAAAAAAADIs/8dW1MgKePR0/s64/photo.jpg",
      "userId": "17163383815352082166"
     },
     "user_tz": -540
    },
    "id": "nSEVttZlwt1z",
    "outputId": "73b77665-8830-49b5-e80a-a0e7098263b1"
   },
   "outputs": [],
   "source": [
    "df['votes_pos_neg'].dtypes"
   ]
  },
  {
   "cell_type": "code",
   "execution_count": null,
   "metadata": {
    "colab": {},
    "colab_type": "code",
    "id": "v_WUfsiBGWMR"
   },
   "outputs": [],
   "source": [
    "# 타입을 boolean 에서 int로 변경해 줍니다.\n",
    "df['votes_pos_neg'] = df['votes_pos_neg'].astype(int)"
   ]
  },
  {
   "cell_type": "code",
   "execution_count": null,
   "metadata": {
    "colab": {
     "base_uri": "https://localhost:8080/",
     "height": 204
    },
    "colab_type": "code",
    "executionInfo": {
     "elapsed": 946,
     "status": "ok",
     "timestamp": 1550296600964,
     "user": {
      "displayName": "Joeun Park",
      "photoUrl": "https://lh6.googleusercontent.com/-JYBWhNoobh0/AAAAAAAAAAI/AAAAAAAADIs/8dW1MgKePR0/s64/photo.jpg",
      "userId": "17163383815352082166"
     },
     "user_tz": -540
    },
    "id": "qg5gannfGWMT",
    "outputId": "e6ed19bb-ffd8-46a1-cd2c-f4a9a02220c7"
   },
   "outputs": [],
   "source": [
    "df[['votes', 'votes_pos_neg']].head()"
   ]
  },
  {
   "cell_type": "code",
   "execution_count": null,
   "metadata": {
    "colab": {},
    "colab_type": "code",
    "id": "wGxJIX8PGWMX"
   },
   "outputs": [],
   "source": [
    "# 샘플로 보고 싶은 인덱스의 번호를 넣어주세요.\n",
    "sample_index = 13"
   ]
  },
  {
   "cell_type": "code",
   "execution_count": null,
   "metadata": {
    "colab": {
     "base_uri": "https://localhost:8080/",
     "height": 34
    },
    "colab_type": "code",
    "executionInfo": {
     "elapsed": 994,
     "status": "ok",
     "timestamp": 1550296644210,
     "user": {
      "displayName": "Joeun Park",
      "photoUrl": "https://lh6.googleusercontent.com/-JYBWhNoobh0/AAAAAAAAAAI/AAAAAAAADIs/8dW1MgKePR0/s64/photo.jpg",
      "userId": "17163383815352082166"
     },
     "user_tz": -540
    },
    "id": "8CuehUNqGWMa",
    "outputId": "df362215-de02-4031-eb19-8e3658653ce5"
   },
   "outputs": [],
   "source": [
    "sample_title = df.loc[sample_index, 'title']\n",
    "sample_title"
   ]
  },
  {
   "cell_type": "code",
   "execution_count": null,
   "metadata": {
    "colab": {
     "base_uri": "https://localhost:8080/",
     "height": 54
    },
    "colab_type": "code",
    "executionInfo": {
     "elapsed": 945,
     "status": "ok",
     "timestamp": 1550296649106,
     "user": {
      "displayName": "Joeun Park",
      "photoUrl": "https://lh6.googleusercontent.com/-JYBWhNoobh0/AAAAAAAAAAI/AAAAAAAADIs/8dW1MgKePR0/s64/photo.jpg",
      "userId": "17163383815352082166"
     },
     "user_tz": -540
    },
    "id": "qLIB5jOTGWMc",
    "outputId": "d27a0daf-8bdf-4d26-80bc-ab1b508ddbe9"
   },
   "outputs": [],
   "source": [
    "sample_content = petitions.loc[sample_index, 'content']\n",
    "sample_content"
   ]
  },
  {
   "cell_type": "markdown",
   "metadata": {
    "colab_type": "text",
    "id": "Ftqshf06GWMg"
   },
   "source": [
    "# 전처리 하기 "
   ]
  },
  {
   "cell_type": "code",
   "execution_count": null,
   "metadata": {
    "colab": {},
    "colab_type": "code",
    "id": "xwG3rIWUGWMh"
   },
   "outputs": [],
   "source": [
    "def preprocessing(text):\n",
    "    # 개행문자 제거\n",
    "    text = re.sub('\\\\\\\\n', ' ', text)\n",
    "    # 특수문자 제거\n",
    "    # 특수문자나 이모티콘 등은 때로는 의미를 갖기도 하지만 여기에서는 제거했습니다.\n",
    "    # text = re.sub('[?.,;:|\\)*~`’!^\\-_+<>@\\#$%&-=#}※]', '', text)\n",
    "    # 한글, 영문, 숫자만 남기고 모두 제거하도록 합니다.\n",
    "    # text = re.sub('[^가-힣ㄱ-ㅎㅏ-ㅣa-zA-Z0-9]', ' ', text)\n",
    "    # 한글, 영문만 남기고 모두 제거하도록 합니다.\n",
    "    text = re.sub('[^가-힣ㄱ-ㅎㅏ-ㅣa-zA-Z]', ' ', text)\n",
    "    # 중복으로 생성된 공백값을 제거합니다.\n",
    "    text = re.sub(' +', ' ', text)\n",
    "    return text"
   ]
  },
  {
   "cell_type": "code",
   "execution_count": null,
   "metadata": {
    "colab": {},
    "colab_type": "code",
    "id": "jgbWrE_jGWMj"
   },
   "outputs": [],
   "source": [
    "# 불용어 제거\n",
    "def remove_stopwords(text):\n",
    "    tokens = text.split(' ')\n",
    "    stops = ['수', '현', '있는', '있습니다', '그', '년도', '합니다', '하는', \n",
    "             '및', '제', '할', '하고', '더', '대한', '한', '그리고', '월', \n",
    "             '저는', '없는', '입니다', '등', '일', '많은', '이런', '것은', \n",
    "             '왜','같은', '같습니다', '없습니다', '위해', '한다']\n",
    "    meaningful_words = [w for w in tokens if not w in stops]\n",
    "    return ' '.join(meaningful_words)"
   ]
  },
  {
   "cell_type": "code",
   "execution_count": null,
   "metadata": {
    "colab": {
     "base_uri": "https://localhost:8080/",
     "height": 52
    },
    "colab_type": "code",
    "executionInfo": {
     "elapsed": 957,
     "status": "ok",
     "timestamp": 1550296789353,
     "user": {
      "displayName": "Joeun Park",
      "photoUrl": "https://lh6.googleusercontent.com/-JYBWhNoobh0/AAAAAAAAAAI/AAAAAAAADIs/8dW1MgKePR0/s64/photo.jpg",
      "userId": "17163383815352082166"
     },
     "user_tz": -540
    },
    "id": "O32FAOHqGWMk",
    "outputId": "551fe45e-c4a9-4b7b-d07b-f98053f0f9fb"
   },
   "outputs": [],
   "source": [
    "# 샘플데이터에 적용\n",
    "%time pre_sample_content = preprocessing(sample_content)"
   ]
  },
  {
   "cell_type": "code",
   "execution_count": null,
   "metadata": {
    "colab": {
     "base_uri": "https://localhost:8080/",
     "height": 52
    },
    "colab_type": "code",
    "executionInfo": {
     "elapsed": 868,
     "status": "ok",
     "timestamp": 1550296789721,
     "user": {
      "displayName": "Joeun Park",
      "photoUrl": "https://lh6.googleusercontent.com/-JYBWhNoobh0/AAAAAAAAAAI/AAAAAAAADIs/8dW1MgKePR0/s64/photo.jpg",
      "userId": "17163383815352082166"
     },
     "user_tz": -540
    },
    "id": "ib92t6XCGWMm",
    "outputId": "204f07ea-0faa-4af0-a98c-351892c9c18b"
   },
   "outputs": [],
   "source": [
    "%time pre_sample_content = remove_stopwords(pre_sample_content)"
   ]
  },
  {
   "cell_type": "code",
   "execution_count": null,
   "metadata": {
    "colab": {
     "base_uri": "https://localhost:8080/",
     "height": 54
    },
    "colab_type": "code",
    "executionInfo": {
     "elapsed": 612,
     "status": "ok",
     "timestamp": 1550296790928,
     "user": {
      "displayName": "Joeun Park",
      "photoUrl": "https://lh6.googleusercontent.com/-JYBWhNoobh0/AAAAAAAAAAI/AAAAAAAADIs/8dW1MgKePR0/s64/photo.jpg",
      "userId": "17163383815352082166"
     },
     "user_tz": -540
    },
    "id": "qTuOMrn01lBl",
    "outputId": "c4d615aa-1c6c-4487-fd63-4472d77e28f1"
   },
   "outputs": [],
   "source": [
    "pre_sample_content"
   ]
  },
  {
   "cell_type": "code",
   "execution_count": null,
   "metadata": {
    "colab": {
     "base_uri": "https://localhost:8080/",
     "height": 52
    },
    "colab_type": "code",
    "executionInfo": {
     "elapsed": 1803,
     "status": "ok",
     "timestamp": 1550296826881,
     "user": {
      "displayName": "Joeun Park",
      "photoUrl": "https://lh6.googleusercontent.com/-JYBWhNoobh0/AAAAAAAAAAI/AAAAAAAADIs/8dW1MgKePR0/s64/photo.jpg",
      "userId": "17163383815352082166"
     },
     "user_tz": -540
    },
    "id": "FiJI6mjBGWMp",
    "outputId": "62b5c564-9d07-42d7-f518-d0f50246aeaa"
   },
   "outputs": [],
   "source": [
    "%time df['content_preprocessing'] = df['content'].apply(preprocessing)"
   ]
  },
  {
   "cell_type": "code",
   "execution_count": null,
   "metadata": {
    "colab": {
     "base_uri": "https://localhost:8080/",
     "height": 52
    },
    "colab_type": "code",
    "executionInfo": {
     "elapsed": 1384,
     "status": "ok",
     "timestamp": 1550296856083,
     "user": {
      "displayName": "Joeun Park",
      "photoUrl": "https://lh6.googleusercontent.com/-JYBWhNoobh0/AAAAAAAAAAI/AAAAAAAADIs/8dW1MgKePR0/s64/photo.jpg",
      "userId": "17163383815352082166"
     },
     "user_tz": -540
    },
    "id": "lFd-lTxCGWMt",
    "outputId": "e122dc6f-ba1b-4344-a15a-7e9262f8688c"
   },
   "outputs": [],
   "source": [
    "%time df['content_preprocessed'] = df['content_preprocessing'].apply(remove_stopwords)"
   ]
  },
  {
   "cell_type": "markdown",
   "metadata": {
    "colab_type": "text",
    "id": "EvfLGn81GWMw"
   },
   "source": [
    "# 학습세트와 테스트세트 만들기\n",
    "* 학습세트와 테스트세트를 7:3의 비율로 나눠 줍니다."
   ]
  },
  {
   "cell_type": "code",
   "execution_count": null,
   "metadata": {
    "colab": {
     "base_uri": "https://localhost:8080/",
     "height": 1023
    },
    "colab_type": "code",
    "executionInfo": {
     "elapsed": 931,
     "status": "ok",
     "timestamp": 1550296944182,
     "user": {
      "displayName": "Joeun Park",
      "photoUrl": "https://lh6.googleusercontent.com/-JYBWhNoobh0/AAAAAAAAAAI/AAAAAAAADIs/8dW1MgKePR0/s64/photo.jpg",
      "userId": "17163383815352082166"
     },
     "user_tz": -540
    },
    "id": "vUw2Cu6PGWMx",
    "outputId": "7468ad08-6107-46c0-9daf-d3d126e34778"
   },
   "outputs": [],
   "source": [
    "df = df.reset_index()\n",
    "df.head()"
   ]
  },
  {
   "cell_type": "code",
   "execution_count": null,
   "metadata": {
    "colab": {
     "base_uri": "https://localhost:8080/",
     "height": 34
    },
    "colab_type": "code",
    "executionInfo": {
     "elapsed": 965,
     "status": "ok",
     "timestamp": 1550297075575,
     "user": {
      "displayName": "Joeun Park",
      "photoUrl": "https://lh6.googleusercontent.com/-JYBWhNoobh0/AAAAAAAAAAI/AAAAAAAADIs/8dW1MgKePR0/s64/photo.jpg",
      "userId": "17163383815352082166"
     },
     "user_tz": -540
    },
    "id": "-59nm1yKGWM0",
    "outputId": "a06501a2-f374-4c41-e40a-b4f9cee1adf5"
   },
   "outputs": [],
   "source": [
    "df.shape"
   ]
  },
  {
   "cell_type": "markdown",
   "metadata": {
    "colab_type": "text",
    "id": "xVnp3jUvD3mb"
   },
   "source": [
    "### 데이터를 나누는 기준을 구함"
   ]
  },
  {
   "cell_type": "code",
   "execution_count": null,
   "metadata": {
    "colab": {
     "base_uri": "https://localhost:8080/",
     "height": 34
    },
    "colab_type": "code",
    "executionInfo": {
     "elapsed": 897,
     "status": "ok",
     "timestamp": 1550296973354,
     "user": {
      "displayName": "Joeun Park",
      "photoUrl": "https://lh6.googleusercontent.com/-JYBWhNoobh0/AAAAAAAAAAI/AAAAAAAADIs/8dW1MgKePR0/s64/photo.jpg",
      "userId": "17163383815352082166"
     },
     "user_tz": -540
    },
    "id": "fIPZ3YXmGWM4",
    "outputId": "b8f24589-aa20-4e12-daf8-909dad77bbf4"
   },
   "outputs": [],
   "source": [
    "split_count = int(df.shape[0] * 0.7)\n",
    "split_count"
   ]
  },
  {
   "cell_type": "markdown",
   "metadata": {
    "colab_type": "text",
    "id": "uS90aRetDVe4"
   },
   "source": [
    "### 학습세트 만들기\n",
    "* split_count를 기준(위에서 70% 갯수)으로 데이터를 사용"
   ]
  },
  {
   "cell_type": "code",
   "execution_count": null,
   "metadata": {
    "colab": {
     "base_uri": "https://localhost:8080/",
     "height": 34
    },
    "colab_type": "code",
    "executionInfo": {
     "elapsed": 933,
     "status": "ok",
     "timestamp": 1550296989552,
     "user": {
      "displayName": "Joeun Park",
      "photoUrl": "https://lh6.googleusercontent.com/-JYBWhNoobh0/AAAAAAAAAAI/AAAAAAAADIs/8dW1MgKePR0/s64/photo.jpg",
      "userId": "17163383815352082166"
     },
     "user_tz": -540
    },
    "id": "IIha9SluGWM7",
    "outputId": "3ddbd8e1-9754-4db1-d704-60811b304e6c"
   },
   "outputs": [],
   "source": [
    "df_train = df[:split_count].copy()\n",
    "df_train.shape"
   ]
  },
  {
   "cell_type": "code",
   "execution_count": null,
   "metadata": {
    "colab": {
     "base_uri": "https://localhost:8080/",
     "height": 938
    },
    "colab_type": "code",
    "executionInfo": {
     "elapsed": 924,
     "status": "ok",
     "timestamp": 1550297000478,
     "user": {
      "displayName": "Joeun Park",
      "photoUrl": "https://lh6.googleusercontent.com/-JYBWhNoobh0/AAAAAAAAAAI/AAAAAAAADIs/8dW1MgKePR0/s64/photo.jpg",
      "userId": "17163383815352082166"
     },
     "user_tz": -540
    },
    "id": "sVOVdV_RGWM9",
    "outputId": "060db37e-7eef-4ea6-8a7c-7713c0ea6da0"
   },
   "outputs": [],
   "source": [
    "df_train.tail()"
   ]
  },
  {
   "cell_type": "code",
   "execution_count": null,
   "metadata": {
    "colab": {
     "base_uri": "https://localhost:8080/",
     "height": 34
    },
    "colab_type": "code",
    "executionInfo": {
     "elapsed": 963,
     "status": "ok",
     "timestamp": 1550297110983,
     "user": {
      "displayName": "Joeun Park",
      "photoUrl": "https://lh6.googleusercontent.com/-JYBWhNoobh0/AAAAAAAAAAI/AAAAAAAADIs/8dW1MgKePR0/s64/photo.jpg",
      "userId": "17163383815352082166"
     },
     "user_tz": -540
    },
    "id": "RqYDEM1zGWNA",
    "outputId": "5d28a878-065b-45bd-868b-4f884f70ddbe"
   },
   "outputs": [],
   "source": [
    "# 학습 세트에서 투표수가 평균보다 많은 건\n",
    "df_train.loc[df_train['votes_pos_neg'] == 1].shape"
   ]
  },
  {
   "cell_type": "markdown",
   "metadata": {
    "colab_type": "text",
    "id": "RiovkOqKDfip"
   },
   "source": [
    "### 테스트세트 만들기\n",
    "* split_count를 기준(아래에서 30% 갯수)으로 데이터를 사용"
   ]
  },
  {
   "cell_type": "code",
   "execution_count": null,
   "metadata": {
    "colab": {
     "base_uri": "https://localhost:8080/",
     "height": 34
    },
    "colab_type": "code",
    "executionInfo": {
     "elapsed": 991,
     "status": "ok",
     "timestamp": 1550297115686,
     "user": {
      "displayName": "Joeun Park",
      "photoUrl": "https://lh6.googleusercontent.com/-JYBWhNoobh0/AAAAAAAAAAI/AAAAAAAADIs/8dW1MgKePR0/s64/photo.jpg",
      "userId": "17163383815352082166"
     },
     "user_tz": -540
    },
    "id": "gx5qAlspGWNC",
    "outputId": "dc57d859-501c-4afc-8cee-aeceecf0d618"
   },
   "outputs": [],
   "source": [
    "df_test = df[split_count:].copy()\n",
    "df_test.shape"
   ]
  },
  {
   "cell_type": "code",
   "execution_count": null,
   "metadata": {
    "colab": {
     "base_uri": "https://localhost:8080/",
     "height": 921
    },
    "colab_type": "code",
    "executionInfo": {
     "elapsed": 1070,
     "status": "ok",
     "timestamp": 1550297136578,
     "user": {
      "displayName": "Joeun Park",
      "photoUrl": "https://lh6.googleusercontent.com/-JYBWhNoobh0/AAAAAAAAAAI/AAAAAAAADIs/8dW1MgKePR0/s64/photo.jpg",
      "userId": "17163383815352082166"
     },
     "user_tz": -540
    },
    "id": "od0QhGQ6GWNF",
    "outputId": "32bba88d-1880-40cc-ce86-09ff109aa716"
   },
   "outputs": [],
   "source": [
    "df_test.head()"
   ]
  },
  {
   "cell_type": "code",
   "execution_count": null,
   "metadata": {
    "colab": {
     "base_uri": "https://localhost:8080/",
     "height": 34
    },
    "colab_type": "code",
    "executionInfo": {
     "elapsed": 1108,
     "status": "ok",
     "timestamp": 1550297139627,
     "user": {
      "displayName": "Joeun Park",
      "photoUrl": "https://lh6.googleusercontent.com/-JYBWhNoobh0/AAAAAAAAAAI/AAAAAAAADIs/8dW1MgKePR0/s64/photo.jpg",
      "userId": "17163383815352082166"
     },
     "user_tz": -540
    },
    "id": "Gi49Cp5fGWNH",
    "outputId": "6add1bce-479f-4393-d9a2-640e9c1de930"
   },
   "outputs": [],
   "source": [
    "# 테스트 세트에서 투표수가 평균보다 많은 건\n",
    "df_test.loc[df_test['votes_pos_neg'] == 1].shape"
   ]
  },
  {
   "cell_type": "markdown",
   "metadata": {
    "colab_type": "text",
    "id": "qglyc-NxGWNL"
   },
   "source": [
    "# 단어 벡터화 하기"
   ]
  },
  {
   "cell_type": "code",
   "execution_count": null,
   "metadata": {
    "colab": {
     "base_uri": "https://localhost:8080/",
     "height": 122
    },
    "colab_type": "code",
    "executionInfo": {
     "elapsed": 1077,
     "status": "ok",
     "timestamp": 1550297562456,
     "user": {
      "displayName": "Joeun Park",
      "photoUrl": "https://lh6.googleusercontent.com/-JYBWhNoobh0/AAAAAAAAAAI/AAAAAAAADIs/8dW1MgKePR0/s64/photo.jpg",
      "userId": "17163383815352082166"
     },
     "user_tz": -540
    },
    "id": "7j0Ajj5AGWNL",
    "outputId": "2f05335a-124d-435c-cbae-c15e36b2847d"
   },
   "outputs": [],
   "source": [
    "from sklearn.feature_extraction.text import CountVectorizer\n",
    "\n",
    "vectorizer = CountVectorizer(analyzer = 'word', # 캐릭터 단위로 벡터화 할 수도 있습니다.\n",
    "                             tokenizer = None, # 토크나이저를 따로 지정해 줄 수도 있습니다.\n",
    "                             preprocessor = None, # 전처리 도구\n",
    "                             stop_words = None, # 불용어 nltk등의 도구를 사용할 수도 있습니다.\n",
    "                             min_df = 2, # 토큰이 나타날 최소 문서 개수로 오타나 자주 나오지 않는 특수한 전문용어 제거에 좋습니다. \n",
    "                             ngram_range=(1, 3), # BOW의 단위를 1~3개로 지정합니다.\n",
    "                             max_features = 2000 # 만들 피처의 수, 단어의 수가 됩니다.\n",
    "                            )\n",
    "vectorizer"
   ]
  },
  {
   "cell_type": "code",
   "execution_count": null,
   "metadata": {
    "colab": {
     "base_uri": "https://localhost:8080/",
     "height": 51
    },
    "colab_type": "code",
    "executionInfo": {
     "elapsed": 14958,
     "status": "ok",
     "timestamp": 1550297576611,
     "user": {
      "displayName": "Joeun Park",
      "photoUrl": "https://lh6.googleusercontent.com/-JYBWhNoobh0/AAAAAAAAAAI/AAAAAAAADIs/8dW1MgKePR0/s64/photo.jpg",
      "userId": "17163383815352082166"
     },
     "user_tz": -540
    },
    "id": "8q4bGuwAGWNO",
    "outputId": "49875ad6-ff90-4aa8-89f4-f4df9e2ecc85"
   },
   "outputs": [],
   "source": [
    "%%time \n",
    "train_feature_vector = vectorizer.fit_transform(df_train['content_preprocessed'])\n",
    "train_feature_vector.shape"
   ]
  },
  {
   "cell_type": "code",
   "execution_count": null,
   "metadata": {
    "colab": {
     "base_uri": "https://localhost:8080/",
     "height": 51
    },
    "colab_type": "code",
    "executionInfo": {
     "elapsed": 20738,
     "status": "ok",
     "timestamp": 1550297583137,
     "user": {
      "displayName": "Joeun Park",
      "photoUrl": "https://lh6.googleusercontent.com/-JYBWhNoobh0/AAAAAAAAAAI/AAAAAAAADIs/8dW1MgKePR0/s64/photo.jpg",
      "userId": "17163383815352082166"
     },
     "user_tz": -540
    },
    "id": "19A9PuHsGWNQ",
    "outputId": "f6c033ac-1ce3-4425-952f-7efc77b90150"
   },
   "outputs": [],
   "source": [
    "%%time \n",
    "test_feature_vector = vectorizer.fit_transform(df_test['content_preprocessed'])\n",
    "test_feature_vector.shape"
   ]
  },
  {
   "cell_type": "code",
   "execution_count": null,
   "metadata": {
    "colab": {
     "base_uri": "https://localhost:8080/",
     "height": 204
    },
    "colab_type": "code",
    "executionInfo": {
     "elapsed": 20476,
     "status": "ok",
     "timestamp": 1550297583138,
     "user": {
      "displayName": "Joeun Park",
      "photoUrl": "https://lh6.googleusercontent.com/-JYBWhNoobh0/AAAAAAAAAAI/AAAAAAAADIs/8dW1MgKePR0/s64/photo.jpg",
      "userId": "17163383815352082166"
     },
     "user_tz": -540
    },
    "id": "YMh-0SK8GWNS",
    "outputId": "1ccf21fb-03eb-486d-d21f-47e0b6753724"
   },
   "outputs": [],
   "source": [
    "vocab = vectorizer.get_feature_names()\n",
    "print(len(vocab))\n",
    "vocab[:10]"
   ]
  },
  {
   "cell_type": "code",
   "execution_count": null,
   "metadata": {
    "colab": {
     "base_uri": "https://localhost:8080/",
     "height": 126
    },
    "colab_type": "code",
    "executionInfo": {
     "elapsed": 20299,
     "status": "ok",
     "timestamp": 1550297583143,
     "user": {
      "displayName": "Joeun Park",
      "photoUrl": "https://lh6.googleusercontent.com/-JYBWhNoobh0/AAAAAAAAAAI/AAAAAAAADIs/8dW1MgKePR0/s64/photo.jpg",
      "userId": "17163383815352082166"
     },
     "user_tz": -540
    },
    "id": "CyaIQQ5cGWNX",
    "outputId": "552a435f-6087-4b2a-c6f9-36f2851764b6"
   },
   "outputs": [],
   "source": [
    "dist = np.sum(train_feature_vector, axis=0)\n",
    "\n",
    "pd.DataFrame(dist, columns=vocab)"
   ]
  },
  {
   "cell_type": "markdown",
   "metadata": {
    "colab_type": "text",
    "id": "xDqeIBSgEUiI"
   },
   "source": [
    "### TF-IDF 가중치 적용"
   ]
  },
  {
   "cell_type": "code",
   "execution_count": null,
   "metadata": {
    "colab": {
     "base_uri": "https://localhost:8080/",
     "height": 51
    },
    "colab_type": "code",
    "executionInfo": {
     "elapsed": 19125,
     "status": "ok",
     "timestamp": 1550297583144,
     "user": {
      "displayName": "Joeun Park",
      "photoUrl": "https://lh6.googleusercontent.com/-JYBWhNoobh0/AAAAAAAAAAI/AAAAAAAADIs/8dW1MgKePR0/s64/photo.jpg",
      "userId": "17163383815352082166"
     },
     "user_tz": -540
    },
    "id": "ATlF2CtrGWNZ",
    "outputId": "0d0053de-6ee8-4d85-ef0c-bea22b17d344"
   },
   "outputs": [],
   "source": [
    "from sklearn.feature_extraction.text import TfidfTransformer\n",
    "transformer = TfidfTransformer(smooth_idf=False)\n",
    "transformer"
   ]
  },
  {
   "cell_type": "code",
   "execution_count": null,
   "metadata": {
    "colab": {
     "base_uri": "https://localhost:8080/",
     "height": 51
    },
    "colab_type": "code",
    "executionInfo": {
     "elapsed": 13699,
     "status": "ok",
     "timestamp": 1550297583147,
     "user": {
      "displayName": "Joeun Park",
      "photoUrl": "https://lh6.googleusercontent.com/-JYBWhNoobh0/AAAAAAAAAAI/AAAAAAAADIs/8dW1MgKePR0/s64/photo.jpg",
      "userId": "17163383815352082166"
     },
     "user_tz": -540
    },
    "id": "S_RcWReoGWNm",
    "outputId": "3b9d7f92-344a-47d0-d575-3940e9fce348"
   },
   "outputs": [],
   "source": [
    "%%time \n",
    "train_feature_tfidf = transformer.fit_transform(train_feature_vector)\n",
    "train_feature_tfidf.shape"
   ]
  },
  {
   "cell_type": "code",
   "execution_count": null,
   "metadata": {
    "colab": {
     "base_uri": "https://localhost:8080/",
     "height": 51
    },
    "colab_type": "code",
    "executionInfo": {
     "elapsed": 13494,
     "status": "ok",
     "timestamp": 1550297583149,
     "user": {
      "displayName": "Joeun Park",
      "photoUrl": "https://lh6.googleusercontent.com/-JYBWhNoobh0/AAAAAAAAAAI/AAAAAAAADIs/8dW1MgKePR0/s64/photo.jpg",
      "userId": "17163383815352082166"
     },
     "user_tz": -540
    },
    "id": "m0m-rdxsGWNt",
    "outputId": "06389da7-9745-45f6-9666-2963cba75dec"
   },
   "outputs": [],
   "source": [
    "%%time \n",
    "test_feature_tfidf = transformer.fit_transform(test_feature_vector)\n",
    "test_feature_tfidf.shape"
   ]
  },
  {
   "cell_type": "code",
   "execution_count": null,
   "metadata": {
    "colab": {
     "base_uri": "https://localhost:8080/",
     "height": 34
    },
    "colab_type": "code",
    "executionInfo": {
     "elapsed": 12929,
     "status": "ok",
     "timestamp": 1550297583151,
     "user": {
      "displayName": "Joeun Park",
      "photoUrl": "https://lh6.googleusercontent.com/-JYBWhNoobh0/AAAAAAAAAAI/AAAAAAAADIs/8dW1MgKePR0/s64/photo.jpg",
      "userId": "17163383815352082166"
     },
     "user_tz": -540
    },
    "id": "QXtYbXecGWN0",
    "outputId": "6f769c6d-c215-4c4c-b1f6-42e978fcf1aa"
   },
   "outputs": [],
   "source": [
    "test_feature_tfidf.shape"
   ]
  },
  {
   "cell_type": "markdown",
   "metadata": {
    "colab_type": "text",
    "id": "OLdWKx2iGWN4"
   },
   "source": [
    "# 랜덤 포레스트로 학습시키기\n",
    "* 공식문서 : http://scikit-learn.org/stable/modules/generated/sklearn.ensemble.RandomForestClassifier.html"
   ]
  },
  {
   "cell_type": "code",
   "execution_count": null,
   "metadata": {
    "colab": {
     "base_uri": "https://localhost:8080/",
     "height": 122
    },
    "colab_type": "code",
    "executionInfo": {
     "elapsed": 11364,
     "status": "ok",
     "timestamp": 1550297583153,
     "user": {
      "displayName": "Joeun Park",
      "photoUrl": "https://lh6.googleusercontent.com/-JYBWhNoobh0/AAAAAAAAAAI/AAAAAAAADIs/8dW1MgKePR0/s64/photo.jpg",
      "userId": "17163383815352082166"
     },
     "user_tz": -540
    },
    "id": "0qDw4YDnGWN5",
    "outputId": "e239cba6-5266-4134-92a8-1f73006d7039"
   },
   "outputs": [],
   "source": [
    "from sklearn.ensemble import RandomForestClassifier\n",
    "\n",
    "# 랜덤포레스트 분류기를 사용\n",
    "forest = RandomForestClassifier(\n",
    "    n_estimators = 100, n_jobs = -1, random_state=42)\n",
    "forest"
   ]
  },
  {
   "cell_type": "code",
   "execution_count": null,
   "metadata": {
    "colab": {
     "base_uri": "https://localhost:8080/",
     "height": 52
    },
    "colab_type": "code",
    "executionInfo": {
     "elapsed": 14979,
     "status": "ok",
     "timestamp": 1550297587395,
     "user": {
      "displayName": "Joeun Park",
      "photoUrl": "https://lh6.googleusercontent.com/-JYBWhNoobh0/AAAAAAAAAAI/AAAAAAAADIs/8dW1MgKePR0/s64/photo.jpg",
      "userId": "17163383815352082166"
     },
     "user_tz": -540
    },
    "id": "pdYoXtz0GWN8",
    "outputId": "4eca6209-fd41-4c67-b90d-eda6d8d8d259"
   },
   "outputs": [],
   "source": [
    "# 학습에 사용할 y_label 을 넣어준다.\n",
    "y_label = df_train['votes_pos_neg']\n",
    "%time forest = forest.fit(train_feature_tfidf, y_label)"
   ]
  },
  {
   "cell_type": "markdown",
   "metadata": {
    "colab_type": "text",
    "id": "mgaCkot3GWN_"
   },
   "source": [
    "# 평가하기\n",
    "* Mean Absolute Error"
   ]
  },
  {
   "cell_type": "code",
   "execution_count": null,
   "metadata": {
    "colab": {
     "base_uri": "https://localhost:8080/",
     "height": 34
    },
    "colab_type": "code",
    "executionInfo": {
     "elapsed": 17773,
     "status": "ok",
     "timestamp": 1550297607266,
     "user": {
      "displayName": "Joeun Park",
      "photoUrl": "https://lh6.googleusercontent.com/-JYBWhNoobh0/AAAAAAAAAAI/AAAAAAAADIs/8dW1MgKePR0/s64/photo.jpg",
      "userId": "17163383815352082166"
     },
     "user_tz": -540
    },
    "id": "Q8f0HUbjGWN_",
    "outputId": "3cb13828-72de-4dc6-9d6a-e60a23bca06d"
   },
   "outputs": [],
   "source": [
    "from sklearn.model_selection import KFold\n",
    "from sklearn.model_selection import cross_val_score\n",
    "k_fold = KFold(n_splits=5, shuffle=True, random_state=0)\n",
    "\n",
    "scoring = 'accuracy'\n",
    "score = cross_val_score(forest, train_feature_tfidf, \n",
    "                        y_label, cv=k_fold, n_jobs=-1, \n",
    "                        scoring=scoring)\n",
    "score"
   ]
  },
  {
   "cell_type": "code",
   "execution_count": null,
   "metadata": {
    "colab": {
     "base_uri": "https://localhost:8080/",
     "height": 34
    },
    "colab_type": "code",
    "executionInfo": {
     "elapsed": 17650,
     "status": "ok",
     "timestamp": 1550297607268,
     "user": {
      "displayName": "Joeun Park",
      "photoUrl": "https://lh6.googleusercontent.com/-JYBWhNoobh0/AAAAAAAAAAI/AAAAAAAADIs/8dW1MgKePR0/s64/photo.jpg",
      "userId": "17163383815352082166"
     },
     "user_tz": -540
    },
    "id": "G6Y8kClBGWOB",
    "outputId": "da74c787-c0d1-4645-c0d7-e2dd9f61df84"
   },
   "outputs": [],
   "source": [
    "round(np.mean(score)*100,2)"
   ]
  },
  {
   "cell_type": "markdown",
   "metadata": {
    "colab_type": "text",
    "id": "1iGf3ldBGWOF"
   },
   "source": [
    "# 예측"
   ]
  },
  {
   "cell_type": "code",
   "execution_count": null,
   "metadata": {
    "colab": {
     "base_uri": "https://localhost:8080/",
     "height": 34
    },
    "colab_type": "code",
    "executionInfo": {
     "elapsed": 17354,
     "status": "ok",
     "timestamp": 1550297607269,
     "user": {
      "displayName": "Joeun Park",
      "photoUrl": "https://lh6.googleusercontent.com/-JYBWhNoobh0/AAAAAAAAAAI/AAAAAAAADIs/8dW1MgKePR0/s64/photo.jpg",
      "userId": "17163383815352082166"
     },
     "user_tz": -540
    },
    "id": "MEBSuYTBGWOF",
    "outputId": "9041e279-4596-40c0-8d2b-eec93a8e7698"
   },
   "outputs": [],
   "source": [
    "# 테스트 데이터를 넣고 예측한다.\n",
    "y_pred = forest.predict(test_feature_tfidf)\n",
    "y_pred[:10]"
   ]
  },
  {
   "cell_type": "code",
   "execution_count": null,
   "metadata": {
    "colab": {
     "base_uri": "https://localhost:8080/",
     "height": 34
    },
    "colab_type": "code",
    "executionInfo": {
     "elapsed": 17208,
     "status": "ok",
     "timestamp": 1550297607270,
     "user": {
      "displayName": "Joeun Park",
      "photoUrl": "https://lh6.googleusercontent.com/-JYBWhNoobh0/AAAAAAAAAAI/AAAAAAAADIs/8dW1MgKePR0/s64/photo.jpg",
      "userId": "17163383815352082166"
     },
     "user_tz": -540
    },
    "id": "FPDz-G45GWOI",
    "outputId": "d4c99d74-1a38-4066-ec84-a5f5b7df97ce"
   },
   "outputs": [],
   "source": [
    "y_pred.shape"
   ]
  },
  {
   "cell_type": "code",
   "execution_count": null,
   "metadata": {
    "colab": {
     "base_uri": "https://localhost:8080/",
     "height": 204
    },
    "colab_type": "code",
    "executionInfo": {
     "elapsed": 17058,
     "status": "ok",
     "timestamp": 1550297607271,
     "user": {
      "displayName": "Joeun Park",
      "photoUrl": "https://lh6.googleusercontent.com/-JYBWhNoobh0/AAAAAAAAAAI/AAAAAAAADIs/8dW1MgKePR0/s64/photo.jpg",
      "userId": "17163383815352082166"
     },
     "user_tz": -540
    },
    "id": "ze266zmNGWOK",
    "outputId": "09b8ad85-ab96-4697-f8e4-338d10ad59a2"
   },
   "outputs": [],
   "source": [
    "# 예측 결과를 저장하기 위해 데이터프레임에 담아 준다.\n",
    "output = pd.DataFrame(data={'votes_pos_neg_pred':y_pred})\n",
    "output.head()"
   ]
  },
  {
   "cell_type": "code",
   "execution_count": null,
   "metadata": {
    "colab": {
     "base_uri": "https://localhost:8080/",
     "height": 69
    },
    "colab_type": "code",
    "executionInfo": {
     "elapsed": 16884,
     "status": "ok",
     "timestamp": 1550297607272,
     "user": {
      "displayName": "Joeun Park",
      "photoUrl": "https://lh6.googleusercontent.com/-JYBWhNoobh0/AAAAAAAAAAI/AAAAAAAADIs/8dW1MgKePR0/s64/photo.jpg",
      "userId": "17163383815352082166"
     },
     "user_tz": -540
    },
    "id": "3ac-3gaYGWOM",
    "outputId": "d22c5d8a-4ec9-451d-d6f0-703cb74534fc"
   },
   "outputs": [],
   "source": [
    "# 0과 1이 어떻게 집계 되었는지 확인한다.\n",
    "# 실제 데이터에는 답변 대상 건이 있는데 없는 것으로 예측되었다.\n",
    "output['votes_pos_neg_pred'].value_counts()"
   ]
  },
  {
   "cell_type": "code",
   "execution_count": null,
   "metadata": {
    "colab": {},
    "colab_type": "code",
    "id": "c0arvl9VGWOO"
   },
   "outputs": [],
   "source": [
    "df_test['votes_pos_neg_pred'] = y_pred"
   ]
  },
  {
   "cell_type": "markdown",
   "metadata": {
    "colab_type": "text",
    "id": "efPkBGQ4E4cr"
   },
   "source": [
    "## 예측 결과의 정확도 보기"
   ]
  },
  {
   "cell_type": "code",
   "execution_count": null,
   "metadata": {
    "colab": {
     "base_uri": "https://localhost:8080/",
     "height": 204
    },
    "colab_type": "code",
    "executionInfo": {
     "elapsed": 16444,
     "status": "ok",
     "timestamp": 1550297607279,
     "user": {
      "displayName": "Joeun Park",
      "photoUrl": "https://lh6.googleusercontent.com/-JYBWhNoobh0/AAAAAAAAAAI/AAAAAAAADIs/8dW1MgKePR0/s64/photo.jpg",
      "userId": "17163383815352082166"
     },
     "user_tz": -540
    },
    "id": "5leGuF_QGWOQ",
    "outputId": "a6848e4d-9588-47e2-b462-a2698a273e29"
   },
   "outputs": [],
   "source": [
    "df_test['pred_diff'] = np.abs(df_test['votes_pos_neg'] - df_test['votes_pos_neg_pred'])\n",
    "df_test[['title', 'votes', 'votes_pos_neg', 'votes_pos_neg_pred', 'pred_diff']].head()"
   ]
  },
  {
   "cell_type": "code",
   "execution_count": null,
   "metadata": {
    "colab": {
     "base_uri": "https://localhost:8080/",
     "height": 68
    },
    "colab_type": "code",
    "executionInfo": {
     "elapsed": 16108,
     "status": "ok",
     "timestamp": 1550297607280,
     "user": {
      "displayName": "Joeun Park",
      "photoUrl": "https://lh6.googleusercontent.com/-JYBWhNoobh0/AAAAAAAAAAI/AAAAAAAADIs/8dW1MgKePR0/s64/photo.jpg",
      "userId": "17163383815352082166"
     },
     "user_tz": -540
    },
    "id": "FLNOi6I8GWOU",
    "outputId": "3091996b-a0eb-4e30-8521-63bcaf21f4a0"
   },
   "outputs": [],
   "source": [
    "pred_diff = df_test['pred_diff'].value_counts()\n",
    "pred_diff"
   ]
  },
  {
   "cell_type": "code",
   "execution_count": null,
   "metadata": {
    "colab": {
     "base_uri": "https://localhost:8080/",
     "height": 34
    },
    "colab_type": "code",
    "executionInfo": {
     "elapsed": 15933,
     "status": "ok",
     "timestamp": 1550297607281,
     "user": {
      "displayName": "Joeun Park",
      "photoUrl": "https://lh6.googleusercontent.com/-JYBWhNoobh0/AAAAAAAAAAI/AAAAAAAADIs/8dW1MgKePR0/s64/photo.jpg",
      "userId": "17163383815352082166"
     },
     "user_tz": -540
    },
    "id": "huEMcnq2GWOW",
    "outputId": "34b6b83d-efd4-4155-efd5-88807cd3f936"
   },
   "outputs": [],
   "source": [
    "print('전체 {}건의 데이터 중 {}건 예측'.format(y_pred.shape[0], pred_diff[0]))"
   ]
  },
  {
   "cell_type": "code",
   "execution_count": null,
   "metadata": {
    "colab": {
     "base_uri": "https://localhost:8080/",
     "height": 34
    },
    "colab_type": "code",
    "executionInfo": {
     "elapsed": 15720,
     "status": "ok",
     "timestamp": 1550297607281,
     "user": {
      "displayName": "Joeun Park",
      "photoUrl": "https://lh6.googleusercontent.com/-JYBWhNoobh0/AAAAAAAAAAI/AAAAAAAADIs/8dW1MgKePR0/s64/photo.jpg",
      "userId": "17163383815352082166"
     },
     "user_tz": -540
    },
    "id": "j39m-qJMGWOY",
    "outputId": "587feb30-18e8-4c73-c8fc-85d433a8d08c"
   },
   "outputs": [],
   "source": [
    "acc = ( pred_diff[0] / y_pred.shape[0] ) * 100 \n",
    "print('예측 비율 {:.6f}'.format(acc))"
   ]
  },
  {
   "cell_type": "code",
   "execution_count": null,
   "metadata": {
    "colab": {},
    "colab_type": "code",
    "id": "8TvXZU7GGWOa"
   },
   "outputs": [],
   "source": []
  }
 ],
 "metadata": {
  "colab": {
   "collapsed_sections": [],
   "name": "04 국민청원 투표수 이진분류",
   "provenance": [
    {
     "file_id": "1FT1BarUBQxTYgHv2PukNzjco7lJTv8TT",
     "timestamp": 1534225855690
    }
   ],
   "version": "0.3.2"
  },
  "kernelspec": {
   "display_name": "Python 3 (ipykernel)",
   "language": "python",
   "name": "python3"
  },
  "language_info": {
   "codemirror_mode": {
    "name": "ipython",
    "version": 3
   },
   "file_extension": ".py",
   "mimetype": "text/x-python",
   "name": "python",
   "nbconvert_exporter": "python",
   "pygments_lexer": "ipython3",
   "version": "3.7.13"
  },
  "toc": {
   "base_numbering": 1,
   "nav_menu": {},
   "number_sections": true,
   "sideBar": true,
   "skip_h1_title": false,
   "title_cell": "Table of Contents",
   "title_sidebar": "Contents",
   "toc_cell": false,
   "toc_position": {},
   "toc_section_display": true,
   "toc_window_display": false
  },
  "varInspector": {
   "cols": {
    "lenName": 16,
    "lenType": 16,
    "lenVar": 40
   },
   "kernels_config": {
    "python": {
     "delete_cmd_postfix": "",
     "delete_cmd_prefix": "del ",
     "library": "var_list.py",
     "varRefreshCmd": "print(var_dic_list())"
    },
    "r": {
     "delete_cmd_postfix": ") ",
     "delete_cmd_prefix": "rm(",
     "library": "var_list.r",
     "varRefreshCmd": "cat(var_dic_list()) "
    }
   },
   "types_to_exclude": [
    "module",
    "function",
    "builtin_function_or_method",
    "instance",
    "_Feature"
   ],
   "window_display": false
  }
 },
 "nbformat": 4,
 "nbformat_minor": 1
}
