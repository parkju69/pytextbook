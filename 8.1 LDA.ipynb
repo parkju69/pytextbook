{
 "cells": [
  {
   "cell_type": "markdown",
   "metadata": {
    "id": "rz2aYwDao1Yk"
   },
   "source": [
    "## 토픽 모델링\n",
    "* 실습을 위해 pyLDAvis 설치가 필요합니다. \n",
    "* colab사용시 설치 후에도 제대로 동작하지 않거나 오류가 나면 런타임을 재실행 해주세요."
   ]
  },
  {
   "cell_type": "code",
   "execution_count": null,
   "metadata": {
    "id": "qcdv-HRKo1Yp"
   },
   "outputs": [],
   "source": [
    "# !pip install -U -q pyLDAvis"
   ]
  },
  {
   "cell_type": "code",
   "execution_count": 3,
   "metadata": {
    "id": "mI_S8brso1Yr"
   },
   "outputs": [],
   "source": [
    "# ignore warnings\n",
    "import warnings\n",
    "warnings.filterwarnings(\"ignore\")"
   ]
  },
  {
   "cell_type": "markdown",
   "metadata": {
    "id": "1kpwaWyzo1Yr"
   },
   "source": [
    "## 라이브러리 로드"
   ]
  },
  {
   "cell_type": "code",
   "execution_count": 5,
   "metadata": {
    "id": "7jEmmKL0o1Ys"
   },
   "outputs": [],
   "source": [
    "# 필요 라이브러리를 로드합니다.\n",
    "import pandas as pd\n",
    "import numpy as np\n",
    "import seaborn as sns\n",
    "import matplotlib.pyplot as plt"
   ]
  },
  {
   "cell_type": "markdown",
   "metadata": {
    "id": "3MzjjX3ho1Ys"
   },
   "source": [
    "## 데이터 로드"
   ]
  },
  {
   "cell_type": "code",
   "execution_count": 6,
   "metadata": {
    "id": "sZd0hR-Vo1Yu",
    "outputId": "81941984-21f5-40b9-a797-e3a4711bf656"
   },
   "outputs": [
    {
     "data": {
      "text/plain": [
       "(2645, 5)"
      ]
     },
     "execution_count": 6,
     "metadata": {},
     "output_type": "execute_result"
    }
   ],
   "source": [
    "# 수집한 데이터셋을 불러옵니다.\n",
    "df = pd.read_csv(\"seoul-120-text.csv\")\n",
    "df.shape"
   ]
  },
  {
   "cell_type": "code",
   "execution_count": 10,
   "metadata": {},
   "outputs": [
    {
     "data": {
      "text/plain": [
       "(2645, 5)"
      ]
     },
     "execution_count": 10,
     "metadata": {},
     "output_type": "execute_result"
    }
   ],
   "source": [
    "# 결측치가 있다면 제거합니다.\n",
    "df = df.dropna()\n",
    "df.shape"
   ]
  },
  {
   "cell_type": "code",
   "execution_count": 11,
   "metadata": {
    "id": "YXAtNDKco1Yv",
    "outputId": "efc483df-cb02-4fe7-fdf1-8a30a9d8a382",
    "scrolled": true
   },
   "outputs": [
    {
     "data": {
      "text/plain": [
       "번호      0\n",
       "분류      0\n",
       "제목      0\n",
       "내용      0\n",
       "내용번호    0\n",
       "dtype: int64"
      ]
     },
     "execution_count": 11,
     "metadata": {},
     "output_type": "execute_result"
    }
   ],
   "source": [
    "# 결측치를 확인합니다.\n",
    "df.isnull().sum()"
   ]
  },
  {
   "cell_type": "markdown",
   "metadata": {
    "id": "Jw4p_dnIo1Yw"
   },
   "source": [
    "## 문서 만들기\n",
    "* 제목과 내용을 함께 사용합니다."
   ]
  },
  {
   "cell_type": "code",
   "execution_count": 17,
   "metadata": {
    "id": "UJ9GAlhuo1Yx"
   },
   "outputs": [],
   "source": [
    "df[\"문서\"] = df[\"제목\"] + \" \" + df[\"내용\"]"
   ]
  },
  {
   "cell_type": "markdown",
   "metadata": {
    "id": "lMII7R0go1Yx"
   },
   "source": [
    "## 벡터화\n",
    "\n",
    "* BOW(bag of words)\n",
    "    * 가장 간단하지만 효과적이라 널리쓰이는 방법\n",
    "    * 장, 문단, 문장, 서식과 같은 입력 텍스트의 구조를 제외하고 각 단어가 이 말뭉치에 얼마나 많이 나타나는지만 헤아립니다.\n",
    "    * 구조와 상관없이 단어의 출현횟수만 세기 때문에 텍스트를 담는 가방(bag)으로 생각할 수 있습니다.\n",
    "    * BOW는 단어의 순서가 완전히 무시 된다는 단점이 있다. 예를 들어 의미가 완전히 반대인 두 문장이 있다고 합니다.\n",
    "        - `it's bad, not good at all.` \n",
    "        - `it's good, not bad at all.` \n",
    "    * 위 두 문장은 의미가 전혀 반대지만 완전히 동일하게 반환됩니다.\n",
    "    * 이를 보완하기 위해 n-gram을 사용하는 데 BOW는 하나의 토큰을 사용하지만 n-gram은 n개의 토큰을 사용할 수 있도록 합니다.\n",
    "    * min_df는 문서에 특정 단어가 최소 몇 번 이상 문서에 등장하는 단어를 가방에 담겠다는 의미입니다.\n",
    "\n",
    "* [Bag-of-words model - Wikipedia](https://en.wikipedia.org/wiki/Bag-of-words_model)\n",
    "\n",
    "\n",
    "## CountVectorizer\n",
    "\n",
    "단어 토큰을 생성하고 각 단어의 수를 세어 BOW 인코딩 벡터를 생성합니다.\n",
    "1. 문서를 토큰 리스트로 변환한다.\n",
    "2. 각 문서에서 토큰의 출현 빈도를 센다.\n",
    "3. 각 문서를 BOW 인코딩 벡터로 변환한다.\n",
    "4. 매개 변수\n",
    "* analyzer : 단어, 문자 단위의 벡터화 방법 정의\n",
    "* ngram_range : BOW 단위 수 (1, 3) 이라면 1개~3개까지 토큰을 묶어서 벡터화\n",
    "* max_df : 어휘를 작성할 때 문서 빈도가 주어진 임계값보다 높은 용어(말뭉치 관련 불용어)는 제외 (기본값=1.0)\n",
    "    * max_df = 0.90 : 문서의 90% 이상에 나타나는 단어 제외\n",
    "    * max_df = 10 : 10개 이상의 문서에 나타나는 단어 제외\n",
    "* min_df : 어휘를 작성할 때 문서 빈도가 주어진 임계값보다 낮은 용어는 제외합니다. 컷오프라고도 합니다.(기본값=1.0)\n",
    "    * min_df = 0.01 : 문서의 1% 미만으로 나타나는 단어 제외\n",
    "    * min_df = 10 : 문서에 10개 미만으로 나타나는 단어 제외\n",
    "* stop_words : 불용어 정의\n",
    "* API Document: https://scikit-learn.org/stable/modules/generated/sklearn.feature_extraction.text.CountVectorizer.html"
   ]
  },
  {
   "cell_type": "code",
   "execution_count": 51,
   "metadata": {
    "id": "94FBGEqOo1Yy",
    "outputId": "805f1a7a-4bfd-4893-8efb-fa8adec881db"
   },
   "outputs": [],
   "source": [
    "# 단어들의 카운트(출현 빈도(frequency))로 여러 문서들을 벡터화하기 위해 CountVectorizer를 불러옵니다.\n",
    "from sklearn.feature_extraction.text import CountVectorizer\n",
    "cv = CountVectorizer(stop_words=[\"돋움\", \"경우\", \"또는\"])"
   ]
  },
  {
   "cell_type": "markdown",
   "metadata": {
    "id": "ft2MvWD57MjT"
   },
   "source": [
    "### 참고: fit, transform, fit_transfrom의 차이점\n",
    "- fit(): 원시 문서에 있는 모든 토큰의 어휘 사전을 배웁니다.\n",
    "- transform(): 문서를 문서 용어 매트릭스로 변환합니다. transform 이후엔 매트릭스로 변환되어 숫자형태로 변경됩니다.\n",
    "- fit_transform(): 어휘 사전을 배우고 문서 용어 매트릭스를 반환합니다. fit 다음에 변환이 오는 것과 동일하지만 더 효율적으로 구현됩니다.\n",
    "\n",
    "* API Document: https://scikit-learn.org/stable/modules/generated/sklearn.feature_extraction.text.CountVectorizer.html#sklearn.feature_extraction.text.CountVectorizer.fit_transform"
   ]
  },
  {
   "cell_type": "code",
   "execution_count": 52,
   "metadata": {
    "id": "YueqXKDbo1Yy",
    "outputId": "08eb5692-c065-4de2-81f6-b2bb888012ba"
   },
   "outputs": [],
   "source": [
    "# fit_transform을 사용하여 문장에서 노출되는 feature(특징이 될만한 단어) 수를 합한 변수 Document Term Matrix(이하 dtm)를 생성합니다.\n",
    "dtm_cv = cv.fit_transform(df[\"문서\"])"
   ]
  },
  {
   "cell_type": "code",
   "execution_count": 53,
   "metadata": {
    "id": "Rr_Gj0Bro1Yy",
    "outputId": "414c044e-afea-4e3a-f211-28949b95b8fa"
   },
   "outputs": [],
   "source": [
    "# cv.vocabulary_ 를 봅니다.\n",
    "# cv.vocabulary_"
   ]
  },
  {
   "cell_type": "code",
   "execution_count": 54,
   "metadata": {},
   "outputs": [],
   "source": [
    "cv_cols = cv.get_feature_names()"
   ]
  },
  {
   "cell_type": "code",
   "execution_count": 55,
   "metadata": {
    "id": "S6sZ_cIdo1Yz",
    "outputId": "3cc8986f-c25c-4f26-c303-971e491f793b"
   },
   "outputs": [
    {
     "data": {
      "text/plain": [
       "03월          1\n",
       "우리별          1\n",
       "우리사업소에서      1\n",
       "우리사회의        1\n",
       "우리시는         1\n",
       "          ... \n",
       "따라         365\n",
       "홈페이지       410\n",
       "서울시        558\n",
       "있는         643\n",
       "있습니다       741\n",
       "Length: 53619, dtype: int64"
      ]
     },
     "execution_count": 55,
     "metadata": {},
     "output_type": "execute_result"
    }
   ],
   "source": [
    "# 각 row에서 전체 단어가방에 있는 어휘에서 등장하는 단어에 대한 one-hot-vector를 확인합니다.\n",
    "# toarray()로 희소 행렬(sparse matrix, 행렬의 값이 대부분 '0'인 행렬)을 NumPy array 배열로 변환하여 값을 확인합니다.\n",
    "\n",
    "pd.DataFrame(dtm_cv.toarray(), columns=cv_cols).sum().sort_values()"
   ]
  },
  {
   "cell_type": "markdown",
   "metadata": {
    "id": "tZKMAZ5go1Yz"
   },
   "source": [
    "## BOW<sup>bag of word</sup> 잠재 디리클레 할당(Latent Dirichlet Allocation, LDA)\n",
    "\n",
    "\n",
    "```\n",
    "LDA는 이산 자료들에 대한 확률적 생성 모형이다. 문자 기반의 자료들에 대해 쓰일 수 있으며 사진 등의 다른 이산 자료들에 대해서도 쓰일 수 있다. 기존의 정보 검색분야에서 LDA와 유사하게 문헌 내의 잠재적인 의미구조를 파악하려는 시도들은 계속 이루어져 왔다. TF-IDF를 필두로 하여 잠재 의미 분석(Latent semantic indexing, LSI), 확률 잠재 의미 분석(Probabilistic latent semantic analysis, pLSA)등을 거쳐 LDA로 도달하게 되었고, 이는 토픽 모델링이라 불리는 분야를 탄생시켰다. 확률 잠재 의미 분석은 확률 잠재 의미 인덱싱(probabilistic latent semantic indexing, pLSI) 라고도 한다.\n",
    "\n",
    "LDA에는 몇 가지 가정이 있는데 그 중 중요한 것은 단어의 교환성(exchangeability)이다. 이는 '단어 주머니(bag of words)'라고 표현하기도 한다. 교환성은 단어들의 순서는 상관하지 않고 오로지 단어들의 유무만이 중요하다는 가정이다. 예를 들어, 'Apple is red'와 'Red is apple' 간에 차이가 없다고 생각하는 것이다. 단어의 순서를 무시할 경우 문헌은 단순히 그 안에 포함되는 단어들의 빈도수만을 가지고 표현이 가능하게 된다. 이 가정을 기반으로 단어와 문서들의 교환성을 포함하는 혼합 모형을 제시한 것이 바로 LDA이다. 하지만 단순히 단어 하나를 단위로 생각하는 것이 아니라 특정 단어들의 묶음을 한 단위로 생각하는 방식(n-gram)으로 LDA의 교환성 가정을 확장시킬 수도 있다.\n",
    "\n",
    "LDA는 문헌의 주제를 찾기 위한 방법으로 고안되었지만, 이미지, 소리 등 텍스트 처리 이외의 다양한 분야에 쓰일 수 있고 이산 자료들, 즉 불연속적인 자료들뿐만 아니라 연속적인 자료들에 대해서 적용 할 수 있고 또한 다항 분포가 아닌 자료들에 대해서도 적용 할 수 있는 가능성이 있다.\n",
    "```\n",
    "출처 : https://ko.wikipedia.org/wiki/%EC%9E%A0%EC%9E%AC_%EB%94%94%EB%A6%AC%ED%81%B4%EB%A0%88_%ED%95%A0%EB%8B%B9\n",
    "\n",
    "문서에 대한 클러스터 연관성을 찾는 데 사용되는 확률론적 모델입니다.\n",
    "두 가지 확률 값을 사용하여 문서를 군집화합니다.\n",
    "\n",
    "- P(단어 | 주제): 특정 단어가 특정 주제와 연관될 확률. 이 첫 번째 확률 집합은 워드 X 주제 행렬로도 간주됩니다.\n",
    "- P(주제 | 문서): 문서와 관련된 항목. 이 두 번째 확률 집합은 주제 X 문서 행렬로 간주됩니다.\n",
    "\n",
    "확률 값은 모든 단어, 주제 및 문서에 대해 계산됩니다.\n",
    "\n",
    "* API documentation: https://pyldavis.readthedocs.io/en/latest/modules/API.html"
   ]
  },
  {
   "cell_type": "code",
   "execution_count": 56,
   "metadata": {
    "id": "Tj6AiX1Po1Y0",
    "outputId": "792e1658-3d33-4ab0-f777-ff8e698b7d32"
   },
   "outputs": [
    {
     "data": {
      "text/plain": [
       "행정        1098\n",
       "경제         823\n",
       "복지         217\n",
       "환경         124\n",
       "주택도시계획     110\n",
       "문화관광        96\n",
       "교통          90\n",
       "안전          51\n",
       "건강          23\n",
       "여성가족        13\n",
       "Name: 분류, dtype: int64"
      ]
     },
     "execution_count": 56,
     "metadata": {},
     "output_type": "execute_result"
    }
   ],
   "source": [
    "# 정답인 '분류'의 유일한 값을 확인하여 주제 수를 확인합니다.\n",
    "df[\"분류\"].value_counts()"
   ]
  },
  {
   "cell_type": "code",
   "execution_count": 57,
   "metadata": {
    "id": "FQBuD_fJo1Y0",
    "outputId": "08a96ed7-5e37-4534-afbb-efa6077a657d"
   },
   "outputs": [],
   "source": [
    "# 주어진 문서에 대하여 각 문서에 어떤 주제들이 존재하는지를 확인하는 잠재 디리클레 분석(LDA)을 불러옵니다.\n",
    "# n_components에 넣을 하이퍼파라미터 NUM_TOPICS로 주제수를 설정합니다.(기본값=10)\n",
    "# max_iter는 훈련 데이터(epoch라고도 함)에 대한 최대 패스 수입니다.(기본값=10)\n",
    "\n",
    "from sklearn.decomposition import LatentDirichletAllocation\n",
    "\n",
    "NUM_TOPICS = 10\n",
    "LDA_model = LatentDirichletAllocation(n_components=NUM_TOPICS, random_state=42)"
   ]
  },
  {
   "cell_type": "code",
   "execution_count": 58,
   "metadata": {
    "id": "FQBuD_fJo1Y0",
    "outputId": "08a96ed7-5e37-4534-afbb-efa6077a657d"
   },
   "outputs": [
    {
     "data": {
      "text/plain": [
       "LatentDirichletAllocation(batch_size=128, doc_topic_prior=None,\n",
       "                          evaluate_every=-1, learning_decay=0.7,\n",
       "                          learning_method='batch', learning_offset=10.0,\n",
       "                          max_doc_update_iter=100, max_iter=10,\n",
       "                          mean_change_tol=0.001, n_components=10, n_jobs=None,\n",
       "                          perp_tol=0.1, random_state=42, topic_word_prior=None,\n",
       "                          total_samples=1000000.0, verbose=0)"
      ]
     },
     "execution_count": 58,
     "metadata": {},
     "output_type": "execute_result"
    }
   ],
   "source": [
    "# LDA_model 에 dtm_cv 를 넣어 학습합니다.\n",
    "LDA_model.fit(dtm_cv)"
   ]
  },
  {
   "cell_type": "markdown",
   "metadata": {},
   "source": [
    "### pyLDAvis\n",
    "\n",
    "* pyLDAvis는 파이썬의 토픽모델링을 구현시켜주는 좋은 툴입니다.\n",
    "* 모델링에서 최적화 시킨 토픽별 토픽을 대표하는 단어들을 반환시킨 후 PCA를 통해 2차원에 mapping시킵니다.\n",
    "* 왼쪽 2차원 버블 차트는 PCA에 의해 변환된 토픽들이며, 오른쪽 bar 차트는 해당 토픽을 대표하는 단어들로 구성되어 있습니다. \n",
    "* 해당 단어들은 relevance라는 measure에 의해 대표되며, relevance는 주제(Topic) 안에 있는 용어(Term)을 평가하는 기준입니다."
   ]
  },
  {
   "cell_type": "code",
   "execution_count": null,
   "metadata": {},
   "outputs": [],
   "source": [
    "# !pip install -U -q pyLDAvis"
   ]
  },
  {
   "cell_type": "code",
   "execution_count": 59,
   "metadata": {
    "id": "Sbyb39Szo1Y0",
    "outputId": "8f858b31-2a81-4b8f-aa5f-45411fc902c8"
   },
   "outputs": [
    {
     "name": "stderr",
     "output_type": "stream",
     "text": [
      "/Users/corazzon/opt/anaconda3/lib/python3.7/site-packages/joblib/numpy_pickle.py:104: DeprecationWarning: tostring() is deprecated. Use tobytes() instead.\n",
      "  pickler.file_handle.write(chunk.tostring('C'))\n",
      "/Users/corazzon/opt/anaconda3/lib/python3.7/site-packages/joblib/numpy_pickle.py:104: DeprecationWarning: tostring() is deprecated. Use tobytes() instead.\n",
      "  pickler.file_handle.write(chunk.tostring('C'))\n"
     ]
    },
    {
     "data": {
      "text/html": [
       "\n",
       "<link rel=\"stylesheet\" type=\"text/css\" href=\"https://cdn.jsdelivr.net/gh/bmabey/pyLDAvis@3.3.1/pyLDAvis/js/ldavis.v1.0.0.css\">\n",
       "\n",
       "\n",
       "<div id=\"ldavis_el12711405467965095204965033536\"></div>\n",
       "<script type=\"text/javascript\">\n",
       "\n",
       "var ldavis_el12711405467965095204965033536_data = {\"mdsDat\": {\"x\": [32.42095184326172, 0.648955225944519, 71.01968383789062, 3.7859814167022705, -42.666500091552734, -3.6216893196105957, -3.632401704788208, -36.58440017700195, 44.391380310058594, 40.235809326171875], \"y\": [8.115229606628418, 71.70709991455078, 9.971006393432617, 33.18513488769531, -9.22206974029541, -43.52651596069336, -4.171707630157471, 35.804412841796875, 50.61538314819336, -31.591665267944336], \"topics\": [1, 2, 3, 4, 5, 6, 7, 8, 9, 10], \"cluster\": [1, 1, 1, 1, 1, 1, 1, 1, 1, 1], \"Freq\": [12.172445425296626, 12.154682353899975, 11.785719419205362, 10.898179658422986, 10.195893712064608, 9.932464207631677, 9.625837185204364, 8.29954010933555, 8.1435141346586, 6.791723794280251]}, \"tinfo\": {\"Term\": [\"\\uc790\\ubcf8\\uae08\\uc740\", \"\\ud638\\uc120\", \"\\uc788\\uc2b5\\ub2c8\\ub2e4\", \"\\uc758\\ud55c\", \"amp\", \"\\ud560\\uc778\", \"\\uccad\\uc18c\\ub144\", \"\\uac74\\uc124\\uae30\\uc220\\uc790\", \"\\ubc88\\uc9c0\", \"\\uc11c\\uc6b8\\uc2dc\", \"\\uc5b4\\ub9b0\\uc774\\uc9d1\", \"\\uc774\\uc0c1\\uc774\\uace0\", \"\\uc774\\uc0c1\", \"\\uce58\\ub9e4\\uc9c0\\uc6d0\\uc13c\\ud130\", \"\\uac74\\uc124\\uae30\\uc220\\uad00\\ub9ac\\ubc95\\uc5d0\", \"\\ub418\\ub098\\uc694\", \"\\ud3c9\\uc77c\", \"\\uc5b4\\ub5bb\\uac8c\", \"\\uad6d\\uac00\\uae30\\uc220\\uc790\\uaca9\\ubc95\\uc5d0\", \"\\ucd9c\\uad6c\", \"\\uad00\\ud55c\", \"\\uc2dc\\uac04\\uc678\", \"\\uae30\\ud68d\\uc608\\uc0b0\\uacfc\", \"\\ub2e4\\uc74c\\uc758\", \"\\ubc88\\ucd9c\\uad6c\", \"\\uae30\\uc220\\ub2a5\\ub825\\uacfc\", \"\\uc804\\uc0b0\\uc815\\ubcf4\\uacfc\", \"\\uc5b5\\uc6d0\", \"\\ud558\\uace0\", \"\\uc81c\\uc885\\uadfc\\ub9b0\\uc0dd\\ud65c\\uc2dc\\uc124\", \"\\uc2dc\\uac04\\uc678\", \"\\ube48\\uc9d1\", \"\\ud2b8\\ub808\\ud0b9\", \"\\uac1c\\uc6d4\\ub9c8\\ub2e4\", \"\\uad81\\ub3d9\\uccb4\\uc721\\uad00\", \"\\ud6c4\\uacc4\\ub18d\\uc5c5\\uacbd\\uc601\\uc778\", \"\\uc131\\ubc94\\uc8c4\\uc790\", \"\\uc2e0\\uc0c1\\uc815\\ubcf4\", \"\\uad50\\uc721\\uae09\\uc5ec\", \"\\uc18c\\ub4dd\\uc778\\uc815\\uc561\\uc774\", \"\\uac04\\ud638\", \"\\uc8fc\\ud0dd\\ub2e8\\uc9c0\\uc758\", \"\\uc11d\\ucd0c\\ud638\\uc218\\uae38\", \"\\ub798\\ubbf8\\uc548\\uae38\\uc74c\\uc13c\\ud130\\ud53c\\uc2a4\", \"\\ubcd1\\uc5ed\", \"\\ud575\\uc2ec\\uc694\\uc6d0\", \"\\ubcf4\\ub3c4\\uad00\\ub9ac\\ubd80\\uc11c\", \"\\uc8fc\\ud0dd\\uc131\\ub2a5\\ub4f1\\uae09\", \"\\uc81c\\uc5ec\\uc131\\ub298\\ud488\\uc13c\\ud130\", \"\\uc9c0\\uc815\\uc790\", \"\\uae30\\uc220\\uc778\\ub825\", \"\\uc870\\ud569\\uc7a5\", \"\\uc6a9\\uc0b0\\uac00\\uc871\\uacf5\\uc6d0\", \"\\ub3c5\\ub9bd\\uacbd\\uc601\", \"\\uccad\\ub144\\ucc3d\\uc5c5\\ub18d\", \"\\uace0\\uc9c0\\uba85\\ub839\", \"\\uccad\\uc18c\\ub144\\ub300\\uc0c1\", \"\\uc8fc\\uac70\\uae09\\uc5ec\", \"\\ubcf4\\uac74\\ubcf5\\uc9c0\\uac00\\uc871\\ubd80\\uc7a5\\uad00\\uc774\", \"\\uc9c0\\uccb4\\uc7a5\\uc560\\uc778\", \"\\ub2f9\\uc9c1\\uc2e4\", \"\\ubd84\\uc591\\uc9c0\", \"\\uc790\\ub3d9\\ucc28\\uc6a9\", \"\\uc870\\ud569\\uc784\\uc6d0\\uc758\", \"\\ucc9c\\uc138\\ub300\", \"\\uae30\\uc5ec\\ud55c\", \"\\uc5f0\\uacb0\", \"\\ud3b8\\uc758\\uc2dc\\uc124\", \"\\uc774\\uc0c1\", \"\\ud2b9\\ub840\", \"\\ud3c9\\uc77c\", \"\\ud3ec\\uc7a5\", \"\\ub4f1\\uc0b0\\ub85c\", \"\\uc544\\ub3d9\", \"\\uc788\\ub294\", \"\\uc2a4\\ub9c8\\ud2b8\\ud3f0\", \"\\uc815\\ube44\", \"\\uc788\\uc2b5\\ub2c8\\ub2e4\", \"\\ub300\\uc0c1\", \"\\ub300\\ud55c\", \"\\ubbf8\\uc220\\uc791\\ud488\", \"\\uc9c0\\uae09\", \"\\uc8fc\\ub9d0\", \"\\ub530\\ub978\", \"\\ud544\\uc694\\ud55c\", \"amp\", \"\\uad00\\ub828\", \"\\uc5f0\\uc911\\ubb34\\ud734\", \"\\uc2e0\\uccad\", \"\\uad6c\\ubd84\", \"\\uacbd\\uc6b0\\uc5d0\\ub294\", \"\\uc11c\\ube44\\uc2a4\", \"\\ud1b5\\ud574\", \"\\uc5b4\\ub5bb\\uac8c\", \"\\ub4f1\\uc744\", \"\\ub4f1\\uc758\", \"\\uad50\\uc721\", \"\\ub530\\ub77c\", \"\\uc11c\\uc6b8\\uc2dc\", \"\\ud558\\ub294\", \"\\uad00\\ud55c\", \"\\ud55c\\ub2e4\", \"\\ub0b4\\uc6a9\", \"\\ud655\\uc778\", \"\\uc788\\uc73c\\uba70\", \"\\ud569\\ub2c8\\ub2e4\", \"\\uc704\\ud55c\", \"\\uac00\\ub2a5\", \"\\uc778\\uc2e4\", \"\\ud0dd\\uc2dc\\uc6b4\\uc804\\uc790\\uaca9\\uc99d\", \"\\uc8fc\\ud0dd\\uc6a9\", \"\\ud2b9\\ubcc4\\ud65c\\ub3d9\", \"\\uad50\\ubcf5\", \"\\ub179\\ud654\", \"\\ubbf8\\uc220\\uc7a5\\uc2dd\\ud488\", \"\\uac8c\\uc2dc\\uc6a9\", \"\\ubcf4\\uc721\\uc11c\\ube44\\uc2a4\", \"\\uc11c\\uc6b8\\uc0c1\", \"\\uc2a4\\ud1a0\\uc5b4\\ud31c\", \"\\uae08\\uc8fc\", \"\\ucf58\\ud14c\\uc2a4\\ud2b8\", \"\\ubc95\\uc778\\ud0dd\\uc2dc\", \"\\uacbd\\uc804\\ucca0\", \"\\ud50c\\ub77c\\uc6cc\\ud2b8\\ub7ed\", \"\\uc0dd\\ud65c\\uccb4\\uc721\\uc9c0\\ub3c4\\uc790\", \"\\ud568\\uaed8\\uafc8\", \"\\ud504\\ub85c\\uc81d\\ud130\", \"\\uacb0\\uacfc\\ubc1c\\ud45c\", \"\\uc18c\\uc9c0\\uc6a9\", \"\\uacbd\\uc804\\ucca0\\uc740\", \"\\ubc29\\ubb38\\uac04\\ud638\\uc0ac\", \"\\uc57c\\uc678\\ud480\\uc7a5\", \"\\uc790\\uc720\\uc774\\uc6a9\\uad8c\", \"\\ud68c\\uacc4\\ucee8\\uc124\\ud305\", \"\\uc5ed\\uc138\\uad8c\\uc758\", \"\\uc81c\\uc548\\uc11c\", \"\\uc2ec\\uc0ac\\uc694\\uccad\", \"\\uc7ac\\ubc30\\uc815\\uc0ac\\uc5c5\", \"\\uae38\\uc74c\\ub3d9\", \"\\uc6a9\\uc778\", \"\\uc11c\\uc6b8\\ud2b9\\ubcc4\\uc2dc\\uc721\\uc544\\uc885\\ud569\\uc9c0\\uc6d0\\uc13c\\ud130\", \"\\uc11c\\uc6b8\\uc0f5\", \"\\uc0ac\\ub840\", \"\\ud0dd\\uc2dc\\uc6b4\\uc804\\uc790\\uaca9\\uc99d\\uba85\", \"\\ubb38\\ud654\\uad50\\ub958\", \"\\ub2e8\\uccb4\", \"\\uc18c\\ubc29\\uc2dc\\uc124\", \"\\uc5b4\\ub9b0\\uc774\\uc9d1\", \"\\uccad\\uc18c\\ub144\", \"\\uacf5\\uace0\", \"\\uc11c\\uc6b8\\uc2dc\", \"\\uc81c\\ucd9c\", \"\\uc2ec\\uc0ac\", \"\\ubaa8\\uc9d1\", \"\\uc591\\uc2dd\", \"\\uc790\\uce58\\uad6c\", \"\\ubc1c\\ud45c\", \"\\uc774\\uba54\\uc77c\", \"\\uc2e0\\uccad\\uc11c\", \"\\uad6c\\ubd84\", \"\\uc788\\uc74c\", \"\\uc0ac\\uc9c4\", \"\\ud648\\ud398\\uc774\\uc9c0\", \"\\uc124\\uce58\", \"\\uc0ac\\uc5c5\", \"\\ubc95\\uc778\", \"\\uac00\\ub2a5\", \"\\ud574\\ub2f9\", \"\\ub0b4\\uc6a9\", \"\\uc9c0\\uc6d0\", \"\\uad50\\uc721\", \"\\uc811\\uc218\", \"\\ud655\\uc778\", \"\\uc5c5\\ubb34\\uac1c\\uc694\", \"\\uae30\\ud0c0\\uc0ac\\ud56d\", \"\\uc2e0\\uccad\\ubc29\\ubc95\", \"\\uc704\\ud55c\", \"\\uc788\\ub294\", \"\\ub530\\ub77c\", \"\\uae30\\ud0c0\", \"\\uc788\\uc2b5\\ub2c8\\ub2e4\", \"\\uad00\\ud55c\", \"\\ud569\\ub2c8\\ub2e4\", \"\\uc774\\uc0c1\", \"\\ub300\\ud55c\", \"\\uad00\\ub828\", \"\\uc5b4\\ub5bb\\uac8c\", \"\\uc218\\ub828\\uad00\", \"\\ub300\\uae30\\ud658\\uacbd\\ubcf4\\uc804\\ubc95\\uc5d0\", \"\\uc7a5\\uae30\\uae30\\uc99d\", \"\\uc5ec\\ub860\\uc870\\uc0ac\", \"\\uc9d1\\ud68c\\uc2dc\\uc124\", \"\\uc6d0\\uc5b4\\ubbfc\", \"\\uc4f0\\uc774\\ub294\", \"\\uc218\\uc9c8\\ud658\\uacbd\\ubcf4\\uc804\\ubc95\\uc5d0\", \"\\uad50\\uc721\\uc5f0\\uad6c\", \"\\uc601\\uc5b4\\ud68c\\ud654\", \"\\uc704\\ud5d8\\ubb3c\\uc800\\uc7a5\", \"\\ucc98\\ub9ac\\uc2dc\\uc124\", \"\\uacf5\\uacf5\\uc6a9\\uc2dc\\uc124\", \"\\ubc14\\ub2e5\\uba74\\uc801\\uc758\", \"\\uc774\\uc0c9\\ub2ec\\ub9ac\\uae30\", \"\\uad70\\uc0ac\\uc2dc\\uc124\", \"\\uc6e8\\uc774\\uace0\", \"\\uc0ac\\ub791\\ub4dc\\ub9bc\\uc7a5\\ud559\\uae08\", \"\\uace0\\uc555\\uac00\\uc2a4\\ucda9\\uc804\", \"\\uc561\\ud654\\uc11d\\uc720\\uac00\\uc2a4\\ucda9\\uc804\\uc18c\", \"\\uc99d\\uac15\\ud604\\uc2e4\", \"\\uc2dc\\ub9bd\\ubc1c\\ub2ec\\uc7a5\\uc560\\uc778\\ubcf5\\uc9c0\\uad00\", \"\\ubaa9\\uc7ac\\uac10\\uc131\\uccb4\\ud5d8\\ubc15\\ub78c\\ud68c\", \"\\uad11\\uc9c4\\uad50\", \"\\uc81c\\uc885\\uadfc\\ub9b0\\uc0dd\\ud65c\\uc2dc\\uc124\", \"\\uc6a9\\ub3c4\\uc5d0\", \"\\ubb34\\uacf5\\ud574\", \"\\ubc1c\\uc804\\uc18c\", \"\\uc2dd\\ubb3c\\uad00\\ub828\\uc2dc\\uc124\", \"\\uc2dd\\ubb3c\\uc6d0\", \"\\ub2e4\\uc74c\\uc758\", \"\\uc9c1\\uc9c4\", \"\\uacf5\\uad00\", \"\\uc804\\uc138\\uad8c\", \"\\ubc88\\ucd9c\\uad6c\", \"\\uc811\\ud55c\", \"\\ud569\\uacc4\\uac00\", \"\\uc219\\ubc15\\uc2dc\\uc124\", \"\\ub3c4\\ub85c\\uc5d0\", \"\\ub3c4\\ubcf4\", \"\\ud638\\uc120\", \"\\ub2e8\\ub3c5\\uc8fc\\ud0dd\", \"\\ud310\\ub9e4\", \"\\uac74\\ucd95\\ud558\\ub294\", \"\\uc758\\ud55c\", \"\\uc9c0\\ud558\\ucca0\", \"\\uac74\\ucd95\\ubb3c\", \"\\uc81c\\uc678\", \"\\ud574\\ub2f9\\ud558\\ub294\", \"\\uac00\\ub2a5\", \"\\uccad\\uc18c\\ub144\", \"\\ubc88\\uc9c0\", \"\\ubb38\\uc758\", \"\\ub0b4\\uc6a9\", \"\\ud648\\ud398\\uc774\\uc9c0\", \"\\uc788\\uc74c\", \"\\uc2e0\\uccad\", \"\\uc788\\ub294\", \"\\ub4f1\\uc758\", \"\\ud504\\ub85c\\uadf8\\ub7a8\", \"\\uc11c\\uc6b8\\uc2dc\", \"\\uc8fc\\uc18c\", \"\\ub530\\ub77c\", \"\\ub4f1\\uc744\", \"\\uc788\\uc2b5\\ub2c8\\ub2e4\", \"\\ub2e4\\ub9cc\", \"\\uc774\\uc0c1\", \"\\uad6c\\ubd84\", \"\\uc704\\ud558\\uc5ec\", \"\\uc774\\uc6a9\", \"\\uc704\\ud55c\", \"\\ud558\\ub294\", \"\\ub300\\ud55c\", \"\\uc11c\\uc6b8\\ud568\", \"\\uad8c\\ub9ac\\uac00\\uc561\\uc774\", \"\\uc138\\uc158\", \"\\uccad\\uc6d0\", \"\\ubd09\\uc218\\ub300\", \"\\uad00\\uad11\\ubc84\\uc2a4\", \"\\uccad\\uc6d0\\uc740\", \"\\uc2ac\\ub85c\\uac74\", \"\\ubd84\\uc591\\uac74\\ucd95\\ubb3c\\uc758\", \"\\ucd5c\\uc18c\\ubd84\\uc591\\ub2e8\\uc704\\uaddc\\ubaa8\", \"\\uc774\\uc758\\uc81c\\uae30\", \"\\uad8c\\ud55c\\uc704\\uc784\", \"\\uc0c1\\ubd09\\uc7ac\\uc815\\ube44\\ucd09\\uc9c4\\uad6c\\uc5ed\\uc758\", \"\\uc81c\\uc21c\\uc704\", \"\\uac04\\ubd09\", \"\\uc81c\\ubd09\\uc218\\ub300\\uc640\", \"\\uc9c1\\ubd09\", \"\\ud1b5\\ud558\\ub294\\ub370\", \"\\uc0c1\\ub2f4\\uad00\", \"\\uc2e0\\uccad\\uc13c\\ud130\", \"\\uc608\\ubc29\\uacfc\\uc7a5\", \"\\ub3c4\\uc2dc\\uac00\\uc871\", \"\\ub808\\uc2dc\\ud53c\", \"\\ube14\\ub85d\\uccb4\\uc778\", \"\\ud398\\ud2b8\\ubcd1\", \"\\uc2dd\\uc57d\\ucc98\", \"\\uc11c\\uc6b8\\ud0c0\\uc6cc\", \"\\uc720\\uc544\\uc2a4\\ud3ec\\uce20\\ub2e8\", \"\\uc6a9\\ub3c4\\uac00\", \"\\ub300\\uae30\\uc624\\uc5fc\\ubb3c\\uc9c8\\ubc1c\\uc0dd\\ub7c9\\uc758\", \"\\ucc9c\\uc5f0\\uae30\\ub150\\ubb3c\", \"\\uc124\\ub9bd\\uc778\\uac00\\ub97c\", \"\\ub0a8\\uc0b0\", \"\\ub9cc\\ub098\\ub2e4\", \"\\uad50\\ud658\", \"\\uc0ac\\uc5c5\\uc7a5\", \"\\uc0ac\\ub9bd\", \"\\ub3c4\\uc2dc\\ub18d\\uc5c5\", \"\\uac8c\\uc2dc\\ubb3c\", \"\\ud68c\\uc758\", \"\\uacf5\\ubb34\\uc6d0\\uc740\", \"\\uc870\\uc131\", \"\\uacf3\\uc784\", \"\\uc5f0\\uacb0\\ub418\\uc5b4\", \"\\uc11c\\uc6b8\", \"\\uc81c\\uc870\", \"\\uac19\\uc740\", \"\\ubbf8\\ud130\", \"\\uac1c\\uc120\", \"\\ub3c4\\ub85c\", \"\\ub9cc\\uc6d0\", \"\\ub300\\ud55c\", \"\\ub530\\ub77c\", \"\\ud648\\ud398\\uc774\\uc9c0\", \"\\uc11c\\uc6b8\\uc2dc\", \"\\uc11c\\uc6b8\\ud2b9\\ubcc4\\uc2dc\", \"\\uc788\\uc74c\", \"\\ubbf8\\ub9cc\\uc778\", \"\\uc788\\ub294\", \"\\ub530\\ub978\", \"\\uc774\\uc0c1\", \"\\uad00\\ub828\", \"\\ubb38\\uc758\", \"\\uad6c\\ubd84\", \"\\uc788\\uc2b5\\ub2c8\\ub2e4\", \"\\uc704\\ud55c\", \"\\ub4f1\\uc744\", \"\\uc5c5\\ubb34\\uac1c\\uc694\", \"\\uacbd\\uc6b0\\uc5d0\\ub294\", \"\\ub4f1\\uc758\", \"\\ub0b4\\uc6a9\", \"\\uad00\\ud55c\", \"\\uc774\\ud6c4\", \"\\uc548\\ub0b4\", \"\\uac00\\ub2a5\", \"\\uae30\\ud0c0\\uc0ac\\ud56d\", \"\\ud655\\uc778\", \"\\uccb4\\ud5d8\\uc694\\uae08\", \"\\uc11c\\ub300\\ubb38\\ubb38\\ud654\\uccb4\\uc721\\ud68c\\uad00\", \"\\uc5ec\\uc131\\uc774\\ub8f8\\uc13c\\ud130\", \"\\uc81c\\uac15\", \"\\ubb34\\uc548\", \"\\uc219\\ubc15\\uc694\\uae08\", \"\\uc218\\uc2e0\\uac70\\ubd80\", \"\\uc7a0\\uc218\\uad50\", \"\\uc678\\uad6d\\uc778\\uc8fc\\ubbfc\", \"\\uccb4\\ud5d8\\ub9c8\\uc744\", \"\\uc804\\uc6d0\\uc0dd\\ud65c\", \"\\uadc0\\ucd0c\", \"\\uadc0\\ub18d\\ucc3d\\uc5c5\", \"\\uc5ec\\uc131\\uc548\\uc2ec\\uc9c0\\ud0b4\\uc774\", \"\\ud328\\uc158\\uc9c0\\uc6d0\\uc13c\\ud130\", \"\\uc13c\\ud2f0\\ubbf8\\ud130\", \"\\uad00\\uad11\\ubb38\\ud654\\uacfc\", \"\\ud0dc\\uc548\", \"\\uc804\\uc790\\uc6b0\\ud3b8\", \"\\ub09c\\uac04\\uc758\", \"\\ud65c\\ub3d9\\ubcf4\\uc870\\uc778\", \"\\uc8fc\\ucc28\\uc694\\uae08\\uc740\", \"\\ud658\\ubd88\\uc740\", \"\\uad00\\uad11\\uc0b0\\uc5c5\\uacfc\", \"\\uc6b8\\uc9c4\", \"\\uc6b8\\uc9c4\\uad70\\uccad\", \"\\uc815\\uc74d\\uc2dc\\uccad\", \"\\uc77c\\ucc28\", \"\\uc5b4\\ub974\\uc2e0\\uc744\", \"\\uad00\\uc545\\uc81c\", \"\\ud658\\uacbd\\uc601\\ud5a5\\ud3c9\\uac00\", \"\\uc815\\uc74d\", \"\\uc219\\ubc15\", \"\\uac15\\uc88c\", \"\\uc800\\uc218\\uc870\\uc758\", \"\\uc644\\uc8fc\", \"\\ud560\\uc778\", \"\\uc800\\uc218\\uc870\\ub97c\", \"\\uc778\\uc7ac\\uac1c\\ubc1c\\uc6d0\", \"\\uc5b4\\ub5bb\\uac8c\", \"\\uc5d0\\ub108\\uc9c0\", \"\\ucd95\\uc81c\", \"\\uc788\\uc2b5\\ub2c8\\ub2e4\", \"\\ud3b8\\uc758\\uc810\", \"\\ub418\\ub098\\uc694\", \"\\uc2dc\\uac04\", \"\\ub18d\\uc5c5\\uae30\\uc220\\uc13c\\ud130\", \"\\ub530\\ub77c\", \"\\ud648\\ud398\\uc774\\uc9c0\", \"\\ud569\\ub2c8\\ub2e4\", \"\\ud558\\uace0\", \"\\ub300\\ud55c\", \"\\uc788\\ub098\\uc694\", \"\\uad00\\ud55c\", \"\\uc11c\\uc6b8\\uc2dc\", \"\\uc6b4\\uc601\", \"\\uac00\\ub2a5\\ud569\\ub2c8\\ub2e4\", \"\\uc788\\ub294\", \"\\ud655\\uc778\", \"\\ub4f1\\uc758\", \"\\uc704\\ud558\\uc5ec\", \"\\uc774\\uc6a9\", \"\\ud558\\ub098\\uc694\", \"\\uad50\\uc721\", \"\\ub2e4\\ub9cc\", \"\\ud558\\ub294\", \"\\ubb38\\uc758\", \"\\ub0b4\\uc6a9\", \"\\ubc14\\ub78d\\ub2c8\\ub2e4\", \"\\uc788\\uc73c\\uba70\", \"\\ub4f1\\uc744\", \"\\uc704\\ud55c\", \"\\uc11c\\uc6b8\\ud2b9\\ubcc4\\uc2dc\", \"\\uc81c\\uc870\", \"\\uae30\\ud68d\\uc608\\uc0b0\\uacfc\", \"\\uc804\\uc0b0\\uc815\\ubcf4\\uacfc\", \"\\uace0\\uc6b4\\ub9d8\", \"\\ub3c4\\ub85c\\uc5ec\\uac74\", \"\\uc2b9\\uc6a9\", \"\\uc2b9\\ud569\", \"\\ud654\\ubb3c\", \"\\uc0ac\\uc2a4\", \"\\uc784\\ub300\\uc0ac\\uc5c5\\uc790\", \"\\uc9c1\\uc811\\uc801\\uc778\", \"\\uc778\\uc870\\uc794\\ub514\\uad6c\\uc7a5\", \"\\uc774\\ub95c\", \"\\ud589\\ub824\\ud658\\uc790\", \"\\ud488\\ubaa9\\uc81c\\uc870\\uc815\\uc9c0\", \"\\ub3c8\\uc554\\ucd08\", \"\\uc124\\uce58\\uadfc\\uac70\", \"\\uc124\\uce58\\uc77c\\uc790\", \"\\ub3d9\\ubb3c\\ubcf4\\ud638\", \"\\ud604\\uc7a5\\ubbfc\\uc6d0\", \"\\uad50\\ucc28\\ub85c\\uc788\\uc74c\", \"\\uc131\\ub0a8\\uc2dc\\uacc4\", \"\\uc751\\uae09\\uc2e4\", \"\\uba85\\uc608\\uc758\", \"\\ubb38\\uc790\\uc0c1\\ub2f4\\uc744\", \"\\ud0c0\\uc6cc\\ud06c\\ub808\\uc778\", \"\\uacf5\\uc7a5\\uac74\\ucd95\", \"\\ub514\\uc9c0\\ud138\\uc815\\ubcf4\\uacfc\", \"\\uc11c\\uc6b8\\ub180\\uc774\\ub9c8\\ub2f9\", \"\\uc0ac\\uc2a4\\uc758\", \"\\ud608\\uccad\\uac80\\uc0ac\\uc5d0\\uc11c\", \"\\uae30\\uc218\\ubcc4\", \"\\uc9c4\\ub8cc\\ube44\", \"\\ucc28\\uc885\", \"\\ud37c\\uc13c\\ud2b8\", \"\\ubd80\\ubd84\\uc758\", \"\\uc0ac\\ud56d\", \"\\uc544\\ucc28\\uc0b0\", \"\\uc784\\uc2e0\", \"\\uc788\\uc2b5\\ub2c8\\ub2e4\", \"\\uad00\\ud55c\", \"\\ucd5c\\uace0\", \"\\uaddc\\uc815\\uc5d0\", \"\\uc788\\ub294\", \"\\ucd9c\\uc0b0\", \"\\ub178\\uc6d0\\uad6c\", \"\\ub300\\ud558\\uc5ec\", \"\\ubcf4\\ub8e8\\ub294\", \"\\uc81c\\uacf1\\ubbf8\\ud130\", \"\\uc704\\ud558\\uc5ec\", \"\\uc774\\uc0c1\\uc758\", \"\\ud558\\uace0\", \"\\ub4f1\\uc5d0\", \"\\ub530\\ub978\", \"\\uc2dc\\uc124\", \"\\uc758\\ud55c\", \"\\uc788\\uc73c\\uba70\", \"\\uc774\\uc0c1\", \"\\uc790\\uc138\\ud55c\", \"\\ub429\\ub2c8\\ub2e4\", \"\\uc81c\\uc870\", \"\\uc704\\ud55c\", \"\\ubc95\\ub960\", \"\\ub300\\ud55c\", \"\\uc704\\ud574\", \"\\ub4f1\\uc744\", \"\\uc11c\\uc6b8\\uc2dc\", \"\\uc9c0\\uc6d0\", \"\\uad00\\ub828\", \"\\ub4f1\\uc758\", \"\\ud558\\ub294\", \"\\ud648\\ud398\\uc774\\uc9c0\", \"\\uc5b4\\ub5bb\\uac8c\", \"\\ub530\\ub77c\", \"\\ub9d8\\ud3b8\\ud55c\\uce74\\ub4dc\", \"\\uc8fc\\ubbfc\\ub300\\uc0c1\", \"\\uae38\\uc74c\\ub274\\ud0c0\\uc6b4\\ub3d9\", \"\\uc0c1\\uc2dc\\uadfc\\ub85c\\uc790\\uc218\", \"\\uad6c\\uc758\\uc544\\ub9ac\\uc218\\uc815\\uc218\\uc13c\\ud130\", \"\\uad00\\ud560\\uc9c0\", \"\\uc870\\ud569\\uc8fc\\ud0dd\\uc758\", \"\\ub9de\\ucda4\\ucee8\\uc124\\ud305\", \"\\ud53c\\ud574\\uae30\\uc5c5\", \"\\uc5ec\\uc131\\uac00\\uc871\\uacfc\", \"\\uc2e0\\uccb4\\ud65c\\ub3d9\\ub9ac\\ub354\", \"\\uacf5\\uc81c\\ud68c\", \"\\uc18c\\uae30\\uc5c5\", \"\\ud1a0\\ud06c\\ucf58\\uc11c\\ud2b8\", \"\\uc804\\uc6a9\\uce74\\ub4dc\", \"\\uc790\\ub9e4\\uacb0\\uc5f0\", \"\\ub3c4\\uc2dc\\ud143\\ubc2d\", \"\\uad11\\ud654\\ubb38\\uc2dc\\ubbfc\\uc5f4\\ub9b0\\ub9c8\\ub2f9\", \"\\uc801\\uc7ac\\uc911\\ub7c9\\uc774\", \"\\uac1c\\ubc1c\\uc81c\\ud55c\\uad6c\\uc5ed\\ub0b4\", \"\\ub9de\\ucda4\", \"\\uc9c1\\uac70\\ub798\", \"\\uc544\\ubc84\\uc9c0\", \"\\uccb4\\ud5d8\\ub18d\\uc6d0\", \"\\uc6d0\\ucc9c\\uc9d5\\uc218\", \"\\uac74\\uac15\\uccb4\\uc911\", \"\\uc11c\\uc2dd\\uc0dd\\ubb3c\", \"\\uc721\\uc544\\uc815\\ubcf4\", \"\\uc9c0\\ub2a5\\ud615\", \"\\ud655\\uc815\\uad6c\\uc5ed\\uc751\\uc554\\ub3d9\", \"\\uc2dc\\uac00\\uc9c0\", \"\\uba39\\uac70\\ub9ac\", \"\\uc544\\uc774\\uc870\\uc544\", \"\\ucc28\\ub85c\", \"\\uc11c\\uc6b8\\uc2e0\\uc6a9\\ubcf4\\uc99d\\uc7ac\\ub2e8\", \"\\ud589\\uc815\\uc9c0\\uc6d0\\uacfc\", \"\\uc7a5\\ud130\", \"\\uc0ac\\ud68c\\uc801\\uacbd\\uc81c\", \"\\uc790\\ub9e4\", \"\\ucd9c\\uad6c\", \"\\uc758\\ub8cc\\ube44\", \"\\ud638\\uc120\", \"\\uc6b0\\ub9ac\\uc740\\ud589\", \"\\ub3c4\\uc11c\\uad00\", \"\\uc11c\\uc6b8\\uc2dc\", \"\\uc5b4\\ub9b0\\uc774\", \"\\ub2f4\\ub2f9\\uc790\", \"\\ud648\\ud398\\uc774\\uc9c0\", \"\\uc788\\ub294\", \"\\ud3c9\\uc77c\", \"\\ucd9c\\uc0b0\", \"\\ubb38\\uc758\", \"\\uae30\\ud0c0\\uc0ac\\ud56d\", \"\\uc1a1\\ud30c\\uad6c\", \"\\ud569\\ub2c8\\ub2e4\", \"\\ubc88\\uc9c0\", \"\\uc548\\ub0b4\", \"\\uc2e0\\uccad\", \"\\uc5c5\\ubb34\\uac1c\\uc694\", \"\\uc11c\\uc6b8\", \"\\uc785\\ub2c8\\ub2e4\", \"\\ud1b5\\ud574\", \"\\uac00\\ub2a5\", \"\\uacbd\\uc6b0\\uc5d0\\ub294\", \"\\uc788\\uc73c\\uba70\", \"\\ud504\\ub85c\\uadf8\\ub7a8\", \"\\uc788\\uc2b5\\ub2c8\\ub2e4\", \"\\uc544\\ud30c\\ud2b8\", \"\\uc6b4\\uc601\", \"\\uc788\\ub098\\uc694\", \"\\uc5b4\\ub5bb\\uac8c\", \"\\uc11c\\uc6b8\\ud2b9\\ubcc4\\uc2dc\", \"\\uc8fc\\uc18c\", \"\\uc704\\ud55c\", \"\\uc9c0\\uc6d0\", \"\\uc774\\ud589\\uae30\\uc900\", \"\\ud604\\uae08\\uc601\\uc218\\uc99d\", \"\\ub098\\uc640\\uc11c\", \"\\ubc84\\uc2a4\\uc774\\uc6a9\", \"\\uc804\\ub2ec\\ud569\\ub2c8\\ub2e4\", \"\\uc0c1\\ub300\\ubc29\\uc758\", \"\\uc911\\uacc4\\uc0ac\\uac00\", \"\\ud1b5\\ud654\\ub0b4\\uc6a9\\uc744\", \"\\uc624\\uc77c\\ud700\\uc2a4\", \"\\uc218\\ud654\", \"\\ub0a8\\uc0b0\\ub3d9\", \"\\uacb8\\uc9c1\\ud5c8\\uac00\", \"\\ud658\\uc790\\uad8c\\ub9ac\", \"\\ub3c4\\uace1\", \"\\uc554\\uc0ac\", \"\\uccad\\ub2f4\", \"\\ub124\\uc774\\ud2b8\\uc628\", \"\\ub204\\ub985\\ub2c8\\ub2e4\", \"\\uc5f0\\uacb0\\ub418\\uc5c8\\ub2e4\\ub294\", \"\\uc804\\ud558\\uace0\\uc790\", \"\\uc911\\uacc4\\uc0ac\\uc640\", \"\\ud569\\uc2dc\\ub2e4\", \"\\ud2b8\\uc708\\uc2a4\", \"\\ubcf4\\uae08\\uc790\\ub9ac\", \"\\uc8fc\\ubd80\\ub9ac\\ud3ec\\ud130\\ub294\", \"\\uad00\\uad11\\ud638\\ud154\", \"\\uc778\\uc0ac\\ub3d9\", \"\\uc911\\uc2ec\\uc810\", \"\\uc2e0\\uccad\\ub300\\uc0c1\\uc790\\uc758\", \"\\uc608\\ube44\\ubd80\\ubd80\\uad50\\uc2e4\", \"\\uc608\\ub9e4\", \"\\ud55c\\uc131\\ub300\\uc785\\uad6c\\uc5ed\", \"amp\", \"\\ucd9c\\uad6c\\ub85c\", \"\\ubc18\\uc785\", \"\\ubc18\\ud3ec\", \"\\uc8fc\\uc911\", \"\\ub4f1\\ub85d\\uc0ac\\ud56d\\ubcc4\", \"\\ud604\\ud669\", \"apos\", \"\\uc911\\uad6c\", \"\\ubd80\\ud328\\ud589\\uc704\", \"\\uc774\\ub294\", \"\\uc885\\ub85c\\uad6c\", \"\\ud569\\ub2c8\\ub2e4\", \"\\uad6c\\uc815\\uc5d0\", \"\\uac00\\ub2a5\", \"\\uc788\\ub294\", \"\\uc788\\uc2b5\\ub2c8\\ub2e4\", \"\\uac10\\uc0ac\\ub4dc\\ub9bd\\ub2c8\\ub2e4\", \"\\ub530\\ub77c\", \"\\uc774\\ud558\", \"\\ud558\\ub294\", \"\\ud648\\ud398\\uc774\\uc9c0\", \"\\uacf5\\uc0ac\", \"\\uc5b4\\ub5bb\\uac8c\", \"\\ub300\\ud55c\", \"\\uc5b4\\ub5a4\", \"\\ub9d0\\ud569\\ub2c8\\ub2e4\", \"\\uc704\\ud558\\uc5ec\", \"\\ubb34\\uc5c7\\uc778\\uac00\\uc694\", \"\\ub429\\ub2c8\\ub2e4\", \"\\uc11c\\uc6b8\\uc2dc\", \"\\ud558\\ub098\\uc694\", \"\\ubb38\\uc758\", \"\\uc788\\uc73c\\uba70\", \"\\uc774\\uc6a9\", \"\\ud1b5\\ud574\", \"\\uc6b4\\uc601\", \"\\uad00\\ub828\", \"\\ub4f1\\uc744\", \"\\ud655\\uc778\", \"\\ud544\\uc694\\ud55c\", \"\\uc790\\ubcf8\\uae08\\uc740\", \"\\uac74\\uc124\\uae30\\uc220\\uc790\", \"\\uae30\\uc220\\ub2a5\\ub825\\uacfc\", \"\\uc11c\\ucee4\\uc2a4\", \"\\uad00\\ub828\\uc885\\ubaa9\\uc758\", \"\\uae30\\uc220\\uc790\\uaca9\\ucde8\\ub4dd\\uc790\", \"\\uc608\\ube44\\uad70\", \"\\uc774\\uc0c1\\uc774\\uace0\", \"\\uac74\\uc124\\uae30\\uc220\\uad00\\ub9ac\\ubc95\\uc5d0\", \"\\uad6d\\uac00\\uae30\\uc220\\uc790\\uaca9\\ubc95\\uc5d0\", \"\\uae30\\uacc4\\ubd84\\uc57c\", \"\\ud1a0\\ubaa9\\ubd84\\uc57c\", \"\\uae30\\uc804\\uacfc\", \"\\uc138\\ub300\\uc8fc\\uac00\", \"\\uccad\\uc57d\\ubd80\\uae08\", \"\\uccad\\uc57d\\uc608\\uae08\", \"\\ud37c\\ub2c8\\uc2a4\\ud2b8\", \"\\ud574\\uce58\\ud0dd\\uc2dc\", \"\\uac00\\uc785\\uc790\\uac00\", \"\\ub3c4\\ub85c\\uc0ac\\uc5c5\\uc18c\", \"\\uc131\\ud76c\\ub871\", \"\\uacf5\\uc601\\ucc28\\uace0\\uc9c0\", \"\\uc608\\uce58\\uae08\\uc561\\uc740\", \"\\ub2e4\\uc774\\uc2a4\\ucf00\", \"\\uc740\\ud3c9\\ub300\\ub9bc\\uc2dc\\uc7a5\", \"\\ubcf4\\ub8e8\\uc5d0\", \"\\uaf43\\ub2f4\\ud669\\ud1a0\\uc0c9\", \"\\ubbfc\\uc6d0\\ucc3d\\uad6c\", \"\\ubc30\\ub824\", \"\\ub300\\uc0ac\\uc99d\\ud6c4\\uad70\\uad00\\ub9ac\\uc13c\\ud130\", \"\\uac1c\\uc778\\ud68c\\uc0dd\", \"\\ud1a0\\ubaa9\", \"\\uccad\\uc57d\\uc800\\ucd95\", \"\\uc774\\uc0c1\\uc785\\ub2c8\\ub2e4\", \"\\uc6a9\\ub9c8\\uc0b0\", \"\\ud574\\uce58\", \"\\uc9c0\\uac8c\\ucc28\", \"\\uc138\\ub300\\uc8fc\", \"\\uac74\\ucd95\\uc704\\uc6d0\\ud68c\", \"\\uc5b5\\uc6d0\", \"\\uc9c1\\uc7a5\", \"\\ubd84\\uc758\", \"\\uac77\\uae30\", \"\\uc758\\ud55c\", \"\\ub418\\ub098\\uc694\", \"\\uad6c\\ub9e4\", \"\\uc5b4\\ub5bb\\uac8c\", \"\\uc788\\uc2b5\\ub2c8\\ub2e4\", \"\\uc81c\\uc870\", \"\\uc788\\ub294\", \"\\uc788\\ub098\\uc694\", \"\\uacbd\\uc6b0\\uc5d0\\ub294\", \"\\ud569\\ub2c8\\ub2e4\", \"\\ub3c4\\ub85c\", \"\\ub4f1\\uc774\", \"\\ub9cc\\uc6d0\", \"\\ubb38\\uc758\", \"\\ub530\\ub77c\", \"\\uac00\\ub2a5\\ud569\\ub2c8\\ub2e4\", \"\\uac00\\ub2a5\", \"\\uc548\\ub0b4\", \"\\uc704\\ud55c\", \"\\uc704\\ud558\\uc5ec\", \"\\uc11c\\uc6b8\\uc2dc\", \"\\uce58\\ub9e4\\uc9c0\\uc6d0\\uc13c\\ud130\", \"\\ubc29\\uacfc\", \"\\uc608\\uccb4\\ub2a5\", \"\\uc810\\uc790\\uc2a4\\ud2f0\\ucee4\", \"\\uc9c0\\uadf8\\uc7ac\\uadf8\", \"\\uc8fc\\ucc28\\uc0b0\\uc815\", \"\\uc6f9\\ud230\", \"\\uae08\\ucc9c\\uad6c\\uccad\", \"\\uc0c1\\ub2f4\\uce58\\ub8cc\", \"\\uc9c0\\uc5ed\\uc544\\ub3d9\\ubcf5\\uc9c0\\uc13c\\ud130\", \"\\ub20c\\ub7ec\\uc11c\", \"\\uc2f6\\ub2e4\\uba74\", \"\\uc0dd\\ud65c\\ubd88\\ud3b8\\ubbfc\\uc6d0\", \"\\uc11c\\ud589\\ud45c\\uc2dc\", \"\\uce74\\uc57d\\ud1a4\", \"\\uae09\\uc2dd\", \"\\uacf5\\ubd80\\ubc29\", \"\\ucde8\\ubbf8\", \"\\ub300\\ubaa9\", \"\\uc815\\ud0dc\\ub3c4\", \"\\uc2dc\\uac01\\uc7a5\\uc560\\uc778\\uc758\", \"\\ubb34\\ub8cc\\ud654\", \"\\uc774\\ud654\\uc7a5\", \"\\ud504\\ub9ac\\ubbf8\\uc5b4\\ud50c\\ub808\\uc774\\uc2a4\\ube4c\\ub529\", \"\\uacf5\\uc801\\uc7ac\\uc0b0\", \"\\ud2b9\\ubcc4\\uacc4\\ud68d\\uad6c\\uc5ed\\uc758\", \"\\ub9dd\\uc6d0\", \"\\uc9c4\\ud589\\uc11d\", \"\\uc811\\uc218\\uc9c4\\ud589\", \"\\ubb38\\uc11c\\ub97c\", \"\\uc0b0\\uc815\\ubc29\\ubc95\\uc740\", \"\\uc0c1\\uae08\", \"\\ud45c\\ucc3d\", \"\\ub514\\uc790\\uc778\\uc785\\ub2c8\\ub2e4\", \"\\ucc28\\uc120\", \"\\ubc29\\uc774\\ub3d9\", \"\\uac15\\uc5f0\", \"\\ubaa9\\ub85d\\uc5d0\\uc11c\", \"\\uc120\\ud0dd\\ud574\\uc11c\", \"\\ub3c4\\uc2dc\\uae30\\ubc18\\uc2dc\\uc124\\ubcf8\\ubd80\", \"\\ub3c4\\ub85c\\uad50\\ud1b5\\ubc95\", \"\\uc1a1\\ud30c\", \"\\ubc88\\uc9c0\", \"\\uc788\\uc2b5\\ub2c8\\ub2e4\", \"\\uac74\\ucd95\\ubb3c\\uc758\", \"\\ud558\\uace0\", \"\\ud558\\ub294\", \"\\uc8fc\\uc18c\", \"\\uacf5\\ubb34\\uc6d0\", \"\\uac74\\ucd95\\ubb3c\", \"\\uc788\\ub294\", \"\\uc774\\uc57c\\uae30\", \"\\ud1a0\\uc9c0\", \"\\uc6a9\\uc0b0\\uad6c\", \"\\uc5b4\\ub5bb\\uac8c\", \"\\ub530\\ub77c\", \"\\uad00\\ud55c\", \"\\ub300\\ud55c\", \"\\ubc1c\\uae09\", \"\\ud574\\ub2f9\", \"\\uc788\\ub098\\uc694\", \"\\uc704\\ud55c\", \"\\uc5f0\\ub77d\\ucc98\", \"\\ub530\\ub978\", \"\\uacbd\\uc6b0\\uc5d0\\ub294\", \"\\ub429\\ub2c8\\ub2e4\", \"\\uc911\\uad6c\", \"\\ub4f1\\uc744\", \"\\ud569\\ub2c8\\ub2e4\", \"\\uc11c\\uc6b8\\uc2dc\", \"\\ud648\\ud398\\uc774\\uc9c0\", \"\\uc774\\ud558\"], \"Freq\": [31.0, 121.0, 540.0, 195.0, 60.0, 62.0, 101.0, 20.0, 94.0, 415.0, 86.0, 20.0, 266.0, 17.0, 19.0, 109.0, 99.0, 242.0, 18.0, 52.0, 217.0, 20.0, 18.0, 31.0, 44.0, 15.0, 17.0, 45.0, 121.0, 20.0, 20.03345666208848, 10.822671989853518, 7.75241043242917, 6.984845043077267, 6.984845043050523, 6.217279653743866, 5.449714264386833, 5.449714264386833, 5.449714264386283, 5.449714264386283, 5.449714264360538, 5.449714264356674, 5.449714264342341, 5.44971426396031, 4.682148875037183, 4.68214887502809, 4.6821488750018085, 4.682148874957135, 4.6821488749181635, 4.682148874741789, 4.6821469326818494, 4.682145295310909, 4.682132303478844, 3.9145834856837483, 3.9145834856837483, 3.9145834856799433, 3.9145834856799433, 3.914583485679383, 3.9145834856761295, 3.9145834856745294, 18.498351702007778, 6.984859298625903, 6.217282028258619, 6.217265749682054, 6.217295152077446, 6.217280642621146, 20.728801969394866, 14.66051000768786, 91.76782718201044, 7.752404065703547, 39.55164730205382, 7.726572038977949, 7.752415470487942, 13.892971540350237, 83.43326594751433, 6.217283848753515, 13.084554941834536, 73.89062563950573, 25.59928581306542, 43.83032806345287, 8.519986528097407, 19.266011272511953, 13.102082330794573, 27.56650592821631, 26.88679091276273, 17.944199148758827, 27.137723229025397, 7.752415644049391, 25.20092242433963, 25.145930678054874, 27.270402602602886, 17.552535822921094, 22.956076037205488, 27.66170426824648, 24.738906330701695, 23.2232016465157, 20.453417182515874, 28.033304086173505, 33.19149580859047, 23.225850330836362, 23.979131296623517, 18.980832468260903, 21.094680711528685, 20.902497458947884, 20.089236672649243, 20.403126179972634, 20.043846769296703, 19.22786934388365, 10.847175856015216, 8.53928904824919, 8.539289048216448, 8.539143527899094, 7.769983728564919, 7.7699837285579125, 7.0006784088608764, 6.2313730892553485, 6.231371199121672, 5.462067769591974, 5.462067769580128, 4.692762449926561, 4.692762449925974, 4.692762449925901, 4.692762449922232, 4.69276244992176, 4.692762449913418, 4.692762449878199, 4.692759174051425, 4.692721479012322, 3.9234571302610304, 3.9234571302573102, 3.923457130242185, 3.9234571302334516, 3.9234571302334516, 3.923457130232795, 3.923457130227175, 3.923456972205877, 3.9234550437922286, 3.9234550437922286, 8.539310009010165, 7.769984871572341, 6.930059179366097, 6.231375984872786, 15.463035321472796, 7.769984502524672, 4.477814308041403, 27.395123542975632, 9.308618125678137, 42.302100031836645, 44.14259741568532, 21.394602362048655, 119.34293574537774, 27.272039066640506, 11.969709947130053, 25.178265224489866, 8.265642820789814, 25.777016974849534, 13.648988911261284, 22.118360293438375, 23.934684665066637, 40.117180869686095, 46.183007039647535, 12.495235914505491, 56.36016321268422, 30.001079490550758, 25.36453386182838, 13.130865353271323, 45.03910609199584, 32.315954528664356, 35.39428983614352, 32.36590244428705, 29.434598257393866, 25.973714808333504, 33.79217145549508, 29.255184684788908, 28.24873941372229, 20.08068171527428, 29.862753278035086, 41.81634380311298, 33.11910569757119, 24.557864415737185, 40.13562206128059, 29.445871597287393, 28.57047063605222, 28.85366726503048, 27.54864915186968, 25.692225696798562, 25.242601406227195, 15.357529388539742, 12.301304634622722, 12.301304634600253, 12.301304634599216, 10.77319111821354, 9.245079880488712, 17.64971367549506, 7.716967503704205, 7.716967503699954, 7.716967503514577, 7.716951490358134, 7.716951490358136, 6.952911315217769, 13.829475261937693, 6.188855126713845, 6.188855126686573, 6.188855126666355, 6.188855126631353, 5.4247989382448605, 5.4247989382448605, 5.424798938227256, 5.424798938210268, 5.424798938195821, 5.424798938143201, 18.37281312710058, 16.12159751022516, 4.660742749758379, 4.660742749758379, 4.660742749758379, 4.660742749758379, 24.493822007955163, 12.96630494374304, 6.952910562829817, 10.009153534593034, 28.935119774373753, 13.829444149394776, 14.726163909105598, 8.380830095762017, 15.950905669223054, 18.384165070237156, 47.378635127064584, 15.357531522369282, 14.541807262229153, 14.764221092552576, 58.20709703710182, 23.509995656070124, 30.71872111327271, 29.45780182969119, 26.090383493726637, 48.194779824876726, 30.287958414887477, 28.604121064926403, 40.71861503313368, 36.59622604019133, 45.14793464112748, 36.667177516215375, 31.225527206065117, 49.56771777078595, 30.901030731656284, 25.0183768440994, 42.35496217770343, 26.957339902254194, 33.786122059116884, 28.915295896888306, 36.17181869710159, 22.36542790319799, 29.21106704786054, 25.282441847628306, 25.12925145538702, 23.975850793015063, 25.73573238156074, 24.331180525710025, 23.983396363844218, 9.074645119597529, 9.074645030564033, 8.32467444851933, 6.074762435431119, 6.074762435411101, 11.324565747307021, 5.324791764387695, 5.324791764355631, 5.324791673157354, 5.324791673157354, 5.32477918270673, 4.574821093273616, 4.574821093242892, 4.574821001216915, 3.8248504222993547, 3.8248504222993547, 3.8248504222993547, 3.8248504222993547, 3.8248504222848885, 3.8248504222848885, 3.8248504222848885, 3.8248504222771667, 3.8248504222704196, 3.8248504222571302, 3.8248504222497526, 3.824850422216441, 3.8248504222033244, 3.8248504219356385, 3.8248503475455116, 3.824848827060384, 6.824736018978304, 5.32480483518745, 11.32456729558691, 5.3247923573374925, 7.574724269157004, 13.496896406215013, 6.074763333947377, 8.324679941068855, 6.824738598484618, 9.82464895924014, 13.574579828229636, 16.528457821886118, 5.324794370806929, 5.3248094991487065, 32.177069238527224, 40.37953049977026, 19.570450818114814, 18.555730932802174, 12.051787464339373, 20.569497197519404, 28.27913493500006, 40.6180733669804, 40.93758684298752, 42.4996244010015, 47.36840324781214, 24.11056473366847, 29.604506008055854, 12.717137306568947, 44.42013797991456, 23.79771110086982, 33.06378378756342, 25.644282037766274, 25.309850123423207, 23.28902646345825, 37.88541841912282, 24.88308219398703, 23.96667661984035, 21.19016753065532, 23.19427341402575, 21.76440536922318, 21.02565878053167, 22.738681118582615, 15.869959103453892, 17.676048062891013, 19.33590712555862, 17.36662208310678, 17.94601888435766, 13.32585372927651, 8.172205613929782, 7.435973627937997, 6.699738615256258, 5.963503602593892, 5.963503602593892, 5.963503602565637, 5.963503602526521, 5.963500448952905, 5.227268589925544, 5.227268589916567, 5.227268589915491, 5.227268589914777, 5.227268589907281, 5.22726858985067, 9.644679624146484, 4.49103357725715, 4.49103357725715, 4.491033577228409, 4.491033577227158, 4.49103357720578, 4.490992392665644, 3.75479856459649, 3.7547985645886786, 3.7547985645886786, 3.7547985645886786, 3.7547985645886786, 3.7547985645794855, 3.754798564575501, 3.7547985645521353, 7.435929016527884, 7.4359742989263475, 11.11718194090988, 14.062106616412409, 8.90844766087806, 7.435975317415735, 33.07226882106797, 5.22726958547026, 11.853379489393099, 52.811833572337335, 11.105384610145853, 7.43596988478313, 80.09534153909927, 5.963505446401132, 29.070677031883328, 30.490655447816337, 14.798358212593584, 42.838843494044625, 41.43078172184252, 33.40409396528126, 24.152867694382063, 35.1600255849618, 25.670130284447133, 30.118571157948292, 39.473503276668716, 24.349167757436636, 19.945926582600748, 36.67094067552004, 23.417529947729236, 21.844297850456464, 21.424730463315523, 19.26125492687586, 17.76001892902923, 18.306233226866475, 16.668458651214365, 19.96020484854352, 19.831295713875754, 18.215061652283843, 15.730690475277054, 17.611031113863962, 17.898300243858298, 17.826027175428397, 16.93719842644453, 16.84422897447621, 17.620398823284503, 16.88926171558573, 6.6533467739619, 6.653346773946845, 6.653346773946845, 6.653346773946845, 6.653346773946845, 5.922209765824559, 5.191072757625373, 5.191072757621533, 5.191057022050412, 4.459935749558802, 4.4599357495469425, 4.4599357494358, 4.459935749401406, 4.459935083114323, 4.459935083114323, 4.459934027255738, 3.7287987414410266, 3.7287987414292716, 3.7287987414292716, 3.7287987414172474, 3.7287987414132844, 3.728798741409761, 3.7287987413980828, 3.7287987413826853, 3.7287948075077746, 3.728785744760752, 2.9976617333069004, 2.9976617333069004, 5.922206633055602, 11.040139986479662, 7.384488575518819, 11.039759439013787, 8.067925273684349, 24.240602351278962, 11.771349372646828, 10.8132505977666, 105.89361524754824, 55.79860061363984, 11.771337435982826, 33.717601878916646, 68.34192806359023, 11.449816620508559, 13.138980887679843, 21.895958454134863, 7.384489600416586, 12.85389749173297, 28.124300692281782, 22.093052425835754, 24.08330244234858, 22.453976943381726, 24.620432114537937, 17.620466506508656, 26.944261930054036, 23.820352576452397, 28.732001087657352, 15.180391990543034, 21.999044071346038, 23.87507731332011, 24.737373969570374, 15.196575314765166, 26.402869876163045, 20.34108720461143, 22.67345686767132, 29.138430179987175, 19.598425377990676, 19.347195665021395, 19.34138238939044, 18.871345839910045, 20.131178195369834, 18.720712739073395, 17.57937217587275, 10.972648848626385, 9.519320392965527, 7.339323356317243, 6.612657677546409, 5.885991998694801, 5.885991998691132, 5.88599199868945, 5.885991998685621, 5.8859919986712415, 5.885991998659217, 5.885991998657789, 5.159326319835168, 5.159326319811152, 5.159325416681707, 5.1593246093270855, 4.432660640982881, 4.432660640973138, 4.432660640965542, 4.432660640952572, 4.432660640910052, 4.4326606119142085, 3.7059949621253763, 3.7059949621227415, 3.705994962117758, 3.7059949621123587, 3.705994962109369, 3.7059949620985506, 3.7059949620707817, 3.7059949620335395, 3.705994961783206, 7.33933484029873, 5.885992784888184, 12.043398491419032, 13.879352182546167, 6.612675571119963, 6.6126725908709725, 5.159327193169385, 5.159326296642422, 5.1593273755982105, 25.040188543198685, 7.312717380725793, 35.417043879544835, 8.045503671141056, 10.246015314304305, 60.65067589625734, 16.29255269482469, 17.69233950895481, 36.758436049887116, 42.60907963415023, 20.007236237366893, 9.83883777846258, 24.607596117945004, 20.84395665755035, 13.957796590989853, 24.534782704371533, 17.55319799479918, 20.103625379778578, 20.4888766124609, 20.04490035793926, 19.030762864378033, 15.950269452644317, 20.208474208188306, 23.971538935985922, 21.14751714915356, 19.202495672840886, 16.0512437699561, 27.480835103824596, 13.8264334413522, 17.576013811599065, 17.47954223344174, 19.586313024878045, 16.056743763337035, 16.155801877615286, 16.91215159170917, 15.676661927933571, 11.211265275535816, 10.514913395082361, 8.425854373905828, 7.729502483006212, 5.640450231813472, 4.944098351340394, 4.944098351340394, 4.944098351340394, 4.944098351311685, 4.2477464708672725, 4.24774647083937, 4.247746470835509, 4.247746470818366, 4.247745417487188, 4.247745417487188, 4.247745417487188, 3.551394590394078, 3.551394590394078, 3.551394590394078, 3.551394590394078, 3.551394590394078, 3.5513945903910393, 3.551394590389477, 3.551394590388559, 3.5513945903848705, 3.5513945903721273, 3.551394590360921, 3.551394590359188, 3.5513945903561903, 3.5513945903374946, 6.336803277111957, 6.247604317626614, 23.474362091522142, 7.729540620146427, 6.336812119763339, 4.247745784526591, 4.247748419129494, 4.2477545994037476, 14.016700261712389, 10.006514741246985, 17.532315658019645, 7.128377739860219, 9.47253842577991, 11.907666030059298, 26.701906160763897, 9.297669196761053, 28.387972489637797, 39.20315001617354, 41.464346994014264, 8.669838993992085, 25.933095606168504, 16.209675157280795, 20.68214857971236, 25.35385100391415, 11.762658023708934, 20.04504772951784, 19.34659619907698, 12.163238035058416, 12.094174720670615, 15.249129017879056, 13.24856639117394, 14.2530999790964, 19.17321123241606, 12.65137248559593, 14.667722042338339, 13.79050429561003, 13.094243780974242, 13.467516509279255, 13.19761171488193, 13.130643458935516, 12.737013689601854, 12.508897572740981, 12.089614627056008, 31.18908422477485, 20.12421805078908, 15.283341982787535, 13.900236588312117, 12.517125127332426, 11.134011225004212, 9.059358174466178, 18.741124697319304, 18.02233316574347, 16.666451006432368, 6.984691590053415, 6.984670785518939, 6.293128343753193, 5.60158787886672, 4.910033819745476, 4.910033819745476, 4.910033819736447, 4.910033819726765, 4.218479760624194, 4.218465852646799, 9.059370037588367, 8.367807083564426, 3.5269257015028526, 3.526925701493608, 3.526925701493608, 3.526925701493156, 3.5269257014836946, 3.5269257014507227, 3.5269257014507227, 3.5269257014183597, 10.442475637083689, 10.374317325861057, 6.2931429713625855, 13.813544849418545, 9.750944967091263, 5.601590217616585, 4.9100355666997695, 5.601520089874217, 9.059415953507173, 19.81989462926636, 6.984700621418604, 14.32694748751296, 9.059367505963884, 39.64145434619104, 27.01679380650799, 9.048736972140652, 36.346836547461834, 45.57423335541731, 26.890486474325165, 41.641932415793946, 19.982127591487096, 20.8122497820666, 19.6346386311473, 13.85189655667557, 12.712567310914512, 15.409013226665623, 16.55318788829841, 17.721585558824387, 13.734422739014036, 15.781414568283815, 14.399071286479307, 14.809971160980952, 12.669596407364851, 13.145138281221632, 16.38126854185821, 9.202199806848837, 5.939025646639126, 5.286385465679734, 5.286385249103278, 3.9811022689611972, 3.9811001720376487, 3.981009871380106, 3.328464922832364, 3.328464922832364, 3.3284649228196996, 3.3284649228196996, 3.3284649227630108, 3.328464699461185, 3.328462357880352, 10.507510150117378, 9.854906658702893, 2.6758247418804313, 2.6758247418748855, 2.6758247418748855, 2.6758247418722463, 2.6758247418653105, 2.675824741843613, 2.675824741842205, 2.6758247418381473, 2.675824741819426, 2.675822123104511, 2.675822123104511, 4.633751981103828, 6.591701846973414, 3.9810689329937907, 6.591662741213162, 5.939026663813323, 5.286388247502696, 3.98110653380891, 3.9810231675643966, 5.939033175060277, 3.32846608075426, 3.3284659802956518, 4.633746807847036, 5.282785661909488, 6.498996541720414, 19.356322840333693, 51.43861743139529, 15.47097221939086, 17.92785829589612, 21.529411769381635, 17.277319254991163, 13.125167651487885, 13.304202132197524, 25.068082826397518, 5.286392397180349, 9.994175592003685, 8.004641314518205, 16.741019283779313, 17.348938719511427, 15.568581336817665, 16.343607289191347, 9.885462383187793, 12.56781343540179, 13.018030036372979, 13.8741819353917, 9.10906184061406, 11.533764988661723, 12.318698022730587, 11.054062779910419, 9.308472100395141, 11.380034479072567, 11.580689097120418, 12.110886644736043, 11.147436898660038, 9.247055691946102], \"Total\": [31.0, 121.0, 540.0, 195.0, 60.0, 62.0, 101.0, 20.0, 94.0, 415.0, 86.0, 20.0, 266.0, 17.0, 19.0, 109.0, 99.0, 242.0, 18.0, 52.0, 217.0, 20.0, 18.0, 31.0, 44.0, 15.0, 17.0, 45.0, 121.0, 20.0, 20.68524826205192, 11.474463589813736, 8.404202032400178, 7.636636643047046, 7.6366366430453585, 6.8690712536950755, 6.101505864341611, 6.101505864341611, 6.1015058643415765, 6.1015058643415765, 6.101505864339953, 6.10150586433971, 6.101505864338805, 6.101505864314725, 5.3339404749886, 5.333940474988027, 5.333940474986371, 5.333940474983554, 5.3339404749810955, 5.333940474969975, 5.333940282642256, 5.333940328864053, 5.333940512546547, 4.566375085635335, 4.566375085635335, 4.566375085635094, 4.566375085635094, 4.56637508563506, 4.566375085634854, 4.566375085634753, 22.697252061821, 8.372872237572764, 7.521711790183643, 7.595736704362723, 7.60020899735385, 7.619041947397395, 30.22863516376445, 21.193550897075614, 266.20025141827483, 10.48463142882909, 99.15790533914698, 11.25520685982849, 11.357778972839354, 27.49311062547305, 472.77257913295335, 8.296560444812654, 26.685056520608292, 540.0304744883097, 91.23620821876821, 259.4352298589368, 13.655318445666014, 60.208044130676846, 30.600884872085082, 130.6764792824535, 127.61164527429989, 60.30865033498359, 160.20005762428409, 12.035565522701074, 150.07827927707064, 153.7386665196421, 190.77905688666698, 71.22236905553576, 148.4884944517997, 242.0204207100036, 185.04769137197763, 161.65829547045996, 119.26891440937013, 268.8823875182321, 415.94964249077077, 187.4603806797392, 217.87094988810625, 103.65479078574896, 163.18556453690553, 173.0713259338513, 151.5839062174551, 202.99784340875098, 197.8857845677964, 232.51219472466911, 11.49882019646868, 9.190906655178305, 9.190906655176164, 9.19090632601087, 8.421601335512507, 8.421601335512053, 7.6522960158454145, 6.882990696184761, 6.882990570107409, 6.113685376520314, 6.1136853765195385, 5.344380056855724, 5.344380056855686, 5.344380056855681, 5.344380056855441, 5.34438005685541, 5.344380056854866, 5.34438005685256, 5.344379996129225, 5.344376917260205, 4.575074737191111, 4.575074737190867, 4.575074737189879, 4.575074737189307, 4.575074737189307, 4.575074737189263, 4.5750747371888965, 4.575074722202734, 4.575074530086451, 4.575074530086451, 9.958472091885254, 9.171572087983014, 8.375047499472831, 7.574545047957596, 20.572750020851586, 9.804709558992613, 5.335139993541576, 46.7885694081575, 13.023455232335587, 86.67690046082278, 101.54120528287201, 40.06463120104069, 415.94964249077077, 62.23159317944765, 20.30794756072511, 58.824629729645885, 12.115530061081646, 64.08078928687289, 25.79225056907644, 53.33972702538428, 66.28168609215767, 153.7386665196421, 195.521186100021, 23.463801283384605, 304.26120005962827, 104.86170790173166, 79.63930879980641, 25.576922914086516, 232.51219472466911, 127.889453645984, 163.18556453690553, 143.0587879874785, 119.26891440937013, 97.25747326586563, 173.0713259338513, 141.92373660613183, 131.66481154357632, 72.9446482031555, 197.8857845677964, 472.77257913295335, 268.8823875182321, 125.76054781834554, 540.0304744883097, 217.87094988810625, 202.99784340875098, 266.20025141827483, 259.4352298589368, 160.20005762428409, 242.0204207100036, 16.00967190859662, 12.953447154652679, 12.95344715465137, 12.95344715465131, 11.425334700955544, 9.897222400696032, 18.99819374763861, 8.36911002373422, 8.369110023733976, 8.369110023723133, 8.369109409793483, 8.369109409793484, 7.605053835247806, 15.231531323715716, 6.8409976467603615, 6.840997646758767, 6.840997646757585, 6.840997646755536, 6.076941458274953, 6.076941458274953, 6.076941458273923, 6.07694145827293, 6.076941458272084, 6.076941458269007, 20.601215387579384, 18.273671591030052, 5.312885269788512, 5.312885269788512, 5.312885269788512, 5.312885269788512, 31.01838424291154, 16.665928571491637, 8.301405615715467, 12.87862177489267, 44.4930620852532, 18.856288478896925, 21.703891838727053, 10.672463654617637, 25.630649681065, 31.83665168201576, 121.63265540695426, 24.97761439473481, 23.389355756955425, 24.410935404261185, 195.36373266261197, 51.64013736074756, 84.19970948655052, 80.92170508993836, 67.50318458963879, 232.51219472466911, 101.54120528287201, 94.91229737206054, 186.12078838873427, 163.18556453690553, 304.26120005962827, 195.521186100021, 150.07827927707064, 472.77257913295335, 161.65829547045996, 95.32115854745835, 415.94964249077077, 133.8823501806135, 268.8823875182321, 185.04769137197763, 540.0304744883097, 92.24183526146953, 266.20025141827483, 153.7386665196421, 156.0050633740759, 123.65577495544044, 197.8857845677964, 187.4603806797392, 259.4352298589368, 9.728196191389314, 9.728196189153412, 8.978225520344651, 6.728313507216393, 6.728313507215607, 12.709245430342216, 5.978342836173079, 5.97834283617182, 5.978342833881903, 5.978342833881903, 5.978342306569477, 5.228372165126984, 5.2283721651257755, 5.228372162816053, 4.47840149408636, 4.47840149408636, 4.47840149408636, 4.47840149408636, 4.478401494085792, 4.478401494085792, 4.478401494085792, 4.478401494085489, 4.478401494085225, 4.478401494084704, 4.478401494084414, 4.478401494083108, 4.4784014940825925, 4.478401494072094, 4.478401492208537, 4.478401531510611, 8.247589422825175, 6.6746957130549385, 16.876245106235167, 6.742399013513278, 10.486541651218307, 22.8541652260263, 8.266924123371904, 13.279573779280348, 10.250937626109291, 17.62739714080014, 30.383092707456203, 42.898953441893525, 7.469064690816556, 7.483883525277754, 124.86030196576266, 180.4146098637598, 58.98485576682496, 55.496184105759596, 28.211620192067343, 73.00147201355774, 133.86890328601064, 259.4352298589368, 268.8823875182321, 304.26120005962827, 415.94964249077077, 126.7757373101754, 195.521186100021, 34.867171066184476, 472.77257913295335, 130.6764792824535, 266.20025141827483, 160.20005762428409, 186.12078838873427, 153.7386665196421, 540.0304744883097, 197.8857845677964, 185.04769137197763, 141.92373660613183, 190.77905688666698, 161.65829547045996, 163.18556453690553, 217.87094988810625, 67.24971620521755, 133.24651847425883, 232.51219472466911, 131.66481154357632, 173.0713259338513, 13.98077836689859, 8.82713325726264, 8.09089826555299, 7.3546632528844995, 6.618428240216384, 6.618428240216384, 6.618428240215832, 6.618428240215069, 6.618428381869448, 5.8821932275481466, 5.8821932275479725, 5.882193227547949, 5.882193227547937, 5.882193227547789, 5.882193227546683, 10.952243648701332, 5.145958214879899, 5.145958214879899, 5.145958214879338, 5.145958214879312, 5.1459582148788945, 5.145958690058688, 4.4097232022117865, 4.409723202211635, 4.409723202211635, 4.409723202211635, 4.409723202211635, 4.409723202211456, 4.409723202211379, 4.409723202210921, 8.858458206135136, 8.860203449522832, 14.712626829882534, 19.21095984004704, 11.818146290480387, 9.624259599655867, 62.82802058967227, 6.608858919337601, 18.65231045291552, 242.0204207100036, 22.08559392226884, 11.5769316261608, 540.0304744883097, 8.137704176910969, 109.39854382563308, 134.0251100078771, 39.08165340330728, 268.8823875182321, 304.26120005962827, 202.99784340875098, 121.72022404621784, 259.4352298589368, 150.24905213379137, 217.87094988810625, 415.94964249077077, 148.23050179127836, 100.35428105900273, 472.77257913295335, 173.0713259338513, 161.65829547045996, 156.0050633740759, 123.65577495544044, 102.95315078181727, 119.26891440937013, 92.24183526146953, 187.4603806797392, 186.12078838873427, 163.18556453690553, 81.25175047245266, 151.5839062174551, 185.04769137197763, 197.8857845677964, 126.7757373101754, 180.4146098637598, 18.275836481749792, 17.544699479907326, 7.30878121203317, 7.308781212032992, 7.308781212032992, 7.308781212032992, 7.308781212032992, 6.577644203903924, 5.846507195773931, 5.846507195773882, 5.846507305491195, 5.115370187645515, 5.1153701876453725, 5.115370187644043, 5.115370187643627, 5.115370183569742, 5.115370183569742, 5.115370272715469, 4.384233179516472, 4.384233179516332, 4.384233179516332, 4.384233179516188, 4.384233179516141, 4.384233179516098, 4.384233179515957, 4.384233179515775, 4.384233368724525, 4.384233270132138, 3.6530961713872077, 3.6530961713872077, 7.313879389811913, 14.306164053106086, 9.573279504512302, 16.13740714966675, 11.757443641949438, 57.35495506554308, 22.10841439027278, 19.68753801774533, 540.0304744883097, 217.87094988810625, 24.38525834941536, 120.2081433277364, 472.77257913295335, 24.17412426664233, 31.4967792582623, 86.0923998424738, 12.956807314410204, 36.17031536706079, 156.0050633740759, 102.15819703159426, 121.72022404621784, 106.87206872864108, 130.6764792824535, 69.86794875160035, 195.36373266261197, 151.5839062174551, 266.20025141827483, 55.54024262990527, 143.14888467357827, 180.4146098637598, 197.8857845677964, 57.89873534028263, 259.4352298589368, 131.2193050393402, 185.04769137197763, 415.94964249077077, 143.0587879874785, 160.20005762428409, 161.65829547045996, 187.4603806797392, 304.26120005962827, 242.0204207100036, 268.8823875182321, 11.628533300335484, 10.175201963983627, 7.995204927418736, 7.268539248564348, 6.541873569709536, 6.541873569709518, 6.541873569709508, 6.54187356970949, 6.541873569709414, 6.54187356970935, 6.541873569709344, 5.81520789085468, 5.815207890854553, 5.815207941688061, 5.815207878267166, 5.088542211999848, 5.0885422119997985, 5.08854221199976, 5.08854221199969, 5.08854221199947, 5.08854221349491, 4.3618765331449785, 4.361876533144965, 4.36187653314494, 4.361876533144912, 4.361876533144898, 4.361876533144839, 4.361876533144693, 4.361876533144502, 4.361876533143187, 8.691557286965818, 7.305929717733095, 17.720146060584177, 21.100136620144646, 8.76898118759475, 8.796649242783166, 6.5792640343959325, 6.579264084888169, 6.5845131485598625, 52.12922394858686, 10.910767474702244, 121.63265540695426, 13.100039320723619, 19.689674443442982, 415.94964249077077, 52.86174571261891, 67.65885068135086, 304.26120005962827, 472.77257913295335, 99.15790533914698, 24.17412426664233, 186.12078838873427, 131.66481154357632, 53.25207963599743, 202.99784340875098, 94.91229737206054, 133.24651847425883, 150.07827927707064, 141.92373660613183, 124.86030196576266, 79.49005563902121, 148.4884944517997, 232.51219472466911, 190.77905688666698, 151.5839062174551, 95.32115854745835, 540.0304744883097, 63.29420313070123, 148.23050179127836, 150.24905213379137, 242.0204207100036, 126.7757373101754, 133.8823501806135, 197.8857845677964, 143.0587879874785, 11.870178226442224, 11.173826345968422, 9.084771033154986, 8.38841915369578, 6.299363182655888, 5.603011302182922, 5.603011302182922, 5.603011302182922, 5.6030113021841705, 4.906659421709951, 4.906659421711163, 4.906659421711334, 4.906659421712081, 4.906659524121783, 4.906659524121783, 4.906659524121783, 4.210307541236969, 4.210307541236969, 4.210307541236969, 4.210307541236969, 4.210307541236969, 4.210307541237103, 4.210307541237172, 4.210307541237211, 4.210307541237372, 4.210307541237924, 4.210307541238414, 4.21030754123849, 4.21030754123862, 4.210307541239435, 9.204420034414417, 9.245080199473499, 60.30865033498359, 12.65914452948315, 10.025046661131771, 5.642894515762566, 5.670715420761772, 5.6759638897573375, 45.02494651077493, 25.6945367339449, 68.84048621123925, 14.211623721629385, 23.600297826370948, 38.11117116161025, 202.99784340875098, 25.656913699760587, 232.51219472466911, 472.77257913295335, 540.0304744883097, 23.53482630574524, 268.8823875182321, 98.80345883796174, 187.4603806797392, 304.26120005962827, 53.13096650780002, 242.0204207100036, 259.4352298589368, 71.8124362637139, 74.87115807500355, 156.0050633740759, 99.63313131680529, 143.14888467357827, 415.94964249077077, 102.95315078181727, 186.12078838873427, 151.5839062174551, 123.65577495544044, 148.4884944517997, 148.23050179127836, 160.20005762428409, 185.04769137197763, 173.0713259338513, 127.61164527429989, 31.848480730838318, 20.783616208789987, 15.9427374716983, 14.559629321295585, 13.176521242517284, 11.793413718842864, 9.718750907447482, 20.1271725792834, 19.360062979968163, 18.056982629656183, 7.6440886747426235, 7.644091519139052, 6.952535361167773, 6.260980611841415, 5.5694265527202615, 5.5694265527202615, 5.569426552720728, 5.5694265527212305, 4.877872493599101, 4.877873199733622, 10.482805852193064, 9.758333686555195, 4.186318434477934, 4.186318434478409, 4.186318434478409, 4.186318434478433, 4.186318434478923, 4.18631843448063, 4.18631843448063, 4.186318434482306, 12.562266778470685, 12.51022880585656, 7.648886544263373, 17.57416318334939, 12.712968183680623, 7.010951084946904, 6.336991750047854, 7.723167759527534, 14.785784919580301, 45.297784849054175, 10.673450238678857, 33.20076149420736, 16.363845546785, 195.36373266261197, 109.39854382563308, 17.29051453647536, 242.0204207100036, 540.0304744883097, 180.4146098637598, 472.77257913295335, 150.24905213379137, 190.77905688666698, 202.99784340875098, 73.00147201355774, 59.31323999722717, 133.86890328601064, 186.12078838873427, 268.8823875182321, 100.35428105900273, 232.51219472466911, 133.24651847425883, 197.8857845677964, 156.0050633740759, 415.94964249077077, 17.04455266266273, 9.865513344426413, 6.6023097674379025, 5.949669586487359, 5.949669624625438, 4.64438956554353, 4.644390106175361, 4.644404960849132, 3.991749043631863, 3.991749043631863, 3.9917490436334355, 3.9917490436334355, 3.9917490436404757, 3.991749082966046, 3.9917495021381395, 12.676330889319013, 12.049765602348288, 3.3391088626803525, 3.33910886268104, 3.33910886268104, 3.3391088626813685, 3.339108862682229, 3.339108862684924, 3.339108862685099, 3.339108862685601, 3.339108862687927, 3.3391093308080935, 3.3391093308080935, 6.033263560478337, 8.722317465730129, 5.340747414729871, 10.25483323500583, 9.630713361501762, 8.806290134073159, 6.0274972832208835, 6.037103124362106, 11.193431742686572, 4.7279839079797785, 4.759314246764145, 8.189674300326386, 10.254805052107917, 14.60762053683046, 94.91229737206054, 540.0304744883097, 80.55456295055637, 121.72022404621784, 187.4603806797392, 133.8823501806135, 78.966903540292, 84.19970948655052, 472.77257913295335, 11.786064616141317, 55.49602399249587, 33.64058893707751, 242.0204207100036, 268.8823875182321, 217.87094988810625, 259.4352298589368, 61.916887212699116, 127.889453645984, 150.24905213379137, 197.8857845677964, 52.318798185443164, 130.6764792824535, 190.77905688666698, 143.14888467357827, 68.84048621123925, 185.04769137197763, 202.99784340875098, 415.94964249077077, 304.26120005962827, 98.80345883796174], \"Category\": [\"Default\", \"Default\", \"Default\", \"Default\", \"Default\", \"Default\", \"Default\", \"Default\", \"Default\", \"Default\", \"Default\", \"Default\", \"Default\", \"Default\", \"Default\", \"Default\", \"Default\", \"Default\", \"Default\", \"Default\", \"Default\", \"Default\", \"Default\", \"Default\", \"Default\", \"Default\", \"Default\", \"Default\", \"Default\", \"Default\", \"Topic1\", \"Topic1\", \"Topic1\", \"Topic1\", \"Topic1\", \"Topic1\", \"Topic1\", \"Topic1\", \"Topic1\", \"Topic1\", \"Topic1\", \"Topic1\", \"Topic1\", \"Topic1\", \"Topic1\", \"Topic1\", \"Topic1\", \"Topic1\", \"Topic1\", \"Topic1\", \"Topic1\", \"Topic1\", \"Topic1\", \"Topic1\", \"Topic1\", \"Topic1\", \"Topic1\", \"Topic1\", \"Topic1\", \"Topic1\", \"Topic1\", \"Topic1\", \"Topic1\", \"Topic1\", \"Topic1\", \"Topic1\", \"Topic1\", \"Topic1\", \"Topic1\", \"Topic1\", \"Topic1\", \"Topic1\", \"Topic1\", \"Topic1\", \"Topic1\", \"Topic1\", \"Topic1\", \"Topic1\", \"Topic1\", \"Topic1\", \"Topic1\", \"Topic1\", \"Topic1\", \"Topic1\", \"Topic1\", \"Topic1\", \"Topic1\", \"Topic1\", \"Topic1\", \"Topic1\", \"Topic1\", \"Topic1\", \"Topic1\", \"Topic1\", \"Topic1\", \"Topic1\", \"Topic1\", \"Topic1\", \"Topic1\", \"Topic1\", \"Topic1\", \"Topic1\", \"Topic1\", \"Topic1\", \"Topic1\", \"Topic1\", \"Topic1\", \"Topic1\", \"Topic2\", \"Topic2\", \"Topic2\", \"Topic2\", \"Topic2\", \"Topic2\", \"Topic2\", \"Topic2\", \"Topic2\", \"Topic2\", \"Topic2\", \"Topic2\", \"Topic2\", \"Topic2\", \"Topic2\", \"Topic2\", \"Topic2\", \"Topic2\", \"Topic2\", \"Topic2\", \"Topic2\", \"Topic2\", \"Topic2\", \"Topic2\", \"Topic2\", \"Topic2\", \"Topic2\", \"Topic2\", \"Topic2\", \"Topic2\", \"Topic2\", \"Topic2\", \"Topic2\", \"Topic2\", \"Topic2\", \"Topic2\", \"Topic2\", \"Topic2\", \"Topic2\", \"Topic2\", \"Topic2\", \"Topic2\", \"Topic2\", \"Topic2\", \"Topic2\", \"Topic2\", \"Topic2\", \"Topic2\", \"Topic2\", \"Topic2\", \"Topic2\", \"Topic2\", \"Topic2\", \"Topic2\", \"Topic2\", \"Topic2\", \"Topic2\", \"Topic2\", \"Topic2\", \"Topic2\", \"Topic2\", \"Topic2\", \"Topic2\", \"Topic2\", \"Topic2\", \"Topic2\", \"Topic2\", \"Topic2\", \"Topic2\", \"Topic2\", \"Topic2\", \"Topic2\", \"Topic2\", \"Topic2\", \"Topic2\", \"Topic2\", \"Topic2\", \"Topic2\", \"Topic2\", \"Topic3\", \"Topic3\", \"Topic3\", \"Topic3\", \"Topic3\", \"Topic3\", \"Topic3\", \"Topic3\", \"Topic3\", \"Topic3\", \"Topic3\", \"Topic3\", \"Topic3\", \"Topic3\", \"Topic3\", \"Topic3\", \"Topic3\", \"Topic3\", \"Topic3\", \"Topic3\", \"Topic3\", \"Topic3\", \"Topic3\", \"Topic3\", \"Topic3\", \"Topic3\", \"Topic3\", \"Topic3\", \"Topic3\", \"Topic3\", \"Topic3\", \"Topic3\", \"Topic3\", \"Topic3\", \"Topic3\", \"Topic3\", \"Topic3\", \"Topic3\", \"Topic3\", \"Topic3\", \"Topic3\", \"Topic3\", \"Topic3\", \"Topic3\", \"Topic3\", \"Topic3\", \"Topic3\", \"Topic3\", \"Topic3\", \"Topic3\", \"Topic3\", \"Topic3\", \"Topic3\", \"Topic3\", \"Topic3\", \"Topic3\", \"Topic3\", \"Topic3\", \"Topic3\", \"Topic3\", \"Topic3\", \"Topic3\", \"Topic3\", \"Topic3\", \"Topic3\", \"Topic3\", \"Topic3\", \"Topic3\", \"Topic3\", \"Topic3\", \"Topic3\", \"Topic3\", \"Topic3\", \"Topic4\", \"Topic4\", \"Topic4\", \"Topic4\", \"Topic4\", \"Topic4\", \"Topic4\", \"Topic4\", \"Topic4\", \"Topic4\", \"Topic4\", \"Topic4\", \"Topic4\", \"Topic4\", \"Topic4\", \"Topic4\", \"Topic4\", \"Topic4\", \"Topic4\", \"Topic4\", \"Topic4\", \"Topic4\", \"Topic4\", \"Topic4\", \"Topic4\", \"Topic4\", \"Topic4\", \"Topic4\", \"Topic4\", \"Topic4\", \"Topic4\", \"Topic4\", \"Topic4\", \"Topic4\", \"Topic4\", \"Topic4\", \"Topic4\", \"Topic4\", \"Topic4\", \"Topic4\", \"Topic4\", \"Topic4\", \"Topic4\", \"Topic4\", \"Topic4\", \"Topic4\", \"Topic4\", \"Topic4\", \"Topic4\", \"Topic4\", \"Topic4\", \"Topic4\", \"Topic4\", \"Topic4\", \"Topic4\", \"Topic4\", \"Topic4\", \"Topic4\", \"Topic4\", \"Topic4\", \"Topic4\", \"Topic4\", \"Topic4\", \"Topic4\", \"Topic4\", \"Topic4\", \"Topic4\", \"Topic4\", \"Topic4\", \"Topic4\", \"Topic4\", \"Topic4\", \"Topic4\", \"Topic4\", \"Topic4\", \"Topic4\", \"Topic4\", \"Topic5\", \"Topic5\", \"Topic5\", \"Topic5\", \"Topic5\", \"Topic5\", \"Topic5\", \"Topic5\", \"Topic5\", \"Topic5\", \"Topic5\", \"Topic5\", \"Topic5\", \"Topic5\", \"Topic5\", \"Topic5\", \"Topic5\", \"Topic5\", \"Topic5\", \"Topic5\", \"Topic5\", \"Topic5\", \"Topic5\", \"Topic5\", \"Topic5\", \"Topic5\", \"Topic5\", \"Topic5\", \"Topic5\", \"Topic5\", \"Topic5\", \"Topic5\", \"Topic5\", \"Topic5\", \"Topic5\", \"Topic5\", \"Topic5\", \"Topic5\", \"Topic5\", \"Topic5\", \"Topic5\", \"Topic5\", \"Topic5\", \"Topic5\", \"Topic5\", \"Topic5\", \"Topic5\", \"Topic5\", \"Topic5\", \"Topic5\", \"Topic5\", \"Topic5\", \"Topic5\", \"Topic5\", \"Topic5\", \"Topic5\", \"Topic5\", \"Topic5\", \"Topic5\", \"Topic5\", \"Topic5\", \"Topic5\", \"Topic5\", \"Topic5\", \"Topic5\", \"Topic5\", \"Topic5\", \"Topic5\", \"Topic5\", \"Topic5\", \"Topic5\", \"Topic5\", \"Topic5\", \"Topic5\", \"Topic6\", \"Topic6\", \"Topic6\", \"Topic6\", \"Topic6\", \"Topic6\", \"Topic6\", \"Topic6\", \"Topic6\", \"Topic6\", \"Topic6\", \"Topic6\", \"Topic6\", \"Topic6\", \"Topic6\", \"Topic6\", \"Topic6\", \"Topic6\", \"Topic6\", \"Topic6\", \"Topic6\", \"Topic6\", \"Topic6\", \"Topic6\", \"Topic6\", \"Topic6\", \"Topic6\", \"Topic6\", \"Topic6\", \"Topic6\", \"Topic6\", \"Topic6\", \"Topic6\", \"Topic6\", \"Topic6\", \"Topic6\", \"Topic6\", \"Topic6\", \"Topic6\", \"Topic6\", \"Topic6\", \"Topic6\", \"Topic6\", \"Topic6\", \"Topic6\", \"Topic6\", \"Topic6\", \"Topic6\", \"Topic6\", \"Topic6\", \"Topic6\", \"Topic6\", \"Topic6\", \"Topic6\", \"Topic6\", \"Topic6\", \"Topic6\", \"Topic6\", \"Topic6\", \"Topic6\", \"Topic6\", \"Topic6\", \"Topic6\", \"Topic6\", \"Topic6\", \"Topic6\", \"Topic6\", \"Topic6\", \"Topic6\", \"Topic6\", \"Topic6\", \"Topic6\", \"Topic6\", \"Topic7\", \"Topic7\", \"Topic7\", \"Topic7\", \"Topic7\", \"Topic7\", \"Topic7\", \"Topic7\", \"Topic7\", \"Topic7\", \"Topic7\", \"Topic7\", \"Topic7\", \"Topic7\", \"Topic7\", \"Topic7\", \"Topic7\", \"Topic7\", \"Topic7\", \"Topic7\", \"Topic7\", \"Topic7\", \"Topic7\", \"Topic7\", \"Topic7\", \"Topic7\", \"Topic7\", \"Topic7\", \"Topic7\", \"Topic7\", \"Topic7\", \"Topic7\", \"Topic7\", \"Topic7\", \"Topic7\", \"Topic7\", \"Topic7\", \"Topic7\", \"Topic7\", \"Topic7\", \"Topic7\", \"Topic7\", \"Topic7\", \"Topic7\", \"Topic7\", \"Topic7\", \"Topic7\", \"Topic7\", \"Topic7\", \"Topic7\", \"Topic7\", \"Topic7\", \"Topic7\", \"Topic7\", \"Topic7\", \"Topic7\", \"Topic7\", \"Topic7\", \"Topic7\", \"Topic7\", \"Topic7\", \"Topic7\", \"Topic7\", \"Topic7\", \"Topic7\", \"Topic7\", \"Topic7\", \"Topic7\", \"Topic7\", \"Topic7\", \"Topic7\", \"Topic7\", \"Topic7\", \"Topic7\", \"Topic7\", \"Topic8\", \"Topic8\", \"Topic8\", \"Topic8\", \"Topic8\", \"Topic8\", \"Topic8\", \"Topic8\", \"Topic8\", \"Topic8\", \"Topic8\", \"Topic8\", \"Topic8\", \"Topic8\", \"Topic8\", \"Topic8\", \"Topic8\", \"Topic8\", \"Topic8\", \"Topic8\", \"Topic8\", \"Topic8\", \"Topic8\", \"Topic8\", \"Topic8\", \"Topic8\", \"Topic8\", \"Topic8\", \"Topic8\", \"Topic8\", \"Topic8\", \"Topic8\", \"Topic8\", \"Topic8\", \"Topic8\", \"Topic8\", \"Topic8\", \"Topic8\", \"Topic8\", \"Topic8\", \"Topic8\", \"Topic8\", \"Topic8\", \"Topic8\", \"Topic8\", \"Topic8\", \"Topic8\", \"Topic8\", \"Topic8\", \"Topic8\", \"Topic8\", \"Topic8\", \"Topic8\", \"Topic8\", \"Topic8\", \"Topic8\", \"Topic8\", \"Topic8\", \"Topic8\", \"Topic8\", \"Topic8\", \"Topic8\", \"Topic8\", \"Topic8\", \"Topic8\", \"Topic8\", \"Topic8\", \"Topic8\", \"Topic8\", \"Topic8\", \"Topic8\", \"Topic8\", \"Topic8\", \"Topic9\", \"Topic9\", \"Topic9\", \"Topic9\", \"Topic9\", \"Topic9\", \"Topic9\", \"Topic9\", \"Topic9\", \"Topic9\", \"Topic9\", \"Topic9\", \"Topic9\", \"Topic9\", \"Topic9\", \"Topic9\", \"Topic9\", \"Topic9\", \"Topic9\", \"Topic9\", \"Topic9\", \"Topic9\", \"Topic9\", \"Topic9\", \"Topic9\", \"Topic9\", \"Topic9\", \"Topic9\", \"Topic9\", \"Topic9\", \"Topic9\", \"Topic9\", \"Topic9\", \"Topic9\", \"Topic9\", \"Topic9\", \"Topic9\", \"Topic9\", \"Topic9\", \"Topic9\", \"Topic9\", \"Topic9\", \"Topic9\", \"Topic9\", \"Topic9\", \"Topic9\", \"Topic9\", \"Topic9\", \"Topic9\", \"Topic9\", \"Topic9\", \"Topic9\", \"Topic9\", \"Topic9\", \"Topic9\", \"Topic9\", \"Topic9\", \"Topic9\", \"Topic9\", \"Topic9\", \"Topic9\", \"Topic9\", \"Topic9\", \"Topic9\", \"Topic10\", \"Topic10\", \"Topic10\", \"Topic10\", \"Topic10\", \"Topic10\", \"Topic10\", \"Topic10\", \"Topic10\", \"Topic10\", \"Topic10\", \"Topic10\", \"Topic10\", \"Topic10\", \"Topic10\", \"Topic10\", \"Topic10\", \"Topic10\", \"Topic10\", \"Topic10\", \"Topic10\", \"Topic10\", \"Topic10\", \"Topic10\", \"Topic10\", \"Topic10\", \"Topic10\", \"Topic10\", \"Topic10\", \"Topic10\", \"Topic10\", \"Topic10\", \"Topic10\", \"Topic10\", \"Topic10\", \"Topic10\", \"Topic10\", \"Topic10\", \"Topic10\", \"Topic10\", \"Topic10\", \"Topic10\", \"Topic10\", \"Topic10\", \"Topic10\", \"Topic10\", \"Topic10\", \"Topic10\", \"Topic10\", \"Topic10\", \"Topic10\", \"Topic10\", \"Topic10\", \"Topic10\", \"Topic10\", \"Topic10\", \"Topic10\", \"Topic10\", \"Topic10\", \"Topic10\", \"Topic10\", \"Topic10\", \"Topic10\", \"Topic10\", \"Topic10\", \"Topic10\", \"Topic10\", \"Topic10\", \"Topic10\", \"Topic10\", \"Topic10\", \"Topic10\"], \"logprob\": [30.0, 29.0, 28.0, 27.0, 26.0, 25.0, 24.0, 23.0, 22.0, 21.0, 20.0, 19.0, 18.0, 17.0, 16.0, 15.0, 14.0, 13.0, 12.0, 11.0, 10.0, 9.0, 8.0, 7.0, 6.0, 5.0, 4.0, 3.0, 2.0, 1.0, -6.797, -7.4127, -7.7464, -7.8506, -7.8506, -7.967, -8.0988, -8.0988, -8.0988, -8.0988, -8.0988, -8.0988, -8.0988, -8.0988, -8.2506, -8.2506, -8.2506, -8.2506, -8.2506, -8.2506, -8.2506, -8.2506, -8.2506, -8.4297, -8.4297, -8.4297, -8.4297, -8.4297, -8.4297, -8.4297, -6.8767, -7.8506, -7.967, -7.9671, -7.967, -7.967, -6.7629, -7.1092, -5.2751, -7.7464, -6.1168, -7.7497, -7.7464, -7.163, -5.3703, -7.967, -7.2229, -5.4918, -6.5518, -6.0141, -7.652, -6.836, -7.2216, -6.4778, -6.5027, -6.9071, -6.4935, -7.7464, -6.5675, -6.5697, -6.4886, -6.9292, -6.6608, -6.4743, -6.586, -6.6492, -6.7762, -6.461, -6.2921, -6.6491, -6.6172, -6.851, -6.7454, -6.7545, -6.7942, -6.7787, -6.7965, -6.838, -7.409, -7.6482, -7.6482, -7.6483, -7.7427, -7.7427, -7.8469, -7.9633, -7.9633, -8.0951, -8.0951, -8.2469, -8.2469, -8.2469, -8.2469, -8.2469, -8.2469, -8.2469, -8.2469, -8.2469, -8.4259, -8.4259, -8.4259, -8.4259, -8.4259, -8.4259, -8.4259, -8.4259, -8.4259, -8.4259, -7.6482, -7.7427, -7.8571, -7.9633, -7.0545, -7.7427, -8.2938, -6.4826, -7.562, -6.0481, -6.0055, -6.7298, -5.0109, -6.4871, -7.3105, -6.5669, -7.6808, -6.5434, -7.1793, -6.6965, -6.6176, -6.1011, -5.9603, -7.2676, -5.7612, -6.3917, -6.5596, -7.218, -5.9854, -6.3174, -6.2264, -6.3158, -6.4107, -6.5358, -6.2727, -6.4169, -6.4519, -6.7932, -6.3963, -6.0596, -6.2928, -6.5919, -6.1007, -6.4104, -6.4405, -6.4307, -6.477, -6.5467, -6.5644, -7.0305, -7.2524, -7.2524, -7.2524, -7.385, -7.538, -6.8914, -7.7187, -7.7187, -7.7187, -7.7187, -7.7187, -7.8229, -7.1353, -7.9393, -7.9393, -7.9393, -7.9393, -8.0711, -8.0711, -8.0711, -8.0711, -8.0711, -8.0711, -6.8512, -6.9819, -8.2229, -8.2229, -8.2229, -8.2229, -6.5637, -7.1997, -7.8229, -7.4586, -6.397, -7.1353, -7.0725, -7.6361, -6.9926, -6.8506, -5.9039, -7.0305, -7.0851, -7.0699, -5.6981, -6.6047, -6.3372, -6.3791, -6.5005, -5.8868, -6.3513, -6.4085, -6.0554, -6.1621, -5.9521, -6.1602, -6.3209, -5.8588, -6.3313, -6.5425, -6.016, -6.4678, -6.242, -6.3977, -6.1738, -6.6546, -6.3875, -6.532, -6.5381, -6.585, -6.5142, -6.5703, -6.5847, -7.4783, -7.4783, -7.5646, -7.8797, -7.8797, -7.2568, -8.0114, -8.0114, -8.0114, -8.0114, -8.0114, -8.1632, -8.1632, -8.1632, -8.3423, -8.3423, -8.3423, -8.3423, -8.3423, -8.3423, -8.3423, -8.3423, -8.3423, -8.3423, -8.3423, -8.3423, -8.3423, -8.3423, -8.3423, -8.3423, -7.7632, -8.0114, -7.2568, -8.0114, -7.659, -7.0813, -7.8797, -7.5646, -7.7632, -7.3989, -7.0756, -6.8787, -8.0114, -8.0114, -6.2125, -5.9855, -6.7098, -6.763, -7.1946, -6.66, -6.3417, -5.9796, -5.9718, -5.9343, -5.8258, -6.5012, -6.2959, -7.1409, -5.8901, -6.5142, -6.1854, -6.4395, -6.4526, -6.5358, -6.0492, -6.4696, -6.5071, -6.6303, -6.5399, -6.6035, -6.6381, -6.5597, -6.9194, -6.8116, -6.7218, -6.8293, -6.7964, -7.0275, -7.5165, -7.6109, -7.7151, -7.8315, -7.8315, -7.8315, -7.8315, -7.8315, -7.9633, -7.9633, -7.9633, -7.9633, -7.9633, -7.9633, -7.3508, -8.1151, -8.1151, -8.1151, -8.1151, -8.1151, -8.1151, -8.2942, -8.2942, -8.2942, -8.2942, -8.2942, -8.2942, -8.2942, -8.2942, -7.6109, -7.6109, -7.2087, -6.9737, -7.4302, -7.6109, -6.1185, -7.9633, -7.1446, -5.6505, -7.2098, -7.6109, -5.234, -7.8315, -6.2475, -6.1998, -6.9227, -5.8597, -5.8932, -6.1085, -6.4328, -6.0573, -6.3719, -6.212, -5.9416, -6.4247, -6.6242, -6.0152, -6.4637, -6.5333, -6.5526, -6.6591, -6.7402, -6.7099, -6.8037, -6.6235, -6.6299, -6.7149, -6.8616, -6.7487, -6.7325, -6.7365, -6.7877, -6.7932, -6.722, -6.7643, -7.6959, -7.6959, -7.6959, -7.6959, -7.6959, -7.8123, -7.9441, -7.9441, -7.9441, -8.0959, -8.0959, -8.0959, -8.0959, -8.0959, -8.0959, -8.0959, -8.2749, -8.2749, -8.2749, -8.2749, -8.2749, -8.2749, -8.2749, -8.2749, -8.2749, -8.2749, -8.4932, -8.4932, -7.8123, -7.1895, -7.5916, -7.1895, -7.5031, -6.403, -7.1253, -7.2102, -4.9286, -5.5693, -7.1253, -6.073, -5.3665, -7.153, -7.0154, -6.5047, -7.5916, -7.0374, -6.2544, -6.4958, -6.4095, -6.4795, -6.3874, -6.722, -6.2972, -6.4205, -6.233, -6.871, -6.5, -6.4182, -6.3827, -6.8699, -6.3175, -6.5784, -6.4698, -6.219, -6.6156, -6.6285, -6.6288, -6.6534, -6.5887, -6.6614, -6.7243, -7.1643, -7.3063, -7.5664, -7.6707, -7.7871, -7.7871, -7.7871, -7.7871, -7.7871, -7.7871, -7.7871, -7.9189, -7.9189, -7.9189, -7.9189, -8.0707, -8.0707, -8.0707, -8.0707, -8.0707, -8.0707, -8.2497, -8.2497, -8.2497, -8.2497, -8.2497, -8.2497, -8.2497, -8.2497, -8.2497, -7.5664, -7.7871, -7.0711, -6.9293, -7.6707, -7.6707, -7.9189, -7.9189, -7.9189, -6.3392, -7.57, -5.9925, -7.4745, -7.2328, -5.4545, -6.7689, -6.6865, -5.9553, -5.8076, -6.5636, -7.2733, -6.3566, -6.5226, -6.9236, -6.3596, -6.6944, -6.5588, -6.5398, -6.5617, -6.6136, -6.7902, -6.5536, -6.3828, -6.5081, -6.6046, -6.7839, -6.2462, -6.9331, -6.6931, -6.6986, -6.5848, -6.7835, -6.7774, -6.7316, -6.8075, -6.9945, -7.0586, -7.2801, -7.3664, -7.6814, -7.8132, -7.8132, -7.8132, -7.8132, -7.965, -7.965, -7.965, -7.965, -7.965, -7.965, -7.965, -8.1441, -8.1441, -8.1441, -8.1441, -8.1441, -8.1441, -8.1441, -8.1441, -8.1441, -8.1441, -8.1441, -8.1441, -8.1441, -8.1441, -7.565, -7.5792, -6.2555, -7.3664, -7.565, -7.965, -7.965, -7.965, -6.7712, -7.1082, -6.5474, -7.4473, -7.163, -6.9342, -6.1267, -7.1816, -6.0654, -5.7426, -5.6866, -7.2516, -6.1559, -6.6258, -6.3821, -6.1785, -6.9465, -6.4134, -6.4489, -6.913, -6.9187, -6.6869, -6.8275, -6.7544, -6.4579, -6.8736, -6.7258, -6.7874, -6.8392, -6.8111, -6.8314, -6.8365, -6.8669, -6.885, -6.9191, -5.9524, -6.3905, -6.6657, -6.7605, -6.8653, -6.9824, -7.1886, -6.4617, -6.5008, -6.579, -7.4487, -7.4487, -7.553, -7.6694, -7.8011, -7.8011, -7.8011, -7.8011, -7.953, -7.953, -7.1886, -7.268, -8.132, -8.132, -8.132, -8.132, -8.132, -8.132, -8.132, -8.132, -7.0465, -7.0531, -7.553, -6.7668, -7.1151, -7.6694, -7.8011, -7.6694, -7.1886, -6.4057, -7.4487, -6.7303, -7.1886, -5.7126, -6.096, -7.1898, -5.7993, -5.5731, -6.1007, -5.6633, -6.3976, -6.3569, -6.4151, -6.764, -6.8498, -6.6575, -6.5858, -6.5176, -6.7725, -6.6336, -6.7253, -6.6971, -6.8532, -6.8164, -6.4148, -6.9915, -7.4294, -7.5458, -7.5458, -7.8294, -7.8294, -7.8294, -8.0084, -8.0084, -8.0084, -8.0084, -8.0084, -8.0084, -8.0084, -6.8588, -6.9229, -8.2267, -8.2267, -8.2267, -8.2267, -8.2267, -8.2267, -8.2267, -8.2267, -8.2267, -8.2267, -8.2267, -7.6775, -7.3251, -7.8294, -7.3251, -7.4294, -7.5458, -7.8294, -7.8294, -7.4294, -8.0084, -8.0084, -7.6775, -7.5465, -7.3393, -6.2479, -5.2705, -6.4719, -6.3246, -6.1415, -6.3615, -6.6364, -6.6228, -5.9893, -7.5458, -6.9089, -7.1309, -6.393, -6.3574, -6.4657, -6.4171, -6.9198, -6.6798, -6.6446, -6.5809, -7.0016, -6.7656, -6.6998, -6.8081, -6.98, -6.7791, -6.7616, -6.7168, -6.7997, -6.9866], \"loglift\": [30.0, 29.0, 28.0, 27.0, 26.0, 25.0, 24.0, 23.0, 22.0, 21.0, 20.0, 19.0, 18.0, 17.0, 16.0, 15.0, 14.0, 13.0, 12.0, 11.0, 10.0, 9.0, 8.0, 7.0, 6.0, 5.0, 4.0, 3.0, 2.0, 1.0, 2.074, 2.0475, 2.0253, 2.0168, 2.0168, 2.0063, 1.993, 1.993, 1.993, 1.993, 1.993, 1.993, 1.993, 1.993, 1.9757, 1.9757, 1.9757, 1.9757, 1.9757, 1.9757, 1.9757, 1.9757, 1.9757, 1.952, 1.952, 1.952, 1.952, 1.952, 1.952, 1.952, 1.9014, 1.9247, 1.9155, 1.9057, 1.9052, 1.9027, 1.7287, 1.7375, 1.041, 1.8041, 1.1869, 1.7298, 1.7241, 1.4234, 0.3714, 1.8175, 1.3933, 0.117, 0.8351, 0.3278, 1.6343, 0.9665, 1.2577, 0.5499, 0.5486, 0.8938, 0.3305, 1.6661, 0.3217, 0.2954, 0.1607, 0.7054, 0.2391, -0.063, 0.0938, 0.1657, 0.3428, -0.1549, -0.4223, 0.0177, -0.1007, 0.4084, 0.0601, -0.0078, 0.085, -0.1915, -0.1838, -0.3866, 2.0491, 2.0339, 2.0339, 2.0339, 2.0269, 2.0269, 2.0185, 2.008, 2.008, 1.9948, 1.9948, 1.9774, 1.9774, 1.9774, 1.9774, 1.9774, 1.9774, 1.9774, 1.9774, 1.9774, 1.9538, 1.9538, 1.9538, 1.9538, 1.9538, 1.9538, 1.9538, 1.9538, 1.9538, 1.9538, 1.9537, 1.9416, 1.9181, 1.9123, 1.8219, 1.8749, 1.9323, 1.5722, 1.7716, 1.3901, 1.2744, 1.4801, 0.8589, 1.2825, 1.5788, 1.2589, 1.7251, 1.1968, 1.471, 1.2272, 1.0889, 0.764, 0.6644, 1.4773, 0.4213, 0.856, 0.9633, 1.4407, 0.466, 0.7319, 0.5791, 0.6213, 0.7082, 0.7872, 0.474, 0.5282, 0.5682, 0.8175, 0.2164, -0.3179, 0.0133, 0.4741, -0.4919, 0.1061, 0.1466, -0.1146, -0.1351, 0.2772, -0.153, 2.0967, 2.0866, 2.0866, 2.0866, 2.0795, 2.0701, 2.0647, 2.0572, 2.0572, 2.0572, 2.0572, 2.0572, 2.0486, 2.0417, 2.0381, 2.0381, 2.0381, 2.0381, 2.0248, 2.0248, 2.0248, 2.0248, 2.0248, 2.0248, 2.0238, 2.013, 2.0073, 2.0073, 2.0073, 2.0073, 1.9021, 1.8873, 1.961, 1.8862, 1.708, 1.8282, 1.7504, 1.8966, 1.664, 1.5892, 1.1954, 1.6519, 1.663, 1.6355, 0.9274, 1.3514, 1.13, 1.1278, 1.1877, 0.5646, 0.9286, 0.9389, 0.6186, 0.6433, 0.2303, 0.4645, 0.5684, -0.117, 0.4836, 0.8006, -0.1462, 0.5356, 0.0641, 0.282, -0.5651, 0.7214, -0.0714, 0.3331, 0.3124, 0.4978, 0.0985, 0.0965, -0.2429, 2.147, 2.147, 2.141, 2.1144, 2.1144, 2.1012, 2.1008, 2.1008, 2.1008, 2.1008, 2.1008, 2.083, 2.083, 2.083, 2.0588, 2.0588, 2.0588, 2.0588, 2.0588, 2.0588, 2.0588, 2.0588, 2.0588, 2.0588, 2.0588, 2.0588, 2.0588, 2.0588, 2.0588, 2.0588, 2.0272, 1.9906, 1.8176, 1.9805, 1.8913, 1.6899, 1.9085, 1.7496, 1.8098, 1.632, 1.4109, 1.2628, 1.8782, 1.8762, 0.8606, 0.7196, 1.1133, 1.121, 1.3661, 0.9499, 0.6618, 0.3623, 0.3343, 0.2482, 0.044, 0.5568, 0.3288, 1.208, -0.1483, 0.5134, 0.1308, 0.3845, 0.2214, 0.3293, -0.4405, 0.1431, 0.1726, 0.3148, 0.1094, 0.2114, 0.1674, -0.0433, 0.7726, 0.1966, -0.2704, 0.1909, -0.0498, 2.2352, 2.2061, 2.1988, 2.1899, 2.179, 2.179, 2.179, 2.179, 2.179, 2.1651, 2.1651, 2.1651, 2.1651, 2.1651, 2.1651, 2.156, 2.1471, 2.1471, 2.1471, 2.1471, 2.1471, 2.147, 2.1224, 2.1224, 2.1224, 2.1224, 2.1224, 2.1224, 2.1224, 2.1224, 2.1081, 2.1079, 2.003, 1.9712, 2.0005, 2.0252, 1.6415, 2.0487, 1.8298, 0.7609, 1.5957, 1.8405, 0.3748, 1.9723, 0.9579, 0.8026, 1.312, 0.4464, 0.2893, 0.4787, 0.6659, 0.2846, 0.5162, 0.3044, -0.0717, 0.4769, 0.6675, -0.2734, 0.283, 0.2816, 0.2978, 0.4238, 0.5259, 0.409, 0.5723, 0.0434, 0.0441, 0.0905, 0.6412, 0.1306, -0.0527, -0.1238, 0.2703, -0.0881, 2.2728, 2.2713, 2.2154, 2.2154, 2.2154, 2.2154, 2.2154, 2.2044, 2.1905, 2.1905, 2.1905, 2.1722, 2.1722, 2.1722, 2.1722, 2.1722, 2.1722, 2.1722, 2.1474, 2.1474, 2.1474, 2.1474, 2.1474, 2.1474, 2.1474, 2.1474, 2.1474, 2.1474, 2.1116, 2.1116, 2.0983, 2.0502, 2.0498, 1.9297, 1.9328, 1.4481, 1.6791, 1.7101, 0.6802, 0.9472, 1.5811, 1.0382, 0.3753, 1.5621, 1.4351, 0.9402, 1.7471, 1.2748, 0.5961, 0.7781, 0.6892, 0.7492, 0.6402, 0.9318, 0.3283, 0.4588, 0.0831, 1.0123, 0.4365, 0.2869, 0.23, 0.9717, 0.0243, 0.4451, 0.2099, -0.3491, 0.3216, 0.1955, 0.1861, 0.0134, -0.4063, -0.25, -0.4182, 2.2827, 2.2741, 2.2551, 2.2461, 2.2351, 2.2351, 2.2351, 2.2351, 2.2351, 2.2351, 2.2351, 2.221, 2.221, 2.221, 2.221, 2.2027, 2.2027, 2.2027, 2.2027, 2.2027, 2.2027, 2.1778, 2.1778, 2.1778, 2.1778, 2.1778, 2.1778, 2.1778, 2.1778, 2.1778, 2.1716, 2.1246, 1.9545, 1.9218, 2.0585, 2.0553, 2.0976, 2.0976, 2.0968, 1.6075, 1.9406, 1.1069, 1.8532, 1.6875, 0.4153, 1.1637, 0.9994, 0.2272, -0.0658, 0.7401, 1.4418, 0.3174, 0.4975, 1.0017, 0.2276, 0.653, 0.4494, 0.3494, 0.3834, 0.4596, 0.7346, 0.3463, 0.0686, 0.1411, 0.2746, 0.5593, -0.6374, 0.8195, 0.2085, 0.1895, -0.1735, 0.2744, 0.226, -0.1189, 0.1296, 2.4319, 2.4282, 2.4137, 2.4072, 2.3785, 2.3639, 2.3639, 2.3639, 2.3639, 2.3448, 2.3448, 2.3448, 2.3448, 2.3448, 2.3448, 2.3448, 2.3188, 2.3188, 2.3188, 2.3188, 2.3188, 2.3188, 2.3188, 2.3188, 2.3188, 2.3188, 2.3188, 2.3188, 2.3188, 2.3188, 2.1157, 2.0971, 1.5454, 1.9956, 2.0303, 2.205, 2.2, 2.1991, 1.322, 1.5459, 1.1212, 1.799, 1.5761, 1.3256, 0.4605, 1.4739, 0.386, -0.0009, -0.0778, 1.4903, 0.1502, 0.6814, 0.2847, 0.004, 0.9811, -0.0021, -0.107, 0.7133, 0.6659, 0.1636, 0.4714, 0.1821, -0.5881, 0.3925, -0.0518, 0.0918, 0.2436, 0.0887, 0.0702, -0.0125, -0.1871, -0.1383, 0.1323, 2.487, 2.4757, 2.4657, 2.4616, 2.4566, 2.4504, 2.4377, 2.4366, 2.4363, 2.4278, 2.4177, 2.4177, 2.4083, 2.3967, 2.3819, 2.3819, 2.3819, 2.3819, 2.3627, 2.3627, 2.362, 2.3542, 2.3366, 2.3366, 2.3366, 2.3366, 2.3366, 2.3366, 2.3366, 2.3366, 2.3231, 2.3207, 2.3128, 2.2672, 2.2427, 2.2835, 2.2528, 2.1868, 2.0181, 1.6814, 2.0839, 1.6675, 1.9167, 0.913, 1.1094, 1.8604, 0.612, 0.0357, 0.6045, 0.0784, 0.4905, 0.2924, 0.172, 0.8459, 0.9677, 0.346, 0.0881, -0.2115, 0.5191, -0.1822, 0.2829, -0.0844, -0.0027, -0.9466, 2.6498, 2.6199, 2.5836, 2.5713, 2.5713, 2.5354, 2.5354, 2.5353, 2.5077, 2.5077, 2.5077, 2.5077, 2.5077, 2.5077, 2.5077, 2.5018, 2.4884, 2.468, 2.468, 2.468, 2.468, 2.468, 2.468, 2.468, 2.468, 2.468, 2.468, 2.468, 2.4255, 2.4094, 2.3957, 2.2475, 2.2061, 2.1791, 2.2747, 2.2731, 2.0557, 2.3385, 2.3319, 2.12, 2.0262, 1.8796, 1.0995, 0.3382, 1.0395, 0.7741, 0.5253, 0.6419, 0.895, 0.8444, -0.2476, 1.8877, 0.9752, 1.2538, 0.0183, -0.0513, 0.0508, -0.0752, 0.8547, 0.3694, 0.2435, 0.0318, 0.9414, 0.262, -0.0505, 0.1284, 0.6886, -0.0993, -0.1744, -0.847, -0.6172, 0.3206]}, \"token.table\": {\"Topic\": [1, 2, 4, 8, 9, 10, 1, 2, 4, 8, 9, 10, 1, 2, 3, 4, 5, 6, 7, 8, 9, 10, 1, 2, 3, 4, 5, 6, 7, 8, 9, 10, 9, 4, 1, 1, 2, 4, 5, 6, 7, 8, 10, 2, 3, 4, 10, 1, 2, 5, 10, 1, 2, 3, 4, 5, 6, 7, 8, 9, 10, 7, 1, 2, 3, 4, 5, 6, 7, 8, 9, 10, 1, 3, 8, 9, 7, 9, 10, 9, 1, 2, 3, 4, 5, 6, 7, 8, 9, 10, 1, 2, 3, 4, 5, 6, 7, 9, 10, 1, 4, 5, 6, 9, 10, 1, 2, 3, 4, 10, 1, 4, 7, 9, 4, 5, 6, 10, 2, 2, 8, 1, 2, 3, 4, 5, 6, 7, 8, 9, 10, 2, 2, 3, 6, 1, 3, 4, 7, 1, 2, 3, 4, 5, 6, 7, 10, 3, 3, 8, 1, 2, 3, 4, 5, 6, 7, 8, 9, 10, 1, 2, 3, 4, 6, 7, 8, 10, 1, 3, 10, 1, 2, 3, 4, 5, 6, 7, 8, 9, 10, 6, 9, 6, 10, 7, 5, 4, 6, 5, 8, 1, 2, 3, 4, 5, 6, 7, 8, 9, 10, 9, 5, 1, 2, 3, 4, 5, 6, 7, 8, 9, 10, 7, 3, 7, 2, 1, 2, 3, 4, 5, 6, 7, 9, 10, 1, 3, 6, 1, 3, 4, 7, 1, 2, 4, 6, 7, 9, 1, 2, 3, 4, 5, 6, 7, 8, 9, 10, 7, 1, 2, 4, 5, 6, 7, 8, 9, 10, 6, 9, 3, 1, 4, 4, 5, 5, 1, 2, 3, 4, 5, 6, 7, 8, 9, 10, 2, 10, 2, 5, 10, 9, 5, 6, 9, 1, 9, 1, 4, 9, 1, 2, 3, 4, 5, 6, 7, 8, 9, 10, 1, 2, 3, 4, 5, 6, 7, 8, 9, 10, 6, 7, 1, 2, 9, 8, 5, 1, 4, 5, 8, 10, 8, 1, 2, 3, 4, 5, 6, 7, 8, 9, 10, 8, 2, 3, 4, 6, 7, 10, 2, 1, 2, 3, 4, 5, 10, 8, 10, 1, 2, 3, 4, 5, 6, 7, 8, 9, 10, 1, 3, 6, 7, 8, 9, 9, 1, 3, 4, 5, 7, 8, 1, 2, 3, 4, 5, 6, 7, 9, 1, 2, 3, 4, 5, 6, 7, 8, 9, 10, 1, 5, 9, 4, 3, 10, 9, 1, 2, 3, 4, 5, 6, 7, 8, 9, 10, 1, 2, 3, 4, 5, 6, 7, 8, 9, 10, 1, 2, 3, 4, 5, 6, 7, 8, 9, 10, 8, 1, 2, 3, 4, 5, 6, 7, 9, 1, 6, 9, 10, 9, 1, 2, 3, 7, 9, 6, 1, 3, 5, 6, 7, 8, 9, 10, 1, 4, 6, 7, 8, 9, 10, 4, 4, 8, 10, 1, 4, 9, 7, 1, 6, 6, 1, 2, 3, 4, 5, 6, 7, 8, 9, 10, 1, 2, 3, 4, 5, 6, 7, 8, 9, 10, 2, 8, 1, 4, 5, 6, 1, 2, 3, 4, 5, 6, 7, 8, 9, 10, 1, 2, 3, 4, 5, 6, 7, 8, 9, 10, 1, 2, 3, 4, 5, 6, 7, 8, 9, 10, 1, 2, 3, 4, 5, 6, 7, 8, 9, 10, 1, 8, 10, 6, 1, 2, 3, 4, 5, 6, 7, 8, 9, 10, 1, 2, 3, 4, 5, 6, 7, 8, 9, 10, 1, 4, 3, 4, 1, 2, 3, 4, 5, 6, 7, 8, 9, 10, 1, 2, 3, 4, 5, 6, 7, 8, 9, 10, 7, 10, 7, 7, 3, 7, 6, 1, 2, 3, 4, 5, 6, 7, 8, 10, 5, 10, 3, 3, 10, 5, 1, 2, 3, 4, 5, 6, 7, 8, 9, 10, 5, 6, 10, 1, 2, 3, 4, 5, 6, 7, 8, 9, 10, 6, 2, 1, 3, 4, 6, 7, 8, 9, 10, 1, 2, 5, 2, 1, 2, 3, 4, 5, 6, 7, 9, 10, 9, 3, 4, 1, 2, 3, 4, 5, 6, 7, 8, 9, 10, 2, 3, 7, 8, 5, 8, 1, 2, 3, 4, 5, 6, 7, 8, 9, 10, 3, 1, 2, 3, 4, 5, 6, 7, 10, 2, 8, 10, 9, 8, 1, 2, 3, 4, 5, 6, 7, 8, 9, 10, 1, 2, 3, 4, 5, 7, 8, 9, 1, 2, 3, 4, 5, 6, 7, 8, 9, 10, 1, 2, 3, 4, 5, 6, 7, 9, 10, 2, 1, 1, 8, 1, 1, 6, 9, 9, 2, 4, 2, 3, 6, 9, 1, 2, 6, 8, 10, 4, 1, 5, 1, 2, 4, 5, 6, 7, 9, 10, 4, 1, 3, 2, 4, 5, 2, 4, 6, 6, 1, 2, 3, 4, 5, 6, 7, 8, 9, 1, 4, 5, 6, 7, 8, 9, 1, 2, 4, 5, 9, 1, 2, 3, 4, 5, 6, 7, 8, 9, 10, 3, 7, 8, 10, 4, 10, 4, 10, 8, 4, 7, 10, 2, 5, 1, 2, 3, 4, 5, 6, 7, 8, 9, 10, 7, 1, 2, 3, 4, 5, 7, 8, 9, 10, 6, 2, 2, 9, 1, 2, 3, 4, 5, 6, 7, 8, 9, 10, 2, 6, 7, 4, 1, 2, 3, 4, 5, 6, 7, 8, 9, 10, 2, 7, 4, 9, 10, 1, 1, 10, 4, 8, 1, 2, 3, 4, 5, 6, 7, 8, 9, 10, 6, 6, 6, 1, 3, 9, 1, 8, 9, 9, 4, 5, 10, 7, 1, 1, 2, 3, 2, 3, 4, 7, 9, 10, 1, 2, 3, 4, 5, 6, 7, 8, 10, 3, 5, 3, 8, 1, 4, 5, 7, 8, 2, 3, 5, 1, 6, 8, 2, 4, 6, 6, 7, 8, 10, 1, 2, 3, 4, 5, 6, 7, 8, 9, 10, 1, 3, 1, 2, 3, 4, 5, 6, 7, 8, 9, 10, 3, 3, 4, 1, 1, 2, 3, 4, 5, 6, 7, 8, 9, 10, 8, 1, 2, 3, 4, 5, 6, 7, 8, 9, 10, 1, 2, 3, 4, 5, 6, 7, 8, 9, 4, 7, 1, 2, 3, 5, 7, 8, 10, 2, 10, 3, 8, 1, 2, 4, 5, 7, 9, 10, 7, 2, 7, 1, 2, 4, 6, 9, 1, 2, 3, 4, 5, 6, 7, 8, 9, 10, 1, 2, 3, 4, 5, 6, 7, 8, 9, 10, 8, 3, 2, 1, 2, 5, 8, 1, 2, 3, 4, 5, 6, 7, 8, 9, 10, 1, 2, 3, 4, 5, 6, 7, 8, 9, 10, 5, 1, 2, 3, 4, 5, 6, 7, 8, 10, 1, 2, 3, 4, 5, 6, 7, 8, 9, 1, 2, 3, 4, 6, 7, 8, 9, 1, 2, 3, 4, 5, 6, 7, 8, 9, 10, 2, 4, 5, 6, 8, 10, 3, 7, 5, 5, 2, 1, 2, 3, 4, 6, 8, 9, 2, 4, 5, 8, 1, 2, 3, 4, 5, 6, 7, 8, 9, 10, 1, 3, 5, 8, 3, 5, 8, 4, 9, 8, 10, 9, 8, 2, 3, 5, 5, 4, 3, 4, 2, 3, 9, 1, 1, 3, 4, 6, 7, 8, 9, 10, 2, 4, 3, 4, 5, 7, 10, 1, 2, 3, 4, 5, 6, 7, 8, 9, 10, 5, 5, 3, 7, 3, 10, 1, 2, 3, 4, 5, 6, 7, 8, 9, 10, 1, 2, 3, 4, 5, 6, 7, 8, 9, 10, 1, 2, 3, 4, 5, 6, 7, 8, 9, 10, 3, 4, 7, 9, 6, 1, 3, 6, 7, 10, 1, 2, 3, 4, 5, 6, 7, 8, 9, 10, 1, 2, 4, 5, 6, 7, 8, 9, 10, 6, 1, 2, 3, 4, 5, 6, 7, 8, 10, 1, 2, 3, 4, 5, 6, 7, 8, 9, 10, 1, 2, 3, 4, 5, 6, 7, 8, 9, 10, 7, 9, 3, 4, 6, 9, 3, 3, 5, 6, 7, 9, 10, 1, 2, 3, 4, 5, 6, 7, 8, 9, 10, 4, 1, 2, 3, 4, 5, 6, 7, 8, 9, 10, 8, 10, 1, 2, 3, 4, 5, 6, 7, 8, 9, 10, 8, 2, 1, 2, 5, 6, 5, 6, 6, 7, 1, 2, 3, 4, 5, 6, 7, 8, 9, 10, 1, 2, 3, 4, 5, 6, 7, 8, 9, 10, 1, 2, 3, 4, 5, 6, 7, 8, 9, 10, 1, 2, 3, 4, 5, 6, 7, 8, 9, 10, 1, 2, 3, 4, 5, 6, 7, 8, 9, 10, 1, 2, 3, 4, 5, 6, 7, 8, 9, 10, 1, 10, 2, 7, 7, 9, 1, 2, 3, 4, 5, 6, 8, 9, 10, 2, 1, 2, 3, 4, 5, 6, 7, 8, 9, 10, 5, 3, 3, 7, 2, 5, 7, 3, 5, 7, 7, 8, 6, 3, 4, 5, 6, 7, 5, 5, 8, 10, 1, 2, 3, 4, 5, 6, 7, 8, 9, 10, 5, 10, 1, 3, 6, 7, 9, 1, 3, 4, 5, 6, 7, 8, 9, 10, 2, 5, 5, 10, 5, 1, 2, 4, 6, 7, 8, 10, 4, 4, 2, 1, 1, 2, 3, 4, 5, 6, 7, 8, 9, 10, 1, 2, 3, 4, 5, 6, 7, 8, 9, 10, 1, 3, 1, 2, 3, 4, 5, 6, 7, 8, 9, 10, 1, 2, 4, 5, 6, 8, 9, 1, 7, 1, 7, 1, 2, 3, 4, 5, 6, 7, 8, 10, 1, 1, 2, 3, 4, 5, 7, 8, 9, 7, 8, 1, 2, 3, 4, 5, 6, 7, 8, 9, 10, 3, 8, 10, 5, 1, 1, 2, 8, 8, 1, 2, 3, 4, 5, 6, 7, 8, 9, 10, 8, 3, 1, 9, 10, 1, 2, 3, 4, 5, 6, 7, 8, 9, 10, 7, 10, 1, 2, 3, 4, 5, 6, 7, 8, 9, 10, 1, 1, 2, 3, 4, 5, 7, 8, 9, 10, 7, 4, 1, 7, 9, 6, 3, 4, 7, 6, 10, 10, 3, 1, 4, 5, 7, 8, 9, 10, 9, 10, 2, 3, 6, 3, 1, 6, 2, 4, 1, 8, 1, 2, 3, 4, 5, 6, 7, 8, 9, 1, 9, 9, 8, 9, 4, 4, 7, 5, 5, 2, 5, 6, 7, 8, 9, 10, 4, 3, 5, 10, 1, 3, 5, 6, 7, 8, 9, 10, 1, 5, 6, 8, 9, 10, 1, 6, 7, 10, 10, 10, 2, 6, 5, 2, 2, 9, 4, 9, 10, 9, 1, 2, 3, 4, 5, 6, 7, 8, 9, 10, 7, 4, 1, 2, 3, 4, 5, 6, 7, 8, 9, 10, 8, 1, 8, 1, 5, 9, 10, 10, 2, 1, 2, 3, 6, 7, 8, 5, 9, 1, 6, 7, 4, 1, 2, 5, 6, 7, 10, 2, 4, 5, 1, 2, 3, 4, 5, 7, 8, 9, 10, 1, 2, 8, 9, 3, 5, 10, 6, 1, 2, 3, 4, 5, 6, 7, 8, 9, 10, 2, 10, 2, 7, 1, 2, 3, 4, 5, 6, 7, 8, 9, 10, 1, 2, 3, 4, 5, 6, 7, 8, 9, 10, 1, 2, 3, 4, 5, 6, 7, 8, 9, 10, 1, 2, 3, 4, 5, 6, 7, 8, 9, 10, 1, 2, 3, 4, 5, 6, 7, 8, 9, 10, 3, 4, 7, 8, 1, 2, 3, 4, 5, 6, 8, 2, 3, 4, 6, 10, 1, 2, 3, 4, 5, 6, 7, 8, 9, 10, 8, 1, 2, 3, 4, 5, 6, 7, 8, 9, 10, 1, 2, 3, 4, 5, 6, 7, 8, 9, 10, 4, 9, 9, 1, 6, 3, 7, 8, 6, 1, 2, 3, 4, 5, 6, 7, 8, 9, 10, 6, 2, 3, 5, 6, 7, 8, 9, 10, 1, 2, 3, 4, 5, 6, 7, 8, 9, 10, 6, 1, 2, 3, 4, 5, 6, 7, 8, 9, 10, 7, 1, 5, 5, 8, 5, 2, 1, 2, 3, 4, 6, 8, 10, 1], \"Freq\": [0.29846464644821663, 0.08290684623561574, 0.04974410774136944, 0.3813714926838324, 0.016581369247123147, 0.14923232322410832, 0.23351267478091697, 0.11675633739045849, 0.03891877913015283, 0.38918779130152825, 0.03891877913015283, 0.1556751165206113, 0.08171614406074046, 0.19353823593333266, 0.20644078499555485, 0.08171614406074046, 0.06881359499851829, 0.0559110459362961, 0.10322039249777742, 0.120423791247407, 0.06881359499851829, 0.012902549062222178, 0.08968227269456, 0.06975287876243555, 0.12954106055880887, 0.03985878786424889, 0.19929393932124442, 0.06975287876243555, 0.1395057575248711, 0.049823484830311106, 0.1395057575248711, 0.07971757572849777, 0.8200296348969611, 0.893175836351859, 0.8194698343604541, 0.08498044447057453, 0.08498044447057453, 0.04249022223528726, 0.16996088894114905, 0.08498044447057453, 0.04249022223528726, 0.38241200011758536, 0.1274706667058618, 0.26801432026957267, 0.08933810675652423, 0.08933810675652423, 0.5360286405391453, 0.10410723965133764, 0.10410723965133764, 0.7287506775593634, 0.05205361982566882, 0.11867452940246118, 0.05086051260105479, 0.05086051260105479, 0.3390700840070319, 0.05086051260105479, 0.15258153780316436, 0.033907008400703195, 0.13562803360281278, 0.033907008400703195, 0.016953504200351598, 0.7860797519901593, 0.10633916023169601, 0.1417855469755947, 0.035446386743898675, 0.42535664092678405, 0.035446386743898675, 0.07089277348779735, 0.07089277348779735, 0.035446386743898675, 0.07089277348779735, 0.035446386743898675, 0.9166338962026317, 0.07960346788000142, 0.07960346788000142, 0.7960346788000141, 0.9170365024330512, 0.9297490415513927, 0.05165272453063293, 0.9622964453866997, 0.08313567876523531, 0.08313567876523531, 0.3681722916746135, 0.05938262768945379, 0.035629576613672276, 0.023753051075781517, 0.11876525537890759, 0.047506102151563034, 0.035629576613672276, 0.15439483199257986, 0.08689762247604191, 0.07448367640803592, 0.12413946068005986, 0.16138129888407782, 0.024827892136011973, 0.1862091910200898, 0.12413946068005986, 0.024827892136011973, 0.1862091910200898, 0.06763252714948767, 0.13526505429897534, 0.06763252714948767, 0.06763252714948767, 0.608692744345389, 0.06763252714948767, 0.08193049413628284, 0.04096524706814142, 0.6144787060221213, 0.08193049413628284, 0.16386098827256568, 0.12222065982485024, 0.06111032991242512, 0.24444131964970048, 0.549992969211826, 0.682864363760335, 0.09755205196576215, 0.09755205196576215, 0.09755205196576215, 0.8717140941837678, 0.9355627564088893, 0.8152185950181333, 0.14152496841432366, 0.12579997192384326, 0.11007497543336284, 0.12055830642701645, 0.07862498245240203, 0.07862498245240203, 0.11007497543336284, 0.06289998596192163, 0.11007497543336284, 0.06289998596192163, 0.9355622068056908, 0.8743026572842463, 0.8227823213915473, 0.9577520241644676, 0.8759683392157606, 0.1338855722095339, 0.6694278610476695, 0.1338855722095339, 0.14975802397612356, 0.5241530839164324, 0.024959670662687262, 0.1247983533134363, 0.07487901198806178, 0.049919341325374525, 0.049919341325374525, 0.024959670662687262, 0.9204405585607415, 0.8432306917696246, 0.12046152739566067, 0.12663533140687996, 0.025327066281375994, 0.06331766570343998, 0.025327066281375994, 0.08864473198481598, 0.17728946396963197, 0.17728946396963197, 0.10130826512550398, 0.05065413256275199, 0.16462593082894397, 0.03291304179033077, 0.03291304179033077, 0.23039129253231538, 0.46078258506463077, 0.03291304179033077, 0.06582608358066154, 0.13165216716132308, 0.03291304179033077, 0.08298916617972366, 0.08298916617972366, 0.8298916617972366, 0.056464246694243325, 0.09410707782373888, 0.18821415564747776, 0.09410707782373888, 0.1505713245179822, 0.03764283112949555, 0.03764283112949555, 0.2258569867769733, 0.13174990895323443, 0.03764283112949555, 0.1024765120891261, 0.8198120967130088, 0.9123602318163624, 0.8984433042974046, 0.8598144888101557, 0.7773090711140482, 0.8655116513635387, 0.07868287739668534, 0.9070864125879503, 0.9500493635730731, 0.16853926521876092, 0.16229707021065867, 0.0436953650567158, 0.16229707021065867, 0.0873907301134316, 0.11860170515394287, 0.06866414508912483, 0.08114853510532934, 0.06866414508912483, 0.03745317004861354, 0.9866033500596733, 0.907086412588097, 0.11015695306017564, 0.13310631828104558, 0.08720758783930571, 0.10556708001600165, 0.13769619132521954, 0.25703289047374317, 0.02753923826504391, 0.04130885739756587, 0.02753923826504391, 0.07343796870678376, 0.9171684435757784, 0.8227823213923522, 0.7860797519901145, 0.9499381033705925, 0.16768828742209746, 0.24314801676204134, 0.11738180119546823, 0.02515324311331462, 0.1509194586798877, 0.07545972933994385, 0.1257662155665731, 0.033537657484419496, 0.041922071855524365, 0.8194698343602359, 0.955896143952318, 0.9123602318162466, 0.09536032309410813, 0.09536032309410813, 0.7628825847528651, 0.09536032309410813, 0.057835178813819624, 0.2313407152552785, 0.11567035762763925, 0.057835178813819624, 0.057835178813819624, 0.5205166093243766, 0.16261361286625917, 0.26018178058601465, 0.16261361286625917, 0.14960452383695844, 0.07805453417580441, 0.026018178058601467, 0.07154998966115404, 0.026018178058601467, 0.03252272257325183, 0.026018178058601467, 0.9171684435757759, 0.0779516984546221, 0.0779516984546221, 0.03897584922731105, 0.19487924613655525, 0.0779516984546221, 0.03897584922731105, 0.3507826430457995, 0.03897584922731105, 0.11692754768193316, 0.05538023824410362, 0.9414640501497614, 0.8770650583168629, 0.9166338962028343, 0.9251458158332246, 0.9563205988567117, 0.850023079245955, 0.8500230792459532, 0.06655123170972485, 0.09150794360087167, 0.17469698323802774, 0.09150794360087167, 0.10814575152830289, 0.2828427347663306, 0.07487013567344046, 0.033275615854862425, 0.04159451981857803, 0.04991342378229364, 0.9355622068056414, 0.8612513408539388, 0.07888718026780075, 0.07888718026780075, 0.8677589829458082, 0.9157402926432809, 0.13672634544575343, 0.8203580726745205, 0.9408672774439235, 0.9373933218320859, 0.9327239985166305, 0.7875005862186587, 0.13125009770310977, 0.8629945319677192, 0.12722590890039023, 0.19879048265685975, 0.18288724404431098, 0.0715645737564695, 0.11132267028784146, 0.06361295445019512, 0.039758096531371946, 0.0715645737564695, 0.09541943167529268, 0.04770971583764634, 0.09873556835417234, 0.21266122414744812, 0.16709096183013783, 0.12911574323237923, 0.09873556835417234, 0.015190087439103437, 0.1594959181105861, 0.05316530603686203, 0.0379752185977586, 0.030380174878206875, 0.9849070393015804, 0.8755247756057155, 0.10041701083993182, 0.9037530975593864, 0.9554934873218467, 0.8805945654330637, 0.7773090711141369, 0.059254887192325495, 0.6518037591155804, 0.059254887192325495, 0.11850977438465099, 0.059254887192325495, 0.8152185950181616, 0.12868785336248725, 0.21447975560414542, 0.22673574163866803, 0.12868785336248725, 0.11030387431070336, 0.03063996508630649, 0.06127993017261298, 0.024511972069045193, 0.049023944138090386, 0.024511972069045193, 0.9500493635732885, 0.12699711190155138, 0.06349855595077569, 0.06349855595077569, 0.412740613680042, 0.22224494582771492, 0.06349855595077569, 0.9499381033706438, 0.025587453777361813, 0.3070494453283418, 0.23028708399625633, 0.05117490755472363, 0.3838118066604272, 0.025587453777361813, 0.9500493635732885, 0.751550252084307, 0.13009281489233918, 0.09756961116925437, 0.23850349396928847, 0.04336427163077972, 0.18429815443081382, 0.02168213581538986, 0.08672854326155945, 0.09756961116925437, 0.04336427163077972, 0.05420533953847465, 0.0644778910576894, 0.7737346926922729, 0.0644778910576894, 0.0322389455288447, 0.0322389455288447, 0.0322389455288447, 0.955493487321964, 0.20017924534274104, 0.6005377360282231, 0.04003584906854821, 0.04003584906854821, 0.08007169813709641, 0.04003584906854821, 0.04274548303781444, 0.5770640210104949, 0.06411822455672166, 0.06411822455672166, 0.08549096607562888, 0.02137274151890722, 0.08549096607562888, 0.06411822455672166, 0.04434009696867205, 0.11824025858312547, 0.10346022626023478, 0.14780032322890685, 0.11824025858312547, 0.0886801939373441, 0.26604058181203233, 0.05912012929156273, 0.04434009696867205, 0.029560064645781366, 0.7930475438600676, 0.08811639376222974, 0.08811639376222974, 0.8931758288879377, 0.9263943301524787, 0.8984433042986318, 0.9554934873210745, 0.2849745787073551, 0.1315267286341639, 0.14248728935367755, 0.14248728935367755, 0.12056616791465023, 0.021921121439027316, 0.06576336431708195, 0.05480280359756829, 0.021921121439027316, 0.021921121439027316, 0.10453884450273901, 0.046461708667884, 0.081307990168797, 0.10453884450273901, 0.081307990168797, 0.25553939767336203, 0.10453884450273901, 0.092923417335768, 0.081307990168797, 0.046461708667884, 0.16959917133815713, 0.10792674539700908, 0.09250863891172208, 0.15803559147419188, 0.13490843174626135, 0.10021769215436557, 0.057817899319826296, 0.0732360058051133, 0.042399792834539284, 0.061672425941148044, 0.8152185780031148, 0.06849176957789846, 0.027396707831159384, 0.178078600902536, 0.2876654322271735, 0.09588847740905784, 0.10958683132463753, 0.05479341566231877, 0.19177695481811569, 0.09751526186199375, 0.1950305237239875, 0.1950305237239875, 0.48757630930996876, 0.8200295161871854, 0.11704736467200406, 0.039015788224001355, 0.6242526115840217, 0.15606315289600542, 0.039015788224001355, 0.957752024164491, 0.0628206766206442, 0.5653860895857977, 0.0314103383103221, 0.0314103383103221, 0.0628206766206442, 0.09423101493096629, 0.0628206766206442, 0.0628206766206442, 0.10157608272015062, 0.20315216544030124, 0.10157608272015062, 0.5078804136007531, 0.05078804136007531, 0.05078804136007531, 0.05078804136007531, 0.8931758363520329, 0.24420995593442504, 0.12210497796721252, 0.6105248898360626, 0.15060724336804618, 0.6024289734721847, 0.22591086505206925, 0.7860797519901086, 0.8759683392157144, 0.7819570926972506, 0.7819570796928097, 0.11883156343214489, 0.06398622646346264, 0.04570444747390188, 0.0365635579791215, 0.2650857953486309, 0.08226800545302339, 0.027422668484341127, 0.06398622646346264, 0.24680401635907015, 0.04570444747390188, 0.11177174056566858, 0.09780027299496, 0.12574320813637715, 0.07684307163889714, 0.11875747435102285, 0.15368614327779428, 0.05588587028283429, 0.09780027299496, 0.08382880542425143, 0.07684307163889714, 0.1761815295908714, 0.7047261183634856, 0.7043630642162483, 0.08804538302703104, 0.17609076605406207, 0.08804538302703104, 0.17778265384048014, 0.09356981781077903, 0.09356981781077903, 0.11228378137293482, 0.08421283602970112, 0.20585359918371385, 0.05614189068646741, 0.08421283602970112, 0.03742792712431161, 0.05614189068646741, 0.13510030746476975, 0.11888827056899738, 0.15671635665913292, 0.12969629516617898, 0.09727222137463422, 0.12429228286758817, 0.0540401229859079, 0.07025215988168028, 0.05944413528449869, 0.05944413528449869, 0.14227540834242447, 0.055672985873122624, 0.19176250689631125, 0.13608952102318864, 0.13608952102318864, 0.1175318590654811, 0.04948709855388678, 0.06804476051159432, 0.04330121123465093, 0.04948709855388678, 0.05057892639384135, 0.2023157055753654, 0.0337192842625609, 0.15173677918152406, 0.0674385685251218, 0.0674385685251218, 0.05057892639384135, 0.05057892639384135, 0.21917534770664587, 0.11801749491896316, 0.11355519574932194, 0.22711039149864387, 0.5677759787466097, 0.9123601924419669, 0.10413474924273872, 0.12273024017894206, 0.12644933836618272, 0.1524830256768674, 0.15992122205134873, 0.06694376737033203, 0.04462917824688802, 0.09669655286825737, 0.06694376737033203, 0.06322466918309136, 0.21426962337635982, 0.06887237894240138, 0.053567405844089956, 0.183659677179737, 0.04591491929493425, 0.1913121637288927, 0.053567405844089956, 0.08417735204071279, 0.030609946196622835, 0.0918298385898685, 0.8194698343638422, 0.8931758363520854, 0.14831516170961936, 0.7415758085480969, 0.08963993657557666, 0.16433988372189057, 0.0672299524316825, 0.20915985200967888, 0.11951991543410222, 0.05975995771705111, 0.08216994186094528, 0.04481996828778833, 0.11204992071947083, 0.05228996300241972, 0.12020650182790128, 0.04006883394263376, 0.18698789173229088, 0.02671255596175584, 0.09349394586614544, 0.1335627798087792, 0.09349394586614544, 0.16027533577053504, 0.0667813899043896, 0.09349394586614544, 0.9459490475623997, 0.8984431783412057, 0.7860797517591432, 0.9171684435757823, 0.13687511906565164, 0.8212507143939097, 0.9123602318162863, 0.03399936402816079, 0.4249920503520099, 0.16999682014080394, 0.08499841007040197, 0.13599745611264316, 0.03399936402816079, 0.08499841007040197, 0.016999682014080395, 0.016999682014080395, 0.21150664204085462, 0.6345199261225639, 0.8227823213919356, 0.9411082201289532, 0.8984433042983119, 0.9065596516619231, 0.1003682195654658, 0.08029457565237264, 0.1003682195654658, 0.09033139760891921, 0.1003682195654658, 0.16058915130474527, 0.060220931739279476, 0.13047868543510555, 0.11040504152201237, 0.07025775369582606, 0.11464842960933111, 0.11464842960933111, 0.8025390072653178, 0.07521996936075416, 0.07521996936075416, 0.2202870531279229, 0.13432137385848958, 0.10745709908679166, 0.03760998468037708, 0.13432137385848958, 0.08059282431509374, 0.0913385342237729, 0.04298283963471666, 0.9123602318162951, 0.7497460244421286, 0.17208164059570152, 0.22944218746093537, 0.37284355462401997, 0.05736054686523384, 0.05736054686523384, 0.02868027343261692, 0.02868027343261692, 0.08604082029785076, 0.6590838606811443, 0.14646308015136542, 0.21969462022704814, 0.9147581308283524, 0.12613479850542578, 0.12613479850542578, 0.01801925692934654, 0.3423658816575843, 0.07207702771738617, 0.01801925692934654, 0.18019256929346542, 0.10811554157607925, 0.01801925692934654, 0.9554934873214571, 0.9191459284334593, 0.06565328060238995, 0.17230398014312956, 0.09845941722464546, 0.061537135765403414, 0.12307427153080683, 0.19691883444929092, 0.18461140729621023, 0.04922970861232273, 0.024614854306161366, 0.04922970861232273, 0.03692228145924205, 0.19950031831315299, 0.09975015915657649, 0.09975015915657649, 0.598500954939459, 0.17721401617674268, 0.7088560647069707, 0.016150682713825134, 0.08075341356912566, 0.12920546171060107, 0.06460273085530054, 0.14535614442442618, 0.08075341356912566, 0.14535614442442618, 0.14535614442442618, 0.03230136542765027, 0.16150682713825132, 0.9411082201289532, 0.07754267099118119, 0.5427986969382683, 0.07754267099118119, 0.11631400648677177, 0.11631400648677177, 0.07754267099118119, 0.03877133549559059, 0.9122687979622074, 0.8743026572844352, 0.16564235849551806, 0.6625694339820722, 0.9554934873214571, 0.9536957862287258, 0.021072085023502368, 0.08428834009400947, 0.30554523284078433, 0.0632162550705071, 0.05268021255875592, 0.021072085023502368, 0.18964876521152133, 0.05268021255875592, 0.010536042511751184, 0.2001848077232725, 0.02247541421365648, 0.06742624264096944, 0.651787012196038, 0.06742624264096944, 0.1123770710682824, 0.02247541421365648, 0.04495082842731296, 0.02247541421365648, 0.10362920648847995, 0.0863576720737333, 0.03454306882949332, 0.12090074090322661, 0.15544380973271993, 0.2590730162211999, 0.03454306882949332, 0.051814603244239976, 0.0863576720737333, 0.051814603244239976, 0.0781954892196394, 0.5082706799276561, 0.0781954892196394, 0.0781954892196394, 0.0390977446098197, 0.0390977446098197, 0.1563909784392788, 0.0390977446098197, 0.0390977446098197, 0.9355622068056488, 0.9373932880289008, 0.8759683392158067, 0.950049363573234, 0.9373932880292923, 0.07717950693669941, 0.5402565485568959, 0.30871802774679763, 0.9554934873219586, 0.8717141101511592, 0.8917539281672077, 0.08505250209595693, 0.17010500419191385, 0.6804200167676554, 0.08505250209595693, 0.14072987289665567, 0.07036493644832784, 0.2110948093449835, 0.4925545551382948, 0.07036493644832784, 0.8363521696452062, 0.8360332991333509, 0.11943332844762156, 0.24095832866350925, 0.06023958216587731, 0.030119791082938656, 0.06023958216587731, 0.06023958216587731, 0.12047916433175462, 0.42167707516114117, 0.030119791082938656, 0.8931758363521894, 0.9586504775495621, 0.8770650583172772, 0.7291198301051972, 0.09721597734735962, 0.09721597734735962, 0.24192794927749284, 0.7257838478324785, 0.9121806856684215, 0.8212211940921325, 0.11300951923909562, 0.31391533121971005, 0.062783066243942, 0.11300951923909562, 0.025113226497576805, 0.08789629274151882, 0.10045290599030722, 0.025113226497576805, 0.125566132487884, 0.08751140022924145, 0.5688241014900695, 0.08751140022924145, 0.043755700114620724, 0.043755700114620724, 0.043755700114620724, 0.1312671003438622, 0.12785652093484046, 0.5114260837393618, 0.12785652093484046, 0.12785652093484046, 0.04261884031161348, 0.1220469964975243, 0.08717642606966021, 0.03487057042786409, 0.05230585564179613, 0.03487057042786409, 0.418446845134369, 0.06974114085572818, 0.017435285213932044, 0.03487057042786409, 0.13948228171145635, 0.15199268293499388, 0.7599634146749693, 0.18723971053976138, 0.7489588421590455, 0.29254498159552905, 0.6826049570562345, 0.8931758363519724, 0.7515502520846031, 0.892377282560899, 0.9563205988569328, 0.9630545781784986, 0.7515502520829815, 0.9355622068057915, 0.906296502708611, 0.25272958817144187, 0.12636479408572093, 0.0842431960571473, 0.14040532676191217, 0.07020266338095608, 0.05616213070476486, 0.0842431960571473, 0.15444585943810338, 0.014040532676191216, 0.014040532676191216, 0.9170365024330636, 0.05606265474129188, 0.19221481625585787, 0.11212530948258376, 0.2562864216744772, 0.04004475338663706, 0.15217006286922083, 0.05606265474129188, 0.08008950677327412, 0.04004475338663706, 0.9123602129590707, 0.8178373095878573, 0.7921267827983732, 0.13202113046639555, 0.07933652689876326, 0.2860923242712978, 0.10097376150751688, 0.11299444740126889, 0.09376134997126569, 0.06971997818376166, 0.14665236790377453, 0.04567860639625764, 0.031253783323755224, 0.028849646145004824, 0.11403833337157503, 0.11403833337157503, 0.7982683336010251, 0.8931758363526106, 0.07887944658948057, 0.13409505920211698, 0.14198300386106502, 0.18931067181475336, 0.13409505920211698, 0.06310355727158445, 0.1262071145431689, 0.08676739124842862, 0.015775889317896113, 0.02366383397684417, 0.8358161551251639, 0.11940230787502341, 0.9251458156205916, 0.9615629416830657, 0.7515502446789234, 0.8194698343606082, 0.21011430389995775, 0.6303429116998732, 0.7490978188294897, 0.14981956376589795, 0.15258191307539995, 0.28609108701637487, 0.07629095653769997, 0.15258191307539995, 0.04768184783606248, 0.07629095653769997, 0.02860910870163749, 0.10490006523933747, 0.05721821740327498, 0.02860910870163749, 0.7819570933200019, 0.7819570933200019, 0.9123602318162466, 0.8194698343602314, 0.09539430703000135, 0.8585487632700121, 0.12948054880283671, 0.12948054880283671, 0.7768832928170203, 0.9583163360468133, 0.8910446704498575, 0.9130549247035565, 0.09130549247035566, 0.8598144888101744, 0.8194698343602359, 0.1535690770475606, 0.6910608467140227, 0.1535690770475606, 0.8743026572841998, 0.06845741902171416, 0.13691483804342833, 0.27382967608685665, 0.06845741902171416, 0.410744514130285, 0.037557218678987266, 0.1690074840554427, 0.037557218678987266, 0.037557218678987266, 0.09389304669746816, 0.1690074840554427, 0.2629005307529108, 0.15022887471594906, 0.056335828018480895, 0.9369336289737167, 0.9065596516619988, 0.9558961439522901, 0.8152185950183631, 0.06796882783493965, 0.06796882783493965, 0.7476571061843362, 0.06796882783493965, 0.06796882783493965, 0.18739815517054145, 0.7495926206821658, 0.9065596516619231, 0.7231912597890423, 0.12053187663150705, 0.12053187663150705, 0.8178373095879611, 0.8363521693248537, 0.957752024164491, 0.957752024164491, 0.8053792627585231, 0.11505418039407474, 0.8984433042985435, 0.09699674933477725, 0.17907092184881954, 0.1641483450280846, 0.037306442051837405, 0.22383865231102443, 0.022383865231102442, 0.09699674933477725, 0.07461288410367481, 0.06715159569330732, 0.022383865231102442, 0.9668726111782259, 0.8227823213918211, 0.08587628672671699, 0.15743985899898114, 0.25762886018015096, 0.07156357227226416, 0.042938143363358494, 0.25762886018015096, 0.042938143363358494, 0.042938143363358494, 0.014312714454452832, 0.042938143363358494, 0.9411082201289532, 0.9411082201289532, 0.8931758363525077, 0.8194698343602314, 0.16657973505843338, 0.13992697744908406, 0.2065588714724574, 0.09994784103506003, 0.10661103043739736, 0.05330551521869868, 0.1332637880467467, 0.046642325816361345, 0.02665275760934934, 0.01332637880467467, 0.950049363572916, 0.054836099680126565, 0.27418049840063285, 0.1645082990403797, 0.10967219936025313, 0.0959631744402215, 0.013709024920031641, 0.17821732396041134, 0.041127074760094924, 0.027418049840063283, 0.027418049840063283, 0.12069698994797518, 0.3620909698439255, 0.18104548492196276, 0.07543561871748448, 0.06034849497398759, 0.030174247486993794, 0.07543561871748448, 0.015087123743496897, 0.06034849497398759, 0.8931758363519724, 0.9171684435758027, 0.09848361061695535, 0.590901663701732, 0.09848361061695535, 0.049241805308477674, 0.049241805308477674, 0.049241805308477674, 0.049241805308477674, 0.874302696862168, 0.751550252084307, 0.9474584920599265, 0.052636582892218134, 0.509218479884508, 0.18186374281589568, 0.07274549712635828, 0.07274549712635828, 0.03637274856317914, 0.03637274856317914, 0.14549099425271655, 0.917036502433037, 0.28216471709122953, 0.6771953210189509, 0.18092658882673704, 0.04523164720668426, 0.1356949416200528, 0.5427797664802112, 0.09046329441336852, 0.0789961758373844, 0.25278776267963005, 0.11059464617233815, 0.031598470334953756, 0.031598470334953756, 0.12639388133981502, 0.2211892923446763, 0.015799235167476878, 0.0789961758373844, 0.06319694066990751, 0.11257329776235593, 0.11257329776235593, 0.12758307079733672, 0.13508795731482712, 0.09756352472737514, 0.07504886517490396, 0.15009773034980792, 0.06003909213992316, 0.10506841124486553, 0.03001954606996158, 0.8152185780031148, 0.8227823213915473, 0.8743026572845445, 0.08253869165925064, 0.6603095332740051, 0.16507738331850128, 0.08253869165925064, 0.13925164665459064, 0.05570065866183625, 0.04177549399637719, 0.09747615265821345, 0.1114013173236725, 0.13925164665459064, 0.1114013173236725, 0.16710197598550877, 0.04177549399637719, 0.09747615265821345, 0.11569271682884343, 0.10329706859718163, 0.049582592926647184, 0.053714475670534445, 0.21898978542602507, 0.07850577213385804, 0.0826376548777453, 0.0826376548777453, 0.14874777877994155, 0.0702420066460835, 0.9070864125880028, 0.07566908633221961, 0.17025544424749411, 0.07566908633221961, 0.07566908633221961, 0.0567518147491647, 0.0945863579152745, 0.30267634532887844, 0.0567518147491647, 0.07566908633221961, 0.05768549605970229, 0.4845581669014992, 0.034611297635821374, 0.11537099211940458, 0.12690809133134504, 0.011537099211940459, 0.11537099211940458, 0.011537099211940459, 0.023074198423880917, 0.1103806735066958, 0.044152269402678315, 0.044152269402678315, 0.044152269402678315, 0.13245680820803496, 0.13245680820803496, 0.022076134701339158, 0.4415226940267832, 0.09159849022350454, 0.20433509357551013, 0.14796679189950734, 0.14796679189950734, 0.09159849022350454, 0.0422762262570021, 0.140920754190007, 0.06341433938550314, 0.0563683016760028, 0.02113811312850105, 0.09055676777536899, 0.271670303326107, 0.49806222276452944, 0.045278383887684494, 0.045278383887684494, 0.045278383887684494, 0.9263943301525767, 0.917168443575802, 0.8500230792459764, 0.8651696968929283, 0.8743026572846229, 0.6947055295825276, 0.06616243138881216, 0.03308121569440608, 0.06616243138881216, 0.03308121569440608, 0.09924364708321823, 0.03308121569440608, 0.13362046544716719, 0.668102327235836, 0.13362046544716719, 0.9500493635732885, 0.038227177790113434, 0.15290871116045374, 0.13379512226539703, 0.17202230005551045, 0.07645435558022687, 0.05734076668517015, 0.1146815333703403, 0.019113588895056717, 0.07645435558022687, 0.17202230005551045, 0.6646966430377262, 0.08308708037971578, 0.08308708037971578, 0.08308708037971578, 0.9558961439535565, 0.21728691134500572, 0.6518607340350172, 0.8931758363519724, 0.9260449296116126, 0.9500493635727322, 0.9087728706083363, 0.9554934873220725, 0.8923772825607001, 0.10390409668872158, 0.10390409668872158, 0.7273286768210511, 0.9065596322589856, 0.8931758367263736, 0.875576641524732, 0.1094470801905915, 0.15731967319538792, 0.07865983659769396, 0.7865983659769397, 0.9373932814284208, 0.08917798691370418, 0.148629978189507, 0.08917798691370418, 0.20808196946530977, 0.17835597382740837, 0.029725995637901396, 0.029725995637901396, 0.23780796510321117, 0.8722604939759392, 0.1090325617469924, 0.0763356487348896, 0.0763356487348896, 0.1526712974697792, 0.6106851898791168, 0.0763356487348896, 0.10793999754874617, 0.1686562461699159, 0.08095499816155963, 0.10119374770194953, 0.16190999632311925, 0.06746249846796636, 0.12143249724233944, 0.08770124800835626, 0.08095499816155963, 0.020238749540389907, 0.9070864125879503, 0.9070864125879503, 0.9093460402958173, 0.9170365024330482, 0.8770650583170144, 0.8612540954906963, 0.08333062862727744, 0.0705105319153886, 0.16025120889861047, 0.06410048355944419, 0.13461101547483278, 0.1794813539664437, 0.0705105319153886, 0.09615072533916628, 0.08333062862727744, 0.04487033849161093, 0.10106840187475885, 0.15160260281213828, 0.1313889224371865, 0.12633550234344856, 0.09096156168728296, 0.12633550234344856, 0.08590814159354503, 0.04548078084364148, 0.07580130140606914, 0.07074788131233119, 0.1295541078723387, 0.09144995849812144, 0.10669161824780835, 0.1143124481226518, 0.12193327799749526, 0.15241659749686906, 0.07620829874843453, 0.07620829874843453, 0.09144995849812144, 0.05334580912390417, 0.9558962140748748, 0.8931758363547043, 0.9170365024330942, 0.955493487321964, 0.9123602318162765, 0.09165258102315943, 0.09165258102315943, 0.09165258102315943, 0.641568067162116, 0.09165258102315943, 0.0716612024616546, 0.0358306012308273, 0.29688212448399764, 0.05630523050558576, 0.0358306012308273, 0.1382037476046196, 0.07677985978034421, 0.04606791586820653, 0.20474629274758457, 0.0358306012308273, 0.12711703988107315, 0.08474469325404878, 0.04237234662702439, 0.08474469325404878, 0.12711703988107315, 0.04237234662702439, 0.3813511196432195, 0.08474469325404878, 0.04237234662702439, 0.7819570926969621, 0.037495504974148136, 0.4124505547156295, 0.1312342674095185, 0.11248651492244441, 0.1312342674095185, 0.018747752487074068, 0.07499100994829627, 0.018747752487074068, 0.018747752487074068, 0.3456044820011922, 0.10894054323950624, 0.10894054323950624, 0.12396682506564502, 0.05259198639148577, 0.10894054323950624, 0.06010512730455517, 0.015026281826138792, 0.045078845478416375, 0.033809134108812276, 0.1664085750724677, 0.11746487652174191, 0.10767613681159675, 0.04894369855072579, 0.08809865739130643, 0.2153522736231935, 0.07830991768116127, 0.029366219130435477, 0.09788739710145158, 0.058732438260870955, 0.04968407738647231, 0.943997470342974, 0.11380342717512128, 0.05690171358756064, 0.05690171358756064, 0.796623990225849, 0.8770650583166585, 0.16969192560347487, 0.08484596280173744, 0.16969192560347487, 0.08484596280173744, 0.08484596280173744, 0.4242298140086872, 0.12130448420549121, 0.10513055297809239, 0.19408717472878595, 0.12130448420549121, 0.15365234666028887, 0.032347862454797656, 0.09704358736439297, 0.10513055297809239, 0.04043482806849707, 0.024260896841098244, 0.8363522434146341, 0.1416954443159736, 0.11133213481969356, 0.09108992848884019, 0.06072661899256013, 0.10121103165426687, 0.04048441266170675, 0.11133213481969356, 0.161937650646827, 0.0809688253234135, 0.09108992848884019, 0.926692067310009, 0.8984433042975868, 0.13382956104284255, 0.13382956104284255, 0.07434975613491253, 0.23791921963172008, 0.10408965858887753, 0.04460985368094752, 0.10408965858887753, 0.05947980490793002, 0.08921970736189504, 0.02973990245396501, 0.9500493635729624, 0.956619880305471, 0.26806330575622905, 0.10722532230249163, 0.6433519338149497, 0.8552114516822492, 0.907086412587987, 0.8552114677313974, 0.5587290797907372, 0.4063484216659906, 0.15096227953964683, 0.03774056988491171, 0.05032075984654895, 0.07548113976982342, 0.11322170965473513, 0.1383820895780096, 0.2012830393861958, 0.07548113976982342, 0.08806132973146065, 0.05032075984654895, 0.09317862443174353, 0.059900544277549414, 0.11314547252426001, 0.06655616030838823, 0.17304601680180942, 0.08652300840090471, 0.11314547252426001, 0.07321177633922706, 0.13311232061677647, 0.08652300840090471, 0.1755600973140591, 0.0888376396047046, 0.10575909476750549, 0.09306800339540483, 0.07826173012795407, 0.14383236888380746, 0.09095282150005472, 0.08249209391865428, 0.0888376396047046, 0.052879547383752744, 0.13702930389274157, 0.07406989399607651, 0.06666290459646887, 0.07036639929627268, 0.14813978799215302, 0.19628521908960278, 0.049997178447351645, 0.07592164134597842, 0.085180378095488, 0.09443911484499756, 0.13194012807209854, 0.09235808965046897, 0.07916407684325912, 0.08576108324686404, 0.11874611526488868, 0.15832815368651823, 0.1253431216684936, 0.09235808965046897, 0.07916407684325912, 0.04617904482523449, 0.07160349361239117, 0.2352686218692853, 0.18923780454703382, 0.15343605774083824, 0.07671802887041912, 0.06137442309633529, 0.07160349361239117, 0.056259887838307356, 0.035801746806195585, 0.04603081732225147, 0.7976907607428428, 0.13294846012380712, 0.15187151691218292, 0.7593575845609146, 0.7860797519901008, 0.9733588318385075, 0.16204466480227456, 0.10802977653484971, 0.18004962755808285, 0.05401488826742486, 0.09002481377904142, 0.27007444133712427, 0.03600992551161657, 0.05401488826742486, 0.03600992551161657, 0.8743026572845445, 0.0780265045990041, 0.4057378239148213, 0.046815902759402464, 0.046815902759402464, 0.01560530091980082, 0.06242120367920328, 0.20286891195741066, 0.0780265045990041, 0.046815902759402464, 0.01560530091980082, 0.9065596516621033, 0.9263943301525723, 0.1519926841014542, 0.759963420507271, 0.874302696862168, 0.7565602566231122, 0.15131205132462244, 0.16923127797216525, 0.7615407508747436, 0.08461563898608263, 0.7860797519901253, 0.9524772307968957, 0.9689536158467046, 0.7764806028775032, 0.07764806028775031, 0.07764806028775031, 0.07764806028775031, 0.8598144906712976, 0.8500230792459499, 0.777309071114133, 0.9500493635732885, 0.8403828023249881, 0.13366582087180953, 0.26733164174361906, 0.09253787598817584, 0.11310184842999269, 0.11310184842999269, 0.12338383465090111, 0.11310184842999269, 0.020563972441816854, 0.020563972441816854, 0.010281986220908427, 0.1657477731539241, 0.8287388657696206, 0.05303270583281292, 0.7424578816593809, 0.10606541166562584, 0.10606541166562584, 0.05303270583281292, 0.487164042165711, 0.03747415708967008, 0.07494831417934016, 0.03747415708967008, 0.11242247126901024, 0.03747415708967008, 0.07494831417934016, 0.11242247126901024, 0.03747415708967008, 0.11286422548839499, 0.7900495784187649, 0.9070864125879503, 0.8984433042986318, 0.9517770915282354, 0.22117584319669378, 0.11058792159834689, 0.027646980399586723, 0.3594107451946274, 0.055293960799173446, 0.027646980399586723, 0.19352886279710704, 0.893175836351859, 0.9563205992794037, 0.8743026601484978, 0.9373932880302195, 0.14829148726738897, 0.1359338633284399, 0.3583710942295234, 0.09886099151159265, 0.06178811969474541, 0.03707287181684724, 0.024715247877898163, 0.024715247877898163, 0.049430495755796326, 0.03707287181684724, 0.07759903707672071, 0.12748413234032688, 0.08314182543934362, 0.22171153450491632, 0.09422740216458944, 0.1330269207029498, 0.07205624871409781, 0.011085576725245816, 0.14965528579081852, 0.02771394181311454, 0.09708165088190933, 0.873734857937184, 0.08034504251855278, 0.433863229600185, 0.09641405102226333, 0.03213801700742111, 0.06427603401484222, 0.048207025511131665, 0.1767590935408161, 0.016069008503710555, 0.03213801700742111, 0.03213801700742111, 0.20979532780888155, 0.04662118395752923, 0.3962800636389985, 0.04662118395752923, 0.16317414385135232, 0.09324236791505847, 0.09324236791505847, 0.7899167958986535, 0.13165279931644225, 0.9373933137090098, 0.9171684435757798, 0.0524780514227445, 0.104956102845489, 0.07871707713411676, 0.02623902571137225, 0.13119512855686125, 0.07871707713411676, 0.104956102845489, 0.314868308536467, 0.104956102845489, 0.8759683392157672, 0.424824316497427, 0.03267879357672516, 0.06535758715345032, 0.16339396788362578, 0.03267879357672516, 0.09803638073017547, 0.13071517430690063, 0.03267879357672516, 0.9827814755320066, 0.9500493635731978, 0.10456942219129967, 0.11950791107577105, 0.20166959994036365, 0.08963093330682828, 0.07469244442235691, 0.059753955537885525, 0.11950791107577105, 0.059753955537885525, 0.04481546665341414, 0.12697715551800673, 0.17634459248982481, 0.7053783699592993, 0.8612541957452879, 0.7773089993371831, 0.8194698343604866, 0.9373932880297875, 0.979228746157633, 0.892377282560899, 0.9500493635732885, 0.04357900655719373, 0.029052671038129155, 0.08715801311438746, 0.15978969070971036, 0.04357900655719373, 0.05810534207625831, 0.15978969070971036, 0.2614740393431624, 0.029052671038129155, 0.1307370196715812, 0.9500493635729454, 0.8227823213916866, 0.1578035824320662, 0.789017912160331, 0.840382796938036, 0.3155724500660076, 0.24913614478895335, 0.049827228957790674, 0.14948168687337202, 0.049827228957790674, 0.049827228957790674, 0.049827228957790674, 0.016609076319263557, 0.049827228957790674, 0.016609076319263557, 0.9170365024331343, 0.7515502520846031, 0.06291119984036034, 0.22368426609905898, 0.11184213304952949, 0.08388159978714711, 0.0908717331027427, 0.13980266631191185, 0.11184213304952949, 0.055921066524764744, 0.06990133315595592, 0.04893093320916915, 0.9373932880321739, 0.875968339215826, 0.09682390976365944, 0.46475476686556527, 0.05809434585819566, 0.05809434585819566, 0.09682390976365944, 0.07745912781092755, 0.09682390976365944, 0.05809434585819566, 0.9170365024330343, 0.893175836351859, 0.18738083330845762, 0.09369041665422881, 0.6558329165796016, 0.8552114677314046, 0.780034544384014, 0.12000531452061754, 0.12000531452061754, 0.7688993331242928, 0.20969981812480715, 0.8984431783412057, 0.9627726703778777, 0.09478611612829878, 0.09478611612829878, 0.04739305806414939, 0.6635028128980914, 0.04739305806414939, 0.04739305806414939, 0.04739305806414939, 0.16590633774050165, 0.6636253509620066, 0.10445741185438664, 0.10445741185438664, 0.7312018829807065, 0.9558962140748746, 0.7894519745560956, 0.1315753290926826, 0.12124754867555645, 0.8487328407288952, 0.8759683392157144, 0.8152185780031148, 0.05908931239574405, 0.43332162423545634, 0.2954465619787202, 0.04924109366312004, 0.04924109366312004, 0.019696437465248014, 0.029544656197872023, 0.019696437465248014, 0.03939287493049603, 0.8759683392157606, 0.8977584950030201, 0.8977584950030201, 0.1307379831316749, 0.7844278987900494, 0.8917539281671035, 0.8363521693246776, 0.9170365024330422, 0.8500230792459248, 0.9298480856244229, 0.08201676485613081, 0.041008382428065406, 0.49210058913678484, 0.08201676485613081, 0.041008382428065406, 0.16403352971226162, 0.12302514728419621, 0.8363521696452062, 0.1727573475065301, 0.6046507162728554, 0.1727573475065301, 0.01918309777613922, 0.1918309777613922, 0.07673239110455687, 0.01918309777613922, 0.4795774444034805, 0.05754929332841766, 0.05754929332841766, 0.0959154888806961, 0.07899427940576867, 0.07899427940576867, 0.07899427940576867, 0.6319542352461494, 0.07899427940576867, 0.07899427940576867, 0.08273309005694916, 0.45503199531322036, 0.41366545028474583, 0.8984433042988168, 0.938716334577035, 0.7515501657589188, 0.9355622068056481, 0.9123602318163245, 0.7773090711140482, 0.979228746157405, 0.8159344192569802, 0.10199180240712252, 0.07993458916849373, 0.7993458916849373, 0.07993458916849373, 0.9157399518927273, 0.054057926751755365, 0.07207723566900714, 0.07207723566900714, 0.09009654458625893, 0.1261351624207625, 0.1261351624207625, 0.18019308917251786, 0.054057926751755365, 0.03603861783450357, 0.18019308917251786, 0.8598144812941256, 0.893175836351859, 0.15489415583956873, 0.11448698475098558, 0.094283399206694, 0.10775245623622172, 0.094283399206694, 0.10101792772145786, 0.13469057029527715, 0.08754887069193015, 0.047141699603347, 0.06061075663287472, 0.892377282560899, 0.9519047696804664, 0.9500493635732429, 0.7630215763238737, 0.09537769704048421, 0.09537769704048421, 0.09537769704048421, 0.8984433042967788, 0.9792287812279631, 0.08550898198233821, 0.08550898198233821, 0.6413173648675367, 0.08550898198233821, 0.08550898198233821, 0.042754490991169104, 0.8500230792461363, 0.8977584950029449, 0.12393564724809596, 0.6816460598645278, 0.18590347087214396, 0.8931758363522472, 0.7077624732564174, 0.09436832976752232, 0.04718416488376116, 0.04718416488376116, 0.09436832976752232, 0.04718416488376116, 0.12288478153792941, 0.12288478153792941, 0.7373086892275764, 0.40339698446824923, 0.07059447228194361, 0.050424623058531154, 0.06050954767023738, 0.131104019952181, 0.20169849223412462, 0.040339698446824925, 0.010084924611706231, 0.03025477383511869, 0.7107821384032658, 0.08884776730040822, 0.08884776730040822, 0.08884776730040822, 0.20766893634223277, 0.10383446817111638, 0.6230068090266984, 0.781957092697187, 0.04196340100092768, 0.1573627537534788, 0.262271256255798, 0.1573627537534788, 0.08392680200185536, 0.0524542512511596, 0.16785360400371072, 0.04196340100092768, 0.01049085025023192, 0.02098170050046384, 0.9355622174361387, 0.8984433042975397, 0.9355622068056962, 0.917168443575793, 0.21157943651587427, 0.10187158054468021, 0.13321668225073566, 0.10187158054468021, 0.03134510170605545, 0.13321668225073566, 0.07052647883862476, 0.09403530511816634, 0.07836275426513861, 0.039181377132569306, 0.10680230094765376, 0.07394005450222184, 0.06572449289086385, 0.032862246445431925, 0.19717347867259158, 0.19717347867259158, 0.09858673933629579, 0.07394005450222184, 0.016431123222715963, 0.14788010900444368, 0.1262710262024924, 0.1262710262024924, 0.05827893517038111, 0.1262710262024924, 0.17483680551114333, 0.11655787034076222, 0.07770524689384148, 0.1262710262024924, 0.05827893517038111, 0.029139467585190554, 0.12269259198450914, 0.12269259198450914, 0.12802705250557475, 0.0746824472949186, 0.1066892104213123, 0.10135474990024668, 0.06401352625278738, 0.1120236709423779, 0.05334460521065615, 0.11735813146344352, 0.18330074139334646, 0.1640059265098363, 0.09647407441755076, 0.12541629674281599, 0.08682666697579569, 0.08682666697579569, 0.08682666697579569, 0.06753185209228553, 0.06753185209228553, 0.0385896297670203, 0.10816563820148897, 0.10816563820148897, 0.10816563820148897, 0.6489938292089339, 0.03183293029493853, 0.19099758176963116, 0.17508111662216191, 0.04774939544240779, 0.5252433498664857, 0.015916465147469264, 0.015916465147469264, 0.9355622068061952, 0.6911202889997335, 0.1842987437332623, 0.046074685933315575, 0.09214937186663115, 0.09852321415912059, 0.14285866053072485, 0.09852321415912059, 0.049261607079560295, 0.16256330336254898, 0.039409285663648236, 0.12315401769890075, 0.1330063391148128, 0.09852321415912059, 0.059113928495472354, 0.9500493635732583, 0.14074655483185136, 0.2502160974788469, 0.05473477132349775, 0.09383103655456757, 0.04691551827728378, 0.10165028960078154, 0.0860117835083536, 0.06255402436971172, 0.06255402436971172, 0.10165028960078154, 0.19258350667496357, 0.0740705794903706, 0.38516701334992715, 0.059256463592296485, 0.014814115898074121, 0.029628231796148242, 0.059256463592296485, 0.014814115898074121, 0.059256463592296485, 0.10369881128651884, 0.14263400042072513, 0.8558040025243507, 0.8977584950028639, 0.9373932880290015, 0.7819570926969838, 0.22735929838748706, 0.7957575443562047, 0.9844434358843298, 0.9123602318162174, 0.11104954891625354, 0.11104954891625354, 0.08883963913300283, 0.044419819566501414, 0.08883963913300283, 0.08883963913300283, 0.08883963913300283, 0.31093873696550994, 0.06662972934975213, 0.022209909783250707, 0.8212211940921325, 0.024664429054538896, 0.38640938852110934, 0.03288590540605186, 0.03288590540605186, 0.2877516723029538, 0.09865771621815558, 0.09043623986664262, 0.04110738175756482, 0.062446345430427645, 0.18405238653178677, 0.14789923917732864, 0.13803928989884007, 0.13475264013934388, 0.06573299518992384, 0.1216060411013591, 0.0821662439874048, 0.023006548316473346, 0.03615314735445811, 0.957752024164491, 0.12133725726482444, 0.19645079747638244, 0.11555929263316614, 0.10400336336984953, 0.13289318652814106, 0.07511354021155799, 0.0808915048432163, 0.07511354021155799, 0.052001681684924764, 0.04622371705326646, 0.9170365024334108, 0.11288646136044601, 0.7902052295231221, 0.907086412587919, 0.8152185950180092, 0.7773090711142, 0.8743026572845528, 0.1134597458731344, 0.0567298729365672, 0.0567298729365672, 0.567298729365672, 0.0567298729365672, 0.0567298729365672, 0.1134597458731344, 0.8734805301040404], \"Term\": [\"amp\", \"amp\", \"amp\", \"amp\", \"amp\", \"amp\", \"apos\", \"apos\", \"apos\", \"apos\", \"apos\", \"apos\", \"\\uac00\\ub2a5\", \"\\uac00\\ub2a5\", \"\\uac00\\ub2a5\", \"\\uac00\\ub2a5\", \"\\uac00\\ub2a5\", \"\\uac00\\ub2a5\", \"\\uac00\\ub2a5\", \"\\uac00\\ub2a5\", \"\\uac00\\ub2a5\", \"\\uac00\\ub2a5\", \"\\uac00\\ub2a5\\ud569\\ub2c8\\ub2e4\", \"\\uac00\\ub2a5\\ud569\\ub2c8\\ub2e4\", \"\\uac00\\ub2a5\\ud569\\ub2c8\\ub2e4\", \"\\uac00\\ub2a5\\ud569\\ub2c8\\ub2e4\", \"\\uac00\\ub2a5\\ud569\\ub2c8\\ub2e4\", \"\\uac00\\ub2a5\\ud569\\ub2c8\\ub2e4\", \"\\uac00\\ub2a5\\ud569\\ub2c8\\ub2e4\", \"\\uac00\\ub2a5\\ud569\\ub2c8\\ub2e4\", \"\\uac00\\ub2a5\\ud569\\ub2c8\\ub2e4\", \"\\uac00\\ub2a5\\ud569\\ub2c8\\ub2e4\", \"\\uac00\\uc785\\uc790\\uac00\", \"\\uac04\\ubd09\", \"\\uac04\\ud638\", \"\\uac10\\uc0ac\\ub4dc\\ub9bd\\ub2c8\\ub2e4\", \"\\uac10\\uc0ac\\ub4dc\\ub9bd\\ub2c8\\ub2e4\", \"\\uac10\\uc0ac\\ub4dc\\ub9bd\\ub2c8\\ub2e4\", \"\\uac10\\uc0ac\\ub4dc\\ub9bd\\ub2c8\\ub2e4\", \"\\uac10\\uc0ac\\ub4dc\\ub9bd\\ub2c8\\ub2e4\", \"\\uac10\\uc0ac\\ub4dc\\ub9bd\\ub2c8\\ub2e4\", \"\\uac10\\uc0ac\\ub4dc\\ub9bd\\ub2c8\\ub2e4\", \"\\uac10\\uc0ac\\ub4dc\\ub9bd\\ub2c8\\ub2e4\", \"\\uac15\\uc5f0\", \"\\uac15\\uc5f0\", \"\\uac15\\uc5f0\", \"\\uac15\\uc5f0\", \"\\uac15\\uc88c\", \"\\uac15\\uc88c\", \"\\uac15\\uc88c\", \"\\uac15\\uc88c\", \"\\uac19\\uc740\", \"\\uac19\\uc740\", \"\\uac19\\uc740\", \"\\uac19\\uc740\", \"\\uac19\\uc740\", \"\\uac19\\uc740\", \"\\uac19\\uc740\", \"\\uac19\\uc740\", \"\\uac19\\uc740\", \"\\uac19\\uc740\", \"\\uac1c\\ubc1c\\uc81c\\ud55c\\uad6c\\uc5ed\\ub0b4\", \"\\uac1c\\uc120\", \"\\uac1c\\uc120\", \"\\uac1c\\uc120\", \"\\uac1c\\uc120\", \"\\uac1c\\uc120\", \"\\uac1c\\uc120\", \"\\uac1c\\uc120\", \"\\uac1c\\uc120\", \"\\uac1c\\uc120\", \"\\uac1c\\uc120\", \"\\uac1c\\uc6d4\\ub9c8\\ub2e4\", \"\\uac1c\\uc778\\ud68c\\uc0dd\", \"\\uac1c\\uc778\\ud68c\\uc0dd\", \"\\uac1c\\uc778\\ud68c\\uc0dd\", \"\\uac74\\uac15\\uccb4\\uc911\", \"\\uac74\\uc124\\uae30\\uc220\\uad00\\ub9ac\\ubc95\\uc5d0\", \"\\uac74\\uc124\\uae30\\uc220\\uad00\\ub9ac\\ubc95\\uc5d0\", \"\\uac74\\uc124\\uae30\\uc220\\uc790\", \"\\uac74\\ucd95\\ubb3c\", \"\\uac74\\ucd95\\ubb3c\", \"\\uac74\\ucd95\\ubb3c\", \"\\uac74\\ucd95\\ubb3c\", \"\\uac74\\ucd95\\ubb3c\", \"\\uac74\\ucd95\\ubb3c\", \"\\uac74\\ucd95\\ubb3c\", \"\\uac74\\ucd95\\ubb3c\", \"\\uac74\\ucd95\\ubb3c\", \"\\uac74\\ucd95\\ubb3c\", \"\\uac74\\ucd95\\ubb3c\\uc758\", \"\\uac74\\ucd95\\ubb3c\\uc758\", \"\\uac74\\ucd95\\ubb3c\\uc758\", \"\\uac74\\ucd95\\ubb3c\\uc758\", \"\\uac74\\ucd95\\ubb3c\\uc758\", \"\\uac74\\ucd95\\ubb3c\\uc758\", \"\\uac74\\ucd95\\ubb3c\\uc758\", \"\\uac74\\ucd95\\ubb3c\\uc758\", \"\\uac74\\ucd95\\ubb3c\\uc758\", \"\\uac74\\ucd95\\uc704\\uc6d0\\ud68c\", \"\\uac74\\ucd95\\uc704\\uc6d0\\ud68c\", \"\\uac74\\ucd95\\uc704\\uc6d0\\ud68c\", \"\\uac74\\ucd95\\uc704\\uc6d0\\ud68c\", \"\\uac74\\ucd95\\uc704\\uc6d0\\ud68c\", \"\\uac74\\ucd95\\uc704\\uc6d0\\ud68c\", \"\\uac74\\ucd95\\ud558\\ub294\", \"\\uac74\\ucd95\\ud558\\ub294\", \"\\uac74\\ucd95\\ud558\\ub294\", \"\\uac74\\ucd95\\ud558\\ub294\", \"\\uac74\\ucd95\\ud558\\ub294\", \"\\uac77\\uae30\", \"\\uac77\\uae30\", \"\\uac77\\uae30\", \"\\uac77\\uae30\", \"\\uac8c\\uc2dc\\ubb3c\", \"\\uac8c\\uc2dc\\ubb3c\", \"\\uac8c\\uc2dc\\ubb3c\", \"\\uac8c\\uc2dc\\ubb3c\", \"\\uac8c\\uc2dc\\uc6a9\", \"\\uacb0\\uacfc\\ubc1c\\ud45c\", \"\\uacb8\\uc9c1\\ud5c8\\uac00\", \"\\uacbd\\uc6b0\\uc5d0\\ub294\", \"\\uacbd\\uc6b0\\uc5d0\\ub294\", \"\\uacbd\\uc6b0\\uc5d0\\ub294\", \"\\uacbd\\uc6b0\\uc5d0\\ub294\", \"\\uacbd\\uc6b0\\uc5d0\\ub294\", \"\\uacbd\\uc6b0\\uc5d0\\ub294\", \"\\uacbd\\uc6b0\\uc5d0\\ub294\", \"\\uacbd\\uc6b0\\uc5d0\\ub294\", \"\\uacbd\\uc6b0\\uc5d0\\ub294\", \"\\uacbd\\uc6b0\\uc5d0\\ub294\", \"\\uacbd\\uc804\\ucca0\", \"\\uacbd\\uc804\\ucca0\\uc740\", \"\\uace0\\uc555\\uac00\\uc2a4\\ucda9\\uc804\", \"\\uace0\\uc6b4\\ub9d8\", \"\\uace0\\uc9c0\\uba85\\ub839\", \"\\uacf3\\uc784\", \"\\uacf3\\uc784\", \"\\uacf3\\uc784\", \"\\uacf5\\uace0\", \"\\uacf5\\uace0\", \"\\uacf5\\uace0\", \"\\uacf5\\uace0\", \"\\uacf5\\uace0\", \"\\uacf5\\uace0\", \"\\uacf5\\uace0\", \"\\uacf5\\uace0\", \"\\uacf5\\uacf5\\uc6a9\\uc2dc\\uc124\", \"\\uacf5\\uad00\", \"\\uacf5\\uad00\", \"\\uacf5\\ubb34\\uc6d0\", \"\\uacf5\\ubb34\\uc6d0\", \"\\uacf5\\ubb34\\uc6d0\", \"\\uacf5\\ubb34\\uc6d0\", \"\\uacf5\\ubb34\\uc6d0\", \"\\uacf5\\ubb34\\uc6d0\", \"\\uacf5\\ubb34\\uc6d0\", \"\\uacf5\\ubb34\\uc6d0\", \"\\uacf5\\ubb34\\uc6d0\", \"\\uacf5\\ubb34\\uc6d0\", \"\\uacf5\\ubb34\\uc6d0\\uc740\", \"\\uacf5\\ubb34\\uc6d0\\uc740\", \"\\uacf5\\ubb34\\uc6d0\\uc740\", \"\\uacf5\\ubb34\\uc6d0\\uc740\", \"\\uacf5\\ubb34\\uc6d0\\uc740\", \"\\uacf5\\ubb34\\uc6d0\\uc740\", \"\\uacf5\\ubb34\\uc6d0\\uc740\", \"\\uacf5\\ubb34\\uc6d0\\uc740\", \"\\uacf5\\ubd80\\ubc29\", \"\\uacf5\\ubd80\\ubc29\", \"\\uacf5\\ubd80\\ubc29\", \"\\uacf5\\uc0ac\", \"\\uacf5\\uc0ac\", \"\\uacf5\\uc0ac\", \"\\uacf5\\uc0ac\", \"\\uacf5\\uc0ac\", \"\\uacf5\\uc0ac\", \"\\uacf5\\uc0ac\", \"\\uacf5\\uc0ac\", \"\\uacf5\\uc0ac\", \"\\uacf5\\uc0ac\", \"\\uacf5\\uc601\\ucc28\\uace0\\uc9c0\", \"\\uacf5\\uc601\\ucc28\\uace0\\uc9c0\", \"\\uacf5\\uc7a5\\uac74\\ucd95\", \"\\uacf5\\uc801\\uc7ac\\uc0b0\", \"\\uacf5\\uc81c\\ud68c\", \"\\uad00\\uad11\\ubb38\\ud654\\uacfc\", \"\\uad00\\uad11\\ubc84\\uc2a4\", \"\\uad00\\uad11\\ubc84\\uc2a4\", \"\\uad00\\uad11\\uc0b0\\uc5c5\\uacfc\", \"\\uad00\\uad11\\ud638\\ud154\", \"\\uad00\\ub828\", \"\\uad00\\ub828\", \"\\uad00\\ub828\", \"\\uad00\\ub828\", \"\\uad00\\ub828\", \"\\uad00\\ub828\", \"\\uad00\\ub828\", \"\\uad00\\ub828\", \"\\uad00\\ub828\", \"\\uad00\\ub828\", \"\\uad00\\ub828\\uc885\\ubaa9\\uc758\", \"\\uad00\\uc545\\uc81c\", \"\\uad00\\ud55c\", \"\\uad00\\ud55c\", \"\\uad00\\ud55c\", \"\\uad00\\ud55c\", \"\\uad00\\ud55c\", \"\\uad00\\ud55c\", \"\\uad00\\ud55c\", \"\\uad00\\ud55c\", \"\\uad00\\ud55c\", \"\\uad00\\ud55c\", \"\\uad00\\ud560\\uc9c0\", \"\\uad11\\uc9c4\\uad50\", \"\\uad11\\ud654\\ubb38\\uc2dc\\ubbfc\\uc5f4\\ub9b0\\ub9c8\\ub2f9\", \"\\uad50\\ubcf5\", \"\\uad50\\uc721\", \"\\uad50\\uc721\", \"\\uad50\\uc721\", \"\\uad50\\uc721\", \"\\uad50\\uc721\", \"\\uad50\\uc721\", \"\\uad50\\uc721\", \"\\uad50\\uc721\", \"\\uad50\\uc721\", \"\\uad50\\uc721\\uae09\\uc5ec\", \"\\uad50\\uc721\\uc5f0\\uad6c\", \"\\uad50\\ucc28\\ub85c\\uc788\\uc74c\", \"\\uad50\\ud658\", \"\\uad50\\ud658\", \"\\uad50\\ud658\", \"\\uad50\\ud658\", \"\\uad6c\\ub9e4\", \"\\uad6c\\ub9e4\", \"\\uad6c\\ub9e4\", \"\\uad6c\\ub9e4\", \"\\uad6c\\ub9e4\", \"\\uad6c\\ub9e4\", \"\\uad6c\\ubd84\", \"\\uad6c\\ubd84\", \"\\uad6c\\ubd84\", \"\\uad6c\\ubd84\", \"\\uad6c\\ubd84\", \"\\uad6c\\ubd84\", \"\\uad6c\\ubd84\", \"\\uad6c\\ubd84\", \"\\uad6c\\ubd84\", \"\\uad6c\\ubd84\", \"\\uad6c\\uc758\\uc544\\ub9ac\\uc218\\uc815\\uc218\\uc13c\\ud130\", \"\\uad6c\\uc815\\uc5d0\", \"\\uad6c\\uc815\\uc5d0\", \"\\uad6c\\uc815\\uc5d0\", \"\\uad6c\\uc815\\uc5d0\", \"\\uad6c\\uc815\\uc5d0\", \"\\uad6c\\uc815\\uc5d0\", \"\\uad6c\\uc815\\uc5d0\", \"\\uad6c\\uc815\\uc5d0\", \"\\uad6c\\uc815\\uc5d0\", \"\\uad6d\\uac00\\uae30\\uc220\\uc790\\uaca9\\ubc95\\uc5d0\", \"\\uad6d\\uac00\\uae30\\uc220\\uc790\\uaca9\\ubc95\\uc5d0\", \"\\uad70\\uc0ac\\uc2dc\\uc124\", \"\\uad81\\ub3d9\\uccb4\\uc721\\uad00\", \"\\uad8c\\ub9ac\\uac00\\uc561\\uc774\", \"\\uad8c\\ud55c\\uc704\\uc784\", \"\\uadc0\\ub18d\\ucc3d\\uc5c5\", \"\\uadc0\\ucd0c\", \"\\uaddc\\uc815\\uc5d0\", \"\\uaddc\\uc815\\uc5d0\", \"\\uaddc\\uc815\\uc5d0\", \"\\uaddc\\uc815\\uc5d0\", \"\\uaddc\\uc815\\uc5d0\", \"\\uaddc\\uc815\\uc5d0\", \"\\uaddc\\uc815\\uc5d0\", \"\\uaddc\\uc815\\uc5d0\", \"\\uaddc\\uc815\\uc5d0\", \"\\uaddc\\uc815\\uc5d0\", \"\\uae08\\uc8fc\", \"\\uae08\\ucc9c\\uad6c\\uccad\", \"\\uae09\\uc2dd\", \"\\uae09\\uc2dd\", \"\\uae09\\uc2dd\", \"\\uae30\\uacc4\\ubd84\\uc57c\", \"\\uae30\\uc218\\ubcc4\", \"\\uae30\\uc218\\ubcc4\", \"\\uae30\\uc220\\ub2a5\\ub825\\uacfc\", \"\\uae30\\uc220\\uc778\\ub825\", \"\\uae30\\uc220\\uc790\\uaca9\\ucde8\\ub4dd\\uc790\", \"\\uae30\\uc5ec\\ud55c\", \"\\uae30\\uc5ec\\ud55c\", \"\\uae30\\uc804\\uacfc\", \"\\uae30\\ud0c0\", \"\\uae30\\ud0c0\", \"\\uae30\\ud0c0\", \"\\uae30\\ud0c0\", \"\\uae30\\ud0c0\", \"\\uae30\\ud0c0\", \"\\uae30\\ud0c0\", \"\\uae30\\ud0c0\", \"\\uae30\\ud0c0\", \"\\uae30\\ud0c0\", \"\\uae30\\ud0c0\\uc0ac\\ud56d\", \"\\uae30\\ud0c0\\uc0ac\\ud56d\", \"\\uae30\\ud0c0\\uc0ac\\ud56d\", \"\\uae30\\ud0c0\\uc0ac\\ud56d\", \"\\uae30\\ud0c0\\uc0ac\\ud56d\", \"\\uae30\\ud0c0\\uc0ac\\ud56d\", \"\\uae30\\ud0c0\\uc0ac\\ud56d\", \"\\uae30\\ud0c0\\uc0ac\\ud56d\", \"\\uae30\\ud0c0\\uc0ac\\ud56d\", \"\\uae30\\ud0c0\\uc0ac\\ud56d\", \"\\uae30\\ud68d\\uc608\\uc0b0\\uacfc\", \"\\uae38\\uc74c\\ub274\\ud0c0\\uc6b4\\ub3d9\", \"\\uae38\\uc74c\\ub3d9\", \"\\uae38\\uc74c\\ub3d9\", \"\\uaf43\\ub2f4\\ud669\\ud1a0\\uc0c9\", \"\\ub098\\uc640\\uc11c\", \"\\ub09c\\uac04\\uc758\", \"\\ub0a8\\uc0b0\", \"\\ub0a8\\uc0b0\", \"\\ub0a8\\uc0b0\", \"\\ub0a8\\uc0b0\", \"\\ub0a8\\uc0b0\", \"\\ub0a8\\uc0b0\\ub3d9\", \"\\ub0b4\\uc6a9\", \"\\ub0b4\\uc6a9\", \"\\ub0b4\\uc6a9\", \"\\ub0b4\\uc6a9\", \"\\ub0b4\\uc6a9\", \"\\ub0b4\\uc6a9\", \"\\ub0b4\\uc6a9\", \"\\ub0b4\\uc6a9\", \"\\ub0b4\\uc6a9\", \"\\ub0b4\\uc6a9\", \"\\ub124\\uc774\\ud2b8\\uc628\", \"\\ub178\\uc6d0\\uad6c\", \"\\ub178\\uc6d0\\uad6c\", \"\\ub178\\uc6d0\\uad6c\", \"\\ub178\\uc6d0\\uad6c\", \"\\ub178\\uc6d0\\uad6c\", \"\\ub178\\uc6d0\\uad6c\", \"\\ub179\\ud654\", \"\\ub18d\\uc5c5\\uae30\\uc220\\uc13c\\ud130\", \"\\ub18d\\uc5c5\\uae30\\uc220\\uc13c\\ud130\", \"\\ub18d\\uc5c5\\uae30\\uc220\\uc13c\\ud130\", \"\\ub18d\\uc5c5\\uae30\\uc220\\uc13c\\ud130\", \"\\ub18d\\uc5c5\\uae30\\uc220\\uc13c\\ud130\", \"\\ub18d\\uc5c5\\uae30\\uc220\\uc13c\\ud130\", \"\\ub204\\ub985\\ub2c8\\ub2e4\", \"\\ub20c\\ub7ec\\uc11c\", \"\\ub2e4\\ub9cc\", \"\\ub2e4\\ub9cc\", \"\\ub2e4\\ub9cc\", \"\\ub2e4\\ub9cc\", \"\\ub2e4\\ub9cc\", \"\\ub2e4\\ub9cc\", \"\\ub2e4\\ub9cc\", \"\\ub2e4\\ub9cc\", \"\\ub2e4\\ub9cc\", \"\\ub2e4\\ub9cc\", \"\\ub2e4\\uc74c\\uc758\", \"\\ub2e4\\uc74c\\uc758\", \"\\ub2e4\\uc74c\\uc758\", \"\\ub2e4\\uc74c\\uc758\", \"\\ub2e4\\uc74c\\uc758\", \"\\ub2e4\\uc74c\\uc758\", \"\\ub2e4\\uc774\\uc2a4\\ucf00\", \"\\ub2e8\\ub3c5\\uc8fc\\ud0dd\", \"\\ub2e8\\ub3c5\\uc8fc\\ud0dd\", \"\\ub2e8\\ub3c5\\uc8fc\\ud0dd\", \"\\ub2e8\\ub3c5\\uc8fc\\ud0dd\", \"\\ub2e8\\ub3c5\\uc8fc\\ud0dd\", \"\\ub2e8\\ub3c5\\uc8fc\\ud0dd\", \"\\ub2e8\\uccb4\", \"\\ub2e8\\uccb4\", \"\\ub2e8\\uccb4\", \"\\ub2e8\\uccb4\", \"\\ub2e8\\uccb4\", \"\\ub2e8\\uccb4\", \"\\ub2e8\\uccb4\", \"\\ub2e8\\uccb4\", \"\\ub2f4\\ub2f9\\uc790\", \"\\ub2f4\\ub2f9\\uc790\", \"\\ub2f4\\ub2f9\\uc790\", \"\\ub2f4\\ub2f9\\uc790\", \"\\ub2f4\\ub2f9\\uc790\", \"\\ub2f4\\ub2f9\\uc790\", \"\\ub2f4\\ub2f9\\uc790\", \"\\ub2f4\\ub2f9\\uc790\", \"\\ub2f4\\ub2f9\\uc790\", \"\\ub2f4\\ub2f9\\uc790\", \"\\ub2f9\\uc9c1\\uc2e4\", \"\\ub2f9\\uc9c1\\uc2e4\", \"\\ub2f9\\uc9c1\\uc2e4\", \"\\ub300\\uae30\\uc624\\uc5fc\\ubb3c\\uc9c8\\ubc1c\\uc0dd\\ub7c9\\uc758\", \"\\ub300\\uae30\\ud658\\uacbd\\ubcf4\\uc804\\ubc95\\uc5d0\", \"\\ub300\\ubaa9\", \"\\ub300\\uc0ac\\uc99d\\ud6c4\\uad70\\uad00\\ub9ac\\uc13c\\ud130\", \"\\ub300\\uc0c1\", \"\\ub300\\uc0c1\", \"\\ub300\\uc0c1\", \"\\ub300\\uc0c1\", \"\\ub300\\uc0c1\", \"\\ub300\\uc0c1\", \"\\ub300\\uc0c1\", \"\\ub300\\uc0c1\", \"\\ub300\\uc0c1\", \"\\ub300\\uc0c1\", \"\\ub300\\ud558\\uc5ec\", \"\\ub300\\ud558\\uc5ec\", \"\\ub300\\ud558\\uc5ec\", \"\\ub300\\ud558\\uc5ec\", \"\\ub300\\ud558\\uc5ec\", \"\\ub300\\ud558\\uc5ec\", \"\\ub300\\ud558\\uc5ec\", \"\\ub300\\ud558\\uc5ec\", \"\\ub300\\ud558\\uc5ec\", \"\\ub300\\ud558\\uc5ec\", \"\\ub300\\ud55c\", \"\\ub300\\ud55c\", \"\\ub300\\ud55c\", \"\\ub300\\ud55c\", \"\\ub300\\ud55c\", \"\\ub300\\ud55c\", \"\\ub300\\ud55c\", \"\\ub300\\ud55c\", \"\\ub300\\ud55c\", \"\\ub300\\ud55c\", \"\\ub3c4\\uace1\", \"\\ub3c4\\ub85c\", \"\\ub3c4\\ub85c\", \"\\ub3c4\\ub85c\", \"\\ub3c4\\ub85c\", \"\\ub3c4\\ub85c\", \"\\ub3c4\\ub85c\", \"\\ub3c4\\ub85c\", \"\\ub3c4\\ub85c\", \"\\ub3c4\\ub85c\\uad50\\ud1b5\\ubc95\", \"\\ub3c4\\ub85c\\uad50\\ud1b5\\ubc95\", \"\\ub3c4\\ub85c\\uad50\\ud1b5\\ubc95\", \"\\ub3c4\\ub85c\\uad50\\ud1b5\\ubc95\", \"\\ub3c4\\ub85c\\uc0ac\\uc5c5\\uc18c\", \"\\ub3c4\\ub85c\\uc5d0\", \"\\ub3c4\\ub85c\\uc5d0\", \"\\ub3c4\\ub85c\\uc5d0\", \"\\ub3c4\\ub85c\\uc5d0\", \"\\ub3c4\\ub85c\\uc5d0\", \"\\ub3c4\\ub85c\\uc5ec\\uac74\", \"\\ub3c4\\ubcf4\", \"\\ub3c4\\ubcf4\", \"\\ub3c4\\ubcf4\", \"\\ub3c4\\ubcf4\", \"\\ub3c4\\ubcf4\", \"\\ub3c4\\ubcf4\", \"\\ub3c4\\ubcf4\", \"\\ub3c4\\ubcf4\", \"\\ub3c4\\uc11c\\uad00\", \"\\ub3c4\\uc11c\\uad00\", \"\\ub3c4\\uc11c\\uad00\", \"\\ub3c4\\uc11c\\uad00\", \"\\ub3c4\\uc11c\\uad00\", \"\\ub3c4\\uc11c\\uad00\", \"\\ub3c4\\uc11c\\uad00\", \"\\ub3c4\\uc2dc\\uac00\\uc871\", \"\\ub3c4\\uc2dc\\uae30\\ubc18\\uc2dc\\uc124\\ubcf8\\ubd80\", \"\\ub3c4\\uc2dc\\uae30\\ubc18\\uc2dc\\uc124\\ubcf8\\ubd80\", \"\\ub3c4\\uc2dc\\uae30\\ubc18\\uc2dc\\uc124\\ubcf8\\ubd80\", \"\\ub3c4\\uc2dc\\ub18d\\uc5c5\", \"\\ub3c4\\uc2dc\\ub18d\\uc5c5\", \"\\ub3c4\\uc2dc\\ub18d\\uc5c5\", \"\\ub3c4\\uc2dc\\ud143\\ubc2d\", \"\\ub3c5\\ub9bd\\uacbd\\uc601\", \"\\ub3c8\\uc554\\ucd08\", \"\\ub3d9\\ubb3c\\ubcf4\\ud638\", \"\\ub418\\ub098\\uc694\", \"\\ub418\\ub098\\uc694\", \"\\ub418\\ub098\\uc694\", \"\\ub418\\ub098\\uc694\", \"\\ub418\\ub098\\uc694\", \"\\ub418\\ub098\\uc694\", \"\\ub418\\ub098\\uc694\", \"\\ub418\\ub098\\uc694\", \"\\ub418\\ub098\\uc694\", \"\\ub418\\ub098\\uc694\", \"\\ub429\\ub2c8\\ub2e4\", \"\\ub429\\ub2c8\\ub2e4\", \"\\ub429\\ub2c8\\ub2e4\", \"\\ub429\\ub2c8\\ub2e4\", \"\\ub429\\ub2c8\\ub2e4\", \"\\ub429\\ub2c8\\ub2e4\", \"\\ub429\\ub2c8\\ub2e4\", \"\\ub429\\ub2c8\\ub2e4\", \"\\ub429\\ub2c8\\ub2e4\", \"\\ub429\\ub2c8\\ub2e4\", \"\\ub4f1\\ub85d\\uc0ac\\ud56d\\ubcc4\", \"\\ub4f1\\ub85d\\uc0ac\\ud56d\\ubcc4\", \"\\ub4f1\\uc0b0\\ub85c\", \"\\ub4f1\\uc0b0\\ub85c\", \"\\ub4f1\\uc0b0\\ub85c\", \"\\ub4f1\\uc0b0\\ub85c\", \"\\ub4f1\\uc5d0\", \"\\ub4f1\\uc5d0\", \"\\ub4f1\\uc5d0\", \"\\ub4f1\\uc5d0\", \"\\ub4f1\\uc5d0\", \"\\ub4f1\\uc5d0\", \"\\ub4f1\\uc5d0\", \"\\ub4f1\\uc5d0\", \"\\ub4f1\\uc5d0\", \"\\ub4f1\\uc5d0\", \"\\ub4f1\\uc744\", \"\\ub4f1\\uc744\", \"\\ub4f1\\uc744\", \"\\ub4f1\\uc744\", \"\\ub4f1\\uc744\", \"\\ub4f1\\uc744\", \"\\ub4f1\\uc744\", \"\\ub4f1\\uc744\", \"\\ub4f1\\uc744\", \"\\ub4f1\\uc744\", \"\\ub4f1\\uc758\", \"\\ub4f1\\uc758\", \"\\ub4f1\\uc758\", \"\\ub4f1\\uc758\", \"\\ub4f1\\uc758\", \"\\ub4f1\\uc758\", \"\\ub4f1\\uc758\", \"\\ub4f1\\uc758\", \"\\ub4f1\\uc758\", \"\\ub4f1\\uc758\", \"\\ub4f1\\uc774\", \"\\ub4f1\\uc774\", \"\\ub4f1\\uc774\", \"\\ub4f1\\uc774\", \"\\ub4f1\\uc774\", \"\\ub4f1\\uc774\", \"\\ub4f1\\uc774\", \"\\ub4f1\\uc774\", \"\\ub4f1\\uc774\", \"\\ub4f1\\uc774\", \"\\ub514\\uc790\\uc778\\uc785\\ub2c8\\ub2e4\", \"\\ub514\\uc790\\uc778\\uc785\\ub2c8\\ub2e4\", \"\\ub514\\uc790\\uc778\\uc785\\ub2c8\\ub2e4\", \"\\ub514\\uc9c0\\ud138\\uc815\\ubcf4\\uacfc\", \"\\ub530\\ub77c\", \"\\ub530\\ub77c\", \"\\ub530\\ub77c\", \"\\ub530\\ub77c\", \"\\ub530\\ub77c\", \"\\ub530\\ub77c\", \"\\ub530\\ub77c\", \"\\ub530\\ub77c\", \"\\ub530\\ub77c\", \"\\ub530\\ub77c\", \"\\ub530\\ub978\", \"\\ub530\\ub978\", \"\\ub530\\ub978\", \"\\ub530\\ub978\", \"\\ub530\\ub978\", \"\\ub530\\ub978\", \"\\ub530\\ub978\", \"\\ub530\\ub978\", \"\\ub530\\ub978\", \"\\ub530\\ub978\", \"\\ub798\\ubbf8\\uc548\\uae38\\uc74c\\uc13c\\ud130\\ud53c\\uc2a4\", \"\\ub808\\uc2dc\\ud53c\", \"\\ub9cc\\ub098\\ub2e4\", \"\\ub9cc\\ub098\\ub2e4\", \"\\ub9cc\\uc6d0\", \"\\ub9cc\\uc6d0\", \"\\ub9cc\\uc6d0\", \"\\ub9cc\\uc6d0\", \"\\ub9cc\\uc6d0\", \"\\ub9cc\\uc6d0\", \"\\ub9cc\\uc6d0\", \"\\ub9cc\\uc6d0\", \"\\ub9cc\\uc6d0\", \"\\ub9cc\\uc6d0\", \"\\ub9d0\\ud569\\ub2c8\\ub2e4\", \"\\ub9d0\\ud569\\ub2c8\\ub2e4\", \"\\ub9d0\\ud569\\ub2c8\\ub2e4\", \"\\ub9d0\\ud569\\ub2c8\\ub2e4\", \"\\ub9d0\\ud569\\ub2c8\\ub2e4\", \"\\ub9d0\\ud569\\ub2c8\\ub2e4\", \"\\ub9d0\\ud569\\ub2c8\\ub2e4\", \"\\ub9d0\\ud569\\ub2c8\\ub2e4\", \"\\ub9d0\\ud569\\ub2c8\\ub2e4\", \"\\ub9d0\\ud569\\ub2c8\\ub2e4\", \"\\ub9d8\\ud3b8\\ud55c\\uce74\\ub4dc\", \"\\ub9dd\\uc6d0\", \"\\ub9de\\ucda4\", \"\\ub9de\\ucda4\\ucee8\\uc124\\ud305\", \"\\uba39\\uac70\\ub9ac\", \"\\uba39\\uac70\\ub9ac\", \"\\uba85\\uc608\\uc758\", \"\\ubaa8\\uc9d1\", \"\\ubaa8\\uc9d1\", \"\\ubaa8\\uc9d1\", \"\\ubaa8\\uc9d1\", \"\\ubaa8\\uc9d1\", \"\\ubaa8\\uc9d1\", \"\\ubaa8\\uc9d1\", \"\\ubaa8\\uc9d1\", \"\\ubaa8\\uc9d1\", \"\\ubaa9\\ub85d\\uc5d0\\uc11c\", \"\\ubaa9\\ub85d\\uc5d0\\uc11c\", \"\\ubaa9\\uc7ac\\uac10\\uc131\\uccb4\\ud5d8\\ubc15\\ub78c\\ud68c\", \"\\ubb34\\uacf5\\ud574\", \"\\ubb34\\ub8cc\\ud654\", \"\\ubb34\\uc548\", \"\\ubb34\\uc5c7\\uc778\\uac00\\uc694\", \"\\ubb34\\uc5c7\\uc778\\uac00\\uc694\", \"\\ubb34\\uc5c7\\uc778\\uac00\\uc694\", \"\\ubb34\\uc5c7\\uc778\\uac00\\uc694\", \"\\ubb34\\uc5c7\\uc778\\uac00\\uc694\", \"\\ubb34\\uc5c7\\uc778\\uac00\\uc694\", \"\\ubb34\\uc5c7\\uc778\\uac00\\uc694\", \"\\ubb34\\uc5c7\\uc778\\uac00\\uc694\", \"\\ubb34\\uc5c7\\uc778\\uac00\\uc694\", \"\\ubb34\\uc5c7\\uc778\\uac00\\uc694\", \"\\ubb38\\uc11c\\ub97c\", \"\\ubb38\\uc11c\\ub97c\", \"\\ubb38\\uc11c\\ub97c\", \"\\ubb38\\uc758\", \"\\ubb38\\uc758\", \"\\ubb38\\uc758\", \"\\ubb38\\uc758\", \"\\ubb38\\uc758\", \"\\ubb38\\uc758\", \"\\ubb38\\uc758\", \"\\ubb38\\uc758\", \"\\ubb38\\uc758\", \"\\ubb38\\uc758\", \"\\ubb38\\uc790\\uc0c1\\ub2f4\\uc744\", \"\\ubb38\\ud654\\uad50\\ub958\", \"\\ubbf8\\ub9cc\\uc778\", \"\\ubbf8\\ub9cc\\uc778\", \"\\ubbf8\\ub9cc\\uc778\", \"\\ubbf8\\ub9cc\\uc778\", \"\\ubbf8\\ub9cc\\uc778\", \"\\ubbf8\\ub9cc\\uc778\", \"\\ubbf8\\ub9cc\\uc778\", \"\\ubbf8\\ub9cc\\uc778\", \"\\ubbf8\\uc220\\uc791\\ud488\", \"\\ubbf8\\uc220\\uc791\\ud488\", \"\\ubbf8\\uc220\\uc791\\ud488\", \"\\ubbf8\\uc220\\uc7a5\\uc2dd\\ud488\", \"\\ubbf8\\ud130\", \"\\ubbf8\\ud130\", \"\\ubbf8\\ud130\", \"\\ubbf8\\ud130\", \"\\ubbf8\\ud130\", \"\\ubbf8\\ud130\", \"\\ubbf8\\ud130\", \"\\ubbf8\\ud130\", \"\\ubbf8\\ud130\", \"\\ubbfc\\uc6d0\\ucc3d\\uad6c\", \"\\ubc14\\ub2e5\\uba74\\uc801\\uc758\", \"\\ubc14\\ub2e5\\uba74\\uc801\\uc758\", \"\\ubc14\\ub78d\\ub2c8\\ub2e4\", \"\\ubc14\\ub78d\\ub2c8\\ub2e4\", \"\\ubc14\\ub78d\\ub2c8\\ub2e4\", \"\\ubc14\\ub78d\\ub2c8\\ub2e4\", \"\\ubc14\\ub78d\\ub2c8\\ub2e4\", \"\\ubc14\\ub78d\\ub2c8\\ub2e4\", \"\\ubc14\\ub78d\\ub2c8\\ub2e4\", \"\\ubc14\\ub78d\\ub2c8\\ub2e4\", \"\\ubc14\\ub78d\\ub2c8\\ub2e4\", \"\\ubc14\\ub78d\\ub2c8\\ub2e4\", \"\\ubc18\\uc785\", \"\\ubc18\\uc785\", \"\\ubc18\\uc785\", \"\\ubc18\\uc785\", \"\\ubc18\\ud3ec\", \"\\ubc18\\ud3ec\", \"\\ubc1c\\uae09\", \"\\ubc1c\\uae09\", \"\\ubc1c\\uae09\", \"\\ubc1c\\uae09\", \"\\ubc1c\\uae09\", \"\\ubc1c\\uae09\", \"\\ubc1c\\uae09\", \"\\ubc1c\\uae09\", \"\\ubc1c\\uae09\", \"\\ubc1c\\uae09\", \"\\ubc1c\\uc804\\uc18c\", \"\\ubc1c\\ud45c\", \"\\ubc1c\\ud45c\", \"\\ubc1c\\ud45c\", \"\\ubc1c\\ud45c\", \"\\ubc1c\\ud45c\", \"\\ubc1c\\ud45c\", \"\\ubc1c\\ud45c\", \"\\ubc29\\uacfc\", \"\\ubc29\\ubb38\\uac04\\ud638\\uc0ac\", \"\\ubc29\\uc774\\ub3d9\", \"\\ubc29\\uc774\\ub3d9\", \"\\ubc30\\ub824\", \"\\ubc84\\uc2a4\\uc774\\uc6a9\", \"\\ubc88\\uc9c0\", \"\\ubc88\\uc9c0\", \"\\ubc88\\uc9c0\", \"\\ubc88\\uc9c0\", \"\\ubc88\\uc9c0\", \"\\ubc88\\uc9c0\", \"\\ubc88\\uc9c0\", \"\\ubc88\\uc9c0\", \"\\ubc88\\uc9c0\", \"\\ubc88\\uc9c0\", \"\\ubc88\\ucd9c\\uad6c\", \"\\ubc88\\ucd9c\\uad6c\", \"\\ubc88\\ucd9c\\uad6c\", \"\\ubc88\\ucd9c\\uad6c\", \"\\ubc88\\ucd9c\\uad6c\", \"\\ubc88\\ucd9c\\uad6c\", \"\\ubc88\\ucd9c\\uad6c\", \"\\ubc88\\ucd9c\\uad6c\", \"\\ubc95\\ub960\", \"\\ubc95\\ub960\", \"\\ubc95\\ub960\", \"\\ubc95\\ub960\", \"\\ubc95\\ub960\", \"\\ubc95\\ub960\", \"\\ubc95\\ub960\", \"\\ubc95\\ub960\", \"\\ubc95\\ub960\", \"\\ubc95\\ub960\", \"\\ubc95\\uc778\", \"\\ubc95\\uc778\", \"\\ubc95\\uc778\", \"\\ubc95\\uc778\", \"\\ubc95\\uc778\", \"\\ubc95\\uc778\", \"\\ubc95\\uc778\", \"\\ubc95\\uc778\", \"\\ubc95\\uc778\", \"\\ubc95\\uc778\\ud0dd\\uc2dc\", \"\\ubcd1\\uc5ed\", \"\\ubcf4\\uac74\\ubcf5\\uc9c0\\uac00\\uc871\\ubd80\\uc7a5\\uad00\\uc774\", \"\\ubcf4\\uae08\\uc790\\ub9ac\", \"\\ubcf4\\ub3c4\\uad00\\ub9ac\\ubd80\\uc11c\", \"\\ubcf4\\ub8e8\\ub294\", \"\\ubcf4\\ub8e8\\ub294\", \"\\ubcf4\\ub8e8\\ub294\", \"\\ubcf4\\ub8e8\\uc5d0\", \"\\ubcf4\\uc721\\uc11c\\ube44\\uc2a4\", \"\\ubd09\\uc218\\ub300\", \"\\ubd80\\ubd84\\uc758\", \"\\ubd80\\ubd84\\uc758\", \"\\ubd80\\ubd84\\uc758\", \"\\ubd80\\ubd84\\uc758\", \"\\ubd80\\ud328\\ud589\\uc704\", \"\\ubd80\\ud328\\ud589\\uc704\", \"\\ubd80\\ud328\\ud589\\uc704\", \"\\ubd80\\ud328\\ud589\\uc704\", \"\\ubd80\\ud328\\ud589\\uc704\", \"\\ubd84\\uc591\\uac74\\ucd95\\ubb3c\\uc758\", \"\\ubd84\\uc591\\uc9c0\", \"\\ubd84\\uc591\\uc9c0\", \"\\ubd84\\uc758\", \"\\ubd84\\uc758\", \"\\ubd84\\uc758\", \"\\ubd84\\uc758\", \"\\ubd84\\uc758\", \"\\ubd84\\uc758\", \"\\ubd84\\uc758\", \"\\ubd84\\uc758\", \"\\ube14\\ub85d\\uccb4\\uc778\", \"\\ube48\\uc9d1\", \"\\uc0ac\\ub791\\ub4dc\\ub9bc\\uc7a5\\ud559\\uae08\", \"\\uc0ac\\ub840\", \"\\uc0ac\\ub840\", \"\\uc0ac\\ub840\", \"\\uc0ac\\ub9bd\", \"\\uc0ac\\ub9bd\", \"\\uc0ac\\uc2a4\", \"\\uc0ac\\uc2a4\\uc758\", \"\\uc0ac\\uc5c5\", \"\\uc0ac\\uc5c5\", \"\\uc0ac\\uc5c5\", \"\\uc0ac\\uc5c5\", \"\\uc0ac\\uc5c5\", \"\\uc0ac\\uc5c5\", \"\\uc0ac\\uc5c5\", \"\\uc0ac\\uc5c5\", \"\\uc0ac\\uc5c5\", \"\\uc0ac\\uc5c5\\uc7a5\", \"\\uc0ac\\uc5c5\\uc7a5\", \"\\uc0ac\\uc5c5\\uc7a5\", \"\\uc0ac\\uc5c5\\uc7a5\", \"\\uc0ac\\uc5c5\\uc7a5\", \"\\uc0ac\\uc5c5\\uc7a5\", \"\\uc0ac\\uc5c5\\uc7a5\", \"\\uc0ac\\uc9c4\", \"\\uc0ac\\uc9c4\", \"\\uc0ac\\uc9c4\", \"\\uc0ac\\uc9c4\", \"\\uc0ac\\uc9c4\", \"\\uc0ac\\ud56d\", \"\\uc0ac\\ud56d\", \"\\uc0ac\\ud56d\", \"\\uc0ac\\ud56d\", \"\\uc0ac\\ud56d\", \"\\uc0ac\\ud56d\", \"\\uc0ac\\ud56d\", \"\\uc0ac\\ud56d\", \"\\uc0ac\\ud56d\", \"\\uc0ac\\ud56d\", \"\\uc0ac\\ud68c\\uc801\\uacbd\\uc81c\", \"\\uc0ac\\ud68c\\uc801\\uacbd\\uc81c\", \"\\uc0b0\\uc815\\ubc29\\ubc95\\uc740\", \"\\uc0b0\\uc815\\ubc29\\ubc95\\uc740\", \"\\uc0c1\\uae08\", \"\\uc0c1\\uae08\", \"\\uc0c1\\ub2f4\\uad00\", \"\\uc0c1\\ub2f4\\uce58\\ub8cc\", \"\\uc0c1\\ub300\\ubc29\\uc758\", \"\\uc0c1\\ubd09\\uc7ac\\uc815\\ube44\\ucd09\\uc9c4\\uad6c\\uc5ed\\uc758\", \"\\uc0c1\\uc2dc\\uadfc\\ub85c\\uc790\\uc218\", \"\\uc0dd\\ud65c\\ubd88\\ud3b8\\ubbfc\\uc6d0\", \"\\uc0dd\\ud65c\\uccb4\\uc721\\uc9c0\\ub3c4\\uc790\", \"\\uc11c\\ub300\\ubb38\\ubb38\\ud654\\uccb4\\uc721\\ud68c\\uad00\", \"\\uc11c\\ube44\\uc2a4\", \"\\uc11c\\ube44\\uc2a4\", \"\\uc11c\\ube44\\uc2a4\", \"\\uc11c\\ube44\\uc2a4\", \"\\uc11c\\ube44\\uc2a4\", \"\\uc11c\\ube44\\uc2a4\", \"\\uc11c\\ube44\\uc2a4\", \"\\uc11c\\ube44\\uc2a4\", \"\\uc11c\\ube44\\uc2a4\", \"\\uc11c\\ube44\\uc2a4\", \"\\uc11c\\uc2dd\\uc0dd\\ubb3c\", \"\\uc11c\\uc6b8\", \"\\uc11c\\uc6b8\", \"\\uc11c\\uc6b8\", \"\\uc11c\\uc6b8\", \"\\uc11c\\uc6b8\", \"\\uc11c\\uc6b8\", \"\\uc11c\\uc6b8\", \"\\uc11c\\uc6b8\", \"\\uc11c\\uc6b8\", \"\\uc11c\\uc6b8\\ub180\\uc774\\ub9c8\\ub2f9\", \"\\uc11c\\uc6b8\\uc0c1\", \"\\uc11c\\uc6b8\\uc0f5\", \"\\uc11c\\uc6b8\\uc0f5\", \"\\uc11c\\uc6b8\\uc2dc\", \"\\uc11c\\uc6b8\\uc2dc\", \"\\uc11c\\uc6b8\\uc2dc\", \"\\uc11c\\uc6b8\\uc2dc\", \"\\uc11c\\uc6b8\\uc2dc\", \"\\uc11c\\uc6b8\\uc2dc\", \"\\uc11c\\uc6b8\\uc2dc\", \"\\uc11c\\uc6b8\\uc2dc\", \"\\uc11c\\uc6b8\\uc2dc\", \"\\uc11c\\uc6b8\\uc2dc\", \"\\uc11c\\uc6b8\\uc2e0\\uc6a9\\ubcf4\\uc99d\\uc7ac\\ub2e8\", \"\\uc11c\\uc6b8\\uc2e0\\uc6a9\\ubcf4\\uc99d\\uc7ac\\ub2e8\", \"\\uc11c\\uc6b8\\uc2e0\\uc6a9\\ubcf4\\uc99d\\uc7ac\\ub2e8\", \"\\uc11c\\uc6b8\\ud0c0\\uc6cc\", \"\\uc11c\\uc6b8\\ud2b9\\ubcc4\\uc2dc\", \"\\uc11c\\uc6b8\\ud2b9\\ubcc4\\uc2dc\", \"\\uc11c\\uc6b8\\ud2b9\\ubcc4\\uc2dc\", \"\\uc11c\\uc6b8\\ud2b9\\ubcc4\\uc2dc\", \"\\uc11c\\uc6b8\\ud2b9\\ubcc4\\uc2dc\", \"\\uc11c\\uc6b8\\ud2b9\\ubcc4\\uc2dc\", \"\\uc11c\\uc6b8\\ud2b9\\ubcc4\\uc2dc\", \"\\uc11c\\uc6b8\\ud2b9\\ubcc4\\uc2dc\", \"\\uc11c\\uc6b8\\ud2b9\\ubcc4\\uc2dc\", \"\\uc11c\\uc6b8\\ud2b9\\ubcc4\\uc2dc\", \"\\uc11c\\uc6b8\\ud2b9\\ubcc4\\uc2dc\\uc721\\uc544\\uc885\\ud569\\uc9c0\\uc6d0\\uc13c\\ud130\", \"\\uc11c\\uc6b8\\ud2b9\\ubcc4\\uc2dc\\uc721\\uc544\\uc885\\ud569\\uc9c0\\uc6d0\\uc13c\\ud130\", \"\\uc11c\\uc6b8\\ud568\", \"\\uc11c\\ucee4\\uc2a4\", \"\\uc11c\\ud589\\ud45c\\uc2dc\", \"\\uc11d\\ucd0c\\ud638\\uc218\\uae38\", \"\\uc120\\ud0dd\\ud574\\uc11c\", \"\\uc120\\ud0dd\\ud574\\uc11c\", \"\\uc124\\ub9bd\\uc778\\uac00\\ub97c\", \"\\uc124\\ub9bd\\uc778\\uac00\\ub97c\", \"\\uc124\\uce58\", \"\\uc124\\uce58\", \"\\uc124\\uce58\", \"\\uc124\\uce58\", \"\\uc124\\uce58\", \"\\uc124\\uce58\", \"\\uc124\\uce58\", \"\\uc124\\uce58\", \"\\uc124\\uce58\", \"\\uc124\\uce58\", \"\\uc124\\uce58\\uadfc\\uac70\", \"\\uc124\\uce58\\uc77c\\uc790\", \"\\uc131\\ub0a8\\uc2dc\\uacc4\", \"\\uc131\\ubc94\\uc8c4\\uc790\", \"\\uc131\\ud76c\\ub871\", \"\\uc131\\ud76c\\ub871\", \"\\uc138\\ub300\\uc8fc\", \"\\uc138\\ub300\\uc8fc\", \"\\uc138\\ub300\\uc8fc\", \"\\uc138\\ub300\\uc8fc\\uac00\", \"\\uc138\\uc158\", \"\\uc13c\\ud2f0\\ubbf8\\ud130\", \"\\uc13c\\ud2f0\\ubbf8\\ud130\", \"\\uc18c\\uae30\\uc5c5\", \"\\uc18c\\ub4dd\\uc778\\uc815\\uc561\\uc774\", \"\\uc18c\\ubc29\\uc2dc\\uc124\", \"\\uc18c\\ubc29\\uc2dc\\uc124\", \"\\uc18c\\ubc29\\uc2dc\\uc124\", \"\\uc18c\\uc9c0\\uc6a9\", \"\\uc1a1\\ud30c\", \"\\uc1a1\\ud30c\", \"\\uc1a1\\ud30c\", \"\\uc1a1\\ud30c\", \"\\uc1a1\\ud30c\", \"\\uc1a1\\ud30c\\uad6c\", \"\\uc1a1\\ud30c\\uad6c\", \"\\uc1a1\\ud30c\\uad6c\", \"\\uc1a1\\ud30c\\uad6c\", \"\\uc1a1\\ud30c\\uad6c\", \"\\uc1a1\\ud30c\\uad6c\", \"\\uc1a1\\ud30c\\uad6c\", \"\\uc1a1\\ud30c\\uad6c\", \"\\uc1a1\\ud30c\\uad6c\", \"\\uc218\\ub828\\uad00\", \"\\uc218\\uc2e0\\uac70\\ubd80\", \"\\uc218\\uc9c8\\ud658\\uacbd\\ubcf4\\uc804\\ubc95\\uc5d0\", \"\\uc218\\ud654\", \"\\uc219\\ubc15\", \"\\uc219\\ubc15\", \"\\uc219\\ubc15\", \"\\uc219\\ubc15\", \"\\uc219\\ubc15\", \"\\uc219\\ubc15\\uc2dc\\uc124\", \"\\uc219\\ubc15\\uc2dc\\uc124\", \"\\uc219\\ubc15\\uc694\\uae08\", \"\\uc2a4\\ub9c8\\ud2b8\\ud3f0\", \"\\uc2a4\\ub9c8\\ud2b8\\ud3f0\", \"\\uc2a4\\ub9c8\\ud2b8\\ud3f0\", \"\\uc2a4\\ud1a0\\uc5b4\\ud31c\", \"\\uc2ac\\ub85c\\uac74\", \"\\uc2b9\\uc6a9\", \"\\uc2b9\\ud569\", \"\\uc2dc\\uac00\\uc9c0\", \"\\uc2dc\\uac00\\uc9c0\", \"\\uc2dc\\uac01\\uc7a5\\uc560\\uc778\\uc758\", \"\\uc2dc\\uac04\", \"\\uc2dc\\uac04\", \"\\uc2dc\\uac04\", \"\\uc2dc\\uac04\", \"\\uc2dc\\uac04\", \"\\uc2dc\\uac04\", \"\\uc2dc\\uac04\", \"\\uc2dc\\uac04\", \"\\uc2dc\\uac04\", \"\\uc2dc\\uac04\", \"\\uc2dc\\uac04\\uc678\", \"\\uc2dc\\ub9bd\\ubc1c\\ub2ec\\uc7a5\\uc560\\uc778\\ubcf5\\uc9c0\\uad00\", \"\\uc2dc\\uc124\", \"\\uc2dc\\uc124\", \"\\uc2dc\\uc124\", \"\\uc2dc\\uc124\", \"\\uc2dc\\uc124\", \"\\uc2dc\\uc124\", \"\\uc2dc\\uc124\", \"\\uc2dc\\uc124\", \"\\uc2dc\\uc124\", \"\\uc2dc\\uc124\", \"\\uc2dd\\ubb3c\\uad00\\ub828\\uc2dc\\uc124\", \"\\uc2dd\\ubb3c\\uc6d0\", \"\\uc2dd\\uc57d\\ucc98\", \"\\uc2e0\\uc0c1\\uc815\\ubcf4\", \"\\uc2e0\\uccad\", \"\\uc2e0\\uccad\", \"\\uc2e0\\uccad\", \"\\uc2e0\\uccad\", \"\\uc2e0\\uccad\", \"\\uc2e0\\uccad\", \"\\uc2e0\\uccad\", \"\\uc2e0\\uccad\", \"\\uc2e0\\uccad\", \"\\uc2e0\\uccad\", \"\\uc2e0\\uccad\\ub300\\uc0c1\\uc790\\uc758\", \"\\uc2e0\\uccad\\ubc29\\ubc95\", \"\\uc2e0\\uccad\\ubc29\\ubc95\", \"\\uc2e0\\uccad\\ubc29\\ubc95\", \"\\uc2e0\\uccad\\ubc29\\ubc95\", \"\\uc2e0\\uccad\\ubc29\\ubc95\", \"\\uc2e0\\uccad\\ubc29\\ubc95\", \"\\uc2e0\\uccad\\ubc29\\ubc95\", \"\\uc2e0\\uccad\\ubc29\\ubc95\", \"\\uc2e0\\uccad\\ubc29\\ubc95\", \"\\uc2e0\\uccad\\ubc29\\ubc95\", \"\\uc2e0\\uccad\\uc11c\", \"\\uc2e0\\uccad\\uc11c\", \"\\uc2e0\\uccad\\uc11c\", \"\\uc2e0\\uccad\\uc11c\", \"\\uc2e0\\uccad\\uc11c\", \"\\uc2e0\\uccad\\uc11c\", \"\\uc2e0\\uccad\\uc11c\", \"\\uc2e0\\uccad\\uc11c\", \"\\uc2e0\\uccad\\uc11c\", \"\\uc2e0\\uccad\\uc13c\\ud130\", \"\\uc2e0\\uccb4\\ud65c\\ub3d9\\ub9ac\\ub354\", \"\\uc2ec\\uc0ac\", \"\\uc2ec\\uc0ac\", \"\\uc2ec\\uc0ac\", \"\\uc2ec\\uc0ac\", \"\\uc2ec\\uc0ac\", \"\\uc2ec\\uc0ac\", \"\\uc2ec\\uc0ac\", \"\\uc2ec\\uc0ac\\uc694\\uccad\", \"\\uc2f6\\ub2e4\\uba74\", \"\\uc4f0\\uc774\\ub294\", \"\\uc4f0\\uc774\\ub294\", \"\\uc544\\ub3d9\", \"\\uc544\\ub3d9\", \"\\uc544\\ub3d9\", \"\\uc544\\ub3d9\", \"\\uc544\\ub3d9\", \"\\uc544\\ub3d9\", \"\\uc544\\ub3d9\", \"\\uc544\\ubc84\\uc9c0\", \"\\uc544\\uc774\\uc870\\uc544\", \"\\uc544\\uc774\\uc870\\uc544\", \"\\uc544\\ucc28\\uc0b0\", \"\\uc544\\ucc28\\uc0b0\", \"\\uc544\\ucc28\\uc0b0\", \"\\uc544\\ucc28\\uc0b0\", \"\\uc544\\ucc28\\uc0b0\", \"\\uc544\\ud30c\\ud2b8\", \"\\uc544\\ud30c\\ud2b8\", \"\\uc544\\ud30c\\ud2b8\", \"\\uc544\\ud30c\\ud2b8\", \"\\uc544\\ud30c\\ud2b8\", \"\\uc544\\ud30c\\ud2b8\", \"\\uc544\\ud30c\\ud2b8\", \"\\uc544\\ud30c\\ud2b8\", \"\\uc544\\ud30c\\ud2b8\", \"\\uc544\\ud30c\\ud2b8\", \"\\uc548\\ub0b4\", \"\\uc548\\ub0b4\", \"\\uc548\\ub0b4\", \"\\uc548\\ub0b4\", \"\\uc548\\ub0b4\", \"\\uc548\\ub0b4\", \"\\uc548\\ub0b4\", \"\\uc548\\ub0b4\", \"\\uc548\\ub0b4\", \"\\uc548\\ub0b4\", \"\\uc554\\uc0ac\", \"\\uc561\\ud654\\uc11d\\uc720\\uac00\\uc2a4\\ucda9\\uc804\\uc18c\", \"\\uc57c\\uc678\\ud480\\uc7a5\", \"\\uc591\\uc2dd\", \"\\uc591\\uc2dd\", \"\\uc591\\uc2dd\", \"\\uc591\\uc2dd\", \"\\uc5b4\\ub5a4\", \"\\uc5b4\\ub5a4\", \"\\uc5b4\\ub5a4\", \"\\uc5b4\\ub5a4\", \"\\uc5b4\\ub5a4\", \"\\uc5b4\\ub5a4\", \"\\uc5b4\\ub5a4\", \"\\uc5b4\\ub5a4\", \"\\uc5b4\\ub5a4\", \"\\uc5b4\\ub5a4\", \"\\uc5b4\\ub5bb\\uac8c\", \"\\uc5b4\\ub5bb\\uac8c\", \"\\uc5b4\\ub5bb\\uac8c\", \"\\uc5b4\\ub5bb\\uac8c\", \"\\uc5b4\\ub5bb\\uac8c\", \"\\uc5b4\\ub5bb\\uac8c\", \"\\uc5b4\\ub5bb\\uac8c\", \"\\uc5b4\\ub5bb\\uac8c\", \"\\uc5b4\\ub5bb\\uac8c\", \"\\uc5b4\\ub5bb\\uac8c\", \"\\uc5b4\\ub974\\uc2e0\\uc744\", \"\\uc5b4\\ub9b0\\uc774\", \"\\uc5b4\\ub9b0\\uc774\", \"\\uc5b4\\ub9b0\\uc774\", \"\\uc5b4\\ub9b0\\uc774\", \"\\uc5b4\\ub9b0\\uc774\", \"\\uc5b4\\ub9b0\\uc774\", \"\\uc5b4\\ub9b0\\uc774\", \"\\uc5b4\\ub9b0\\uc774\", \"\\uc5b4\\ub9b0\\uc774\", \"\\uc5b4\\ub9b0\\uc774\\uc9d1\", \"\\uc5b4\\ub9b0\\uc774\\uc9d1\", \"\\uc5b4\\ub9b0\\uc774\\uc9d1\", \"\\uc5b4\\ub9b0\\uc774\\uc9d1\", \"\\uc5b4\\ub9b0\\uc774\\uc9d1\", \"\\uc5b4\\ub9b0\\uc774\\uc9d1\", \"\\uc5b4\\ub9b0\\uc774\\uc9d1\", \"\\uc5b4\\ub9b0\\uc774\\uc9d1\", \"\\uc5b4\\ub9b0\\uc774\\uc9d1\", \"\\uc5b5\\uc6d0\", \"\\uc5b5\\uc6d0\", \"\\uc5b5\\uc6d0\", \"\\uc5b5\\uc6d0\", \"\\uc5b5\\uc6d0\", \"\\uc5b5\\uc6d0\", \"\\uc5b5\\uc6d0\", \"\\uc5b5\\uc6d0\", \"\\uc5c5\\ubb34\\uac1c\\uc694\", \"\\uc5c5\\ubb34\\uac1c\\uc694\", \"\\uc5c5\\ubb34\\uac1c\\uc694\", \"\\uc5c5\\ubb34\\uac1c\\uc694\", \"\\uc5c5\\ubb34\\uac1c\\uc694\", \"\\uc5c5\\ubb34\\uac1c\\uc694\", \"\\uc5c5\\ubb34\\uac1c\\uc694\", \"\\uc5c5\\ubb34\\uac1c\\uc694\", \"\\uc5c5\\ubb34\\uac1c\\uc694\", \"\\uc5c5\\ubb34\\uac1c\\uc694\", \"\\uc5d0\\ub108\\uc9c0\", \"\\uc5d0\\ub108\\uc9c0\", \"\\uc5d0\\ub108\\uc9c0\", \"\\uc5d0\\ub108\\uc9c0\", \"\\uc5d0\\ub108\\uc9c0\", \"\\uc5d0\\ub108\\uc9c0\", \"\\uc5ec\\ub860\\uc870\\uc0ac\", \"\\uc5ec\\uc131\\uac00\\uc871\\uacfc\", \"\\uc5ec\\uc131\\uc548\\uc2ec\\uc9c0\\ud0b4\\uc774\", \"\\uc5ec\\uc131\\uc774\\ub8f8\\uc13c\\ud130\", \"\\uc5ed\\uc138\\uad8c\\uc758\", \"\\uc5f0\\uacb0\", \"\\uc5f0\\uacb0\", \"\\uc5f0\\uacb0\", \"\\uc5f0\\uacb0\", \"\\uc5f0\\uacb0\", \"\\uc5f0\\uacb0\", \"\\uc5f0\\uacb0\", \"\\uc5f0\\uacb0\\ub418\\uc5b4\", \"\\uc5f0\\uacb0\\ub418\\uc5b4\", \"\\uc5f0\\uacb0\\ub418\\uc5b4\", \"\\uc5f0\\uacb0\\ub418\\uc5c8\\ub2e4\\ub294\", \"\\uc5f0\\ub77d\\ucc98\", \"\\uc5f0\\ub77d\\ucc98\", \"\\uc5f0\\ub77d\\ucc98\", \"\\uc5f0\\ub77d\\ucc98\", \"\\uc5f0\\ub77d\\ucc98\", \"\\uc5f0\\ub77d\\ucc98\", \"\\uc5f0\\ub77d\\ucc98\", \"\\uc5f0\\ub77d\\ucc98\", \"\\uc5f0\\ub77d\\ucc98\", \"\\uc5f0\\ub77d\\ucc98\", \"\\uc5f0\\uc911\\ubb34\\ud734\", \"\\uc5f0\\uc911\\ubb34\\ud734\", \"\\uc5f0\\uc911\\ubb34\\ud734\", \"\\uc5f0\\uc911\\ubb34\\ud734\", \"\\uc601\\uc5b4\\ud68c\\ud654\", \"\\uc608\\ub9e4\", \"\\uc608\\ub9e4\", \"\\uc608\\ubc29\\uacfc\\uc7a5\", \"\\uc608\\ube44\\uad70\", \"\\uc608\\ube44\\ubd80\\ubd80\\uad50\\uc2e4\", \"\\uc608\\uccb4\\ub2a5\", \"\\uc608\\uce58\\uae08\\uc561\\uc740\", \"\\uc624\\uc77c\\ud700\\uc2a4\", \"\\uc644\\uc8fc\", \"\\uc644\\uc8fc\", \"\\uc644\\uc8fc\", \"\\uc678\\uad6d\\uc778\\uc8fc\\ubbfc\", \"\\uc6a9\\ub3c4\\uac00\", \"\\uc6a9\\ub3c4\\uc5d0\", \"\\uc6a9\\ub3c4\\uc5d0\", \"\\uc6a9\\ub9c8\\uc0b0\", \"\\uc6a9\\ub9c8\\uc0b0\", \"\\uc6a9\\ub9c8\\uc0b0\", \"\\uc6a9\\uc0b0\\uac00\\uc871\\uacf5\\uc6d0\", \"\\uc6a9\\uc0b0\\uad6c\", \"\\uc6a9\\uc0b0\\uad6c\", \"\\uc6a9\\uc0b0\\uad6c\", \"\\uc6a9\\uc0b0\\uad6c\", \"\\uc6a9\\uc0b0\\uad6c\", \"\\uc6a9\\uc0b0\\uad6c\", \"\\uc6a9\\uc0b0\\uad6c\", \"\\uc6a9\\uc0b0\\uad6c\", \"\\uc6a9\\uc778\", \"\\uc6a9\\uc778\", \"\\uc6b0\\ub9ac\\uc740\\ud589\", \"\\uc6b0\\ub9ac\\uc740\\ud589\", \"\\uc6b0\\ub9ac\\uc740\\ud589\", \"\\uc6b0\\ub9ac\\uc740\\ud589\", \"\\uc6b0\\ub9ac\\uc740\\ud589\", \"\\uc6b4\\uc601\", \"\\uc6b4\\uc601\", \"\\uc6b4\\uc601\", \"\\uc6b4\\uc601\", \"\\uc6b4\\uc601\", \"\\uc6b4\\uc601\", \"\\uc6b4\\uc601\", \"\\uc6b4\\uc601\", \"\\uc6b4\\uc601\", \"\\uc6b4\\uc601\", \"\\uc6b8\\uc9c4\", \"\\uc6b8\\uc9c4\\uad70\\uccad\", \"\\uc6d0\\uc5b4\\ubbfc\", \"\\uc6d0\\ucc9c\\uc9d5\\uc218\", \"\\uc6e8\\uc774\\uace0\", \"\\uc6f9\\ud230\", \"\\uc704\\ud558\\uc5ec\", \"\\uc704\\ud558\\uc5ec\", \"\\uc704\\ud558\\uc5ec\", \"\\uc704\\ud558\\uc5ec\", \"\\uc704\\ud558\\uc5ec\", \"\\uc704\\ud558\\uc5ec\", \"\\uc704\\ud558\\uc5ec\", \"\\uc704\\ud558\\uc5ec\", \"\\uc704\\ud558\\uc5ec\", \"\\uc704\\ud558\\uc5ec\", \"\\uc704\\ud55c\", \"\\uc704\\ud55c\", \"\\uc704\\ud55c\", \"\\uc704\\ud55c\", \"\\uc704\\ud55c\", \"\\uc704\\ud55c\", \"\\uc704\\ud55c\", \"\\uc704\\ud55c\", \"\\uc704\\ud55c\", \"\\uc704\\ud55c\", \"\\uc704\\ud574\", \"\\uc704\\ud574\", \"\\uc704\\ud574\", \"\\uc704\\ud574\", \"\\uc704\\ud574\", \"\\uc704\\ud574\", \"\\uc704\\ud574\", \"\\uc704\\ud574\", \"\\uc704\\ud574\", \"\\uc704\\ud574\", \"\\uc704\\ud5d8\\ubb3c\\uc800\\uc7a5\", \"\\uc720\\uc544\\uc2a4\\ud3ec\\uce20\\ub2e8\", \"\\uc721\\uc544\\uc815\\ubcf4\", \"\\uc740\\ud3c9\\ub300\\ub9bc\\uc2dc\\uc7a5\", \"\\uc751\\uae09\\uc2e4\", \"\\uc758\\ub8cc\\ube44\", \"\\uc758\\ub8cc\\ube44\", \"\\uc758\\ub8cc\\ube44\", \"\\uc758\\ub8cc\\ube44\", \"\\uc758\\ub8cc\\ube44\", \"\\uc758\\ud55c\", \"\\uc758\\ud55c\", \"\\uc758\\ud55c\", \"\\uc758\\ud55c\", \"\\uc758\\ud55c\", \"\\uc758\\ud55c\", \"\\uc758\\ud55c\", \"\\uc758\\ud55c\", \"\\uc758\\ud55c\", \"\\uc758\\ud55c\", \"\\uc774\\ub294\", \"\\uc774\\ub294\", \"\\uc774\\ub294\", \"\\uc774\\ub294\", \"\\uc774\\ub294\", \"\\uc774\\ub294\", \"\\uc774\\ub294\", \"\\uc774\\ub294\", \"\\uc774\\ub294\", \"\\uc774\\ub95c\", \"\\uc774\\uba54\\uc77c\", \"\\uc774\\uba54\\uc77c\", \"\\uc774\\uba54\\uc77c\", \"\\uc774\\uba54\\uc77c\", \"\\uc774\\uba54\\uc77c\", \"\\uc774\\uba54\\uc77c\", \"\\uc774\\uba54\\uc77c\", \"\\uc774\\uba54\\uc77c\", \"\\uc774\\uba54\\uc77c\", \"\\uc774\\uc0c1\", \"\\uc774\\uc0c1\", \"\\uc774\\uc0c1\", \"\\uc774\\uc0c1\", \"\\uc774\\uc0c1\", \"\\uc774\\uc0c1\", \"\\uc774\\uc0c1\", \"\\uc774\\uc0c1\", \"\\uc774\\uc0c1\", \"\\uc774\\uc0c1\", \"\\uc774\\uc0c1\\uc758\", \"\\uc774\\uc0c1\\uc758\", \"\\uc774\\uc0c1\\uc758\", \"\\uc774\\uc0c1\\uc758\", \"\\uc774\\uc0c1\\uc758\", \"\\uc774\\uc0c1\\uc758\", \"\\uc774\\uc0c1\\uc758\", \"\\uc774\\uc0c1\\uc758\", \"\\uc774\\uc0c1\\uc758\", \"\\uc774\\uc0c1\\uc758\", \"\\uc774\\uc0c1\\uc774\\uace0\", \"\\uc774\\uc0c1\\uc774\\uace0\", \"\\uc774\\uc0c1\\uc785\\ub2c8\\ub2e4\", \"\\uc774\\uc0c1\\uc785\\ub2c8\\ub2e4\", \"\\uc774\\uc0c1\\uc785\\ub2c8\\ub2e4\", \"\\uc774\\uc0c1\\uc785\\ub2c8\\ub2e4\", \"\\uc774\\uc0c9\\ub2ec\\ub9ac\\uae30\", \"\\uc774\\uc57c\\uae30\", \"\\uc774\\uc57c\\uae30\", \"\\uc774\\uc57c\\uae30\", \"\\uc774\\uc57c\\uae30\", \"\\uc774\\uc57c\\uae30\", \"\\uc774\\uc57c\\uae30\", \"\\uc774\\uc6a9\", \"\\uc774\\uc6a9\", \"\\uc774\\uc6a9\", \"\\uc774\\uc6a9\", \"\\uc774\\uc6a9\", \"\\uc774\\uc6a9\", \"\\uc774\\uc6a9\", \"\\uc774\\uc6a9\", \"\\uc774\\uc6a9\", \"\\uc774\\uc6a9\", \"\\uc774\\uc758\\uc81c\\uae30\", \"\\uc774\\ud558\", \"\\uc774\\ud558\", \"\\uc774\\ud558\", \"\\uc774\\ud558\", \"\\uc774\\ud558\", \"\\uc774\\ud558\", \"\\uc774\\ud558\", \"\\uc774\\ud558\", \"\\uc774\\ud558\", \"\\uc774\\ud558\", \"\\uc774\\ud589\\uae30\\uc900\", \"\\uc774\\ud654\\uc7a5\", \"\\uc774\\ud6c4\", \"\\uc774\\ud6c4\", \"\\uc774\\ud6c4\", \"\\uc774\\ud6c4\", \"\\uc774\\ud6c4\", \"\\uc774\\ud6c4\", \"\\uc774\\ud6c4\", \"\\uc774\\ud6c4\", \"\\uc774\\ud6c4\", \"\\uc774\\ud6c4\", \"\\uc778\\uc0ac\\ub3d9\", \"\\uc778\\uc2e4\", \"\\uc778\\uc7ac\\uac1c\\ubc1c\\uc6d0\", \"\\uc778\\uc7ac\\uac1c\\ubc1c\\uc6d0\", \"\\uc778\\uc7ac\\uac1c\\ubc1c\\uc6d0\", \"\\uc778\\uc870\\uc794\\ub514\\uad6c\\uc7a5\", \"\\uc77c\\ucc28\", \"\\uc784\\ub300\\uc0ac\\uc5c5\\uc790\", \"\\uc784\\uc2e0\", \"\\uc784\\uc2e0\", \"\\uc785\\ub2c8\\ub2e4\", \"\\uc785\\ub2c8\\ub2e4\", \"\\uc785\\ub2c8\\ub2e4\", \"\\uc785\\ub2c8\\ub2e4\", \"\\uc785\\ub2c8\\ub2e4\", \"\\uc785\\ub2c8\\ub2e4\", \"\\uc785\\ub2c8\\ub2e4\", \"\\uc785\\ub2c8\\ub2e4\", \"\\uc785\\ub2c8\\ub2e4\", \"\\uc785\\ub2c8\\ub2e4\", \"\\uc788\\ub098\\uc694\", \"\\uc788\\ub098\\uc694\", \"\\uc788\\ub098\\uc694\", \"\\uc788\\ub098\\uc694\", \"\\uc788\\ub098\\uc694\", \"\\uc788\\ub098\\uc694\", \"\\uc788\\ub098\\uc694\", \"\\uc788\\ub098\\uc694\", \"\\uc788\\ub098\\uc694\", \"\\uc788\\ub098\\uc694\", \"\\uc788\\ub294\", \"\\uc788\\ub294\", \"\\uc788\\ub294\", \"\\uc788\\ub294\", \"\\uc788\\ub294\", \"\\uc788\\ub294\", \"\\uc788\\ub294\", \"\\uc788\\ub294\", \"\\uc788\\ub294\", \"\\uc788\\ub294\", \"\\uc788\\uc2b5\\ub2c8\\ub2e4\", \"\\uc788\\uc2b5\\ub2c8\\ub2e4\", \"\\uc788\\uc2b5\\ub2c8\\ub2e4\", \"\\uc788\\uc2b5\\ub2c8\\ub2e4\", \"\\uc788\\uc2b5\\ub2c8\\ub2e4\", \"\\uc788\\uc2b5\\ub2c8\\ub2e4\", \"\\uc788\\uc2b5\\ub2c8\\ub2e4\", \"\\uc788\\uc2b5\\ub2c8\\ub2e4\", \"\\uc788\\uc2b5\\ub2c8\\ub2e4\", \"\\uc788\\uc2b5\\ub2c8\\ub2e4\", \"\\uc788\\uc73c\\uba70\", \"\\uc788\\uc73c\\uba70\", \"\\uc788\\uc73c\\uba70\", \"\\uc788\\uc73c\\uba70\", \"\\uc788\\uc73c\\uba70\", \"\\uc788\\uc73c\\uba70\", \"\\uc788\\uc73c\\uba70\", \"\\uc788\\uc73c\\uba70\", \"\\uc788\\uc73c\\uba70\", \"\\uc788\\uc73c\\uba70\", \"\\uc788\\uc74c\", \"\\uc788\\uc74c\", \"\\uc788\\uc74c\", \"\\uc788\\uc74c\", \"\\uc788\\uc74c\", \"\\uc788\\uc74c\", \"\\uc788\\uc74c\", \"\\uc788\\uc74c\", \"\\uc788\\uc74c\", \"\\uc788\\uc74c\", \"\\uc790\\ub3d9\\ucc28\\uc6a9\", \"\\uc790\\ub3d9\\ucc28\\uc6a9\", \"\\uc790\\ub9e4\", \"\\uc790\\ub9e4\", \"\\uc790\\ub9e4\\uacb0\\uc5f0\", \"\\uc790\\ubcf8\\uae08\\uc740\", \"\\uc790\\uc138\\ud55c\", \"\\uc790\\uc138\\ud55c\", \"\\uc790\\uc138\\ud55c\", \"\\uc790\\uc138\\ud55c\", \"\\uc790\\uc138\\ud55c\", \"\\uc790\\uc138\\ud55c\", \"\\uc790\\uc138\\ud55c\", \"\\uc790\\uc138\\ud55c\", \"\\uc790\\uc138\\ud55c\", \"\\uc790\\uc720\\uc774\\uc6a9\\uad8c\", \"\\uc790\\uce58\\uad6c\", \"\\uc790\\uce58\\uad6c\", \"\\uc790\\uce58\\uad6c\", \"\\uc790\\uce58\\uad6c\", \"\\uc790\\uce58\\uad6c\", \"\\uc790\\uce58\\uad6c\", \"\\uc790\\uce58\\uad6c\", \"\\uc790\\uce58\\uad6c\", \"\\uc790\\uce58\\uad6c\", \"\\uc790\\uce58\\uad6c\", \"\\uc7a0\\uc218\\uad50\", \"\\uc7a5\\uae30\\uae30\\uc99d\", \"\\uc7a5\\ud130\", \"\\uc7a5\\ud130\", \"\\uc7ac\\ubc30\\uc815\\uc0ac\\uc5c5\", \"\\uc800\\uc218\\uc870\\ub97c\", \"\\uc800\\uc218\\uc870\\ub97c\", \"\\uc800\\uc218\\uc870\\uc758\", \"\\uc800\\uc218\\uc870\\uc758\", \"\\uc800\\uc218\\uc870\\uc758\", \"\\uc801\\uc7ac\\uc911\\ub7c9\\uc774\", \"\\uc804\\ub2ec\\ud569\\ub2c8\\ub2e4\", \"\\uc804\\uc0b0\\uc815\\ubcf4\\uacfc\", \"\\uc804\\uc138\\uad8c\", \"\\uc804\\uc138\\uad8c\", \"\\uc804\\uc138\\uad8c\", \"\\uc804\\uc138\\uad8c\", \"\\uc804\\uc6a9\\uce74\\ub4dc\", \"\\uc804\\uc6d0\\uc0dd\\ud65c\", \"\\uc804\\uc790\\uc6b0\\ud3b8\", \"\\uc804\\ud558\\uace0\\uc790\", \"\\uc810\\uc790\\uc2a4\\ud2f0\\ucee4\", \"\\uc811\\uc218\", \"\\uc811\\uc218\", \"\\uc811\\uc218\", \"\\uc811\\uc218\", \"\\uc811\\uc218\", \"\\uc811\\uc218\", \"\\uc811\\uc218\", \"\\uc811\\uc218\", \"\\uc811\\uc218\", \"\\uc811\\uc218\", \"\\uc811\\uc218\\uc9c4\\ud589\", \"\\uc811\\uc218\\uc9c4\\ud589\", \"\\uc811\\ud55c\", \"\\uc811\\ud55c\", \"\\uc811\\ud55c\", \"\\uc811\\ud55c\", \"\\uc811\\ud55c\", \"\\uc815\\ube44\", \"\\uc815\\ube44\", \"\\uc815\\ube44\", \"\\uc815\\ube44\", \"\\uc815\\ube44\", \"\\uc815\\ube44\", \"\\uc815\\ube44\", \"\\uc815\\ube44\", \"\\uc815\\ube44\", \"\\uc815\\uc74d\", \"\\uc815\\uc74d\", \"\\uc815\\uc74d\\uc2dc\\uccad\", \"\\uc815\\ud0dc\\ub3c4\", \"\\uc81c\\uac15\", \"\\uc81c\\uacf1\\ubbf8\\ud130\", \"\\uc81c\\uacf1\\ubbf8\\ud130\", \"\\uc81c\\uacf1\\ubbf8\\ud130\", \"\\uc81c\\uacf1\\ubbf8\\ud130\", \"\\uc81c\\uacf1\\ubbf8\\ud130\", \"\\uc81c\\uacf1\\ubbf8\\ud130\", \"\\uc81c\\uacf1\\ubbf8\\ud130\", \"\\uc81c\\ubd09\\uc218\\ub300\\uc640\", \"\\uc81c\\uc21c\\uc704\", \"\\uc81c\\uc548\\uc11c\", \"\\uc81c\\uc5ec\\uc131\\ub298\\ud488\\uc13c\\ud130\", \"\\uc81c\\uc678\", \"\\uc81c\\uc678\", \"\\uc81c\\uc678\", \"\\uc81c\\uc678\", \"\\uc81c\\uc678\", \"\\uc81c\\uc678\", \"\\uc81c\\uc678\", \"\\uc81c\\uc678\", \"\\uc81c\\uc678\", \"\\uc81c\\uc678\", \"\\uc81c\\uc870\", \"\\uc81c\\uc870\", \"\\uc81c\\uc870\", \"\\uc81c\\uc870\", \"\\uc81c\\uc870\", \"\\uc81c\\uc870\", \"\\uc81c\\uc870\", \"\\uc81c\\uc870\", \"\\uc81c\\uc870\", \"\\uc81c\\uc870\", \"\\uc81c\\uc885\\uadfc\\ub9b0\\uc0dd\\ud65c\\uc2dc\\uc124\", \"\\uc81c\\uc885\\uadfc\\ub9b0\\uc0dd\\ud65c\\uc2dc\\uc124\", \"\\uc81c\\ucd9c\", \"\\uc81c\\ucd9c\", \"\\uc81c\\ucd9c\", \"\\uc81c\\ucd9c\", \"\\uc81c\\ucd9c\", \"\\uc81c\\ucd9c\", \"\\uc81c\\ucd9c\", \"\\uc81c\\ucd9c\", \"\\uc81c\\ucd9c\", \"\\uc81c\\ucd9c\", \"\\uc870\\uc131\", \"\\uc870\\uc131\", \"\\uc870\\uc131\", \"\\uc870\\uc131\", \"\\uc870\\uc131\", \"\\uc870\\uc131\", \"\\uc870\\uc131\", \"\\uc870\\ud569\\uc784\\uc6d0\\uc758\", \"\\uc870\\ud569\\uc784\\uc6d0\\uc758\", \"\\uc870\\ud569\\uc7a5\", \"\\uc870\\ud569\\uc8fc\\ud0dd\\uc758\", \"\\uc885\\ub85c\\uad6c\", \"\\uc885\\ub85c\\uad6c\", \"\\uc885\\ub85c\\uad6c\", \"\\uc885\\ub85c\\uad6c\", \"\\uc885\\ub85c\\uad6c\", \"\\uc885\\ub85c\\uad6c\", \"\\uc885\\ub85c\\uad6c\", \"\\uc885\\ub85c\\uad6c\", \"\\uc885\\ub85c\\uad6c\", \"\\uc8fc\\uac70\\uae09\\uc5ec\", \"\\uc8fc\\ub9d0\", \"\\uc8fc\\ub9d0\", \"\\uc8fc\\ub9d0\", \"\\uc8fc\\ub9d0\", \"\\uc8fc\\ub9d0\", \"\\uc8fc\\ub9d0\", \"\\uc8fc\\ub9d0\", \"\\uc8fc\\ub9d0\", \"\\uc8fc\\ubbfc\\ub300\\uc0c1\", \"\\uc8fc\\ubd80\\ub9ac\\ud3ec\\ud130\\ub294\", \"\\uc8fc\\uc18c\", \"\\uc8fc\\uc18c\", \"\\uc8fc\\uc18c\", \"\\uc8fc\\uc18c\", \"\\uc8fc\\uc18c\", \"\\uc8fc\\uc18c\", \"\\uc8fc\\uc18c\", \"\\uc8fc\\uc18c\", \"\\uc8fc\\uc18c\", \"\\uc8fc\\uc18c\", \"\\uc8fc\\uc911\", \"\\uc8fc\\uc911\", \"\\uc8fc\\ucc28\\uc0b0\\uc815\", \"\\uc8fc\\ucc28\\uc694\\uae08\\uc740\", \"\\uc8fc\\ud0dd\\ub2e8\\uc9c0\\uc758\", \"\\uc8fc\\ud0dd\\uc131\\ub2a5\\ub4f1\\uae09\", \"\\uc8fc\\ud0dd\\uc6a9\", \"\\uc911\\uacc4\\uc0ac\\uac00\", \"\\uc911\\uacc4\\uc0ac\\uc640\", \"\\uc911\\uad6c\", \"\\uc911\\uad6c\", \"\\uc911\\uad6c\", \"\\uc911\\uad6c\", \"\\uc911\\uad6c\", \"\\uc911\\uad6c\", \"\\uc911\\uad6c\", \"\\uc911\\uad6c\", \"\\uc911\\uad6c\", \"\\uc911\\uad6c\", \"\\uc911\\uc2ec\\uc810\", \"\\uc99d\\uac15\\ud604\\uc2e4\", \"\\uc9c0\\uac8c\\ucc28\", \"\\uc9c0\\uac8c\\ucc28\", \"\\uc9c0\\uadf8\\uc7ac\\uadf8\", \"\\uc9c0\\uae09\", \"\\uc9c0\\uae09\", \"\\uc9c0\\uae09\", \"\\uc9c0\\uae09\", \"\\uc9c0\\uae09\", \"\\uc9c0\\uae09\", \"\\uc9c0\\uae09\", \"\\uc9c0\\uae09\", \"\\uc9c0\\uae09\", \"\\uc9c0\\uae09\", \"\\uc9c0\\ub2a5\\ud615\", \"\\uc9c0\\uc5ed\\uc544\\ub3d9\\ubcf5\\uc9c0\\uc13c\\ud130\", \"\\uc9c0\\uc6d0\", \"\\uc9c0\\uc6d0\", \"\\uc9c0\\uc6d0\", \"\\uc9c0\\uc6d0\", \"\\uc9c0\\uc6d0\", \"\\uc9c0\\uc6d0\", \"\\uc9c0\\uc6d0\", \"\\uc9c0\\uc6d0\", \"\\uc9c0\\uc6d0\", \"\\uc9c0\\uc6d0\", \"\\uc9c0\\uc815\\uc790\", \"\\uc9c0\\uccb4\\uc7a5\\uc560\\uc778\", \"\\uc9c0\\ud558\\ucca0\", \"\\uc9c0\\ud558\\ucca0\", \"\\uc9c0\\ud558\\ucca0\", \"\\uc9c0\\ud558\\ucca0\", \"\\uc9c0\\ud558\\ucca0\", \"\\uc9c0\\ud558\\ucca0\", \"\\uc9c0\\ud558\\ucca0\", \"\\uc9c0\\ud558\\ucca0\", \"\\uc9c1\\uac70\\ub798\", \"\\uc9c1\\ubd09\", \"\\uc9c1\\uc7a5\", \"\\uc9c1\\uc7a5\", \"\\uc9c1\\uc7a5\", \"\\uc9c1\\uc811\\uc801\\uc778\", \"\\uc9c1\\uc9c4\", \"\\uc9c1\\uc9c4\", \"\\uc9c1\\uc9c4\", \"\\uc9c4\\ub8cc\\ube44\", \"\\uc9c4\\ub8cc\\ube44\", \"\\uc9c4\\ud589\\uc11d\", \"\\uc9d1\\ud68c\\uc2dc\\uc124\", \"\\ucc28\\ub85c\", \"\\ucc28\\ub85c\", \"\\ucc28\\ub85c\", \"\\ucc28\\ub85c\", \"\\ucc28\\ub85c\", \"\\ucc28\\ub85c\", \"\\ucc28\\ub85c\", \"\\ucc28\\uc120\", \"\\ucc28\\uc120\", \"\\ucc28\\uc885\", \"\\ucc28\\uc885\", \"\\ucc28\\uc885\", \"\\ucc98\\ub9ac\\uc2dc\\uc124\", \"\\ucc9c\\uc138\\ub300\", \"\\ucc9c\\uc138\\ub300\", \"\\ucc9c\\uc5f0\\uae30\\ub150\\ubb3c\", \"\\ucc9c\\uc5f0\\uae30\\ub150\\ubb3c\", \"\\uccad\\ub144\\ucc3d\\uc5c5\\ub18d\", \"\\uccad\\ub2f4\", \"\\uccad\\uc18c\\ub144\", \"\\uccad\\uc18c\\ub144\", \"\\uccad\\uc18c\\ub144\", \"\\uccad\\uc18c\\ub144\", \"\\uccad\\uc18c\\ub144\", \"\\uccad\\uc18c\\ub144\", \"\\uccad\\uc18c\\ub144\", \"\\uccad\\uc18c\\ub144\", \"\\uccad\\uc18c\\ub144\", \"\\uccad\\uc18c\\ub144\\ub300\\uc0c1\", \"\\uccad\\uc57d\\ubd80\\uae08\", \"\\uccad\\uc57d\\uc608\\uae08\", \"\\uccad\\uc57d\\uc800\\ucd95\", \"\\uccad\\uc57d\\uc800\\ucd95\", \"\\uccad\\uc6d0\", \"\\uccad\\uc6d0\\uc740\", \"\\uccb4\\ud5d8\\ub18d\\uc6d0\", \"\\uccb4\\ud5d8\\ub9c8\\uc744\", \"\\uccb4\\ud5d8\\uc694\\uae08\", \"\\ucd5c\\uace0\", \"\\ucd5c\\uace0\", \"\\ucd5c\\uace0\", \"\\ucd5c\\uace0\", \"\\ucd5c\\uace0\", \"\\ucd5c\\uace0\", \"\\ucd5c\\uace0\", \"\\ucd5c\\uc18c\\ubd84\\uc591\\ub2e8\\uc704\\uaddc\\ubaa8\", \"\\ucd95\\uc81c\", \"\\ucd95\\uc81c\", \"\\ucd95\\uc81c\", \"\\ucd9c\\uad6c\", \"\\ucd9c\\uad6c\", \"\\ucd9c\\uad6c\", \"\\ucd9c\\uad6c\", \"\\ucd9c\\uad6c\", \"\\ucd9c\\uad6c\", \"\\ucd9c\\uad6c\", \"\\ucd9c\\uad6c\", \"\\ucd9c\\uad6c\\ub85c\", \"\\ucd9c\\uad6c\\ub85c\", \"\\ucd9c\\uad6c\\ub85c\", \"\\ucd9c\\uad6c\\ub85c\", \"\\ucd9c\\uad6c\\ub85c\", \"\\ucd9c\\uad6c\\ub85c\", \"\\ucd9c\\uc0b0\", \"\\ucd9c\\uc0b0\", \"\\ucd9c\\uc0b0\", \"\\ucde8\\ubbf8\", \"\\uce58\\ub9e4\\uc9c0\\uc6d0\\uc13c\\ud130\", \"\\uce74\\uc57d\\ud1a4\", \"\\ucf58\\ud14c\\uc2a4\\ud2b8\", \"\\ud0c0\\uc6cc\\ud06c\\ub808\\uc778\", \"\\ud0dc\\uc548\", \"\\ud0dd\\uc2dc\\uc6b4\\uc804\\uc790\\uaca9\\uc99d\", \"\\ud0dd\\uc2dc\\uc6b4\\uc804\\uc790\\uaca9\\uc99d\\uba85\", \"\\ud0dd\\uc2dc\\uc6b4\\uc804\\uc790\\uaca9\\uc99d\\uba85\", \"\\ud1a0\\ubaa9\", \"\\ud1a0\\ubaa9\", \"\\ud1a0\\ubaa9\", \"\\ud1a0\\ubaa9\\ubd84\\uc57c\", \"\\ud1a0\\uc9c0\", \"\\ud1a0\\uc9c0\", \"\\ud1a0\\uc9c0\", \"\\ud1a0\\uc9c0\", \"\\ud1a0\\uc9c0\", \"\\ud1a0\\uc9c0\", \"\\ud1a0\\uc9c0\", \"\\ud1a0\\uc9c0\", \"\\ud1a0\\uc9c0\", \"\\ud1a0\\uc9c0\", \"\\ud1a0\\ud06c\\ucf58\\uc11c\\ud2b8\", \"\\ud1b5\\ud558\\ub294\\ub370\", \"\\ud1b5\\ud574\", \"\\ud1b5\\ud574\", \"\\ud1b5\\ud574\", \"\\ud1b5\\ud574\", \"\\ud1b5\\ud574\", \"\\ud1b5\\ud574\", \"\\ud1b5\\ud574\", \"\\ud1b5\\ud574\", \"\\ud1b5\\ud574\", \"\\ud1b5\\ud574\", \"\\ud1b5\\ud654\\ub0b4\\uc6a9\\uc744\", \"\\ud2b8\\ub808\\ud0b9\", \"\\ud2b8\\uc708\\uc2a4\", \"\\ud2b9\\ub840\", \"\\ud2b9\\ub840\", \"\\ud2b9\\ub840\", \"\\ud2b9\\ub840\", \"\\ud2b9\\ubcc4\\uacc4\\ud68d\\uad6c\\uc5ed\\uc758\", \"\\ud2b9\\ubcc4\\ud65c\\ub3d9\", \"\\ud310\\ub9e4\", \"\\ud310\\ub9e4\", \"\\ud310\\ub9e4\", \"\\ud310\\ub9e4\", \"\\ud310\\ub9e4\", \"\\ud310\\ub9e4\", \"\\ud328\\uc158\\uc9c0\\uc6d0\\uc13c\\ud130\", \"\\ud37c\\ub2c8\\uc2a4\\ud2b8\", \"\\ud37c\\uc13c\\ud2b8\", \"\\ud37c\\uc13c\\ud2b8\", \"\\ud37c\\uc13c\\ud2b8\", \"\\ud398\\ud2b8\\ubcd1\", \"\\ud3b8\\uc758\\uc2dc\\uc124\", \"\\ud3b8\\uc758\\uc2dc\\uc124\", \"\\ud3b8\\uc758\\uc2dc\\uc124\", \"\\ud3b8\\uc758\\uc2dc\\uc124\", \"\\ud3b8\\uc758\\uc2dc\\uc124\", \"\\ud3b8\\uc758\\uc2dc\\uc124\", \"\\ud3b8\\uc758\\uc810\", \"\\ud3b8\\uc758\\uc810\", \"\\ud3b8\\uc758\\uc810\", \"\\ud3c9\\uc77c\", \"\\ud3c9\\uc77c\", \"\\ud3c9\\uc77c\", \"\\ud3c9\\uc77c\", \"\\ud3c9\\uc77c\", \"\\ud3c9\\uc77c\", \"\\ud3c9\\uc77c\", \"\\ud3c9\\uc77c\", \"\\ud3c9\\uc77c\", \"\\ud3ec\\uc7a5\", \"\\ud3ec\\uc7a5\", \"\\ud3ec\\uc7a5\", \"\\ud3ec\\uc7a5\", \"\\ud45c\\ucc3d\", \"\\ud45c\\ucc3d\", \"\\ud45c\\ucc3d\", \"\\ud488\\ubaa9\\uc81c\\uc870\\uc815\\uc9c0\", \"\\ud504\\ub85c\\uadf8\\ub7a8\", \"\\ud504\\ub85c\\uadf8\\ub7a8\", \"\\ud504\\ub85c\\uadf8\\ub7a8\", \"\\ud504\\ub85c\\uadf8\\ub7a8\", \"\\ud504\\ub85c\\uadf8\\ub7a8\", \"\\ud504\\ub85c\\uadf8\\ub7a8\", \"\\ud504\\ub85c\\uadf8\\ub7a8\", \"\\ud504\\ub85c\\uadf8\\ub7a8\", \"\\ud504\\ub85c\\uadf8\\ub7a8\", \"\\ud504\\ub85c\\uadf8\\ub7a8\", \"\\ud504\\ub85c\\uc81d\\ud130\", \"\\ud504\\ub9ac\\ubbf8\\uc5b4\\ud50c\\ub808\\uc774\\uc2a4\\ube4c\\ub529\", \"\\ud50c\\ub77c\\uc6cc\\ud2b8\\ub7ed\", \"\\ud53c\\ud574\\uae30\\uc5c5\", \"\\ud544\\uc694\\ud55c\", \"\\ud544\\uc694\\ud55c\", \"\\ud544\\uc694\\ud55c\", \"\\ud544\\uc694\\ud55c\", \"\\ud544\\uc694\\ud55c\", \"\\ud544\\uc694\\ud55c\", \"\\ud544\\uc694\\ud55c\", \"\\ud544\\uc694\\ud55c\", \"\\ud544\\uc694\\ud55c\", \"\\ud544\\uc694\\ud55c\", \"\\ud558\\uace0\", \"\\ud558\\uace0\", \"\\ud558\\uace0\", \"\\ud558\\uace0\", \"\\ud558\\uace0\", \"\\ud558\\uace0\", \"\\ud558\\uace0\", \"\\ud558\\uace0\", \"\\ud558\\uace0\", \"\\ud558\\uace0\", \"\\ud558\\ub098\\uc694\", \"\\ud558\\ub098\\uc694\", \"\\ud558\\ub098\\uc694\", \"\\ud558\\ub098\\uc694\", \"\\ud558\\ub098\\uc694\", \"\\ud558\\ub098\\uc694\", \"\\ud558\\ub098\\uc694\", \"\\ud558\\ub098\\uc694\", \"\\ud558\\ub098\\uc694\", \"\\ud558\\ub098\\uc694\", \"\\ud558\\ub294\", \"\\ud558\\ub294\", \"\\ud558\\ub294\", \"\\ud558\\ub294\", \"\\ud558\\ub294\", \"\\ud558\\ub294\", \"\\ud558\\ub294\", \"\\ud558\\ub294\", \"\\ud558\\ub294\", \"\\ud558\\ub294\", \"\\ud55c\\ub2e4\", \"\\ud55c\\ub2e4\", \"\\ud55c\\ub2e4\", \"\\ud55c\\ub2e4\", \"\\ud55c\\ub2e4\", \"\\ud55c\\ub2e4\", \"\\ud55c\\ub2e4\", \"\\ud55c\\ub2e4\", \"\\ud55c\\ub2e4\", \"\\ud55c\\ub2e4\", \"\\ud55c\\uc131\\ub300\\uc785\\uad6c\\uc5ed\", \"\\ud55c\\uc131\\ub300\\uc785\\uad6c\\uc5ed\", \"\\ud55c\\uc131\\ub300\\uc785\\uad6c\\uc5ed\", \"\\ud55c\\uc131\\ub300\\uc785\\uad6c\\uc5ed\", \"\\ud560\\uc778\", \"\\ud560\\uc778\", \"\\ud560\\uc778\", \"\\ud560\\uc778\", \"\\ud560\\uc778\", \"\\ud560\\uc778\", \"\\ud560\\uc778\", \"\\ud568\\uaed8\\uafc8\", \"\\ud569\\uacc4\\uac00\", \"\\ud569\\uacc4\\uac00\", \"\\ud569\\uacc4\\uac00\", \"\\ud569\\uacc4\\uac00\", \"\\ud569\\ub2c8\\ub2e4\", \"\\ud569\\ub2c8\\ub2e4\", \"\\ud569\\ub2c8\\ub2e4\", \"\\ud569\\ub2c8\\ub2e4\", \"\\ud569\\ub2c8\\ub2e4\", \"\\ud569\\ub2c8\\ub2e4\", \"\\ud569\\ub2c8\\ub2e4\", \"\\ud569\\ub2c8\\ub2e4\", \"\\ud569\\ub2c8\\ub2e4\", \"\\ud569\\ub2c8\\ub2e4\", \"\\ud569\\uc2dc\\ub2e4\", \"\\ud574\\ub2f9\", \"\\ud574\\ub2f9\", \"\\ud574\\ub2f9\", \"\\ud574\\ub2f9\", \"\\ud574\\ub2f9\", \"\\ud574\\ub2f9\", \"\\ud574\\ub2f9\", \"\\ud574\\ub2f9\", \"\\ud574\\ub2f9\", \"\\ud574\\ub2f9\", \"\\ud574\\ub2f9\\ud558\\ub294\", \"\\ud574\\ub2f9\\ud558\\ub294\", \"\\ud574\\ub2f9\\ud558\\ub294\", \"\\ud574\\ub2f9\\ud558\\ub294\", \"\\ud574\\ub2f9\\ud558\\ub294\", \"\\ud574\\ub2f9\\ud558\\ub294\", \"\\ud574\\ub2f9\\ud558\\ub294\", \"\\ud574\\ub2f9\\ud558\\ub294\", \"\\ud574\\ub2f9\\ud558\\ub294\", \"\\ud574\\ub2f9\\ud558\\ub294\", \"\\ud574\\uce58\", \"\\ud574\\uce58\", \"\\ud574\\uce58\\ud0dd\\uc2dc\", \"\\ud575\\uc2ec\\uc694\\uc6d0\", \"\\ud589\\ub824\\ud658\\uc790\", \"\\ud589\\uc815\\uc9c0\\uc6d0\\uacfc\", \"\\ud589\\uc815\\uc9c0\\uc6d0\\uacfc\", \"\\ud604\\uae08\\uc601\\uc218\\uc99d\", \"\\ud604\\uc7a5\\ubbfc\\uc6d0\", \"\\ud604\\ud669\", \"\\ud604\\ud669\", \"\\ud604\\ud669\", \"\\ud604\\ud669\", \"\\ud604\\ud669\", \"\\ud604\\ud669\", \"\\ud604\\ud669\", \"\\ud604\\ud669\", \"\\ud604\\ud669\", \"\\ud604\\ud669\", \"\\ud608\\uccad\\uac80\\uc0ac\\uc5d0\\uc11c\", \"\\ud638\\uc120\", \"\\ud638\\uc120\", \"\\ud638\\uc120\", \"\\ud638\\uc120\", \"\\ud638\\uc120\", \"\\ud638\\uc120\", \"\\ud638\\uc120\", \"\\ud638\\uc120\", \"\\ud648\\ud398\\uc774\\uc9c0\", \"\\ud648\\ud398\\uc774\\uc9c0\", \"\\ud648\\ud398\\uc774\\uc9c0\", \"\\ud648\\ud398\\uc774\\uc9c0\", \"\\ud648\\ud398\\uc774\\uc9c0\", \"\\ud648\\ud398\\uc774\\uc9c0\", \"\\ud648\\ud398\\uc774\\uc9c0\", \"\\ud648\\ud398\\uc774\\uc9c0\", \"\\ud648\\ud398\\uc774\\uc9c0\", \"\\ud648\\ud398\\uc774\\uc9c0\", \"\\ud654\\ubb3c\", \"\\ud655\\uc778\", \"\\ud655\\uc778\", \"\\ud655\\uc778\", \"\\ud655\\uc778\", \"\\ud655\\uc778\", \"\\ud655\\uc778\", \"\\ud655\\uc778\", \"\\ud655\\uc778\", \"\\ud655\\uc778\", \"\\ud655\\uc778\", \"\\ud655\\uc815\\uad6c\\uc5ed\\uc751\\uc554\\ub3d9\", \"\\ud658\\uacbd\\uc601\\ud5a5\\ud3c9\\uac00\", \"\\ud658\\uacbd\\uc601\\ud5a5\\ud3c9\\uac00\", \"\\ud658\\ubd88\\uc740\", \"\\ud658\\uc790\\uad8c\\ub9ac\", \"\\ud65c\\ub3d9\\ubcf4\\uc870\\uc778\", \"\\ud68c\\uacc4\\ucee8\\uc124\\ud305\", \"\\ud68c\\uc758\", \"\\ud68c\\uc758\", \"\\ud68c\\uc758\", \"\\ud68c\\uc758\", \"\\ud68c\\uc758\", \"\\ud68c\\uc758\", \"\\ud68c\\uc758\", \"\\ud6c4\\uacc4\\ub18d\\uc5c5\\uacbd\\uc601\\uc778\"]}, \"R\": 30, \"lambda.step\": 0.01, \"plot.opts\": {\"xlab\": \"PC1\", \"ylab\": \"PC2\"}, \"topic.order\": [4, 9, 10, 2, 5, 1, 8, 7, 3, 6]};\n",
       "\n",
       "function LDAvis_load_lib(url, callback){\n",
       "  var s = document.createElement('script');\n",
       "  s.src = url;\n",
       "  s.async = true;\n",
       "  s.onreadystatechange = s.onload = callback;\n",
       "  s.onerror = function(){console.warn(\"failed to load library \" + url);};\n",
       "  document.getElementsByTagName(\"head\")[0].appendChild(s);\n",
       "}\n",
       "\n",
       "if(typeof(LDAvis) !== \"undefined\"){\n",
       "   // already loaded: just create the visualization\n",
       "   !function(LDAvis){\n",
       "       new LDAvis(\"#\" + \"ldavis_el12711405467965095204965033536\", ldavis_el12711405467965095204965033536_data);\n",
       "   }(LDAvis);\n",
       "}else if(typeof define === \"function\" && define.amd){\n",
       "   // require.js is available: use it to load d3/LDAvis\n",
       "   require.config({paths: {d3: \"https://d3js.org/d3.v5\"}});\n",
       "   require([\"d3\"], function(d3){\n",
       "      window.d3 = d3;\n",
       "      LDAvis_load_lib(\"https://cdn.jsdelivr.net/gh/bmabey/pyLDAvis@3.3.1/pyLDAvis/js/ldavis.v3.0.0.js\", function(){\n",
       "        new LDAvis(\"#\" + \"ldavis_el12711405467965095204965033536\", ldavis_el12711405467965095204965033536_data);\n",
       "      });\n",
       "    });\n",
       "}else{\n",
       "    // require.js not available: dynamically load d3 & LDAvis\n",
       "    LDAvis_load_lib(\"https://d3js.org/d3.v5.js\", function(){\n",
       "         LDAvis_load_lib(\"https://cdn.jsdelivr.net/gh/bmabey/pyLDAvis@3.3.1/pyLDAvis/js/ldavis.v3.0.0.js\", function(){\n",
       "                 new LDAvis(\"#\" + \"ldavis_el12711405467965095204965033536\", ldavis_el12711405467965095204965033536_data);\n",
       "            })\n",
       "         });\n",
       "}\n",
       "</script>"
      ],
      "text/plain": [
       "PreparedData(topic_coordinates=               x          y  topics  cluster       Freq\n",
       "topic                                                  \n",
       "3      32.420952   8.115230       1        1  12.172445\n",
       "8       0.648955  71.707100       2        1  12.154682\n",
       "9      71.019684   9.971006       3        1  11.785719\n",
       "1       3.785981  33.185135       4        1  10.898180\n",
       "4     -42.666500  -9.222070       5        1  10.195894\n",
       "0      -3.621689 -43.526516       6        1   9.932464\n",
       "7      -3.632402  -4.171708       7        1   9.625837\n",
       "6     -36.584400  35.804413       8        1   8.299540\n",
       "2      44.391380  50.615383       9        1   8.143514\n",
       "5      40.235809 -31.591665      10        1   6.791724, topic_info=       Term        Freq       Total Category  logprob  loglift\n",
       "37177  자본금은   31.000000   31.000000  Default  30.0000  30.0000\n",
       "52250    호선  121.000000  121.000000  Default  29.0000  29.0000\n",
       "36835  있습니다  540.000000  540.000000  Default  28.0000  28.0000\n",
       "34480    의한  195.000000  195.000000  Default  27.0000  27.0000\n",
       "119     amp   60.000000   60.000000  Default  26.0000  26.0000\n",
       "...     ...         ...         ...      ...      ...      ...\n",
       "13404    등을   11.380034  185.047691  Topic10  -6.7791  -0.0993\n",
       "51009   합니다   11.580689  202.997843  Topic10  -6.7616  -0.1744\n",
       "23190   서울시   12.110887  415.949642  Topic10  -6.7168  -0.8470\n",
       "52348  홈페이지   11.147437  304.261200  Topic10  -6.7997  -0.6172\n",
       "35225    이하    9.247056   98.803459  Topic10  -6.9866   0.3206\n",
       "\n",
       "[768 rows x 6 columns], token_table=       Topic      Freq     Term\n",
       "term                           \n",
       "119        1  0.298465      amp\n",
       "119        2  0.082907      amp\n",
       "119        4  0.049744      amp\n",
       "119        8  0.381371      amp\n",
       "119        9  0.016581      amp\n",
       "...      ...       ...      ...\n",
       "53152      4  0.567299       회의\n",
       "53152      6  0.056730       회의\n",
       "53152      8  0.056730       회의\n",
       "53152     10  0.113460       회의\n",
       "53279      1  0.873481  후계농업경영인\n",
       "\n",
       "[1960 rows x 3 columns], R=30, lambda_step=0.01, plot_opts={'xlab': 'PC1', 'ylab': 'PC2'}, topic_order=[4, 9, 10, 2, 5, 1, 8, 7, 3, 6])"
      ]
     },
     "execution_count": 59,
     "metadata": {},
     "output_type": "execute_result"
    }
   ],
   "source": [
    "# 토픽 모델링에 이용되는 LDA 모델의 학습 결과를 시각화하는 Python 라이브러리인 pyLDAvis를 불러옵니다.\n",
    "# mds(Multi-Dimensional Scaling)는 데이터 포인트 간의 거리를 보존하면서 차원을 축소하는 기법입니다.\n",
    "# t-SNE(t-Stochastic Neighbor Embedding)은 고차원 데이터를 특히 2, 3차원 등으로 줄여 가시화하는데에 유용합니다.\n",
    "\n",
    "import pyLDAvis.sklearn\n",
    "\n",
    "pyLDAvis.enable_notebook()\n",
    "pyLDAvis.sklearn.prepare(LDA_model, dtm_cv, cv, mds='tsne')"
   ]
  },
  {
   "cell_type": "markdown",
   "metadata": {
    "id": "bduBjLQZo1Y1"
   },
   "source": [
    "## TF-IDF\n",
    "\n",
    "TF-IDF(Term Frequency - Inverse Document Frequency)\n",
    "\n",
    "정보 검색과 텍스트 마이닝에서 이용하는 가중치로, 여러 문서로 이루어진 문서군이 있을 때 어떤 단어가 특정 문서 내에서 얼마나 중요한 것인지를 나타내는 통계적 수치이다. 문서의 핵심어를 추출하거나, 검색 엔진에서 검색 결과의 순위를 결정하거나, 문서들 사이의 비슷한 정도를 구하는 등의 용도로 사용할 수 있다.\n",
    "\n",
    "TF(단어 빈도, term frequency)는 특정한 단어가 문서 내에 얼마나 자주 등장하는지를 나타내는 값으로, 이 값이 높을수록 문서에서 중요하다고 생각할 수 있다. 하지만 단어 자체가 문서군 내에서 자주 사용 되는 경우, 이것은 그 단어가 흔하게 등장한다는 것을 의미한다. 이것을 DF(문서 빈도, document frequency)라고 하며, 이 값의 역수를 IDF(역문서 빈도, inverse document frequency)라고 한다. TF-IDF는 TF와 IDF를 곱한 값이다.\n",
    "\n",
    "IDF 값은 문서군의 성격에 따라 결정된다. 예를 들어 '원자'라는 낱말은 일반적인 문서들 사이에서는 잘 나오지 않기 때문에 IDF 값이 높아지고 문서의 핵심어가 될 수 있지만, 원자에 대한 문서를 모아놓은 문서군의 경우 이 낱말은 상투어가 되어 각 문서들을 세분화하여 구분할 수 있는 다른 낱말들이 높은 가중치를 얻게 된다.\n",
    "\n",
    "* 출처 : [tf-idf - 위키백과, 우리 모두의 백과사전](https://ko.wikipedia.org/wiki/Tf-idf)\n",
    "\n",
    "\n",
    "\n",
    "## TfidfVectorizer\n",
    "\n",
    "TF-IDF 인코딩은 단어를 갯수 그대로 카운트하지 않고 모든 문서에 공통적으로 들어있는 단어(낮은 구별력)의 경우 가중치를 축소하는 방법\n",
    "\n",
    "매개변수\n",
    "* norm='l2' 각 문서의 피처 벡터를 어떻게 벡터 정규화 할지 정한다. \n",
    "    - L2 : 벡터의 각 원소의 제곱의 합이 1이 되도록 만드는 것이고 기본 값\n",
    "    - L1 : 벡터의 각 원소의 절댓값의 합이 1이 되도록 크기를 조절\n",
    "* smooth_idf=False\n",
    "    - 피처를 만들 때 0으로 나오는 항목에 대해 작은 값을 더해서(스무딩을 해서) 피처를 만들지 아니면 그냥 생성할지를 결정\n",
    "* sublinear_tf=False\n",
    "* use_idf=True\n",
    "    - TF-IDF를 사용해 피처를 만들 것인지 아니면 단어 빈도 자체를 사용할 것인지 여부\n",
    "* API Document: https://scikit-learn.org/stable/modules/generated/sklearn.feature_extraction.text.TfidfVectorizer.html#sklearn.feature_extraction.text.TfidfVectorizer\n"
   ]
  },
  {
   "cell_type": "code",
   "execution_count": 82,
   "metadata": {
    "id": "tEUNepLOo1Y1",
    "outputId": "7d39e765-68ad-437e-d37c-14a0b03de823"
   },
   "outputs": [
    {
     "data": {
      "text/plain": [
       "TfidfVectorizer(analyzer='word', binary=False, decode_error='strict',\n",
       "                dtype=<class 'numpy.float64'>, encoding='utf-8',\n",
       "                input='content', lowercase=True, max_df=1.0, max_features=None,\n",
       "                min_df=1, ngram_range=(1, 1), norm='l2', preprocessor=None,\n",
       "                smooth_idf=True,\n",
       "                stop_words=['돋움', '경우', '또는', '있습니다', '있는', '합니다'],\n",
       "                strip_accents=None, sublinear_tf=False,\n",
       "                token_pattern='(?u)\\\\b\\\\w\\\\w+\\\\b', tokenizer=None, use_idf=True,\n",
       "                vocabulary=None)"
      ]
     },
     "execution_count": 82,
     "metadata": {},
     "output_type": "execute_result"
    }
   ],
   "source": [
    "# TF-IDF 방식으로 단어의 가중치를 조정한 BOW 인코딩하여 벡터화하기 위해 TfidfVectorizer를 불러옵니다.\n",
    "\n",
    "from sklearn.feature_extraction.text import TfidfVectorizer\n",
    "\n",
    "tfidf = TfidfVectorizer(stop_words=[\"돋움\", \"경우\", \"또는\", \"있습니다\", \"있는\", \"합니다\"])\n",
    "tfidf"
   ]
  },
  {
   "cell_type": "code",
   "execution_count": 83,
   "metadata": {
    "id": "UKEXeuKQo1Y1",
    "outputId": "157f2a5c-9597-45c3-de7a-c9ef1cc1df8e"
   },
   "outputs": [],
   "source": [
    "# 문장에서 노출되는 feature(특징이 될만한 단어) 수를 합한 변수 Document Term Matrix(이하 dtm)를 생성합니다.\n",
    "dtm_tfidf = tfidf.fit_transform(df[\"문서\"])"
   ]
  },
  {
   "cell_type": "code",
   "execution_count": 84,
   "metadata": {
    "id": "XLkWfsggo1Y1",
    "outputId": "9256c021-cdb8-4173-d1f6-440f975073de"
   },
   "outputs": [],
   "source": [
    "# tfidf.vocabulary_ 의 번호는 정렬 순으로 되어 있습니다.\n",
    "# tfidf.vocabulary_\n",
    "cols_tfidf = tfidf.get_feature_names()"
   ]
  },
  {
   "cell_type": "code",
   "execution_count": 85,
   "metadata": {
    "id": "n8W95ppMo1Y2",
    "outputId": "76547c25-abeb-4190-ca0e-c49359cd1858"
   },
   "outputs": [
    {
     "data": {
      "text/html": [
       "<div>\n",
       "<style scoped>\n",
       "    .dataframe tbody tr th:only-of-type {\n",
       "        vertical-align: middle;\n",
       "    }\n",
       "\n",
       "    .dataframe tbody tr th {\n",
       "        vertical-align: top;\n",
       "    }\n",
       "\n",
       "    .dataframe thead th {\n",
       "        text-align: right;\n",
       "    }\n",
       "</style>\n",
       "<table border=\"1\" class=\"dataframe\">\n",
       "  <thead>\n",
       "    <tr style=\"text-align: right;\">\n",
       "      <th></th>\n",
       "      <th>0</th>\n",
       "    </tr>\n",
       "  </thead>\n",
       "  <tbody>\n",
       "    <tr>\n",
       "      <th>됩니다</th>\n",
       "      <td>15.638986</td>\n",
       "    </tr>\n",
       "    <tr>\n",
       "      <th>의한</th>\n",
       "      <td>16.780848</td>\n",
       "    </tr>\n",
       "    <tr>\n",
       "      <th>관한</th>\n",
       "      <td>17.282635</td>\n",
       "    </tr>\n",
       "    <tr>\n",
       "      <th>홈페이지</th>\n",
       "      <td>17.318056</td>\n",
       "    </tr>\n",
       "    <tr>\n",
       "      <th>있나요</th>\n",
       "      <td>17.951701</td>\n",
       "    </tr>\n",
       "    <tr>\n",
       "      <th>이상</th>\n",
       "      <td>18.381179</td>\n",
       "    </tr>\n",
       "    <tr>\n",
       "      <th>따라</th>\n",
       "      <td>18.530859</td>\n",
       "    </tr>\n",
       "    <tr>\n",
       "      <th>대한</th>\n",
       "      <td>18.677385</td>\n",
       "    </tr>\n",
       "    <tr>\n",
       "      <th>서울시</th>\n",
       "      <td>22.746432</td>\n",
       "    </tr>\n",
       "    <tr>\n",
       "      <th>어떻게</th>\n",
       "      <td>24.762187</td>\n",
       "    </tr>\n",
       "  </tbody>\n",
       "</table>\n",
       "</div>"
      ],
      "text/plain": [
       "              0\n",
       "됩니다   15.638986\n",
       "의한    16.780848\n",
       "관한    17.282635\n",
       "홈페이지  17.318056\n",
       "있나요   17.951701\n",
       "이상    18.381179\n",
       "따라    18.530859\n",
       "대한    18.677385\n",
       "서울시   22.746432\n",
       "어떻게   24.762187"
      ]
     },
     "execution_count": 85,
     "metadata": {},
     "output_type": "execute_result"
    }
   ],
   "source": [
    "# dtm_tf를 axis=0(수직 방향으로) 기준으로 합계를 낸 dist 변수를 생성합니다.\n",
    "# dist 변수를 vocabulary_ 순으로 정렬하여 비율을 확인합니다.\n",
    "dist = np.sum(dtm_tfidf, axis=0)\n",
    "pd.DataFrame(dist, columns=cols_tfidf).T.sort_values(by=0).tail(10)"
   ]
  },
  {
   "cell_type": "code",
   "execution_count": 86,
   "metadata": {
    "id": "l61luP9mo1Y2",
    "outputId": "49a5d865-6ee5-4c7d-ff31-217235ea7bfd"
   },
   "outputs": [
    {
     "data": {
      "text/html": [
       "<div>\n",
       "<style scoped>\n",
       "    .dataframe tbody tr th:only-of-type {\n",
       "        vertical-align: middle;\n",
       "    }\n",
       "\n",
       "    .dataframe tbody tr th {\n",
       "        vertical-align: top;\n",
       "    }\n",
       "\n",
       "    .dataframe thead th {\n",
       "        text-align: right;\n",
       "    }\n",
       "</style>\n",
       "<table border=\"1\" class=\"dataframe\">\n",
       "  <thead>\n",
       "    <tr style=\"text-align: right;\">\n",
       "      <th></th>\n",
       "      <th>03월</th>\n",
       "      <th>08년</th>\n",
       "      <th>10</th>\n",
       "      <th>100명이상인</th>\n",
       "      <th>100세가</th>\n",
       "      <th>10만원</th>\n",
       "      <th>10만원상당</th>\n",
       "      <th>10명이고</th>\n",
       "      <th>10인승</th>\n",
       "      <th>10인의</th>\n",
       "      <th>...</th>\n",
       "      <th>힐링프로그램을</th>\n",
       "      <th>힐링하는</th>\n",
       "      <th>힐스테이트</th>\n",
       "      <th>힘들</th>\n",
       "      <th>힘들경우</th>\n",
       "      <th>힘들고</th>\n",
       "      <th>힘쓰고</th>\n",
       "      <th>힘쓴다</th>\n",
       "      <th>힘을</th>\n",
       "      <th>힘이</th>\n",
       "    </tr>\n",
       "  </thead>\n",
       "  <tbody>\n",
       "    <tr>\n",
       "      <th>0</th>\n",
       "      <td>0.0</td>\n",
       "      <td>0.0</td>\n",
       "      <td>0.0</td>\n",
       "      <td>0.0</td>\n",
       "      <td>0.0</td>\n",
       "      <td>0.0</td>\n",
       "      <td>0.0</td>\n",
       "      <td>0.0</td>\n",
       "      <td>0.0</td>\n",
       "      <td>0.0</td>\n",
       "      <td>...</td>\n",
       "      <td>0.0</td>\n",
       "      <td>0.0</td>\n",
       "      <td>0.0</td>\n",
       "      <td>0.0</td>\n",
       "      <td>0.0</td>\n",
       "      <td>0.0</td>\n",
       "      <td>0.0</td>\n",
       "      <td>0.0</td>\n",
       "      <td>0.0</td>\n",
       "      <td>0.0</td>\n",
       "    </tr>\n",
       "    <tr>\n",
       "      <th>1</th>\n",
       "      <td>0.0</td>\n",
       "      <td>0.0</td>\n",
       "      <td>0.0</td>\n",
       "      <td>0.0</td>\n",
       "      <td>0.0</td>\n",
       "      <td>0.0</td>\n",
       "      <td>0.0</td>\n",
       "      <td>0.0</td>\n",
       "      <td>0.0</td>\n",
       "      <td>0.0</td>\n",
       "      <td>...</td>\n",
       "      <td>0.0</td>\n",
       "      <td>0.0</td>\n",
       "      <td>0.0</td>\n",
       "      <td>0.0</td>\n",
       "      <td>0.0</td>\n",
       "      <td>0.0</td>\n",
       "      <td>0.0</td>\n",
       "      <td>0.0</td>\n",
       "      <td>0.0</td>\n",
       "      <td>0.0</td>\n",
       "    </tr>\n",
       "    <tr>\n",
       "      <th>2</th>\n",
       "      <td>0.0</td>\n",
       "      <td>0.0</td>\n",
       "      <td>0.0</td>\n",
       "      <td>0.0</td>\n",
       "      <td>0.0</td>\n",
       "      <td>0.0</td>\n",
       "      <td>0.0</td>\n",
       "      <td>0.0</td>\n",
       "      <td>0.0</td>\n",
       "      <td>0.0</td>\n",
       "      <td>...</td>\n",
       "      <td>0.0</td>\n",
       "      <td>0.0</td>\n",
       "      <td>0.0</td>\n",
       "      <td>0.0</td>\n",
       "      <td>0.0</td>\n",
       "      <td>0.0</td>\n",
       "      <td>0.0</td>\n",
       "      <td>0.0</td>\n",
       "      <td>0.0</td>\n",
       "      <td>0.0</td>\n",
       "    </tr>\n",
       "    <tr>\n",
       "      <th>3</th>\n",
       "      <td>0.0</td>\n",
       "      <td>0.0</td>\n",
       "      <td>0.0</td>\n",
       "      <td>0.0</td>\n",
       "      <td>0.0</td>\n",
       "      <td>0.0</td>\n",
       "      <td>0.0</td>\n",
       "      <td>0.0</td>\n",
       "      <td>0.0</td>\n",
       "      <td>0.0</td>\n",
       "      <td>...</td>\n",
       "      <td>0.0</td>\n",
       "      <td>0.0</td>\n",
       "      <td>0.0</td>\n",
       "      <td>0.0</td>\n",
       "      <td>0.0</td>\n",
       "      <td>0.0</td>\n",
       "      <td>0.0</td>\n",
       "      <td>0.0</td>\n",
       "      <td>0.0</td>\n",
       "      <td>0.0</td>\n",
       "    </tr>\n",
       "    <tr>\n",
       "      <th>4</th>\n",
       "      <td>0.0</td>\n",
       "      <td>0.0</td>\n",
       "      <td>0.0</td>\n",
       "      <td>0.0</td>\n",
       "      <td>0.0</td>\n",
       "      <td>0.0</td>\n",
       "      <td>0.0</td>\n",
       "      <td>0.0</td>\n",
       "      <td>0.0</td>\n",
       "      <td>0.0</td>\n",
       "      <td>...</td>\n",
       "      <td>0.0</td>\n",
       "      <td>0.0</td>\n",
       "      <td>0.0</td>\n",
       "      <td>0.0</td>\n",
       "      <td>0.0</td>\n",
       "      <td>0.0</td>\n",
       "      <td>0.0</td>\n",
       "      <td>0.0</td>\n",
       "      <td>0.0</td>\n",
       "      <td>0.0</td>\n",
       "    </tr>\n",
       "    <tr>\n",
       "      <th>...</th>\n",
       "      <td>...</td>\n",
       "      <td>...</td>\n",
       "      <td>...</td>\n",
       "      <td>...</td>\n",
       "      <td>...</td>\n",
       "      <td>...</td>\n",
       "      <td>...</td>\n",
       "      <td>...</td>\n",
       "      <td>...</td>\n",
       "      <td>...</td>\n",
       "      <td>...</td>\n",
       "      <td>...</td>\n",
       "      <td>...</td>\n",
       "      <td>...</td>\n",
       "      <td>...</td>\n",
       "      <td>...</td>\n",
       "      <td>...</td>\n",
       "      <td>...</td>\n",
       "      <td>...</td>\n",
       "      <td>...</td>\n",
       "      <td>...</td>\n",
       "    </tr>\n",
       "    <tr>\n",
       "      <th>2640</th>\n",
       "      <td>0.0</td>\n",
       "      <td>0.0</td>\n",
       "      <td>0.0</td>\n",
       "      <td>0.0</td>\n",
       "      <td>0.0</td>\n",
       "      <td>0.0</td>\n",
       "      <td>0.0</td>\n",
       "      <td>0.0</td>\n",
       "      <td>0.0</td>\n",
       "      <td>0.0</td>\n",
       "      <td>...</td>\n",
       "      <td>0.0</td>\n",
       "      <td>0.0</td>\n",
       "      <td>0.0</td>\n",
       "      <td>0.0</td>\n",
       "      <td>0.0</td>\n",
       "      <td>0.0</td>\n",
       "      <td>0.0</td>\n",
       "      <td>0.0</td>\n",
       "      <td>0.0</td>\n",
       "      <td>0.0</td>\n",
       "    </tr>\n",
       "    <tr>\n",
       "      <th>2641</th>\n",
       "      <td>0.0</td>\n",
       "      <td>0.0</td>\n",
       "      <td>0.0</td>\n",
       "      <td>0.0</td>\n",
       "      <td>0.0</td>\n",
       "      <td>0.0</td>\n",
       "      <td>0.0</td>\n",
       "      <td>0.0</td>\n",
       "      <td>0.0</td>\n",
       "      <td>0.0</td>\n",
       "      <td>...</td>\n",
       "      <td>0.0</td>\n",
       "      <td>0.0</td>\n",
       "      <td>0.0</td>\n",
       "      <td>0.0</td>\n",
       "      <td>0.0</td>\n",
       "      <td>0.0</td>\n",
       "      <td>0.0</td>\n",
       "      <td>0.0</td>\n",
       "      <td>0.0</td>\n",
       "      <td>0.0</td>\n",
       "    </tr>\n",
       "    <tr>\n",
       "      <th>2642</th>\n",
       "      <td>0.0</td>\n",
       "      <td>0.0</td>\n",
       "      <td>0.0</td>\n",
       "      <td>0.0</td>\n",
       "      <td>0.0</td>\n",
       "      <td>0.0</td>\n",
       "      <td>0.0</td>\n",
       "      <td>0.0</td>\n",
       "      <td>0.0</td>\n",
       "      <td>0.0</td>\n",
       "      <td>...</td>\n",
       "      <td>0.0</td>\n",
       "      <td>0.0</td>\n",
       "      <td>0.0</td>\n",
       "      <td>0.0</td>\n",
       "      <td>0.0</td>\n",
       "      <td>0.0</td>\n",
       "      <td>0.0</td>\n",
       "      <td>0.0</td>\n",
       "      <td>0.0</td>\n",
       "      <td>0.0</td>\n",
       "    </tr>\n",
       "    <tr>\n",
       "      <th>2643</th>\n",
       "      <td>0.0</td>\n",
       "      <td>0.0</td>\n",
       "      <td>0.0</td>\n",
       "      <td>0.0</td>\n",
       "      <td>0.0</td>\n",
       "      <td>0.0</td>\n",
       "      <td>0.0</td>\n",
       "      <td>0.0</td>\n",
       "      <td>0.0</td>\n",
       "      <td>0.0</td>\n",
       "      <td>...</td>\n",
       "      <td>0.0</td>\n",
       "      <td>0.0</td>\n",
       "      <td>0.0</td>\n",
       "      <td>0.0</td>\n",
       "      <td>0.0</td>\n",
       "      <td>0.0</td>\n",
       "      <td>0.0</td>\n",
       "      <td>0.0</td>\n",
       "      <td>0.0</td>\n",
       "      <td>0.0</td>\n",
       "    </tr>\n",
       "    <tr>\n",
       "      <th>2644</th>\n",
       "      <td>0.0</td>\n",
       "      <td>0.0</td>\n",
       "      <td>0.0</td>\n",
       "      <td>0.0</td>\n",
       "      <td>0.0</td>\n",
       "      <td>0.0</td>\n",
       "      <td>0.0</td>\n",
       "      <td>0.0</td>\n",
       "      <td>0.0</td>\n",
       "      <td>0.0</td>\n",
       "      <td>...</td>\n",
       "      <td>0.0</td>\n",
       "      <td>0.0</td>\n",
       "      <td>0.0</td>\n",
       "      <td>0.0</td>\n",
       "      <td>0.0</td>\n",
       "      <td>0.0</td>\n",
       "      <td>0.0</td>\n",
       "      <td>0.0</td>\n",
       "      <td>0.0</td>\n",
       "      <td>0.0</td>\n",
       "    </tr>\n",
       "  </tbody>\n",
       "</table>\n",
       "<p>2645 rows × 53616 columns</p>\n",
       "</div>"
      ],
      "text/plain": [
       "      03월  08년   10  100명이상인  100세가  10만원  10만원상당  10명이고  10인승  10인의  ...  \\\n",
       "0     0.0  0.0  0.0      0.0    0.0   0.0     0.0    0.0   0.0   0.0  ...   \n",
       "1     0.0  0.0  0.0      0.0    0.0   0.0     0.0    0.0   0.0   0.0  ...   \n",
       "2     0.0  0.0  0.0      0.0    0.0   0.0     0.0    0.0   0.0   0.0  ...   \n",
       "3     0.0  0.0  0.0      0.0    0.0   0.0     0.0    0.0   0.0   0.0  ...   \n",
       "4     0.0  0.0  0.0      0.0    0.0   0.0     0.0    0.0   0.0   0.0  ...   \n",
       "...   ...  ...  ...      ...    ...   ...     ...    ...   ...   ...  ...   \n",
       "2640  0.0  0.0  0.0      0.0    0.0   0.0     0.0    0.0   0.0   0.0  ...   \n",
       "2641  0.0  0.0  0.0      0.0    0.0   0.0     0.0    0.0   0.0   0.0  ...   \n",
       "2642  0.0  0.0  0.0      0.0    0.0   0.0     0.0    0.0   0.0   0.0  ...   \n",
       "2643  0.0  0.0  0.0      0.0    0.0   0.0     0.0    0.0   0.0   0.0  ...   \n",
       "2644  0.0  0.0  0.0      0.0    0.0   0.0     0.0    0.0   0.0   0.0  ...   \n",
       "\n",
       "      힐링프로그램을  힐링하는  힐스테이트   힘들  힘들경우  힘들고  힘쓰고  힘쓴다   힘을   힘이  \n",
       "0         0.0   0.0    0.0  0.0   0.0  0.0  0.0  0.0  0.0  0.0  \n",
       "1         0.0   0.0    0.0  0.0   0.0  0.0  0.0  0.0  0.0  0.0  \n",
       "2         0.0   0.0    0.0  0.0   0.0  0.0  0.0  0.0  0.0  0.0  \n",
       "3         0.0   0.0    0.0  0.0   0.0  0.0  0.0  0.0  0.0  0.0  \n",
       "4         0.0   0.0    0.0  0.0   0.0  0.0  0.0  0.0  0.0  0.0  \n",
       "...       ...   ...    ...  ...   ...  ...  ...  ...  ...  ...  \n",
       "2640      0.0   0.0    0.0  0.0   0.0  0.0  0.0  0.0  0.0  0.0  \n",
       "2641      0.0   0.0    0.0  0.0   0.0  0.0  0.0  0.0  0.0  0.0  \n",
       "2642      0.0   0.0    0.0  0.0   0.0  0.0  0.0  0.0  0.0  0.0  \n",
       "2643      0.0   0.0    0.0  0.0   0.0  0.0  0.0  0.0  0.0  0.0  \n",
       "2644      0.0   0.0    0.0  0.0   0.0  0.0  0.0  0.0  0.0  0.0  \n",
       "\n",
       "[2645 rows x 53616 columns]"
      ]
     },
     "execution_count": 86,
     "metadata": {},
     "output_type": "execute_result"
    }
   ],
   "source": [
    "# 각 row에서 전체 단어가방에 있는 어휘에서 등장하는 단어에 대한 가중치를 적용한 vector를 확인합니다.\n",
    "# toarray()로 희소 행렬(sparse matrix, 행렬의 값이 대부분 '0'인 행렬)을 NumPy array 배열로 변환하여 값을 확인합니다.\n",
    "pd.DataFrame(dtm_tfidf.toarray(), columns=cols_tfidf)"
   ]
  },
  {
   "cell_type": "markdown",
   "metadata": {
    "id": "TMPSs--bo1Y2"
   },
   "source": [
    "## TF-IDF 잠재 디리클레 할당(LDA)"
   ]
  },
  {
   "cell_type": "code",
   "execution_count": 87,
   "metadata": {
    "id": "6bRYL9mho1Y2",
    "outputId": "64d81c7a-e8d0-4697-bef7-f3a4c9415fdf"
   },
   "outputs": [],
   "source": [
    "# 주어진 문서에 대하여 각 문서에 어떤 주제들이 존재하는지를 확인하는 잠재 디리클레 분석(LDA)을 불러옵니다.\n",
    "# n_components에 넣을 하이퍼파라미터 NUM_TOPICS로 주제수를 설정합니다.(기본값=10)\n",
    "# max_iter는 훈련 데이터(epoch라고도 함)에 대한 최대 패스 수입니다.(기본값=10)\n",
    "\n",
    "NUM_TOPICS = 10 \n",
    "LDA_model = LatentDirichletAllocation(n_components=NUM_TOPICS, \n",
    "                                      max_iter=30, \n",
    "                                      random_state=42)"
   ]
  },
  {
   "cell_type": "code",
   "execution_count": 88,
   "metadata": {
    "id": "6bRYL9mho1Y2",
    "outputId": "64d81c7a-e8d0-4697-bef7-f3a4c9415fdf",
    "scrolled": true
   },
   "outputs": [
    {
     "data": {
      "text/plain": [
       "LatentDirichletAllocation(batch_size=128, doc_topic_prior=None,\n",
       "                          evaluate_every=-1, learning_decay=0.7,\n",
       "                          learning_method='batch', learning_offset=10.0,\n",
       "                          max_doc_update_iter=100, max_iter=30,\n",
       "                          mean_change_tol=0.001, n_components=10, n_jobs=None,\n",
       "                          perp_tol=0.1, random_state=42, topic_word_prior=None,\n",
       "                          total_samples=1000000.0, verbose=0)"
      ]
     },
     "execution_count": 88,
     "metadata": {},
     "output_type": "execute_result"
    }
   ],
   "source": [
    "# dtm_tfidf 를 LDA_model로 학습시킵니다.\n",
    "LDA_model.fit(dtm_tfidf)"
   ]
  },
  {
   "cell_type": "code",
   "execution_count": 89,
   "metadata": {
    "id": "gE9FI9jmo1Y3",
    "outputId": "1f04d309-c867-421e-a948-8e3b1d386fdc"
   },
   "outputs": [
    {
     "name": "stderr",
     "output_type": "stream",
     "text": [
      "/Users/corazzon/opt/anaconda3/lib/python3.7/site-packages/joblib/numpy_pickle.py:104: DeprecationWarning: tostring() is deprecated. Use tobytes() instead.\n",
      "  pickler.file_handle.write(chunk.tostring('C'))\n",
      "/Users/corazzon/opt/anaconda3/lib/python3.7/site-packages/joblib/numpy_pickle.py:104: DeprecationWarning: tostring() is deprecated. Use tobytes() instead.\n",
      "  pickler.file_handle.write(chunk.tostring('C'))\n"
     ]
    },
    {
     "data": {
      "text/html": [
       "\n",
       "<link rel=\"stylesheet\" type=\"text/css\" href=\"https://cdn.jsdelivr.net/gh/bmabey/pyLDAvis@3.3.1/pyLDAvis/js/ldavis.v1.0.0.css\">\n",
       "\n",
       "\n",
       "<div id=\"ldavis_el12711405465628832808033978290\"></div>\n",
       "<script type=\"text/javascript\">\n",
       "\n",
       "var ldavis_el12711405465628832808033978290_data = {\"mdsDat\": {\"x\": [32.42095184326172, 0.648955225944519, 71.01968383789062, 3.7859814167022705, -42.666500091552734, -3.6216893196105957, -3.632401704788208, -36.58440017700195, 44.391380310058594, 40.235809326171875], \"y\": [8.115229606628418, 71.70709991455078, 9.971006393432617, 33.18513488769531, -9.22206974029541, -43.52651596069336, -4.171707630157471, 35.804412841796875, 50.61538314819336, -31.591665267944336], \"topics\": [1, 2, 3, 4, 5, 6, 7, 8, 9, 10], \"cluster\": [1, 1, 1, 1, 1, 1, 1, 1, 1, 1], \"Freq\": [31.71620805323972, 8.291155192363558, 8.254723748941611, 7.933208197940145, 7.844548925084004, 7.714613812986968, 7.464967137511973, 7.411924112246, 6.984971278158119, 6.383679541527908]}, \"tinfo\": {\"Term\": [\"\\ud648\\ud398\\uc774\\uc9c0\", \"\\uc11c\\uc6b8\\uc2dc\", \"\\uc81c\\uc870\", \"\\uad00\\ud55c\", \"\\ub300\\ud55c\", \"\\uac00\\ub2a5\", \"\\uc758\\ud55c\", \"\\uad00\\ub828\", \"\\ud655\\uc778\", \"\\uc790\\ubcf8\\uae08\\uc740\", \"\\uc6b4\\uc601\", \"\\uaddc\\uc815\\uc5d0\", \"\\ubb38\\uc758\", \"\\ub4f1\\uc744\", \"\\ub4f1\\uc5d0\", \"\\uc788\\uc74c\", \"\\uc9c0\\uc6d0\", \"\\uacbd\\uc6b0\\uc5d0\\ub294\", \"\\ub530\\ub77c\", \"\\uc11c\\uc6b8\\ud2b9\\ubcc4\\uc2dc\", \"\\ub9cc\\uc6d0\", \"\\ud1b5\\ud574\", \"\\uc774\\uc6a9\", \"\\ub418\\ub098\\uc694\", \"\\ud574\\ub2f9\", \"\\uc2e0\\uccad\", \"\\ub0b4\\uc6a9\", \"\\uc11c\\uc6b8\", \"\\uc548\\ub0b4\", \"\\ud55c\\ub2e4\", \"\\ud648\\ud398\\uc774\\uc9c0\", \"\\uc6b4\\uc601\", \"\\uc81c\\uc870\", \"\\uc9c0\\uc6d0\", \"\\uc11c\\uc6b8\\ud2b9\\ubcc4\\uc2dc\", \"\\uad00\\ub828\", \"\\uc2e0\\uccad\", \"\\uac00\\ub2a5\", \"\\uc548\\ub0b4\", \"\\ud655\\uc778\", \"\\ub9cc\\uc6d0\", \"\\uc11c\\uc6b8\", \"\\ub4f1\\uc5d0\", \"\\uc774\\uc6a9\", \"\\ub0b4\\uc6a9\", \"\\uad6c\\ubd84\", \"\\uad50\\uc721\", \"\\uc5c5\\ubb34\\uac1c\\uc694\", \"\\uaddc\\uc815\\uc5d0\", \"\\uae30\\ud0c0\\uc0ac\\ud56d\", \"\\uad00\\ud55c\", \"\\ubc95\\ub960\", \"\\ud1b5\\ud574\", \"\\uc2dc\\ud589\\ub839\", \"amp\", \"\\uccad\\uc18c\\ub144\", \"\\uc0ac\\ud56d\", \"\\uc0ac\\uc5c5\", \"\\uc5b4\\ub9b0\\uc774\\uc9d1\", \"\\uc11c\\uc6b8\\uc2dc\", \"\\ub300\\ud55c\", \"\\ud574\\ub2f9\", \"\\uc788\\uc74c\", \"\\ubb38\\uc758\", \"\\ub4f1\\uc744\", \"\\uac74\\ucd95\\ubb3c\\uc758\", \"\\ub530\\ub77c\", \"\\ud55c\\ub2e4\", \"\\uacbd\\uc6b0\\uc5d0\\ub294\", \"\\ub530\\ub978\", \"\\ud558\\ub294\", \"\\ub4f1\\uc758\", \"\\uc774\\uc0c1\", \"\\uc704\\ud55c\", \"\\ud544\\uc694\\ud55c\", \"\\uc704\\ud574\", \"\\uac00\\ub2a5\\ud569\\ub2c8\\ub2e4\", \"\\uc788\\ub098\\uc694\", \"\\uc704\\ud558\\uc5ec\", \"\\ub429\\ub2c8\\ub2e4\", \"\\uc788\\uc73c\\uba70\", \"\\uc758\\ud55c\", \"\\uac1c\\uc785\\ub2c8\\ub2e4\", \"\\uba87\\uac1c\\uc778\\uac00\\uc694\", \"\\uc6d4\\ub9d0\", \"\\uc778\\uc0ac\\uc704\\uc6d0\\ud68c\", \"\\uae38\\uc74c\\ub274\\ud0c0\\uc6b4\\ub3d9\", \"\\ubb34\\uad50\\ub3d9\", \"\\uac74\\ud3d0\\uc728\\uc774\\ub780\", \"\\uc911\\ub85c\\ub958\", \"\\uac1c\\uc778\\ube44\\uc11c\\uac00\", \"\\uad00\\ub828\\ub0b4\\uc6a9\\uc744\", \"\\uc5ec\\ub860\\uc870\\uc0ac\", \"\\uc9c0\\ubc29\\uc9c1\\uc758\", \"\\uac80\\uc0ac\\uae30\\uad00\", \"\\uc704\\uc6d0\\uc774\", \"\\uc6e8\\uc774\\uace0\", \"\\ub300\\ud55c\\ubbfc\\uad6d\\uace0\\uc5fd\\uc81c\\uc804\\uc6b0\\ud68c\", \"\\uc740\\ud615\\uad6c\\uc9c0\\ud68c\\uc758\", \"\\ubc15\\ub178\\uc218\\ubbf8\\uc220\\uad00\", \"\\ub3c4\\uc2dc\\uae30\\ubcf8\\uacc4\\ud68d\\uc740\", \"\\uaca9\\ub824\", \"\\uc218\\uc758\\uacc4\\uc57d\", \"\\uc778\\uc870\\uc794\\ub514\\uad6c\\uc7a5\", \"\\uc11c\\uc6b8\\uc232\", \"\\uc124\\ub9bd\\ubaa9\\uc801\", \"\\uc124\\ub9bd\\uc778\\uac00\\uc77c\", \"\\uc0ac\\ubb34\\uc18c\\uc758\", \"\\uc8fc\\ubbfc\\ucd1d\\ud68c\", \"\\uc8fc\\ud0dd\\uc131\\ub2a5\\ub4f1\\uae09\", \"\\uae09\\uc2dd\", \"\\ub3c4\\uc2dc\\uacc4\\ud68d\\uc704\\uc6d0\\ud68c\\ub97c\", \"\\uc8fc\\uac70\\ud658\\uacbd\\uac1c\\uc120\\uc9c0\\uad6c\", \"\\uc124\\uce58\\uac80\\uc0ac\\ub97c\", \"\\uc784\\uc6d0\\uc758\", \"\\uc124\\ub9bd\\uc778\\uac00\\ub97c\", \"\\uac10\\uc0ac\\ub97c\", \"\\uae08\\uace0\\uc758\", \"\\uc2e0\\uc6a9\\uce74\\ub4dc\", \"\\ubc29\\uc9c0\", \"\\uc870\\ud569\\uc758\", \"\\ucd9c\\uc0b0\", \"\\uc784\\uae30\\ub294\", \"\\uac10\\uc0ac\\uc6d0\", \"\\uc18c\\uc7ac\\uc9c0\", \"\\uc81c\\uc870\\uc81c\\ud56d\\uc5d0\", \"\\uae30\\uad00\\uc758\", \"\\uc758\\uacb0\\uc744\", \"\\uc5b4\\ub5bb\\uac8c\", \"\\uc785\\ub2c8\\ub2e4\", \"\\uc11c\\ub300\\ubb38\\uad6c\", \"\\ud3c9\\uade0\", \"\\uc5f0\\uac04\", \"\\ub429\\ub2c8\\ub2e4\", \"\\ucc9c\\ub9cc\\uc6d0\", \"\\ubbf8\\ub9cc\", \"\\uc774\\uc0c1\", \"\\ud604\\uc7ac\", \"\\uae30\\uc900\", \"\\ub300\\ud45c\\uc790\", \"\\ub418\\ub098\\uc694\", \"\\uacbd\\uc6b0\\uc5d0\\ub294\", \"\\uc778\\ud558\\uc5ec\", \"\\uc788\\ub098\\uc694\", \"\\ub9d0\\ud569\\ub2c8\\ub2e4\", \"\\ub4f1\\uc758\", \"\\uc790\\ubcf8\\uae08\\uc740\", \"\\uac74\\uc124\\uae30\\uc220\\uc790\", \"\\uae30\\uc220\\ub2a5\\ub825\\uacfc\", \"\\uad6d\\uac00\\uae30\\uc220\\uc790\\uaca9\\ubc95\\uc5d0\", \"\\uad00\\ub828\\uc885\\ubaa9\\uc758\", \"\\uac74\\uc124\\uae30\\uc220\\uad00\\ub9ac\\ubc95\\uc5d0\", \"\\uae30\\uc220\\uc790\\uaca9\\ucde8\\ub4dd\\uc790\", \"\\uc774\\uc0c1\\uc774\\uace0\", \"\\uae30\\ud68d\\uc608\\uc0b0\\uacfc\", \"\\uae30\\uacc4\\ubd84\\uc57c\", \"\\uc804\\uc0b0\\uc815\\ubcf4\\uacfc\", \"\\ud1a0\\ubaa9\", \"\\uc774\\uc0c1\\uc785\\ub2c8\\ub2e4\", \"\\uac74\\ucd95\\ubd84\\uc57c\", \"\\uc5b5\\uc6d0\\uc774\\uc0c1\\uc785\\ub2c8\\ub2e4\", \"\\uc870\\uacbd\\ubd84\\uc57c\", \"\\ub798\\ubbf8\\uc548\\uae38\\uc74c\\uc13c\\ud130\\ud53c\\uc2a4\", \"\\ud1a0\\ubaa9\\ubd84\\uc57c\", \"\\uc720\\uc544\\uc2a4\\ud3ec\\uce20\\ub2e8\", \"\\uae30\\uc220\\uc790\\ucde8\\ub4dd\\uc790\", \"\\uc5b5\\uc6d0\", \"\\ud1a0\\ubaa9\\ubd84\\uc57c\\uc758\", \"\\uc911\\uae09\\uae30\\uc220\\uc790\", \"\\uae30\\uc804\\uacfc\", \"\\ud328\\uc158\\uc9c0\\uc6d0\\uc13c\\ud130\", \"\\ud574\\uc678\\uc804\\uc2dc\\ud68c\", \"\\uc18c\\ub85c\\ub958\", \"\\ucc3d\\uc5c5\\uc9c0\\uc6d0\\uc13c\\ud130\", \"\\ubbf8\\uc544\\ub3d9\", \"\\ubbf8\\uc544\\uc5ed\", \"\\ubc14\\ub2e5\\uba74\\uc801\\uc758\", \"\\ubc95\\uc778\\uc740\", \"\\uac1c\\uc778\\uc740\", \"\\uc11c\\uc6b8\\uc2dc\\uad50\\uc721\\uccad\", \"\\ub418\\ub098\\uc694\", \"\\uc758\\ud55c\", \"\\uc5b4\\ub5bb\\uac8c\", \"\\uc778\\uc744\", \"\\ub9d0\\ud569\\ub2c8\\ub2e4\", \"\\ub300\\uc0c1\\uc774\", \"\\uc774\\uc0c1\", \"\\uc788\\ub098\\uc694\", \"\\ub418\\uc5b4\", \"\\uc704\\ud558\\uc5ec\", \"\\uc788\\uc73c\\uba70\", \"\\ubb38\\uc790\\ud45c\\ucd9c\\uc6a9\", \"\\uc804\\uad11\\ud310\\uc758\", \"\\uc124\\uce58\\ub418\\uc5c8\\uc2b5\\ub2c8\\ub2e4\", \"\\uac70\\uc5ec\\uc5ed\\uc758\", \"\\uc124\\uce58\\ub418\\uc5c8\\uc2b5\\ub2c8\\uae4c\", \"\\ucee4\\ubba4\\ub2c8\\ud2f0\", \"\\ubd88\\ubb38\\ud558\\uace0\", \"\\uad50\\ud1b5\\uc12c\\uc5d0\", \"\\uc7a0\\uc2e4\\uc0ac\\uac70\\ub9ac\", \"\\uac77\\uae30\", \"\\uacf5\\uc6d0\\uc5d0\\uc11c\", \"\\uc11c\\ucee4\\uc2a4\", \"\\uc190\\uc0c1\\ud558\\ub294\", \"\\uc7a0\\uc218\\uad50\", \"\\ubcf4\\uc870\\uc790\\uc758\", \"\\uc218\\ud589\\ud558\\uae30\", \"\\ub3c5\\ub9bd\\uc720\\uacf5\\uc790\", \"\\uad00\\ub85c\\ub294\", \"\\uc704\\uc2e0\\uc744\", \"\\uccb4\\uba74\", \"\\uc0c1\\uc18d\\uc778\", \"\\uadfc\\uc800\\ub2f9\\uad8c\\uc790\\ub294\", \"\\ub4f1\\uae30\\uc758\\ubb34\\uc790\\uc785\\ub2c8\\ub2e4\", \"\\ube48\\uc9d1\", \"\\ubd80\\uce59\", \"\\ud559\\uc2b5\", \"\\uc2dc\\uac00\\uc9c0\", \"\\uac74\\uc124\\uc5c5\\uba74\\ud5c8\\uac00\", \"\\uac74\\ucd95\\uc124\\ube44\", \"\\uacf5\\uc0ac\\uad00\\ub9ac\", \"\\uc5b8\\uc81c\\uc778\\uac00\\uc694\", \"\\uc911\\uc2ec\\uc9c0\\ud615\", \"\\uc804\\uad11\\ud310\\uc740\", \"\\ud37c\\uc13c\\ud2b8\", \"\\ubcf4\\uc0c1\\uc740\", \"\\uc0ac\\uc5c5\\uc8fc\", \"\\uaddc\\ubaa8\\ub294\", \"\\uc5b8\\uc81c\", \"\\ud3ec\\ud568\\ud55c\\ub2e4\", \"\\ud68c\\uc6d0\\uac00\\uc785\\uc744\", \"\\uc785\\ub2c8\\ub2e4\", \"\\ub429\\ub2c8\\uae4c\", \"\\uc790\\uaca9\\uc740\", \"\\ucc28\\ub7c9\", \"\\uc774\\ub294\", \"\\uc5b4\\ub5bb\\uac8c\", \"\\ud558\\ub098\\uc694\", \"\\uc885\\ub958\\ub294\", \"\\uc788\\ub098\\uc694\", \"\\uc54a\\ub294\", \"\\ubb34\\uc5c7\\uc785\\ub2c8\\uae4c\", \"\\uc774\\uc0c1\", \"\\uc704\\ud55c\", \"\\ub300\\ud558\\uc5ec\", \"\\ub530\\ub77c\", \"\\ucc28\\uc0c1\\uc704\", \"\\uc131\\ub0b4\\ucc9c\\uc5d0\", \"\\uc11c\\ub300\\ubb38\\uad6c\\uc9c0\\ud68c\\uc758\", \"\\uc0ac\\ub791\\ub4dc\\ub9bc\\uc7a5\\ud559\\uae08\", \"\\uc601\\ub9ac\\uc5c5\\ubb34\\uc5d0\", \"\\ud604\\uae08\\uccad\\uc0b0\\uc740\", \"\\ud1a4\\ub2f9\", \"\\uc804\\uc120\\uacfc\\uc758\", \"\\ubb3c\\uac00\", \"\\ud658\\uacbd\\ub2e8\\uccb4\", \"\\uc9c1\\uc778\\uc740\", \"\\uc0ac\\uc5c5\\uc778\\uc815\\uc740\", \"\\ubb34\\uc0c1\\uc7a5\\ud559\\uae08\", \"\\uace0\\ud654\\uc9c8\", \"\\uacf5\\ub3d9\\uba85\\uc758\\ub85c\", \"\\uc8fc\\ud0dd\\uc6a9\", \"\\uace0\\uc9c0\\ub418\\uace0\", \"\\ubcf8\\uc778\\ubd80\\ub2f4\\uc9c4\\ub8cc\\ube44\", \"\\uae30\\ubcf8\\uacc4\\ud68d\", \"\\ub2a5\\ub3d9\\ub85c\", \"\\uc5f4\\ucc28\\ub97c\", \"\\uc77c\\uc0c1\\uac10\\uc0ac\\ub97c\", \"\\uc544\\uc774\\ub9c8\\ucf13\\uc11c\\uc6b8\\uc720\", \"\\uae30\\uae30\\ub97c\", \"\\ucd1d\\uad04\\ub0b4\\uc5ed\\uc11c\\ub780\", \"\\uac80\\uc0ac\\ud56d\\ubaa9\\uc740\", \"\\uc11c\\ub958\\uac80\\uc0ac\\uc758\", \"\\uc784\\ub300\\uc8fc\\ud0dd\\uc744\", \"\\uad11\\uc5ed\\uadfc\\ub9b0\\uacf5\\uc6d0\\uc774\\ub780\", \"\\uc624\\uc77c\\ud700\\uc2a4\", \"\\ub178\\uc120\\uc744\", \"\\uc804\\ud654\\ubc88\\ud638\\ub294\", \"\\ub300\\ud45c\\uc790\", \"\\ud65c\\ub3d9\\ud558\\uace0\", \"\\ubcf4\\uc218\\ub294\", \"\\uc1a1\\ud30c\", \"\\ucc28\\uc0c1\\uc704\\uacc4\\uce35\", \"\\uc788\\ub294\\uac00\", \"\\ubb34\\uc2a8\", \"\\ub2f9\\uc9c1\\uadfc\\ubb34\\uc2dc\", \"\\ub9d0\\ud558\\ub294\", \"\\uc7ac\\uc0b0\\uc744\", \"\\ubc1c\\uc0dd\\ud55c\", \"\\uc785\\ub2c8\\ub2e4\", \"\\uc804\\ud654\\ubc88\\ud638\", \"\\uc788\\ub098\\uc694\", \"\\ub4f1\\ub85d\\uc774\", \"\\uac83\\uc744\", \"\\uc5b4\\ub5bb\\uac8c\", \"\\ub9d0\\ud569\\ub2c8\\ub2e4\", \"\\uc11c\\ub300\\ubb38\\uad6c\", \"\\uc2dc\\ud589\\ud558\\ub294\", \"\\uc6b4\\uc601\\ud558\\uace0\", \"\\ud558\\ub098\\uc694\", \"\\uac83\\uc785\\ub2c8\\ub2e4\", \"\\ubb34\\uc5c7\\uc785\\ub2c8\\uae4c\", \"\\uac01\\uc885\", \"\\uc788\\uc73c\\uba70\", \"\\uc544\\ub2d9\\ub2c8\\ub2e4\", \"\\uc704\\ud558\\uc5ec\", \"\\uc11c\\uc6b8\\uc2dc\", \"\\uc2ec\\uc0ac\\uc694\\uccad\", \"\\uc7ac\\ubc30\\uc815\\uc0ac\\uc5c5\", \"\\uc2dc\\ube44\", \"\\uc5b5\\uc6d0\\uc774\\uc0c1\", \"\\uacf5\\uc0ac\\ube44\", \"\\uacc4\\uc57d\\uc2ec\\uc0ac\\uacfc\", \"\\uc544\\uc774\\uc870\\uc544\", \"\\uacf5\\uc9c1\\uc790\\uc724\\ub9ac\\uc704\\uc6d0\\ud68c\", \"\\ub178\\uc6d0\\uad6c\\uc5d0\\uc11c\", \"\\uc131\\ud76c\\ub871\", \"\\uc548\\uc804\\ub9dd\", \"\\ud1b5\\uc2e0\\ubd84\\uc57c\", \"\\uc7a5\\uae30\\uae30\\uc99d\", \"\\ub300\\uc758\\uc6d0\", \"\\uc11c\\uc6b8\\uc2dc\\uc790\\ub3d9\\ucc28\\uac80\\uc0ac\\uc815\\ube44\\uc0ac\\uc5c5\\uc870\\ud569\", \"\\uc81c\\uc870\\uc6d0\\uac00\\ub780\", \"\\ub3c4\\uc2dc\\uacc4\\ud68d\\uc2dc\\uc124\\uc0ac\\uc5c5\", \"\\uc218\\uc0c99\\uad6c\\uc5ed\", \"\\uc8fc\\ubbfc\\ub300\\uc0c1\", \"\\ud589\\uc815\\uc5c5\\ubb34\\ub97c\", \"\\uacf5\\ub78c\\uacf5\\uace0\\uc77c\\uc740\", \"\\ud64d\\ubcf4\\ubb3c\", \"\\uc218\\uc694\\ubb34\\ub300\", \"\\uac70\\uc8fc\\ud560\", \"\\uae08\\ucc9c\\uad6c\\uccad\", \"\\uad00\\uad11\\ubc84\\uc2a4\", \"\\ud1a0\\uc9c0\\ubcf4\\uc0c1\\uae08\\uc740\", \"\\uad6d\\uc815\\uac10\\uc0ac\", \"\\uacbd\\uc9c0\", \"\\ub4f1\\ub85d\\uc2dc\", \"\\ubb34\\ud5c8\\uac00\", \"\\ub300\\uc0c1\\uc740\", \"\\uac70\\ub9ac\\ub294\", \"\\ubcf4\\uc218\\ub294\", \"\\ub2f9\\uc9c1\\uc2e4\", \"\\uc11c\\ubd80\\ub3c4\\ub85c\\uad50\\ud1b5\\uc0ac\\uc5c5\\uc18c\", \"\\ub9d0\\ud55c\\ub2e4\", \"\\uc784\\uae30\\ub294\", \"\\uc784\\uc2dc\\uc0ac\\uc6a9\\uc2b9\\uc778\", \"\\uacc4\\uc57d\\uc2ec\\uc0ac\", \"\\ud558\\ub098\\uc694\", \"\\uc5b4\\ub514\\uc11c\", \"\\uc6b0\\ud3b8\", \"\\uc785\\ub2c8\\ub2e4\", \"\\ud568\\uc740\", \"\\ub9d0\\ud569\\ub2c8\\ub2e4\", \"\\uac74\\uc124\\uacf5\\uc0ac\", \"\\uacf5\\uc0ac\", \"\\uc5b4\\ub5bb\\uac8c\", \"\\uac74\\uc124\\uae30\\uc220\\uad00\\ub9ac\\ubc95\", \"\\uc11c\\uc6b8\\uc2dc\", \"\\uc5b4\\ub5a4\", \"\\ubb34\\uc5c7\\uc785\\ub2c8\\uae4c\", \"\\ud558\\ub294\", \"\\uae30\\ud68d\\uc774\\ub780\", \"\\uae30\\ud68d\\ud615\\ud0dc\\ub97c\", \"\\ub3c4\\ub85c\\uc728\\uc774\\ub780\", \"\\ubc14\\ub77c\\ubcf4\\uba70\", \"\\uc774\\ud589\\uae30\\uc900\", \"\\uacc4\\ud68d\\uc774\\ub780\", \"\\uae30\\ud68d\\uc744\", \"\\ub3c8\\uc554\\ucd08\", \"\\uac16\\ub294\", \"\\uc9c0\\uc2dd\\uad00\\ub9ac\\uc2dc\\uc2a4\\ud15c\", \"\\uc0ac\\ud68c\\ub2e8\\uccb4\\ub780\", \"\\uac1c\\ubc1c\\uc9c4\\ud765\\uc9c0\\uad6c\\uac00\", \"\\ub2e8\\uae30\\ubaa9\\ud45c\\uc758\", \"\\uc120\\ud0dd\\uc5d0\", \"\\uc218\\ub2e8\\uacfc\", \"\\uc778\\uad6c\\ub294\", \"\\ud488\\ubaa9\\uc81c\\uc870\\uc815\\uc9c0\", \"\\uac74\\ucd95\\ud55c\\uacc4\\uc120\\uc774\\ub780\", \"\\uc784\\ub300\\uc8fc\\ud0dd\\uc740\", \"\\uc778\\uc0ac\\uc704\\uc6d0\\ud68c\\ub294\", \"\\uba87\\uba85\\uc785\\ub2c8\\uae4c\", \"\\uc784\\uba85\", \"\\uae30\\uad00\\uc6b4\\uc601\\uc5c5\\ubb34\\ucd94\\uc9c4\\ube44\\ub294\", \"\\ucc9c\\uc6d0\\uc784\", \"\\uc778\\uc13c\\ud2f0\\ube0c\\uac00\", \"\\ucc3d4\\ub3d9\", \"\\uad11\\uc7a5\\uc774\\ub780\", \"\\uad50\\ucc28\\uc810\", \"\\uacb8\\uc9c1\\ud5c8\\uac00\", \"\\ubb34\\uc5ed\\ud22c\\uc790\\uc0ac\\uc808\\ub2e8\", \"\\uba87\\uba85\\uc778\\uac00\\uc694\", \"\\ud578\\ub4dc\\ud3f0\", \"\\uc548\\uc5d0\", \"\\uba85\\uc785\\ub2c8\\ub2e4\", \"\\ub204\\uac00\", \"\\uad00\\uc2ec\\uc744\", \"\\uc774\\uc6a9\\uc5d0\", \"\\uc5b4\\ub290\", \"\\uad6d\\ud1a0\\uc758\", \"\\uc785\\ub2c8\\ub2e4\", \"\\ubb34\\uc5c7\\uc778\\uac00\\uc694\", \"\\uc8fc\\ubbfc\\ub4f1\\ub85d\", \"\\ub9d0\\ud569\\ub2c8\\ub2e4\", \"\\ub3c4\\ub85c\\uac00\", \"\\uc544\\ucc28\\uc0b0\", \"\\uc5b4\\ub5bb\\uac8c\", \"\\ud589\\uc815\\ucc98\\ubd84\", \"\\uc544\\ub2c8\\ud55c\", \"\\uac1c\\uc6d4\", \"\\ubb34\\uc5c7\\uc785\\ub2c8\\uae4c\", \"\\uc774\\uc0c1\\uc758\", \"\\ud558\\ub098\\uc694\", \"\\ub9d0\\ud55c\\ub2e4\", \"\\uc81c\\uc870\\uc5d0\", \"\\ub429\\ub2c8\\ub2e4\", \"\\uc758\\ud55c\", \"\\uc6d0\\uc5b4\\ubbfc\", \"\\uc601\\uc5b4\\ud68c\\ud654\", \"\\uce58\\ub9e4\\uc9c0\\uc6d0\\uc13c\\ud130\", \"\\ub178\\uc870\", \"\\uc2e0\\uace0\\ud558\\uc2dc\\uac70\\ub098\", \"\\ub9db\\uc9d1\", \"\\uc2e0\\uccb4\\ud65c\\ub3d9\\ub9ac\\ub354\", \"\\uac1c\\ubc1c\\uc81c\\ud55c\\uad6c\\uc5ed\\ub0b4\", \"\\uc0dd\\ud65c\\ubd88\\ud3b8\\ubbfc\\uc6d0\", \"\\uac70\\uc2e4\\uc758\", \"\\uc11c\\uc6b8\\uc2dc\\ud68c\\uc6d0\\uac00\\uc785\\ud6c4\", \"\\uc2dc\\ubbfc\\ubd88\\ud3b8\\uc0b4\\ud53c\\ubbf8\\uc5d0\", \"\\uc804\\uc790\\ubbfc\\uc6d0\\uc2e0\\uccad\", \"\\ub300\\uacf5\\ubc29\\uc5b4\", \"\\uc8fc\\ud0dd\\uc131\\ub2a5\\ub4f1\\uae09\\uc758\", \"\\uc9c1\\ubb34\\uc640\", \"\\uc720\\ud559\\ud734\\uc9c1\\uae30\\uac04\\uc740\", \"\\ud658\\uc790\\uad8c\\ub9ac\", \"\\ub0a9\\ubd80\\ub97c\", \"\\uc8fc\\ud0dd\\uadfc\\uc800\\ub2f9\\ub9d0\\uc18c\", \"\\uc131\\ubd81\\uad6c\\uc758\", \"\\uac1c\\uc778\\ud68c\\uc0dd\", \"\\ud30c\\uc8fc\\uc2dc\", \"\\uc5ec\\uc131\\ubcf5\\uc9c0\\uc0c1\\ub2f4\\uc18c\\ub294\", \"\\uc2e4\\uc801\\uc774\", \"\\uc9d1\\ub2e8\\ucde8\\ub77d\\uc9c0\\uad6c\", \"\\uaddc\\uce59\\uc740\", \"\\uac70\\uc9d3\\uc73c\\ub85c\", \"\\ucd5c\\ucd08\\ubc1c\\uae09\\uc2dc\", \"\\uacf5\\ubb34\\uc6d0\\uad50\\uc721\\uc6d0\", \"\\uc0ac\\uc6a9\\ub8cc\\ub97c\", \"\\ub2f9\\uc9c1\\uc218\\ub2f9\", \"\\uc8fc\\ud0dd\\uac74\\uc124\\uae30\\uc900\", \"\\uc11c\\uc6b8\\uc18c\\uc7ac\", \"\\uc6b4\\uc601\\ud560\", \"\\ub3c4\\ub85c\\ub85c\\uc11c\", \"\\uacf5\\uc601\\ucc28\\uace0\\uc9c0\", \"\\uc774\\ud558\\uc778\", \"\\uc131\\ubd81\\ub3d9\", \"\\ud3ec\\ud568\\ub41c\", \"\\ub300\\uc0c1\\uc740\", \"\\uac1c\\uc6d4\", \"\\ub144\\uc774\\uc0c1\", \"\\uc5b4\\ub5bb\\uac8c\", \"\\ubb34\\uc5c7\\uc785\\ub2c8\\uae4c\", \"\\uc788\\uc2b5\\ub2c8\\uae4c\", \"\\uc7ac\\uc815\\uc790\\ub9bd\\ub3c4\\ub294\", \"\\ud558\\ub098\\uc694\", \"\\uc774\\uc6a9\\uc5d0\", \"\\uc2e0\\uace0\", \"\\uc81c\\ud638\", \"\\uc81c\\ucd9c\\ud558\\uc5ec\\uc57c\", \"\\ubb38\\uc11c\\uc758\", \"\\ud589\\uc815\\uc0c1\", \"\\uce35\\uae4c\\uc9c0\", \"\\ud655\\uc815\\uad6c\\uc5ed\\uc751\\uc554\\ub3d9\", \"\\uad81\\ub3d9\\uccb4\\uc721\\uad00\", \"\\uc6b4\\uc601\\uc5c5\", \"\\uc6f9\\ud329\\uc2a4\", \"\\uc870\\ud569\\uc124\\ub9bd\\uc758\", \"\\uc0ac\\uc6a9\\ud560\\uc218\", \"\\uadf8\\ub54c\", \"\\ud1a0\\ubaa9\\uacf5\\uc0ac\", \"\\uac8c\\uc784\\ubb3c\\uc744\", \"\\uac00\\uc2a4\\uba74\\ud5c8\\ub294\", \"\\ub09c\\ubc29\\uacfc\", \"\\uc548\\uc804\\uc810\\uac80\", \"\\ud654\\ubb3c\\ud130\\ubbf8\\ub110\\uc774\\ub780\", \"\\uc0c8\\ub9c8\\uc744\\uc6b4\\ub3d9\\uc870\\uc9c1\\uc721\\uc131\\ubc95\", \"\\uc9c0\\uc6d0\\uadfc\\uac70\\ubc95\\ub839\\uc740\", \"\\uc0c8\\ub9c8\\uc744\\uc6b4\\ub3d9\\uc870\\uc9c1\\uc758\", \"\\ub9cc\\uc871\\ub3c4\", \"\\uc0c1\\ubd09\\uc7ac\\uc815\\ube44\\ucd09\\uc9c4\\uad6c\\uc5ed\\uc758\", \"\\uac8c\\uc7ac\\ud560\", \"\\uac74\\ucd95\\ud55c\\uacc4\\uc120\\uc774\", \"\\uacc4\\uc57d\\ub418\\uc5b4\", \"\\ub514\\uc790\\uc778\\uc911\\ub791\", \"\\uac80\\uc0ac\\uc758\", \"\\uc120\\uc815\\uc2dc\\uae30\\ub294\", \"\\uc548\\uc804\\ubc38\\ube0c\", \"\\uc77c\\uc744\", \"\\uc11c\\ub300\\ubb38\\u3147\", \"\\ucc45\\uc784\\uc740\", \"\\uc5b4\\ub514\\uc785\\ub2c8\\uae4c\", \"\\uc740\\ud3c9\\uad6c\", \"\\ud45c\\uc900\\uac74\\ucd95\\ube44\", \"\\ud604\\uae08\\uc601\\uc218\\uc99d\", \"\\uc5b4\\ub5bb\\uac8c\", \"\\uc218\\uc77c\\uc2dc\\uc7a5\", \"\\uc8fc\\uac70\\uc774\\uc804\\ube44\", \"\\uad6c\\uc131\\ub418\\uc5b4\", \"\\ud655\\uc778\\uc0ac\\ud56d\", \"\\uc5b4\\ub514\\uc5d0\", \"\\uac74\\uc124\\uae30\\uc220\\uad00\\ub9ac\\ubc95\", \"\\uc885\\ub958\\ub294\", \"\\uacf5\\uc0ac\", \"\\uad6d\\ud1a0\\uc758\", \"\\uacf5\\ubb34\\uc6d0\\uc758\", \"\\ub300\\ud45c\\uc790\", \"\\uc131\\ubd81\\ub3d9\", \"\\uc788\\uc2b5\\ub2c8\\uae4c\", \"\\ub429\\ub2c8\\ub2e4\", \"\\uc774\\uc6a9\\uc5d0\", \"\\ub429\\ub2c8\\uae4c\", \"\\ubd84\\uc758\", \"\\uac74\\ucd95\\ubc95\", \"\\ud558\\ub098\\uc694\", \"\\ud558\\uace0\", \"\\uae30\\uc900\\uc73c\\ub85c\", \"\\uc785\\ub2c8\\ub2e4\", \"\\ub418\\ub098\\uc694\", \"\\uc0ac\\uc6a9\", \"\\ubbf8\\uc220\\uc791\\ud488\", \"\\uc6a9\\uc801\\ub960\\uc744\", \"\\uc544\\ucde8\\uad11\\uace0\\ubb3c\\uc740\", \"\\uc11c\\uc6b8\\ub180\\uc774\\ub9c8\\ub2f9\", \"\\uad50\\ud1b5\\ub7c9\", \"\\ubc29\\uc7ac\\ub780\", \"\\uc885\\uc0ac\\ud558\\uc9c0\", \"\\uc608\\ube44\\ube44\", \"\\ubcf5\\uc9c0\\ud604\\uc7a5\\uc0c1\\ub2f4\\uc18c\", \"\\ud569\\uc0b0\\ud55c\", \"\\uc7a5\\uc774\", \"\\uc815\\uc9c1\", \"\\uad6d\\ub9bd\\ubcf4\\uac74\\uc6d0\", \"\\uc1a1\\uae08\", \"\\ub2e8\\uc704\\ub294\", \"\\ubcfc\\ub9c1\\uc7a5\", \"\\uc9c4\\uc785\\ub3c4\\ub85c\\ub294\", \"\\uacf5\\ubaa8\\ub300\\ud589\\uc81c\", \"\\uc9c1\\uc7a5\\ub9cc\\ub4e4\\uae30\", \"\\ub179\\uc0c9\\uc131\\uc7a5\\uc774\\ub780\", \"\\ub9d0\\uc18c\\uc2e0\\uccad\\uc11c\", \"\\uc1a1\\ubd80\\uac00\\ub2a5\\ud55c\\uac00\\uc694\", \"\\uc608\\uaddc\\ub294\", \"\\uac04\\uc120\\ub3c4\\ub85c\\ub780\", \"\\ub73b\\uc785\\ub2c8\\uae4c\", \"\\ub3c4\\ub9e4\\uc5c5\\ubb34\\uad00\\ub9ac\\uc790\", \"\\uc81c\\uc870\\uad00\\ub9ac\\uc790\", \"\\uc870\\ud569\\uc8fc\\ud0dd\\uc758\", \"\\uac10\\ub9ac\\uc81c\\ub3c4\\ub294\", \"\\uc720\\ub9ac\\ubcd1\", \"\\uac00\\uc815\\uc5d0\\uc11c\", \"\\uc8fc\\ud0dd\\uadfc\\uc800\\ub2f9\\uad8c\", \"\\uc81c\\ucd9c\\ud558\\uba74\", \"\\ubcf5\\uc9c0\\uad00\", \"\\uacbd\\ubcf5\\uad81\", \"\\ub9d0\\ud569\\ub2c8\\ub2e4\", \"\\uc5f0\\uc7a5\\uc2b9\\uc778\", \"\\ud655\\ucda9\", \"\\uc790\\uae08\\uc744\", \"\\ud604\\uc7ac\", \"\\uc8fc\\ubbfc\\ub4e4\\uc758\", \"\\uc784\\uae30\\ub294\", \"\\uc81c\\uc791\", \"\\ud558\\uc2dc\\uba74\", \"\\ud568\\uc740\", \"\\ubb34\\uc5c7\\uc778\\uac00\\uc694\", \"\\ud558\\ub294\", \"\\uc5b4\\ub5a4\", \"\\uc2dc\\ud589\\ud558\\ub294\", \"\\ubb34\\uc5c7\\uc785\\ub2c8\\uae4c\", \"\\uac10\\uc0ac\\ud569\\ub2c8\\ub2e4\", \"\\uacbd\\uc6b0\\uc5d0\", \"\\uc774\\uc6a9\\ud558\\uc5ec\"], \"Freq\": [7.0, 9.0, 6.0, 7.0, 7.0, 5.0, 5.0, 5.0, 5.0, 1.0, 4.0, 5.0, 5.0, 6.0, 4.0, 5.0, 4.0, 6.0, 7.0, 3.0, 4.0, 4.0, 3.0, 3.0, 4.0, 3.0, 3.0, 3.0, 3.0, 4.0, 7.57767990992288, 4.222119702648571, 6.363789165797252, 3.888260218698225, 3.7351133015338758, 4.970647055029029, 3.5421438967605066, 5.370223761745538, 3.408288607701379, 5.0184107334213826, 3.859183071374933, 3.6175613083057003, 4.36050369539481, 3.6934951632154447, 3.660382306025754, 3.2980502429877143, 3.2995647592486916, 2.9269469111346256, 4.819611028531974, 2.732213564234171, 7.12437239503355, 2.7422067853673884, 3.986741835457889, 3.1144876256909093, 3.5109551883536243, 2.8989648635005834, 2.5665084137001126, 3.0322459765962906, 2.6137529886107407, 9.14865900287602, 7.471675897718137, 4.027794479344539, 4.7754194706142705, 5.063736004642159, 5.751919959456258, 3.7837484093605376, 6.79903719979004, 3.815883050898128, 5.545409729502732, 4.294038398404074, 5.150018448170986, 4.500059615543079, 5.4104417218570235, 4.704337944861815, 4.273668219577295, 3.9261188537436333, 4.023359220863457, 4.641301097457398, 4.236474037980236, 4.21245185634758, 4.043032681003211, 4.0447740624895445, 0.3635883480219152, 0.4258578125580545, 0.34589789009556504, 0.24984490227480624, 0.16797751884248333, 0.16368893847129581, 0.145698272628733, 0.14441897753040625, 0.14245929078607167, 0.14088316944989387, 0.14050348154038197, 0.1399923417220047, 0.13705108673672164, 0.13180153499775824, 0.12880146492827174, 0.12725246159248163, 0.12725246159248163, 0.12540048592474032, 0.12537419358349153, 0.12501932148622996, 0.14732511795827782, 0.12463062641789911, 0.12369241165050707, 0.1227246415347833, 0.1227246415347833, 0.18036797934651358, 0.1522561513010424, 0.12100433614227402, 0.12064619074879294, 0.11799242064802132, 0.18084826003028, 0.19872103078100425, 0.2501337177146705, 0.14994647978015274, 0.1978682105351458, 0.14418258900475658, 0.22714035628200038, 0.14419443881074687, 0.2991393938452338, 0.15440487408138637, 0.28745526247360226, 0.14918325785570505, 0.17771312241188114, 0.18304553695780434, 0.1896986316430415, 0.1765016738872246, 0.49829217223417566, 0.36859688504342786, 0.2842424729270179, 0.20138974698262227, 0.18888680281009462, 0.35649809075290445, 0.20997192194507566, 0.24579977220973137, 0.3497804630569824, 0.2795945148187521, 0.24383576106159022, 0.21088304806268124, 0.2276689500078487, 0.2385672896048619, 0.19472748420455552, 0.23042492563601988, 0.20727420384849432, 0.2101087957483739, 1.4113239945019307, 0.8856902294308127, 0.747945183291418, 0.7211734587917419, 0.6751426816753634, 0.7833327886669668, 0.577585400151095, 0.8011670659318992, 0.36177715510960623, 0.35559063297901733, 0.3463773417394434, 0.4873900031186839, 0.5740437848959038, 0.28223497194609376, 0.2071617358847579, 0.1948992202364828, 0.18504754618153657, 0.24730663475258777, 0.17655002148865323, 0.16879983409907887, 0.7123024035375403, 0.1557597828839694, 0.18140531653192074, 0.14970507947324635, 0.14890368401025106, 0.1471540890797327, 0.1469981960740222, 0.14516470232044348, 0.14182550160843957, 0.14182550160843957, 0.16301692361253814, 0.20627382173106043, 0.20753007606458163, 0.22008138511432646, 0.9599960972685408, 1.095545671491287, 0.8124710804285208, 0.2156719820585108, 0.32866141016125094, 0.20293391623105864, 0.30320872780684505, 0.2606810360492222, 0.2211501185663568, 0.21799576526340958, 0.2137585184985296, 0.42364642568348004, 0.29706949951760386, 0.2252949140610412, 0.1769595870188932, 0.16661995856562745, 0.1782724303967488, 0.17785322843299123, 0.16141860024927393, 0.16141860024927393, 0.19232314348474264, 0.15265793298880442, 0.13853774836126342, 0.13842313235265544, 0.13629051063763933, 0.1345942493177724, 0.13020105099111745, 0.1288632567820467, 0.12854488646017836, 0.1272837412340721, 0.1272837412340721, 0.16010121686558718, 0.12481903452673142, 0.12481903452673142, 0.12368763664045744, 0.1361671059427978, 0.17786017019359576, 0.1426999422642863, 0.1201873040571757, 0.11840189270998042, 0.11840189270998042, 0.16194913492279073, 0.13491898013554116, 0.15684891940360962, 0.1720395285403794, 0.16038020169003234, 0.138212191976922, 0.20605061152632087, 0.28834076469193676, 0.16863299682982874, 0.15175970963418015, 0.3400963117469184, 0.2291998122886265, 0.17241517097610723, 0.16323707503151616, 0.21485347880599767, 0.3034770481450928, 0.26676931825464417, 0.17929895435003387, 0.22073972173629827, 0.18169845489246694, 0.19635431836902467, 0.1941240329787119, 0.17646183813054658, 0.16646710977182488, 0.16586193989421782, 0.2915522541842604, 0.16842541312898857, 0.15751360987618576, 0.15626411524420983, 0.14414061929720945, 0.14026023114917122, 0.14009672274676851, 0.1347127248186008, 0.1326701668972837, 0.13071347227531524, 0.12987731028539873, 0.12880564686046972, 0.14028916318192125, 0.1284271214485222, 0.1274834414294874, 0.1256984638388362, 0.12159022168929057, 0.13267131881456412, 0.21583883403691892, 0.11712845973123302, 0.11549668088809152, 0.11547060969073687, 0.1149160057088115, 0.1148945873031611, 0.11453780365765778, 0.11300192858740209, 0.11300192858740209, 0.1582899077020932, 0.11069828579827853, 0.109978459778311, 0.14526603066100058, 0.30245285080082734, 0.5479134325982762, 0.13420221333567126, 0.18246328662535252, 0.19725092723512758, 0.1565631692789864, 0.14687444042253303, 0.16641923581880524, 0.12704249262181277, 0.1611354710817076, 0.14325081427656458, 0.16545435228582656, 0.2867411145236089, 0.2422228027129481, 0.29863929408489953, 0.14949676653373425, 0.22726612849583946, 0.2722302943824953, 0.22308485074175244, 0.19696679344940748, 0.15583831606152274, 0.19326881191929934, 0.22022390484532486, 0.19911974718832906, 0.1938125450068233, 0.16206992940358278, 0.1659743184194057, 0.15435855503010448, 0.1590907554110128, 0.15674778904467537, 0.3353638060078911, 0.3353638060078911, 0.3485320592007361, 0.335321529969203, 0.48342726324513774, 0.3283196981760726, 0.19652487308176791, 0.15503846032884186, 0.15100167481389273, 0.1501873548336053, 0.15977470415712997, 0.15976399591723772, 0.1376128783991958, 0.16765704900198886, 0.13654058809863956, 0.13259068266138294, 0.13179991275012184, 0.13009342612097907, 0.1262065960566131, 0.12464923340037636, 0.12382910857164468, 0.14374448867297032, 0.12303424185963961, 0.1266659632259797, 0.12276330259591073, 0.13200292502381597, 0.12267901593060945, 0.1218819053654296, 0.12086496344778988, 0.12077655284581415, 0.1419583825026615, 0.27584226680835916, 0.14137052110374107, 0.1827118151732376, 0.16398338551454095, 0.1645596764013988, 0.38503023092646044, 0.2115144887665611, 0.13838517006107925, 0.17552644946472085, 0.2529396167972847, 0.19109269253771966, 0.1488510493599725, 0.22276067081039294, 0.1630133223272118, 0.20520129785142993, 0.15782349514872582, 0.17691826058670035, 0.20501613809331978, 0.1596300656762799, 0.19633389500743198, 0.16607377717720606, 0.16639435374789197, 0.16818505894230215, 0.2164785638773386, 0.21058352049894943, 0.19338748416490964, 0.2057114933467643, 0.17338941119846663, 0.16925074187754569, 0.20162333868579052, 0.14217302595791534, 0.16102661210981573, 0.12949484805802755, 0.12923841641583605, 0.12436372720306912, 0.12083880682244935, 0.12083880682244935, 0.12083880682244935, 0.11824241243209921, 0.11554137110898513, 0.1149614307393494, 0.12385956500832061, 0.1139224149539639, 0.22873311923044778, 0.126188882110058, 0.11059738087847647, 0.11059738087847647, 0.10944728993225554, 0.10939777496381334, 0.10928424543834872, 0.10928424543834872, 0.10909027604336036, 0.1073398385680395, 0.1933914857371766, 0.13418892382626615, 0.13662122686434944, 0.25348577779391873, 0.165928252495772, 0.1506123936781069, 0.20136680971533694, 0.19178526497452167, 0.16746292614938327, 0.31848412286154126, 0.33273454525842794, 0.14540614227272358, 0.2476038077476309, 0.13618491179579242, 0.14349506529183084, 0.26582771705308467, 0.16267219388609622, 0.17923384805791306, 0.1745772770110799, 0.18093909034258693, 0.17809662817391309, 0.17836906838084954, 0.15969293172799717, 0.1595754882536127, 0.15779200253348927, 0.1573496017914801, 0.23638600501981447, 0.19979608364745458, 0.17205749800718695, 0.15167752793840736, 0.13940092512836877, 0.13741253955346638, 0.1307001857211425, 0.12713487166982984, 0.12660636166768094, 0.12535022259312548, 0.12324050849690019, 0.12324050849690019, 0.12324050849690019, 0.12234072728504945, 0.11863197127667933, 0.1381535527545504, 0.11719190155450894, 0.11719107121581114, 0.11505204612021545, 0.11504223252231716, 0.11335012289904961, 0.12755364889849438, 0.10940684582713793, 0.10885677428387686, 0.10726070985300865, 0.10552909857228551, 0.10319611527653151, 0.13220435483788054, 0.10176678720103792, 0.12761382393687157, 0.11553479671557061, 0.12687230296329977, 0.12857390478160305, 0.1260358880383001, 0.13676768440835935, 0.1536875220963629, 0.1430878856480441, 0.16072883292972984, 0.15433390757833593, 0.1416123713714154, 0.16872530069713643, 0.2083069447513978, 0.14802957488040475, 0.21507190899253986, 0.17598995122646988, 0.1582196971542543, 0.12760957157154984, 0.14011465537604437, 0.1314148018748415, 0.1342111801421042, 0.1287761649640915, 0.12773756333767014, 0.15880364479474918, 0.14444208540548636, 0.17487982394602364, 0.1359616304147981, 0.11806105890486464, 0.12329438458627487, 0.11573403508037534, 0.13521590713450124, 0.11510328303407902, 0.11406380855087517, 0.11322272607333513, 0.11124026859409188, 0.11010720497637434, 0.11010720497637433, 0.1250571839521534, 0.10860233511086523, 0.10848121433318751, 0.10848121433318751, 0.1084812143331875, 0.11451588399123803, 0.10621740485832143, 0.105941073384133, 0.10544545961837283, 0.10498435297099508, 0.10397355185139079, 0.10385058426752887, 0.10328105606303165, 0.10175426152086223, 0.17566776208568627, 0.10072464529302232, 0.14113948835602796, 0.13550059543988696, 0.42433023034938244, 0.11864228643946471, 0.12477814330370539, 0.4655505377653662, 0.1275839209935797, 0.1388264790901806, 0.1874092427304038, 0.171722660336118, 0.1433039974012615, 0.15748065084883697, 0.15445300073147653, 0.17841835328810488, 0.13917570726940431, 0.1581683866245658, 0.16086667221571788, 0.1286774873019234, 0.15862964303519186, 0.18749350560787473, 0.13771502166927604, 0.1457719901479766, 0.14936830830290712, 0.13286879955580153, 0.1597657691986721, 0.14972522163201926, 0.1365525269372203, 0.14009195626544318, 0.13818910497198575, 0.13552601574832515, 0.1953907713651849, 0.17696257839525295, 0.12105471580167412, 0.11957607667014604, 0.12338304033415787, 0.11294706888897482, 0.11795848095735642, 0.10536543156350985, 0.09872746505374537, 0.12333730098513745, 0.14953966908814487, 0.09451025632539514, 0.0924338935964038, 0.09071824939562383, 0.09062759411837946, 0.0988623752294348, 0.08982015443213691, 0.11239080132415184, 0.08962883191391569, 0.08887048050743034, 0.08861222593202499, 0.08861222593202499, 0.08848707550431589, 0.08829371867633569, 0.08779614372873441, 0.08768298213994759, 0.08768298213994759, 0.08757229909856788, 0.0872317475256005, 0.08698418204134477, 0.10977396545519431, 0.1370027224974188, 0.12917290950612223, 0.09297912359357349, 0.09914344311798101, 0.33941784760669513, 0.09820993866148942, 0.10253411343859017, 0.09700455197685642, 0.17173815835558331, 0.10412859833411399, 0.1254541268320646, 0.118658982660394, 0.11156355735154284, 0.10904459075173888, 0.13880664748457033, 0.135203672578923, 0.12003091381732113, 0.10217638306494614, 0.1143592391200189, 0.10477377471951801, 0.1056222870308286, 0.10137263672281649], \"Total\": [7.0, 9.0, 6.0, 7.0, 7.0, 5.0, 5.0, 5.0, 5.0, 1.0, 4.0, 5.0, 5.0, 6.0, 4.0, 5.0, 4.0, 6.0, 7.0, 3.0, 4.0, 4.0, 3.0, 3.0, 4.0, 3.0, 3.0, 3.0, 3.0, 4.0, 7.811598349144828, 4.376160889167237, 6.609835225513945, 4.04229780096583, 3.8891512595376536, 5.1777507072970765, 3.6989037186885714, 5.610849169299876, 3.5624762485224952, 5.256455022637661, 4.043827420256624, 3.7919530007846363, 4.570808426393339, 3.8733699140716875, 3.8392527609104263, 3.4598283954898643, 3.4716228929200468, 3.0809853792577795, 5.080056014325982, 2.886247666266195, 7.527342705320223, 2.897414025853606, 4.217960698453263, 3.2959566730057275, 3.7179204642985226, 3.0730687085052324, 2.721600799009076, 3.216562313478761, 2.7726383935888927, 9.715534560764612, 7.987106412502092, 4.280858164949205, 5.099379805504047, 5.417641739529726, 6.190891155536678, 4.037401947805386, 7.545314866457665, 4.090230354691754, 6.175865263121193, 4.7179490400913195, 5.86551881600667, 5.117808690806732, 6.700573345555846, 5.543550942164687, 4.823683097205524, 4.31101131526479, 4.517541748909975, 6.133156259191318, 5.112700450538841, 5.461199047004063, 4.995545986943191, 5.601778117777126, 0.5439392561267821, 0.6727798281588234, 0.577946283067689, 0.5031617124043779, 0.3483522813347796, 0.34404432668987933, 0.3260485080644563, 0.324769212827713, 0.3228095261974855, 0.3212354725490226, 0.32086324205529476, 0.3203425771928228, 0.3174062456970344, 0.31215177070399264, 0.3091557668270252, 0.30760269766173476, 0.30760269766173476, 0.3057618302940848, 0.30572442889078183, 0.30537093773887874, 0.3600033529961318, 0.30499346344186173, 0.3040428159611352, 0.30307728958644375, 0.30307728958644375, 0.44665714491381525, 0.378272311671326, 0.301363926984486, 0.3010160570026999, 0.2983426560013877, 0.4580161373212285, 0.5057743689564388, 0.6441384938135969, 0.38025110462452183, 0.5211232401042165, 0.36519447906963043, 0.6362172054963522, 0.37216856822278105, 1.0628918288791291, 0.41319388788250105, 1.0953571946279468, 0.3939419491129485, 0.536753814335427, 0.5806592565338273, 0.628099113055749, 0.5744749230011499, 6.749270754961786, 3.527436433329665, 1.9407436092665002, 0.8188669991537108, 0.7191373867595618, 5.461199047004063, 1.057844949709061, 1.8210804253959267, 6.700573345555846, 3.5327618805515013, 2.862863023130054, 1.6439760551958575, 3.981352809256178, 6.175865263121193, 1.308641126592544, 6.133156259191318, 3.201298498297902, 5.117808690806732, 1.591763236367182, 1.0661283226909992, 0.9283828206385436, 0.9122463018621637, 0.8555790273776026, 1.007337253490243, 0.7580229226340419, 1.0588005830827967, 0.542218976450909, 0.5360275748269937, 0.5268192576112107, 0.8064261111165857, 0.9739120898953095, 0.5243899965308421, 0.3875993900813473, 0.37539015592992636, 0.36548242060251274, 0.48932703838112923, 0.35698976697411666, 0.3492346896752073, 1.5347716950435257, 0.3361946383615961, 0.39239993567904635, 0.3301530975162747, 0.32934437982968345, 0.32760219357345355, 0.32743305211916696, 0.32755283014492614, 0.32228054348971874, 0.32228054348971874, 0.3705048208640151, 0.4744259073143459, 0.4864541216152289, 0.5463983503862481, 3.981352809256178, 5.601778117777126, 6.749270754961786, 0.8150306913952293, 3.201298498297902, 0.7553821456143549, 6.700573345555846, 6.133156259191318, 2.6166781639916077, 5.112700450538841, 4.995545986943191, 0.604616901666973, 0.5294310219758185, 0.42583669192745327, 0.3579295390149982, 0.3475904099239036, 0.37469188091384165, 0.37498995245664235, 0.3423885521819499, 0.3423885521819499, 0.40815708020880503, 0.33362861591759974, 0.3195091241332098, 0.31941853128710185, 0.3172644381891306, 0.3155688768477526, 0.3111869636140072, 0.3098379329959468, 0.3095204962852864, 0.30825369328369, 0.30825369328369, 0.3896163256609382, 0.3057889876479481, 0.3057889876479481, 0.3046714891295869, 0.33781615131256437, 0.4425110200287995, 0.35670140203984985, 0.3011630111684103, 0.29938694308023367, 0.29938694308023367, 0.4160566985649789, 0.3447100158698296, 0.41617062631390245, 0.4693305623170189, 0.4577565847229983, 0.3671199037388701, 0.7870611588395872, 1.5066204856158858, 0.5940682927178249, 0.46432663436992117, 3.527436433329665, 1.3504726498097173, 0.6694319765292973, 0.5800136626462012, 1.3709588014806389, 6.749270754961786, 4.208112067514032, 1.0280974851325713, 6.133156259191318, 1.9414479000941973, 3.9712674762653246, 6.700573345555846, 5.543550942164687, 3.2463627339717416, 7.545314866457665, 0.5982940173752961, 0.349645679696594, 0.338680454017975, 0.33744441883907766, 0.32531163555945974, 0.3214270751403552, 0.32126356709757814, 0.31587956894389274, 0.31383701074968007, 0.3118970417611804, 0.31104415410315933, 0.30997249092407525, 0.33791386540226476, 0.3095939655902701, 0.30865329477483633, 0.3068710384841043, 0.3027570656514142, 0.33217694465213193, 0.5473137409868795, 0.29829839818307374, 0.2966635246371574, 0.29663955515243523, 0.2960914750043388, 0.2960614312536193, 0.29570464755822484, 0.2941687728357174, 0.2941687728357174, 0.4145731904647994, 0.29186697278264095, 0.2911475625980434, 0.38494902414303234, 0.820474596514948, 1.6439760551958575, 0.3727203592466817, 0.5714595576685223, 0.6397365098656166, 0.4881498193668949, 0.44038183664806524, 0.5466561418158553, 0.35020561735457034, 0.570215350674621, 0.4497864770579424, 0.6658481500250311, 3.527436433329665, 2.858161222820911, 6.133156259191318, 0.5449732520966073, 2.7312525822853755, 6.749270754961786, 3.201298498297902, 1.9407436092665002, 0.6771062376701962, 1.9930062368067665, 4.208112067514032, 2.81007530607512, 3.9712674762653246, 2.7036563941418432, 4.995545986943191, 1.3194781583969857, 5.112700450538841, 9.715534560764612, 0.5167218196057173, 0.5167218196057173, 0.5496558101029457, 0.5431761646855356, 0.812807329874657, 0.5565764481142442, 0.3906700998987551, 0.33640439891669927, 0.33236030096699076, 0.3315510362922144, 0.3608216754239154, 0.3672852983705978, 0.31897717294523426, 0.38988779361818793, 0.31790396057415604, 0.3139485369877449, 0.31316166807679147, 0.31145128129293853, 0.3075750146881145, 0.30600786252189677, 0.3051869632277048, 0.3551287823118468, 0.3044036260885421, 0.3134482288283596, 0.3041576618785625, 0.32711908736446227, 0.3040368701053901, 0.303250703305567, 0.30222281768069303, 0.30213714296000854, 0.3565181790982671, 0.846987228999006, 0.36806403979046776, 0.5714595576685223, 0.4902589413551621, 0.5380162406391581, 3.2905685800253, 1.0953571946279468, 0.39930334117647115, 0.8888975920917549, 4.208112067514032, 1.7040452299364155, 0.5536105153297096, 3.527436433329665, 0.8962129780456092, 3.201298498297902, 0.8306328277934527, 1.9018422529230328, 6.749270754961786, 1.005124402439089, 9.715534560764612, 2.982372289389836, 3.9712674762653246, 5.86551881600667, 0.39830670112027217, 0.3924118458839705, 0.37521231120023546, 0.40216608782533836, 0.35521575695540636, 0.3510759707371125, 0.45309596689013404, 0.3240026239907019, 0.37212448071653337, 0.31131967569373675, 0.3110670360674774, 0.3061983088278288, 0.3026643969880056, 0.3026643969880056, 0.3026643969880056, 0.30008451456393404, 0.2973661984210328, 0.2967873778019164, 0.3199662827097368, 0.29574724295317245, 0.5961493751074352, 0.3335758714805089, 0.29242220912333106, 0.29242220912333106, 0.2912823958899978, 0.2912226032156577, 0.2911090730260756, 0.2911090730260756, 0.29092494015140574, 0.2891700770614638, 0.5284031387098901, 0.36911904860658173, 0.3874347362768806, 0.9447853304244013, 0.5548811613902671, 0.4815609462894716, 0.9027045162955525, 0.8929314258059624, 0.7280034680204346, 3.527436433329665, 4.558508772158374, 0.5592503420760818, 3.201298498297902, 0.4690663831354792, 0.5796166543974587, 6.749270754961786, 1.0791744628446411, 2.008100489875769, 1.857101198393394, 3.9712674762653246, 3.7498505397033073, 4.208112067514032, 3.2905685800253, 3.3111252354115925, 5.461199047004063, 5.601778117777126, 0.41826442014937193, 0.3816746898380298, 0.3539402760998371, 0.3335544673744625, 0.3212778345437533, 0.3192948938695098, 0.31258604675638385, 0.3090206291299862, 0.308490306863558, 0.30722586253848233, 0.3051161481051195, 0.3051161481051195, 0.3051161481051195, 0.3042163668131029, 0.3005241547953986, 0.35204990551726656, 0.2990675421018258, 0.2990739503368261, 0.2969353519555379, 0.2969235015659421, 0.2952315117738336, 0.33505385266781973, 0.291282485596681, 0.2907324142237456, 0.28916400848330076, 0.2874097271148996, 0.2851575247811664, 0.367305224701259, 0.28364553490082167, 0.3574346932765697, 0.32469810443958314, 0.36110332349632457, 0.371647581303812, 0.36252169609805707, 0.4219995068922198, 0.5223460859399525, 0.4780689913911825, 0.6050601580476352, 0.5705980811361994, 0.5138328146707106, 0.846987228999006, 1.857101198393394, 0.65347184876875, 6.749270754961786, 3.9712674762653246, 1.8415179238663177, 0.4246316881439743, 4.208112067514032, 0.9027045162955525, 3.182372846597701, 0.7817003171200085, 0.4907829312812403, 0.34151171307846007, 0.32715015391057856, 0.40264935663776974, 0.31866969912611864, 0.3007757559480981, 0.31488429263852896, 0.2984421038710968, 0.34888556965497464, 0.2978148032755469, 0.2967784215464488, 0.29594214072296654, 0.293965847599616, 0.2928152738616668, 0.2928152738616668, 0.33523623346549686, 0.2913126651935412, 0.2911892839464559, 0.2911892839464559, 0.2911892839464559, 0.3114877623768095, 0.28892558680090874, 0.2886491418273787, 0.2881560344548544, 0.2876972672543905, 0.28668162047674334, 0.28655865276375814, 0.28598912540640586, 0.2844623299405259, 0.49400443968894725, 0.28343538249972633, 0.40298297452552456, 0.39113403473213365, 2.2512904154714506, 0.3497344273107229, 0.3837013785116852, 6.749270754961786, 0.43419490559619484, 0.5364483066739745, 1.0955259361256318, 1.0154949295401678, 0.7236621177604494, 1.005124402439089, 1.0280974851325713, 1.9018422529230328, 0.7280034680204346, 1.3783360084761629, 1.6439760551958575, 0.5705980811361994, 1.8415179238663177, 5.461199047004063, 0.9027045162955525, 1.3504726498097173, 1.8700204298088923, 0.7580260460741913, 4.208112067514032, 4.578723198975721, 1.3920544490082924, 3.527436433329665, 3.981352809256178, 1.9514075115859173, 0.4543383744420138, 0.44042594786790157, 0.3048593393187625, 0.3033889361209598, 0.3207655932066936, 0.2967516920804577, 0.3112700884993297, 0.28917523353723146, 0.2825372567630592, 0.3537298054326043, 0.42946964982865077, 0.27831488029850826, 0.276240879989911, 0.274570072265585, 0.27443221792714545, 0.3005452387969532, 0.2736427199993833, 0.34278946043823266, 0.2734370477443808, 0.272675103490059, 0.27241684963731627, 0.27241684963731627, 0.27238785396790577, 0.2721007171432854, 0.27160076673624817, 0.2714942740370956, 0.2714942740370956, 0.27138200071593316, 0.27104002299594265, 0.2707905574375312, 0.34269890564377625, 0.5117115903395195, 0.4784771015968371, 0.2971984520839654, 0.3313016477825156, 3.201298498297902, 0.3478962935880767, 0.4179233493674168, 0.3851196366863821, 3.5327618805515013, 0.5133323846203646, 1.0953571946279468, 0.9007663334029963, 0.732314112682786, 0.8962129780456092, 4.558508772158374, 5.86551881600667, 2.982372289389836, 0.6771062376701962, 3.9712674762653246, 1.2890626310819582, 1.6539107226278722, 0.9157546839347904], \"Category\": [\"Default\", \"Default\", \"Default\", \"Default\", \"Default\", \"Default\", \"Default\", \"Default\", \"Default\", \"Default\", \"Default\", \"Default\", \"Default\", \"Default\", \"Default\", \"Default\", \"Default\", \"Default\", \"Default\", \"Default\", \"Default\", \"Default\", \"Default\", \"Default\", \"Default\", \"Default\", \"Default\", \"Default\", \"Default\", \"Default\", \"Topic1\", \"Topic1\", \"Topic1\", \"Topic1\", \"Topic1\", \"Topic1\", \"Topic1\", \"Topic1\", \"Topic1\", \"Topic1\", \"Topic1\", \"Topic1\", \"Topic1\", \"Topic1\", \"Topic1\", \"Topic1\", \"Topic1\", \"Topic1\", \"Topic1\", \"Topic1\", \"Topic1\", \"Topic1\", \"Topic1\", \"Topic1\", \"Topic1\", \"Topic1\", \"Topic1\", \"Topic1\", \"Topic1\", \"Topic1\", \"Topic1\", \"Topic1\", \"Topic1\", \"Topic1\", \"Topic1\", \"Topic1\", \"Topic1\", \"Topic1\", \"Topic1\", \"Topic1\", \"Topic1\", \"Topic1\", \"Topic1\", \"Topic1\", \"Topic1\", \"Topic1\", \"Topic1\", \"Topic1\", \"Topic1\", \"Topic1\", \"Topic1\", \"Topic1\", \"Topic2\", \"Topic2\", \"Topic2\", \"Topic2\", \"Topic2\", \"Topic2\", \"Topic2\", \"Topic2\", \"Topic2\", \"Topic2\", \"Topic2\", \"Topic2\", \"Topic2\", \"Topic2\", \"Topic2\", \"Topic2\", \"Topic2\", \"Topic2\", \"Topic2\", \"Topic2\", \"Topic2\", \"Topic2\", \"Topic2\", \"Topic2\", \"Topic2\", \"Topic2\", \"Topic2\", \"Topic2\", \"Topic2\", \"Topic2\", \"Topic2\", \"Topic2\", \"Topic2\", \"Topic2\", \"Topic2\", \"Topic2\", \"Topic2\", \"Topic2\", \"Topic2\", \"Topic2\", \"Topic2\", \"Topic2\", \"Topic2\", \"Topic2\", \"Topic2\", \"Topic2\", \"Topic2\", \"Topic2\", \"Topic2\", \"Topic2\", \"Topic2\", \"Topic2\", \"Topic2\", \"Topic2\", \"Topic2\", \"Topic2\", \"Topic2\", \"Topic2\", \"Topic2\", \"Topic2\", \"Topic2\", \"Topic2\", \"Topic2\", \"Topic2\", \"Topic3\", \"Topic3\", \"Topic3\", \"Topic3\", \"Topic3\", \"Topic3\", \"Topic3\", \"Topic3\", \"Topic3\", \"Topic3\", \"Topic3\", \"Topic3\", \"Topic3\", \"Topic3\", \"Topic3\", \"Topic3\", \"Topic3\", \"Topic3\", \"Topic3\", \"Topic3\", \"Topic3\", \"Topic3\", \"Topic3\", \"Topic3\", \"Topic3\", \"Topic3\", \"Topic3\", \"Topic3\", \"Topic3\", \"Topic3\", \"Topic3\", \"Topic3\", \"Topic3\", \"Topic3\", \"Topic3\", \"Topic3\", \"Topic3\", \"Topic3\", \"Topic3\", \"Topic3\", \"Topic3\", \"Topic3\", \"Topic3\", \"Topic3\", \"Topic3\", \"Topic4\", \"Topic4\", \"Topic4\", \"Topic4\", \"Topic4\", \"Topic4\", \"Topic4\", \"Topic4\", \"Topic4\", \"Topic4\", \"Topic4\", \"Topic4\", \"Topic4\", \"Topic4\", \"Topic4\", \"Topic4\", \"Topic4\", \"Topic4\", \"Topic4\", \"Topic4\", \"Topic4\", \"Topic4\", \"Topic4\", \"Topic4\", \"Topic4\", \"Topic4\", \"Topic4\", \"Topic4\", \"Topic4\", \"Topic4\", \"Topic4\", \"Topic4\", \"Topic4\", \"Topic4\", \"Topic4\", \"Topic4\", \"Topic4\", \"Topic4\", \"Topic4\", \"Topic4\", \"Topic4\", \"Topic4\", \"Topic4\", \"Topic4\", \"Topic4\", \"Topic4\", \"Topic4\", \"Topic4\", \"Topic4\", \"Topic4\", \"Topic4\", \"Topic4\", \"Topic4\", \"Topic4\", \"Topic4\", \"Topic5\", \"Topic5\", \"Topic5\", \"Topic5\", \"Topic5\", \"Topic5\", \"Topic5\", \"Topic5\", \"Topic5\", \"Topic5\", \"Topic5\", \"Topic5\", \"Topic5\", \"Topic5\", \"Topic5\", \"Topic5\", \"Topic5\", \"Topic5\", \"Topic5\", \"Topic5\", \"Topic5\", \"Topic5\", \"Topic5\", \"Topic5\", \"Topic5\", \"Topic5\", \"Topic5\", \"Topic5\", \"Topic5\", \"Topic5\", \"Topic5\", \"Topic5\", \"Topic5\", \"Topic5\", \"Topic5\", \"Topic5\", \"Topic5\", \"Topic5\", \"Topic5\", \"Topic5\", \"Topic5\", \"Topic5\", \"Topic5\", \"Topic5\", \"Topic5\", \"Topic5\", \"Topic5\", \"Topic5\", \"Topic5\", \"Topic5\", \"Topic5\", \"Topic5\", \"Topic5\", \"Topic5\", \"Topic5\", \"Topic5\", \"Topic5\", \"Topic5\", \"Topic5\", \"Topic5\", \"Topic5\", \"Topic6\", \"Topic6\", \"Topic6\", \"Topic6\", \"Topic6\", \"Topic6\", \"Topic6\", \"Topic6\", \"Topic6\", \"Topic6\", \"Topic6\", \"Topic6\", \"Topic6\", \"Topic6\", \"Topic6\", \"Topic6\", \"Topic6\", \"Topic6\", \"Topic6\", \"Topic6\", \"Topic6\", \"Topic6\", \"Topic6\", \"Topic6\", \"Topic6\", \"Topic6\", \"Topic6\", \"Topic6\", \"Topic6\", \"Topic6\", \"Topic6\", \"Topic6\", \"Topic6\", \"Topic6\", \"Topic6\", \"Topic6\", \"Topic6\", \"Topic6\", \"Topic6\", \"Topic6\", \"Topic6\", \"Topic6\", \"Topic6\", \"Topic6\", \"Topic6\", \"Topic6\", \"Topic6\", \"Topic6\", \"Topic6\", \"Topic6\", \"Topic6\", \"Topic6\", \"Topic6\", \"Topic6\", \"Topic7\", \"Topic7\", \"Topic7\", \"Topic7\", \"Topic7\", \"Topic7\", \"Topic7\", \"Topic7\", \"Topic7\", \"Topic7\", \"Topic7\", \"Topic7\", \"Topic7\", \"Topic7\", \"Topic7\", \"Topic7\", \"Topic7\", \"Topic7\", \"Topic7\", \"Topic7\", \"Topic7\", \"Topic7\", \"Topic7\", \"Topic7\", \"Topic7\", \"Topic7\", \"Topic7\", \"Topic7\", \"Topic7\", \"Topic7\", \"Topic7\", \"Topic7\", \"Topic7\", \"Topic7\", \"Topic7\", \"Topic7\", \"Topic7\", \"Topic7\", \"Topic7\", \"Topic7\", \"Topic7\", \"Topic7\", \"Topic7\", \"Topic7\", \"Topic7\", \"Topic7\", \"Topic7\", \"Topic7\", \"Topic7\", \"Topic7\", \"Topic7\", \"Topic7\", \"Topic7\", \"Topic7\", \"Topic7\", \"Topic7\", \"Topic8\", \"Topic8\", \"Topic8\", \"Topic8\", \"Topic8\", \"Topic8\", \"Topic8\", \"Topic8\", \"Topic8\", \"Topic8\", \"Topic8\", \"Topic8\", \"Topic8\", \"Topic8\", \"Topic8\", \"Topic8\", \"Topic8\", \"Topic8\", \"Topic8\", \"Topic8\", \"Topic8\", \"Topic8\", \"Topic8\", \"Topic8\", \"Topic8\", \"Topic8\", \"Topic8\", \"Topic8\", \"Topic8\", \"Topic8\", \"Topic8\", \"Topic8\", \"Topic8\", \"Topic8\", \"Topic8\", \"Topic8\", \"Topic8\", \"Topic8\", \"Topic8\", \"Topic8\", \"Topic8\", \"Topic8\", \"Topic8\", \"Topic8\", \"Topic8\", \"Topic8\", \"Topic8\", \"Topic8\", \"Topic8\", \"Topic8\", \"Topic8\", \"Topic8\", \"Topic9\", \"Topic9\", \"Topic9\", \"Topic9\", \"Topic9\", \"Topic9\", \"Topic9\", \"Topic9\", \"Topic9\", \"Topic9\", \"Topic9\", \"Topic9\", \"Topic9\", \"Topic9\", \"Topic9\", \"Topic9\", \"Topic9\", \"Topic9\", \"Topic9\", \"Topic9\", \"Topic9\", \"Topic9\", \"Topic9\", \"Topic9\", \"Topic9\", \"Topic9\", \"Topic9\", \"Topic9\", \"Topic9\", \"Topic9\", \"Topic9\", \"Topic9\", \"Topic9\", \"Topic9\", \"Topic9\", \"Topic9\", \"Topic9\", \"Topic9\", \"Topic9\", \"Topic9\", \"Topic9\", \"Topic9\", \"Topic9\", \"Topic9\", \"Topic9\", \"Topic9\", \"Topic9\", \"Topic9\", \"Topic9\", \"Topic9\", \"Topic9\", \"Topic9\", \"Topic9\", \"Topic9\", \"Topic9\", \"Topic9\", \"Topic9\", \"Topic9\", \"Topic9\", \"Topic9\", \"Topic10\", \"Topic10\", \"Topic10\", \"Topic10\", \"Topic10\", \"Topic10\", \"Topic10\", \"Topic10\", \"Topic10\", \"Topic10\", \"Topic10\", \"Topic10\", \"Topic10\", \"Topic10\", \"Topic10\", \"Topic10\", \"Topic10\", \"Topic10\", \"Topic10\", \"Topic10\", \"Topic10\", \"Topic10\", \"Topic10\", \"Topic10\", \"Topic10\", \"Topic10\", \"Topic10\", \"Topic10\", \"Topic10\", \"Topic10\", \"Topic10\", \"Topic10\", \"Topic10\", \"Topic10\", \"Topic10\", \"Topic10\", \"Topic10\", \"Topic10\", \"Topic10\", \"Topic10\", \"Topic10\", \"Topic10\", \"Topic10\", \"Topic10\", \"Topic10\", \"Topic10\", \"Topic10\", \"Topic10\", \"Topic10\", \"Topic10\", \"Topic10\", \"Topic10\", \"Topic10\"], \"logprob\": [30.0, 29.0, 28.0, 27.0, 26.0, 25.0, 24.0, 23.0, 22.0, 21.0, 20.0, 19.0, 18.0, 17.0, 16.0, 15.0, 14.0, 13.0, 12.0, 11.0, 10.0, 9.0, 8.0, 7.0, 6.0, 5.0, 4.0, 3.0, 2.0, 1.0, -6.4089, -6.9938, -6.5835, -7.0761, -7.1163, -6.8305, -7.1694, -6.7532, -7.2079, -6.821, -7.0836, -7.1483, -6.9615, -7.1275, -7.1365, -7.2408, -7.2403, -7.3601, -6.8614, -7.429, -6.4706, -7.4253, -7.0511, -7.298, -7.1782, -7.3697, -7.4915, -7.3248, -7.4733, -6.2205, -6.423, -7.0409, -6.8706, -6.812, -6.6846, -7.1034, -6.5173, -7.0949, -6.7211, -6.9769, -6.7951, -6.93, -6.7458, -6.8856, -6.9816, -7.0664, -7.042, -6.8991, -6.9904, -6.996, -7.0371, -7.0367, -8.1042, -7.9461, -8.1541, -8.4794, -8.8764, -8.9022, -9.0187, -9.0275, -9.0412, -9.0523, -9.055, -9.0586, -9.0799, -9.1189, -9.1419, -9.154, -9.154, -9.1687, -9.1689, -9.1717, -9.0076, -9.1749, -9.1824, -9.1903, -9.1903, -8.8052, -8.9746, -9.2044, -9.2073, -9.2296, -8.8026, -8.7083, -8.4782, -8.9899, -8.7126, -9.0291, -8.5746, -9.029, -8.2993, -8.9606, -8.3391, -8.995, -8.82, -8.7905, -8.7548, -8.8269, -7.789, -8.0905, -8.3504, -8.695, -8.7591, -8.1239, -8.6532, -8.4957, -8.1429, -8.3669, -8.5037, -8.6489, -8.5723, -8.5256, -8.7286, -8.5603, -8.6662, -8.6526, -6.7435, -7.2094, -7.3785, -7.4149, -7.4809, -7.3322, -7.6369, -7.3097, -8.1048, -8.122, -8.1483, -7.8067, -7.6431, -8.3531, -8.6623, -8.7233, -8.7752, -8.4852, -8.8222, -8.8671, -7.4273, -8.9475, -8.7951, -8.9871, -8.9925, -9.0043, -9.0054, -9.0179, -9.0412, -9.0412, -8.902, -8.6666, -8.6605, -8.6018, -7.1289, -6.9968, -7.2957, -8.622, -8.2008, -8.6829, -8.2814, -8.4325, -8.597, -8.6113, -8.631, -7.9072, -8.2621, -8.5387, -8.7802, -8.8404, -8.7728, -8.7751, -8.8721, -8.8721, -8.6969, -8.9279, -9.0249, -9.0258, -9.0413, -9.0538, -9.087, -9.0973, -9.0998, -9.1097, -9.1097, -8.8803, -9.1292, -9.1292, -9.1383, -9.0422, -8.7751, -8.9953, -9.167, -9.182, -9.182, -8.8688, -9.0514, -8.9008, -8.8084, -8.8785, -9.0273, -8.628, -8.2919, -8.8284, -8.9338, -8.1268, -8.5215, -8.8062, -8.8609, -8.5861, -8.2408, -8.3697, -8.767, -8.5591, -8.7537, -8.6762, -8.6876, -8.783, -8.8413, -8.8449, -8.2696, -8.8183, -8.8853, -8.8933, -8.974, -9.0013, -9.0025, -9.0417, -9.057, -9.0718, -9.0782, -9.0865, -9.0011, -9.0895, -9.0969, -9.111, -9.1442, -9.057, -8.5703, -9.1816, -9.1956, -9.1958, -9.2006, -9.2008, -9.2039, -9.2174, -9.2174, -8.8804, -9.238, -9.2446, -8.9663, -8.2329, -7.6387, -9.0455, -8.7383, -8.6604, -8.8914, -8.9553, -8.8303, -9.1003, -8.8626, -8.9802, -8.8361, -8.2863, -8.455, -8.2456, -8.9376, -8.5187, -8.3382, -8.5373, -8.6618, -8.896, -8.6808, -8.5502, -8.6509, -8.6779, -8.8568, -8.833, -8.9056, -8.8754, -8.8902, -8.1129, -8.1129, -8.0744, -8.113, -7.7472, -8.1341, -8.6473, -8.8845, -8.9108, -8.9163, -8.8544, -8.8544, -9.0037, -8.8062, -9.0115, -9.0409, -9.0469, -9.0599, -9.0902, -9.1026, -9.1092, -8.9601, -9.1157, -9.0866, -9.1179, -9.0453, -9.1186, -9.1251, -9.1335, -9.1342, -8.9726, -8.3083, -8.9768, -8.7202, -8.8284, -8.8249, -7.9748, -8.5738, -8.9981, -8.7603, -8.395, -8.6754, -8.9252, -8.522, -8.8343, -8.6041, -8.8667, -8.7524, -8.605, -8.8553, -8.6483, -8.8157, -8.8138, -8.8031, -8.5177, -8.5454, -8.6305, -8.5688, -8.7397, -8.7639, -8.5888, -8.9382, -8.8137, -9.0316, -9.0336, -9.072, -9.1008, -9.1008, -9.1008, -9.1225, -9.1456, -9.1506, -9.0761, -9.1597, -8.4627, -9.0575, -9.1893, -9.1893, -9.1998, -9.2003, -9.2013, -9.2013, -9.2031, -9.2192, -8.6305, -8.996, -8.978, -8.3599, -8.7837, -8.8805, -8.5901, -8.6389, -8.7745, -8.1317, -8.0879, -8.9157, -8.3834, -8.9812, -8.9289, -8.3124, -8.8035, -8.7065, -8.7329, -8.6971, -8.7129, -8.7114, -8.822, -8.8227, -8.834, -8.8368, -8.4226, -8.5908, -8.7403, -8.8664, -8.9508, -8.9651, -9.0152, -9.0429, -9.047, -9.057, -9.074, -9.074, -9.074, -9.0813, -9.1121, -8.9597, -9.1243, -9.1243, -9.1427, -9.1428, -9.1576, -9.0396, -9.193, -9.1981, -9.2128, -9.2291, -9.2515, -9.0038, -9.2654, -9.0391, -9.1385, -9.0449, -9.0316, -9.0515, -8.9698, -8.8532, -8.9247, -8.8084, -8.849, -8.935, -8.7598, -8.5491, -8.8907, -8.5171, -8.7177, -8.8241, -9.0391, -8.9456, -9.0098, -8.9887, -9.03, -9.0381, -8.7611, -8.8559, -8.6647, -8.9164, -9.0576, -9.0142, -9.0775, -8.9219, -9.083, -9.092, -9.0994, -9.1171, -9.1273, -9.1273, -9.0, -9.1411, -9.1422, -9.1422, -9.1422, -9.0881, -9.1633, -9.1659, -9.1706, -9.175, -9.1846, -9.1858, -9.1913, -9.2062, -8.6602, -9.2164, -8.879, -8.9198, -7.7783, -9.0527, -9.0022, -7.6856, -8.98, -8.8956, -8.5955, -8.6829, -8.8638, -8.7695, -8.7889, -8.6446, -8.893, -8.7651, -8.7482, -8.9715, -8.7622, -8.595, -8.9036, -8.8467, -8.8224, -8.9394, -8.7551, -8.82, -8.9121, -8.8865, -8.9002, -8.9196, -8.4638, -8.5628, -8.9425, -8.9548, -8.9235, -9.0118, -8.9684, -9.0813, -9.1464, -8.9238, -8.7312, -9.1901, -9.2123, -9.231, -9.232, -9.145, -9.241, -9.0168, -9.2431, -9.2516, -9.2545, -9.2545, -9.2559, -9.2581, -9.2637, -9.265, -9.265, -9.2663, -9.2702, -9.273, -9.0403, -8.8188, -8.8776, -9.2064, -9.1422, -7.9115, -9.1517, -9.1086, -9.164, -8.5928, -9.0931, -8.9068, -8.9625, -9.0242, -9.047, -8.8057, -8.832, -8.951, -9.1121, -8.9994, -9.087, -9.0789, -9.12], \"loglift\": [30.0, 29.0, 28.0, 27.0, 26.0, 25.0, 24.0, 23.0, 22.0, 21.0, 20.0, 19.0, 18.0, 17.0, 16.0, 15.0, 14.0, 13.0, 12.0, 11.0, 10.0, 9.0, 8.0, 7.0, 6.0, 5.0, 4.0, 3.0, 2.0, 1.0, 1.1179, 1.1125, 1.1104, 1.1095, 1.1079, 1.1075, 1.105, 1.1045, 1.1041, 1.102, 1.1016, 1.1013, 1.1012, 1.1008, 1.1006, 1.1005, 1.0975, 1.0971, 1.0957, 1.0935, 1.0933, 1.0933, 1.092, 1.0917, 1.0911, 1.09, 1.0897, 1.0893, 1.0893, 1.0882, 1.0816, 1.0874, 1.0827, 1.0808, 1.0748, 1.0835, 1.0442, 1.0789, 1.0407, 1.0542, 1.0183, 1.0197, 0.9345, 0.9842, 1.0273, 1.0548, 1.0325, 0.8696, 0.9603, 0.8887, 0.9368, 0.8227, 2.0872, 2.0327, 1.9766, 1.7899, 1.7606, 1.7472, 1.6845, 1.6796, 1.672, 1.6657, 1.6642, 1.6622, 1.6502, 1.6278, 1.6144, 1.6073, 1.6073, 1.5987, 1.5986, 1.5969, 1.5965, 1.595, 1.5906, 1.5859, 1.5859, 1.5832, 1.5799, 1.5775, 1.5757, 1.5624, 1.5607, 1.5558, 1.5441, 1.5594, 1.5216, 1.5606, 1.46, 1.5418, 1.2221, 1.5056, 1.1522, 1.519, 1.3846, 1.3356, 1.2927, 1.3099, -0.116, 0.2314, 0.569, 1.0873, 1.1531, -0.2391, 0.873, 0.4873, -0.4627, -0.0465, 0.0269, 0.4364, -0.3715, -0.7638, 0.5848, -0.7916, -0.2473, -0.7029, 2.3741, 2.309, 2.2783, 2.2594, 2.2575, 2.2429, 2.2225, 2.2156, 2.0897, 2.084, 2.0751, 1.9908, 1.9658, 1.8749, 1.8679, 1.8389, 1.8138, 1.812, 1.7903, 1.7674, 1.7268, 1.725, 1.7228, 1.7035, 1.7006, 1.6941, 1.6935, 1.6806, 1.6736, 1.6736, 1.6734, 1.6615, 1.6425, 1.585, 1.0719, 0.8626, 0.3773, 1.1649, 0.2181, 1.18, -0.6011, -0.6638, 0.0236, -0.6606, -0.6571, 2.1784, 1.9563, 1.8975, 1.8297, 1.7988, 1.7913, 1.7882, 1.7822, 1.7822, 1.7816, 1.7523, 1.6985, 1.6979, 1.6892, 1.682, 1.6628, 1.6568, 1.6554, 1.6496, 1.6496, 1.6448, 1.6381, 1.6381, 1.6326, 1.6255, 1.6226, 1.618, 1.6155, 1.6065, 1.6065, 1.5906, 1.5961, 1.5583, 1.5305, 1.4853, 1.5572, 1.1939, 0.8806, 1.2748, 1.4158, 0.195, 0.7605, 1.1776, 1.2663, 0.6808, -0.5678, -0.2243, 0.7877, -0.7904, 0.1653, -0.4728, -1.0073, -0.9132, -0.4364, -1.2834, 1.8265, 1.8149, 1.7798, 1.7755, 1.7314, 1.7161, 1.7154, 1.6931, 1.6843, 1.6757, 1.672, 1.6672, 1.6663, 1.6655, 1.6611, 1.6528, 1.6331, 1.6276, 1.6149, 1.6105, 1.602, 1.6018, 1.5989, 1.5988, 1.5969, 1.5886, 1.5886, 1.5825, 1.5759, 1.5718, 1.5708, 1.5474, 1.4466, 1.5239, 1.4037, 1.3688, 1.4082, 1.4473, 1.356, 1.5314, 1.2816, 1.4012, 1.153, 0.0356, 0.0773, -0.4769, 1.2519, 0.059, -0.6652, -0.1184, 0.2576, 1.0763, 0.212, -0.4048, -0.1017, -0.4746, -0.269, -0.8591, 0.3996, -0.9247, -1.5815, 2.1298, 2.1298, 2.1065, 2.0797, 2.0425, 2.0342, 1.875, 1.7874, 1.7731, 1.7702, 1.7474, 1.7296, 1.7214, 1.7181, 1.7169, 1.7001, 1.6966, 1.6891, 1.6713, 1.6639, 1.66, 1.6576, 1.6562, 1.656, 1.6548, 1.6546, 1.6545, 1.6505, 1.6456, 1.6451, 1.6412, 1.4402, 1.6052, 1.4218, 1.4669, 1.3774, 0.4166, 0.9175, 1.5024, 0.9399, -0.2496, 0.3741, 1.2485, -0.2002, 0.8577, -0.1853, 0.9013, 0.1872, -0.932, 0.722, -1.3396, -0.326, -0.6104, -0.9897, 1.9852, 1.9725, 1.9322, 1.9246, 1.8778, 1.8653, 1.7852, 1.7712, 1.7573, 1.7178, 1.7166, 1.6939, 1.6768, 1.6768, 1.6768, 1.6636, 1.6496, 1.6465, 1.6459, 1.641, 1.637, 1.6229, 1.6226, 1.6226, 1.6161, 1.6159, 1.6152, 1.6152, 1.6141, 1.6039, 1.5898, 1.5831, 1.5526, 1.2793, 1.3878, 1.4326, 1.0947, 1.0568, 1.1254, 0.1902, -0.0225, 1.2479, 0.0355, 1.3582, 1.1989, -0.6394, 0.7027, 0.1787, 0.2305, -0.4937, -0.4522, -0.566, -0.4306, -0.4376, -0.9492, -0.9774, 2.0314, 1.9548, 1.8808, 1.814, 1.7671, 1.759, 1.7301, 1.7139, 1.7115, 1.7056, 1.6955, 1.6955, 1.6955, 1.6912, 1.6726, 1.6667, 1.6652, 1.6652, 1.654, 1.6539, 1.6448, 1.6363, 1.6229, 1.6197, 1.6103, 1.6002, 1.5857, 1.5802, 1.577, 1.5721, 1.5688, 1.5561, 1.5406, 1.5456, 1.4754, 1.3787, 1.3958, 1.2765, 1.2945, 1.3133, 0.9887, 0.4143, 1.1172, -0.8441, -0.5143, 0.1477, 1.3998, -0.8002, 0.675, -0.5639, 0.7987, 1.2561, 1.8957, 1.8439, 1.8274, 1.8096, 1.7262, 1.7238, 1.7141, 1.7135, 1.7108, 1.7052, 1.7006, 1.6896, 1.6833, 1.6833, 1.6753, 1.6747, 1.674, 1.674, 1.674, 1.6608, 1.6607, 1.6591, 1.6561, 1.6533, 1.6472, 1.6464, 1.6429, 1.6334, 1.6275, 1.6268, 1.6123, 1.6013, 0.9927, 1.5803, 1.5381, -0.0126, 1.4367, 1.3097, 0.8957, 0.8842, 1.0421, 0.8078, 0.7658, 0.295, 1.0068, 0.4964, 0.3371, 1.172, 0.2096, -0.7103, 0.7812, 0.4352, 0.1341, 0.9201, -0.6097, -0.759, 0.3396, -0.5646, -0.6993, -0.0057, 1.9076, 1.8396, 1.8278, 1.8204, 1.796, 1.7854, 1.7811, 1.7418, 1.7, 1.6978, 1.6964, 1.6714, 1.6566, 1.644, 1.6435, 1.6396, 1.6374, 1.6363, 1.636, 1.6303, 1.6284, 1.6284, 1.6271, 1.6259, 1.6221, 1.6212, 1.6212, 1.6204, 1.6177, 1.6158, 1.613, 1.4337, 1.442, 1.5894, 1.545, 0.5073, 1.4866, 1.3463, 1.3726, -0.2724, 1.1561, 0.5845, 0.7244, 0.8698, 0.645, -0.7402, -1.0186, -0.4613, 0.8603, -0.7961, 0.2416, 0.0004, 0.5505]}, \"token.table\": {\"Topic\": [1, 1, 1, 1, 1, 1, 3, 3, 1, 1, 1, 1, 1, 1, 1, 1, 1, 3, 1, 1, 1, 3, 1, 3, 3, 1, 1, 1, 1, 5, 1, 1, 1, 3, 1, 1, 1, 1, 1, 1, 1, 1, 1, 1, 1, 1, 1, 1, 1, 1, 1, 1, 1, 1, 1, 1, 1, 1, 1, 1, 1, 1, 1, 1, 1, 1, 1, 3, 1, 3, 1, 1, 1, 1, 1, 1, 1, 1, 1, 3, 1, 1, 1, 3, 3, 1, 1, 1, 1, 1, 1, 1, 1, 3, 1, 1, 1, 1, 1, 1, 1, 1, 1, 1, 1, 1, 1, 1, 1, 1, 1], \"Freq\": [1.0758702447806932, 0.8911307092975913, 0.8854373069081538, 0.7397389713920404, 0.7757574968724854, 0.5384736173048162, 0.9927161896725047, 0.9379733928050183, 0.9907361347002577, 0.7322647538978252, 0.711724698507612, 0.6046275571701453, 0.97152378563513, 1.1249889851167205, 0.7255124975698508, 0.5258059644342489, 0.9656702847731603, 1.1687991032985645, 0.9299430455122624, 0.8641491580546192, 0.8670950281553607, 1.0961951810149355, 0.9842411158262389, 1.0771418619230781, 1.3192213192249065, 0.6986013594926872, 0.7183627053614215, 1.0394118408698312, 1.0418694076947033, 0.6082813656801489, 0.6160741001216191, 0.8764125126770579, 0.5023418159149912, 0.2511709079574956, 0.7643278518245832, 0.7324398846429786, 0.8751187157402387, 0.9691658033163837, 0.9769806380183075, 0.9277280171723733, 0.8478260290667694, 0.9891618964654426, 0.6077976955534604, 0.3123732449603465, 0.6581099543611391, 0.7554263262119206, 0.9229107867206481, 0.5491245669628165, 1.0354060459537437, 0.5347535160897656, 0.9326727442613896, 1.02490125108445, 1.1022924453477116, 0.5152664139793034, 1.0548653950015505, 0.9263514985933724, 1.028502038893577, 0.9102061397136536, 0.9426928096144747, 1.0814014919583204, 0.4979830466860077, 0.7578753718931468, 0.8421108775796675, 1.0301589859315625, 0.5868388834005972, 0.6706070892340474, 0.5926566210222586, 0.14816415525556464, 1.082001896438003, 0.6515627068374102, 0.663737158459792, 0.9737144551859934, 0.9140431764978324, 1.0035091526880715, 0.7823654130917115, 0.9019489587386316, 0.9278565300528127, 0.44418969366534905, 0.7140589855399812, 0.1785147463849953, 0.7294165214301097, 0.7462048010139684, 0.8000318861341508, 0.9444649124468809, 1.0267867196386224, 1.032692484512846, 1.0919955065948739, 0.7641514389845079, 0.566983994694451, 0.8152409279491064, 0.5430302833547622, 0.8007132774785299, 0.9805113936803097, 0.6282341350477852, 0.6997505893058286, 1.110165825383493, 0.9077382106047088, 0.9060364035512182, 0.9408295113666914, 0.9895361987046764, 0.976222884863263, 0.9483255738885406, 0.8292418716970227, 0.8736059871220903, 0.7129087704577859, 0.8524395124869912, 0.9779400310331534, 0.9343920881918457, 0.8491939455403285, 1.0241181948219082, 0.9512114112014273], \"Term\": [\"amp\", \"\\uac00\\ub2a5\", \"\\uac00\\ub2a5\\ud569\\ub2c8\\ub2e4\", \"\\uac01\\uc885\", \"\\uac10\\uc0ac\\ud569\\ub2c8\\ub2e4\", \"\\uac1c\\uc6d4\", \"\\uac74\\uc124\\uae30\\uc220\\uad00\\ub9ac\\ubc95\\uc5d0\", \"\\uac74\\uc124\\uae30\\uc220\\uc790\", \"\\uac74\\ucd95\\ubb3c\\uc758\", \"\\uac83\\uc744\", \"\\uac83\\uc785\\ub2c8\\ub2e4\", \"\\uacbd\\uc6b0\\uc5d0\", \"\\uacbd\\uc6b0\\uc5d0\\ub294\", \"\\uacc4\\uc57d\\uc2ec\\uc0ac\", \"\\uacf5\\ubb34\\uc6d0\\uc758\", \"\\uacf5\\uc0ac\", \"\\uad00\\ub828\", \"\\uad00\\ub828\\uc885\\ubaa9\\uc758\", \"\\uad00\\ud55c\", \"\\uad50\\uc721\", \"\\uad6c\\ubd84\", \"\\uad6d\\uac00\\uae30\\uc220\\uc790\\uaca9\\ubc95\\uc5d0\", \"\\uaddc\\uc815\\uc5d0\", \"\\uae30\\uc220\\ub2a5\\ub825\\uacfc\", \"\\uae30\\uc220\\uc790\\uaca9\\ucde8\\ub4dd\\uc790\", \"\\uae30\\uc900\", \"\\uae30\\uc900\\uc73c\\ub85c\", \"\\uae30\\ud0c0\\uc0ac\\ud56d\", \"\\ub0b4\\uc6a9\", \"\\ub300\\ud45c\\uc790\", \"\\ub300\\ud558\\uc5ec\", \"\\ub300\\ud55c\", \"\\ub418\\ub098\\uc694\", \"\\ub418\\ub098\\uc694\", \"\\ub418\\uc5b4\", \"\\ub429\\ub2c8\\ub2e4\", \"\\ub4f1\\uc5d0\", \"\\ub4f1\\uc744\", \"\\ub4f1\\uc758\", \"\\ub530\\ub77c\", \"\\ub530\\ub978\", \"\\ub9cc\\uc6d0\", \"\\ub9d0\\ud55c\\ub2e4\", \"\\ub9d0\\ud569\\ub2c8\\ub2e4\", \"\\ubb34\\uc5c7\\uc778\\uac00\\uc694\", \"\\ubb34\\uc5c7\\uc785\\ub2c8\\uae4c\", \"\\ubb38\\uc758\", \"\\ubbf8\\ub9cc\", \"\\ubc95\\ub960\", \"\\ubd84\\uc758\", \"\\uc0ac\\uc5c5\", \"\\uc0ac\\uc6a9\", \"\\uc0ac\\ud56d\", \"\\uc11c\\ub300\\ubb38\\uad6c\", \"\\uc11c\\uc6b8\", \"\\uc11c\\uc6b8\\uc2dc\", \"\\uc11c\\uc6b8\\ud2b9\\ubcc4\\uc2dc\", \"\\uc2dc\\ud589\\ub839\", \"\\uc2e0\\uace0\", \"\\uc2e0\\uccad\", \"\\uc544\\ub2c8\\ud55c\", \"\\uc544\\ub2d9\\ub2c8\\ub2e4\", \"\\uc548\\ub0b4\", \"\\uc54a\\ub294\", \"\\uc5b4\\ub514\\uc11c\", \"\\uc5b4\\ub5a4\", \"\\uc5b4\\ub5bb\\uac8c\", \"\\uc5b4\\ub5bb\\uac8c\", \"\\uc5b4\\ub9b0\\uc774\\uc9d1\", \"\\uc5b5\\uc6d0\", \"\\uc5b8\\uc81c\", \"\\uc5c5\\ubb34\\uac1c\\uc694\", \"\\uc6b4\\uc601\", \"\\uc6b4\\uc601\\ud558\\uace0\", \"\\uc704\\ud558\\uc5ec\", \"\\uc704\\ud55c\", \"\\uc704\\ud574\", \"\\uc740\\ud3c9\\uad6c\", \"\\uc758\\ud55c\", \"\\uc758\\ud55c\", \"\\uc774\\ub294\", \"\\uc774\\uc0c1\", \"\\uc774\\uc0c1\\uc758\", \"\\uc774\\uc0c1\\uc774\\uace0\", \"\\uc774\\uc0c1\\uc785\\ub2c8\\ub2e4\", \"\\uc774\\uc6a9\", \"\\uc774\\uc6a9\\ud558\\uc5ec\", \"\\uc778\\ud558\\uc5ec\", \"\\uc785\\ub2c8\\ub2e4\", \"\\uc788\\ub098\\uc694\", \"\\uc788\\uc2b5\\ub2c8\\uae4c\", \"\\uc788\\uc73c\\uba70\", \"\\uc788\\uc74c\", \"\\uc790\\ubcf8\\uae08\\uc740\", \"\\uc804\\ud654\\ubc88\\ud638\", \"\\uc81c\\uc791\", \"\\uc81c\\uc870\", \"\\uc81c\\uc870\\uc5d0\", \"\\uc870\\ud569\\uc758\", \"\\uc9c0\\uc6d0\", \"\\uccad\\uc18c\\ub144\", \"\\ud1b5\\ud574\", \"\\ud544\\uc694\\ud55c\", \"\\ud558\\uace0\", \"\\ud558\\ub098\\uc694\", \"\\ud558\\ub294\", \"\\ud55c\\ub2e4\", \"\\ud574\\ub2f9\", \"\\ud604\\uc7ac\", \"\\ud648\\ud398\\uc774\\uc9c0\", \"\\ud655\\uc778\"]}, \"R\": 30, \"lambda.step\": 0.01, \"plot.opts\": {\"xlab\": \"PC1\", \"ylab\": \"PC2\"}, \"topic.order\": [9, 2, 10, 4, 3, 8, 1, 7, 5, 6]};\n",
       "\n",
       "function LDAvis_load_lib(url, callback){\n",
       "  var s = document.createElement('script');\n",
       "  s.src = url;\n",
       "  s.async = true;\n",
       "  s.onreadystatechange = s.onload = callback;\n",
       "  s.onerror = function(){console.warn(\"failed to load library \" + url);};\n",
       "  document.getElementsByTagName(\"head\")[0].appendChild(s);\n",
       "}\n",
       "\n",
       "if(typeof(LDAvis) !== \"undefined\"){\n",
       "   // already loaded: just create the visualization\n",
       "   !function(LDAvis){\n",
       "       new LDAvis(\"#\" + \"ldavis_el12711405465628832808033978290\", ldavis_el12711405465628832808033978290_data);\n",
       "   }(LDAvis);\n",
       "}else if(typeof define === \"function\" && define.amd){\n",
       "   // require.js is available: use it to load d3/LDAvis\n",
       "   require.config({paths: {d3: \"https://d3js.org/d3.v5\"}});\n",
       "   require([\"d3\"], function(d3){\n",
       "      window.d3 = d3;\n",
       "      LDAvis_load_lib(\"https://cdn.jsdelivr.net/gh/bmabey/pyLDAvis@3.3.1/pyLDAvis/js/ldavis.v3.0.0.js\", function(){\n",
       "        new LDAvis(\"#\" + \"ldavis_el12711405465628832808033978290\", ldavis_el12711405465628832808033978290_data);\n",
       "      });\n",
       "    });\n",
       "}else{\n",
       "    // require.js not available: dynamically load d3 & LDAvis\n",
       "    LDAvis_load_lib(\"https://d3js.org/d3.v5.js\", function(){\n",
       "         LDAvis_load_lib(\"https://cdn.jsdelivr.net/gh/bmabey/pyLDAvis@3.3.1/pyLDAvis/js/ldavis.v3.0.0.js\", function(){\n",
       "                 new LDAvis(\"#\" + \"ldavis_el12711405465628832808033978290\", ldavis_el12711405465628832808033978290_data);\n",
       "            })\n",
       "         });\n",
       "}\n",
       "</script>"
      ],
      "text/plain": [
       "PreparedData(topic_coordinates=               x          y  topics  cluster       Freq\n",
       "topic                                                  \n",
       "8      32.420952   8.115230       1        1  31.716208\n",
       "1       0.648955  71.707100       2        1   8.291155\n",
       "9      71.019684   9.971006       3        1   8.254724\n",
       "3       3.785981  33.185135       4        1   7.933208\n",
       "2     -42.666500  -9.222070       5        1   7.844549\n",
       "7      -3.621689 -43.526516       6        1   7.714614\n",
       "0      -3.632402  -4.171708       7        1   7.464967\n",
       "6     -36.584400  35.804413       8        1   7.411924\n",
       "4      44.391380  50.615383       9        1   6.984971\n",
       "5      40.235809 -31.591665      10        1   6.383680, topic_info=        Term      Freq     Total Category  logprob  loglift\n",
       "52345   홈페이지  7.000000  7.000000  Default  30.0000  30.0000\n",
       "23190    서울시  9.000000  9.000000  Default  29.0000  29.0000\n",
       "40675     제조  6.000000  6.000000  Default  28.0000  28.0000\n",
       "5727      관한  7.000000  7.000000  Default  27.0000  27.0000\n",
       "11689     대한  7.000000  7.000000  Default  26.0000  26.0000\n",
       "...      ...       ...       ...      ...      ...      ...\n",
       "27194   시행하는  0.102176  0.677106  Topic10  -9.1121   0.8603\n",
       "15296  무엇입니까  0.114359  3.971267  Topic10  -8.9994  -0.7961\n",
       "1022   감사합니다  0.104774  1.289063  Topic10  -9.0870   0.2416\n",
       "3319     경우에  0.105622  1.653911  Topic10  -9.0789   0.0004\n",
       "35031   이용하여  0.101373  0.915755  Topic10  -9.1200   0.5505\n",
       "\n",
       "[582 rows x 6 columns], token_table=       Topic      Freq   Term\n",
       "term                         \n",
       "119        1  1.075870    amp\n",
       "300        1  0.891131     가능\n",
       "344        1  0.885437  가능합니다\n",
       "808        1  0.739739     각종\n",
       "1022       1  0.775757  감사합니다\n",
       "...      ...       ...    ...\n",
       "50713      1  0.977940     한다\n",
       "51123      1  0.934392     해당\n",
       "51997      1  0.849194     현재\n",
       "52345      1  1.024118   홈페이지\n",
       "52634      1  0.951211     확인\n",
       "\n",
       "[111 rows x 3 columns], R=30, lambda_step=0.01, plot_opts={'xlab': 'PC1', 'ylab': 'PC2'}, topic_order=[9, 2, 10, 4, 3, 8, 1, 7, 5, 6])"
      ]
     },
     "execution_count": 89,
     "metadata": {},
     "output_type": "execute_result"
    }
   ],
   "source": [
    "# 토픽 모델링에 이용되는 LDA 모델의 학습 결과를 시각화하는 Python 라이브러리인 pyLDAvis를 불러옵니다.\n",
    "# mds(Multi-Dimensional Scaling)는 데이터 포인트 간의 거리를 보존하면서 차원을 축소하는 기법입니다.\n",
    "# t-SNE(t-Stochastic Neighbor Embedding)은 고차원 데이터를 특히 2, 3차원 등으로 줄여 가시화하는데에 유용합니다.\n",
    "\n",
    "pyLDAvis.enable_notebook()\n",
    "pyLDAvis.sklearn.prepare(LDA_model, dtm=dtm_tfidf, vectorizer=tfidf, mds='tsne')"
   ]
  },
  {
   "cell_type": "markdown",
   "metadata": {
    "id": "5SfyYdvZo1Y3"
   },
   "source": [
    "## 코사인 유사도\n",
    "\n",
    "* 각 단어를 축으로 하는 특성 공간(feature space)에서 문서들을 하나의 위치로 보고 \n",
    "* 특성 공간 상에서 거리를 이용해 두 문서의 유사성(similarity)을 측정하는 방식으로 다음과 같은 유사도 측정 방법이 있음\n",
    "    * 유클리드 거리(euclidean distance)\n",
    "    * 코사인 유사도(cosine similarity)\n",
    "    * 맨해튼 거리(Manhattan distance)\n",
    "    * 자카드 유사도(Jaccard similarity)\n",
    "\n",
    "**코사인 유사도**\n",
    "\n",
    "- 코사인 유사도는 원점(모든 단어의 빈도가 0인 경우)에서 보았을 때 두 문서의 각도에 바탕을 둔 거리 측정 방식 \n",
    "- 내적공간의 두 벡터간 각도의 코사인값을 이용하여 측정된 벡터간의 유사한 정도를 의미한다. 각도가 0°일 때의 코사인값은 1이며, 다른 모든 각도의 코사인값은 1보다 작다. 따라서 이 값은 벡터의 크기가 아닌 방향의 유사도를 판단하는 목적으로 사용되며, 두 벡터의 방향이 완전히 같을 경우 1, 90°의 각을 이룰 경우 0, 180°로 완전히 반대 방향인 경우 -1의 값을 갖는다. 이 때 벡터의 크기는 값에 아무런 영향을 미치지 않는다. 코사인 유사도는 특히 결과값이 [0,1]의 범위로 떨어지는 양수 공간에서 사용된다.\n",
    "\n",
    "* 출처: https://ko.wikipedia.org/wiki/%EC%BD%94%EC%82%AC%EC%9D%B8_%EC%9C%A0%EC%82%AC%EB%8F%84\n",
    "* API Document: https://scikit-learn.org/stable/modules/generated/sklearn.metrics.pairwise.cosine_similarity.html"
   ]
  },
  {
   "cell_type": "code",
   "execution_count": 91,
   "metadata": {},
   "outputs": [],
   "source": [
    "# df.head()"
   ]
  },
  {
   "cell_type": "code",
   "execution_count": 92,
   "metadata": {
    "id": "AC98n4w5o1Y3"
   },
   "outputs": [],
   "source": [
    "# 등장 빈도에 기반하여, 코사인 유사도 알고리즘 적용해봅니다.\n",
    "# 첫 행의 \"아빠 육아 휴직 장려금\"과 비슷한 데이터 정렬해봅니다.\n",
    "\n",
    "from sklearn.metrics.pairwise import cosine_similarity\n",
    "\n",
    "similarity_simple_pair = cosine_similarity(dtm_tfidf[0] , dtm_tfidf)\n",
    "result_list = similarity_simple_pair.tolist()[0]"
   ]
  },
  {
   "cell_type": "code",
   "execution_count": 98,
   "metadata": {
    "id": "FJFB-n4Lo1Y3",
    "outputId": "547510bf-d33e-4577-f146-c9c943bbfbc2"
   },
   "outputs": [
    {
     "data": {
      "text/html": [
       "<div>\n",
       "<style scoped>\n",
       "    .dataframe tbody tr th:only-of-type {\n",
       "        vertical-align: middle;\n",
       "    }\n",
       "\n",
       "    .dataframe tbody tr th {\n",
       "        vertical-align: top;\n",
       "    }\n",
       "\n",
       "    .dataframe thead th {\n",
       "        text-align: right;\n",
       "    }\n",
       "</style>\n",
       "<table border=\"1\" class=\"dataframe\">\n",
       "  <thead>\n",
       "    <tr style=\"text-align: right;\">\n",
       "      <th></th>\n",
       "      <th>분류</th>\n",
       "      <th>제목</th>\n",
       "      <th>유사도</th>\n",
       "    </tr>\n",
       "  </thead>\n",
       "  <tbody>\n",
       "    <tr>\n",
       "      <th>0</th>\n",
       "      <td>복지</td>\n",
       "      <td>아빠 육아휴직 장려금</td>\n",
       "      <td>1.000000</td>\n",
       "    </tr>\n",
       "    <tr>\n",
       "      <th>35</th>\n",
       "      <td>행정</td>\n",
       "      <td>[시ㆍ구정외 타기관 관련 상담] 고용노동부 [일자리 안정자금]</td>\n",
       "      <td>0.065829</td>\n",
       "    </tr>\n",
       "    <tr>\n",
       "      <th>539</th>\n",
       "      <td>행정</td>\n",
       "      <td>행려자도 아니고 시설수용자도 아닌 사람이 살고 있던 비닐하우스에서 화상을 입었습니다...</td>\n",
       "      <td>0.065557</td>\n",
       "    </tr>\n",
       "    <tr>\n",
       "      <th>1772</th>\n",
       "      <td>경제</td>\n",
       "      <td>도시계획시설부지 재결신청 이후 진행단계는 어떤 과정을 거칩니까?</td>\n",
       "      <td>0.060492</td>\n",
       "    </tr>\n",
       "    <tr>\n",
       "      <th>2444</th>\n",
       "      <td>경제</td>\n",
       "      <td>중소기업 협동조합 설립신청</td>\n",
       "      <td>0.059259</td>\n",
       "    </tr>\n",
       "    <tr>\n",
       "      <th>23</th>\n",
       "      <td>경제</td>\n",
       "      <td>[농업기술센터]도시청년 이동식 플라워마켓 창업지원(플라워트럭)</td>\n",
       "      <td>0.056820</td>\n",
       "    </tr>\n",
       "    <tr>\n",
       "      <th>155</th>\n",
       "      <td>경제</td>\n",
       "      <td>[농업기술센터] 후계농업경영인 선정 및 청년창업형 후계농업경영인 신청 안내</td>\n",
       "      <td>0.055545</td>\n",
       "    </tr>\n",
       "    <tr>\n",
       "      <th>3</th>\n",
       "      <td>복지</td>\n",
       "      <td>광진맘택시 운영(임산부,영아 양육가정 전용 택시)</td>\n",
       "      <td>0.050960</td>\n",
       "    </tr>\n",
       "    <tr>\n",
       "      <th>141</th>\n",
       "      <td>경제</td>\n",
       "      <td>[농업기술센터] 도시농업전문가양성교육 신청</td>\n",
       "      <td>0.048304</td>\n",
       "    </tr>\n",
       "    <tr>\n",
       "      <th>578</th>\n",
       "      <td>행정</td>\n",
       "      <td>(구)송파구! 장애인 가정방문 교육의 경우 신청자격은 어떻게 되나요?</td>\n",
       "      <td>0.046792</td>\n",
       "    </tr>\n",
       "  </tbody>\n",
       "</table>\n",
       "</div>"
      ],
      "text/plain": [
       "      분류                                                 제목       유사도\n",
       "0     복지                                        아빠 육아휴직 장려금  1.000000\n",
       "35    행정                 [시ㆍ구정외 타기관 관련 상담] 고용노동부 [일자리 안정자금]  0.065829\n",
       "539   행정  행려자도 아니고 시설수용자도 아닌 사람이 살고 있던 비닐하우스에서 화상을 입었습니다...  0.065557\n",
       "1772  경제                도시계획시설부지 재결신청 이후 진행단계는 어떤 과정을 거칩니까?  0.060492\n",
       "2444  경제                                     중소기업 협동조합 설립신청  0.059259\n",
       "23    경제                 [농업기술센터]도시청년 이동식 플라워마켓 창업지원(플라워트럭)  0.056820\n",
       "155   경제          [농업기술센터] 후계농업경영인 선정 및 청년창업형 후계농업경영인 신청 안내  0.055545\n",
       "3     복지                        광진맘택시 운영(임산부,영아 양육가정 전용 택시)  0.050960\n",
       "141   경제                            [농업기술센터] 도시농업전문가양성교육 신청  0.048304\n",
       "578   행정             (구)송파구! 장애인 가정방문 교육의 경우 신청자격은 어떻게 되나요?  0.046792"
      ]
     },
     "execution_count": 98,
     "metadata": {},
     "output_type": "execute_result"
    }
   ],
   "source": [
    "# result_list를 \"유사도\" 파생변수로 생성하고 유사도가 높은 순으로 정렬합니다.\n",
    "\n",
    "df[\"유사도\"] = result_list\n",
    "df[[\"분류\", \"제목\", \"유사도\"]].sort_values(by=\"유사도\", ascending=False).head(10)"
   ]
  },
  {
   "cell_type": "code",
   "execution_count": null,
   "metadata": {
    "id": "RXCQLJKGo1Y3"
   },
   "outputs": [],
   "source": []
  },
  {
   "cell_type": "code",
   "execution_count": null,
   "metadata": {
    "id": "WvgfJ7vmo1Y3"
   },
   "outputs": [],
   "source": []
  }
 ],
 "metadata": {
  "colab": {
   "collapsed_sections": [],
   "name": "4. LDA.ipynb",
   "provenance": []
  },
  "kernelspec": {
   "display_name": "Python 3 (ipykernel)",
   "language": "python",
   "name": "python3"
  },
  "language_info": {
   "codemirror_mode": {
    "name": "ipython",
    "version": 3
   },
   "file_extension": ".py",
   "mimetype": "text/x-python",
   "name": "python",
   "nbconvert_exporter": "python",
   "pygments_lexer": "ipython3",
   "version": "3.7.6"
  },
  "toc": {
   "base_numbering": 1,
   "nav_menu": {},
   "number_sections": true,
   "sideBar": true,
   "skip_h1_title": false,
   "title_cell": "Table of Contents",
   "title_sidebar": "Contents",
   "toc_cell": false,
   "toc_position": {
    "height": "calc(100% - 180px)",
    "left": "10px",
    "top": "150px",
    "width": "256px"
   },
   "toc_section_display": true,
   "toc_window_display": false
  },
  "varInspector": {
   "cols": {
    "lenName": 16,
    "lenType": 16,
    "lenVar": 40
   },
   "kernels_config": {
    "python": {
     "delete_cmd_postfix": "",
     "delete_cmd_prefix": "del ",
     "library": "var_list.py",
     "varRefreshCmd": "print(var_dic_list())"
    },
    "r": {
     "delete_cmd_postfix": ") ",
     "delete_cmd_prefix": "rm(",
     "library": "var_list.r",
     "varRefreshCmd": "cat(var_dic_list()) "
    }
   },
   "types_to_exclude": [
    "module",
    "function",
    "builtin_function_or_method",
    "instance",
    "_Feature"
   ],
   "window_display": false
  }
 },
 "nbformat": 4,
 "nbformat_minor": 1
}
