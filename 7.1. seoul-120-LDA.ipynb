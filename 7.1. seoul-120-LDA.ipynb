{
 "cells": [
  {
   "cell_type": "markdown",
   "metadata": {
    "id": "rz2aYwDao1Yk"
   },
   "source": [
    "## 토픽 모델링\n",
    "* 실습을 위해 pyLDAvis 설치가 필요합니다. \n",
    "* colab사용시 설치 후에도 제대로 동작하지 않거나 오류가 나면 런타임을 재실행 해주세요."
   ]
  },
  {
   "cell_type": "code",
   "execution_count": 1,
   "metadata": {
    "id": "qcdv-HRKo1Yp"
   },
   "outputs": [],
   "source": [
    "# !pip install -U -q pyLDAvis"
   ]
  },
  {
   "cell_type": "code",
   "execution_count": 2,
   "metadata": {
    "id": "mI_S8brso1Yr"
   },
   "outputs": [],
   "source": [
    "# ignore warnings\n",
    "import warnings\n",
    "warnings.filterwarnings(\"ignore\")"
   ]
  },
  {
   "cell_type": "markdown",
   "metadata": {
    "id": "1kpwaWyzo1Yr"
   },
   "source": [
    "## 라이브러리 로드"
   ]
  },
  {
   "cell_type": "code",
   "execution_count": 3,
   "metadata": {
    "id": "7jEmmKL0o1Ys"
   },
   "outputs": [],
   "source": [
    "# 필요 라이브러리를 로드\n",
    "import pandas as pd\n",
    "import numpy as np\n",
    "import seaborn as sns\n",
    "import matplotlib.pyplot as plt"
   ]
  },
  {
   "cell_type": "markdown",
   "metadata": {
    "id": "3MzjjX3ho1Ys"
   },
   "source": [
    "## 데이터 로드"
   ]
  },
  {
   "cell_type": "code",
   "execution_count": 4,
   "metadata": {
    "id": "sZd0hR-Vo1Yu",
    "outputId": "81941984-21f5-40b9-a797-e3a4711bf656"
   },
   "outputs": [
    {
     "data": {
      "text/plain": [
       "(2645, 5)"
      ]
     },
     "execution_count": 4,
     "metadata": {},
     "output_type": "execute_result"
    }
   ],
   "source": [
    "df = pd.read_csv(\"https://bit.ly/seoul-120-text-csv\")\n",
    "df.shape"
   ]
  },
  {
   "cell_type": "code",
   "execution_count": 5,
   "metadata": {},
   "outputs": [
    {
     "data": {
      "text/plain": [
       "(2645, 5)"
      ]
     },
     "execution_count": 5,
     "metadata": {},
     "output_type": "execute_result"
    }
   ],
   "source": [
    "# 결측치가 있다면 제거\n",
    "df = df.dropna()\n",
    "df.shape"
   ]
  },
  {
   "cell_type": "code",
   "execution_count": 6,
   "metadata": {
    "id": "YXAtNDKco1Yv",
    "outputId": "efc483df-cb02-4fe7-fdf1-8a30a9d8a382",
    "scrolled": true
   },
   "outputs": [
    {
     "data": {
      "text/plain": [
       "번호      0\n",
       "분류      0\n",
       "제목      0\n",
       "내용      0\n",
       "내용번호    0\n",
       "dtype: int64"
      ]
     },
     "execution_count": 6,
     "metadata": {},
     "output_type": "execute_result"
    }
   ],
   "source": [
    "# 결측치를 확인\n",
    "df.isnull().sum()"
   ]
  },
  {
   "cell_type": "markdown",
   "metadata": {
    "id": "Jw4p_dnIo1Yw"
   },
   "source": [
    "## 문서 만들기\n",
    "* 제목과 내용을 함께 사용"
   ]
  },
  {
   "cell_type": "code",
   "execution_count": 7,
   "metadata": {
    "id": "UJ9GAlhuo1Yx"
   },
   "outputs": [],
   "source": [
    "df[\"문서\"] = df[\"제목\"] + \" \" + df[\"내용\"]"
   ]
  },
  {
   "cell_type": "markdown",
   "metadata": {
    "id": "lMII7R0go1Yx"
   },
   "source": [
    "## 벡터화\n",
    "\n",
    "* [Bag-of-words model - Wikipedia](https://en.wikipedia.org/wiki/Bag-of-words_model)\n",
    "\n",
    "\n",
    "## CountVectorizer\n",
    "\n",
    "* analyzer : 단어, 문자 단위의 벡터화 방법 정의\n",
    "* ngram_range : BOW 단위 수 (1, 3) 이라면 1개~3개까지 토큰을 묶어서 벡터화\n",
    "* max_df : 어휘를 작성할 때 문서 빈도가 주어진 임계값보다 높은 용어(말뭉치 관련 불용어)는 제외 (기본값=1.0)\n",
    "    * max_df = 0.90 : 문서의 90% 이상에 나타나는 단어 제외\n",
    "    * max_df = 10 : 10개 이상의 문서에 나타나는 단어 제외\n",
    "* min_df : 어휘를 작성할 때 문서 빈도가 주어진 임계값보다 낮은 용어는 제외합니다. 컷오프라고도 합니다.(기본값=1.0)\n",
    "    * min_df = 0.01 : 문서의 1% 미만으로 나타나는 단어 제외\n",
    "    * min_df = 10 : 문서에 10개 미만으로 나타나는 단어 제외\n",
    "* stop_words : 불용어 정의\n",
    "* API Document: https://scikit-learn.org/stable/modules/generated/sklearn.feature_extraction.text.CountVectorizer.html"
   ]
  },
  {
   "cell_type": "code",
   "execution_count": 8,
   "metadata": {
    "id": "94FBGEqOo1Yy",
    "outputId": "805f1a7a-4bfd-4893-8efb-fa8adec881db"
   },
   "outputs": [],
   "source": [
    "# 단어들의 출현 빈도(frequency)로 여러 문서들을 벡터화하기 위해 CountVectorizer 사용\n",
    "from sklearn.feature_extraction.text import CountVectorizer\n",
    "cv = CountVectorizer(stop_words=[\"돋움\", \"경우\", \"또는\"])"
   ]
  },
  {
   "cell_type": "markdown",
   "metadata": {
    "id": "ft2MvWD57MjT"
   },
   "source": [
    "### 참고: fit, transform, fit_transfrom의 차이점\n",
    "- fit(): 원시 문서에 있는 모든 토큰의 어휘 사전을 배운다\n",
    "- transform(): 문서를 문서 용어 매트릭스로 변환, transform 이후엔 매트릭스로 변환되어 숫자형태로 변경\n",
    "- fit_transform(): 어휘 사전을 배우고 문서 용어 매트릭스를 반환, fit 다음에 변환이 오는 것과 동일하지만 더 효율적으로 구현\n",
    "\n",
    "* API Document: https://scikit-learn.org/stable/modules/generated/sklearn.feature_extraction.text.CountVectorizer.html#sklearn.feature_extraction.text.CountVectorizer.fit_transform"
   ]
  },
  {
   "cell_type": "code",
   "execution_count": 9,
   "metadata": {
    "id": "YueqXKDbo1Yy",
    "outputId": "08eb5692-c065-4de2-81f6-b2bb888012ba"
   },
   "outputs": [],
   "source": [
    "# fit_transform을 사용하여 문장에서 노출되는 feature(특징이 될만한 단어) 수를 합한 변수 Document Term Matrix(이하 dtm)를 생성\n",
    "dtm_cv = cv.fit_transform(df[\"문서\"])"
   ]
  },
  {
   "cell_type": "code",
   "execution_count": 10,
   "metadata": {
    "id": "Rr_Gj0Bro1Yy",
    "outputId": "414c044e-afea-4e3a-f211-28949b95b8fa"
   },
   "outputs": [],
   "source": [
    "# cv.vocabulary_ 를 봅니다.\n",
    "# cv.vocabulary_"
   ]
  },
  {
   "cell_type": "code",
   "execution_count": 11,
   "metadata": {},
   "outputs": [],
   "source": [
    "cv_cols = cv.get_feature_names()"
   ]
  },
  {
   "cell_type": "code",
   "execution_count": 12,
   "metadata": {
    "id": "S6sZ_cIdo1Yz",
    "outputId": "3cc8986f-c25c-4f26-c303-971e491f793b"
   },
   "outputs": [
    {
     "data": {
      "text/plain": [
       "03월       1\n",
       "용액속에      1\n",
       "용액을       1\n",
       "용액이       1\n",
       "용어        1\n",
       "       ... \n",
       "대한      394\n",
       "서울시     578\n",
       "어떻게     597\n",
       "있습니다    685\n",
       "있는      718\n",
       "Length: 56651, dtype: int64"
      ]
     },
     "execution_count": 12,
     "metadata": {},
     "output_type": "execute_result"
    }
   ],
   "source": [
    "# 각 row에서 전체 단어가방에 있는 어휘에서 등장하는 단어에 대한 one-hot-vector를 확인\n",
    "# toarray()로 희소 행렬(sparse matrix, 행렬의 값이 대부분 '0'인 행렬)을 NumPy array 배열로 변환하여 값을 확인\n",
    "\n",
    "pd.DataFrame(dtm_cv.toarray(), columns=cv_cols).sum().sort_values()"
   ]
  },
  {
   "cell_type": "markdown",
   "metadata": {
    "id": "tZKMAZ5go1Yz"
   },
   "source": [
    "## BOW<sup>bag of word</sup> 잠재 디리클레 할당(Latent Dirichlet Allocation, LDA)\n",
    "\n",
    "* API documentation: https://pyldavis.readthedocs.io/en/latest/modules/API.html"
   ]
  },
  {
   "cell_type": "code",
   "execution_count": 13,
   "metadata": {
    "id": "Tj6AiX1Po1Y0",
    "outputId": "792e1658-3d33-4ab0-f777-ff8e698b7d32"
   },
   "outputs": [
    {
     "data": {
      "text/plain": [
       "행정        1098\n",
       "경제         823\n",
       "복지         217\n",
       "환경         124\n",
       "주택도시계획     110\n",
       "문화관광        96\n",
       "교통          90\n",
       "안전          51\n",
       "건강          23\n",
       "여성가족        13\n",
       "Name: 분류, dtype: int64"
      ]
     },
     "execution_count": 13,
     "metadata": {},
     "output_type": "execute_result"
    }
   ],
   "source": [
    "# 정답인 '분류'의 유일한 값을 확인하여 주제 수를 확인\n",
    "df[\"분류\"].value_counts()"
   ]
  },
  {
   "cell_type": "code",
   "execution_count": 14,
   "metadata": {
    "id": "FQBuD_fJo1Y0",
    "outputId": "08a96ed7-5e37-4534-afbb-efa6077a657d"
   },
   "outputs": [],
   "source": [
    "# 주어진 문서에 대하여 각 문서에 어떤 주제들이 존재하는지를 확인하는 잠재 디리클레 분석(LDA)을 불러옴\n",
    "# n_components에 넣을 하이퍼파라미터 NUM_TOPICS로 주제수를 설정(기본값=10)\n",
    "# max_iter는 훈련 데이터(epoch라고도 함)에 대한 최대 패스 수(기본값=10)\n",
    "\n",
    "from sklearn.decomposition import LatentDirichletAllocation\n",
    "\n",
    "NUM_TOPICS = 10\n",
    "LDA_model = LatentDirichletAllocation(n_components=NUM_TOPICS, random_state=42)"
   ]
  },
  {
   "cell_type": "code",
   "execution_count": 15,
   "metadata": {
    "id": "FQBuD_fJo1Y0",
    "outputId": "08a96ed7-5e37-4534-afbb-efa6077a657d"
   },
   "outputs": [
    {
     "data": {
      "text/plain": [
       "LatentDirichletAllocation(random_state=42)"
      ]
     },
     "execution_count": 15,
     "metadata": {},
     "output_type": "execute_result"
    }
   ],
   "source": [
    "# LDA_model 에 dtm_cv 를 넣어 학습\n",
    "LDA_model.fit(dtm_cv)"
   ]
  },
  {
   "cell_type": "markdown",
   "metadata": {},
   "source": [
    "### pyLDAvis"
   ]
  },
  {
   "cell_type": "code",
   "execution_count": 16,
   "metadata": {},
   "outputs": [],
   "source": [
    "# !pip install -U -q pyLDAvis"
   ]
  },
  {
   "cell_type": "code",
   "execution_count": 17,
   "metadata": {
    "id": "Sbyb39Szo1Y0",
    "outputId": "8f858b31-2a81-4b8f-aa5f-45411fc902c8"
   },
   "outputs": [
    {
     "name": "stderr",
     "output_type": "stream",
     "text": [
      "/Users/corazzon/opt/anaconda3/lib/python3.7/site-packages/past/builtins/misc.py:45: DeprecationWarning: the imp module is deprecated in favour of importlib; see the module's documentation for alternative uses\n",
      "  from imp import reload\n"
     ]
    },
    {
     "data": {
      "text/html": [
       "\n",
       "<link rel=\"stylesheet\" type=\"text/css\" href=\"https://cdn.jsdelivr.net/gh/bmabey/pyLDAvis@3.3.1/pyLDAvis/js/ldavis.v1.0.0.css\">\n",
       "\n",
       "\n",
       "<div id=\"ldavis_el887311402135387917604415170476\"></div>\n",
       "<script type=\"text/javascript\">\n",
       "\n",
       "var ldavis_el887311402135387917604415170476_data = {\"mdsDat\": {\"x\": [32.42095184326172, 0.648955225944519, 71.01968383789062, 3.7859814167022705, -42.666500091552734, -3.6216893196105957, -3.632401704788208, -36.58440017700195, 44.391380310058594, 40.235809326171875], \"y\": [8.115229606628418, 71.70709991455078, 9.971006393432617, 33.18513488769531, -9.22206974029541, -43.52651596069336, -4.171707630157471, 35.804412841796875, 50.61538314819336, -31.591665267944336], \"topics\": [1, 2, 3, 4, 5, 6, 7, 8, 9, 10], \"cluster\": [1, 1, 1, 1, 1, 1, 1, 1, 1, 1], \"Freq\": [13.259920929103055, 11.412741912923796, 11.22859491818042, 10.144832243198897, 10.043108593879095, 9.877599353826385, 9.53992113798404, 9.012524017872128, 8.086331096166203, 7.394425796865982]}, \"tinfo\": {\"Term\": [\"amp\", \"\\uc790\\ubcf8\\uae08\\uc740\", \"\\uc758\\ud55c\", \"\\uae30\\uc220\\ub2a5\\ub825\\uacfc\", \"\\uc5b4\\ub5bb\\uac8c\", \"\\uc5b4\\ub9b0\\uc774\\uc9d1\", \"\\ubbf8\\ud130\", \"\\uc544\\ud30c\\ud2b8\", \"apos\", \"\\ud560\\uc778\", \"\\uccad\\uc18c\\ub144\", \"\\ud3c9\\uc77c\", \"\\ub2e4\\uc74c\\uc758\", \"\\ud638\\uc120\", \"\\uc2dc\\uac04\", \"\\uc2dc\\uac04\\uc678\", \"\\ubd84\\uc758\", \"\\ub2f9\\uc9c1\\uc2e4\", \"\\uac74\\uc124\\uae30\\uc220\\uc790\", \"\\uac74\\ucd95\\ubb3c\\uc758\", \"\\uc9c0\\uc6d0\", \"\\ub3c4\\ub85c\", \"\\uce58\\ub9e4\\uc9c0\\uc6d0\\uc13c\\ud130\", \"\\uae30\\ud68d\\uc608\\uc0b0\\uacfc\", \"\\uc885\\ub85c\\uad6c\", \"\\ucd9c\\uad6c\", \"\\uacf5\\ub3d9\\uc8fc\\ud0dd\", \"\\uc804\\uc0b0\\uc815\\ubcf4\\uacfc\", \"\\uc2dc\\uc2dc\", \"\\uc11c\\uc6b8\\uc2dc\", \"\\uc790\\ubcf8\\uae08\\uc740\", \"\\uae30\\uc220\\ub2a5\\ub825\\uacfc\", \"\\uac74\\uc124\\uae30\\uc220\\uc790\", \"\\ubc14\\ub2e5\\uba74\\uc801\\uc758\", \"\\uad00\\ub828\\uc885\\ubaa9\\uc758\", \"\\uc81c\\uc885\\uadfc\\ub9b0\\uc0dd\\ud65c\\uc2dc\\uc124\", \"\\uae30\\uc220\\uc790\\uaca9\\ucde8\\ub4dd\\uc790\", \"\\ub300\\uae30\\ud658\\uacbd\\ubcf4\\uc804\\ubc95\\uc5d0\", \"\\ub418\\ub098\\uc694\\uac74\\uc124\\uae30\\uc220\\uad00\\ub9ac\\ubc95\\uc5d0\", \"\\uc6a9\\ub3c4\\uc5d0\", \"\\uc4f0\\uc774\\ub294\", \"\\uc218\\uc9c8\\ud658\\uacbd\\ubcf4\\uc804\\ubc95\\uc5d0\", \"\\uad50\\uc721\\uc5f0\\uad6c\", \"\\ucc98\\ubc8c\\uc744\", \"\\uae30\\uacc4\\ubd84\\uc57c\", \"\\ud1a0\\ubaa9\\ubd84\\uc57c\", \"\\uad6d\\uac00\\uae30\\uc220\\uc790\\uaca9\\ubc95\\uc5d0\", \"\\uac1c\\uc6d4\\ub9c8\\ub2e4\", \"\\uc758\\ub8cc\\uc2dc\\uc124\", \"\\uae30\\uc804\\uacfc\", \"\\ub2e4\\uc74c\\uc758\", \"\\uacf5\\uacf5\\uc6a9\\uc2dc\\uc124\", \"\\ub2e8\\ub3c5\\uc8fc\\ud0dd\\ub2e8\\ub3c5\\uc8fc\\ud0dd\", \"\\uc870\\ud569\\uc8fc\\ud0dd\\uc758\", \"\\uc5ec\\uc131\\uc548\\uc2ec\\uc9c0\\ud0b4\\uc774\", \"\\uad00\\ud560\\uc9c0\", \"\\uc790\\ub3d9\\ucc28\\uc6a9\", \"\\uace0\\uc555\\uac00\\uc2a4\\ucda9\\uc804\\uc800\\uc7a5\\uc18c\", \"\\uc561\\ud654\\uc11d\\uc720\\uac00\\uc2a4\\ucda9\\uc804\\uc18c\", \"\\uc2dc\\ub9bd\\ubc1c\\ub2ec\\uc7a5\\uc560\\uc778\\ubcf5\\uc9c0\\uad00\", \"\\uc9d1\\ud68c\\uc2dc\\uc124\", \"\\uac74\\uc124\\uae30\\uc220\\uad00\\ub9ac\\ubc95\\uc5d0\", \"\\uc774\\uc0c1\\uc774\\uace0\", \"\\uad00\\uad11\\ubc84\\uc2a4\", \"\\uc758\\ud55c\", \"\\ub300\\uc9c0\\uc5d0\", \"\\uac74\\ucd95\\ud558\\ub294\", \"\\uc811\\ud55c\", \"\\ud1a0\\ubaa9\", \"\\uac74\\ucd95\\ubb3c\", \"\\ud574\\ub2f9\\ud558\\ub294\", \"\\ud569\\uacc4\\uac00\", \"\\uc5b4\\ub5bb\\uac8c\", \"\\uc5b5\\uc6d0\", \"\\uad00\\ud55c\", \"\\ub418\\ub098\\uc694\", \"\\uaddc\\uc815\\uc5d0\", \"\\uc788\\ub294\", \"\\uc788\\uc2b5\\ub2c8\\ub2e4\", \"\\ub2f9\\ud574\", \"\\ud558\\ub294\", \"\\uc11c\\uc6b8\\uc2dc\", \"\\uc81c\\uc678\", \"\\uc774\\uc0c1\", \"\\ub530\\ub77c\", \"\\uacbd\\uc6b0\\uc5d0\\ub294\", \"\\ud648\\ud398\\uc774\\uc9c0\", \"\\uc704\\ud55c\", \"\\uc81c\\uc870\", \"\\uc774\\uc0c1\\uc758\", \"\\ub300\\ud55c\", \"\\uc5b4\\ub5a4\", \"\\ubb38\\uc758\", \"\\ud569\\ub2c8\\ub2e4\", \"\\ub4f1\\uc758\", \"\\uc788\\ub098\\uc694\", \"\\ub4f1\\uc744\", \"\\uc7a5\\uae30\\uae30\\uc99d\", \"\\ud604\\uae08\\uc601\\uc218\\uc99d\", \"\\uc5ec\\ub860\\uc870\\uc0ac\", \"\\ud2b8\\ub808\\ud0b9\", \"\\uc2dc\\uac00\\uc9c0\", \"\\uc5ec\\uc131\\uc774\\ub8f8\\uc13c\\ud130\", \"\\uc9c0\\uadf8\\uc7ac\\uadf8\", \"\\uc81c\\uac15\", \"\\uccad\\uc6d0\", \"\\ud658\\uc790\\uc548\\uc2ec\\ubcd1\\uc6d0\", \"\\uc6e8\\uc774\\uace0\", \"\\uccad\\uc6d0\\uc740\", \"\\uacf5\\uc81c\\ud68c\", \"\\ub3c4\\uc2dc\\ud143\\ubc2d\", \"\\ud568\\uaed8\\uafc8\", \"\\uc6f9\\ud230\", \"\\uc790\\ub9e4\\uacb0\\uc5f0\", \"\\uac74\\uac15\\uccb4\\uc911\", \"\\uacb8\\uc9c1\\ud5c8\\uac00\", \"\\ub4f1\\uc0b0\\ub85c\", \"\\uc11c\\ub300\\ubb38\\ubb38\\ud654\\uccb4\\uc721\\ud68c\\uad00\", \"\\uc785\\uc591\\uc13c\\ud130\", \"\\uadfc\\ud604\\ub300\", \"\\ud569\\uc2dc\\ub2e4\", \"\\uccb4\\ud5d8\\ub18d\\uc6d0\", \"\\uc0dd\\ud0dc\\ud1b5\\ub85c\", \"\\uc0dd\\ud0dc\\ud1b5\\ub85c\\ub294\", \"\\uc6d0\\ucc9c\\uc9d5\\uc218\", \"\\uc11c\\uc2dd\\uc0dd\\ubb3c\", \"\\ud559\\ubd80\\ubaa8\\ub2e8\", \"\\uc11c\\uc6b8\\ub300\\uacf5\\uc6d0\", \"\\uac8c\\uc2dc\\ubb3c\", \"\\ud328\\ub110\", \"\\ud45c\\ucc3d\", \"\\uccb4\\uc721\", \"\\uacf5\\uc601\\ucc28\\uace0\\uc9c0\", \"\\uad50\\ud1b5\\ub7c9\", \"\\uac15\\uc88c\", \"\\uc0c1\\uae08\", \"\\uc628\\ub77c\\uc778\", \"\\uc11c\\uc6b8\\uc2dc\", \"\\uc81c\\uacf5\", \"\\ud559\\ubd80\\ubaa8\", \"\\uc788\\uc2b5\\ub2c8\\ub2e4\", \"\\uc5b4\\ub5bb\\uac8c\", \"\\uc788\\ub098\\uc694\", \"\\ud648\\ud398\\uc774\\uc9c0\", \"\\uc788\\ub294\", \"\\ub418\\ub098\\uc694\", \"\\ud569\\ub2c8\\ub2e4\", \"\\uac00\\ub2a5\\ud569\\ub2c8\\ub2e4\", \"\\uc704\\ud55c\", \"\\ubb38\\uc758\", \"\\ud568\\uaed8\", \"\\ub2e4\\uc6b4\\ub85c\\ub4dc\", \"\\uc788\\uc74c\", \"\\ub530\\ub77c\", \"\\uc778\\ud130\\ub137\", \"\\uc8fc\\uc694\", \"\\uac00\\ub2a5\", \"\\uc788\\uc73c\\uba70\", \"\\uc2e0\\uccad\", \"\\uc6b4\\uc601\", \"\\ub300\\ud55c\", \"\\uc774\\uc0c1\", \"\\uc11c\\uc6b8\", \"\\ud558\\ub098\\uc694\", \"\\uc704\\ud574\", \"\\ub0b4\\uc6a9\", \"\\uad00\\ub828\", \"\\ud655\\uc778\", \"\\ud1b5\\ud574\", \"\\uc8fc\\uc18c\", \"amp\", \"apos\", \"\\uccb4\\ud5d8\\uc694\\uae08\", \"\\uc784\\uc2e0\\ucd9c\\uc0b0\", \"\\uc815\\uc74d\", \"\\uc218\\ub828\\uad00\", \"\\ub9d8\\ud3b8\\ud55c\\uce74\\ub4dc\", \"\\ucc28\\uc0c1\\uc704\", \"\\uc2e0\\uc0c1\\uc815\\ubcf4\", \"\\ubb34\\uc548\", \"\\uc219\\ubc15\\uc694\\uae08\", \"\\uc0ac\\ud68c\\uc801\\uacbd\\uc81c\", \"\\uc0ac\\ub9bd\", \"\\ub9de\\ucda4\\ucee8\\uc124\\ud305\", \"\\ub300\\ud559\\uc785\\ud559\", \"\\uace0\\uc6b4\\ub9d8\", \"\\uc0b0\\ubd80\\uc778\\uacfc\", \"\\uc131\\ubc94\\uc8c4\\uc790\", \"\\uccb4\\ud5d8\\ub9c8\\uc744\", \"\\ud1a0\\ud06c\\ucf58\\uc11c\\ud2b8\", \"\\ub4f1\\uae30\\uc18c\", \"\\uc774\\uc758\\uc81c\\uae30\", \"\\ud65c\\ub3d9\\ubcf4\\uc870\\uc778\", \"\\ubb34\\uc0c1\\uc7a5\\ud559\\uae08\", \"\\ubcf8\\uc778\\ubd80\\ub2f4\\uc9c4\\ub8cc\\ube44\", \"\\uc804\\uc138\\uad8c\", \"\\uc544\\ub3d9\\uccad\\uc18c\\ub144\\uc758\", \"\\uad00\\uad11\\ubb38\\ud654\\uacfc\", \"\\ud0dc\\uc548\", \"\\ub09c\\uac04\\uc758\", \"\\ubd80\\ud328\\ud589\\uc704\", \"\\uc644\\uc8fc\", \"\\uc219\\ubc15\", \"\\uad6d\\ubbfc\\uac74\\uac15\\ubcf4\\ud5d8\\uacf5\\ub2e8\", \"\\ud560\\uc778\", \"\\uc9c4\\ub8cc\\ube44\", \"\\uae4a\\uc740\", \"\\uad00\\uc2ec\\uc5d0\", \"\\uc758\\ub8cc\\ube44\", \"\\ub300\\ud559\\uc0dd\", \"\\uccad\\uc18c\\ub144\", \"\\uc9c0\\uc6d0\", \"\\uce74\\ub4dc\", \"\\ub300\\ud55c\", \"\\uc0ac\\uc6a9\", \"\\uc11c\\uc6b8\\uc2dc\", \"\\ub9cc\\uc6d0\", \"\\uc0ac\\uc5c5\", \"\\uc2e0\\uccad\", \"\\uc0ac\\uc5c5\\uc740\", \"\\uc5b4\\ub5bb\\uac8c\", \"\\uac00\\ub2a5\", \"\\ud655\\uc778\", \"\\uad00\\ub828\", \"\\uc704\\ud558\\uc5ec\", \"\\uc788\\ub294\", \"\\uc788\\uc2b5\\ub2c8\\ub2e4\", \"\\uac00\\ub2a5\\ud55c\", \"\\uacf5\\ubb34\\uc6d0\", \"\\ubb38\\uc758\", \"\\ubc1c\\uae09\", \"\\ud648\\ud398\\uc774\\uc9c0\", \"\\ub4f1\\uc758\", \"\\uc788\\uc74c\", \"\\uad00\\ud55c\", \"\\ud1b5\\ud574\", \"\\ud558\\ub294\", \"\\ub530\\ub978\", \"\\ub429\\ub2c8\\ub2e4\", \"\\uc774\\uc0c1\", \"\\ub530\\ub77c\", \"\\ud569\\ub2c8\\ub2e4\", \"\\uae09\\uc2dd\", \"\\uc6a9\\uc778\", \"\\uad50\\ubcf5\", \"\\uc608\\uccb4\\ub2a5\", \"\\ucc4c\\ub9b0\\uc9c0\", \"\\uc11c\\ubd81\\ubcd1\\uc6d0\", \"\\uc138\\ub300\\uc8fc\\uac00\", \"\\uccad\\uc57d\\ubd80\\uae08\", \"\\uccad\\uc57d\\uc608\\uae08\", \"\\uae08\\uc8fc\", \"\\uc0ac\\uc2a4\", \"\\ubaa9\\uc7ac\\uac10\\uc131\\uccb4\\ud5d8\\ubc15\\ub78c\\ud68c\", \"\\uc7a5\\uc560\\uccad\\uc18c\\ub144\", \"\\ud658\\uc790\\uad8c\\ub9ac\", \"\\ud574\\uce58\\ud0dd\\uc2dc\", \"\\uc218\\ud654\\ud1b5\\uc5ed\\uc13c\\ud130\", \"\\ubc29\\uacfc\", \"\\uac00\\uc785\\uc790\\uac00\", \"\\uc2a4\\ud1a0\\uc5b4\\ud31c\", \"\\ub3cc\\ubd04\\uac00\\uc871\", \"\\ubc29\\ubb38\\uac04\\ud638\\uc0ac\", \"\\uc6a9\\uc0b0\\uac00\\uc871\\uacf5\\uc6d0\", \"\\uce74\\uc57d\\ud1a4\", \"\\ubbfc\\uc6d0\\ucc3d\\uad6c\", \"\\ubc30\\ub824\", \"\\ud68c\\uacc4\\ucee8\\uc124\\ud305\", \"\\uccad\\ub2f4\\ub3c4\\uace1\", \"\\uc5b4\\ub9b0\\uc774\\uc9d1\\uc5d0\", \"\\uc608\\uce58\\uae08\\uc561\\uc740\", \"\\uacbd\\uc804\\ucca0\", \"\\ub178\\ub4e4\\uc12c\", \"\\uacf5\\ubd80\\ubc29\", \"\\uccad\\uc57d\\uc800\\ucd95\", \"\\uc0ac\\uc5c5\\uc7a5\", \"\\ud658\\uacbd\\uc601\\ud5a5\\ud3c9\\uac00\", \"\\uc5b4\\ub9b0\\uc774\\uc9d1\", \"\\ud5ec\\ud504\\ub370\\uc2a4\\ud06c\", \"\\uc7a5\\uc560\\uc778\", \"\\ucea0\\ud398\\uc778\", \"\\uac77\\uae30\", \"\\uc9c4\\ud589\", \"\\uccad\\uc18c\\ub144\", \"\\uad6c\\ubd84\", \"\\uc9c0\\uc6d0\", \"\\uc6b4\\uc601\", \"\\uae30\\ud0c0\", \"\\uad50\\uc721\", \"\\uc11c\\uc6b8\\ud2b9\\ubcc4\\uc2dc\", \"\\uc774\\uc6a9\", \"\\uc548\\ub0b4\", \"\\uc11c\\ube44\\uc2a4\", \"\\ub0b4\\uc6a9\", \"\\uc5c5\\ubb34\\uac1c\\uc694\", \"\\uae30\\ud0c0\\uc0ac\\ud56d\", \"\\uc788\\uc2b5\\ub2c8\\ub2e4\", \"\\uc11c\\uc6b8\\uc2dc\", \"\\uc788\\uc74c\", \"\\ub530\\ub77c\", \"\\uc774\\uc0c1\", \"\\ud648\\ud398\\uc774\\uc9c0\", \"\\uad00\\ub828\", \"\\uc11c\\uc6b8\", \"\\uc2dc\\uac04\", \"\\ub9cc\\uc6d0\", \"\\uc788\\ub294\", \"\\uac00\\ub2a5\", \"\\ub300\\ud55c\", \"\\ubb38\\uc758\", \"\\uc6d0\\uc5b4\\ubbfc\", \"\\uc601\\uc5b4\\ud68c\\ud654\", \"\\ud2b9\\ubcc4\\ud65c\\ub3d9\", \"\\uc2b9\\ud569\", \"\\ud654\\ubb3c\", \"\\uc7a0\\uc218\\uad50\", \"\\uc2e0\\uccb4\\ud65c\\ub3d9\\ub9ac\\ub354\", \"\\uc2b9\\uc6a9\", \"\\uc0c1\\uc2dc\\uadfc\\ub85c\\uc790\\uc218\", \"\\ud64d\\uc81c\\ucc9c\", \"\\uc18c\\ub4dd\\uc778\\uc815\\uc561\\uc774\", \"\\uc8fc\\uc911\", \"\\ud2b9\\uc218\\uc774\\ub95c\\ucd5c\\uace0\", \"\\uc11c\\uc6b8\\ub180\\uc774\\ub9c8\\ub2f9\", \"\\ub0a0\\uc740\", \"\\uad50\\uc721\\uae09\\uc5ec\", \"\\uc608\\ube44\\uad70\", \"\\uaca8\\uc6b8\\ucca0\\uc0c8\", \"\\uc7a0\\uc2e4\\uc57c\\uad6c\\uc7a5\", \"\\ud2b8\\uc708\\uc2a4\", \"\\uc2dd\\uc7ac\\ub8cc\", \"\\uc591\\uc7ac\\ub3d9\\uaf43\\uc2dc\\uc7a5\", \"\\ubbf8\\uc220\\ub300\\ud68c\", \"\\ud0c0\\uc6cc\\ud06c\\ub808\\uc778\", \"\\uc218\\uc704\", \"\\uc720\\ucda9\\uc774\", \"\\ubb34\\uc5ed\\ud22c\\uc790\\uc0ac\\uc808\\ub2e8\", \"\\ud658\\uacbd\\uae30\\ubcf8\\uacc4\\ud68d\\uc740\", \"\\uc720\\uc544\\uc2a4\\ud3ec\\uce20\\ub2e8\", \"\\uc7ac\\uc815\\uc790\\ub9bd\\ub3c4\\ub294\", \"\\uc608\\ub9e4\", \"\\ud68c\\uc758\", \"\\uacf5\\uac1c\", \"\\ud2b9\\ub840\", \"\\ucc28\\uc885\", \"\\uad00\\ucc30\", \"\\uadfc\\ub85c\\uc790\\uc758\", \"\\ucc9c\\uc5f0\\uae30\\ub150\\ubb3c\", \"\\ubd80\\uce59\", \"\\ud6c8\\ub828\", \"\\uc774\\uc6a9\\uc694\\uae08\", \"\\uc2dc\\uac04\", \"\\ubc88\\ucd9c\\uad6c\", \"\\uc801\\uc6a9\", \"\\uccad\\uacc4\\ucc9c\", \"\\ubb38\\uc758\", \"\\uac00\\ub2a5\", \"\\uc704\\ud558\\uc5ec\", \"\\ub4f1\\uc744\", \"\\uc788\\ub294\", \"\\ud648\\ud398\\uc774\\uc9c0\", \"\\ud544\\uc694\\ud55c\", \"\\uc788\\uc2b5\\ub2c8\\ub2e4\", \"\\uc704\\uce58\", \"\\ub0b4\\uc6a9\", \"\\uad6c\\ubd84\", \"\\ud655\\uc778\", \"\\ud638\\uc120\", \"\\uc6b4\\uc601\", \"\\uc5b4\\ub5bb\\uac8c\", \"\\uc788\\uc74c\", \"\\uc774\\uc0c1\", \"\\uc788\\ub3c4\\ub85d\", \"\\uc704\\ud55c\", \"\\ub4f1\\uc758\", \"\\uc5b4\\ub5a4\", \"\\ub530\\ub77c\", \"\\uad00\\ud55c\", \"\\uc8fc\\uc18c\", \"\\uc11c\\uc6b8\\uc2dc\", \"\\uc788\\ub098\\uc694\", \"\\ud569\\ub2c8\\ub2e4\", \"\\ub300\\ud55c\", \"\\uc758\\ud55c\", \"\\uce35\\ud3c9\\uc77c\", \"\\uc8fc\\ubbfc\\ub300\\uc0c1\", \"\\uc11c\\uc6b8\\ud568\", \"\\uad8c\\ub9ac\\uac00\\uc561\\uc774\", \"\\uc678\\uad6d\\uc778\\uc8fc\\ubbfc\", \"\\ud55c\\uac15\\uc758\", \"\\uc774\\uc0c9\\ub2ec\\ub9ac\\uae30\", \"\\ubd84\\uc591\\ubc1b\\uc744\", \"\\uc99d\\uac15\\ud604\\uc2e4\", \"\\ubd84\\uc591\\uac74\\ucd95\\ubb3c\\uc758\", \"\\ucd5c\\uc18c\\ubd84\\uc591\\ub2e8\\uc704\\uaddc\\ubaa8\", \"\\ubd84\\uc591\\ubc1b\\uc740\", \"\\uc2ac\\ub85c\\uac74\", \"\\ud575\\uc2ec\\uc694\\uc6d0\", \"\\uac8c\\uc784\\ud615\\ud0dc\", \"\\uc81c\\uc21c\\uc704\", \"\\uc0dd\\ud65c\\uccb4\\uc721\\uc9c0\\ub3c4\\uc790\", \"\\uc9c1\\uac70\\ub798\", \"\\uc911\\uc2ec\\uc810\", \"\\ud15c\\ud50c\\uc2a4\\ud14c\\uc774\", \"\\ud604\\uc7a5\\ubbfc\\uc6d0\", \"\\ubcf4\\uae08\\uc790\\ub9ac\", \"\\uc6d0\\uc0c1\\ud68c\\ubcf5\\uc744\", \"\\uc81c\\uc870\\uc81c\\ud56d\\uc744\", \"\\uc6a9\\ub3c4\\uc9c0\\uc5ed\\ub4f1\\uc5d0\", \"\\ube44\\uc0ac\\uc5c5\\uc6a9\", \"\\ud558\\uc600\\uc2b5\\ub2c8\\ub2e4\", \"\\uc9c1\\uc7a5\\ub9cc\\ub4e4\\uae30\", \"\\ub9db\\uc9d1\", \"\\ub300\\uc758\\uc6d0\\ud68c\\ub97c\", \"\\ud589\\uc815\\uc9c0\\uc6d0\\uacfc\", \"\\ud3b8\\uc758\\uc2dc\\uc124\", \"\\ub300\\ud55c\\ubbfc\\uad6d\", \"\\ubb38\\ud654\\ud589\\uc0ac\", \"\\ud55c\\uac15\", \"\\uc0ac\\uc2e4\\uc0c1\", \"\\uc601\\ud654\", \"\\ub300\\uc758\\uc6d0\\ud68c\\uc758\", \"\\uc218\\uc0c1\", \"\\uc2e0\\uc6a9\\ud68c\\ubcf5\\uc704\\uc6d0\\ud68c\", \"\\uc77c\\uc2dc\", \"\\uc0ac\\uc774\\ubc84\", \"\\uc544\\ud30c\\ud2b8\", \"\\uc788\\ub294\", \"\\uc11c\\uc6b8\\uc2dc\", \"\\ud648\\ud398\\uc774\\uc9c0\", \"\\uc788\\uc2b5\\ub2c8\\ub2e4\", \"\\uc788\\ub098\\uc694\", \"\\ud1b5\\ud574\", \"\\uc5b4\\ub5bb\\uac8c\", \"\\uc11c\\uc6b8\\uc758\", \"\\ub530\\ub77c\", \"\\ub0b4\\uc6a9\", \"\\ubaa8\\uc9d1\", \"\\ub2e4\\ub978\", \"\\uc11c\\uc6b8\", \"\\ub300\\ud55c\", \"\\uc81c\\uc870\\uc5d0\", \"\\ub4f1\\uc73c\\ub85c\", \"\\uad50\\uc721\", \"\\ud558\\ub294\", \"\\uad6c\\ubd84\", \"\\uc788\\uc73c\\uba70\", \"\\uc81c\\uc870\", \"\\uc788\\uc74c\", \"\\uc704\\ud55c\", \"\\ub4f1\\uc758\", \"\\ub4f1\\uc744\", \"\\ub530\\ub978\", \"\\ub9cc\\uc6d0\", \"\\uc704\\ud574\", \"\\ud655\\uc778\", \"\\ud544\\uc694\\ud55c\", \"\\uac00\\ub2a5\", \"\\uc11c\\uc6b8\\ud2b9\\ubcc4\\uc2dc\", \"\\uae30\\ud0c0\\uc0ac\\ud56d\", \"\\uad00\\ud55c\", \"\\uce58\\ub9e4\\uc9c0\\uc6d0\\uc13c\\ud130\", \"\\uc758\\ub8cc\\uae30\\uad00\\uc774\", \"\\uad6c\\uc758\\uc544\\ub9ac\\uc218\\uc815\\uc218\\uc13c\\ud130\", \"\\uc11c\\uc6b8\\uc0c1\", \"\\uc11c\\uc6b8\\ud2b9\\ubcc4\\uc2dc\\uc721\\uc544\\uc885\\ud569\\uc9c0\\uc6d0\\uc13c\\ud130\", \"\\ud6c4\\uacc4\\ub18d\\uc5c5\\uacbd\\uc601\\uc778\", \"\\ubd09\\uc218\\ub300\", \"\\uc790\\uaca9\\uc815\\uc9c0\", \"\\ubcf4\\uc721\\uc11c\\ube44\\uc2a4\", \"\\ucf58\\ud14c\\uc2a4\\ud2b8\", \"\\ubcd1\\uc5ed\", \"\\ud488\\ubaa9\\uc81c\\uc870\\uc815\\uc9c0\", \"\\uc2a4\\ud1a0\\ub9ac\\ud154\\ub9c1\", \"\\ub3c5\\ub9bd\\uacbd\\uc601\", \"\\uac04\\ubd09\\uc774\", \"\\uc81c\\ubd09\\uc218\\ub300\\uc640\", \"\\uc9c1\\ubd09\\uc774\", \"\\ud1b5\\ud558\\ub294\\ub370\", \"\\uacb0\\uc7ac\\uc811\\uc218\\uc9c4\\ud589\\uc758\", \"\\ub20c\\ub7ec\\uc11c\", \"\\uc0ac\\ud589\\uc131\", \"\\ub300\\uc0ac\\uc99d\\ud6c4\\uad70\\uad00\\ub9ac\\uc13c\\ud130\", \"\\uac1c\\uc6d4\\ucc28\", \"\\uad50\\ud1b5\\uacf5\\uc6d0\", \"\\uc720\\ud574\", \"\\ubd84\\uc591\\uad8c\", \"\\ud658\\uacbd\\ub2e8\\uccb4\", \"\\uc2dc\\uc124\\uad00\\ub9ac\\uacf5\\ub2e8\", \"\\ubb38\\uc11c\\uc758\", \"\\uc9c1\\ub2a5\\ub2e8\\uccb4\", \"\\uba39\\uac70\\ub9ac\", \"\\uc0ac\\ub840\", \"\\uacf3\\uc784\", \"\\ud589\\uc815\\ucc98\\ubd84\", \"\\ubb38\\uc11c\\ub97c\", \"\\ubbf8\\uc220\\uc791\\ud488\", \"\\ucc3d\\ub3d9\", \"\\ub3c4\\uc11c\\uad00\", \"\\ud55c\\uae00\", \"\\uc544\\ub2c8\\ud55c\", \"\\ubc95\\uc815\\uacf5\\ud734\\uc77c\", \"\\ub0a8\\uc0b0\", \"\\uc788\\ub294\", \"\\uc778\\uc815\\ud55c\", \"\\uc778\\uc815\\ud558\\uba74\", \"\\ud574\\ub2f9\\ub418\\ub294\", \"\\uae30\\uc900\\uc740\", \"\\ubb34\\uc5c7\\uc785\\ub2c8\\uae4c\", \"\\ubb34\\uc5c7\\uc778\\uac00\\uc694\", \"\\ub300\\ud55c\", \"\\ud558\\uace0\", \"\\ud574\\ub2f9\", \"\\ud558\\uc5ec\\uc57c\", \"\\ub530\\ub77c\", \"\\uc5b4\\ub5bb\\uac8c\", \"\\uc788\\uc2b5\\ub2c8\\ub2e4\", \"\\ub4f1\\uc758\", \"\\uad00\\ud560\", \"\\uc11c\\uc6b8\\uc2dc\", \"\\uc2e0\\uccad\", \"\\uc81c\\uc870\", \"\\ud648\\ud398\\uc774\\uc9c0\", \"\\ub530\\ub978\", \"\\uc5b4\\ub9b0\\uc774\", \"\\uc548\\ub0b4\", \"\\ubc88\\uc9c0\", \"\\uc11c\\uc6b8\\uc758\", \"\\ud558\\ub098\\uc694\", \"\\uad00\\ud55c\", \"\\uc704\\ud55c\", \"\\uac00\\ub2a5\", \"\\ub4f1\\uc744\", \"\\ud569\\ub2c8\\ub2e4\", \"\\uc788\\uc74c\", \"\\uc774\\uc0c1\", \"\\ud1b5\\ud574\", \"\\uc704\\ud558\\uc5ec\", \"\\ud655\\uc778\", \"\\ub098\\uc640\\uc11c\", \"\\ubc84\\uc2a4\\uc774\\uc6a9\", \"\\uacc4\\uc57d\\uc2ec\\uc0ac\", \"\\ucc9c\\uc138\\ub300\", \"\\uc77c\\uc740\", \"\\uc804\\ub2ec\\ud569\\ub2c8\\ub2e4\", \"\\uc0c1\\ub300\\ubc29\\uc758\", \"\\uc911\\uacc4\\uc0ac\\uac00\", \"\\ud1b5\\ud654\\ub0b4\\uc6a9\\uc744\", \"\\uc8fc\\ud0dd\\ub2e8\\uc9c0\\uc758\", \"\\uc8fc\\ucc28\\uc0b0\\uc815\", \"\\ud589\\ub824\\ud658\\uc790\", \"\\uc18d\\ub9c8\\uc74c\", \"\\uad6c\\uc5ed\\uc9c0\\uc815\", \"\\uc218\\uc694\\ubb34\\ub300\", \"\\uc678\\ubd80\\uc804\\ubb38\\uac00\\uc758\", \"\\ub124\\uc774\\ud2b8\\uc628\", \"\\ub204\\ub985\\ub2c8\\ub2e4\", \"\\uc218\\ud654\\uc601\\uc0c1\\ub85c\", \"\\uc5f0\\uacb0\\ub418\\uc5c8\\ub2e4\\ub294\", \"\\uc804\\ud558\\uace0\\uc790\", \"\\uc911\\uacc4\\uc0ac\\uc640\", \"\\uc5ec\\ud589\\uc218\\ucca9\", \"\\uc2dc\\ud2f0\\ud328\\uc2a4\", \"\\uc751\\uae09\\uc2e4\", \"\\ub808\\uc2dc\\ud53c\", \"\\ud589\\uc0ac\\uae30\\uac04\", \"\\ud0d1\\uc2b9\\uc2dc\", \"\\ub3d9\\ubd81\\uc544\", \"\\uc55e\\ubd84\", \"\\ubbf8\\ud130\", \"\\uc800\\uc218\\uc870\\uc758\", \"\\uc0b0\\uc815\\ubc29\\ubc95\\uc740\", \"\\uc800\\uc218\\uc870\\ub97c\", \"\\uc62c\\ub9bc\\ud53d\\ub300\\ub85c\", \"\\uac74\\ucd95\\ubb3c\\ub300\\uc7a5\", \"\\ud55c\\uc131\\ub300\\uc785\\uad6c\\uc5ed\", \"\\uac74\\ucd95\\ubb3c\\uc758\", \"\\ud0dc\\uc591\\uad11\", \"\\ucd9c\\uad6c\\ub85c\", \"\\ub3c4\\ub85c\", \"\\uc774\\uc0c1\", \"\\uc5f0\\uc7a5\\uc2b9\\uc778\", \"\\ub179\\ud654\", \"\\ubb38\\uc790\\ub85c\", \"\\ubcf4\\ub8e8\\ub294\", \"\\uc788\\ub294\", \"\\ud569\\ub2c8\\ub2e4\", \"\\uacbd\\uc6b0\\uc5d0\\ub294\", \"\\uad00\\ud55c\", \"\\uc704\\ud558\\uc5ec\", \"\\ud558\\ub294\", \"\\uc0ac\\ud56d\", \"\\ubbf8\\ub9cc\\uc778\", \"\\uc788\\uc2b5\\ub2c8\\ub2e4\", \"\\uc704\\ud55c\", \"\\uc124\\uce58\\ud558\\ub294\", \"\\ub300\\uc0c1\", \"\\uc5c6\\uc74c\", \"\\uac00\\ub2a5\", \"\\uc774\\uc0c1\\uc758\", \"\\ud638\\uc120\", \"\\ud558\\uace0\", \"\\ub4f1\\uc758\", \"\\uc774\\uc6a9\", \"\\uc788\\uc74c\", \"\\uc5b4\\ub5bb\\uac8c\", \"\\ubb34\\uc5c7\\uc785\\ub2c8\\uae4c\", \"\\ub530\\ub77c\", \"\\ub300\\ud558\\uc5ec\", \"\\ub300\\ud55c\", \"\\uc2e0\\uccad\", \"\\uc11c\\uc6b8\", \"\\uc788\\ub098\\uc694\", \"\\uae30\\ud68d\\uc608\\uc0b0\\uacfc\", \"\\uc804\\uc0b0\\uc815\\ubcf4\\uacfc\", \"\\ube48\\uc9d1\", \"\\uac1c\\uc778\\ud68c\\uc0dd\", \"\\uc81c\\uc870\\uad6c\\ub9e4\", \"\\uc8fc\\ud0dd\\uc6a9\", \"\\ucc98\\ub9ac\\ud55c\", \"\\uce5c\\uad6c\\uc758\", \"\\uad11\\ud654\\ubb38\\uc2dc\\ubbfc\\uc5f4\\ub9b0\\ub9c8\\ub2f9\", \"\\ub0a8\\uc0b0\\ub3d9\", \"\\uac74\\uc124\\uae30\\uacc4\\ub364\\ud504\\ud2b8\\ub7ed\", \"\\uc801\\uc7ac\\uc911\\ub7c9\\uc774\", \"\\uacf5\\uc7a5\\uac74\\ucd95\", \"\\ud1b5\\ubc18\", \"\\ud1b5\\uc2e0\\uad00\\ub828\", \"\\uc77c\\uc2dc\\uc9c0\\uc6d0\\uc13c\\ud130\", \"\\ud574\\ub098\\ubb34\", \"\\ucc29\\ud55c\\uac00\\uaca9\\uc5c5\\uc18c\", \"\\ud2b9\\ubcc4\\uacc4\\ud68d\\uad6c\\uc5ed\\uc758\", \"\\uc11c\\uc6b8\\uc232\", \"\\ub514\\uc9c0\\ud138\\uc815\\ubcf4\\uacfc\", \"\\uad81\\ub3d9\\uccb4\\uc721\\uad00\", \"\\ud30c\\uc0b0\", \"\\ubcf4\\ub0bc\\uc218\", \"\\ud654\\ud658\\uc744\", \"\\ubb34\\uad50\\ub3d9\", \"\\uac10\\uc9c0\\uae30\\uc8fc\\ud0dd\\uc6a9\", \"\\ub2e8\\ub3c5\\uacbd\\ubcf4\\ud615\", \"\\ud654\\uc7ac\\uacbd\\ubcf4\\uae30\", \"\\uc2e0\\uc6d4\\uc5ec\\uc758\\uc9c0\\ud558\\ub3c4\\ub85c\\uad6c\\uc11c\\uc6b8\\uc81c\\ubb3c\\ud3ec\\ud130\\ub110\", \"\\uad11\\uc9c4\\uad50\", \"\\uc5b4\\ub9b0\\uc774\\ud68c\\uad00\", \"\\ubbf8\\uc131\\ub144\\uc790\\uc758\", \"\\uc8fc\\ubbfc\\ucd1d\\ud68c\", \"\\ubd84\\uc758\", \"\\ucc28\\ub85c\", \"\\uc885\\ub85c\\uad6c\", \"\\uc870\\ud569\", \"\\uc18c\\ubc29\\uc2dc\\uc124\", \"\\uc2dc\\uc2dc\", \"\\ub204\\uac00\", \"\\uc911\\uad6c\", \"\\ubbfc\\uc6d0\", \"\\uc5d0\\ub108\\uc9c0\\uc808\\uc57d\", \"\\uad8c\\ud55c\\uc704\\uc784\", \"\\uacbd\\uc6b0\\uc5d0\\ub294\", \"\\uc788\\uc2b5\\ub2c8\\ub2e4\", \"\\ubb34\\uc5c7\\uc778\\uac00\\uc694\", \"\\uc5b4\\ub5bb\\uac8c\", \"\\ub300\\ud55c\", \"\\uad00\\ub828\", \"\\ub429\\ub2c8\\ub2e4\", \"\\uc8fc\\uc18c\", \"\\uc5b4\\ub5a4\", \"\\uc788\\ub098\\uc694\", \"\\ubb38\\uc758\", \"\\ud558\\uace0\", \"\\ub4f1\\uc744\", \"\\uc788\\ub294\", \"\\uc11c\\uc6b8\\uc2dc\", \"\\uc788\\uc73c\\uba70\", \"\\ub530\\ub978\", \"\\ub530\\ub77c\", \"\\uc124\\uce58\", \"\\ubc88\\uc9c0\", \"\\ud648\\ud398\\uc774\\uc9c0\", \"\\uad00\\ud55c\", \"\\ud1b5\\ud574\", \"\\ud558\\ub294\", \"\\uc2dc\\uac04\\uc678\", \"\\uc11c\\ucee4\\uc2a4\", \"\\uc774\\ud589\\uae30\\uc900\", \"\\uc2ec\\uc0ac\\uc694\\uccad\", \"\\uc7ac\\ubc30\\uc815\\uc0ac\\uc5c5\", \"\\uad00\\ub9ac\\uaddc\\uc57d\\uc5d0\", \"\\uad6c\\uc131\\uc6d0\\uc758\", \"\\uc810\\uc790\\uc2a4\\ud2f0\\ucee4\", \"\\uae38\\uc74c\\ub3d9\", \"\\uc2a4\\ud2b8\\ub9ac\\ud2b8\", \"\\ud37c\\ub2c8\\uc2a4\\ud2b8\", \"\\uc2e0\\ud638\\ub4f1\", \"\\ub300\\uc6b0\\uacf5\\ubb34\\uc6d0\", \"\\ubb38\\ud654\\uc5ed\", \"\\uc0ac\\uc6a9\\ub8cc\\ub97c\", \"\\ub2f9\\uc9c1\\uc2e4\", \"\\ubd81\\uc545\\uc2a4\\uce74\\uc774\\uc6e8\\uc774\", \"\\uc8fc\\ud0dd\\uc784\\ub300\\ubcf4\\uc99d\\uc758\", \"\\ub300\\uc6b0\\uacf5\\ubb34\\uc6d0\\uc758\", \"\\uad00\\ub9ac\\uaddc\\uc57d\\uc758\", \"\\uac83\\uc774\\ub2e4\", \"\\uba85\\uc608\\uc758\", \"\\uc5ed\\uc138\\uad8c\\uc758\", \"\\uc81c\\uc0b0\\ucc45\\ub85c\", \"\\uc721\\uc544\\uc815\\ubcf4\", \"\\uc218\\uae30\\ub0a9\\ubd80\\uc11c\", \"\\ubd80\\ud328\\ud589\\uc704\\uc758\", \"\\ub3c5\\ub9bd\\uc720\\uacf5\\uc790\", \"\\ud655\\uc815\\uad6c\\uc5ed\\uc751\\uc554\\ub3d9\", \"\\ub300\\uc0c1\\uc740\\uacf5\\uc0ac\\ube44\", \"\\uc2dc\\ube44\", \"\\uc131\\ud76c\\ub871\", \"\\uc120\\ucd9c\\ub41c\", \"\\uc5f0\\uacb0\", \"\\uc785\\uc8fc\\uc790\\ub300\\ud45c\\ud68c\\uc758\", \"\\uc5f0\\uc911\\ubb34\\ud734\", \"\\ub3c4\\uc2dc\\uacc4\\ud68d\\uc0ac\\uc5c5\\uc73c\\ub85c\", \"\\ucd9c\\uad6c\", \"\\ud3c9\\uc77c\", \"\\uacf5\\ub3d9\\uc8fc\\ud0dd\", \"\\uc544\\ud30c\\ud2b8\", \"\\uacf5\\ub3d9\\uc8fc\\ud0dd\\uc758\", \"\\ud638\\uc120\", \"\\ubcf4\\ud589\\uc790\", \"\\uc5f4\\ub78c\", \"\\ub2f9\\ud574\", \"\\ub4f1\\uc744\", \"\\uac83\\uc744\", \"\\uc788\\ub294\", \"\\uc9c1\\uc7a5\", \"\\uc785\\uc8fc\\uc790\", \"\\uc5b4\\ub5bb\\uac8c\", \"\\uc11c\\uc6b8\\uc2dc\", \"\\ub300\\ud55c\", \"\\ud558\\ub294\", \"\\uc788\\uc2b5\\ub2c8\\ub2e4\", \"\\uad00\\ud55c\", \"\\ub530\\ub77c\", \"\\ubb34\\uc5c7\\uc785\\ub2c8\\uae4c\", \"\\ud544\\uc694\\ud55c\", \"\\ud655\\uc778\", \"\\uad00\\ub828\", \"\\ud569\\ub2c8\\ub2e4\", \"\\uacbd\\uc6b0\\uc5d0\\ub294\", \"\\uae30\\ud0c0\", \"\\uc2dc\\uac04\", \"\\uac00\\ub2a5\"], \"Freq\": [63.0, 52.0, 205.0, 34.0, 441.0, 86.0, 49.0, 63.0, 27.0, 60.0, 93.0, 79.0, 31.0, 116.0, 115.0, 18.0, 32.0, 20.0, 24.0, 76.0, 136.0, 54.0, 18.0, 17.0, 35.0, 49.0, 41.0, 16.0, 59.0, 427.0, 51.47999754772409, 34.34595651035088, 23.442471255430252, 14.096637453059854, 14.096635149510503, 13.317818263848583, 12.538986718280997, 10.20254279370511, 9.423717123966176, 17.211931279456348, 17.990760416445685, 7.866082611938229, 7.866082611933371, 7.866082611781378, 7.8660730623740305, 7.866041451099216, 16.433097178573615, 7.087262551316333, 7.087261140123456, 7.087250864827411, 28.81367326474919, 6.308442490760269, 6.308442490760269, 6.308442490722626, 6.308442490722156, 6.308442490719797, 6.308442490715471, 5.529622430171264, 5.529622430171264, 5.529622430129946, 10.20253996123584, 10.202538661056385, 19.284275617788392, 11.760197541983032, 114.44138870995114, 15.482046797970915, 18.769611734783847, 14.875487043008327, 10.1375712757895, 45.3049113519884, 37.28129905766404, 15.654300064700614, 116.9192555511673, 23.598833714782174, 65.73230399287571, 47.53320688724326, 41.394472291035015, 92.76023347402722, 86.95747919017053, 29.6281015114778, 49.823258256760454, 73.97144434980794, 27.02800713635265, 48.16294919572716, 46.96061958654963, 38.37430698302907, 40.917025311062794, 35.98048653282878, 30.00923307969375, 26.244502558372925, 35.55855944271185, 27.933145509728284, 31.24045127673105, 30.711224854435155, 27.425309942827198, 27.121028599633224, 26.55664754476436, 12.902179197466138, 12.902176925500438, 12.147665794104306, 8.375098777286416, 7.620585373883662, 6.866071970585116, 6.866071970569533, 6.866067161580968, 6.111558567214816, 6.111558567194447, 6.111558567166476, 5.357045163852281, 5.357045163833002, 5.357045163825216, 5.357045163805852, 4.602531760487917, 4.602531760470785, 4.602531760449705, 4.602529081443558, 9.129614801184013, 8.37510180916873, 3.848018357125645, 3.8480183571187956, 3.848018357118624, 3.8480183570993125, 3.848018357095551, 3.848018357095551, 3.848018357092158, 3.84801835707952, 3.8480183570794857, 12.147725503334666, 8.375103478170772, 6.11155972951482, 7.620590051921419, 6.8660752147385224, 6.8661091516514885, 5.357046284656255, 10.638662503989192, 7.620586433808489, 20.615254803211844, 100.98197788930587, 28.198910205052748, 10.175062772721438, 83.56823846083982, 75.2760743591095, 45.59360197042088, 54.33347569601311, 60.73421400844918, 28.79035101516685, 32.55864250531752, 22.475830155468145, 32.62981855686026, 31.751011535229654, 19.797158630553202, 15.526502563272192, 28.365184078187202, 33.24419894884096, 17.75396179574017, 16.07517941381958, 28.72116445211168, 23.58856407445923, 23.2789763241742, 23.72485026368982, 29.842480148537916, 28.28125428057292, 21.33387750933855, 21.875232875342892, 21.472263831183216, 21.4669997636235, 21.638580598331092, 20.519128764582263, 19.814607631380305, 19.061097758478375, 61.82119627399445, 26.430223260630854, 13.629268689260353, 12.876267757115635, 8.358180205167917, 14.382274335373642, 6.852278682521272, 13.62927518938418, 6.099285988000316, 6.0992859879999015, 6.0992859879999015, 6.099285987990216, 6.09928598797643, 6.099285987974014, 6.0992859879316415, 6.099285804758438, 6.099283093808345, 5.34628771787418, 5.346287717873763, 5.346287717864005, 5.34628771784052, 5.346287717838633, 5.346287717810518, 5.346286279781157, 5.346286279770287, 9.864285853070637, 4.593289447747992, 4.593289447747571, 4.593289447747571, 4.593289447714276, 15.888261506545968, 8.358181033901813, 11.370296921943813, 9.111278719179607, 37.89497578306138, 12.09389667456812, 13.56960299340333, 13.569602993402256, 8.24855724764952, 8.358291317404497, 30.5857727466926, 38.229249014029676, 14.446289272474576, 46.702478426747994, 19.035797088047833, 49.59105176108749, 25.255040832639466, 20.60975040719519, 27.773051088392567, 9.86430806599685, 47.512032922468194, 33.552062555040834, 28.622094631881204, 29.056566048790355, 27.68620367405553, 46.83303860818166, 43.162027717382614, 18.310968012075104, 19.95518537920639, 24.555956907736135, 17.887309951502278, 25.23460204541024, 21.904508609200985, 21.821670173673407, 22.82882954789965, 20.607861086975614, 21.707176013537346, 20.393729051730087, 19.904375204487287, 20.71455237099851, 20.646205372349687, 19.659825529079125, 13.286894438935496, 8.88241148345579, 8.148327889766115, 6.680160702420134, 6.680160702407454, 6.680160702399905, 5.946077108758313, 5.211993515082061, 5.211993515082061, 5.211993515078669, 5.211993515078351, 5.211993515051934, 5.211993515051119, 5.211993515021721, 5.211993394294342, 5.211986735712562, 9.616506777957948, 4.477909921405763, 4.477909921393178, 4.477909921385324, 4.477909921384313, 4.477909921383893, 4.47790992138018, 4.4779099213429365, 4.4779099213429365, 4.477908879808422, 4.477905598399478, 9.616467904996798, 3.7438263277293866, 3.74382632772177, 8.101787698237642, 11.084688633502601, 6.680161775432836, 16.739017587607055, 7.385510086006999, 40.26904815622449, 6.6801663343779945, 24.529387150054664, 12.518884625757673, 10.350584368776845, 17.06525430926867, 30.49444684996555, 34.15533899906676, 34.01368454010005, 34.83830547447993, 29.953348720114743, 25.891118900851357, 28.269661221022474, 27.20264404164671, 28.67430623788946, 19.429745746191603, 28.39656539920452, 23.729484206412668, 24.66427664939683, 45.75886957453457, 41.989164880414585, 25.33496392481287, 28.85579714247421, 26.827802285412123, 27.89837084965612, 23.11635661596809, 19.712992866096474, 18.60066894195543, 18.228301736348147, 27.55500790768564, 20.30225842075462, 21.01082529907291, 19.77163635855728, 10.306466934341547, 7.382646527392799, 7.382644281864336, 6.651691425767177, 6.651691425767177, 6.651691425724913, 6.651690810445647, 5.920736324030207, 5.18978122229635, 5.18978122222592, 5.189781160853705, 5.189768570990839, 4.458826120556045, 4.458826120448351, 4.458826120373899, 4.4588260585125115, 8.844559812651307, 3.727871018831555, 3.727871018829366, 3.727871018829366, 3.727871018824063, 3.7278710188162982, 3.7278710188162743, 3.7278710187976056, 3.727871018774922, 3.727871018766359, 3.72787101873809, 3.727871018626368, 3.727871018541618, 3.727871018221777, 7.382646896818602, 14.656322888412133, 11.768392257648376, 8.110821219795277, 6.651694700789785, 6.6516947007065035, 5.189784336376648, 5.189783466357378, 5.920737585578489, 6.651710370640481, 10.298685457898216, 39.42785422194618, 17.96079163902791, 15.72761824825928, 7.382655547400639, 34.92118642991449, 36.40383869227206, 29.712642801573306, 33.13279176816847, 52.489127265728555, 37.65424162047909, 26.224695556323034, 48.79026022013394, 18.436422414483083, 24.784398746619328, 23.191568583334647, 25.354849514468878, 20.959283250906225, 22.304710670885296, 33.89227427247303, 23.904996613704114, 26.863118890695837, 17.529126134789223, 24.64316187619626, 22.052671327942516, 19.767147354570387, 25.267895237148327, 22.556488272067195, 18.05843744131819, 22.561237302508278, 19.243470433036496, 19.03209570659808, 19.13812640472875, 17.746482765308027, 10.991427067114198, 9.535608912543067, 9.535608696435476, 8.079790757959138, 6.62397260335095, 6.623963063860448, 5.896063526074652, 6.539004527324142, 5.168154448778622, 5.1681544487751205, 5.1681544487751205, 5.168154448760462, 5.168154448754144, 4.44024537148383, 4.440245371482535, 4.440245371478999, 4.4402453714713275, 4.440245371470753, 4.440245371442734, 4.440245371375561, 3.7123362941907514, 3.712336294180473, 3.7123362941541767, 3.7123362941541767, 3.7123362941520073, 3.7123362941437086, 3.7123362941415112, 3.712336294105946, 3.712336294027717, 3.7123362939761653, 5.896070722683546, 13.903103152429876, 9.53562628670214, 7.351909759426162, 12.835963493505902, 5.168105569802192, 6.623983364243754, 4.440241456027017, 7.351888794512408, 4.440250405100149, 11.671851224820703, 8.099190548689865, 17.372049083828383, 56.11707876897943, 48.86360092344272, 39.02299324306942, 45.08982498467367, 28.461279065196226, 24.030468236832185, 40.630078368984286, 14.662912061628443, 29.76778836946912, 22.106923435770646, 14.550958151844485, 16.90139846952222, 19.726360041022314, 27.904556666554857, 14.631023303251906, 13.103261823401544, 15.99773200310999, 20.468706565742025, 17.423560975094517, 18.053348294147977, 17.291406915959804, 18.891986398944415, 19.728683425949455, 18.13101407353393, 18.36142677999119, 16.939821122438538, 15.981598196653422, 16.655436573557413, 17.192490206654693, 15.918809176211031, 16.63208797646128, 15.096444025278338, 14.961190447965675, 15.151820378791847, 18.08636976393385, 10.160062057404055, 6.557211190458965, 6.557208509216383, 6.557204365816988, 5.836638532178199, 5.836638532156957, 5.836638532039486, 5.8366332052934125, 5.1160634725040826, 4.395493215587426, 4.395493215476764, 4.395492052434447, 3.674920557291966, 3.6749205572873263, 3.6749205572873263, 3.6749205572873263, 3.6749205572873263, 3.674920557256838, 3.674920557256838, 3.674920557249276, 3.6749205571888592, 3.6749205571797705, 3.6749205571745542, 3.674920557155213, 3.6749205571550894, 3.674920557131356, 3.674920557085561, 3.6749205569229133, 3.6749205567362635, 6.557211998001006, 12.884810604699002, 5.836640504662571, 18.478203842659422, 7.2778101923903895, 10.160076491430127, 6.557168868693341, 12.968778054461714, 7.277786384738031, 20.905190093357156, 6.539960068818455, 7.998365141942284, 73.62061149131222, 4.395493697148722, 4.39549006345738, 6.557222206345758, 13.014212868699108, 23.78274511932637, 26.692977766368802, 39.05814197917585, 25.491795105572695, 22.646604648664397, 14.834264291897574, 31.948242002531366, 38.15465420249812, 38.31206230789441, 22.802794004414807, 12.96143137664276, 32.51725044048753, 19.994970837933238, 19.44691093491127, 24.993986301634745, 18.806995367129428, 13.042431289085354, 17.93881379537576, 15.258797365601113, 13.029127369434375, 17.209774580561714, 19.747867444751545, 19.07250308887571, 19.081193815587508, 18.17629179654136, 17.79298623999883, 17.21472842746667, 18.00077012661969, 15.503661180557279, 15.400298492699163, 15.341844168094678, 8.583256171179318, 7.873896157030346, 7.164535375322354, 6.455175706062636, 6.45198198664543, 5.7458161145870195, 5.036456100437977, 5.036456100437977, 5.036456100437977, 5.03645561875221, 4.32709608628386, 4.327096086272339, 4.327096086265687, 4.327096086229534, 4.327096086193442, 4.327063616035905, 3.617736072139715, 3.617736072139715, 3.617736072139715, 3.617736072139715, 3.617736072139715, 3.617736072139715, 3.617736072135904, 3.6177360721309246, 3.617736072122939, 3.617736072118571, 3.617736072117005, 3.617736072114588, 3.6177360721052687, 3.617736072090802, 31.537774815641278, 8.583261278981867, 5.036457537376907, 5.0364576266673495, 8.583264521607449, 9.814835062617876, 6.455183124975922, 29.254466935802533, 9.292635768585884, 7.873912638763337, 20.38890094241666, 49.40408311197154, 5.036468294263538, 4.3270969884966854, 7.164552914604761, 7.164541413302116, 57.49127816356162, 29.815552130943438, 29.430890184024797, 31.942671005909908, 26.422210592, 27.959603937955485, 14.480671009212735, 11.416234199997229, 38.76225541066354, 24.519870056342207, 12.923047474431469, 15.878892604286753, 14.142211997563027, 21.761443583015375, 16.018776095458083, 16.486271616706652, 17.09787971678841, 18.178825164281484, 16.353949585454384, 18.647171112773496, 21.04106186885235, 14.512148982818267, 16.902856326480826, 13.471581096819968, 16.7285134070472, 13.944646645295288, 13.548804138191247, 13.514374007696711, 16.532902839215357, 15.846890291399172, 10.358789999303998, 8.986761384167535, 6.242714502823408, 4.870689337387953, 4.870689337315151, 4.870686529853449, 4.184676754651326, 4.184676754650154, 4.184676754642276, 4.184676754642276, 4.1846767546337675, 4.184676754514442, 3.4986641719209333, 3.4986641719209124, 3.4986641719209124, 3.4986641719120164, 3.498664171867868, 3.4986641718280382, 3.4986636538227387, 3.4986635089093587, 3.498660543721734, 3.498658132860278, 3.498658132860279, 6.928736593367632, 2.8126515891765713, 2.8126515891765713, 2.8126515891765713, 2.812651589172483, 5.556702557799498, 4.870694596342248, 4.870690014915362, 6.242722320227698, 20.649032434490625, 13.788824083013358, 19.513564241977026, 6.928712252970526, 8.300774612692367, 22.64586801543205, 8.300776543860628, 21.782666083138693, 9.67279165699084, 4.870692678274602, 4.184677736411165, 30.104888738574253, 48.44910099928029, 23.56525333669492, 40.58705121134183, 30.623297030075467, 22.980010034455482, 19.87396721944088, 19.071973139403667, 18.48102697331734, 20.13174322006404, 19.87530247554291, 15.71730880376339, 17.985648920492526, 25.267606088360075, 22.986038885397956, 15.566795748706001, 15.276649282416217, 18.223003695123854, 13.08554942169325, 12.629842331148451, 16.306207313440435, 15.405040694165823, 13.158268085893793, 13.29707707393317, 17.43101295251606, 12.088173733344473, 10.752463928507444, 6.745333084774483, 6.745333084774483, 6.745330406708787, 6.077477082236351, 5.409624709378618, 10.05504071769657, 4.741769806989793, 4.741769806988481, 4.7417698069807175, 4.741766758850883, 4.741765109788469, 4.741760073249718, 18.098896950885287, 4.073914904576857, 4.07391490455608, 4.073912337542781, 4.073910291447225, 7.413187873768574, 3.4060600021877923, 3.4060600021830063, 3.406060002180398, 3.406060002153886, 3.4060600021482985, 3.4060600021351517, 3.4060600020905274, 3.4060600019814755, 3.406058512877825, 6.745332864163573, 6.7453386086069855, 5.409625693938358, 16.76321928372154, 8.713547327428858, 6.077484649454087, 4.7417722887257145, 22.44602390666346, 29.452521871844965, 17.63848763351807, 21.486258671643537, 11.222895280381621, 28.734537869702038, 7.361576429051079, 9.416817457148591, 16.026938594553044, 24.58142042619043, 14.293054884075703, 33.872632495301374, 6.587496771005862, 9.789321916060555, 26.58125097005744, 25.18192456287745, 21.50708275704324, 18.57418222332731, 24.579994897069536, 18.085789715233552, 18.514693824966077, 13.958614222274049, 14.134291455683076, 14.090550754524546, 13.860746823142039, 14.17855919534507, 13.916487841753264, 12.125611301460381, 12.035864256265228, 12.074553649421945], \"Total\": [63.0, 52.0, 205.0, 34.0, 441.0, 86.0, 49.0, 63.0, 27.0, 60.0, 93.0, 79.0, 31.0, 116.0, 115.0, 18.0, 32.0, 20.0, 24.0, 76.0, 136.0, 54.0, 18.0, 17.0, 35.0, 49.0, 41.0, 16.0, 59.0, 427.0, 52.12843149172085, 34.994390165622384, 24.09090923084793, 14.745068589778064, 14.74506857180232, 13.966248703148544, 13.187428206146908, 10.850968754087289, 10.07214839137963, 18.52820533313192, 19.3670795496449, 8.514508572320453, 8.514508572320072, 8.514508572308092, 8.514508191447298, 8.514504800219525, 17.812484075623498, 7.735688511728909, 7.7356883435667205, 7.735687119120785, 31.685141380810183, 6.956868451142544, 6.956868451142544, 6.956868451139576, 6.95686845113954, 6.956868451139352, 6.956868451139014, 6.178048390553575, 6.178048390553575, 6.178048390550319, 11.51882348308522, 11.571541913845774, 22.42169549608628, 13.828700724699415, 205.14913375888915, 19.832788510985967, 25.13227756902601, 19.147136476636692, 12.257151176049843, 84.74288325210595, 68.8675764525042, 22.124936608727467, 441.51119408857676, 43.62816321694022, 228.9587769974154, 139.5467238698308, 120.72011196821224, 526.7408282715869, 503.4301137626429, 76.14954509223736, 202.8920428657105, 427.71843104723735, 70.16256695221635, 249.96179491157153, 270.33130050593405, 192.14123672542124, 283.969122273748, 212.2124812707472, 136.31745812386507, 104.57319784770498, 288.07406156169606, 130.82670791712843, 202.49482702075977, 196.1944436088499, 166.21578602646517, 207.09378593899976, 197.33088657991456, 13.553035823591564, 13.553035773710288, 12.798522420229204, 9.025955403416958, 8.271442000052668, 7.5169285966932575, 7.516928596692527, 7.516928466479694, 6.762415193330482, 6.762415193329529, 6.762415193328219, 6.007901789968062, 6.007901789967158, 6.007901789966795, 6.007901789965889, 5.253388386605546, 5.253388386604743, 5.253388386603756, 5.253388472906111, 10.508377970348436, 9.778953679622566, 4.498874983243113, 4.498874983242794, 4.498874983242785, 4.49887498324188, 4.498874983241703, 4.498874983241703, 4.498874983241544, 4.498874983240952, 4.498874983240952, 15.00304937219063, 10.446809044317526, 7.49032431160351, 9.688409946140471, 8.905356365881705, 8.965412732679468, 6.6939144744643295, 15.650668702422852, 11.108882120075261, 43.12739071554314, 427.71843104723735, 76.02102531592384, 17.769591881804658, 503.4301137626429, 441.51119408857676, 207.09378593899976, 283.969122273748, 526.7408282715869, 139.5467238698308, 196.1944436088499, 94.81751254017422, 212.2124812707472, 202.49482702075977, 78.48370473896748, 47.529743424993825, 183.39395759255697, 270.33130050593405, 71.19629200526514, 56.75533531118724, 226.44309805953682, 146.3150888466424, 143.49741445811878, 151.42694967312417, 288.07406156169606, 249.96179491157153, 127.9537365512478, 142.6299952470793, 137.46996964508796, 148.6189510968299, 172.04644027371643, 164.78627341035565, 147.85884935394594, 125.38651883568863, 63.203121727921044, 27.081246498657666, 14.28027682869942, 13.527278560975038, 9.009284606058094, 15.719288337721158, 7.50329240878358, 15.014360556591264, 6.750294127439432, 6.75029412743941, 6.75029412743941, 6.750294127438977, 6.7502941274383605, 6.750294127438251, 6.750294127436352, 6.750294122075271, 6.750294130396169, 5.997295857313407, 5.997295857313388, 5.997295857312951, 5.997295857311899, 5.997295857311814, 5.997295857310555, 5.997295795385861, 5.997295795385376, 11.235858503008195, 5.244297587187373, 5.2442975871873525, 5.2442975871873525, 5.244297587185859, 18.542836792417052, 9.737193710961412, 14.224277892983926, 11.18100738534828, 60.41200561011844, 15.816699211459055, 22.648646450193084, 22.648646450193084, 11.274812236422044, 11.935155279237616, 93.7585554010585, 136.44573208273962, 29.42879884642406, 288.07406156169606, 57.511766264695005, 427.71843104723735, 111.04236432319097, 76.3319574202057, 143.49741445811878, 17.664375002935742, 441.51119408857676, 226.44309805953682, 164.78627341035565, 172.04644027371643, 159.66069479642027, 526.7408282715869, 503.4301137626429, 67.64369464936955, 85.61055362434074, 202.49482702075977, 69.60229213059209, 283.969122273748, 166.21578602646517, 183.39395759255697, 228.9587769974154, 147.85884935394594, 202.8920428657105, 143.36542148816216, 134.87682342161136, 249.96179491157153, 270.33130050593405, 196.1944436088499, 13.939812559752408, 9.53531109054573, 8.801227496869359, 7.333060309517205, 7.33306030951698, 7.333060309516846, 6.598976715841321, 5.864893122165175, 5.864893122165175, 5.864893122165114, 5.864893122165108, 5.864893122164637, 5.8648931221646246, 5.8648931221641005, 5.864893121650056, 5.864892678222734, 11.000349835816024, 5.130809528489019, 5.130809528488795, 5.130809528488654, 5.130809528488637, 5.130809528488627, 5.130809528488563, 5.130809528487902, 5.130809528487902, 5.130809591963561, 5.130809639869712, 11.022393190369474, 4.396725934812843, 4.396725934812711, 9.528745300534375, 13.158414447210008, 8.06096939583306, 22.90481627359377, 9.460315307744352, 86.54800926229225, 8.686928215633952, 60.38247157862764, 22.98559402068048, 17.84271189284851, 37.79539515259752, 93.7585554010585, 131.53661932132718, 136.44573208273962, 151.42694967312417, 120.34805790164783, 102.01725701443038, 120.54486599537015, 119.55754764722916, 136.49350775923884, 66.72759835416342, 148.6189510968299, 104.7917574829312, 114.76696591077854, 503.4301137626429, 427.71843104723735, 183.39395759255697, 270.33130050593405, 249.96179491157153, 283.969122273748, 172.04644027371643, 127.9537365512478, 115.81324722878723, 111.04236432319097, 526.7408282715869, 226.44309805953682, 288.07406156169606, 202.49482702075977, 10.959679390745482, 8.035858983798384, 8.035859056175212, 7.30490388206307, 7.30490388206307, 7.304903882062516, 7.304903901893076, 6.5739487803262895, 5.842993678589542, 5.84299367858862, 5.842993680443151, 5.842992586456975, 5.112038576852705, 5.112038576851292, 5.112038576850312, 5.112038578724578, 10.183781959484165, 4.381083475116058, 4.381083475116029, 4.381083475116029, 4.381083475115959, 4.381083475115857, 4.381083475115857, 4.381083475115615, 4.381083475115315, 4.381083475115202, 4.381083475114832, 4.381083475113365, 4.3810834751122565, 4.381083475108044, 8.790372375253407, 18.168008074133716, 16.09857551878571, 10.977181477885832, 8.743914843930497, 8.76689655315323, 6.510848890834303, 6.5975070096172175, 8.082975546382789, 9.583116754843346, 17.442604678118954, 115.81324722878723, 40.847329277226514, 42.34098260082524, 12.171158803438193, 202.49482702075977, 226.44309805953682, 159.66069479642027, 197.33088657991456, 526.7408282715869, 283.969122273748, 141.11396666866437, 503.4301137626429, 75.22611885242495, 148.6189510968299, 131.53661932132718, 164.78627341035565, 116.37737058053857, 151.42694967312417, 441.51119408857676, 183.39395759255697, 249.96179491157153, 85.80926971611409, 212.2124812707472, 166.21578602646517, 130.82670791712843, 270.33130050593405, 228.9587769974154, 125.38651883568863, 427.71843104723735, 207.09378593899976, 196.1944436088499, 288.07406156169606, 205.14913375888915, 11.644944125870438, 10.189125971278855, 10.189125973112125, 8.73330781668717, 7.277489662095258, 7.277489925457664, 6.549580584799533, 7.278210407020147, 5.821671507503638, 5.821671507503608, 5.821671507503608, 5.821671507503484, 5.821671507503429, 5.093762430207741, 5.093762430207732, 5.093762430207702, 5.093762430207636, 5.093762430207631, 5.093762430207391, 5.0937624302068185, 4.365853352911847, 4.365853352911759, 4.365853352911534, 4.365853352911534, 4.365853352911517, 4.365853352911443, 4.365853352911426, 4.365853352911123, 4.365853352910457, 4.365853352910018, 7.283663851396473, 21.273479682927317, 14.479681028153202, 10.872170267816712, 28.129407993004367, 7.2840249349872845, 10.884304842229655, 5.803122200062055, 13.150751109035594, 5.846741438515099, 29.194737966268193, 16.095154847202704, 63.40018429945785, 526.7408282715869, 427.71843104723735, 283.969122273748, 503.4301137626429, 207.09378593899976, 147.85884935394594, 441.51119408857676, 55.761416145837906, 270.33130050593405, 148.6189510968299, 60.67355773461328, 87.07069829822203, 127.9537365512478, 288.07406156169606, 66.25646618438738, 57.45294783689847, 102.01725701443038, 202.8920428657105, 131.53661932132718, 146.3150888466424, 136.31745812386507, 183.39395759255697, 212.2124812707472, 166.21578602646517, 197.33088657991456, 143.36542148816216, 111.04236432319097, 137.46996964508796, 164.78627341035565, 141.11396666866437, 226.44309805953682, 120.54486599537015, 114.76696591077854, 228.9587769974154, 18.740624498050938, 10.814325096807831, 7.211461891090369, 7.211461889405476, 7.211462078508065, 6.490889232795041, 6.490889232795098, 6.490889232795413, 6.490889319776111, 5.770316576482557, 5.049743916204441, 5.049743916204739, 5.049743948148843, 4.329171257909124, 4.329171257909136, 4.329171257909136, 4.329171257909136, 4.329171257909136, 4.329171257909217, 4.329171257909217, 4.329171257909239, 4.329171257909403, 4.329171257909425, 4.32917125790944, 4.32917125790949, 4.329171257909493, 4.329171257909554, 4.329171257909677, 4.329171257910121, 4.329171257910618, 7.942416981185662, 16.581660780503046, 7.221844306104966, 25.99962900962723, 9.441808446825467, 14.264564098943147, 8.71745651086914, 20.94274046185058, 11.62175811342902, 53.68857796447735, 10.163829197639302, 13.876396612625566, 526.7408282715869, 5.759103937844883, 5.759104088941404, 11.599603458672451, 38.9791677786095, 114.06588422010755, 143.9946935147658, 288.07406156169606, 133.3517781560536, 123.98511272468744, 57.48347084054333, 270.33130050593405, 441.51119408857676, 503.4301137626429, 166.21578602646517, 45.21142641254545, 427.71843104723735, 143.49741445811878, 136.31745812386507, 283.969122273748, 143.36542148816216, 53.3094472304621, 136.49350775923884, 88.31089036401244, 55.761416145837906, 142.6299952470793, 228.9587769974154, 212.2124812707472, 226.44309805953682, 197.33088657991456, 196.1944436088499, 183.39395759255697, 249.96179491157153, 147.85884935394594, 159.66069479642027, 164.78627341035565, 9.238628136220317, 8.529268122071404, 7.819908183027074, 7.1105480690464065, 7.110442716418282, 6.401188079624583, 5.69182806547566, 5.69182806547566, 5.69182806547566, 5.691828037293266, 4.9824680513268325, 4.982468051327067, 4.982468051327203, 4.982468051327942, 4.982468051328679, 4.982466982634447, 4.273108037177786, 4.273108037177786, 4.273108037177786, 4.273108037177786, 4.273108037177786, 4.273108037177786, 4.273108037177863, 4.273108037177965, 4.273108037178129, 4.273108037178218, 4.27310803717825, 4.273108037178299, 4.273108037178491, 4.273108037178785, 49.95565496194893, 11.523444253077376, 6.377840695510213, 6.470647976605881, 12.88519519689949, 15.605026003079205, 9.199255686812663, 76.42046598486304, 16.355990748751687, 13.048210755780724, 54.068774642293214, 249.96179491157153, 7.159994827819644, 5.7030407301357355, 13.012088331611277, 13.068852717006397, 526.7408282715869, 196.1944436088499, 192.14123672542124, 228.9587769974154, 159.66069479642027, 202.8920428657105, 56.92862518369823, 34.969444414435415, 503.4301137626429, 212.2124812707472, 49.63327714855291, 86.30758726349369, 74.69565676520789, 226.44309805953682, 104.57319784770498, 116.37737058053857, 133.3517781560536, 166.21578602646517, 119.55754764722916, 183.39395759255697, 441.51119408857676, 114.06588422010755, 270.33130050593405, 92.49370919110024, 288.07406156169606, 143.49741445811878, 127.9537365512478, 207.09378593899976, 17.190609976827375, 16.504597391958203, 11.016496707481872, 9.644471878850123, 6.900421211066467, 5.528396045591174, 5.528396045595524, 5.528396325927798, 4.842383462854646, 4.842383462854717, 4.842383462855186, 4.842383462855186, 4.842383462855695, 4.842383462862821, 4.156370880117734, 4.156370880117734, 4.156370880117734, 4.156370880118266, 4.156370880120905, 4.156370880123284, 4.156370911759122, 4.156370913519062, 4.156371234392723, 4.156371483130839, 4.15637148313084, 8.320516721230426, 3.4703582973816323, 3.4703582973816323, 3.4703582973816323, 3.4703582973818765, 6.942317666673961, 6.2377558807591775, 6.2593511029357725, 8.348902514222436, 32.2861645125785, 20.479250143258856, 35.940159338896244, 9.922894998194861, 13.582763826591163, 59.901997252308945, 14.752687368301533, 63.87656939853113, 20.043207866656395, 6.984213996142299, 5.510238391238731, 192.14123672542124, 503.4301137626429, 143.9946935147658, 441.51119408857676, 288.07406156169606, 172.04644027371643, 134.87682342161136, 125.38651883568863, 130.82670791712843, 207.09378593899976, 202.49482702075977, 133.3517781560536, 197.33088657991456, 526.7408282715869, 427.71843104723735, 146.3150888466424, 143.36542148816216, 270.33130050593405, 95.84795999197922, 88.31089036401244, 283.969122273748, 228.9587769974154, 147.85884935394594, 202.8920428657105, 18.090535428729236, 12.747696209562179, 11.411986404774513, 7.404857209076696, 7.404857209076696, 7.404857359741794, 6.73700231545763, 6.069147185603434, 11.431982205153238, 5.401292283206826, 5.401292283206948, 5.401292283207669, 5.4012926717886165, 5.4012927270064655, 5.4012931490435445, 20.948655936685075, 4.73343738081245, 4.7334373808143795, 4.7334376233487365, 4.733437795628958, 8.782072573192872, 4.065582478415843, 4.065582478416287, 4.06558247841653, 4.0655824784189925, 4.065582478419511, 4.065582478420732, 4.0655824784248775, 4.065582478435003, 4.065582706263521, 8.125429916083403, 8.157854612377793, 6.778507153504689, 26.271295005056075, 12.376461170701893, 8.180445217954963, 6.121864745601551, 49.74665409689125, 79.17135644081868, 41.094921049509594, 63.40018429945785, 23.60476158726712, 116.37737058053857, 13.884297844132611, 23.421815166672843, 76.14954509223736, 197.33088657991456, 66.6793393580607, 526.7408282715869, 11.946170250836321, 31.858893656995456, 441.51119408857676, 427.71843104723735, 288.07406156169606, 202.8920428657105, 503.4301137626429, 228.9587769974154, 270.33130050593405, 114.06588422010755, 141.11396666866437, 164.78627341035565, 172.04644027371643, 196.1944436088499, 192.14123672542124, 120.34805790164783, 115.81324722878723, 226.44309805953682], \"Category\": [\"Default\", \"Default\", \"Default\", \"Default\", \"Default\", \"Default\", \"Default\", \"Default\", \"Default\", \"Default\", \"Default\", \"Default\", \"Default\", \"Default\", \"Default\", \"Default\", \"Default\", \"Default\", \"Default\", \"Default\", \"Default\", \"Default\", \"Default\", \"Default\", \"Default\", \"Default\", \"Default\", \"Default\", \"Default\", \"Default\", \"Topic1\", \"Topic1\", \"Topic1\", \"Topic1\", \"Topic1\", \"Topic1\", \"Topic1\", \"Topic1\", \"Topic1\", \"Topic1\", \"Topic1\", \"Topic1\", \"Topic1\", \"Topic1\", \"Topic1\", \"Topic1\", \"Topic1\", \"Topic1\", \"Topic1\", \"Topic1\", \"Topic1\", \"Topic1\", \"Topic1\", \"Topic1\", \"Topic1\", \"Topic1\", \"Topic1\", \"Topic1\", \"Topic1\", \"Topic1\", \"Topic1\", \"Topic1\", \"Topic1\", \"Topic1\", \"Topic1\", \"Topic1\", \"Topic1\", \"Topic1\", \"Topic1\", \"Topic1\", \"Topic1\", \"Topic1\", \"Topic1\", \"Topic1\", \"Topic1\", \"Topic1\", \"Topic1\", \"Topic1\", \"Topic1\", \"Topic1\", \"Topic1\", \"Topic1\", \"Topic1\", \"Topic1\", \"Topic1\", \"Topic1\", \"Topic1\", \"Topic1\", \"Topic1\", \"Topic1\", \"Topic1\", \"Topic1\", \"Topic1\", \"Topic1\", \"Topic1\", \"Topic1\", \"Topic1\", \"Topic2\", \"Topic2\", \"Topic2\", \"Topic2\", \"Topic2\", \"Topic2\", \"Topic2\", \"Topic2\", \"Topic2\", \"Topic2\", \"Topic2\", \"Topic2\", \"Topic2\", \"Topic2\", \"Topic2\", \"Topic2\", \"Topic2\", \"Topic2\", \"Topic2\", \"Topic2\", \"Topic2\", \"Topic2\", \"Topic2\", \"Topic2\", \"Topic2\", \"Topic2\", \"Topic2\", \"Topic2\", \"Topic2\", \"Topic2\", \"Topic2\", \"Topic2\", \"Topic2\", \"Topic2\", \"Topic2\", \"Topic2\", \"Topic2\", \"Topic2\", \"Topic2\", \"Topic2\", \"Topic2\", \"Topic2\", \"Topic2\", \"Topic2\", \"Topic2\", \"Topic2\", \"Topic2\", \"Topic2\", \"Topic2\", \"Topic2\", \"Topic2\", \"Topic2\", \"Topic2\", \"Topic2\", \"Topic2\", \"Topic2\", \"Topic2\", \"Topic2\", \"Topic2\", \"Topic2\", \"Topic2\", \"Topic2\", \"Topic2\", \"Topic2\", \"Topic2\", \"Topic2\", \"Topic2\", \"Topic2\", \"Topic2\", \"Topic2\", \"Topic2\", \"Topic2\", \"Topic2\", \"Topic3\", \"Topic3\", \"Topic3\", \"Topic3\", \"Topic3\", \"Topic3\", \"Topic3\", \"Topic3\", \"Topic3\", \"Topic3\", \"Topic3\", \"Topic3\", \"Topic3\", \"Topic3\", \"Topic3\", \"Topic3\", \"Topic3\", \"Topic3\", \"Topic3\", \"Topic3\", \"Topic3\", \"Topic3\", \"Topic3\", \"Topic3\", \"Topic3\", \"Topic3\", \"Topic3\", \"Topic3\", \"Topic3\", \"Topic3\", \"Topic3\", \"Topic3\", \"Topic3\", \"Topic3\", \"Topic3\", \"Topic3\", \"Topic3\", \"Topic3\", \"Topic3\", \"Topic3\", \"Topic3\", \"Topic3\", \"Topic3\", \"Topic3\", \"Topic3\", \"Topic3\", \"Topic3\", \"Topic3\", \"Topic3\", \"Topic3\", \"Topic3\", \"Topic3\", \"Topic3\", \"Topic3\", \"Topic3\", \"Topic3\", \"Topic3\", \"Topic3\", \"Topic3\", \"Topic3\", \"Topic3\", \"Topic3\", \"Topic3\", \"Topic3\", \"Topic3\", \"Topic3\", \"Topic3\", \"Topic3\", \"Topic3\", \"Topic3\", \"Topic3\", \"Topic3\", \"Topic4\", \"Topic4\", \"Topic4\", \"Topic4\", \"Topic4\", \"Topic4\", \"Topic4\", \"Topic4\", \"Topic4\", \"Topic4\", \"Topic4\", \"Topic4\", \"Topic4\", \"Topic4\", \"Topic4\", \"Topic4\", \"Topic4\", \"Topic4\", \"Topic4\", \"Topic4\", \"Topic4\", \"Topic4\", \"Topic4\", \"Topic4\", \"Topic4\", \"Topic4\", \"Topic4\", \"Topic4\", \"Topic4\", \"Topic4\", \"Topic4\", \"Topic4\", \"Topic4\", \"Topic4\", \"Topic4\", \"Topic4\", \"Topic4\", \"Topic4\", \"Topic4\", \"Topic4\", \"Topic4\", \"Topic4\", \"Topic4\", \"Topic4\", \"Topic4\", \"Topic4\", \"Topic4\", \"Topic4\", \"Topic4\", \"Topic4\", \"Topic4\", \"Topic4\", \"Topic4\", \"Topic4\", \"Topic4\", \"Topic4\", \"Topic4\", \"Topic4\", \"Topic4\", \"Topic4\", \"Topic4\", \"Topic4\", \"Topic4\", \"Topic4\", \"Topic4\", \"Topic4\", \"Topic4\", \"Topic4\", \"Topic5\", \"Topic5\", \"Topic5\", \"Topic5\", \"Topic5\", \"Topic5\", \"Topic5\", \"Topic5\", \"Topic5\", \"Topic5\", \"Topic5\", \"Topic5\", \"Topic5\", \"Topic5\", \"Topic5\", \"Topic5\", \"Topic5\", \"Topic5\", \"Topic5\", \"Topic5\", \"Topic5\", \"Topic5\", \"Topic5\", \"Topic5\", \"Topic5\", \"Topic5\", \"Topic5\", \"Topic5\", \"Topic5\", \"Topic5\", \"Topic5\", \"Topic5\", \"Topic5\", \"Topic5\", \"Topic5\", \"Topic5\", \"Topic5\", \"Topic5\", \"Topic5\", \"Topic5\", \"Topic5\", \"Topic5\", \"Topic5\", \"Topic5\", \"Topic5\", \"Topic5\", \"Topic5\", \"Topic5\", \"Topic5\", \"Topic5\", \"Topic5\", \"Topic5\", \"Topic5\", \"Topic5\", \"Topic5\", \"Topic5\", \"Topic5\", \"Topic5\", \"Topic5\", \"Topic5\", \"Topic5\", \"Topic5\", \"Topic5\", \"Topic5\", \"Topic5\", \"Topic5\", \"Topic5\", \"Topic5\", \"Topic5\", \"Topic5\", \"Topic5\", \"Topic5\", \"Topic5\", \"Topic5\", \"Topic6\", \"Topic6\", \"Topic6\", \"Topic6\", \"Topic6\", \"Topic6\", \"Topic6\", \"Topic6\", \"Topic6\", \"Topic6\", \"Topic6\", \"Topic6\", \"Topic6\", \"Topic6\", \"Topic6\", \"Topic6\", \"Topic6\", \"Topic6\", \"Topic6\", \"Topic6\", \"Topic6\", \"Topic6\", \"Topic6\", \"Topic6\", \"Topic6\", \"Topic6\", \"Topic6\", \"Topic6\", \"Topic6\", \"Topic6\", \"Topic6\", \"Topic6\", \"Topic6\", \"Topic6\", \"Topic6\", \"Topic6\", \"Topic6\", \"Topic6\", \"Topic6\", \"Topic6\", \"Topic6\", \"Topic6\", \"Topic6\", \"Topic6\", \"Topic6\", \"Topic6\", \"Topic6\", \"Topic6\", \"Topic6\", \"Topic6\", \"Topic6\", \"Topic6\", \"Topic6\", \"Topic6\", \"Topic6\", \"Topic6\", \"Topic6\", \"Topic6\", \"Topic6\", \"Topic6\", \"Topic6\", \"Topic6\", \"Topic6\", \"Topic6\", \"Topic6\", \"Topic6\", \"Topic6\", \"Topic6\", \"Topic6\", \"Topic6\", \"Topic6\", \"Topic6\", \"Topic6\", \"Topic6\", \"Topic6\", \"Topic6\", \"Topic6\", \"Topic7\", \"Topic7\", \"Topic7\", \"Topic7\", \"Topic7\", \"Topic7\", \"Topic7\", \"Topic7\", \"Topic7\", \"Topic7\", \"Topic7\", \"Topic7\", \"Topic7\", \"Topic7\", \"Topic7\", \"Topic7\", \"Topic7\", \"Topic7\", \"Topic7\", \"Topic7\", \"Topic7\", \"Topic7\", \"Topic7\", \"Topic7\", \"Topic7\", \"Topic7\", \"Topic7\", \"Topic7\", \"Topic7\", \"Topic7\", \"Topic7\", \"Topic7\", \"Topic7\", \"Topic7\", \"Topic7\", \"Topic7\", \"Topic7\", \"Topic7\", \"Topic7\", \"Topic7\", \"Topic7\", \"Topic7\", \"Topic7\", \"Topic7\", \"Topic7\", \"Topic7\", \"Topic7\", \"Topic7\", \"Topic7\", \"Topic7\", \"Topic7\", \"Topic7\", \"Topic7\", \"Topic7\", \"Topic7\", \"Topic7\", \"Topic7\", \"Topic7\", \"Topic7\", \"Topic7\", \"Topic7\", \"Topic7\", \"Topic7\", \"Topic7\", \"Topic7\", \"Topic7\", \"Topic7\", \"Topic7\", \"Topic7\", \"Topic7\", \"Topic7\", \"Topic7\", \"Topic7\", \"Topic7\", \"Topic7\", \"Topic7\", \"Topic7\", \"Topic7\", \"Topic8\", \"Topic8\", \"Topic8\", \"Topic8\", \"Topic8\", \"Topic8\", \"Topic8\", \"Topic8\", \"Topic8\", \"Topic8\", \"Topic8\", \"Topic8\", \"Topic8\", \"Topic8\", \"Topic8\", \"Topic8\", \"Topic8\", \"Topic8\", \"Topic8\", \"Topic8\", \"Topic8\", \"Topic8\", \"Topic8\", \"Topic8\", \"Topic8\", \"Topic8\", \"Topic8\", \"Topic8\", \"Topic8\", \"Topic8\", \"Topic8\", \"Topic8\", \"Topic8\", \"Topic8\", \"Topic8\", \"Topic8\", \"Topic8\", \"Topic8\", \"Topic8\", \"Topic8\", \"Topic8\", \"Topic8\", \"Topic8\", \"Topic8\", \"Topic8\", \"Topic8\", \"Topic8\", \"Topic8\", \"Topic8\", \"Topic8\", \"Topic8\", \"Topic8\", \"Topic8\", \"Topic8\", \"Topic8\", \"Topic8\", \"Topic8\", \"Topic8\", \"Topic8\", \"Topic8\", \"Topic8\", \"Topic8\", \"Topic8\", \"Topic8\", \"Topic8\", \"Topic8\", \"Topic8\", \"Topic8\", \"Topic8\", \"Topic8\", \"Topic8\", \"Topic8\", \"Topic8\", \"Topic8\", \"Topic9\", \"Topic9\", \"Topic9\", \"Topic9\", \"Topic9\", \"Topic9\", \"Topic9\", \"Topic9\", \"Topic9\", \"Topic9\", \"Topic9\", \"Topic9\", \"Topic9\", \"Topic9\", \"Topic9\", \"Topic9\", \"Topic9\", \"Topic9\", \"Topic9\", \"Topic9\", \"Topic9\", \"Topic9\", \"Topic9\", \"Topic9\", \"Topic9\", \"Topic9\", \"Topic9\", \"Topic9\", \"Topic9\", \"Topic9\", \"Topic9\", \"Topic9\", \"Topic9\", \"Topic9\", \"Topic9\", \"Topic9\", \"Topic9\", \"Topic9\", \"Topic9\", \"Topic9\", \"Topic9\", \"Topic9\", \"Topic9\", \"Topic9\", \"Topic9\", \"Topic9\", \"Topic9\", \"Topic9\", \"Topic9\", \"Topic9\", \"Topic9\", \"Topic9\", \"Topic9\", \"Topic9\", \"Topic9\", \"Topic9\", \"Topic9\", \"Topic9\", \"Topic9\", \"Topic9\", \"Topic9\", \"Topic9\", \"Topic9\", \"Topic9\", \"Topic9\", \"Topic9\", \"Topic9\", \"Topic9\", \"Topic9\", \"Topic10\", \"Topic10\", \"Topic10\", \"Topic10\", \"Topic10\", \"Topic10\", \"Topic10\", \"Topic10\", \"Topic10\", \"Topic10\", \"Topic10\", \"Topic10\", \"Topic10\", \"Topic10\", \"Topic10\", \"Topic10\", \"Topic10\", \"Topic10\", \"Topic10\", \"Topic10\", \"Topic10\", \"Topic10\", \"Topic10\", \"Topic10\", \"Topic10\", \"Topic10\", \"Topic10\", \"Topic10\", \"Topic10\", \"Topic10\", \"Topic10\", \"Topic10\", \"Topic10\", \"Topic10\", \"Topic10\", \"Topic10\", \"Topic10\", \"Topic10\", \"Topic10\", \"Topic10\", \"Topic10\", \"Topic10\", \"Topic10\", \"Topic10\", \"Topic10\", \"Topic10\", \"Topic10\", \"Topic10\", \"Topic10\", \"Topic10\", \"Topic10\", \"Topic10\", \"Topic10\", \"Topic10\", \"Topic10\", \"Topic10\", \"Topic10\", \"Topic10\", \"Topic10\", \"Topic10\", \"Topic10\", \"Topic10\", \"Topic10\", \"Topic10\", \"Topic10\", \"Topic10\", \"Topic10\"], \"logprob\": [30.0, 29.0, 28.0, 27.0, 26.0, 25.0, 24.0, 23.0, 22.0, 21.0, 20.0, 19.0, 18.0, 17.0, 16.0, 15.0, 14.0, 13.0, 12.0, 11.0, 10.0, 9.0, 8.0, 7.0, 6.0, 5.0, 4.0, 3.0, 2.0, 1.0, -5.9774, -6.3821, -6.764, -7.2726, -7.2726, -7.3295, -7.3897, -7.5959, -7.6754, -7.073, -7.0287, -7.856, -7.856, -7.856, -7.856, -7.856, -7.1193, -7.9603, -7.9603, -7.9603, -6.5577, -8.0767, -8.0767, -8.0767, -8.0767, -8.0767, -8.0767, -8.2085, -8.2085, -8.2085, -7.5959, -7.5959, -6.9593, -7.4539, -5.1785, -7.1789, -6.9863, -7.2189, -7.6023, -6.1052, -6.3001, -7.1678, -5.1571, -6.7574, -5.733, -6.0572, -6.1954, -5.3886, -5.4532, -6.5299, -6.0101, -5.6149, -6.6217, -6.044, -6.0693, -6.2712, -6.207, -6.3356, -6.5171, -6.6511, -6.3474, -6.5888, -6.4769, -6.494, -6.6071, -6.6183, -6.6393, -7.2112, -7.2112, -7.2714, -7.6433, -7.7377, -7.842, -7.842, -7.842, -7.9584, -7.9584, -7.9584, -8.0902, -8.0902, -8.0902, -8.0902, -8.242, -8.242, -8.242, -8.242, -7.557, -7.6433, -8.421, -8.421, -8.421, -8.421, -8.421, -8.421, -8.421, -8.421, -8.421, -7.2714, -7.6433, -7.9584, -7.7377, -7.842, -7.842, -8.0902, -7.4041, -7.7377, -6.7425, -5.1536, -6.4293, -7.4486, -5.3429, -5.4474, -5.9488, -5.7734, -5.6621, -6.4085, -6.2855, -6.6561, -6.2833, -6.3106, -6.783, -7.026, -6.4234, -6.2647, -6.892, -6.9913, -6.4109, -6.6078, -6.621, -6.602, -6.3726, -6.4264, -6.7083, -6.6832, -6.7018, -6.7021, -6.6941, -6.7472, -6.7822, -6.8209, -5.6281, -6.4778, -7.1401, -7.1969, -7.6291, -7.0863, -7.8277, -7.1401, -7.9441, -7.9441, -7.9441, -7.9441, -7.9441, -7.9441, -7.9441, -7.9441, -7.9441, -8.0759, -8.0759, -8.0759, -8.0759, -8.0759, -8.0759, -8.0759, -8.0759, -7.4634, -8.2277, -8.2277, -8.2277, -8.2277, -6.9867, -7.6291, -7.3213, -7.5428, -6.1175, -7.2596, -7.1445, -7.1445, -7.6423, -7.629, -6.3318, -6.1087, -7.0819, -5.9085, -6.806, -5.8485, -6.5233, -6.7265, -6.4282, -7.4634, -5.8913, -6.2392, -6.3981, -6.3831, -6.4314, -5.9057, -5.9873, -6.8448, -6.7588, -6.5513, -6.8682, -6.5241, -6.6656, -6.6694, -6.6243, -6.7266, -6.6747, -6.7371, -6.7614, -6.7215, -6.7248, -6.7737, -7.064, -7.4667, -7.553, -7.7517, -7.7517, -7.7517, -7.8681, -7.9998, -7.9998, -7.9998, -7.9998, -7.9998, -7.9998, -7.9998, -7.9998, -7.9998, -7.3873, -8.1516, -8.1516, -8.1516, -8.1516, -8.1516, -8.1516, -8.1516, -8.1516, -8.1516, -8.1516, -7.3873, -8.3307, -8.3307, -7.5587, -7.2452, -7.7517, -6.8331, -7.6513, -5.9552, -7.7517, -6.4509, -7.1236, -7.3138, -6.8138, -6.2333, -6.1199, -6.124, -6.1001, -6.2512, -6.3969, -6.309, -6.3475, -6.2948, -6.684, -6.3045, -6.4841, -6.4454, -5.8274, -5.9134, -6.4186, -6.2885, -6.3614, -6.3222, -6.5103, -6.6695, -6.7276, -6.7478, -6.3346, -6.6401, -6.6058, -6.6666, -7.308, -7.6416, -7.6416, -7.7459, -7.7459, -7.7459, -7.7459, -7.8623, -7.994, -7.994, -7.994, -7.994, -8.1458, -8.1458, -8.1458, -8.1458, -7.4609, -8.3249, -8.3249, -8.3249, -8.3249, -8.3249, -8.3249, -8.3249, -8.3249, -8.3249, -8.3249, -8.3249, -8.3249, -8.3249, -7.6416, -6.9559, -7.1753, -7.5475, -7.7459, -7.7459, -7.994, -7.994, -7.8623, -7.7459, -7.3087, -5.9663, -6.7525, -6.8853, -7.6416, -6.0876, -6.0461, -6.2492, -6.1402, -5.6801, -6.0123, -6.374, -5.7532, -6.7264, -6.4305, -6.4969, -6.4078, -6.5981, -6.5359, -6.1175, -6.4666, -6.35, -6.7769, -6.4362, -6.5473, -6.6567, -6.4112, -6.5247, -6.7471, -6.5245, -6.6836, -6.6946, -6.689, -6.7645, -7.227, -7.3691, -7.3691, -7.5347, -7.7334, -7.7334, -7.8498, -7.7463, -7.9816, -7.9816, -7.9816, -7.9816, -7.9816, -8.1334, -8.1334, -8.1334, -8.1334, -8.1334, -8.1334, -8.1334, -8.3124, -8.3124, -8.3124, -8.3124, -8.3124, -8.3124, -8.3124, -8.3124, -8.3124, -8.3124, -7.8498, -6.992, -7.3691, -7.6291, -7.0719, -7.9816, -7.7334, -8.1334, -7.6292, -8.1334, -7.1669, -7.5323, -6.7692, -5.5967, -5.7351, -5.96, -5.8155, -6.2756, -6.4448, -5.9196, -6.9388, -6.2307, -6.5282, -6.9465, -6.7967, -6.6422, -6.2953, -6.941, -7.0512, -6.8517, -6.6052, -6.7663, -6.7308, -6.7739, -6.6854, -6.642, -6.7265, -6.7139, -6.7944, -6.8527, -6.8114, -6.7796, -6.8566, -6.8128, -6.9096, -6.9186, -6.906, -6.6942, -7.2709, -7.7088, -7.7088, -7.7088, -7.8252, -7.8252, -7.8252, -7.8252, -7.9569, -8.1087, -8.1087, -8.1087, -8.2878, -8.2878, -8.2878, -8.2878, -8.2878, -8.2878, -8.2878, -8.2878, -8.2878, -8.2878, -8.2878, -8.2878, -8.2878, -8.2878, -8.2878, -8.2878, -8.2878, -7.7088, -7.0333, -7.8252, -6.6727, -7.6045, -7.2709, -7.7088, -7.0268, -7.6045, -6.5493, -7.7114, -7.5101, -5.2904, -8.1087, -8.1087, -7.7088, -7.0233, -6.4204, -6.3049, -5.9243, -6.351, -6.4693, -6.8924, -6.1252, -5.9477, -5.9436, -6.4624, -7.0273, -6.1076, -6.5938, -6.6216, -6.3707, -6.6551, -7.0211, -6.7024, -6.8642, -7.0221, -6.7438, -6.6063, -6.6411, -6.6406, -6.6892, -6.7105, -6.7436, -6.6989, -6.8482, -6.8549, -6.8587, -7.3826, -7.4689, -7.5633, -7.6676, -7.6681, -7.784, -7.9158, -7.9158, -7.9158, -7.9158, -8.0676, -8.0676, -8.0676, -8.0676, -8.0676, -8.0676, -8.2466, -8.2466, -8.2466, -8.2466, -8.2466, -8.2466, -8.2466, -8.2466, -8.2466, -8.2466, -8.2466, -8.2466, -8.2466, -8.2466, -6.0813, -7.3826, -7.9158, -7.9158, -7.3826, -7.2486, -7.6676, -6.1564, -7.3032, -7.4689, -6.5175, -5.6324, -7.9157, -8.0676, -7.5633, -7.5633, -5.4808, -6.1374, -6.1504, -6.0685, -6.2582, -6.2017, -6.8596, -7.0974, -5.875, -6.333, -6.9734, -6.7675, -6.8833, -6.4523, -6.7587, -6.7299, -6.6935, -6.6322, -6.738, -6.6068, -6.486, -6.8575, -6.705, -6.9319, -6.7153, -6.8974, -6.9262, -6.9287, -6.6187, -6.661, -7.0862, -7.2283, -7.5926, -7.8408, -7.8408, -7.8408, -7.9926, -7.9926, -7.9926, -7.9926, -7.9926, -7.9926, -8.1716, -8.1716, -8.1716, -8.1716, -8.1716, -8.1716, -8.1716, -8.1716, -8.1716, -8.1716, -8.1716, -7.4883, -8.3899, -8.3899, -8.3899, -8.3899, -7.709, -7.8408, -7.8408, -7.5926, -6.3963, -6.8002, -6.4529, -7.4883, -7.3077, -6.304, -7.3077, -6.3429, -7.1547, -7.8408, -7.9926, -6.0193, -5.5435, -6.2642, -5.7206, -6.0023, -6.2894, -6.4346, -6.4758, -6.5073, -6.4217, -6.4345, -6.6693, -6.5344, -6.1945, -6.2891, -6.6789, -6.6977, -6.5213, -6.8525, -6.888, -6.6325, -6.6893, -6.847, -6.8365, -6.4763, -6.8423, -6.9594, -7.4257, -7.4257, -7.4257, -7.53, -7.6464, -7.0265, -7.7782, -7.7782, -7.7782, -7.7782, -7.7782, -7.7782, -6.4387, -7.93, -7.93, -7.93, -7.93, -7.3313, -8.109, -8.109, -8.109, -8.109, -8.109, -8.109, -8.109, -8.109, -8.109, -7.4257, -7.4257, -7.6464, -6.5154, -7.1697, -7.53, -7.7782, -6.2235, -5.9518, -6.4645, -6.2672, -6.9166, -5.9765, -7.3383, -7.0921, -6.5603, -6.1326, -6.6748, -5.812, -7.4494, -7.0533, -6.0544, -6.1084, -6.2662, -6.4128, -6.1326, -6.4394, -6.416, -6.6985, -6.686, -6.6891, -6.7055, -6.6828, -6.7015, -6.8392, -6.8467, -6.8435], \"loglift\": [30.0, 29.0, 28.0, 27.0, 26.0, 25.0, 24.0, 23.0, 22.0, 21.0, 20.0, 19.0, 18.0, 17.0, 16.0, 15.0, 14.0, 13.0, 12.0, 11.0, 10.0, 9.0, 8.0, 7.0, 6.0, 5.0, 4.0, 3.0, 2.0, 1.0, 2.0079, 2.0017, 1.9931, 1.9755, 1.9755, 1.9729, 1.97, 1.9588, 1.9539, 1.9467, 1.9467, 1.9412, 1.9412, 1.9412, 1.9412, 1.9412, 1.9398, 1.9329, 1.9329, 1.9329, 1.9254, 1.9226, 1.9226, 1.9226, 1.9226, 1.9226, 1.9226, 1.9095, 1.9095, 1.9095, 1.8991, 1.8945, 1.8697, 1.8584, 1.4367, 1.7728, 1.7285, 1.768, 1.8306, 1.3942, 1.4067, 1.6745, 0.6917, 1.4059, 0.7725, 0.9435, 0.9501, 0.2837, 0.2644, 1.0764, 0.6162, 0.2656, 1.0665, 0.3737, 0.2701, 0.4096, 0.0831, 0.2458, 0.5069, 0.638, -0.0716, 0.4764, 0.1514, 0.1659, 0.2186, -0.0124, 0.0148, 2.1212, 2.1212, 2.1182, 2.0956, 2.0885, 2.0799, 2.0799, 2.0799, 2.0692, 2.0692, 2.0692, 2.0558, 2.0558, 2.0558, 2.0558, 2.0382, 2.0382, 2.0382, 2.0382, 2.0298, 2.0155, 2.0142, 2.0142, 2.0142, 2.0142, 2.0142, 2.0142, 2.0142, 2.0142, 2.0142, 1.9593, 1.9494, 1.967, 1.9304, 1.9104, 1.9037, 1.9477, 1.7844, 1.7935, 1.4323, 0.7269, 1.1787, 1.6129, 0.3747, 0.4014, 0.657, 0.5167, 0.0102, 0.5921, 0.3744, 0.7309, 0.2981, 0.3176, 0.7931, 1.0516, 0.304, 0.0747, 0.7816, 0.909, 0.1056, 0.3454, 0.3517, 0.3169, -0.0968, -0.0087, 0.3791, 0.2955, 0.3138, 0.2356, 0.0972, 0.0871, 0.1606, 0.2867, 2.1646, 2.1624, 2.14, 2.1374, 2.1117, 2.0978, 2.0959, 2.0899, 2.0853, 2.0853, 2.0853, 2.0853, 2.0853, 2.0853, 2.0853, 2.0853, 2.0853, 2.0718, 2.0718, 2.0718, 2.0718, 2.0718, 2.0718, 2.0718, 2.0718, 2.0565, 2.0542, 2.0542, 2.0542, 2.0542, 2.0322, 2.034, 1.9628, 1.982, 1.7203, 1.9183, 1.6744, 1.6744, 1.8742, 1.8305, 1.0665, 0.9144, 1.4752, 0.3673, 1.081, 0.0321, 0.7058, 0.8774, 0.5445, 1.6041, -0.0425, 0.2773, 0.4362, 0.4082, 0.4346, -0.2334, -0.2698, 0.88, 0.7304, 0.0769, 0.828, -0.2339, 0.1601, 0.058, -0.1188, 0.2161, -0.0483, 0.2365, 0.2733, -0.3038, -0.3854, -0.1138, 2.2402, 2.2173, 2.2111, 2.195, 2.195, 2.195, 2.184, 2.1702, 2.1702, 2.1702, 2.1702, 2.1702, 2.1702, 2.1702, 2.1702, 2.1702, 2.1538, 2.1521, 2.1521, 2.1521, 2.1521, 2.1521, 2.1521, 2.1521, 2.1521, 2.1521, 2.1521, 2.1518, 2.1275, 2.1275, 2.126, 2.1167, 2.1003, 1.9746, 2.0406, 1.5231, 2.0255, 1.3874, 1.6806, 1.7437, 1.4931, 1.165, 0.9398, 0.899, 0.8188, 0.8975, 0.917, 0.838, 0.8077, 0.7279, 1.0544, 0.6331, 0.8029, 0.7507, -0.1099, -0.0328, 0.3088, 0.0509, 0.0563, -0.0321, 0.281, 0.4178, 0.4594, 0.4813, -0.6623, -0.1236, -0.33, -0.0383, 2.2368, 2.2135, 2.2135, 2.2046, 2.2046, 2.2046, 2.2046, 2.1936, 2.1797, 2.1797, 2.1797, 2.1797, 2.1616, 2.1616, 2.1616, 2.1616, 2.1573, 2.1368, 2.1368, 2.1368, 2.1368, 2.1368, 2.1368, 2.1368, 2.1368, 2.1368, 2.1368, 2.1368, 2.1368, 2.1368, 2.1238, 2.0835, 1.985, 1.9957, 2.0248, 2.0222, 2.0715, 2.0583, 1.987, 1.9332, 1.7714, 1.2208, 1.4766, 1.3079, 1.7983, 0.5407, 0.4705, 0.6168, 0.5139, -0.0078, 0.2779, 0.6154, -0.0356, 0.8921, 0.5071, 0.5628, 0.4266, 0.584, 0.383, -0.2687, 0.2607, 0.0677, 0.71, 0.1452, 0.2784, 0.4084, -0.0718, -0.0192, 0.3605, -0.6439, -0.0777, -0.0347, -0.4133, -0.1493, 2.2571, 2.2486, 2.2486, 2.2371, 2.2208, 2.2208, 2.2098, 2.2078, 2.1958, 2.1958, 2.1958, 2.1958, 2.1958, 2.1776, 2.1776, 2.1776, 2.1776, 2.1776, 2.1776, 2.1776, 2.1527, 2.1527, 2.1527, 2.1527, 2.1527, 2.1527, 2.1527, 2.1527, 2.1527, 2.1527, 2.1036, 1.8896, 1.8972, 1.9237, 1.5303, 1.9717, 1.8183, 2.0472, 1.7334, 2.0397, 1.3981, 1.6281, 1.0203, 0.0756, 0.1455, 0.3302, -0.0979, 0.3303, 0.498, -0.0708, 0.9791, 0.1087, 0.4094, 0.887, 0.6756, 0.4452, -0.0195, 0.8045, 0.8368, 0.4622, 0.0211, 0.2934, 0.2225, 0.2501, 0.042, -0.0606, 0.0992, -0.0597, 0.1792, 0.3764, 0.2042, 0.0547, 0.1328, -0.2963, 0.2373, 0.2775, -0.4005, 2.3141, 2.2873, 2.2546, 2.2546, 2.2546, 2.2434, 2.2434, 2.2434, 2.2434, 2.2293, 2.2109, 2.2109, 2.2109, 2.1858, 2.1858, 2.1858, 2.1858, 2.1858, 2.1858, 2.1858, 2.1858, 2.1858, 2.1858, 2.1858, 2.1858, 2.1858, 2.1858, 2.1858, 2.1858, 2.1858, 2.158, 2.0974, 2.1367, 2.0082, 2.0894, 2.0104, 2.0649, 1.8704, 1.8816, 1.4065, 1.9088, 1.7987, 0.3819, 2.0795, 2.0795, 1.7793, 1.2527, 0.7819, 0.6643, 0.3515, 0.6951, 0.6495, 0.9951, 0.2142, -0.0989, -0.226, 0.3633, 1.1003, -0.227, 0.3788, 0.4024, -0.0805, 0.3185, 0.9418, 0.3204, 0.594, 0.8958, 0.2349, -0.1008, -0.0597, -0.1241, -0.0351, -0.0506, -0.0162, -0.2812, 0.0945, 0.011, -0.0244, 2.333, 2.3266, 2.319, 2.3099, 2.3094, 2.2985, 2.2842, 2.2842, 2.2842, 2.2842, 2.2655, 2.2655, 2.2655, 2.2655, 2.2655, 2.2655, 2.2401, 2.2401, 2.2401, 2.2401, 2.2401, 2.2401, 2.2401, 2.2401, 2.2401, 2.2401, 2.2401, 2.2401, 2.2401, 2.2401, 1.9466, 2.112, 2.1704, 2.156, 2.0003, 1.9429, 2.0523, 1.4463, 1.8412, 1.9015, 1.4313, 0.7853, 2.0548, 2.1305, 1.8098, 1.8055, 0.1915, 0.5225, 0.5304, 0.437, 0.6077, 0.4246, 1.0376, 1.2871, -0.1574, 0.2485, 1.0609, 0.7136, 0.7423, 0.0642, 0.5304, 0.4522, 0.3525, 0.1935, 0.4172, 0.1206, -0.6372, 0.3448, -0.3656, 0.48, -0.4395, 0.0753, 0.1612, -0.3229, 2.476, 2.4743, 2.4534, 2.4444, 2.4148, 2.3883, 2.3883, 2.3883, 2.369, 2.369, 2.369, 2.369, 2.369, 2.369, 2.3427, 2.3427, 2.3427, 2.3427, 2.3427, 2.3427, 2.3427, 2.3427, 2.3427, 2.3427, 2.3427, 2.3319, 2.3049, 2.3049, 2.3049, 2.3049, 2.2924, 2.2676, 2.2642, 2.2243, 2.068, 2.1194, 1.9042, 2.1558, 2.0225, 1.5423, 1.9399, 1.4392, 1.7864, 2.1546, 2.2398, 0.6615, 0.1741, 0.705, 0.1282, 0.2735, 0.5019, 0.6, 0.6318, 0.5579, 0.1841, 0.1938, 0.3768, 0.1197, -0.5222, -0.4086, 0.2744, 0.2759, -0.182, 0.5237, 0.5702, -0.3423, -0.1839, 0.0958, -0.2101, 2.5673, 2.5513, 2.5449, 2.5112, 2.5112, 2.5112, 2.5014, 2.4894, 2.4761, 2.4742, 2.4742, 2.4742, 2.4742, 2.4742, 2.4742, 2.4582, 2.4544, 2.4544, 2.4544, 2.4544, 2.435, 2.4274, 2.4274, 2.4274, 2.4274, 2.4274, 2.4274, 2.4274, 2.4274, 2.4274, 2.4183, 2.4143, 2.3789, 2.1552, 2.2535, 2.3073, 2.349, 1.8086, 1.6156, 1.7586, 1.5224, 1.861, 1.2057, 1.97, 1.6933, 1.046, 0.5216, 1.0643, -0.1397, 2.0092, 1.4244, -0.2056, -0.2279, 0.0096, 0.2135, -0.4151, 0.066, -0.0766, 0.5038, 0.3035, 0.1453, 0.0857, -0.0229, -0.0207, 0.3094, 0.3404, -0.3269]}, \"token.table\": {\"Topic\": [3, 5, 3, 1, 2, 3, 4, 5, 6, 7, 8, 9, 10, 1, 2, 3, 4, 5, 6, 7, 8, 9, 10, 1, 2, 3, 4, 5, 6, 7, 8, 9, 10, 4, 7, 9, 2, 4, 5, 6, 8, 1, 7, 9, 2, 9, 1, 7, 1, 1, 2, 3, 4, 5, 6, 7, 8, 9, 10, 4, 7, 8, 9, 1, 2, 3, 4, 5, 6, 7, 8, 10, 1, 3, 6, 7, 10, 1, 2, 4, 1, 2, 3, 4, 5, 6, 7, 8, 9, 10, 8, 10, 2, 3, 10, 6, 5, 7, 2, 1, 2, 3, 4, 5, 6, 7, 8, 9, 10, 4, 8, 1, 3, 5, 7, 3, 4, 5, 6, 1, 1, 2, 3, 6, 7, 8, 10, 2, 4, 7, 8, 10, 1, 2, 3, 5, 6, 7, 8, 9, 10, 3, 4, 10, 2, 6, 7, 9, 2, 3, 1, 4, 9, 1, 2, 3, 4, 5, 6, 7, 8, 9, 10, 1, 10, 10, 2, 3, 5, 9, 10, 4, 5, 6, 1, 2, 3, 4, 5, 6, 7, 8, 9, 10, 1, 2, 3, 4, 5, 6, 7, 8, 9, 10, 1, 6, 9, 9, 4, 1, 2, 3, 4, 5, 6, 7, 8, 9, 5, 1, 7, 2, 9, 1, 2, 3, 4, 5, 6, 7, 8, 9, 10, 10, 8, 7, 1, 5, 3, 8, 9, 6, 9, 10, 1, 2, 3, 4, 5, 6, 7, 8, 9, 10, 5, 10, 2, 4, 4, 1, 1, 1, 1, 1, 3, 4, 6, 7, 8, 9, 10, 1, 2, 3, 4, 5, 6, 7, 8, 9, 10, 1, 2, 3, 4, 5, 6, 7, 8, 9, 10, 9, 9, 10, 2, 3, 5, 9, 10, 8, 3, 5, 1, 2, 6, 7, 9, 1, 2, 3, 4, 5, 6, 7, 8, 9, 10, 8, 4, 6, 7, 8, 2, 6, 8, 9, 8, 7, 1, 2, 3, 4, 5, 6, 7, 8, 9, 10, 1, 2, 3, 4, 5, 6, 7, 8, 9, 10, 1, 5, 8, 9, 1, 3, 6, 8, 10, 1, 2, 3, 4, 5, 6, 7, 8, 9, 10, 1, 7, 1, 2, 3, 4, 5, 6, 7, 8, 9, 10, 10, 10, 10, 6, 6, 8, 1, 5, 6, 8, 10, 1, 2, 3, 4, 5, 6, 7, 8, 9, 10, 2, 3, 4, 6, 8, 3, 1, 2, 3, 4, 5, 6, 7, 8, 9, 10, 2, 4, 6, 7, 8, 9, 1, 2, 4, 5, 7, 8, 9, 2, 3, 4, 6, 7, 8, 10, 7, 10, 2, 7, 10, 4, 8, 1, 2, 3, 4, 5, 6, 7, 8, 9, 10, 1, 1, 2, 3, 4, 5, 6, 7, 8, 9, 10, 3, 2, 6, 1, 2, 3, 4, 5, 6, 7, 8, 9, 1, 2, 3, 4, 5, 6, 7, 8, 9, 10, 1, 2, 3, 4, 5, 6, 7, 8, 9, 10, 9, 1, 2, 3, 4, 5, 6, 7, 8, 9, 10, 1, 2, 3, 4, 5, 6, 7, 8, 9, 10, 8, 1, 2, 3, 4, 5, 6, 7, 8, 9, 3, 6, 3, 5, 7, 10, 1, 2, 3, 4, 5, 6, 7, 8, 9, 10, 4, 4, 9, 3, 3, 1, 2, 3, 4, 5, 6, 7, 8, 9, 10, 1, 2, 3, 4, 5, 6, 7, 8, 9, 10, 5, 1, 5, 7, 7, 1, 2, 3, 4, 5, 6, 7, 8, 9, 10, 2, 3, 4, 6, 8, 10, 1, 4, 6, 9, 10, 1, 4, 5, 6, 7, 8, 9, 10, 5, 9, 5, 1, 7, 10, 1, 2, 3, 4, 6, 7, 8, 10, 1, 4, 7, 9, 4, 1, 1, 2, 3, 4, 5, 6, 7, 8, 9, 10, 4, 5, 4, 4, 8, 1, 2, 3, 4, 5, 6, 7, 8, 9, 10, 1, 2, 3, 4, 5, 6, 7, 8, 9, 3, 4, 5, 7, 7, 6, 9, 3, 5, 8, 7, 2, 5, 8, 10, 3, 7, 2, 5, 3, 10, 10, 10, 6, 7, 6, 6, 1, 2, 5, 8, 9, 10, 6, 9, 4, 6, 7, 9, 3, 4, 3, 6, 8, 1, 2, 3, 4, 5, 6, 7, 8, 9, 10, 3, 4, 5, 6, 7, 8, 9, 1, 3, 4, 5, 1, 2, 3, 4, 5, 6, 7, 8, 9, 10, 10, 1, 3, 6, 9, 10, 1, 2, 4, 5, 6, 7, 8, 10, 7, 3, 3, 8, 9, 2, 8, 8, 5, 2, 2, 6, 2, 3, 4, 1, 2, 3, 4, 5, 6, 7, 8, 9, 10, 2, 1, 2, 3, 4, 5, 6, 7, 8, 9, 10, 5, 2, 3, 5, 7, 7, 9, 1, 2, 3, 4, 5, 6, 7, 8, 9, 10, 1, 2, 5, 6, 7, 8, 9, 10, 1, 2, 3, 4, 5, 6, 7, 8, 9, 10, 7, 6, 10, 8, 10, 1, 2, 3, 4, 5, 6, 7, 8, 9, 10, 1, 2, 3, 4, 5, 6, 7, 8, 10, 3, 3, 10, 4, 5, 1, 2, 9, 8, 10, 3, 9, 2, 3, 6, 7, 8, 5, 1, 8, 4, 2, 3, 6, 7, 3, 7, 4, 10, 6, 5, 5, 2, 1, 2, 3, 4, 5, 7, 8, 9, 10, 10, 1, 7, 10, 7, 1, 2, 3, 4, 5, 6, 7, 8, 9, 10, 8, 5, 3, 3, 6, 9, 1, 2, 3, 4, 5, 6, 7, 8, 9, 10, 5, 10, 10, 1, 6, 1, 2, 3, 4, 5, 6, 7, 8, 9, 10, 3, 1, 2, 5, 6, 7, 8, 9, 10, 1, 2, 3, 4, 5, 6, 7, 8, 9, 10, 8, 1, 5, 1, 2, 3, 4, 5, 6, 7, 8, 9, 10, 1, 2, 3, 4, 5, 6, 7, 8, 9, 10, 1, 2, 3, 4, 5, 6, 7, 8, 9, 10, 1, 2, 3, 4, 5, 7, 9, 10, 3, 4, 8, 9, 1, 2, 3, 4, 5, 7, 8, 9, 10, 1, 2, 3, 4, 5, 6, 7, 8, 9, 10, 1, 2, 3, 4, 5, 6, 7, 8, 9, 10, 6, 9, 2, 1, 2, 8, 10, 1, 2, 3, 4, 6, 7, 8, 10, 8, 4, 8, 4, 8, 10, 1, 2, 3, 4, 7, 9, 10, 5, 2, 6, 7, 8, 10, 2, 5, 5, 9, 4, 4, 1, 2, 3, 4, 5, 6, 7, 9, 10, 2, 5, 7, 8, 9, 3, 6, 6, 8, 1, 10, 6, 4, 4, 1, 2, 3, 4, 5, 6, 7, 8, 9, 10, 6, 5, 2, 2, 2, 1, 2, 3, 4, 5, 6, 7, 8, 9, 10, 1, 2, 3, 4, 5, 6, 7, 8, 9, 10, 1, 2, 3, 4, 5, 6, 7, 8, 9, 10, 1, 2, 3, 4, 5, 6, 7, 8, 9, 10, 5, 5, 7, 10, 8, 7, 1, 2, 3, 5, 1, 1, 2, 3, 4, 5, 6, 7, 8, 9, 10, 1, 2, 3, 4, 5, 6, 7, 8, 9, 10, 1, 2, 3, 4, 5, 6, 7, 8, 9, 10, 1, 3, 6, 6, 1, 2, 3, 4, 5, 6, 7, 8, 9, 10, 2, 4, 5, 7, 8, 9, 3, 10, 7, 8, 7, 8, 1, 2, 3, 4, 5, 6, 7, 8, 9, 10, 2, 3, 4, 5, 6, 7, 8, 9, 9, 8, 3, 2, 2, 3, 4, 5, 6, 7, 8, 9, 10, 3, 5, 6, 10, 1, 2, 3, 4, 5, 6, 7, 8, 9, 10, 1, 2, 3, 4, 5, 6, 7, 8, 9, 10, 1, 2, 3, 4, 5, 6, 7, 8, 9, 10, 1, 2, 3, 4, 5, 6, 7, 8, 9, 10, 1, 2, 3, 4, 5, 6, 7, 8, 9, 10, 1, 2, 3, 4, 5, 6, 7, 8, 9, 10, 7, 1, 2, 1, 5, 5, 2, 1, 2, 3, 4, 5, 6, 8, 9, 10, 4, 10, 5, 1, 8, 1, 3, 8, 1, 2, 3, 4, 5, 6, 7, 8, 9, 10, 9, 8, 9, 3, 7, 8, 10, 1, 3, 5, 7, 8, 3, 2, 1, 2, 3, 4, 5, 6, 7, 8, 9, 10, 7, 10, 6, 1, 2, 3, 4, 5, 6, 7, 8, 9, 10, 1, 2, 3, 4, 5, 6, 7, 8, 9, 10, 9, 1, 2, 3, 5, 6, 7, 8, 9, 10, 6, 1, 1, 9, 1, 3, 4, 6, 7, 8, 9, 6, 6, 7, 9, 1, 2, 3, 4, 5, 6, 7, 8, 9, 10, 1, 2, 3, 4, 5, 6, 7, 8, 9, 10, 5, 8, 8, 9, 10, 8, 8, 1, 2, 3, 4, 5, 6, 7, 8, 9, 10, 6, 6, 2, 1, 2, 3, 4, 5, 6, 7, 8, 9, 10, 6, 7, 7, 1, 2, 3, 4, 5, 10, 6, 1, 2, 3, 1, 2, 3, 4, 5, 6, 7, 8, 9, 10, 1, 10, 1, 2, 3, 4, 8, 9, 3, 4, 3, 5, 9, 9, 3, 7, 4, 9, 1, 8, 2, 5, 2, 5, 8, 10, 4, 1, 2, 3, 4, 5, 6, 7, 8, 9, 4, 4, 4, 6, 2, 2, 2, 7, 10, 2, 3, 3, 6, 1, 2, 3, 4, 5, 6, 7, 8, 9, 10, 1, 5, 7, 8, 6, 7, 9, 2, 3, 6, 7, 8, 9, 10, 4, 2, 3, 4, 6, 7, 5, 8, 3, 1, 4, 5, 8, 9, 6, 1, 6, 9, 1, 3, 9, 9, 7, 1, 2, 3, 4, 5, 6, 7, 8, 9, 10, 8, 2, 5, 3, 5, 8, 9, 5, 5, 9, 2, 6, 10, 1, 2, 4, 5, 6, 7, 8, 1, 2, 3, 4, 5, 6, 7, 8, 9, 10, 2, 5, 9, 7, 1, 2, 3, 4, 5, 6, 7, 8, 9, 10, 1, 2, 3, 4, 5, 6, 7, 8, 9, 10, 1, 2, 3, 4, 5, 6, 7, 8, 9, 10, 1, 2, 3, 4, 5, 6, 7, 8, 9, 10, 1, 2, 3, 4, 5, 6, 7, 8, 9, 10, 6, 2, 3, 5, 6, 8, 10, 2, 2, 4, 5, 6, 9, 10, 6, 3, 6, 7, 3, 8, 10, 2, 3, 4, 5, 7, 8, 9, 1, 2, 3, 4, 5, 6, 7, 8, 9, 10, 2, 1, 3, 4, 5, 10, 1, 2, 3, 4, 5, 6, 7, 8, 9, 10, 2, 9, 1, 2, 3, 4, 5, 6, 7, 8, 9, 10, 2, 3, 5, 7, 8, 1, 2, 3, 4, 5, 6, 7, 8, 9, 10, 4, 6, 8, 8, 4, 6, 3, 4, 5, 7, 8, 4, 9, 10, 2, 6, 1, 2, 3, 4, 5, 6, 7, 8, 9, 10, 1, 2, 3, 4, 5, 6, 7, 8, 9, 10, 5, 5, 9, 9, 1, 2, 3, 4, 5, 6, 7, 8, 9, 10, 10, 5, 7, 4, 6, 10, 4, 2, 3, 4, 5, 6, 7, 8, 10, 7, 1, 5, 7], \"Freq\": [0.9809642040609912, 0.015822003291306307, 0.9600739759629875, 0.11481913214755626, 0.12806749354919736, 0.1501480958852659, 0.08832240934427404, 0.15898033681969329, 0.07507404794263295, 0.08390628887706035, 0.09715465027870146, 0.05299344560656443, 0.05299344560656443, 0.10348340723085032, 0.1626167827913362, 0.26610019002218654, 0.059133375560485896, 0.059133375560485896, 0.059133375560485896, 0.08870006334072884, 0.07391671945060738, 0.04435003167036442, 0.07391671945060738, 0.1265588990737929, 0.2320246483019536, 0.09491917430534466, 0.1160123241509768, 0.10546574922816074, 0.08437259938252858, 0.04218629969126429, 0.08437259938252858, 0.06327944953689645, 0.05273287461408037, 0.77960407179215, 0.9239643714007016, 0.8644640532545256, 0.7028453677699478, 0.0638950334336316, 0.1277900668672632, 0.1277900668672632, 0.0638950334336316, 0.9048968284318257, 0.92396437140064, 0.9331770690043257, 0.9517666755327092, 0.8260394970128003, 0.864189066111806, 0.0864189066111806, 0.9547169755863326, 0.5310180427320037, 0.035401202848800245, 0.05900200474800041, 0.04720160379840033, 0.023600801899200163, 0.04720160379840033, 0.08260280664720057, 0.07080240569760049, 0.023600801899200163, 0.05900200474800041, 0.06408191821036881, 0.12816383642073761, 0.640819182103688, 0.12816383642073761, 0.1831969985994726, 0.05234199959984932, 0.0915984992997363, 0.01308549989996233, 0.02617099979992466, 0.10468399919969865, 0.07851299939977398, 0.37947949709890755, 0.06542749949981165, 0.7559999267004888, 0.03978946982634151, 0.07957893965268302, 0.07957893965268302, 0.03978946982634151, 0.11209058421223596, 0.2802264605305899, 0.5604529210611798, 0.1349743426771371, 0.0899828951180914, 0.029994298372697133, 0.0449914475590457, 0.029994298372697133, 0.11997719349078853, 0.1799657902361828, 0.07498574593174283, 0.0899828951180914, 0.20996008860887994, 0.11386833707711355, 0.7970783595397949, 0.7657840749325794, 0.09572300936657242, 0.09572300936657242, 0.785274157325958, 0.9130161574686813, 0.9239643714006844, 0.9517666598971426, 0.19777118461199336, 0.09888559230599668, 0.09368108744778632, 0.05724955344031386, 0.05724955344031386, 0.06245405829852422, 0.04684054372389316, 0.15093064088810018, 0.15613514574631054, 0.07286306801494492, 0.909767872572751, 0.895151175200923, 0.9711804797732215, 0.8888501584513765, 0.1384687840964188, 0.8308127045785128, 0.06211729720018286, 0.12423459440036572, 0.7454075664021943, 0.12423459440036572, 0.8624570152702262, 0.17033735121590005, 0.02433390731655715, 0.0973356292662286, 0.07300172194967146, 0.14600344389934292, 0.07300172194967146, 0.4380103316980287, 0.04236433383590792, 0.04236433383590792, 0.2541860030154475, 0.1694573353436317, 0.4660076721949871, 0.10512722577980299, 0.1518504372374932, 0.23361605728845108, 0.09344642291538044, 0.03504240859326766, 0.1518504372374932, 0.04672321145769022, 0.11680802864422554, 0.05840401432211277, 0.07599699827147723, 0.8359669809862496, 0.07599699827147723, 0.7807783320989317, 0.11153976172841881, 0.11153976172841881, 0.8260394970127135, 0.832237305934279, 0.9534165285005546, 0.8677604815445044, 0.07231337346204203, 0.07231337346204203, 0.11624768270811706, 0.12787245097892877, 0.16855913992676974, 0.13368483511433463, 0.06393622548946438, 0.04649907308324683, 0.06393622548946438, 0.06393622548946438, 0.13368483511433463, 0.08137337789568194, 0.9494699825793181, 0.9453254343638144, 0.8450517726658956, 0.08830549783176776, 0.6181384848223743, 0.08830549783176776, 0.08830549783176776, 0.13245824674765164, 0.11406544994993985, 0.798458149649579, 0.11406544994993985, 0.288261497836115, 0.02620559071237409, 0.10045476439743402, 0.05241118142474818, 0.10045476439743402, 0.06551397678093522, 0.08735196904124697, 0.13976315046599516, 0.06551397678093522, 0.07861677213712227, 0.08847320948250516, 0.13270981422375772, 0.13270981422375772, 0.02211830237062629, 0.08847320948250516, 0.06635490711187886, 0.2875379308181418, 0.08847320948250516, 0.06635490711187886, 0.04423660474125258, 0.8624570152706219, 0.14404411437414047, 0.8642646862448428, 0.8260394970128924, 0.9089641192487798, 0.07841810527084056, 0.11762715790626085, 0.17644073685939127, 0.25485884213023186, 0.11762715790626085, 0.15683621054168112, 0.0686158421119855, 0.029406789476565214, 0.00980226315885507, 0.7824667084179118, 0.9395727224947903, 0.9239643714006368, 0.7469470993502823, 0.14938941987005644, 0.06842201089275488, 0.1292415761307592, 0.06842201089275488, 0.2584831522615184, 0.17485625005926247, 0.1292415761307592, 0.07602445654750542, 0.045614673928503255, 0.03801222827375271, 0.007602445654750542, 0.8906038203717662, 0.8028149822122609, 0.9706769730903485, 0.8982464170674603, 0.05614040106671627, 0.8049364149239095, 0.08943737943598995, 0.7217835131706277, 0.9160332107742726, 0.7259214059340867, 0.18148035148352168, 0.3396285783001596, 0.008283623860979502, 0.10768711019273353, 0.008283623860979502, 0.11597073405371303, 0.033134495443918006, 0.12425435791469253, 0.09940348633175403, 0.07455261474881551, 0.08283623860979501, 0.7679490161473088, 0.15358980322946175, 0.8891111699922801, 0.8525304546648199, 0.9325806888920535, 0.9395727645239552, 0.9715842979141482, 0.9857873572301578, 0.9048969913348304, 0.07696418807705542, 0.10261891743607389, 0.10261891743607389, 0.025654729359018472, 0.33351148166724015, 0.23089256423116625, 0.025654729359018472, 0.07696418807705542, 0.11632925569468877, 0.06647386039696501, 0.1246384882443094, 0.2492769764886188, 0.08309232549620627, 0.07478309294658564, 0.08309232549620627, 0.04154616274810313, 0.058164627847344386, 0.09971079059544752, 0.06970646942273714, 0.15683955620115858, 0.10455970413410572, 0.21783271694605358, 0.14812624752331643, 0.13069963016763214, 0.07841977810057929, 0.02613992603352643, 0.03485323471136857, 0.017426617355684286, 0.9889119712980334, 0.08747389403293737, 0.8747389403293737, 0.08830549783176776, 0.6181384848223743, 0.08830549783176776, 0.08830549783176776, 0.13245824674765164, 0.9741706092396155, 0.9534165285008261, 0.7824667087047935, 0.14412963652107505, 0.07206481826053752, 0.2161944547816126, 0.5765185460843002, 0.8260394970128803, 0.05382893595304511, 0.1413009568767434, 0.10092925491195957, 0.18840127583565788, 0.16821542485326596, 0.14802957387087404, 0.04037170196478383, 0.06055755294717575, 0.08074340392956766, 0.020185850982391916, 0.9360867933125878, 0.8395648899914827, 0.10494561124893534, 0.17534505666702463, 0.7013802266680985, 0.0677842602527223, 0.2033527807581669, 0.1355685205054446, 0.5422740820217784, 0.9360867933125878, 0.9239643714006844, 0.20672855911122925, 0.06890951970374308, 0.09187935960499077, 0.08039443965436693, 0.04593967980249539, 0.1952436391606054, 0.04593967980249539, 0.08039443965436693, 0.08039443965436693, 0.08039443965436693, 0.042078914294081525, 0.3366313143526522, 0.042078914294081525, 0.1683156571763261, 0.08415782858816305, 0.06311837144112228, 0.042078914294081525, 0.08415782858816305, 0.08415782858816305, 0.06311837144112228, 0.9152555026175009, 0.031560534573017274, 0.06312106914603455, 0.8644640532545256, 0.8624570152702262, 0.04773575942162524, 0.04773575942162524, 0.04773575942162524, 0.8592436695892542, 0.3939616443363124, 0.03939616443363124, 0.06566027405605207, 0.013132054811210414, 0.052528219244841655, 0.026264109622420827, 0.07879232886726248, 0.10505643848968331, 0.013132054811210414, 0.21011287697936662, 0.9215767021938248, 0.9239643714006448, 0.06951880118815319, 0.1274511355116142, 0.17379700297038297, 0.13903760237630639, 0.08110526805284539, 0.10427820178222978, 0.023172933729384396, 0.18538346983507517, 0.04634586745876879, 0.034759400594076596, 0.7379016039639626, 0.9257043274317276, 0.8450518034227615, 0.9162011814560463, 0.6892841236321418, 0.17232103090803544, 0.7563232972353362, 0.05042155314902241, 0.05042155314902241, 0.10084310629804483, 0.05042155314902241, 0.12973855308588536, 0.17298473744784715, 0.11892700699539491, 0.021623092180980893, 0.07568082263343312, 0.04324618436196179, 0.12973855308588536, 0.1405500991763758, 0.08649236872392357, 0.08649236872392357, 0.08378609047002505, 0.6702887237602004, 0.08378609047002505, 0.08378609047002505, 0.08378609047002505, 0.888850157745452, 0.12496786348912561, 0.104139886240938, 0.1631524884441362, 0.07289792036865661, 0.06595526128592741, 0.0971972271582088, 0.1353818521132194, 0.059012602203198206, 0.10761121578230261, 0.07636924991002121, 0.06906229481545037, 0.06906229481545037, 0.6906229481545038, 0.06906229481545037, 0.06906229481545037, 0.06906229481545037, 0.01849496325033763, 0.055484889751012886, 0.2034445957537139, 0.09247481625168814, 0.2034445957537139, 0.3698992650067526, 0.055484889751012886, 0.09549848567541636, 0.04774924283770818, 0.04774924283770818, 0.09549848567541636, 0.6207401568902062, 0.04774924283770818, 0.04774924283770818, 0.16334892088533676, 0.8167446044266838, 0.8322373059343293, 0.9239643714007043, 0.7379016453165859, 0.7796040717922054, 0.9360867933124334, 0.3439708125629263, 0.20781569925676796, 0.06449452735554868, 0.021498175785182892, 0.07166058595060965, 0.09315876173579253, 0.050162410165426746, 0.06449452735554868, 0.07166058595060965, 0.007166058595060964, 0.8935531577059329, 0.15569761703503437, 0.11862675583621667, 0.14828344479527084, 0.06672755015787188, 0.05189920567834479, 0.08155589463739896, 0.08155589463739896, 0.08155589463739896, 0.14828344479527084, 0.07414172239763542, 0.833709078051236, 0.8564594864588392, 0.09516216516209325, 0.15664992552775261, 0.052216641842584205, 0.15664992552775261, 0.052216641842584205, 0.15664992552775261, 0.2262721146511982, 0.1218388309660298, 0.0174055472808614, 0.0696221891234456, 0.1368260208422345, 0.0760144560234636, 0.09628497762972056, 0.06587919522033513, 0.16723180325161993, 0.09121734722815633, 0.09121734722815633, 0.06081156481877088, 0.09121734722815633, 0.126690760039106, 0.16243944480520647, 0.06617903306878782, 0.13235806613757564, 0.04211393013468316, 0.13235806613757564, 0.108292963203471, 0.1383743418711018, 0.108292963203471, 0.06016275733526166, 0.048130205868209326, 0.7217835134762539, 0.1738607401808001, 0.12207243459502987, 0.07768245837865537, 0.10727577585623838, 0.09247911711744687, 0.11097494054093625, 0.118373269910332, 0.06288579963986388, 0.06658496432456175, 0.07028412900925962, 0.1743795661498772, 0.10462773968992632, 0.13950365291990177, 0.03487591322997544, 0.0627766438139558, 0.1185781049819165, 0.13252847027390668, 0.055801461167960704, 0.10462773968992632, 0.06975182645995089, 0.9360867933124931, 0.1260780071221532, 0.1260780071221532, 0.22513929843241642, 0.1621002948713398, 0.05403343162377994, 0.1440891509967465, 0.0630390035610766, 0.0630390035610766, 0.03602228774918662, 0.9329237911354206, 0.9162011814559543, 0.8888501577452019, 0.12590625780147818, 0.8813438046103472, 0.7379016453182257, 0.04944493304846286, 0.13185315479590098, 0.08240822174743812, 0.08240822174743812, 0.21426137654333907, 0.24722466524231432, 0.06592657739795049, 0.06592657739795049, 0.04944493304846286, 0.032963288698975246, 0.8525304546648893, 0.12018484350237824, 0.8412939045166477, 0.8337090866598325, 0.8888501577450493, 0.11111520577221337, 0.09028110468992337, 0.04861290252534335, 0.08333640432916002, 0.0972258050506867, 0.06944700360763335, 0.18750690974061007, 0.08333640432916002, 0.16667280865832004, 0.06250230324687002, 0.09643549493531142, 0.08766863175937402, 0.05260117905562441, 0.06136804223156181, 0.10520235811124883, 0.06136804223156181, 0.21040471622249765, 0.13150294763906104, 0.07013490540749921, 0.12273608446312362, 0.9130161574689367, 0.10591191355255897, 0.10591191355255897, 0.7413833948679128, 0.9239643714004914, 0.15309033053383572, 0.1580287282929917, 0.12345994397889977, 0.09876795518311982, 0.17284392157045966, 0.06419917086902788, 0.059260773109871885, 0.06419917086902788, 0.09876795518311982, 0.014815193277467971, 0.15370322956855778, 0.07685161478427889, 0.15370322956855778, 0.07685161478427889, 0.5379613034899522, 0.925704317968178, 0.09197795613633399, 0.09197795613633399, 0.6438456929543379, 0.09197795613633399, 0.09197795613633399, 0.28596393701559614, 0.08578918110467885, 0.057192787403119234, 0.057192787403119234, 0.057192787403119234, 0.3145603307171558, 0.028596393701559617, 0.08578918110467885, 0.15976096939680826, 0.7988048469840413, 0.9130161574687231, 0.07010378957700428, 0.7010378957700427, 0.21031136873101283, 0.04003550752208922, 0.060053261283133826, 0.08007101504417843, 0.02001775376104461, 0.02001775376104461, 0.060053261283133826, 0.6405681203534275, 0.10008876880522305, 0.1995688527810134, 0.14967663958576005, 0.14967663958576005, 0.49892213195253354, 0.7796040717923197, 0.9494699814218173, 0.08620405760118405, 0.21551014400296012, 0.25861217280355214, 0.02873468586706135, 0.0574693717341227, 0.014367342933530675, 0.12930608640177607, 0.02873468586706135, 0.10057140053471472, 0.08620405760118405, 0.9090619979594661, 0.09090619979594661, 0.7796040717922079, 0.7796040717923197, 0.9379468303145726, 0.0339708951821703, 0.05661815863695051, 0.20382537109302182, 0.12455994900129111, 0.0679417903643406, 0.0339708951821703, 0.1698544759108515, 0.09058905381912082, 0.14720721245607132, 0.05661815863695051, 0.12240702362853462, 0.024481404725706923, 0.04896280945141385, 0.07344421417712077, 0.4406652850627246, 0.07344421417712077, 0.024481404725706923, 0.07344421417712077, 0.12240702362853462, 0.09838811539968269, 0.19677623079936538, 0.09838811539968269, 0.6887168077977789, 0.7921193760269998, 0.9162011814556811, 0.7217834142534854, 0.3825890541633803, 0.07651781083267606, 0.5356246758287324, 0.9243725635129082, 0.14404761569164864, 0.14404761569164864, 0.21607142353747294, 0.5041666549207702, 0.8337090866599, 0.9243725758999415, 0.2474336323948202, 0.7423008971844606, 0.862866894592044, 0.1078583618240055, 0.7379016453173382, 0.8450518467223153, 0.8588598641396121, 0.9239643714006255, 0.8588598641396304, 0.9617748881302194, 0.15486509703102172, 0.030973019406204345, 0.06194603881240869, 0.030973019406204345, 0.6504334075302912, 0.09291905821861304, 0.9162011814557475, 0.9077295864127553, 0.12061518001572126, 0.06030759000786063, 0.7839986701021882, 0.06030759000786063, 0.8888501577451876, 0.8525304546648208, 0.1372867348650483, 0.6864336743252415, 0.1372867348650483, 0.13100672821673137, 0.07860403693003883, 0.2751141292551359, 0.11790605539505825, 0.026201345643346276, 0.06550336410836569, 0.14410740103840453, 0.013100672821673138, 0.13100672821673137, 0.026201345643346276, 0.5661111699869394, 0.11322223399738789, 0.05661111699869394, 0.05661111699869394, 0.05661111699869394, 0.05661111699869394, 0.11322223399738789, 0.13097682007860523, 0.043658940026201735, 0.7422019804454295, 0.08731788005240347, 0.0695509851252038, 0.15648971653170854, 0.33036717934471804, 0.0695509851252038, 0.05216323884390285, 0.08693873140650475, 0.0695509851252038, 0.0695509851252038, 0.0347754925626019, 0.05216323884390285, 0.9257042456370647, 0.12426099773420912, 0.24852199546841824, 0.4970439909368365, 0.06213049886710456, 0.06213049886710456, 0.35131710866833105, 0.07026342173366622, 0.07026342173366622, 0.08782927716708276, 0.07026342173366622, 0.07026342173366622, 0.24592197606783175, 0.03513171086683311, 0.9239643714006797, 0.8888501577451065, 0.8888501573557159, 0.7839643915094702, 0.15679287830189403, 0.7201444676006519, 0.27005417535024445, 0.8784523956948014, 0.855725724695113, 0.8891111699924957, 0.8891111699924957, 0.7852741573259727, 0.8180834332685757, 0.10226042915857196, 0.9545809940926573, 0.04495890866740324, 0.16484933178047856, 0.059945211556537654, 0.28473975489355385, 0.029972605778268827, 0.029972605778268827, 0.07493151444567207, 0.13487672600220973, 0.11989042311307531, 0.059945211556537654, 0.8891111699926442, 0.06252259774216015, 0.1641218190731704, 0.11722987076655028, 0.15630649435540037, 0.05470727302439013, 0.15630649435540037, 0.0859685718954702, 0.10941454604878026, 0.04689194830662011, 0.04689194830662011, 0.7824667087046434, 0.7998373998717204, 0.0666531166559767, 0.0666531166559767, 0.0666531166559767, 0.9706769733171384, 0.7217835189700432, 0.17301101525790322, 0.23613665596011113, 0.11689933463371838, 0.09819544109232343, 0.053773693931510456, 0.11456134794104401, 0.07715356085825413, 0.021041880234069308, 0.053773693931510456, 0.05844966731685919, 0.125534831857431, 0.19726902149024872, 0.07173418963281772, 0.26900321112306647, 0.2331361163066576, 0.01793354740820443, 0.05380064222461329, 0.01793354740820443, 0.10784366378987306, 0.08295666445374851, 0.09125233089912337, 0.23227866047049583, 0.10784366378987306, 0.12443499668062276, 0.05806966511762396, 0.06636533156299881, 0.0497739986722491, 0.07466099800837366, 0.9706769478635582, 0.9814384498129471, 0.9413465619771105, 0.14752510801481863, 0.7376255400740931, 0.15649785348853784, 0.06259914139541513, 0.10433190232569188, 0.11476509255826108, 0.0938987120931227, 0.07303233162798432, 0.05216595116284594, 0.10433190232569188, 0.13563147302339945, 0.0938987120931227, 0.2216255027262634, 0.06044331892534457, 0.26192104867649313, 0.020147772975114855, 0.020147772975114855, 0.08059109190045942, 0.04029554595022971, 0.26192104867649313, 0.020147772975114855, 0.8337090780510262, 0.12258124807504103, 0.8580687365252873, 0.9092318791785651, 0.8557257244236459, 0.22086815601747112, 0.14724543734498075, 0.588981749379923, 0.80281498221238, 0.7379016453175599, 0.8906255613623787, 0.0636161115258842, 0.15208256801589407, 0.07604128400794703, 0.5322889880556292, 0.22812385202384108, 0.8028149822121422, 0.913016157468836, 0.9395727224947482, 0.9360867933125878, 0.8525305191970151, 0.07030233854565274, 0.7733257240021801, 0.07030233854565274, 0.07030233854565274, 0.8888501577450493, 0.7921193710160962, 0.7796040717921839, 0.9257043940290947, 0.8588598641396386, 0.9126934511501013, 0.9582603841219937, 0.9671832311644162, 0.06907672646632666, 0.10361508969948999, 0.09498049889119917, 0.16405722535752582, 0.33674904152334245, 0.03453836323316333, 0.051807544849744994, 0.043172954041454166, 0.10361508969948999, 0.9397179020474221, 0.9711804797737335, 0.12307041108318575, 0.8614928775823003, 0.9239643714005862, 0.01669393419034045, 0.0333878683806809, 0.08346967095170225, 0.11685753933238315, 0.05008180257102135, 0.2003272102840854, 0.0667757367613618, 0.0333878683806809, 0.38396048637783037, 0.0333878683806809, 0.9360867933125485, 0.9130161574687018, 0.8888501577450465, 0.17103544094023948, 0.6841417637609579, 0.8644640532544647, 0.09756273346713189, 0.16028163355314523, 0.19512546693426377, 0.09059396679090818, 0.06968766676223706, 0.07665643343846076, 0.13937533352447412, 0.09756273346713189, 0.05575013340978965, 0.013937533352447412, 0.958260381520685, 0.9257043940289502, 0.9453254535981556, 0.9294121993901778, 0.0516340110772321, 0.16763342113391014, 0.01862593568154557, 0.01862593568154557, 0.05587780704463671, 0.03725187136309114, 0.07450374272618228, 0.39114464931245696, 0.11175561408927343, 0.07450374272618228, 0.05587780704463671, 0.9534165285005508, 0.09463694887163455, 0.03154564962387819, 0.015772824811939094, 0.2681380218029646, 0.11040977368357364, 0.015772824811939094, 0.12618259849551275, 0.33122932105072095, 0.0732635578363113, 0.10256898097083582, 0.0952426251872047, 0.21246431772530278, 0.12454804832172921, 0.06593720205268017, 0.13187440410536033, 0.08791626940357355, 0.0732635578363113, 0.03663177891815565, 0.936086793312369, 0.9711804797732215, 0.9130161574687231, 0.21402357703395294, 0.0687932926180563, 0.08408069097762437, 0.07643699179784035, 0.1528739835956807, 0.045862195078704204, 0.0687932926180563, 0.08408069097762437, 0.1375865852361126, 0.053505894258488236, 0.2649989435523287, 0.16987111766174917, 0.10871751530351947, 0.002264948235489989, 0.07700824000665962, 0.09286287765508955, 0.08606803294861959, 0.04756391294528977, 0.09286287765508955, 0.061153602358229704, 0.018758401220648556, 0.13130880854453988, 0.09379200610324279, 0.09379200610324279, 0.22510081464778267, 0.11255040732389134, 0.24385921586843123, 0.03751680244129711, 0.03751680244129711, 0.018758401220648556, 0.04621712312154525, 0.10398852702347681, 0.05777140390193156, 0.4621712312154525, 0.184868492486181, 0.10398852702347681, 0.011554280780386313, 0.04621712312154525, 0.09072439920522193, 0.9072439920522194, 0.16031406472391369, 0.8015703236195684, 0.5501033788807576, 0.022920974120031568, 0.045841948240063136, 0.045841948240063136, 0.18336779296025255, 0.045841948240063136, 0.045841948240063136, 0.045841948240063136, 0.022920974120031568, 0.06679914688080484, 0.17176923483635528, 0.07634188214949124, 0.2290256464484737, 0.11451282322423685, 0.11451282322423685, 0.07634188214949124, 0.06679914688080484, 0.03817094107474562, 0.04771367634343202, 0.16065191096344197, 0.10710127397562799, 0.10710127397562799, 0.09371361472867448, 0.12048893322258149, 0.040162977740860493, 0.053550636987813996, 0.18742722945734897, 0.053550636987813996, 0.053550636987813996, 0.286360068735679, 0.7159001718391975, 0.9376082336686719, 0.8624570152705986, 0.9312314078757303, 0.9360867933125709, 0.7379016453181451, 0.03806435882995276, 0.07612871765990552, 0.03806435882995276, 0.07612871765990552, 0.07612871765990552, 0.03806435882995276, 0.03806435882995276, 0.6470941001091969, 0.9360867933125878, 0.2793298107184581, 0.6983245267961452, 0.12224273537155853, 0.12224273537155853, 0.7334564122293512, 0.08539047831125496, 0.04269523915562748, 0.12808571746688244, 0.17078095662250992, 0.12808571746688244, 0.04269523915562748, 0.38425715240064734, 0.8710954254066868, 0.1837508255226614, 0.6431278893293149, 0.0918754127613307, 0.0918754127613307, 0.0918754127613307, 0.11376082346809253, 0.7963257642766477, 0.8837581200978377, 0.09819534667753753, 0.9545809940926105, 0.9097678725727236, 0.0695613611263247, 0.48692952788427296, 0.04637424075088314, 0.09274848150176628, 0.16230984262809098, 0.04637424075088314, 0.02318712037544157, 0.02318712037544157, 0.02318712037544157, 0.15521689578138884, 0.07760844789069442, 0.07760844789069442, 0.6984760310162497, 0.07760844789069442, 0.8215919532333215, 0.10269899415416518, 0.9618701399823952, 0.8028151544087154, 0.9175200562787805, 0.05397176801639886, 0.9162011814557317, 0.7796040717922095, 0.9438601336167741, 0.09905766465202896, 0.15849226344324632, 0.0924538203418937, 0.23113455085473422, 0.1452845748229758, 0.08584997603175842, 0.04622691017094685, 0.05283075448108211, 0.059434598791217375, 0.026415377240541056, 0.9162011814557283, 0.9124354502964886, 0.8891111699925272, 0.8872569678832474, 0.9517666755323849, 0.07975953155007927, 0.10634604206677235, 0.1196392973251189, 0.039879765775039634, 0.2392785946502378, 0.15951906310015854, 0.05317302103338618, 0.06646627629173273, 0.09305278680842581, 0.02658651051669309, 0.112739080980146, 0.04384297593672344, 0.17537190374689376, 0.05010625821339822, 0.18789846830024334, 0.04384297593672344, 0.09394923415012167, 0.16284533919354421, 0.05010625821339822, 0.06889610504342256, 0.16964129435002503, 0.15550451982085628, 0.08482064717501252, 0.07068387264584376, 0.11780645440973961, 0.09424516352779169, 0.0895329053514021, 0.11780645440973961, 0.0612593562930646, 0.047122581763895846, 0.10911474003177665, 0.1527606360444873, 0.12366337203601353, 0.09456610802753976, 0.1163890560338951, 0.12366337203601353, 0.07274316002118443, 0.08001747602330288, 0.05819452801694755, 0.08001747602330288, 0.9130161574694735, 0.9130161574688597, 0.9239643714006261, 0.737901645317654, 0.9360867933125128, 0.9246994066187076, 0.0886932730258345, 0.0886932730258345, 0.709546184206676, 0.0886932730258345, 0.9048968481029169, 0.5556933042378024, 0.01949801067501061, 0.08286654536879509, 0.014623508006257956, 0.08774104803754774, 0.034121518681268566, 0.06824303736253713, 0.029247016012515913, 0.058494032025031825, 0.048745026687526526, 0.19202934599257804, 0.11201711849567052, 0.08401283887175288, 0.10801650712082514, 0.10801650712082514, 0.05600855924783526, 0.07201100474721676, 0.1960299573674234, 0.04400672512329913, 0.024003668249072255, 0.24862967313924034, 0.09562679736124628, 0.07650143788899703, 0.07650143788899703, 0.0669387581528724, 0.14344019604186942, 0.04781339868062314, 0.15300287577799407, 0.03825071894449852, 0.04781339868062314, 0.8473935436022875, 0.08919932037918815, 0.044599660189594076, 0.916089194157712, 0.058549210298746296, 0.11709842059749259, 0.15055511219677617, 0.22583266829516427, 0.09200590189802989, 0.08364172899820899, 0.08364172899820899, 0.1338267663971344, 0.050185037398925395, 0.0083641728998209, 0.05733088712687846, 0.11466177425375693, 0.5733088712687846, 0.11466177425375693, 0.05733088712687846, 0.05733088712687846, 0.8337090780512478, 0.9638987998967342, 0.6945524752158543, 0.17363811880396357, 0.6945524934382139, 0.17363812335955348, 0.08427405179410588, 0.2528221553823176, 0.09831972709312352, 0.056182701196070585, 0.14045675299017646, 0.11236540239214117, 0.09831972709312352, 0.08427405179410588, 0.07022837649508823, 0.028091350598035292, 0.03425274791489504, 0.13701099165958017, 0.17126373957447522, 0.06850549582979008, 0.41103297497874053, 0.03425274791489504, 0.06850549582979008, 0.03425274791489504, 0.7217835189710071, 0.8438293140518202, 0.9610210909313135, 0.889111169992217, 0.03138840948987015, 0.15694204744935072, 0.1255536379594806, 0.1255536379594806, 0.0627768189797403, 0.03138840948987015, 0.03138840948987015, 0.1255536379594806, 0.31388409489870145, 0.16159708113773982, 0.08079854056886991, 0.08079854056886991, 0.7271868651198291, 0.13037571300161055, 0.222121585113855, 0.09174587211224446, 0.0724309516675614, 0.09174587211224446, 0.1352044431127813, 0.048287301111707606, 0.06760222155639065, 0.09657460222341521, 0.038629840889366086, 0.17655741687076765, 0.11580647773243899, 0.0892279418594202, 0.05315707174603757, 0.09872027609978405, 0.10631414349207514, 0.140486546757385, 0.10821261034014791, 0.04746167120181926, 0.06454787283447419, 0.13984503119185182, 0.12819127859253082, 0.06992251559592591, 0.04661501039728394, 0.20976754678777773, 0.12819127859253082, 0.10488377339388887, 0.09323002079456788, 0.058268762996604925, 0.02330750519864197, 0.17281445352913222, 0.16685533444192077, 0.08541404025003087, 0.09137315933724233, 0.09733227842445377, 0.08938678630817183, 0.07548217510467845, 0.07746854813374893, 0.09534590539538329, 0.049659325726762134, 0.12985673692147034, 0.1640295624271204, 0.10935304161808028, 0.06834565101130018, 0.10251847651695026, 0.12302217182034032, 0.06834565101130018, 0.0820147812135602, 0.10935304161808028, 0.047841955707910125, 0.08724387766115452, 0.1526767859070204, 0.11996033178408747, 0.13631855884555394, 0.13086581649173176, 0.10360210472262099, 0.09269662001497668, 0.10360210472262099, 0.0381691964767551, 0.03271645412293294, 0.9243725758998966, 0.8624570152706638, 0.9517666755325305, 0.9783528592856267, 0.9582603841220664, 0.9130161574686874, 0.959194690341709, 0.09936658508896974, 0.06624439005931317, 0.13248878011862633, 0.4140274378707072, 0.09936658508896974, 0.08280548757414145, 0.01656109751482829, 0.04968329254448487, 0.01656109751482829, 0.8525304546648911, 0.9453254535981556, 0.9130161574703514, 0.154544027679364, 0.7727201383968201, 0.08677961016151456, 0.17355922032302912, 0.7810164914536311, 0.07085333914620888, 0.047235559430805915, 0.07085333914620888, 0.07085333914620888, 0.3778844754464473, 0.023617779715402958, 0.14170667829241776, 0.1180888985770148, 0.047235559430805915, 0.023617779715402958, 0.8260394970128003, 0.9373259972001773, 0.9694268584701093, 0.8900076480424423, 0.08900076480424422, 0.9360867933125878, 0.8238389755747648, 0.7834069610514856, 0.05222713073676571, 0.05222713073676571, 0.05222713073676571, 0.05222713073676571, 0.8879728357810539, 0.9312314240071808, 0.10523404501260088, 0.3683191575441031, 0.06577127813287555, 0.1315425562657511, 0.09207978938602578, 0.10523404501260088, 0.01315425562657511, 0.01315425562657511, 0.02630851125315022, 0.07892553375945066, 0.9239643714007016, 0.7379016453181009, 0.7852741573259624, 0.38482058414978076, 0.08551568536661795, 0.09976829959438761, 0.07126307113884829, 0.08551568536661795, 0.05701045691107863, 0.07126307113884829, 0.042757842683308976, 0.05701045691107863, 0.028505228455539315, 0.22007452613105838, 0.036679087688509734, 0.0953656279901253, 0.08069399291472142, 0.08069399291472142, 0.12470889814093308, 0.13938053321633698, 0.0953656279901253, 0.05868654030161557, 0.06602235783931752, 0.869512137951459, 0.2565787307866695, 0.04527859955058874, 0.10565006561804038, 0.07546433258431456, 0.22639299775294366, 0.10565006561804038, 0.07546433258431456, 0.04527859955058874, 0.06037146606745165, 0.9162011814557283, 0.9308154448853031, 0.20155408279174908, 0.7054392897711218, 0.8624570152705942, 0.08347208401920604, 0.11129611202560806, 0.05564805601280403, 0.13912014003201006, 0.08347208401920604, 0.5564805601280403, 0.9814384499895316, 0.11977622188024, 0.11977622188024, 0.7186573312814399, 0.12760542479823547, 0.1515314419479046, 0.07177805144900745, 0.07975339049889717, 0.1435561028980149, 0.055827373349228014, 0.11165474669845603, 0.055827373349228014, 0.1515314419479046, 0.0478520342993383, 0.10571693334383876, 0.2819118222502367, 0.08809744445319898, 0.22905335557831732, 0.07047795556255917, 0.03523897778127959, 0.05285846667191938, 0.017619488890639794, 0.03523897778127959, 0.07047795556255917, 0.8557258846415648, 0.8028149822124396, 0.8784524000443514, 0.9044214558375275, 0.8450518467219709, 0.8784523956948014, 0.9360867933125878, 0.10958634857683776, 0.04696557796150189, 0.1722071191921736, 0.06262077061533586, 0.03131038530766793, 0.015655192653833964, 0.03131038530766793, 0.12524154123067172, 0.3444142383843472, 0.06262077061533586, 0.7852741573260104, 0.8588598641396078, 0.9312314078758208, 0.05863136851469171, 0.05130244745035524, 0.2784990004447856, 0.24918331618743975, 0.11726273702938342, 0.07328921064336463, 0.014657842128672927, 0.02198676319300939, 0.0806181317077011, 0.04397352638601878, 0.7852741573259734, 0.9239643714003855, 0.9239643714007016, 0.16741767093600438, 0.08370883546800219, 0.08370883546800219, 0.08370883546800219, 0.08370883546800219, 0.5859618482760153, 0.9162011814558145, 0.06322431669406149, 0.12644863338812298, 0.758691800328738, 0.026458249634976342, 0.07937474890492903, 0.052916499269952684, 0.4497902437945978, 0.07937474890492903, 0.052916499269952684, 0.026458249634976342, 0.10583299853990537, 0.10583299853990537, 0.026458249634976342, 0.8681442175656627, 0.08681442175656627, 0.09765982572649706, 0.09765982572649706, 0.04882991286324853, 0.04882991286324853, 0.04882991286324853, 0.6836187800854795, 0.9324406422259547, 0.06660290301613962, 0.11436524918745523, 0.8005567443121866, 0.11436524918745523, 0.7217835189709148, 0.22942471780689136, 0.8029865123241198, 0.9545809940926399, 0.904421455836816, 0.9395727224961123, 0.843816811550598, 0.15157240432519362, 0.7578620216259682, 0.08216144544244326, 0.5751301180971028, 0.08216144544244326, 0.24648433632732977, 0.7796040548683411, 0.02133138668193922, 0.07465985338678728, 0.3306364935700579, 0.3199708002290883, 0.07465985338678728, 0.01066569334096961, 0.11732262675066572, 0.02133138668193922, 0.03199708002290883, 0.852530454664811, 0.852530454664811, 0.8683819099497505, 0.12405455856425009, 0.8872569678829505, 0.8322373059341538, 0.7860437822363262, 0.11229196889090375, 0.11229196889090375, 0.8891111699924608, 0.833709078051029, 0.9803731515809174, 0.8588598641396121, 0.08040741779757136, 0.04020370889878568, 0.04020370889878568, 0.08040741779757136, 0.08040741779757136, 0.04020370889878568, 0.08040741779757136, 0.08040741779757136, 0.06030556334817853, 0.4422407978866425, 0.15327772040422813, 0.15327772040422813, 0.07663886020211406, 0.6131108816169125, 0.9446159535933171, 0.9604802658455718, 0.9044214099756821, 0.16990159965728802, 0.4757244790404065, 0.03398031993145761, 0.03398031993145761, 0.13592127972583043, 0.06796063986291521, 0.03398031993145761, 0.7796040717922191, 0.3480440832985339, 0.08701102082463348, 0.5655716353601176, 0.04350551041231674, 0.866503584981446, 0.9130161574687736, 0.9360867933124754, 0.9534165285005546, 0.06113967752618847, 0.12227935505237694, 0.06113967752618847, 0.5502570977356962, 0.1834190325785654, 0.7852741573260987, 0.8158502621342993, 0.08158502621342993, 0.08158502621342993, 0.9395731387448087, 0.8337090780510897, 0.8260394970114979, 0.7217835189710071, 0.9239643714007016, 0.09468489753012121, 0.1352641393287446, 0.14202734629518182, 0.07439527663080953, 0.11497451842943289, 0.1623169671944935, 0.10821131146299566, 0.04057924179862338, 0.08792169056368399, 0.04057924179862338, 0.8784523956948014, 0.8863327639500012, 0.9130161574686874, 0.09109806574798439, 0.7287845259838751, 0.09109806574798439, 0.7217835189704565, 0.8710954175609639, 0.7824667087044271, 0.7217834574486276, 0.801033406618349, 0.13350556776972483, 0.9257043940290737, 0.09401376877733206, 0.04700688438866603, 0.04700688438866603, 0.09401376877733206, 0.6580963814413244, 0.04700688438866603, 0.04700688438866603, 0.03789249211919878, 0.08841581494479717, 0.10104664565119677, 0.08841581494479717, 0.050523322825598384, 0.13893913777039554, 0.012630830706399596, 0.012630830706399596, 0.10104664565119677, 0.36629409048558825, 0.825728890960784, 0.103216111370098, 0.103216111370098, 0.792119376026953, 0.13464294462511994, 0.11338353231589049, 0.10629706154614733, 0.08503764923691787, 0.18424824001332205, 0.11338353231589049, 0.056691766157945245, 0.07795117846717471, 0.021259412309229467, 0.09921059077640418, 0.10498547671120395, 0.09748651408897509, 0.07498962622228854, 0.029995850488915413, 0.1124844393334328, 0.08248858884451739, 0.18747406555572133, 0.1274823645778905, 0.11998340195566165, 0.059991700977830825, 0.14723410712887916, 0.15424525508739723, 0.11217836733628889, 0.05608918366814444, 0.09114492346073472, 0.10516721937777083, 0.11918951529480694, 0.049078035709626384, 0.09114492346073472, 0.07712262754369861, 0.2464364757423919, 0.07393094272271757, 0.10843204932665243, 0.054216024663326215, 0.054216024663326215, 0.09857459029695675, 0.07393094272271757, 0.13800442641573946, 0.06407348369302189, 0.09364586078210892, 0.3131334927553561, 0.12177413607152737, 0.05218891545922602, 0.034792610306150676, 0.034792610306150676, 0.017396305153075338, 0.2609445772961301, 0.06958522061230135, 0.017396305153075338, 0.0869815257653767, 0.9162011814557509, 0.5627591261811474, 0.11255182523622947, 0.05627591261811474, 0.11255182523622947, 0.05627591261811474, 0.05627591261811474, 0.8891111699926442, 0.035549983854928434, 0.14219993541971374, 0.2132999031295706, 0.4621497901140696, 0.035549983854928434, 0.1066499515647853, 0.9618701051736305, 0.1720910021082771, 0.1720910021082771, 0.6023185073789699, 0.10870444675578723, 0.6522266805347234, 0.10870444675578723, 0.13242400942007584, 0.6290140447453603, 0.08276500588754741, 0.06621200471003792, 0.03310600235501896, 0.03310600235501896, 0.01655300117750948, 0.0891904889464841, 0.254829968418526, 0.1146734857883367, 0.127414984209263, 0.0382244952627789, 0.0764489905255578, 0.1146734857883367, 0.0764489905255578, 0.0509659936837052, 0.0637074921046315, 0.8322373059344548, 0.7231659137811312, 0.0451978696113207, 0.1807914784452828, 0.0451978696113207, 0.0451978696113207, 0.15800651348620384, 0.168200482098217, 0.10193968612013152, 0.07645476459009863, 0.09684270181412494, 0.030581905836039452, 0.09174571750811836, 0.15290952918019726, 0.05606682736607233, 0.07135778028409205, 0.8891111699922819, 0.7217835189710071, 0.13711323582653828, 0.11291678244538446, 0.14517872028692289, 0.12098226690576906, 0.048392906762307626, 0.08872032906423065, 0.1855061425888459, 0.04032742230192302, 0.07258936014346144, 0.04032742230192302, 0.0862098436005025, 0.0862098436005025, 0.172419687201005, 0.6034689052035176, 0.0862098436005025, 0.5372629894347704, 0.04356186400822462, 0.058082485344299495, 0.029041242672149747, 0.029041242672149747, 0.10164434935252412, 0.04356186400822462, 0.029041242672149747, 0.04356186400822462, 0.08712372801644924, 0.8525304547396897, 0.7852741573259564, 0.8028149822124019, 0.9360867933124861, 0.13729354077869385, 0.8237612446721632, 0.038462087271695936, 0.07692417454339187, 0.07692417454339187, 0.6923175708905269, 0.11538626181508782, 0.8058084315007956, 0.11511549021439937, 0.11511549021439937, 0.9591946938719775, 0.9162011814556626, 0.11170556556786436, 0.0601491506903885, 0.02577820743873793, 0.07733462231621378, 0.1804474520711655, 0.02577820743873793, 0.0601491506903885, 0.1374837730066023, 0.07733462231621378, 0.24918933857446665, 0.14438189501630302, 0.19016152026537472, 0.0880377408635994, 0.09860226976723134, 0.1338173661126711, 0.13733887574721507, 0.0880377408635994, 0.04225811561452772, 0.05634415415270362, 0.02112905780726386, 0.8557257246952481, 0.9582603841219937, 0.8644640532545256, 0.7217834142534852, 0.11530086582324511, 0.12743779906779723, 0.1759855320460057, 0.04854773297820847, 0.15171166555690146, 0.103163932578693, 0.09102699933414088, 0.060684666222760586, 0.03641079973365635, 0.08495853271186482, 0.7379016453147481, 0.9130161574692425, 0.9239643714006125, 0.7399330542682544, 0.10570472203832207, 0.10570472203832207, 0.8525304546649672, 0.8872569678830755, 0.8337090780514227, 0.7796040621474709, 0.8256271099612679, 0.05504180733075119, 0.05504180733075119, 0.05504180733075119, 0.05504180733075119, 0.9243725758999496, 0.20870036869676997, 0.730451290438695, 0.10435018434838499], \"Term\": [\"amp\", \"amp\", \"apos\", \"\\uac00\\ub2a5\", \"\\uac00\\ub2a5\", \"\\uac00\\ub2a5\", \"\\uac00\\ub2a5\", \"\\uac00\\ub2a5\", \"\\uac00\\ub2a5\", \"\\uac00\\ub2a5\", \"\\uac00\\ub2a5\", \"\\uac00\\ub2a5\", \"\\uac00\\ub2a5\", \"\\uac00\\ub2a5\\ud55c\", \"\\uac00\\ub2a5\\ud55c\", \"\\uac00\\ub2a5\\ud55c\", \"\\uac00\\ub2a5\\ud55c\", \"\\uac00\\ub2a5\\ud55c\", \"\\uac00\\ub2a5\\ud55c\", \"\\uac00\\ub2a5\\ud55c\", \"\\uac00\\ub2a5\\ud55c\", \"\\uac00\\ub2a5\\ud55c\", \"\\uac00\\ub2a5\\ud55c\", \"\\uac00\\ub2a5\\ud569\\ub2c8\\ub2e4\", \"\\uac00\\ub2a5\\ud569\\ub2c8\\ub2e4\", \"\\uac00\\ub2a5\\ud569\\ub2c8\\ub2e4\", \"\\uac00\\ub2a5\\ud569\\ub2c8\\ub2e4\", \"\\uac00\\ub2a5\\ud569\\ub2c8\\ub2e4\", \"\\uac00\\ub2a5\\ud569\\ub2c8\\ub2e4\", \"\\uac00\\ub2a5\\ud569\\ub2c8\\ub2e4\", \"\\uac00\\ub2a5\\ud569\\ub2c8\\ub2e4\", \"\\uac00\\ub2a5\\ud569\\ub2c8\\ub2e4\", \"\\uac00\\ub2a5\\ud569\\ub2c8\\ub2e4\", \"\\uac00\\uc785\\uc790\\uac00\", \"\\uac04\\ubd09\\uc774\", \"\\uac10\\uc9c0\\uae30\\uc8fc\\ud0dd\\uc6a9\", \"\\uac15\\uc88c\", \"\\uac15\\uc88c\", \"\\uac15\\uc88c\", \"\\uac15\\uc88c\", \"\\uac15\\uc88c\", \"\\uac1c\\uc6d4\\ub9c8\\ub2e4\", \"\\uac1c\\uc6d4\\ucc28\", \"\\uac1c\\uc778\\ud68c\\uc0dd\", \"\\uac74\\uac15\\uccb4\\uc911\", \"\\uac74\\uc124\\uae30\\uacc4\\ub364\\ud504\\ud2b8\\ub7ed\", \"\\uac74\\uc124\\uae30\\uc220\\uad00\\ub9ac\\ubc95\\uc5d0\", \"\\uac74\\uc124\\uae30\\uc220\\uad00\\ub9ac\\ubc95\\uc5d0\", \"\\uac74\\uc124\\uae30\\uc220\\uc790\", \"\\uac74\\ucd95\\ubb3c\", \"\\uac74\\ucd95\\ubb3c\", \"\\uac74\\ucd95\\ubb3c\", \"\\uac74\\ucd95\\ubb3c\", \"\\uac74\\ucd95\\ubb3c\", \"\\uac74\\ucd95\\ubb3c\", \"\\uac74\\ucd95\\ubb3c\", \"\\uac74\\ucd95\\ubb3c\", \"\\uac74\\ucd95\\ubb3c\", \"\\uac74\\ucd95\\ubb3c\", \"\\uac74\\ucd95\\ubb3c\\ub300\\uc7a5\", \"\\uac74\\ucd95\\ubb3c\\ub300\\uc7a5\", \"\\uac74\\ucd95\\ubb3c\\ub300\\uc7a5\", \"\\uac74\\ucd95\\ubb3c\\ub300\\uc7a5\", \"\\uac74\\ucd95\\ubb3c\\uc758\", \"\\uac74\\ucd95\\ubb3c\\uc758\", \"\\uac74\\ucd95\\ubb3c\\uc758\", \"\\uac74\\ucd95\\ubb3c\\uc758\", \"\\uac74\\ucd95\\ubb3c\\uc758\", \"\\uac74\\ucd95\\ubb3c\\uc758\", \"\\uac74\\ucd95\\ubb3c\\uc758\", \"\\uac74\\ucd95\\ubb3c\\uc758\", \"\\uac74\\ucd95\\ubb3c\\uc758\", \"\\uac74\\ucd95\\ud558\\ub294\", \"\\uac74\\ucd95\\ud558\\ub294\", \"\\uac74\\ucd95\\ud558\\ub294\", \"\\uac74\\ucd95\\ud558\\ub294\", \"\\uac74\\ucd95\\ud558\\ub294\", \"\\uac77\\uae30\", \"\\uac77\\uae30\", \"\\uac77\\uae30\", \"\\uac83\\uc744\", \"\\uac83\\uc744\", \"\\uac83\\uc744\", \"\\uac83\\uc744\", \"\\uac83\\uc744\", \"\\uac83\\uc744\", \"\\uac83\\uc744\", \"\\uac83\\uc744\", \"\\uac83\\uc744\", \"\\uac83\\uc744\", \"\\uac83\\uc774\\ub2e4\", \"\\uac83\\uc774\\ub2e4\", \"\\uac8c\\uc2dc\\ubb3c\", \"\\uac8c\\uc2dc\\ubb3c\", \"\\uac8c\\uc2dc\\ubb3c\", \"\\uac8c\\uc784\\ud615\\ud0dc\", \"\\uaca8\\uc6b8\\ucca0\\uc0c8\", \"\\uacb0\\uc7ac\\uc811\\uc218\\uc9c4\\ud589\\uc758\", \"\\uacb8\\uc9c1\\ud5c8\\uac00\", \"\\uacbd\\uc6b0\\uc5d0\\ub294\", \"\\uacbd\\uc6b0\\uc5d0\\ub294\", \"\\uacbd\\uc6b0\\uc5d0\\ub294\", \"\\uacbd\\uc6b0\\uc5d0\\ub294\", \"\\uacbd\\uc6b0\\uc5d0\\ub294\", \"\\uacbd\\uc6b0\\uc5d0\\ub294\", \"\\uacbd\\uc6b0\\uc5d0\\ub294\", \"\\uacbd\\uc6b0\\uc5d0\\ub294\", \"\\uacbd\\uc6b0\\uc5d0\\ub294\", \"\\uacbd\\uc6b0\\uc5d0\\ub294\", \"\\uacbd\\uc804\\ucca0\", \"\\uacc4\\uc57d\\uc2ec\\uc0ac\", \"\\uace0\\uc555\\uac00\\uc2a4\\ucda9\\uc804\\uc800\\uc7a5\\uc18c\", \"\\uace0\\uc6b4\\ub9d8\", \"\\uacf3\\uc784\", \"\\uacf3\\uc784\", \"\\uacf5\\uac1c\", \"\\uacf5\\uac1c\", \"\\uacf5\\uac1c\", \"\\uacf5\\uac1c\", \"\\uacf5\\uacf5\\uc6a9\\uc2dc\\uc124\", \"\\uacf5\\ub3d9\\uc8fc\\ud0dd\", \"\\uacf5\\ub3d9\\uc8fc\\ud0dd\", \"\\uacf5\\ub3d9\\uc8fc\\ud0dd\", \"\\uacf5\\ub3d9\\uc8fc\\ud0dd\", \"\\uacf5\\ub3d9\\uc8fc\\ud0dd\", \"\\uacf5\\ub3d9\\uc8fc\\ud0dd\", \"\\uacf5\\ub3d9\\uc8fc\\ud0dd\", \"\\uacf5\\ub3d9\\uc8fc\\ud0dd\\uc758\", \"\\uacf5\\ub3d9\\uc8fc\\ud0dd\\uc758\", \"\\uacf5\\ub3d9\\uc8fc\\ud0dd\\uc758\", \"\\uacf5\\ub3d9\\uc8fc\\ud0dd\\uc758\", \"\\uacf5\\ub3d9\\uc8fc\\ud0dd\\uc758\", \"\\uacf5\\ubb34\\uc6d0\", \"\\uacf5\\ubb34\\uc6d0\", \"\\uacf5\\ubb34\\uc6d0\", \"\\uacf5\\ubb34\\uc6d0\", \"\\uacf5\\ubb34\\uc6d0\", \"\\uacf5\\ubb34\\uc6d0\", \"\\uacf5\\ubb34\\uc6d0\", \"\\uacf5\\ubb34\\uc6d0\", \"\\uacf5\\ubb34\\uc6d0\", \"\\uacf5\\ubd80\\ubc29\", \"\\uacf5\\ubd80\\ubc29\", \"\\uacf5\\ubd80\\ubc29\", \"\\uacf5\\uc601\\ucc28\\uace0\\uc9c0\", \"\\uacf5\\uc601\\ucc28\\uace0\\uc9c0\", \"\\uacf5\\uc601\\ucc28\\uace0\\uc9c0\", \"\\uacf5\\uc7a5\\uac74\\ucd95\", \"\\uacf5\\uc81c\\ud68c\", \"\\uad00\\uad11\\ubb38\\ud654\\uacfc\", \"\\uad00\\uad11\\ubc84\\uc2a4\", \"\\uad00\\uad11\\ubc84\\uc2a4\", \"\\uad00\\uad11\\ubc84\\uc2a4\", \"\\uad00\\ub828\", \"\\uad00\\ub828\", \"\\uad00\\ub828\", \"\\uad00\\ub828\", \"\\uad00\\ub828\", \"\\uad00\\ub828\", \"\\uad00\\ub828\", \"\\uad00\\ub828\", \"\\uad00\\ub828\", \"\\uad00\\ub828\", \"\\uad00\\ub828\\uc885\\ubaa9\\uc758\", \"\\uad00\\ub9ac\\uaddc\\uc57d\\uc5d0\", \"\\uad00\\ub9ac\\uaddc\\uc57d\\uc758\", \"\\uad00\\uc2ec\\uc5d0\", \"\\uad00\\uc2ec\\uc5d0\", \"\\uad00\\uc2ec\\uc5d0\", \"\\uad00\\uc2ec\\uc5d0\", \"\\uad00\\uc2ec\\uc5d0\", \"\\uad00\\ucc30\", \"\\uad00\\ucc30\", \"\\uad00\\ucc30\", \"\\uad00\\ud55c\", \"\\uad00\\ud55c\", \"\\uad00\\ud55c\", \"\\uad00\\ud55c\", \"\\uad00\\ud55c\", \"\\uad00\\ud55c\", \"\\uad00\\ud55c\", \"\\uad00\\ud55c\", \"\\uad00\\ud55c\", \"\\uad00\\ud55c\", \"\\uad00\\ud560\", \"\\uad00\\ud560\", \"\\uad00\\ud560\", \"\\uad00\\ud560\", \"\\uad00\\ud560\", \"\\uad00\\ud560\", \"\\uad00\\ud560\", \"\\uad00\\ud560\", \"\\uad00\\ud560\", \"\\uad00\\ud560\", \"\\uad00\\ud560\\uc9c0\", \"\\uad11\\uc9c4\\uad50\", \"\\uad11\\uc9c4\\uad50\", \"\\uad11\\ud654\\ubb38\\uc2dc\\ubbfc\\uc5f4\\ub9b0\\ub9c8\\ub2f9\", \"\\uad50\\ubcf5\", \"\\uad50\\uc721\", \"\\uad50\\uc721\", \"\\uad50\\uc721\", \"\\uad50\\uc721\", \"\\uad50\\uc721\", \"\\uad50\\uc721\", \"\\uad50\\uc721\", \"\\uad50\\uc721\", \"\\uad50\\uc721\", \"\\uad50\\uc721\\uae09\\uc5ec\", \"\\uad50\\uc721\\uc5f0\\uad6c\", \"\\uad50\\ud1b5\\uacf5\\uc6d0\", \"\\uad50\\ud1b5\\ub7c9\", \"\\uad50\\ud1b5\\ub7c9\", \"\\uad6c\\ubd84\", \"\\uad6c\\ubd84\", \"\\uad6c\\ubd84\", \"\\uad6c\\ubd84\", \"\\uad6c\\ubd84\", \"\\uad6c\\ubd84\", \"\\uad6c\\ubd84\", \"\\uad6c\\ubd84\", \"\\uad6c\\ubd84\", \"\\uad6c\\ubd84\", \"\\uad6c\\uc131\\uc6d0\\uc758\", \"\\uad6c\\uc5ed\\uc9c0\\uc815\", \"\\uad6c\\uc758\\uc544\\ub9ac\\uc218\\uc815\\uc218\\uc13c\\ud130\", \"\\uad6d\\uac00\\uae30\\uc220\\uc790\\uaca9\\ubc95\\uc5d0\", \"\\uad6d\\uac00\\uae30\\uc220\\uc790\\uaca9\\ubc95\\uc5d0\", \"\\uad6d\\ubbfc\\uac74\\uac15\\ubcf4\\ud5d8\\uacf5\\ub2e8\", \"\\uad6d\\ubbfc\\uac74\\uac15\\ubcf4\\ud5d8\\uacf5\\ub2e8\", \"\\uad81\\ub3d9\\uccb4\\uc721\\uad00\", \"\\uad8c\\ub9ac\\uac00\\uc561\\uc774\", \"\\uad8c\\ud55c\\uc704\\uc784\", \"\\uad8c\\ud55c\\uc704\\uc784\", \"\\uaddc\\uc815\\uc5d0\", \"\\uaddc\\uc815\\uc5d0\", \"\\uaddc\\uc815\\uc5d0\", \"\\uaddc\\uc815\\uc5d0\", \"\\uaddc\\uc815\\uc5d0\", \"\\uaddc\\uc815\\uc5d0\", \"\\uaddc\\uc815\\uc5d0\", \"\\uaddc\\uc815\\uc5d0\", \"\\uaddc\\uc815\\uc5d0\", \"\\uaddc\\uc815\\uc5d0\", \"\\uadfc\\ub85c\\uc790\\uc758\", \"\\uadfc\\ub85c\\uc790\\uc758\", \"\\uadfc\\ud604\\ub300\", \"\\uae08\\uc8fc\", \"\\uae09\\uc2dd\", \"\\uae30\\uacc4\\ubd84\\uc57c\", \"\\uae30\\uc220\\ub2a5\\ub825\\uacfc\", \"\\uae30\\uc220\\uc790\\uaca9\\ucde8\\ub4dd\\uc790\", \"\\uae30\\uc804\\uacfc\", \"\\uae30\\uc900\\uc740\", \"\\uae30\\uc900\\uc740\", \"\\uae30\\uc900\\uc740\", \"\\uae30\\uc900\\uc740\", \"\\uae30\\uc900\\uc740\", \"\\uae30\\uc900\\uc740\", \"\\uae30\\uc900\\uc740\", \"\\uae30\\uc900\\uc740\", \"\\uae30\\ud0c0\", \"\\uae30\\ud0c0\", \"\\uae30\\ud0c0\", \"\\uae30\\ud0c0\", \"\\uae30\\ud0c0\", \"\\uae30\\ud0c0\", \"\\uae30\\ud0c0\", \"\\uae30\\ud0c0\", \"\\uae30\\ud0c0\", \"\\uae30\\ud0c0\", \"\\uae30\\ud0c0\\uc0ac\\ud56d\", \"\\uae30\\ud0c0\\uc0ac\\ud56d\", \"\\uae30\\ud0c0\\uc0ac\\ud56d\", \"\\uae30\\ud0c0\\uc0ac\\ud56d\", \"\\uae30\\ud0c0\\uc0ac\\ud56d\", \"\\uae30\\ud0c0\\uc0ac\\ud56d\", \"\\uae30\\ud0c0\\uc0ac\\ud56d\", \"\\uae30\\ud0c0\\uc0ac\\ud56d\", \"\\uae30\\ud0c0\\uc0ac\\ud56d\", \"\\uae30\\ud0c0\\uc0ac\\ud56d\", \"\\uae30\\ud68d\\uc608\\uc0b0\\uacfc\", \"\\uae38\\uc74c\\ub3d9\", \"\\uae38\\uc74c\\ub3d9\", \"\\uae4a\\uc740\", \"\\uae4a\\uc740\", \"\\uae4a\\uc740\", \"\\uae4a\\uc740\", \"\\uae4a\\uc740\", \"\\ub098\\uc640\\uc11c\", \"\\ub09c\\uac04\\uc758\", \"\\ub0a0\\uc740\", \"\\ub0a8\\uc0b0\", \"\\ub0a8\\uc0b0\", \"\\ub0a8\\uc0b0\", \"\\ub0a8\\uc0b0\", \"\\ub0a8\\uc0b0\\ub3d9\", \"\\ub0b4\\uc6a9\", \"\\ub0b4\\uc6a9\", \"\\ub0b4\\uc6a9\", \"\\ub0b4\\uc6a9\", \"\\ub0b4\\uc6a9\", \"\\ub0b4\\uc6a9\", \"\\ub0b4\\uc6a9\", \"\\ub0b4\\uc6a9\", \"\\ub0b4\\uc6a9\", \"\\ub0b4\\uc6a9\", \"\\ub124\\uc774\\ud2b8\\uc628\", \"\\ub178\\ub4e4\\uc12c\", \"\\ub178\\ub4e4\\uc12c\", \"\\ub179\\ud654\", \"\\ub179\\ud654\", \"\\ub204\\uac00\", \"\\ub204\\uac00\", \"\\ub204\\uac00\", \"\\ub204\\uac00\", \"\\ub204\\ub985\\ub2c8\\ub2e4\", \"\\ub20c\\ub7ec\\uc11c\", \"\\ub2e4\\ub978\", \"\\ub2e4\\ub978\", \"\\ub2e4\\ub978\", \"\\ub2e4\\ub978\", \"\\ub2e4\\ub978\", \"\\ub2e4\\ub978\", \"\\ub2e4\\ub978\", \"\\ub2e4\\ub978\", \"\\ub2e4\\ub978\", \"\\ub2e4\\ub978\", \"\\ub2e4\\uc6b4\\ub85c\\ub4dc\", \"\\ub2e4\\uc6b4\\ub85c\\ub4dc\", \"\\ub2e4\\uc6b4\\ub85c\\ub4dc\", \"\\ub2e4\\uc6b4\\ub85c\\ub4dc\", \"\\ub2e4\\uc6b4\\ub85c\\ub4dc\", \"\\ub2e4\\uc6b4\\ub85c\\ub4dc\", \"\\ub2e4\\uc6b4\\ub85c\\ub4dc\", \"\\ub2e4\\uc6b4\\ub85c\\ub4dc\", \"\\ub2e4\\uc6b4\\ub85c\\ub4dc\", \"\\ub2e4\\uc6b4\\ub85c\\ub4dc\", \"\\ub2e4\\uc74c\\uc758\", \"\\ub2e4\\uc74c\\uc758\", \"\\ub2e4\\uc74c\\uc758\", \"\\ub2e8\\ub3c5\\uacbd\\ubcf4\\ud615\", \"\\ub2e8\\ub3c5\\uc8fc\\ud0dd\\ub2e8\\ub3c5\\uc8fc\\ud0dd\", \"\\ub2f9\\uc9c1\\uc2e4\", \"\\ub2f9\\uc9c1\\uc2e4\", \"\\ub2f9\\uc9c1\\uc2e4\", \"\\ub2f9\\uc9c1\\uc2e4\", \"\\ub2f9\\ud574\", \"\\ub2f9\\ud574\", \"\\ub2f9\\ud574\", \"\\ub2f9\\ud574\", \"\\ub2f9\\ud574\", \"\\ub2f9\\ud574\", \"\\ub2f9\\ud574\", \"\\ub2f9\\ud574\", \"\\ub2f9\\ud574\", \"\\ub2f9\\ud574\", \"\\ub300\\uae30\\ud658\\uacbd\\ubcf4\\uc804\\ubc95\\uc5d0\", \"\\ub300\\uc0ac\\uc99d\\ud6c4\\uad70\\uad00\\ub9ac\\uc13c\\ud130\", \"\\ub300\\uc0c1\", \"\\ub300\\uc0c1\", \"\\ub300\\uc0c1\", \"\\ub300\\uc0c1\", \"\\ub300\\uc0c1\", \"\\ub300\\uc0c1\", \"\\ub300\\uc0c1\", \"\\ub300\\uc0c1\", \"\\ub300\\uc0c1\", \"\\ub300\\uc0c1\", \"\\ub300\\uc0c1\\uc740\\uacf5\\uc0ac\\ube44\", \"\\ub300\\uc6b0\\uacf5\\ubb34\\uc6d0\", \"\\ub300\\uc6b0\\uacf5\\ubb34\\uc6d0\\uc758\", \"\\ub300\\uc758\\uc6d0\\ud68c\\ub97c\", \"\\ub300\\uc758\\uc6d0\\ud68c\\uc758\", \"\\ub300\\uc758\\uc6d0\\ud68c\\uc758\", \"\\ub300\\uc9c0\\uc5d0\", \"\\ub300\\uc9c0\\uc5d0\", \"\\ub300\\uc9c0\\uc5d0\", \"\\ub300\\uc9c0\\uc5d0\", \"\\ub300\\uc9c0\\uc5d0\", \"\\ub300\\ud558\\uc5ec\", \"\\ub300\\ud558\\uc5ec\", \"\\ub300\\ud558\\uc5ec\", \"\\ub300\\ud558\\uc5ec\", \"\\ub300\\ud558\\uc5ec\", \"\\ub300\\ud558\\uc5ec\", \"\\ub300\\ud558\\uc5ec\", \"\\ub300\\ud558\\uc5ec\", \"\\ub300\\ud558\\uc5ec\", \"\\ub300\\ud558\\uc5ec\", \"\\ub300\\ud559\\uc0dd\", \"\\ub300\\ud559\\uc0dd\", \"\\ub300\\ud559\\uc0dd\", \"\\ub300\\ud559\\uc0dd\", \"\\ub300\\ud559\\uc0dd\", \"\\ub300\\ud559\\uc785\\ud559\", \"\\ub300\\ud55c\", \"\\ub300\\ud55c\", \"\\ub300\\ud55c\", \"\\ub300\\ud55c\", \"\\ub300\\ud55c\", \"\\ub300\\ud55c\", \"\\ub300\\ud55c\", \"\\ub300\\ud55c\", \"\\ub300\\ud55c\", \"\\ub300\\ud55c\", \"\\ub300\\ud55c\\ubbfc\\uad6d\", \"\\ub300\\ud55c\\ubbfc\\uad6d\", \"\\ub300\\ud55c\\ubbfc\\uad6d\", \"\\ub300\\ud55c\\ubbfc\\uad6d\", \"\\ub300\\ud55c\\ubbfc\\uad6d\", \"\\ub300\\ud55c\\ubbfc\\uad6d\", \"\\ub3c4\\ub85c\", \"\\ub3c4\\ub85c\", \"\\ub3c4\\ub85c\", \"\\ub3c4\\ub85c\", \"\\ub3c4\\ub85c\", \"\\ub3c4\\ub85c\", \"\\ub3c4\\ub85c\", \"\\ub3c4\\uc11c\\uad00\", \"\\ub3c4\\uc11c\\uad00\", \"\\ub3c4\\uc11c\\uad00\", \"\\ub3c4\\uc11c\\uad00\", \"\\ub3c4\\uc11c\\uad00\", \"\\ub3c4\\uc11c\\uad00\", \"\\ub3c4\\uc11c\\uad00\", \"\\ub3c4\\uc2dc\\uacc4\\ud68d\\uc0ac\\uc5c5\\uc73c\\ub85c\", \"\\ub3c4\\uc2dc\\uacc4\\ud68d\\uc0ac\\uc5c5\\uc73c\\ub85c\", \"\\ub3c4\\uc2dc\\ud143\\ubc2d\", \"\\ub3c5\\ub9bd\\uacbd\\uc601\", \"\\ub3c5\\ub9bd\\uc720\\uacf5\\uc790\", \"\\ub3cc\\ubd04\\uac00\\uc871\", \"\\ub3d9\\ubd81\\uc544\", \"\\ub418\\ub098\\uc694\", \"\\ub418\\ub098\\uc694\", \"\\ub418\\ub098\\uc694\", \"\\ub418\\ub098\\uc694\", \"\\ub418\\ub098\\uc694\", \"\\ub418\\ub098\\uc694\", \"\\ub418\\ub098\\uc694\", \"\\ub418\\ub098\\uc694\", \"\\ub418\\ub098\\uc694\", \"\\ub418\\ub098\\uc694\", \"\\ub418\\ub098\\uc694\\uac74\\uc124\\uae30\\uc220\\uad00\\ub9ac\\ubc95\\uc5d0\", \"\\ub429\\ub2c8\\ub2e4\", \"\\ub429\\ub2c8\\ub2e4\", \"\\ub429\\ub2c8\\ub2e4\", \"\\ub429\\ub2c8\\ub2e4\", \"\\ub429\\ub2c8\\ub2e4\", \"\\ub429\\ub2c8\\ub2e4\", \"\\ub429\\ub2c8\\ub2e4\", \"\\ub429\\ub2c8\\ub2e4\", \"\\ub429\\ub2c8\\ub2e4\", \"\\ub429\\ub2c8\\ub2e4\", \"\\ub4f1\\uae30\\uc18c\", \"\\ub4f1\\uc0b0\\ub85c\", \"\\ub4f1\\uc0b0\\ub85c\", \"\\ub4f1\\uc73c\\ub85c\", \"\\ub4f1\\uc73c\\ub85c\", \"\\ub4f1\\uc73c\\ub85c\", \"\\ub4f1\\uc73c\\ub85c\", \"\\ub4f1\\uc73c\\ub85c\", \"\\ub4f1\\uc73c\\ub85c\", \"\\ub4f1\\uc73c\\ub85c\", \"\\ub4f1\\uc73c\\ub85c\", \"\\ub4f1\\uc73c\\ub85c\", \"\\ub4f1\\uc744\", \"\\ub4f1\\uc744\", \"\\ub4f1\\uc744\", \"\\ub4f1\\uc744\", \"\\ub4f1\\uc744\", \"\\ub4f1\\uc744\", \"\\ub4f1\\uc744\", \"\\ub4f1\\uc744\", \"\\ub4f1\\uc744\", \"\\ub4f1\\uc744\", \"\\ub4f1\\uc758\", \"\\ub4f1\\uc758\", \"\\ub4f1\\uc758\", \"\\ub4f1\\uc758\", \"\\ub4f1\\uc758\", \"\\ub4f1\\uc758\", \"\\ub4f1\\uc758\", \"\\ub4f1\\uc758\", \"\\ub4f1\\uc758\", \"\\ub4f1\\uc758\", \"\\ub514\\uc9c0\\ud138\\uc815\\ubcf4\\uacfc\", \"\\ub530\\ub77c\", \"\\ub530\\ub77c\", \"\\ub530\\ub77c\", \"\\ub530\\ub77c\", \"\\ub530\\ub77c\", \"\\ub530\\ub77c\", \"\\ub530\\ub77c\", \"\\ub530\\ub77c\", \"\\ub530\\ub77c\", \"\\ub530\\ub77c\", \"\\ub530\\ub978\", \"\\ub530\\ub978\", \"\\ub530\\ub978\", \"\\ub530\\ub978\", \"\\ub530\\ub978\", \"\\ub530\\ub978\", \"\\ub530\\ub978\", \"\\ub530\\ub978\", \"\\ub530\\ub978\", \"\\ub530\\ub978\", \"\\ub808\\uc2dc\\ud53c\", \"\\ub9cc\\uc6d0\", \"\\ub9cc\\uc6d0\", \"\\ub9cc\\uc6d0\", \"\\ub9cc\\uc6d0\", \"\\ub9cc\\uc6d0\", \"\\ub9cc\\uc6d0\", \"\\ub9cc\\uc6d0\", \"\\ub9cc\\uc6d0\", \"\\ub9cc\\uc6d0\", \"\\ub9d8\\ud3b8\\ud55c\\uce74\\ub4dc\", \"\\ub9db\\uc9d1\", \"\\ub9de\\ucda4\\ucee8\\uc124\\ud305\", \"\\uba39\\uac70\\ub9ac\", \"\\uba39\\uac70\\ub9ac\", \"\\uba85\\uc608\\uc758\", \"\\ubaa8\\uc9d1\", \"\\ubaa8\\uc9d1\", \"\\ubaa8\\uc9d1\", \"\\ubaa8\\uc9d1\", \"\\ubaa8\\uc9d1\", \"\\ubaa8\\uc9d1\", \"\\ubaa8\\uc9d1\", \"\\ubaa8\\uc9d1\", \"\\ubaa8\\uc9d1\", \"\\ubaa8\\uc9d1\", \"\\ubaa9\\uc7ac\\uac10\\uc131\\uccb4\\ud5d8\\ubc15\\ub78c\\ud68c\", \"\\ubb34\\uad50\\ub3d9\", \"\\ubb34\\uad50\\ub3d9\", \"\\ubb34\\uc0c1\\uc7a5\\ud559\\uae08\", \"\\ubb34\\uc548\", \"\\ubb34\\uc5c7\\uc778\\uac00\\uc694\", \"\\ubb34\\uc5c7\\uc778\\uac00\\uc694\", \"\\ubb34\\uc5c7\\uc778\\uac00\\uc694\", \"\\ubb34\\uc5c7\\uc778\\uac00\\uc694\", \"\\ubb34\\uc5c7\\uc778\\uac00\\uc694\", \"\\ubb34\\uc5c7\\uc778\\uac00\\uc694\", \"\\ubb34\\uc5c7\\uc778\\uac00\\uc694\", \"\\ubb34\\uc5c7\\uc778\\uac00\\uc694\", \"\\ubb34\\uc5c7\\uc778\\uac00\\uc694\", \"\\ubb34\\uc5c7\\uc778\\uac00\\uc694\", \"\\ubb34\\uc5c7\\uc785\\ub2c8\\uae4c\", \"\\ubb34\\uc5c7\\uc785\\ub2c8\\uae4c\", \"\\ubb34\\uc5c7\\uc785\\ub2c8\\uae4c\", \"\\ubb34\\uc5c7\\uc785\\ub2c8\\uae4c\", \"\\ubb34\\uc5c7\\uc785\\ub2c8\\uae4c\", \"\\ubb34\\uc5c7\\uc785\\ub2c8\\uae4c\", \"\\ubb34\\uc5c7\\uc785\\ub2c8\\uae4c\", \"\\ubb34\\uc5c7\\uc785\\ub2c8\\uae4c\", \"\\ubb34\\uc5c7\\uc785\\ub2c8\\uae4c\", \"\\ubb34\\uc5c7\\uc785\\ub2c8\\uae4c\", \"\\ubb34\\uc5ed\\ud22c\\uc790\\uc0ac\\uc808\\ub2e8\", \"\\ubb38\\uc11c\\ub97c\", \"\\ubb38\\uc11c\\ub97c\", \"\\ubb38\\uc11c\\ub97c\", \"\\ubb38\\uc11c\\uc758\", \"\\ubb38\\uc758\", \"\\ubb38\\uc758\", \"\\ubb38\\uc758\", \"\\ubb38\\uc758\", \"\\ubb38\\uc758\", \"\\ubb38\\uc758\", \"\\ubb38\\uc758\", \"\\ubb38\\uc758\", \"\\ubb38\\uc758\", \"\\ubb38\\uc758\", \"\\ubb38\\uc790\\ub85c\", \"\\ubb38\\uc790\\ub85c\", \"\\ubb38\\uc790\\ub85c\", \"\\ubb38\\uc790\\ub85c\", \"\\ubb38\\uc790\\ub85c\", \"\\ubb38\\ud654\\uc5ed\", \"\\ubb38\\ud654\\ud589\\uc0ac\", \"\\ubb38\\ud654\\ud589\\uc0ac\", \"\\ubb38\\ud654\\ud589\\uc0ac\", \"\\ubb38\\ud654\\ud589\\uc0ac\", \"\\ubb38\\ud654\\ud589\\uc0ac\", \"\\ubbf8\\ub9cc\\uc778\", \"\\ubbf8\\ub9cc\\uc778\", \"\\ubbf8\\ub9cc\\uc778\", \"\\ubbf8\\ub9cc\\uc778\", \"\\ubbf8\\ub9cc\\uc778\", \"\\ubbf8\\ub9cc\\uc778\", \"\\ubbf8\\ub9cc\\uc778\", \"\\ubbf8\\ub9cc\\uc778\", \"\\ubbf8\\uc131\\ub144\\uc790\\uc758\", \"\\ubbf8\\uc131\\ub144\\uc790\\uc758\", \"\\ubbf8\\uc220\\ub300\\ud68c\", \"\\ubbf8\\uc220\\uc791\\ud488\", \"\\ubbf8\\uc220\\uc791\\ud488\", \"\\ubbf8\\uc220\\uc791\\ud488\", \"\\ubbf8\\ud130\", \"\\ubbf8\\ud130\", \"\\ubbf8\\ud130\", \"\\ubbf8\\ud130\", \"\\ubbf8\\ud130\", \"\\ubbf8\\ud130\", \"\\ubbf8\\ud130\", \"\\ubbf8\\ud130\", \"\\ubbfc\\uc6d0\", \"\\ubbfc\\uc6d0\", \"\\ubbfc\\uc6d0\", \"\\ubbfc\\uc6d0\", \"\\ubbfc\\uc6d0\\ucc3d\\uad6c\", \"\\ubc14\\ub2e5\\uba74\\uc801\\uc758\", \"\\ubc1c\\uae09\", \"\\ubc1c\\uae09\", \"\\ubc1c\\uae09\", \"\\ubc1c\\uae09\", \"\\ubc1c\\uae09\", \"\\ubc1c\\uae09\", \"\\ubc1c\\uae09\", \"\\ubc1c\\uae09\", \"\\ubc1c\\uae09\", \"\\ubc1c\\uae09\", \"\\ubc29\\uacfc\", \"\\ubc29\\uacfc\", \"\\ubc29\\ubb38\\uac04\\ud638\\uc0ac\", \"\\ubc30\\ub824\", \"\\ubc84\\uc2a4\\uc774\\uc6a9\", \"\\ubc88\\uc9c0\", \"\\ubc88\\uc9c0\", \"\\ubc88\\uc9c0\", \"\\ubc88\\uc9c0\", \"\\ubc88\\uc9c0\", \"\\ubc88\\uc9c0\", \"\\ubc88\\uc9c0\", \"\\ubc88\\uc9c0\", \"\\ubc88\\uc9c0\", \"\\ubc88\\uc9c0\", \"\\ubc88\\ucd9c\\uad6c\", \"\\ubc88\\ucd9c\\uad6c\", \"\\ubc88\\ucd9c\\uad6c\", \"\\ubc88\\ucd9c\\uad6c\", \"\\ubc88\\ucd9c\\uad6c\", \"\\ubc88\\ucd9c\\uad6c\", \"\\ubc88\\ucd9c\\uad6c\", \"\\ubc88\\ucd9c\\uad6c\", \"\\ubc88\\ucd9c\\uad6c\", \"\\ubc95\\uc815\\uacf5\\ud734\\uc77c\", \"\\ubc95\\uc815\\uacf5\\ud734\\uc77c\", \"\\ubc95\\uc815\\uacf5\\ud734\\uc77c\", \"\\ubc95\\uc815\\uacf5\\ud734\\uc77c\", \"\\ubcd1\\uc5ed\", \"\\ubcf4\\uae08\\uc790\\ub9ac\", \"\\ubcf4\\ub0bc\\uc218\", \"\\ubcf4\\ub8e8\\ub294\", \"\\ubcf4\\ub8e8\\ub294\", \"\\ubcf4\\ub8e8\\ub294\", \"\\ubcf4\\uc721\\uc11c\\ube44\\uc2a4\", \"\\ubcf4\\ud589\\uc790\", \"\\ubcf4\\ud589\\uc790\", \"\\ubcf4\\ud589\\uc790\", \"\\ubcf4\\ud589\\uc790\", \"\\ubcf8\\uc778\\ubd80\\ub2f4\\uc9c4\\ub8cc\\ube44\", \"\\ubd09\\uc218\\ub300\", \"\\ubd80\\uce59\", \"\\ubd80\\uce59\", \"\\ubd80\\ud328\\ud589\\uc704\", \"\\ubd80\\ud328\\ud589\\uc704\", \"\\ubd80\\ud328\\ud589\\uc704\\uc758\", \"\\ubd81\\uc545\\uc2a4\\uce74\\uc774\\uc6e8\\uc774\", \"\\ubd84\\uc591\\uac74\\ucd95\\ubb3c\\uc758\", \"\\ubd84\\uc591\\uad8c\", \"\\ubd84\\uc591\\ubc1b\\uc740\", \"\\ubd84\\uc591\\ubc1b\\uc744\", \"\\ubd84\\uc758\", \"\\ubd84\\uc758\", \"\\ubd84\\uc758\", \"\\ubd84\\uc758\", \"\\ubd84\\uc758\", \"\\ubd84\\uc758\", \"\\ube44\\uc0ac\\uc5c5\\uc6a9\", \"\\ube48\\uc9d1\", \"\\uc0ac\\ub840\", \"\\uc0ac\\ub840\", \"\\uc0ac\\ub840\", \"\\uc0ac\\ub840\", \"\\uc0ac\\ub9bd\", \"\\uc0ac\\uc2a4\", \"\\uc0ac\\uc2e4\\uc0c1\", \"\\uc0ac\\uc2e4\\uc0c1\", \"\\uc0ac\\uc2e4\\uc0c1\", \"\\uc0ac\\uc5c5\", \"\\uc0ac\\uc5c5\", \"\\uc0ac\\uc5c5\", \"\\uc0ac\\uc5c5\", \"\\uc0ac\\uc5c5\", \"\\uc0ac\\uc5c5\", \"\\uc0ac\\uc5c5\", \"\\uc0ac\\uc5c5\", \"\\uc0ac\\uc5c5\", \"\\uc0ac\\uc5c5\", \"\\uc0ac\\uc5c5\\uc740\", \"\\uc0ac\\uc5c5\\uc740\", \"\\uc0ac\\uc5c5\\uc740\", \"\\uc0ac\\uc5c5\\uc740\", \"\\uc0ac\\uc5c5\\uc740\", \"\\uc0ac\\uc5c5\\uc740\", \"\\uc0ac\\uc5c5\\uc740\", \"\\uc0ac\\uc5c5\\uc7a5\", \"\\uc0ac\\uc5c5\\uc7a5\", \"\\uc0ac\\uc5c5\\uc7a5\", \"\\uc0ac\\uc5c5\\uc7a5\", \"\\uc0ac\\uc6a9\", \"\\uc0ac\\uc6a9\", \"\\uc0ac\\uc6a9\", \"\\uc0ac\\uc6a9\", \"\\uc0ac\\uc6a9\", \"\\uc0ac\\uc6a9\", \"\\uc0ac\\uc6a9\", \"\\uc0ac\\uc6a9\", \"\\uc0ac\\uc6a9\", \"\\uc0ac\\uc6a9\", \"\\uc0ac\\uc6a9\\ub8cc\\ub97c\", \"\\uc0ac\\uc774\\ubc84\", \"\\uc0ac\\uc774\\ubc84\", \"\\uc0ac\\uc774\\ubc84\", \"\\uc0ac\\uc774\\ubc84\", \"\\uc0ac\\uc774\\ubc84\", \"\\uc0ac\\ud56d\", \"\\uc0ac\\ud56d\", \"\\uc0ac\\ud56d\", \"\\uc0ac\\ud56d\", \"\\uc0ac\\ud56d\", \"\\uc0ac\\ud56d\", \"\\uc0ac\\ud56d\", \"\\uc0ac\\ud56d\", \"\\uc0ac\\ud589\\uc131\", \"\\uc0ac\\ud68c\\uc801\\uacbd\\uc81c\", \"\\uc0b0\\ubd80\\uc778\\uacfc\", \"\\uc0b0\\uc815\\ubc29\\ubc95\\uc740\", \"\\uc0b0\\uc815\\ubc29\\ubc95\\uc740\", \"\\uc0c1\\uae08\", \"\\uc0c1\\uae08\", \"\\uc0c1\\ub300\\ubc29\\uc758\", \"\\uc0c1\\uc2dc\\uadfc\\ub85c\\uc790\\uc218\", \"\\uc0dd\\ud0dc\\ud1b5\\ub85c\", \"\\uc0dd\\ud0dc\\ud1b5\\ub85c\\ub294\", \"\\uc0dd\\ud65c\\uccb4\\uc721\\uc9c0\\ub3c4\\uc790\", \"\\uc11c\\ub300\\ubb38\\ubb38\\ud654\\uccb4\\uc721\\ud68c\\uad00\", \"\\uc11c\\ub300\\ubb38\\ubb38\\ud654\\uccb4\\uc721\\ud68c\\uad00\", \"\\uc11c\\ubd81\\ubcd1\\uc6d0\", \"\\uc11c\\ube44\\uc2a4\", \"\\uc11c\\ube44\\uc2a4\", \"\\uc11c\\ube44\\uc2a4\", \"\\uc11c\\ube44\\uc2a4\", \"\\uc11c\\ube44\\uc2a4\", \"\\uc11c\\ube44\\uc2a4\", \"\\uc11c\\ube44\\uc2a4\", \"\\uc11c\\ube44\\uc2a4\", \"\\uc11c\\ube44\\uc2a4\", \"\\uc11c\\ube44\\uc2a4\", \"\\uc11c\\uc2dd\\uc0dd\\ubb3c\", \"\\uc11c\\uc6b8\", \"\\uc11c\\uc6b8\", \"\\uc11c\\uc6b8\", \"\\uc11c\\uc6b8\", \"\\uc11c\\uc6b8\", \"\\uc11c\\uc6b8\", \"\\uc11c\\uc6b8\", \"\\uc11c\\uc6b8\", \"\\uc11c\\uc6b8\", \"\\uc11c\\uc6b8\", \"\\uc11c\\uc6b8\\ub180\\uc774\\ub9c8\\ub2f9\", \"\\uc11c\\uc6b8\\ub300\\uacf5\\uc6d0\", \"\\uc11c\\uc6b8\\ub300\\uacf5\\uc6d0\", \"\\uc11c\\uc6b8\\ub300\\uacf5\\uc6d0\", \"\\uc11c\\uc6b8\\ub300\\uacf5\\uc6d0\", \"\\uc11c\\uc6b8\\uc0c1\", \"\\uc11c\\uc6b8\\uc232\", \"\\uc11c\\uc6b8\\uc2dc\", \"\\uc11c\\uc6b8\\uc2dc\", \"\\uc11c\\uc6b8\\uc2dc\", \"\\uc11c\\uc6b8\\uc2dc\", \"\\uc11c\\uc6b8\\uc2dc\", \"\\uc11c\\uc6b8\\uc2dc\", \"\\uc11c\\uc6b8\\uc2dc\", \"\\uc11c\\uc6b8\\uc2dc\", \"\\uc11c\\uc6b8\\uc2dc\", \"\\uc11c\\uc6b8\\uc2dc\", \"\\uc11c\\uc6b8\\uc758\", \"\\uc11c\\uc6b8\\uc758\", \"\\uc11c\\uc6b8\\uc758\", \"\\uc11c\\uc6b8\\uc758\", \"\\uc11c\\uc6b8\\uc758\", \"\\uc11c\\uc6b8\\uc758\", \"\\uc11c\\uc6b8\\uc758\", \"\\uc11c\\uc6b8\\uc758\", \"\\uc11c\\uc6b8\\ud2b9\\ubcc4\\uc2dc\", \"\\uc11c\\uc6b8\\ud2b9\\ubcc4\\uc2dc\", \"\\uc11c\\uc6b8\\ud2b9\\ubcc4\\uc2dc\", \"\\uc11c\\uc6b8\\ud2b9\\ubcc4\\uc2dc\", \"\\uc11c\\uc6b8\\ud2b9\\ubcc4\\uc2dc\", \"\\uc11c\\uc6b8\\ud2b9\\ubcc4\\uc2dc\", \"\\uc11c\\uc6b8\\ud2b9\\ubcc4\\uc2dc\", \"\\uc11c\\uc6b8\\ud2b9\\ubcc4\\uc2dc\", \"\\uc11c\\uc6b8\\ud2b9\\ubcc4\\uc2dc\", \"\\uc11c\\uc6b8\\ud2b9\\ubcc4\\uc2dc\", \"\\uc11c\\uc6b8\\ud2b9\\ubcc4\\uc2dc\\uc721\\uc544\\uc885\\ud569\\uc9c0\\uc6d0\\uc13c\\ud130\", \"\\uc11c\\uc6b8\\ud568\", \"\\uc11c\\ucee4\\uc2a4\", \"\\uc120\\ucd9c\\ub41c\", \"\\uc120\\ucd9c\\ub41c\", \"\\uc124\\uce58\", \"\\uc124\\uce58\", \"\\uc124\\uce58\", \"\\uc124\\uce58\", \"\\uc124\\uce58\", \"\\uc124\\uce58\", \"\\uc124\\uce58\", \"\\uc124\\uce58\", \"\\uc124\\uce58\", \"\\uc124\\uce58\", \"\\uc124\\uce58\\ud558\\ub294\", \"\\uc124\\uce58\\ud558\\ub294\", \"\\uc124\\uce58\\ud558\\ub294\", \"\\uc124\\uce58\\ud558\\ub294\", \"\\uc124\\uce58\\ud558\\ub294\", \"\\uc124\\uce58\\ud558\\ub294\", \"\\uc124\\uce58\\ud558\\ub294\", \"\\uc124\\uce58\\ud558\\ub294\", \"\\uc124\\uce58\\ud558\\ub294\", \"\\uc131\\ubc94\\uc8c4\\uc790\", \"\\uc131\\ud76c\\ub871\", \"\\uc131\\ud76c\\ub871\", \"\\uc138\\ub300\\uc8fc\\uac00\", \"\\uc18c\\ub4dd\\uc778\\uc815\\uc561\\uc774\", \"\\uc18c\\ubc29\\uc2dc\\uc124\", \"\\uc18c\\ubc29\\uc2dc\\uc124\", \"\\uc18c\\ubc29\\uc2dc\\uc124\", \"\\uc18d\\ub9c8\\uc74c\", \"\\uc218\\uae30\\ub0a9\\ubd80\\uc11c\", \"\\uc218\\ub828\\uad00\", \"\\uc218\\ub828\\uad00\", \"\\uc218\\uc0c1\", \"\\uc218\\uc0c1\", \"\\uc218\\uc0c1\", \"\\uc218\\uc0c1\", \"\\uc218\\uc694\\ubb34\\ub300\", \"\\uc218\\uc704\", \"\\uc218\\uc9c8\\ud658\\uacbd\\ubcf4\\uc804\\ubc95\\uc5d0\", \"\\uc218\\ud654\\uc601\\uc0c1\\ub85c\", \"\\uc218\\ud654\\ud1b5\\uc5ed\\uc13c\\ud130\", \"\\uc219\\ubc15\", \"\\uc219\\ubc15\", \"\\uc219\\ubc15\", \"\\uc219\\ubc15\", \"\\uc219\\ubc15\\uc694\\uae08\", \"\\uc2a4\\ud1a0\\ub9ac\\ud154\\ub9c1\", \"\\uc2a4\\ud1a0\\uc5b4\\ud31c\", \"\\uc2a4\\ud2b8\\ub9ac\\ud2b8\", \"\\uc2ac\\ub85c\\uac74\", \"\\uc2b9\\uc6a9\", \"\\uc2b9\\ud569\", \"\\uc2dc\\uac00\\uc9c0\", \"\\uc2dc\\uac04\", \"\\uc2dc\\uac04\", \"\\uc2dc\\uac04\", \"\\uc2dc\\uac04\", \"\\uc2dc\\uac04\", \"\\uc2dc\\uac04\", \"\\uc2dc\\uac04\", \"\\uc2dc\\uac04\", \"\\uc2dc\\uac04\", \"\\uc2dc\\uac04\\uc678\", \"\\uc2dc\\ub9bd\\ubc1c\\ub2ec\\uc7a5\\uc560\\uc778\\ubcf5\\uc9c0\\uad00\", \"\\uc2dc\\ube44\", \"\\uc2dc\\ube44\", \"\\uc2dc\\uc124\\uad00\\ub9ac\\uacf5\\ub2e8\", \"\\uc2dc\\uc2dc\", \"\\uc2dc\\uc2dc\", \"\\uc2dc\\uc2dc\", \"\\uc2dc\\uc2dc\", \"\\uc2dc\\uc2dc\", \"\\uc2dc\\uc2dc\", \"\\uc2dc\\uc2dc\", \"\\uc2dc\\uc2dc\", \"\\uc2dc\\uc2dc\", \"\\uc2dc\\uc2dc\", \"\\uc2dc\\ud2f0\\ud328\\uc2a4\", \"\\uc2dd\\uc7ac\\ub8cc\", \"\\uc2e0\\uc0c1\\uc815\\ubcf4\", \"\\uc2e0\\uc6a9\\ud68c\\ubcf5\\uc704\\uc6d0\\ud68c\", \"\\uc2e0\\uc6a9\\ud68c\\ubcf5\\uc704\\uc6d0\\ud68c\", \"\\uc2e0\\uc6d4\\uc5ec\\uc758\\uc9c0\\ud558\\ub3c4\\ub85c\\uad6c\\uc11c\\uc6b8\\uc81c\\ubb3c\\ud3ec\\ud130\\ub110\", \"\\uc2e0\\uccad\", \"\\uc2e0\\uccad\", \"\\uc2e0\\uccad\", \"\\uc2e0\\uccad\", \"\\uc2e0\\uccad\", \"\\uc2e0\\uccad\", \"\\uc2e0\\uccad\", \"\\uc2e0\\uccad\", \"\\uc2e0\\uccad\", \"\\uc2e0\\uccad\", \"\\uc2e0\\uccb4\\ud65c\\ub3d9\\ub9ac\\ub354\", \"\\uc2e0\\ud638\\ub4f1\", \"\\uc2ec\\uc0ac\\uc694\\uccad\", \"\\uc4f0\\uc774\\ub294\", \"\\uc4f0\\uc774\\ub294\", \"\\uc544\\ub2c8\\ud55c\", \"\\uc544\\ub2c8\\ud55c\", \"\\uc544\\ub2c8\\ud55c\", \"\\uc544\\ub2c8\\ud55c\", \"\\uc544\\ub2c8\\ud55c\", \"\\uc544\\ub2c8\\ud55c\", \"\\uc544\\ub2c8\\ud55c\", \"\\uc544\\ub2c8\\ud55c\", \"\\uc544\\ub2c8\\ud55c\", \"\\uc544\\ub2c8\\ud55c\", \"\\uc544\\ub3d9\\uccad\\uc18c\\ub144\\uc758\", \"\\uc544\\ud30c\\ud2b8\", \"\\uc544\\ud30c\\ud2b8\", \"\\uc544\\ud30c\\ud2b8\", \"\\uc544\\ud30c\\ud2b8\", \"\\uc544\\ud30c\\ud2b8\", \"\\uc544\\ud30c\\ud2b8\", \"\\uc544\\ud30c\\ud2b8\", \"\\uc544\\ud30c\\ud2b8\", \"\\uc548\\ub0b4\", \"\\uc548\\ub0b4\", \"\\uc548\\ub0b4\", \"\\uc548\\ub0b4\", \"\\uc548\\ub0b4\", \"\\uc548\\ub0b4\", \"\\uc548\\ub0b4\", \"\\uc548\\ub0b4\", \"\\uc548\\ub0b4\", \"\\uc548\\ub0b4\", \"\\uc55e\\ubd84\", \"\\uc561\\ud654\\uc11d\\uc720\\uac00\\uc2a4\\ucda9\\uc804\\uc18c\", \"\\uc591\\uc7ac\\ub3d9\\uaf43\\uc2dc\\uc7a5\", \"\\uc5b4\\ub5a4\", \"\\uc5b4\\ub5a4\", \"\\uc5b4\\ub5a4\", \"\\uc5b4\\ub5a4\", \"\\uc5b4\\ub5a4\", \"\\uc5b4\\ub5a4\", \"\\uc5b4\\ub5a4\", \"\\uc5b4\\ub5a4\", \"\\uc5b4\\ub5a4\", \"\\uc5b4\\ub5a4\", \"\\uc5b4\\ub5bb\\uac8c\", \"\\uc5b4\\ub5bb\\uac8c\", \"\\uc5b4\\ub5bb\\uac8c\", \"\\uc5b4\\ub5bb\\uac8c\", \"\\uc5b4\\ub5bb\\uac8c\", \"\\uc5b4\\ub5bb\\uac8c\", \"\\uc5b4\\ub5bb\\uac8c\", \"\\uc5b4\\ub5bb\\uac8c\", \"\\uc5b4\\ub5bb\\uac8c\", \"\\uc5b4\\ub5bb\\uac8c\", \"\\uc5b4\\ub9b0\\uc774\", \"\\uc5b4\\ub9b0\\uc774\", \"\\uc5b4\\ub9b0\\uc774\", \"\\uc5b4\\ub9b0\\uc774\", \"\\uc5b4\\ub9b0\\uc774\", \"\\uc5b4\\ub9b0\\uc774\", \"\\uc5b4\\ub9b0\\uc774\", \"\\uc5b4\\ub9b0\\uc774\", \"\\uc5b4\\ub9b0\\uc774\", \"\\uc5b4\\ub9b0\\uc774\", \"\\uc5b4\\ub9b0\\uc774\\uc9d1\", \"\\uc5b4\\ub9b0\\uc774\\uc9d1\", \"\\uc5b4\\ub9b0\\uc774\\uc9d1\", \"\\uc5b4\\ub9b0\\uc774\\uc9d1\", \"\\uc5b4\\ub9b0\\uc774\\uc9d1\", \"\\uc5b4\\ub9b0\\uc774\\uc9d1\", \"\\uc5b4\\ub9b0\\uc774\\uc9d1\", \"\\uc5b4\\ub9b0\\uc774\\uc9d1\", \"\\uc5b4\\ub9b0\\uc774\\uc9d1\\uc5d0\", \"\\uc5b4\\ub9b0\\uc774\\uc9d1\\uc5d0\", \"\\uc5b4\\ub9b0\\uc774\\ud68c\\uad00\", \"\\uc5b4\\ub9b0\\uc774\\ud68c\\uad00\", \"\\uc5b5\\uc6d0\", \"\\uc5b5\\uc6d0\", \"\\uc5b5\\uc6d0\", \"\\uc5b5\\uc6d0\", \"\\uc5b5\\uc6d0\", \"\\uc5b5\\uc6d0\", \"\\uc5b5\\uc6d0\", \"\\uc5b5\\uc6d0\", \"\\uc5b5\\uc6d0\", \"\\uc5c5\\ubb34\\uac1c\\uc694\", \"\\uc5c5\\ubb34\\uac1c\\uc694\", \"\\uc5c5\\ubb34\\uac1c\\uc694\", \"\\uc5c5\\ubb34\\uac1c\\uc694\", \"\\uc5c5\\ubb34\\uac1c\\uc694\", \"\\uc5c5\\ubb34\\uac1c\\uc694\", \"\\uc5c5\\ubb34\\uac1c\\uc694\", \"\\uc5c5\\ubb34\\uac1c\\uc694\", \"\\uc5c5\\ubb34\\uac1c\\uc694\", \"\\uc5c5\\ubb34\\uac1c\\uc694\", \"\\uc5c6\\uc74c\", \"\\uc5c6\\uc74c\", \"\\uc5c6\\uc74c\", \"\\uc5c6\\uc74c\", \"\\uc5c6\\uc74c\", \"\\uc5c6\\uc74c\", \"\\uc5c6\\uc74c\", \"\\uc5c6\\uc74c\", \"\\uc5c6\\uc74c\", \"\\uc5c6\\uc74c\", \"\\uc5d0\\ub108\\uc9c0\\uc808\\uc57d\", \"\\uc5d0\\ub108\\uc9c0\\uc808\\uc57d\", \"\\uc5ec\\ub860\\uc870\\uc0ac\", \"\\uc5ec\\uc131\\uc548\\uc2ec\\uc9c0\\ud0b4\\uc774\", \"\\uc5ec\\uc131\\uc774\\ub8f8\\uc13c\\ud130\", \"\\uc5ec\\ud589\\uc218\\ucca9\", \"\\uc5ed\\uc138\\uad8c\\uc758\", \"\\uc5f0\\uacb0\", \"\\uc5f0\\uacb0\", \"\\uc5f0\\uacb0\", \"\\uc5f0\\uacb0\", \"\\uc5f0\\uacb0\", \"\\uc5f0\\uacb0\", \"\\uc5f0\\uacb0\", \"\\uc5f0\\uacb0\", \"\\uc5f0\\uacb0\\ub418\\uc5c8\\ub2e4\\ub294\", \"\\uc5f0\\uc7a5\\uc2b9\\uc778\", \"\\uc5f0\\uc7a5\\uc2b9\\uc778\", \"\\uc5f0\\uc911\\ubb34\\ud734\", \"\\uc5f0\\uc911\\ubb34\\ud734\", \"\\uc5f0\\uc911\\ubb34\\ud734\", \"\\uc5f4\\ub78c\", \"\\uc5f4\\ub78c\", \"\\uc5f4\\ub78c\", \"\\uc5f4\\ub78c\", \"\\uc5f4\\ub78c\", \"\\uc5f4\\ub78c\", \"\\uc5f4\\ub78c\", \"\\uc601\\uc5b4\\ud68c\\ud654\", \"\\uc601\\ud654\", \"\\uc601\\ud654\", \"\\uc601\\ud654\", \"\\uc601\\ud654\", \"\\uc601\\ud654\", \"\\uc608\\ub9e4\", \"\\uc608\\ub9e4\", \"\\uc608\\ube44\\uad70\", \"\\uc608\\ube44\\uad70\", \"\\uc608\\uccb4\\ub2a5\", \"\\uc608\\uce58\\uae08\\uc561\\uc740\", \"\\uc628\\ub77c\\uc778\", \"\\uc628\\ub77c\\uc778\", \"\\uc628\\ub77c\\uc778\", \"\\uc628\\ub77c\\uc778\", \"\\uc628\\ub77c\\uc778\", \"\\uc628\\ub77c\\uc778\", \"\\uc628\\ub77c\\uc778\", \"\\uc628\\ub77c\\uc778\", \"\\uc628\\ub77c\\uc778\", \"\\uc62c\\ub9bc\\ud53d\\ub300\\ub85c\", \"\\uc62c\\ub9bc\\ud53d\\ub300\\ub85c\", \"\\uc62c\\ub9bc\\ud53d\\ub300\\ub85c\", \"\\uc62c\\ub9bc\\ud53d\\ub300\\ub85c\", \"\\uc62c\\ub9bc\\ud53d\\ub300\\ub85c\", \"\\uc644\\uc8fc\", \"\\uc644\\uc8fc\", \"\\uc678\\uad6d\\uc778\\uc8fc\\ubbfc\", \"\\uc678\\ubd80\\uc804\\ubb38\\uac00\\uc758\", \"\\uc6a9\\ub3c4\\uc5d0\", \"\\uc6a9\\ub3c4\\uc5d0\", \"\\uc6a9\\ub3c4\\uc9c0\\uc5ed\\ub4f1\\uc5d0\", \"\\uc6a9\\uc0b0\\uac00\\uc871\\uacf5\\uc6d0\", \"\\uc6a9\\uc778\", \"\\uc6b4\\uc601\", \"\\uc6b4\\uc601\", \"\\uc6b4\\uc601\", \"\\uc6b4\\uc601\", \"\\uc6b4\\uc601\", \"\\uc6b4\\uc601\", \"\\uc6b4\\uc601\", \"\\uc6b4\\uc601\", \"\\uc6b4\\uc601\", \"\\uc6b4\\uc601\", \"\\uc6d0\\uc0c1\\ud68c\\ubcf5\\uc744\", \"\\uc6d0\\uc5b4\\ubbfc\", \"\\uc6d0\\ucc9c\\uc9d5\\uc218\", \"\\uc6e8\\uc774\\uace0\", \"\\uc6f9\\ud230\", \"\\uc704\\uce58\", \"\\uc704\\uce58\", \"\\uc704\\uce58\", \"\\uc704\\uce58\", \"\\uc704\\uce58\", \"\\uc704\\uce58\", \"\\uc704\\uce58\", \"\\uc704\\uce58\", \"\\uc704\\uce58\", \"\\uc704\\uce58\", \"\\uc704\\ud558\\uc5ec\", \"\\uc704\\ud558\\uc5ec\", \"\\uc704\\ud558\\uc5ec\", \"\\uc704\\ud558\\uc5ec\", \"\\uc704\\ud558\\uc5ec\", \"\\uc704\\ud558\\uc5ec\", \"\\uc704\\ud558\\uc5ec\", \"\\uc704\\ud558\\uc5ec\", \"\\uc704\\ud558\\uc5ec\", \"\\uc704\\ud558\\uc5ec\", \"\\uc704\\ud55c\", \"\\uc704\\ud55c\", \"\\uc704\\ud55c\", \"\\uc704\\ud55c\", \"\\uc704\\ud55c\", \"\\uc704\\ud55c\", \"\\uc704\\ud55c\", \"\\uc704\\ud55c\", \"\\uc704\\ud55c\", \"\\uc704\\ud55c\", \"\\uc704\\ud574\", \"\\uc704\\ud574\", \"\\uc704\\ud574\", \"\\uc704\\ud574\", \"\\uc704\\ud574\", \"\\uc704\\ud574\", \"\\uc704\\ud574\", \"\\uc704\\ud574\", \"\\uc704\\ud574\", \"\\uc704\\ud574\", \"\\uc720\\uc544\\uc2a4\\ud3ec\\uce20\\ub2e8\", \"\\uc720\\ucda9\\uc774\", \"\\uc720\\ud574\", \"\\uc721\\uc544\\uc815\\ubcf4\", \"\\uc751\\uae09\\uc2e4\", \"\\uc758\\ub8cc\\uae30\\uad00\\uc774\", \"\\uc758\\ub8cc\\ube44\", \"\\uc758\\ub8cc\\ube44\", \"\\uc758\\ub8cc\\ube44\", \"\\uc758\\ub8cc\\ube44\", \"\\uc758\\ub8cc\\uc2dc\\uc124\", \"\\uc758\\ud55c\", \"\\uc758\\ud55c\", \"\\uc758\\ud55c\", \"\\uc758\\ud55c\", \"\\uc758\\ud55c\", \"\\uc758\\ud55c\", \"\\uc758\\ud55c\", \"\\uc758\\ud55c\", \"\\uc758\\ud55c\", \"\\uc758\\ud55c\", \"\\uc774\\uc0c1\", \"\\uc774\\uc0c1\", \"\\uc774\\uc0c1\", \"\\uc774\\uc0c1\", \"\\uc774\\uc0c1\", \"\\uc774\\uc0c1\", \"\\uc774\\uc0c1\", \"\\uc774\\uc0c1\", \"\\uc774\\uc0c1\", \"\\uc774\\uc0c1\", \"\\uc774\\uc0c1\\uc758\", \"\\uc774\\uc0c1\\uc758\", \"\\uc774\\uc0c1\\uc758\", \"\\uc774\\uc0c1\\uc758\", \"\\uc774\\uc0c1\\uc758\", \"\\uc774\\uc0c1\\uc758\", \"\\uc774\\uc0c1\\uc758\", \"\\uc774\\uc0c1\\uc758\", \"\\uc774\\uc0c1\\uc758\", \"\\uc774\\uc0c1\\uc758\", \"\\uc774\\uc0c1\\uc774\\uace0\", \"\\uc774\\uc0c1\\uc774\\uace0\", \"\\uc774\\uc0c1\\uc774\\uace0\", \"\\uc774\\uc0c9\\ub2ec\\ub9ac\\uae30\", \"\\uc774\\uc6a9\", \"\\uc774\\uc6a9\", \"\\uc774\\uc6a9\", \"\\uc774\\uc6a9\", \"\\uc774\\uc6a9\", \"\\uc774\\uc6a9\", \"\\uc774\\uc6a9\", \"\\uc774\\uc6a9\", \"\\uc774\\uc6a9\", \"\\uc774\\uc6a9\", \"\\uc774\\uc6a9\\uc694\\uae08\", \"\\uc774\\uc6a9\\uc694\\uae08\", \"\\uc774\\uc6a9\\uc694\\uae08\", \"\\uc774\\uc6a9\\uc694\\uae08\", \"\\uc774\\uc6a9\\uc694\\uae08\", \"\\uc774\\uc6a9\\uc694\\uae08\", \"\\uc774\\uc758\\uc81c\\uae30\", \"\\uc774\\ud589\\uae30\\uc900\", \"\\uc778\\uc815\\ud558\\uba74\", \"\\uc778\\uc815\\ud558\\uba74\", \"\\uc778\\uc815\\ud55c\", \"\\uc778\\uc815\\ud55c\", \"\\uc778\\ud130\\ub137\", \"\\uc778\\ud130\\ub137\", \"\\uc778\\ud130\\ub137\", \"\\uc778\\ud130\\ub137\", \"\\uc778\\ud130\\ub137\", \"\\uc778\\ud130\\ub137\", \"\\uc778\\ud130\\ub137\", \"\\uc778\\ud130\\ub137\", \"\\uc778\\ud130\\ub137\", \"\\uc778\\ud130\\ub137\", \"\\uc77c\\uc2dc\", \"\\uc77c\\uc2dc\", \"\\uc77c\\uc2dc\", \"\\uc77c\\uc2dc\", \"\\uc77c\\uc2dc\", \"\\uc77c\\uc2dc\", \"\\uc77c\\uc2dc\", \"\\uc77c\\uc2dc\", \"\\uc77c\\uc2dc\\uc9c0\\uc6d0\\uc13c\\ud130\", \"\\uc77c\\uc740\", \"\\uc784\\uc2e0\\ucd9c\\uc0b0\", \"\\uc785\\uc591\\uc13c\\ud130\", \"\\uc785\\uc8fc\\uc790\", \"\\uc785\\uc8fc\\uc790\", \"\\uc785\\uc8fc\\uc790\", \"\\uc785\\uc8fc\\uc790\", \"\\uc785\\uc8fc\\uc790\", \"\\uc785\\uc8fc\\uc790\", \"\\uc785\\uc8fc\\uc790\", \"\\uc785\\uc8fc\\uc790\", \"\\uc785\\uc8fc\\uc790\", \"\\uc785\\uc8fc\\uc790\\ub300\\ud45c\\ud68c\\uc758\", \"\\uc785\\uc8fc\\uc790\\ub300\\ud45c\\ud68c\\uc758\", \"\\uc785\\uc8fc\\uc790\\ub300\\ud45c\\ud68c\\uc758\", \"\\uc785\\uc8fc\\uc790\\ub300\\ud45c\\ud68c\\uc758\", \"\\uc788\\ub098\\uc694\", \"\\uc788\\ub098\\uc694\", \"\\uc788\\ub098\\uc694\", \"\\uc788\\ub098\\uc694\", \"\\uc788\\ub098\\uc694\", \"\\uc788\\ub098\\uc694\", \"\\uc788\\ub098\\uc694\", \"\\uc788\\ub098\\uc694\", \"\\uc788\\ub098\\uc694\", \"\\uc788\\ub098\\uc694\", \"\\uc788\\ub294\", \"\\uc788\\ub294\", \"\\uc788\\ub294\", \"\\uc788\\ub294\", \"\\uc788\\ub294\", \"\\uc788\\ub294\", \"\\uc788\\ub294\", \"\\uc788\\ub294\", \"\\uc788\\ub294\", \"\\uc788\\ub294\", \"\\uc788\\ub3c4\\ub85d\", \"\\uc788\\ub3c4\\ub85d\", \"\\uc788\\ub3c4\\ub85d\", \"\\uc788\\ub3c4\\ub85d\", \"\\uc788\\ub3c4\\ub85d\", \"\\uc788\\ub3c4\\ub85d\", \"\\uc788\\ub3c4\\ub85d\", \"\\uc788\\ub3c4\\ub85d\", \"\\uc788\\ub3c4\\ub85d\", \"\\uc788\\ub3c4\\ub85d\", \"\\uc788\\uc2b5\\ub2c8\\ub2e4\", \"\\uc788\\uc2b5\\ub2c8\\ub2e4\", \"\\uc788\\uc2b5\\ub2c8\\ub2e4\", \"\\uc788\\uc2b5\\ub2c8\\ub2e4\", \"\\uc788\\uc2b5\\ub2c8\\ub2e4\", \"\\uc788\\uc2b5\\ub2c8\\ub2e4\", \"\\uc788\\uc2b5\\ub2c8\\ub2e4\", \"\\uc788\\uc2b5\\ub2c8\\ub2e4\", \"\\uc788\\uc2b5\\ub2c8\\ub2e4\", \"\\uc788\\uc2b5\\ub2c8\\ub2e4\", \"\\uc788\\uc73c\\uba70\", \"\\uc788\\uc73c\\uba70\", \"\\uc788\\uc73c\\uba70\", \"\\uc788\\uc73c\\uba70\", \"\\uc788\\uc73c\\uba70\", \"\\uc788\\uc73c\\uba70\", \"\\uc788\\uc73c\\uba70\", \"\\uc788\\uc73c\\uba70\", \"\\uc788\\uc73c\\uba70\", \"\\uc788\\uc73c\\uba70\", \"\\uc788\\uc74c\", \"\\uc788\\uc74c\", \"\\uc788\\uc74c\", \"\\uc788\\uc74c\", \"\\uc788\\uc74c\", \"\\uc788\\uc74c\", \"\\uc788\\uc74c\", \"\\uc788\\uc74c\", \"\\uc788\\uc74c\", \"\\uc788\\uc74c\", \"\\uc790\\uaca9\\uc815\\uc9c0\", \"\\uc790\\ub3d9\\ucc28\\uc6a9\", \"\\uc790\\ub9e4\\uacb0\\uc5f0\", \"\\uc790\\ubcf8\\uae08\\uc740\", \"\\uc7a0\\uc218\\uad50\", \"\\uc7a0\\uc2e4\\uc57c\\uad6c\\uc7a5\", \"\\uc7a5\\uae30\\uae30\\uc99d\", \"\\uc7a5\\uc560\\uc778\", \"\\uc7a5\\uc560\\uc778\", \"\\uc7a5\\uc560\\uc778\", \"\\uc7a5\\uc560\\uc778\", \"\\uc7a5\\uc560\\uc778\", \"\\uc7a5\\uc560\\uc778\", \"\\uc7a5\\uc560\\uc778\", \"\\uc7a5\\uc560\\uc778\", \"\\uc7a5\\uc560\\uc778\", \"\\uc7a5\\uc560\\uccad\\uc18c\\ub144\", \"\\uc7ac\\ubc30\\uc815\\uc0ac\\uc5c5\", \"\\uc7ac\\uc815\\uc790\\ub9bd\\ub3c4\\ub294\", \"\\uc800\\uc218\\uc870\\ub97c\", \"\\uc800\\uc218\\uc870\\ub97c\", \"\\uc800\\uc218\\uc870\\uc758\", \"\\uc800\\uc218\\uc870\\uc758\", \"\\uc800\\uc218\\uc870\\uc758\", \"\\uc801\\uc6a9\", \"\\uc801\\uc6a9\", \"\\uc801\\uc6a9\", \"\\uc801\\uc6a9\", \"\\uc801\\uc6a9\", \"\\uc801\\uc6a9\", \"\\uc801\\uc6a9\", \"\\uc801\\uc6a9\", \"\\uc801\\uc6a9\", \"\\uc801\\uc6a9\", \"\\uc801\\uc7ac\\uc911\\ub7c9\\uc774\", \"\\uc804\\ub2ec\\ud569\\ub2c8\\ub2e4\", \"\\uc804\\uc0b0\\uc815\\ubcf4\\uacfc\", \"\\uc804\\uc138\\uad8c\", \"\\uc804\\uc138\\uad8c\", \"\\uc804\\ud558\\uace0\\uc790\", \"\\uc810\\uc790\\uc2a4\\ud2f0\\ucee4\", \"\\uc811\\ud55c\", \"\\uc811\\ud55c\", \"\\uc811\\ud55c\", \"\\uc811\\ud55c\", \"\\uc811\\ud55c\", \"\\uc815\\uc74d\", \"\\uc81c\\uac15\", \"\\uc81c\\uacf5\", \"\\uc81c\\uacf5\", \"\\uc81c\\uacf5\", \"\\uc81c\\uacf5\", \"\\uc81c\\uacf5\", \"\\uc81c\\uacf5\", \"\\uc81c\\uacf5\", \"\\uc81c\\uacf5\", \"\\uc81c\\uacf5\", \"\\uc81c\\uacf5\", \"\\uc81c\\ubd09\\uc218\\ub300\\uc640\", \"\\uc81c\\uc0b0\\ucc45\\ub85c\", \"\\uc81c\\uc21c\\uc704\", \"\\uc81c\\uc678\", \"\\uc81c\\uc678\", \"\\uc81c\\uc678\", \"\\uc81c\\uc678\", \"\\uc81c\\uc678\", \"\\uc81c\\uc678\", \"\\uc81c\\uc678\", \"\\uc81c\\uc678\", \"\\uc81c\\uc678\", \"\\uc81c\\uc678\", \"\\uc81c\\uc870\", \"\\uc81c\\uc870\", \"\\uc81c\\uc870\", \"\\uc81c\\uc870\", \"\\uc81c\\uc870\", \"\\uc81c\\uc870\", \"\\uc81c\\uc870\", \"\\uc81c\\uc870\", \"\\uc81c\\uc870\", \"\\uc81c\\uc870\", \"\\uc81c\\uc870\\uad6c\\ub9e4\", \"\\uc81c\\uc870\\uc5d0\", \"\\uc81c\\uc870\\uc5d0\", \"\\uc81c\\uc870\\uc5d0\", \"\\uc81c\\uc870\\uc5d0\", \"\\uc81c\\uc870\\uc5d0\", \"\\uc81c\\uc870\\uc5d0\", \"\\uc81c\\uc870\\uc5d0\", \"\\uc81c\\uc870\\uc5d0\", \"\\uc81c\\uc870\\uc5d0\", \"\\uc81c\\uc870\\uc81c\\ud56d\\uc744\", \"\\uc81c\\uc885\\uadfc\\ub9b0\\uc0dd\\ud65c\\uc2dc\\uc124\", \"\\uc870\\ud569\", \"\\uc870\\ud569\", \"\\uc870\\ud569\\uc8fc\\ud0dd\\uc758\", \"\\uc885\\ub85c\\uad6c\", \"\\uc885\\ub85c\\uad6c\", \"\\uc885\\ub85c\\uad6c\", \"\\uc885\\ub85c\\uad6c\", \"\\uc885\\ub85c\\uad6c\", \"\\uc885\\ub85c\\uad6c\", \"\\uc8fc\\ubbfc\\ub300\\uc0c1\", \"\\uc8fc\\ubbfc\\ucd1d\\ud68c\", \"\\uc8fc\\ubbfc\\ucd1d\\ud68c\", \"\\uc8fc\\ubbfc\\ucd1d\\ud68c\", \"\\uc8fc\\uc18c\", \"\\uc8fc\\uc18c\", \"\\uc8fc\\uc18c\", \"\\uc8fc\\uc18c\", \"\\uc8fc\\uc18c\", \"\\uc8fc\\uc18c\", \"\\uc8fc\\uc18c\", \"\\uc8fc\\uc18c\", \"\\uc8fc\\uc18c\", \"\\uc8fc\\uc18c\", \"\\uc8fc\\uc694\", \"\\uc8fc\\uc694\", \"\\uc8fc\\uc694\", \"\\uc8fc\\uc694\", \"\\uc8fc\\uc694\", \"\\uc8fc\\uc694\", \"\\uc8fc\\uc694\", \"\\uc8fc\\uc694\", \"\\uc8fc\\uc694\", \"\\uc8fc\\uc694\", \"\\uc8fc\\uc911\", \"\\uc8fc\\ucc28\\uc0b0\\uc815\", \"\\uc8fc\\ud0dd\\ub2e8\\uc9c0\\uc758\", \"\\uc8fc\\ud0dd\\uc6a9\", \"\\uc8fc\\ud0dd\\uc784\\ub300\\ubcf4\\uc99d\\uc758\", \"\\uc911\\uacc4\\uc0ac\\uac00\", \"\\uc911\\uacc4\\uc0ac\\uc640\", \"\\uc911\\uad6c\", \"\\uc911\\uad6c\", \"\\uc911\\uad6c\", \"\\uc911\\uad6c\", \"\\uc911\\uad6c\", \"\\uc911\\uad6c\", \"\\uc911\\uad6c\", \"\\uc911\\uad6c\", \"\\uc911\\uad6c\", \"\\uc911\\uad6c\", \"\\uc911\\uc2ec\\uc810\", \"\\uc99d\\uac15\\ud604\\uc2e4\", \"\\uc9c0\\uadf8\\uc7ac\\uadf8\", \"\\uc9c0\\uc6d0\", \"\\uc9c0\\uc6d0\", \"\\uc9c0\\uc6d0\", \"\\uc9c0\\uc6d0\", \"\\uc9c0\\uc6d0\", \"\\uc9c0\\uc6d0\", \"\\uc9c0\\uc6d0\", \"\\uc9c0\\uc6d0\", \"\\uc9c0\\uc6d0\", \"\\uc9c0\\uc6d0\", \"\\uc9c1\\uac70\\ub798\", \"\\uc9c1\\ub2a5\\ub2e8\\uccb4\", \"\\uc9c1\\ubd09\\uc774\", \"\\uc9c1\\uc7a5\", \"\\uc9c1\\uc7a5\", \"\\uc9c1\\uc7a5\", \"\\uc9c1\\uc7a5\", \"\\uc9c1\\uc7a5\", \"\\uc9c1\\uc7a5\", \"\\uc9c1\\uc7a5\\ub9cc\\ub4e4\\uae30\", \"\\uc9c4\\ub8cc\\ube44\", \"\\uc9c4\\ub8cc\\ube44\", \"\\uc9c4\\ub8cc\\ube44\", \"\\uc9c4\\ud589\", \"\\uc9c4\\ud589\", \"\\uc9c4\\ud589\", \"\\uc9c4\\ud589\", \"\\uc9c4\\ud589\", \"\\uc9c4\\ud589\", \"\\uc9c4\\ud589\", \"\\uc9c4\\ud589\", \"\\uc9c4\\ud589\", \"\\uc9c4\\ud589\", \"\\uc9d1\\ud68c\\uc2dc\\uc124\", \"\\uc9d1\\ud68c\\uc2dc\\uc124\", \"\\ucc28\\ub85c\", \"\\ucc28\\ub85c\", \"\\ucc28\\ub85c\", \"\\ucc28\\ub85c\", \"\\ucc28\\ub85c\", \"\\ucc28\\ub85c\", \"\\ucc28\\uc0c1\\uc704\", \"\\ucc28\\uc0c1\\uc704\", \"\\ucc28\\uc885\", \"\\ucc28\\uc885\", \"\\ucc28\\uc885\", \"\\ucc29\\ud55c\\uac00\\uaca9\\uc5c5\\uc18c\", \"\\ucc3d\\ub3d9\", \"\\ucc3d\\ub3d9\", \"\\ucc4c\\ub9b0\\uc9c0\", \"\\ucc98\\ub9ac\\ud55c\", \"\\ucc98\\ubc8c\\uc744\", \"\\ucc9c\\uc138\\ub300\", \"\\ucc9c\\uc5f0\\uae30\\ub150\\ubb3c\", \"\\ucc9c\\uc5f0\\uae30\\ub150\\ubb3c\", \"\\uccad\\uacc4\\ucc9c\", \"\\uccad\\uacc4\\ucc9c\", \"\\uccad\\uacc4\\ucc9c\", \"\\uccad\\uacc4\\ucc9c\", \"\\uccad\\ub2f4\\ub3c4\\uace1\", \"\\uccad\\uc18c\\ub144\", \"\\uccad\\uc18c\\ub144\", \"\\uccad\\uc18c\\ub144\", \"\\uccad\\uc18c\\ub144\", \"\\uccad\\uc18c\\ub144\", \"\\uccad\\uc18c\\ub144\", \"\\uccad\\uc18c\\ub144\", \"\\uccad\\uc18c\\ub144\", \"\\uccad\\uc18c\\ub144\", \"\\uccad\\uc57d\\ubd80\\uae08\", \"\\uccad\\uc57d\\uc608\\uae08\", \"\\uccad\\uc57d\\uc800\\ucd95\", \"\\uccad\\uc57d\\uc800\\ucd95\", \"\\uccad\\uc6d0\", \"\\uccad\\uc6d0\\uc740\", \"\\uccb4\\uc721\", \"\\uccb4\\uc721\", \"\\uccb4\\uc721\", \"\\uccb4\\ud5d8\\ub18d\\uc6d0\", \"\\uccb4\\ud5d8\\ub9c8\\uc744\", \"\\uccb4\\ud5d8\\uc694\\uae08\", \"\\ucd5c\\uc18c\\ubd84\\uc591\\ub2e8\\uc704\\uaddc\\ubaa8\", \"\\ucd9c\\uad6c\", \"\\ucd9c\\uad6c\", \"\\ucd9c\\uad6c\", \"\\ucd9c\\uad6c\", \"\\ucd9c\\uad6c\", \"\\ucd9c\\uad6c\", \"\\ucd9c\\uad6c\", \"\\ucd9c\\uad6c\", \"\\ucd9c\\uad6c\", \"\\ucd9c\\uad6c\", \"\\ucd9c\\uad6c\\ub85c\", \"\\ucd9c\\uad6c\\ub85c\", \"\\ucd9c\\uad6c\\ub85c\", \"\\ucd9c\\uad6c\\ub85c\", \"\\uce35\\ud3c9\\uc77c\", \"\\uce58\\ub9e4\\uc9c0\\uc6d0\\uc13c\\ud130\", \"\\uce5c\\uad6c\\uc758\", \"\\uce74\\ub4dc\", \"\\uce74\\ub4dc\", \"\\uce74\\ub4dc\", \"\\uce74\\ub4dc\", \"\\uce74\\ub4dc\", \"\\uce74\\ub4dc\", \"\\uce74\\ub4dc\", \"\\uce74\\uc57d\\ud1a4\", \"\\ucea0\\ud398\\uc778\", \"\\ucea0\\ud398\\uc778\", \"\\ucea0\\ud398\\uc778\", \"\\ucea0\\ud398\\uc778\", \"\\ucf58\\ud14c\\uc2a4\\ud2b8\", \"\\ud0c0\\uc6cc\\ud06c\\ub808\\uc778\", \"\\ud0d1\\uc2b9\\uc2dc\", \"\\ud0dc\\uc548\", \"\\ud0dc\\uc591\\uad11\", \"\\ud0dc\\uc591\\uad11\", \"\\ud0dc\\uc591\\uad11\", \"\\ud0dc\\uc591\\uad11\", \"\\ud0dc\\uc591\\uad11\", \"\\ud15c\\ud50c\\uc2a4\\ud14c\\uc774\", \"\\ud1a0\\ubaa9\", \"\\ud1a0\\ubaa9\", \"\\ud1a0\\ubaa9\", \"\\ud1a0\\ubaa9\\ubd84\\uc57c\", \"\\ud1a0\\ud06c\\ucf58\\uc11c\\ud2b8\", \"\\ud1b5\\ubc18\", \"\\ud1b5\\uc2e0\\uad00\\ub828\", \"\\ud1b5\\ud558\\ub294\\ub370\", \"\\ud1b5\\ud574\", \"\\ud1b5\\ud574\", \"\\ud1b5\\ud574\", \"\\ud1b5\\ud574\", \"\\ud1b5\\ud574\", \"\\ud1b5\\ud574\", \"\\ud1b5\\ud574\", \"\\ud1b5\\ud574\", \"\\ud1b5\\ud574\", \"\\ud1b5\\ud574\", \"\\ud1b5\\ud654\\ub0b4\\uc6a9\\uc744\", \"\\ud2b8\\ub808\\ud0b9\", \"\\ud2b8\\uc708\\uc2a4\", \"\\ud2b9\\ub840\", \"\\ud2b9\\ub840\", \"\\ud2b9\\ub840\", \"\\ud2b9\\ubcc4\\uacc4\\ud68d\\uad6c\\uc5ed\\uc758\", \"\\ud2b9\\ubcc4\\ud65c\\ub3d9\", \"\\ud2b9\\uc218\\uc774\\ub95c\\ucd5c\\uace0\", \"\\ud30c\\uc0b0\", \"\\ud328\\ub110\", \"\\ud328\\ub110\", \"\\ud37c\\ub2c8\\uc2a4\\ud2b8\", \"\\ud3b8\\uc758\\uc2dc\\uc124\", \"\\ud3b8\\uc758\\uc2dc\\uc124\", \"\\ud3b8\\uc758\\uc2dc\\uc124\", \"\\ud3b8\\uc758\\uc2dc\\uc124\", \"\\ud3b8\\uc758\\uc2dc\\uc124\", \"\\ud3b8\\uc758\\uc2dc\\uc124\", \"\\ud3b8\\uc758\\uc2dc\\uc124\", \"\\ud3c9\\uc77c\", \"\\ud3c9\\uc77c\", \"\\ud3c9\\uc77c\", \"\\ud3c9\\uc77c\", \"\\ud3c9\\uc77c\", \"\\ud3c9\\uc77c\", \"\\ud3c9\\uc77c\", \"\\ud3c9\\uc77c\", \"\\ud3c9\\uc77c\", \"\\ud3c9\\uc77c\", \"\\ud45c\\ucc3d\", \"\\ud45c\\ucc3d\", \"\\ud45c\\ucc3d\", \"\\ud488\\ubaa9\\uc81c\\uc870\\uc815\\uc9c0\", \"\\ud544\\uc694\\ud55c\", \"\\ud544\\uc694\\ud55c\", \"\\ud544\\uc694\\ud55c\", \"\\ud544\\uc694\\ud55c\", \"\\ud544\\uc694\\ud55c\", \"\\ud544\\uc694\\ud55c\", \"\\ud544\\uc694\\ud55c\", \"\\ud544\\uc694\\ud55c\", \"\\ud544\\uc694\\ud55c\", \"\\ud544\\uc694\\ud55c\", \"\\ud558\\uace0\", \"\\ud558\\uace0\", \"\\ud558\\uace0\", \"\\ud558\\uace0\", \"\\ud558\\uace0\", \"\\ud558\\uace0\", \"\\ud558\\uace0\", \"\\ud558\\uace0\", \"\\ud558\\uace0\", \"\\ud558\\uace0\", \"\\ud558\\ub098\\uc694\", \"\\ud558\\ub098\\uc694\", \"\\ud558\\ub098\\uc694\", \"\\ud558\\ub098\\uc694\", \"\\ud558\\ub098\\uc694\", \"\\ud558\\ub098\\uc694\", \"\\ud558\\ub098\\uc694\", \"\\ud558\\ub098\\uc694\", \"\\ud558\\ub098\\uc694\", \"\\ud558\\ub098\\uc694\", \"\\ud558\\ub294\", \"\\ud558\\ub294\", \"\\ud558\\ub294\", \"\\ud558\\ub294\", \"\\ud558\\ub294\", \"\\ud558\\ub294\", \"\\ud558\\ub294\", \"\\ud558\\ub294\", \"\\ud558\\ub294\", \"\\ud558\\ub294\", \"\\ud558\\uc5ec\\uc57c\", \"\\ud558\\uc5ec\\uc57c\", \"\\ud558\\uc5ec\\uc57c\", \"\\ud558\\uc5ec\\uc57c\", \"\\ud558\\uc5ec\\uc57c\", \"\\ud558\\uc5ec\\uc57c\", \"\\ud558\\uc5ec\\uc57c\", \"\\ud558\\uc5ec\\uc57c\", \"\\ud558\\uc5ec\\uc57c\", \"\\ud558\\uc5ec\\uc57c\", \"\\ud558\\uc600\\uc2b5\\ub2c8\\ub2e4\", \"\\ud559\\ubd80\\ubaa8\", \"\\ud559\\ubd80\\ubaa8\", \"\\ud559\\ubd80\\ubaa8\", \"\\ud559\\ubd80\\ubaa8\", \"\\ud559\\ubd80\\ubaa8\", \"\\ud559\\ubd80\\ubaa8\", \"\\ud559\\ubd80\\ubaa8\\ub2e8\", \"\\ud55c\\uac15\", \"\\ud55c\\uac15\", \"\\ud55c\\uac15\", \"\\ud55c\\uac15\", \"\\ud55c\\uac15\", \"\\ud55c\\uac15\", \"\\ud55c\\uac15\\uc758\", \"\\ud55c\\uae00\", \"\\ud55c\\uae00\", \"\\ud55c\\uae00\", \"\\ud55c\\uc131\\ub300\\uc785\\uad6c\\uc5ed\", \"\\ud55c\\uc131\\ub300\\uc785\\uad6c\\uc5ed\", \"\\ud55c\\uc131\\ub300\\uc785\\uad6c\\uc5ed\", \"\\ud560\\uc778\", \"\\ud560\\uc778\", \"\\ud560\\uc778\", \"\\ud560\\uc778\", \"\\ud560\\uc778\", \"\\ud560\\uc778\", \"\\ud560\\uc778\", \"\\ud568\\uaed8\", \"\\ud568\\uaed8\", \"\\ud568\\uaed8\", \"\\ud568\\uaed8\", \"\\ud568\\uaed8\", \"\\ud568\\uaed8\", \"\\ud568\\uaed8\", \"\\ud568\\uaed8\", \"\\ud568\\uaed8\", \"\\ud568\\uaed8\", \"\\ud568\\uaed8\\uafc8\", \"\\ud569\\uacc4\\uac00\", \"\\ud569\\uacc4\\uac00\", \"\\ud569\\uacc4\\uac00\", \"\\ud569\\uacc4\\uac00\", \"\\ud569\\uacc4\\uac00\", \"\\ud569\\ub2c8\\ub2e4\", \"\\ud569\\ub2c8\\ub2e4\", \"\\ud569\\ub2c8\\ub2e4\", \"\\ud569\\ub2c8\\ub2e4\", \"\\ud569\\ub2c8\\ub2e4\", \"\\ud569\\ub2c8\\ub2e4\", \"\\ud569\\ub2c8\\ub2e4\", \"\\ud569\\ub2c8\\ub2e4\", \"\\ud569\\ub2c8\\ub2e4\", \"\\ud569\\ub2c8\\ub2e4\", \"\\ud569\\uc2dc\\ub2e4\", \"\\ud574\\ub098\\ubb34\", \"\\ud574\\ub2f9\", \"\\ud574\\ub2f9\", \"\\ud574\\ub2f9\", \"\\ud574\\ub2f9\", \"\\ud574\\ub2f9\", \"\\ud574\\ub2f9\", \"\\ud574\\ub2f9\", \"\\ud574\\ub2f9\", \"\\ud574\\ub2f9\", \"\\ud574\\ub2f9\", \"\\ud574\\ub2f9\\ub418\\ub294\", \"\\ud574\\ub2f9\\ub418\\ub294\", \"\\ud574\\ub2f9\\ub418\\ub294\", \"\\ud574\\ub2f9\\ub418\\ub294\", \"\\ud574\\ub2f9\\ub418\\ub294\", \"\\ud574\\ub2f9\\ud558\\ub294\", \"\\ud574\\ub2f9\\ud558\\ub294\", \"\\ud574\\ub2f9\\ud558\\ub294\", \"\\ud574\\ub2f9\\ud558\\ub294\", \"\\ud574\\ub2f9\\ud558\\ub294\", \"\\ud574\\ub2f9\\ud558\\ub294\", \"\\ud574\\ub2f9\\ud558\\ub294\", \"\\ud574\\ub2f9\\ud558\\ub294\", \"\\ud574\\ub2f9\\ud558\\ub294\", \"\\ud574\\ub2f9\\ud558\\ub294\", \"\\ud574\\uce58\\ud0dd\\uc2dc\", \"\\ud575\\uc2ec\\uc694\\uc6d0\", \"\\ud589\\ub824\\ud658\\uc790\", \"\\ud589\\uc0ac\\uae30\\uac04\", \"\\ud589\\uc815\\uc9c0\\uc6d0\\uacfc\", \"\\ud589\\uc815\\uc9c0\\uc6d0\\uacfc\", \"\\ud589\\uc815\\ucc98\\ubd84\", \"\\ud589\\uc815\\ucc98\\ubd84\", \"\\ud589\\uc815\\ucc98\\ubd84\", \"\\ud589\\uc815\\ucc98\\ubd84\", \"\\ud589\\uc815\\ucc98\\ubd84\", \"\\ud5ec\\ud504\\ub370\\uc2a4\\ud06c\", \"\\ud5ec\\ud504\\ub370\\uc2a4\\ud06c\", \"\\ud5ec\\ud504\\ub370\\uc2a4\\ud06c\", \"\\ud604\\uae08\\uc601\\uc218\\uc99d\", \"\\ud604\\uc7a5\\ubbfc\\uc6d0\", \"\\ud638\\uc120\", \"\\ud638\\uc120\", \"\\ud638\\uc120\", \"\\ud638\\uc120\", \"\\ud638\\uc120\", \"\\ud638\\uc120\", \"\\ud638\\uc120\", \"\\ud638\\uc120\", \"\\ud638\\uc120\", \"\\ud638\\uc120\", \"\\ud648\\ud398\\uc774\\uc9c0\", \"\\ud648\\ud398\\uc774\\uc9c0\", \"\\ud648\\ud398\\uc774\\uc9c0\", \"\\ud648\\ud398\\uc774\\uc9c0\", \"\\ud648\\ud398\\uc774\\uc9c0\", \"\\ud648\\ud398\\uc774\\uc9c0\", \"\\ud648\\ud398\\uc774\\uc9c0\", \"\\ud648\\ud398\\uc774\\uc9c0\", \"\\ud648\\ud398\\uc774\\uc9c0\", \"\\ud648\\ud398\\uc774\\uc9c0\", \"\\ud64d\\uc81c\\ucc9c\", \"\\ud654\\ubb3c\", \"\\ud654\\uc7ac\\uacbd\\ubcf4\\uae30\", \"\\ud654\\ud658\\uc744\", \"\\ud655\\uc778\", \"\\ud655\\uc778\", \"\\ud655\\uc778\", \"\\ud655\\uc778\", \"\\ud655\\uc778\", \"\\ud655\\uc778\", \"\\ud655\\uc778\", \"\\ud655\\uc778\", \"\\ud655\\uc778\", \"\\ud655\\uc778\", \"\\ud655\\uc815\\uad6c\\uc5ed\\uc751\\uc554\\ub3d9\", \"\\ud658\\uacbd\\uae30\\ubcf8\\uacc4\\ud68d\\uc740\", \"\\ud658\\uacbd\\ub2e8\\uccb4\", \"\\ud658\\uacbd\\uc601\\ud5a5\\ud3c9\\uac00\", \"\\ud658\\uacbd\\uc601\\ud5a5\\ud3c9\\uac00\", \"\\ud658\\uacbd\\uc601\\ud5a5\\ud3c9\\uac00\", \"\\ud658\\uc790\\uad8c\\ub9ac\", \"\\ud658\\uc790\\uc548\\uc2ec\\ubcd1\\uc6d0\", \"\\ud65c\\ub3d9\\ubcf4\\uc870\\uc778\", \"\\ud68c\\uacc4\\ucee8\\uc124\\ud305\", \"\\ud68c\\uc758\", \"\\ud68c\\uc758\", \"\\ud68c\\uc758\", \"\\ud68c\\uc758\", \"\\ud68c\\uc758\", \"\\ud6c4\\uacc4\\ub18d\\uc5c5\\uacbd\\uc601\\uc778\", \"\\ud6c8\\ub828\", \"\\ud6c8\\ub828\", \"\\ud6c8\\ub828\"]}, \"R\": 30, \"lambda.step\": 0.01, \"plot.opts\": {\"xlab\": \"PC1\", \"ylab\": \"PC2\"}, \"topic.order\": [4, 8, 3, 9, 10, 1, 5, 6, 7, 2]};\n",
       "\n",
       "function LDAvis_load_lib(url, callback){\n",
       "  var s = document.createElement('script');\n",
       "  s.src = url;\n",
       "  s.async = true;\n",
       "  s.onreadystatechange = s.onload = callback;\n",
       "  s.onerror = function(){console.warn(\"failed to load library \" + url);};\n",
       "  document.getElementsByTagName(\"head\")[0].appendChild(s);\n",
       "}\n",
       "\n",
       "if(typeof(LDAvis) !== \"undefined\"){\n",
       "   // already loaded: just create the visualization\n",
       "   !function(LDAvis){\n",
       "       new LDAvis(\"#\" + \"ldavis_el887311402135387917604415170476\", ldavis_el887311402135387917604415170476_data);\n",
       "   }(LDAvis);\n",
       "}else if(typeof define === \"function\" && define.amd){\n",
       "   // require.js is available: use it to load d3/LDAvis\n",
       "   require.config({paths: {d3: \"https://d3js.org/d3.v5\"}});\n",
       "   require([\"d3\"], function(d3){\n",
       "      window.d3 = d3;\n",
       "      LDAvis_load_lib(\"https://cdn.jsdelivr.net/gh/bmabey/pyLDAvis@3.3.1/pyLDAvis/js/ldavis.v3.0.0.js\", function(){\n",
       "        new LDAvis(\"#\" + \"ldavis_el887311402135387917604415170476\", ldavis_el887311402135387917604415170476_data);\n",
       "      });\n",
       "    });\n",
       "}else{\n",
       "    // require.js not available: dynamically load d3 & LDAvis\n",
       "    LDAvis_load_lib(\"https://d3js.org/d3.v5.js\", function(){\n",
       "         LDAvis_load_lib(\"https://cdn.jsdelivr.net/gh/bmabey/pyLDAvis@3.3.1/pyLDAvis/js/ldavis.v3.0.0.js\", function(){\n",
       "                 new LDAvis(\"#\" + \"ldavis_el887311402135387917604415170476\", ldavis_el887311402135387917604415170476_data);\n",
       "            })\n",
       "         });\n",
       "}\n",
       "</script>"
      ],
      "text/plain": [
       "PreparedData(topic_coordinates=               x          y  topics  cluster       Freq\n",
       "topic                                                  \n",
       "3      32.420952   8.115230       1        1  13.259921\n",
       "7       0.648955  71.707100       2        1  11.412742\n",
       "2      71.019684   9.971006       3        1  11.228595\n",
       "8       3.785981  33.185135       4        1  10.144832\n",
       "9     -42.666500  -9.222070       5        1  10.043109\n",
       "0      -3.621689 -43.526516       6        1   9.877599\n",
       "4      -3.632402  -4.171708       7        1   9.539921\n",
       "5     -36.584400  35.804413       8        1   9.012524\n",
       "6      44.391380  50.615383       9        1   8.086331\n",
       "1      40.235809 -31.591665      10        1   7.394426, topic_info=        Term        Freq       Total Category  logprob  loglift\n",
       "119      amp   63.000000   63.000000  Default  30.0000  30.0000\n",
       "39480   자본금은   52.000000   52.000000  Default  29.0000  29.0000\n",
       "36388     의한  205.000000  205.000000  Default  28.0000  28.0000\n",
       "8795   기술능력과   34.000000   34.000000  Default  27.0000  27.0000\n",
       "31204    어떻게  441.000000  441.000000  Default  26.0000  26.0000\n",
       "...      ...         ...         ...      ...      ...      ...\n",
       "53924    합니다   14.178559  196.194444  Topic10  -6.6828  -0.0229\n",
       "3575    경우에는   13.916488  192.141237  Topic10  -6.7015  -0.0207\n",
       "9077      기타   12.125611  120.348058  Topic10  -6.8392   0.3094\n",
       "27828     시간   12.035864  115.813247  Topic10  -6.8467   0.3404\n",
       "304       가능   12.074554  226.443098  Topic10  -6.8435  -0.3269\n",
       "\n",
       "[749 rows x 6 columns], token_table=       Topic      Freq     Term\n",
       "term                           \n",
       "119        3  0.980964      amp\n",
       "119        5  0.015822      amp\n",
       "121        3  0.960074     apos\n",
       "304        1  0.114819       가능\n",
       "304        2  0.128067       가능\n",
       "...      ...       ...      ...\n",
       "56176     10  0.055042       회의\n",
       "56308      7  0.924373  후계농업경영인\n",
       "56375      1  0.208700       훈련\n",
       "56375      5  0.730451       훈련\n",
       "56375      7  0.104350       훈련\n",
       "\n",
       "[1810 rows x 3 columns], R=30, lambda_step=0.01, plot_opts={'xlab': 'PC1', 'ylab': 'PC2'}, topic_order=[4, 8, 3, 9, 10, 1, 5, 6, 7, 2])"
      ]
     },
     "execution_count": 17,
     "metadata": {},
     "output_type": "execute_result"
    }
   ],
   "source": [
    "# 토픽 모델링에 이용되는 LDA 모델의 학습 결과를 시각화하는 Python 라이브러리인 pyLDAvis를 불러옴\n",
    "# mds(Multi-Dimensional Scaling)는 데이터 포인트 간의 거리를 보존하면서 차원을 축소하는 기법\n",
    "# t-SNE(t-Stochastic Neighbor Embedding)은 고차원 데이터를 특히 2, 3차원 등으로 줄여 가시화하는데에 유용\n",
    "\n",
    "import pyLDAvis.sklearn\n",
    "\n",
    "pyLDAvis.enable_notebook()\n",
    "pyLDAvis.sklearn.prepare(LDA_model, dtm_cv, cv, mds='tsne')"
   ]
  },
  {
   "cell_type": "markdown",
   "metadata": {
    "id": "bduBjLQZo1Y1"
   },
   "source": [
    "## TF-IDF(Term Frequency - Inverse Document Frequency)\n",
    "\n",
    "## TfidfVectorizer\n",
    "\n",
    "TF-IDF 인코딩은 단어를 갯수 그대로 카운트하지 않고 모든 문서에 공통적으로 들어있는 단어(낮은 구별력)의 경우 가중치를 축소하는 방법\n",
    "\n",
    "매개변수\n",
    "* norm='l2' 각 문서의 피처 벡터를 어떻게 벡터 정규화 할지 정한다. \n",
    "    - L2 : 벡터의 각 원소의 제곱의 합이 1이 되도록 만드는 것이고 기본 값\n",
    "    - L1 : 벡터의 각 원소의 절댓값의 합이 1이 되도록 크기를 조절\n",
    "* smooth_idf=False\n",
    "    - 피처를 만들 때 0으로 나오는 항목에 대해 작은 값을 더해서(스무딩을 해서) 피처를 만들지 아니면 그냥 생성할지를 결정\n",
    "* sublinear_tf=False\n",
    "* use_idf=True\n",
    "    - TF-IDF를 사용해 피처를 만들 것인지 아니면 단어 빈도 자체를 사용할 것인지 여부\n",
    "* API Document: https://scikit-learn.org/stable/modules/generated/sklearn.feature_extraction.text.TfidfVectorizer.html#sklearn.feature_extraction.text.TfidfVectorizer\n"
   ]
  },
  {
   "cell_type": "code",
   "execution_count": 18,
   "metadata": {
    "id": "tEUNepLOo1Y1",
    "outputId": "7d39e765-68ad-437e-d37c-14a0b03de823"
   },
   "outputs": [
    {
     "data": {
      "text/plain": [
       "TfidfVectorizer(stop_words=['돋움', '경우', '또는', '있습니다', '있는', '합니다'])"
      ]
     },
     "execution_count": 18,
     "metadata": {},
     "output_type": "execute_result"
    }
   ],
   "source": [
    "# TF-IDF 방식으로 단어의 가중치를 조정한 BOW 인코딩하여 벡터화하기 위해 TfidfVectorizer를 사용\n",
    "\n",
    "from sklearn.feature_extraction.text import TfidfVectorizer\n",
    "\n",
    "tfidf = TfidfVectorizer(stop_words=[\"돋움\", \"경우\", \"또는\", \"있습니다\", \"있는\", \"합니다\"])\n",
    "tfidf"
   ]
  },
  {
   "cell_type": "code",
   "execution_count": 19,
   "metadata": {
    "id": "UKEXeuKQo1Y1",
    "outputId": "157f2a5c-9597-45c3-de7a-c9ef1cc1df8e"
   },
   "outputs": [],
   "source": [
    "# 문장에서 노출되는 feature(특징이 될만한 단어) 수를 합한 변수 Document Term Matrix(이하 dtm)를 생성\n",
    "dtm_tfidf = tfidf.fit_transform(df[\"문서\"])"
   ]
  },
  {
   "cell_type": "code",
   "execution_count": 20,
   "metadata": {
    "id": "XLkWfsggo1Y1",
    "outputId": "9256c021-cdb8-4173-d1f6-440f975073de"
   },
   "outputs": [],
   "source": [
    "# tfidf.vocabulary_\n",
    "cols_tfidf = tfidf.get_feature_names()"
   ]
  },
  {
   "cell_type": "code",
   "execution_count": 21,
   "metadata": {
    "id": "n8W95ppMo1Y2",
    "outputId": "76547c25-abeb-4190-ca0e-c49359cd1858"
   },
   "outputs": [
    {
     "data": {
      "text/html": [
       "<div>\n",
       "<style scoped>\n",
       "    .dataframe tbody tr th:only-of-type {\n",
       "        vertical-align: middle;\n",
       "    }\n",
       "\n",
       "    .dataframe tbody tr th {\n",
       "        vertical-align: top;\n",
       "    }\n",
       "\n",
       "    .dataframe thead th {\n",
       "        text-align: right;\n",
       "    }\n",
       "</style>\n",
       "<table border=\"1\" class=\"dataframe\">\n",
       "  <thead>\n",
       "    <tr style=\"text-align: right;\">\n",
       "      <th></th>\n",
       "      <th>0</th>\n",
       "    </tr>\n",
       "  </thead>\n",
       "  <tbody>\n",
       "    <tr>\n",
       "      <th>의한</th>\n",
       "      <td>15.021840</td>\n",
       "    </tr>\n",
       "    <tr>\n",
       "      <th>무엇입니까</th>\n",
       "      <td>15.270257</td>\n",
       "    </tr>\n",
       "    <tr>\n",
       "      <th>이상</th>\n",
       "      <td>15.577954</td>\n",
       "    </tr>\n",
       "    <tr>\n",
       "      <th>관한</th>\n",
       "      <td>16.593598</td>\n",
       "    </tr>\n",
       "    <tr>\n",
       "      <th>무엇인가요</th>\n",
       "      <td>16.650743</td>\n",
       "    </tr>\n",
       "    <tr>\n",
       "      <th>따라</th>\n",
       "      <td>16.652594</td>\n",
       "    </tr>\n",
       "    <tr>\n",
       "      <th>대한</th>\n",
       "      <td>18.866037</td>\n",
       "    </tr>\n",
       "    <tr>\n",
       "      <th>있나요</th>\n",
       "      <td>19.707343</td>\n",
       "    </tr>\n",
       "    <tr>\n",
       "      <th>서울시</th>\n",
       "      <td>22.586695</td>\n",
       "    </tr>\n",
       "    <tr>\n",
       "      <th>어떻게</th>\n",
       "      <td>37.924574</td>\n",
       "    </tr>\n",
       "  </tbody>\n",
       "</table>\n",
       "</div>"
      ],
      "text/plain": [
       "               0\n",
       "의한     15.021840\n",
       "무엇입니까  15.270257\n",
       "이상     15.577954\n",
       "관한     16.593598\n",
       "무엇인가요  16.650743\n",
       "따라     16.652594\n",
       "대한     18.866037\n",
       "있나요    19.707343\n",
       "서울시    22.586695\n",
       "어떻게    37.924574"
      ]
     },
     "execution_count": 21,
     "metadata": {},
     "output_type": "execute_result"
    }
   ],
   "source": [
    "# dtm_tf를 axis=0(수직 방향으로) 기준으로 합계를 낸 dist 변수를 생성\n",
    "# dist 변수를 vocabulary_ 순으로 정렬하여 비율을 확인\n",
    "dist = np.sum(dtm_tfidf, axis=0)\n",
    "pd.DataFrame(dist, columns=cols_tfidf).T.sort_values(by=0).tail(10)"
   ]
  },
  {
   "cell_type": "code",
   "execution_count": 22,
   "metadata": {
    "id": "l61luP9mo1Y2",
    "outputId": "49a5d865-6ee5-4c7d-ff31-217235ea7bfd"
   },
   "outputs": [
    {
     "data": {
      "text/html": [
       "<div>\n",
       "<style scoped>\n",
       "    .dataframe tbody tr th:only-of-type {\n",
       "        vertical-align: middle;\n",
       "    }\n",
       "\n",
       "    .dataframe tbody tr th {\n",
       "        vertical-align: top;\n",
       "    }\n",
       "\n",
       "    .dataframe thead th {\n",
       "        text-align: right;\n",
       "    }\n",
       "</style>\n",
       "<table border=\"1\" class=\"dataframe\">\n",
       "  <thead>\n",
       "    <tr style=\"text-align: right;\">\n",
       "      <th></th>\n",
       "      <th>03월</th>\n",
       "      <th>08년</th>\n",
       "      <th>10</th>\n",
       "      <th>100명이상인</th>\n",
       "      <th>100세가</th>\n",
       "      <th>10만원</th>\n",
       "      <th>10만원상당</th>\n",
       "      <th>10명이고</th>\n",
       "      <th>10인승</th>\n",
       "      <th>10인의</th>\n",
       "      <th>...</th>\n",
       "      <th>힐링프로그램을</th>\n",
       "      <th>힐링하는</th>\n",
       "      <th>힐스테이트</th>\n",
       "      <th>힘들</th>\n",
       "      <th>힘들경우</th>\n",
       "      <th>힘들고</th>\n",
       "      <th>힘쓰고있습니다</th>\n",
       "      <th>힘쓴다</th>\n",
       "      <th>힘을</th>\n",
       "      <th>힘이</th>\n",
       "    </tr>\n",
       "  </thead>\n",
       "  <tbody>\n",
       "    <tr>\n",
       "      <th>0</th>\n",
       "      <td>0.0</td>\n",
       "      <td>0.0</td>\n",
       "      <td>0.0</td>\n",
       "      <td>0.0</td>\n",
       "      <td>0.0</td>\n",
       "      <td>0.0</td>\n",
       "      <td>0.0</td>\n",
       "      <td>0.0</td>\n",
       "      <td>0.0</td>\n",
       "      <td>0.0</td>\n",
       "      <td>...</td>\n",
       "      <td>0.0</td>\n",
       "      <td>0.0</td>\n",
       "      <td>0.0</td>\n",
       "      <td>0.0</td>\n",
       "      <td>0.0</td>\n",
       "      <td>0.0</td>\n",
       "      <td>0.0</td>\n",
       "      <td>0.0</td>\n",
       "      <td>0.0</td>\n",
       "      <td>0.0</td>\n",
       "    </tr>\n",
       "    <tr>\n",
       "      <th>1</th>\n",
       "      <td>0.0</td>\n",
       "      <td>0.0</td>\n",
       "      <td>0.0</td>\n",
       "      <td>0.0</td>\n",
       "      <td>0.0</td>\n",
       "      <td>0.0</td>\n",
       "      <td>0.0</td>\n",
       "      <td>0.0</td>\n",
       "      <td>0.0</td>\n",
       "      <td>0.0</td>\n",
       "      <td>...</td>\n",
       "      <td>0.0</td>\n",
       "      <td>0.0</td>\n",
       "      <td>0.0</td>\n",
       "      <td>0.0</td>\n",
       "      <td>0.0</td>\n",
       "      <td>0.0</td>\n",
       "      <td>0.0</td>\n",
       "      <td>0.0</td>\n",
       "      <td>0.0</td>\n",
       "      <td>0.0</td>\n",
       "    </tr>\n",
       "    <tr>\n",
       "      <th>2</th>\n",
       "      <td>0.0</td>\n",
       "      <td>0.0</td>\n",
       "      <td>0.0</td>\n",
       "      <td>0.0</td>\n",
       "      <td>0.0</td>\n",
       "      <td>0.0</td>\n",
       "      <td>0.0</td>\n",
       "      <td>0.0</td>\n",
       "      <td>0.0</td>\n",
       "      <td>0.0</td>\n",
       "      <td>...</td>\n",
       "      <td>0.0</td>\n",
       "      <td>0.0</td>\n",
       "      <td>0.0</td>\n",
       "      <td>0.0</td>\n",
       "      <td>0.0</td>\n",
       "      <td>0.0</td>\n",
       "      <td>0.0</td>\n",
       "      <td>0.0</td>\n",
       "      <td>0.0</td>\n",
       "      <td>0.0</td>\n",
       "    </tr>\n",
       "    <tr>\n",
       "      <th>3</th>\n",
       "      <td>0.0</td>\n",
       "      <td>0.0</td>\n",
       "      <td>0.0</td>\n",
       "      <td>0.0</td>\n",
       "      <td>0.0</td>\n",
       "      <td>0.0</td>\n",
       "      <td>0.0</td>\n",
       "      <td>0.0</td>\n",
       "      <td>0.0</td>\n",
       "      <td>0.0</td>\n",
       "      <td>...</td>\n",
       "      <td>0.0</td>\n",
       "      <td>0.0</td>\n",
       "      <td>0.0</td>\n",
       "      <td>0.0</td>\n",
       "      <td>0.0</td>\n",
       "      <td>0.0</td>\n",
       "      <td>0.0</td>\n",
       "      <td>0.0</td>\n",
       "      <td>0.0</td>\n",
       "      <td>0.0</td>\n",
       "    </tr>\n",
       "    <tr>\n",
       "      <th>4</th>\n",
       "      <td>0.0</td>\n",
       "      <td>0.0</td>\n",
       "      <td>0.0</td>\n",
       "      <td>0.0</td>\n",
       "      <td>0.0</td>\n",
       "      <td>0.0</td>\n",
       "      <td>0.0</td>\n",
       "      <td>0.0</td>\n",
       "      <td>0.0</td>\n",
       "      <td>0.0</td>\n",
       "      <td>...</td>\n",
       "      <td>0.0</td>\n",
       "      <td>0.0</td>\n",
       "      <td>0.0</td>\n",
       "      <td>0.0</td>\n",
       "      <td>0.0</td>\n",
       "      <td>0.0</td>\n",
       "      <td>0.0</td>\n",
       "      <td>0.0</td>\n",
       "      <td>0.0</td>\n",
       "      <td>0.0</td>\n",
       "    </tr>\n",
       "    <tr>\n",
       "      <th>...</th>\n",
       "      <td>...</td>\n",
       "      <td>...</td>\n",
       "      <td>...</td>\n",
       "      <td>...</td>\n",
       "      <td>...</td>\n",
       "      <td>...</td>\n",
       "      <td>...</td>\n",
       "      <td>...</td>\n",
       "      <td>...</td>\n",
       "      <td>...</td>\n",
       "      <td>...</td>\n",
       "      <td>...</td>\n",
       "      <td>...</td>\n",
       "      <td>...</td>\n",
       "      <td>...</td>\n",
       "      <td>...</td>\n",
       "      <td>...</td>\n",
       "      <td>...</td>\n",
       "      <td>...</td>\n",
       "      <td>...</td>\n",
       "      <td>...</td>\n",
       "    </tr>\n",
       "    <tr>\n",
       "      <th>2640</th>\n",
       "      <td>0.0</td>\n",
       "      <td>0.0</td>\n",
       "      <td>0.0</td>\n",
       "      <td>0.0</td>\n",
       "      <td>0.0</td>\n",
       "      <td>0.0</td>\n",
       "      <td>0.0</td>\n",
       "      <td>0.0</td>\n",
       "      <td>0.0</td>\n",
       "      <td>0.0</td>\n",
       "      <td>...</td>\n",
       "      <td>0.0</td>\n",
       "      <td>0.0</td>\n",
       "      <td>0.0</td>\n",
       "      <td>0.0</td>\n",
       "      <td>0.0</td>\n",
       "      <td>0.0</td>\n",
       "      <td>0.0</td>\n",
       "      <td>0.0</td>\n",
       "      <td>0.0</td>\n",
       "      <td>0.0</td>\n",
       "    </tr>\n",
       "    <tr>\n",
       "      <th>2641</th>\n",
       "      <td>0.0</td>\n",
       "      <td>0.0</td>\n",
       "      <td>0.0</td>\n",
       "      <td>0.0</td>\n",
       "      <td>0.0</td>\n",
       "      <td>0.0</td>\n",
       "      <td>0.0</td>\n",
       "      <td>0.0</td>\n",
       "      <td>0.0</td>\n",
       "      <td>0.0</td>\n",
       "      <td>...</td>\n",
       "      <td>0.0</td>\n",
       "      <td>0.0</td>\n",
       "      <td>0.0</td>\n",
       "      <td>0.0</td>\n",
       "      <td>0.0</td>\n",
       "      <td>0.0</td>\n",
       "      <td>0.0</td>\n",
       "      <td>0.0</td>\n",
       "      <td>0.0</td>\n",
       "      <td>0.0</td>\n",
       "    </tr>\n",
       "    <tr>\n",
       "      <th>2642</th>\n",
       "      <td>0.0</td>\n",
       "      <td>0.0</td>\n",
       "      <td>0.0</td>\n",
       "      <td>0.0</td>\n",
       "      <td>0.0</td>\n",
       "      <td>0.0</td>\n",
       "      <td>0.0</td>\n",
       "      <td>0.0</td>\n",
       "      <td>0.0</td>\n",
       "      <td>0.0</td>\n",
       "      <td>...</td>\n",
       "      <td>0.0</td>\n",
       "      <td>0.0</td>\n",
       "      <td>0.0</td>\n",
       "      <td>0.0</td>\n",
       "      <td>0.0</td>\n",
       "      <td>0.0</td>\n",
       "      <td>0.0</td>\n",
       "      <td>0.0</td>\n",
       "      <td>0.0</td>\n",
       "      <td>0.0</td>\n",
       "    </tr>\n",
       "    <tr>\n",
       "      <th>2643</th>\n",
       "      <td>0.0</td>\n",
       "      <td>0.0</td>\n",
       "      <td>0.0</td>\n",
       "      <td>0.0</td>\n",
       "      <td>0.0</td>\n",
       "      <td>0.0</td>\n",
       "      <td>0.0</td>\n",
       "      <td>0.0</td>\n",
       "      <td>0.0</td>\n",
       "      <td>0.0</td>\n",
       "      <td>...</td>\n",
       "      <td>0.0</td>\n",
       "      <td>0.0</td>\n",
       "      <td>0.0</td>\n",
       "      <td>0.0</td>\n",
       "      <td>0.0</td>\n",
       "      <td>0.0</td>\n",
       "      <td>0.0</td>\n",
       "      <td>0.0</td>\n",
       "      <td>0.0</td>\n",
       "      <td>0.0</td>\n",
       "    </tr>\n",
       "    <tr>\n",
       "      <th>2644</th>\n",
       "      <td>0.0</td>\n",
       "      <td>0.0</td>\n",
       "      <td>0.0</td>\n",
       "      <td>0.0</td>\n",
       "      <td>0.0</td>\n",
       "      <td>0.0</td>\n",
       "      <td>0.0</td>\n",
       "      <td>0.0</td>\n",
       "      <td>0.0</td>\n",
       "      <td>0.0</td>\n",
       "      <td>...</td>\n",
       "      <td>0.0</td>\n",
       "      <td>0.0</td>\n",
       "      <td>0.0</td>\n",
       "      <td>0.0</td>\n",
       "      <td>0.0</td>\n",
       "      <td>0.0</td>\n",
       "      <td>0.0</td>\n",
       "      <td>0.0</td>\n",
       "      <td>0.0</td>\n",
       "      <td>0.0</td>\n",
       "    </tr>\n",
       "  </tbody>\n",
       "</table>\n",
       "<p>2645 rows × 56648 columns</p>\n",
       "</div>"
      ],
      "text/plain": [
       "      03월  08년   10  100명이상인  100세가  10만원  10만원상당  10명이고  10인승  10인의  ...  \\\n",
       "0     0.0  0.0  0.0      0.0    0.0   0.0     0.0    0.0   0.0   0.0  ...   \n",
       "1     0.0  0.0  0.0      0.0    0.0   0.0     0.0    0.0   0.0   0.0  ...   \n",
       "2     0.0  0.0  0.0      0.0    0.0   0.0     0.0    0.0   0.0   0.0  ...   \n",
       "3     0.0  0.0  0.0      0.0    0.0   0.0     0.0    0.0   0.0   0.0  ...   \n",
       "4     0.0  0.0  0.0      0.0    0.0   0.0     0.0    0.0   0.0   0.0  ...   \n",
       "...   ...  ...  ...      ...    ...   ...     ...    ...   ...   ...  ...   \n",
       "2640  0.0  0.0  0.0      0.0    0.0   0.0     0.0    0.0   0.0   0.0  ...   \n",
       "2641  0.0  0.0  0.0      0.0    0.0   0.0     0.0    0.0   0.0   0.0  ...   \n",
       "2642  0.0  0.0  0.0      0.0    0.0   0.0     0.0    0.0   0.0   0.0  ...   \n",
       "2643  0.0  0.0  0.0      0.0    0.0   0.0     0.0    0.0   0.0   0.0  ...   \n",
       "2644  0.0  0.0  0.0      0.0    0.0   0.0     0.0    0.0   0.0   0.0  ...   \n",
       "\n",
       "      힐링프로그램을  힐링하는  힐스테이트   힘들  힘들경우  힘들고  힘쓰고있습니다  힘쓴다   힘을   힘이  \n",
       "0         0.0   0.0    0.0  0.0   0.0  0.0      0.0  0.0  0.0  0.0  \n",
       "1         0.0   0.0    0.0  0.0   0.0  0.0      0.0  0.0  0.0  0.0  \n",
       "2         0.0   0.0    0.0  0.0   0.0  0.0      0.0  0.0  0.0  0.0  \n",
       "3         0.0   0.0    0.0  0.0   0.0  0.0      0.0  0.0  0.0  0.0  \n",
       "4         0.0   0.0    0.0  0.0   0.0  0.0      0.0  0.0  0.0  0.0  \n",
       "...       ...   ...    ...  ...   ...  ...      ...  ...  ...  ...  \n",
       "2640      0.0   0.0    0.0  0.0   0.0  0.0      0.0  0.0  0.0  0.0  \n",
       "2641      0.0   0.0    0.0  0.0   0.0  0.0      0.0  0.0  0.0  0.0  \n",
       "2642      0.0   0.0    0.0  0.0   0.0  0.0      0.0  0.0  0.0  0.0  \n",
       "2643      0.0   0.0    0.0  0.0   0.0  0.0      0.0  0.0  0.0  0.0  \n",
       "2644      0.0   0.0    0.0  0.0   0.0  0.0      0.0  0.0  0.0  0.0  \n",
       "\n",
       "[2645 rows x 56648 columns]"
      ]
     },
     "execution_count": 22,
     "metadata": {},
     "output_type": "execute_result"
    }
   ],
   "source": [
    "# 각 row에서 전체 단어가방에 있는 어휘에서 등장하는 단어에 대한 가중치를 적용한 vector를 확인\n",
    "# toarray()로 희소 행렬(sparse matrix, 행렬의 값이 대부분 '0'인 행렬)을 NumPy array 배열로 변환하여 값을 확인\n",
    "pd.DataFrame(dtm_tfidf.toarray(), columns=cols_tfidf)"
   ]
  },
  {
   "cell_type": "markdown",
   "metadata": {
    "id": "TMPSs--bo1Y2"
   },
   "source": [
    "## TF-IDF 잠재 디리클레 할당(LDA)"
   ]
  },
  {
   "cell_type": "code",
   "execution_count": 23,
   "metadata": {
    "id": "6bRYL9mho1Y2",
    "outputId": "64d81c7a-e8d0-4697-bef7-f3a4c9415fdf"
   },
   "outputs": [],
   "source": [
    "# 주어진 문서에 대하여 각 문서에 어떤 주제들이 존재하는지를 확인하는 잠재 디리클레 분석(LDA)을 사용\n",
    "# n_components에 넣을 하이퍼파라미터 NUM_TOPICS로 주제수를 설정(기본값=10)\n",
    "# max_iter는 훈련 데이터(epoch라고도 함)에 대한 최대 패스 수(기본값=10)\n",
    "\n",
    "NUM_TOPICS = 10 \n",
    "LDA_model = LatentDirichletAllocation(n_components=NUM_TOPICS, \n",
    "                                      max_iter=30, \n",
    "                                      random_state=42)"
   ]
  },
  {
   "cell_type": "code",
   "execution_count": 24,
   "metadata": {
    "id": "6bRYL9mho1Y2",
    "outputId": "64d81c7a-e8d0-4697-bef7-f3a4c9415fdf",
    "scrolled": true
   },
   "outputs": [
    {
     "data": {
      "text/plain": [
       "LatentDirichletAllocation(max_iter=30, random_state=42)"
      ]
     },
     "execution_count": 24,
     "metadata": {},
     "output_type": "execute_result"
    }
   ],
   "source": [
    "# dtm_tfidf 를 LDA_model로 학습\n",
    "LDA_model.fit(dtm_tfidf)"
   ]
  },
  {
   "cell_type": "code",
   "execution_count": 25,
   "metadata": {
    "id": "gE9FI9jmo1Y3",
    "outputId": "1f04d309-c867-421e-a948-8e3b1d386fdc"
   },
   "outputs": [
    {
     "data": {
      "text/html": [
       "\n",
       "<link rel=\"stylesheet\" type=\"text/css\" href=\"https://cdn.jsdelivr.net/gh/bmabey/pyLDAvis@3.3.1/pyLDAvis/js/ldavis.v1.0.0.css\">\n",
       "\n",
       "\n",
       "<div id=\"ldavis_el887311402141037296161953164918\"></div>\n",
       "<script type=\"text/javascript\">\n",
       "\n",
       "var ldavis_el887311402141037296161953164918_data = {\"mdsDat\": {\"x\": [32.42095184326172, 0.648955225944519, 71.01968383789062, 3.7859814167022705, -42.666500091552734, -3.6216893196105957, -3.632401704788208, -36.58440017700195, 44.391380310058594, 40.235809326171875], \"y\": [8.115229606628418, 71.70709991455078, 9.971006393432617, 33.18513488769531, -9.22206974029541, -43.52651596069336, -4.171707630157471, 35.804412841796875, 50.61538314819336, -31.591665267944336], \"topics\": [1, 2, 3, 4, 5, 6, 7, 8, 9, 10], \"cluster\": [1, 1, 1, 1, 1, 1, 1, 1, 1, 1], \"Freq\": [13.379686683284275, 11.60327757279948, 10.72134621170983, 10.14666940277184, 9.686809689764667, 9.308105764866212, 9.278252355650226, 8.740215188407065, 8.696668184479508, 8.438968946266892]}, \"tinfo\": {\"Term\": [\"\\uc790\\ubcf8\\uae08\\uc740\", \"\\uae30\\uc220\\ub2a5\\ub825\\uacfc\", \"\\uccad\\uc18c\\ub144\", \"\\uac74\\uc124\\uae30\\uc220\\uc790\", \"\\uc774\\uc0c1\\uc774\\uace0\", \"\\uc2e0\\uccad\", \"\\uc9c0\\uc6d0\", \"\\uad50\\uc721\", \"\\uad00\\ub828\\uc885\\ubaa9\\uc758\", \"\\uad6c\\ubd84\", \"\\ubaa8\\uc9d1\", \"\\uc811\\uc218\", \"\\uad6d\\uac00\\uae30\\uc220\\uc790\\uaca9\\ubc95\\uc5d0\", \"\\uc5b4\\ub9b0\\uc774\\uc9d1\", \"\\ub0b4\\uc6a9\", \"\\uc5b5\\uc6d0\", \"\\uc758\\ud55c\", \"\\uc2e0\\uccad\\ubc29\\ubc95\", \"\\uae30\\uc220\\uc790\\uaca9\\ucde8\\ub4dd\\uc790\", \"\\uc774\\uba54\\uc77c\", \"\\uae30\\ud0c0\\uc0ac\\ud56d\", \"\\uc2e0\\uccad\\uc11c\", \"\\uc2ec\\uc0ac\\uc694\\uccad\", \"\\uc7ac\\ubc30\\uc815\\uc0ac\\uc5c5\", \"\\uc774\\uc0c1\\uc785\\ub2c8\\ub2e4\", \"\\uc2dc\\ube44\", \"\\ub418\\ub098\\uc694\\uac74\\uc124\\uae30\\uc220\\uad00\\ub9ac\\ubc95\\uc5d0\", \"\\ud648\\ud398\\uc774\\uc9c0\", \"\\uc5c5\\ubb34\\uac1c\\uc694\", \"amp\", \"\\uc774\\uba54\\uc77c\", \"\\uccad\\uc18c\\ub144\", \"\\ubaa8\\uc9d1\", \"\\uccb4\\ud5d8\", \"\\uc77c\\uae08\", \"\\uc2e0\\uccad\\uc11c\", \"\\uc2e0\\uccad\\ubc29\\ubc95\", \"\\uc77c\\ud654\", \"\\uc77c\\uc6d4\", \"\\ub2e8\\uccb4\", \"\\uc2e0\\uccad\\uae30\\uac04\", \"\\uc5c5\\ubb34\\ub0b4\\uc6a9\", \"\\uc544\\uc774\\uc870\\uc544\", \"\\uc2e0\\uccad\", \"\\uc77c\\ud1a0\", \"\\uc2dc\\ubbfc\", \"\\uad6c\\ubd84\", \"\\ucc38\\uac00\\uc790\", \"\\uad50\\uc721\", \"\\uae30\\ud0c0\\uc0ac\\ud56d\", \"\\ubc1c\\ud45c\", \"\\ub18d\\uc5c5\\uae30\\uc220\\uc13c\\ud130\", \"\\uc9c4\\ud589\", \"\\uc5b4\\ub9b0\\uc774\\uc9d1\", \"\\ud6c4\\uc6d0\", \"\\uc77c\\uc218\", \"\\uc6d4\\uc6d4\", \"\\uacb0\\uc81c\", \"\\uc811\\uc218\", \"\\ubaa8\\uc9d1\\uae30\\uac04\", \"\\ubc29\\ubb38\", \"\\uc9c0\\uc6d0\", \"\\ub0b4\\uc6a9\", \"\\uc5c5\\ubb34\\uac1c\\uc694\", \"\\uc7a5\\uc18c\", \"\\ubc1c\\uae09\", \"\\ud648\\ud398\\uc774\\uc9c0\", \"\\uc81c\\ucd9c\", \"\\uc11c\\uc6b8\\uc2dc\", \"\\uc11c\\uc6b8\", \"\\ub9cc\\uc6d0\", \"\\uc6b4\\uc601\", \"\\ud3c9\\uc77c\", \"\\uac00\\ub2a5\", \"\\uc11c\\uc6b8\\ud2b9\\ubcc4\\uc2dc\", \"\\uc548\\ub0b4\", \"\\uc5b4\\ub5bb\\uac8c\", \"\\ud504\\ub85c\\uadf8\\ub7a8\", \"\\ud655\\uc778\", \"\\ub300\\ud55c\", \"\\ub530\\ub77c\", \"\\uc788\\uc74c\", \"\\uc790\\ubcf8\\uae08\\uc740\", \"\\uae30\\uc220\\ub2a5\\ub825\\uacfc\", \"\\uad00\\ub828\\uc885\\ubaa9\\uc758\", \"\\uc774\\uc0c1\\uc774\\uace0\", \"\\uae30\\uc220\\uc790\\uaca9\\ucde8\\ub4dd\\uc790\", \"\\uad6d\\uac00\\uae30\\uc220\\uc790\\uaca9\\ubc95\\uc5d0\", \"\\uac74\\uc124\\uae30\\uc220\\uc790\", \"\\ub418\\ub098\\uc694\\uac74\\uc124\\uae30\\uc220\\uad00\\ub9ac\\ubc95\\uc5d0\", \"\\uae30\\uacc4\\ubd84\\uc57c\", \"\\ud1a0\\ubaa9\\ubd84\\uc57c\", \"\\uc774\\uc0c1\\uc785\\ub2c8\\ub2e4\", \"\\ud1a0\\ubaa9\", \"\\uac74\\uc124\\uae30\\uc220\\uad00\\ub9ac\\ubc95\\uc5d0\", \"\\ubb38\\uc11c\\uc758\", \"\\ubc95\\uc778\\uc740\", \"\\ubc95\\ub960\\uc774\", \"\\uce58\\ub9e4\\uc9c0\\uc6d0\\uc13c\\ud130\", \"\\uccad\\uacc4\\ucc9c\", \"\\uac1c\\uc778\\uc740\", \"\\uc5b5\\uc6d0\", \"\\uba85\\uc774\\uc0c1\", \"\\uce35\\ud3c9\\uc77c\", \"\\ubcf4\\ud6c8\\ud68c\\uad00\", \"\\ud654\\ubb3c\\ud130\\ubbf8\\ub110\\uc774\\ub780\", \"\\ub300\\uc6b0\\uacf5\\ubb34\\uc6d0\\uc758\", \"\\uac70\\uc2e4\\uc758\", \"\\uac70\\uc2e4\", \"\\ubc14\\ub974\\uac8c\\uc0b4\\uae30\\uc6b4\\ub3d9\\ud611\\uc758\\ud68c\\uc758\", \"\\uc5c5\\ubb34\\ucd94\\uc9c4\\ube44\\ub85c\", \"\\uc2dc\\ubbfc\\uac10\\uc0ac\\uccad\\uad6c\\ub300\\uc0c1\\uc740\", \"\\uc7ac\\uc0b0\\uc744\", \"\\ud569\\uacc4\", \"\\uc758\\ud55c\", \"\\ub300\\uc6b0\\uacf5\\ubb34\\uc6d0\", \"\\ud5c8\\uac00\\ub97c\", \"\\uc2e0\\uace0\\ub97c\", \"\\ub418\\ub098\\uc694\", \"\\uc5b4\\ub5bb\\uac8c\", \"\\uc81c\\uacf1\\ubbf8\\ud130\", \"\\ud558\\ub098\\uc694\", \"\\uc774\\uc0c1\", \"\\uad00\\ud55c\", \"\\uac70\\uccd0\", \"\\uc81c\\uc870\", \"\\ub204\\uac00\", \"\\uc11c\\uc6b8\\uc2dc\", \"\\ub300\\ud55c\", \"\\uc5b4\\ub5a4\", \"\\ud648\\ud398\\uc774\\uc9c0\", \"\\uc788\\ub098\\uc694\", \"\\ub530\\ub77c\", \"\\uacbd\\uc6b0\\uc5d0\\ub294\", \"\\uc704\\ud55c\", \"\\uaddc\\uc815\\uc5d0\", \"\\ub4f1\\uc744\", \"\\ub4f1\\uc758\", \"\\uba85\\uce6d\\uc774\", \"\\ubaa9\\uc801\\ubb3c\", \"\\uc774\\uc6a9\\ud558\\ub824\\uba74\", \"\\uc815\\ubd80\", \"\\ud1a4\\ub2f9\", \"\\ucd9c\\uc0b0\", \"\\uacf5\\uc0ac\\uc7a5\", \"\\uac8c\\uc2dc\\ud310\\uc744\", \"\\uc2dc\\uc124\\uc7a5\\uc774\", \"\\ud6c8\\ub839\\uc740\", \"\\uc720\\ud559\\ud734\\uc9c1\\uae30\\uac04\\uc2dc\", \"\\uacf5\\uc885\\ubcc4\", \"\\uac1c\\uc778\\ud68c\\uc0dd\", \"\\uc7a5\\uc704\\uad6c\\uc5ed\", \"\\ud604\\ud669\\uae30\\uc900\", \"\\uae38\\uc74c\\ub3d9\\uc73c\\ub85c\", \"\\ub300\\ud55c\\ubbfc\\uad6d\\uace0\\uc5fd\\uc81c\\uc804\\uc6b0\\ud68c\", \"\\uc740\\ud615\\uad6c\\uc9c0\\ud68c\\uc758\", \"\\uac1c\\uc778\\uc801\\uc778\", \"\\uc804\\uc6a9\\uc758\", \"\\uae30\\uc900\\uc77c\\uc774\\ub780\", \"\\ud559\\uad50\\uc6b0\\uc720\\uae09\\uc2dd\", \"\\uc6d0\\uac00\\uacc4\\uc0b0\\uc758\", \"\\uad6d\\uac00\\uc7ac\\uc0b0\\uc0c1\\uc5d0\", \"\\ub07c\\ucce4\\uc744\", \"\\ud64d\\ubcf4\\ubb3c\", \"\\uc18c\\uc720\\uc758\\uc758\\uc0ac\\ub780\", \"\\ub9e4\\uce6d\\uc790\\uae08\\uc740\", \"\\uc6b0\\uc218\\ud604\\uc7a5\", \"\\uc0c1\\ubd09\\uc7ac\\uc815\\ube44\\ucd09\\uc9c4\\uad6c\\uc5ed\", \"\\ubc88\\ud638\\ud310\", \"\\uc2dc\\uacf5\\uc790\", \"\\uae38\\uc74c\\ub3d9\", \"\\uac00\\uc815\\uc5d0\", \"\\ub3c4\\uc2dc\\uc9c0\\uc5ed\", \"\\uc81c\\uc870\", \"amp\", \"\\ud558\\ub294\", \"\\uc81c\\uc870\\uc5d0\", \"\\uc8fc\\uc694\", \"\\ub300\\ud558\\uc5ec\", \"\\uc774\\uc0c1\", \"\\uc138\\ub300\", \"\\ubbf8\\ub9cc\", \"\\uc218\\uc218\\ub8cc\", \"\\ub300\\uc0c1\\uacf5\\uc0ac\\ub294\", \"\\uc5b4\\ub5bb\\uac8c\", \"\\uc5b4\\ub290\", \"\\ubb34\\uc5c7\\uc778\\uac00\\uc694\", \"\\ubb34\\uc5c7\\uc785\\ub2c8\\uae4c\", \"\\ud558\\uc5ec\\uc57c\", \"\\ub4f1\\uc744\", \"\\uc790\\ub3d9\\ucc28\", \"\\ub300\\ud55c\", \"\\ub429\\ub2c8\\ub2e4\", \"\\uc2dc\\ud589\\ub839\", \"\\uc788\\ub098\\uc694\", \"\\uad00\\ub828\", \"\\uc758\\ud55c\", \"\\ub530\\ub77c\", \"\\uc11c\\uc6b8\\uc2dc\", \"\\uc704\\ud55c\", \"\\uaddc\\uc815\\uc5d0\", \"\\ud55c\\ub2e4\", \"\\uc785\\ub2c8\\ub2e4\", \"\\uc6b4\\uc601\", \"\\uac00\\ub2a5\", \"\\uc5b4\\ub5a4\", \"\\ud558\\ub098\\uc694\", \"\\ud544\\uc694\\ud55c\", \"\\ubb38\\uc758\", \"\\uc788\\uc74c\", \"\\uc0ac\\ud68c\\ub2e8\\uccb4\\ub780\", \"\\ub18d\\uc5c5\", \"\\uc870\\uc0b0\\uc6d0\\uc758\", \"\\ub514\\uc790\\uc778\\uc704\\uc6d0\\ud68c\", \"\\uc788\\ub294\\uacf3\\uc774\", \"\\uad00\\ub828\\ub0b4\\uc6a9\\uc744\", \"\\uac74\\ud3d0\\uc728\\uc774\\ub780\", \"\\uae30\\uc220\\uc801\", \"\\ud15c\\ud50c\\uc2a4\\ud14c\\uc774\", \"\\ub9db\\uc9d1\", \"\\ud655\\uc815\\uad6c\\uc5ed\\uc751\\uc554\\ub3d9\", \"\\uc11c\\uc6b8\\uccad\\uc18c\\ub144\\ud6a8\\ud589\\ubd09\\uc0ac\\ub2e8\\uc758\", \"\\uccad\\uc57d\\uc790\\uac00\", \"\\ucca0\\uac70\\uc138\\uc785\\uc790\\ub780\", \"\\uc548\\uc804\\uc810\\uac80\", \"\\uace0\\uc2dc\\uc9c8\\ud658\\uc740\", \"\\ubc88\\uc77c\", \"\\uba87\\uc2dc\\uac04\", \"\\uc721\\uc544\\uc2dc\\uac04\\uc740\", \"\\uc778\\uc13c\\ud2f0\\ube0c\\uac00\", \"\\uad6c\\uc131\\uc778\\uc6d0\\uc740\", \"\\uc774\\uc124\\uc694\\uccad\\uc740\", \"\\ud1b5\\uc2e0\\uc8fc\", \"\\uc131\\uacfc\\uc5d0\", \"\\ub454\\uce58\\ub97c\", \"\\uc544\\ucde8\\uad11\\uace0\\ubb3c\\uc740\", \"\\ud5c8\\uac00\\ub300\\uc0c1\\uc785\\ub2c8\\uae4c\", \"\\uad00\\ub9ac\\ucc98\\ubd84\\uacc4\\ud68d\\uae30\\uc900\\uc77c\", \"\\uc720\\uc2a4\\ud638\\uc2a4\\ud154\", \"\\uc740\\ud3c9\\uad6c\\uccad\\uc7a5\\uc758\", \"\\ucca0\\uac70\\ub418\\ub294\", \"\\ub3c4\\ub85c\\ub97c\", \"\\ub3c4\\ub85c\\uc5d0\", \"\\ud559\\uc790\\uae08\", \"\\uc0c1\\uc18d\\uc778\", \"\\uba74\\uc801\\uc5d0\", \"\\ud560\\uc778\", \"\\ubd80\\ud328\\ud589\\uc704\", \"\\ubb34\\uc2a8\", \"\\ubb34\\uc5c7\\uc778\\uac00\\uc694\", \"\\uc704\\ud558\\uc5ec\", \"\\ud3ec\\ud568\\ub41c\", \"\\uc5b4\\ub5bb\\uac8c\", \"\\uc790\\ub8cc\\ub97c\", \"\\ubc29\\ubc95\\uc740\", \"\\ub4f1\\uc744\", \"\\uc5b4\\ub5a4\", \"\\uaddc\\uc815\\uc5d0\", \"\\uacf5\\ubb34\\uc6d0\", \"amp\", \"\\uc704\\ud55c\", \"\\ub9d0\\ud569\\ub2c8\\ub2e4\", \"\\uad00\\ud55c\", \"\\ub530\\ub77c\", \"\\ub4f1\\uc758\", \"\\uc5b4\\ub514\\uc11c\", \"\\ub300\\ud55c\", \"\\uc5b8\\uc81c\", \"\\uc788\\uc2b5\\ub2c8\\uae4c\", \"\\ud544\\uc694\\ud55c\", \"\\uc758\\ud55c\", \"\\uc11c\\uc6b8\\uc2dc\", \"\\ud558\\uace0\", \"\\uc788\\uc73c\\uba70\", \"\\ub429\\ub2c8\\ub2e4\", \"\\uc774\\uc0c1\\uc758\", \"\\uc788\\ub098\\uc694\", \"\\ud558\\ub294\", \"\\uc774\\uc0c1\", \"\\uc788\\uc74c\", \"\\ub9d0\\ud55c\\ub2e4\", \"\\uc2ec\\uc0ac\\uc694\\uccad\", \"\\uc7ac\\ubc30\\uc815\\uc0ac\\uc5c5\", \"\\uc2dc\\ube44\", \"\\uac1c\\uc785\\ub2c8\\ub2e4\", \"\\ub300\\uc0c1\\uc740\\uacf5\\uc0ac\\ube44\", \"\\uc11c\\uc6b8\\uc2dc\\uacc4\\uc57d\\uc2ec\\uc0ac\\uacfc\", \"\\ubbf8\\uc220\\uc7a5\\uc2dd\\ud488\", \"\\uba87\\uac1c\\uc778\\uac00\\uc694\\ub144\", \"\\ubd88\\ubb38\\uacbd\\uace0\\ub3c4\", \"\\uc18c\\uccad\\uc2ec\\uc0ac\\uc758\", \"\\uacc4\\uc57d\\uc2ec\\uc0ac\\uacfc\", \"\\uba87\\uac1c\\uc778\\uac00\\uc694\", \"\\uc591\\uc131\\ud3c9\\ub4f1\\ucc44\\uc6a9\\ubaa9\\ud45c\\uc81c\\uc758\", \"\\uc6d4\\ub9d0\", \"\\ubc29\\uc7ac\\ub780\", \"\\ucc3d\\uc758\\ub9c8\\uc77c\\ub9ac\\uc9c0\\ub294\", \"\\ud3b8\\uc131\\uc8fc\\uae30\\ub294\", \"\\uc218\\uc694\\ubb34\\ub300\", \"\\uc608\\uaddc\\ub294\", \"\\uac80\\uc0ac\\uc758\", \"\\uac74\\uc124\\uacf5\\uc0ac\\ub294\", \"\\ud658\\uacbd\\uc601\\ud5a5\\ud3c9\\uac00\", \"\\uc8fc\\ubbfc\\uc790\\uce58\\uc704\\uc6d0\\uc740\", \"\\uc81c\\uc870\\uad6c\\ub9e4\", \"\\uac1c\\ubcc4\\ubcf4\\uc0c1\\uc758\", \"\\ud1b5\\ubc18\\uc870\\uc9c1\\uc774\", \"\\uac80\\uc0ac\\ud56d\\ubaa9\\uc740\", \"\\ub3c4\\uc2dc\\uae30\\ubcf8\\uacc4\\ud68d\\uc740\", \"\\uc9c0\\ub2a5\\ud615\", \"\\uae30\\uac04\\uc81c\\uadfc\\ub85c\\uc790\\ub780\", \"\\ub300\\uc0c1\\uc774\", \"\\uc5b5\\uc6d0\\uc774\\uc0c1\", \"\\uc5b4\\ub514\\uc5d0\", \"\\ubc29\\ubc95\\uc774\", \"\\uc218\\uc0c9\\ub3d9\\uc5d0\", \"\\uc11c\\ub300\\ubb38\\uad6c\", \"\\uc77c\\uc0c1\\uac10\\uc0ac\", \"\\uacbd\\ubbf8\\ud55c\", \"\\uc5b4\\ub5bb\\uac8c\", \"\\uc11c\\ub958\\ub294\", \"\\uc885\\ub958\\ub294\", \"\\ub300\\ud55c\", \"\\ud655\\uc778\\ud560\", \"\\uc11c\\uc6b8\\uc2dc\", \"\\uc758\\uac70\", \"\\ubb34\\uc5c7\\uc778\\uac00\\uc694\", \"\\uc788\\ub098\\uc694\", \"\\ubb34\\uc5c7\\uc785\\ub2c8\\uae4c\", \"\\uad00\\ud55c\", \"\\uc788\\uc73c\\uba70\", \"\\uae30\\ud0c0\", \"\\uacbd\\uc6b0\\uc5d0\\ub294\", \"\\ubb38\\uc758\", \"\\uad00\\ub828\", \"\\ub418\\ub098\\uc694\", \"\\ud558\\uace0\", \"\\ud558\\ub098\\uc694\", \"\\ud558\\ub294\", \"\\uc5b4\\ub5a4\", \"\\uac74\\ucd95\\ubb3c\", \"\\ub530\\ub978\", \"\\uc704\\ud55c\", \"\\ud604\\uc7ac\", \"\\uae30\\ud68d\\uc608\\uc0b0\\uacfc\", \"\\uc804\\uc0b0\\uc815\\ubcf4\\uacfc\", \"\\uc0ac\\uace0\\uc77c\\uacbd\\uc6b0\", \"\\uc774\\ud589\\uae30\\uc900\", \"\\uc0c8\\ub9c8\\uc744\\uc6b4\\ub3d9\\uc870\\uc9c1\\uc758\", \"\\uac1c\\ubc1c\\uc9c4\\ud765\\uc9c0\\uad6c\\uac00\", \"\\uacf5\\ub78c\\uacf5\\uace0\\uc77c\\uc740\", \"\\uacf5\\uac04\\uc815\\ubcf4\\ub780\", \"\\ubabb\\ud588\\ub294\\ub370\", \"\\uac04\\uc811\\ub178\\ubb34\\ube44\", \"\\uac1c\\ub871\\uad6c\\uc5ed\\uc740\", \"\\ub18d\\uc5c5\\uae30\\uc220\\uc13c\\ud130\\ub294\", \"\\uae30\\uc804\\uacfc\", \"\\ubcf4\\uc0c1\\uc740\", \"\\uc124\\uce58\\ub294\", \"\\ud1b5\\ubc18\", \"\\uad6c\\uc131\\ud604\\ud669\\uc740\", \"\\uc5ed\\ucd0c\\ub3d9\\uc8fc\\ubbfc\\uc790\\uce58\\uc704\\uc6d0\\ud68c\", \"\\ub2f9\\uc9c1\\uadfc\\ubb34\\ubcc0\\uacbd\", \"\\uc18c\\ud654\\uc804\", \"\\uc8fc\\ud0dd\\uc131\\ub2a5\\ub4f1\\uae09\", \"\\uc774\\uc6a9\\ud558\\uc2dc\\uba74\", \"\\uc790\\ud65c\\ud6c4\\uacac\\uae30\\uad00\", \"\\ubcf4\\uccad\\uae30\", \"\\ucc45\\uc784\\uc911\", \"\\ud589\\uc815\\uc0c1\", \"\\uba58\\ud1a0\\ub9c1\", \"\\uc7ac\\uc0b0\\uc0ac\\ud56d\\uc740\", \"\\uc560\\ub4dc\\ubc8c\\ub8ec\\uc740\", \"\\uc131\\ub9e4\\ub9e4\\uc9c0\\uc6d0\\uc790\", \"\\ub3c4\\ub85c\\ud655\\uc7a5\", \"\\uc6a9\\ub3c4\\ud3d0\\uc9c0\", \"\\uc774\\uc6a9\\ud560\\uc218\", \"\\ucc28\\ub85c\", \"\\uc815\\ub958\\uc18c\", \"\\uc6b0\\ub9ac\\uad6c\", \"\\uc5ec\\uc790\", \"\\uacfc\\ud0dc\\ub8cc\", \"\\ud37c\\uc13c\\ud2b8\", \"\\uadfc\\ubb34\", \"\\ud558\\uace0\", \"\\uc885\\ub85c\\uad6c\", \"\\uc54c\\uace0\", \"\\ud558\\ub294\", \"\\uc7a5\\uc560\\uc778\", \"\\uc788\\ub098\\uc694\", \"\\uc774\\uc0c1\", \"\\ub429\\ub2c8\\ub2e4\", \"\\uc124\\uce58\", \"\\uc5b8\\uc81c\", \"\\ubb34\\uc5c7\\uc778\\uac00\\uc694\", \"\\ub300\\ud55c\", \"\\uacbd\\uc6b0\\uc5d0\\ub294\", \"\\ubb34\\uc5c7\\uc744\", \"\\uac00\\ub2a5\", \"\\uc5b4\\ub5bb\\uac8c\", \"\\uc704\\ud574\", \"\\ub530\\ub978\", \"\\ub2e4\\ub978\", \"\\ub530\\ub77c\", \"\\uc5b4\\ub5a4\", \"\\uc785\\ub2c8\\ub2e4\", \"\\uc11c\\uc6b8\\uc2dc\", \"\\ub4f1\\uc744\", \"\\uc758\\ud55c\", \"\\ub4f1\\uc758\", \"\\ubb34\\uc5c7\\uc785\\ub2c8\\uae4c\", \"\\uadfc\\uc800\\ub2f9\\uad8c\\uc790\\ub294\", \"\\uc720\\uc544\\uc2a4\\ud3ec\\uce20\\ub2e8\", \"\\uc2e0\\uccb4\\ud65c\\ub3d9\\ub9ac\\ub354\", \"\\uba39\\uac70\\ub9ac\", \"\\uc548\\uc804\\uad00\\ub9ac\\uc870\\uc9c1\\uc740\", \"\\uc8fc\\ud0dd\\uc131\\ub2a5\\ub4f1\\uae09\\uc758\", \"\\ubb3c\\uac00\", \"\\uc131\\ud76c\\ub871\", \"\\ubd80\\uad6c\\uccad\\uc7a5\\uc758\", \"\\uc5f0\\uad6c\\uc0ac\\uc758\", \"\\uc778\\uc0ac\\uc704\\uc6d0\\ud68c\", \"\\ube48\\uc9d1\", \"\\uacbd\\uc9c0\", \"\\uacbd\\ubcf5\\uad81\", \"\\ub300\\uacf5\\ubc29\\uc5b4\", \"\\uc5f0\\uc218\\uc2dc\\uc124\\uc758\", \"\\uacac\\ucc45\\uc758\", \"\\ucc98\\ubd84\\uae30\\uac04\\uc740\", \"\\uacc4\\uc18d\\ube44\\ub780\", \"\\uc81c\\ucd9c\\uc2dc\", \"\\uc8fc\\uc2dd\\ubc31\\uc9c0\\uc2e0\\ud0c1\\uc81c\\ub3c4\\ub294\", \"\\uc678\\uad6d\\uc778\\uc8fc\\ubbfc\", \"\\ub3c4\\uc2dc\\uacc4\\ud68d\\uc2dc\\uc124\\uc0ac\\uc5c5\", \"\\uacf5\\uc0ac\\ubd84\\uc57c\", \"\\uae30\\uc5c5\\uc560\\ub85c\", \"\\uc885\\ub958\\uc911\", \"\\uc0ac\\ubb34\\uc6a9\\ud488\\uc744\", \"\\uc804\\uc0b0\\uc815\\ubcf4\\uacfc\\uc5d0\\uc11c\\ub294\", \"\\uc6b4\\uc601\\ubc29\\ubc95\\uc740\", \"\\uc778\\uc7ac\\uac1c\\ubc1c\\uc6d0\", \"\\uc9c1\\uc5c5\\uc18c\\uac1c\\uc18c\", \"\\uc0c1\\ubd09\\uc7ac\\uc815\\ube44\\ucd09\\uc9c4\\uc9c0\\uad6c\\uc758\", \"\\uc774\\uc6a9\\uc694\\uae08\", \"\\uba87\\ub144\", \"\\ud589\\uc815\\ucc98\\ubd84\", \"\\ud638\\uc120\", \"\\uc8fc\\uae30\\ub85c\", \"\\uc2dc\\ud589\\ud558\\ub294\", \"\\uc788\\ub098\\uc694\", \"\\uc5b4\\ub5bb\\uac8c\", \"\\uc740\\ud3c9\\uad6c\", \"\\ub429\\ub2c8\\uae4c\", \"\\uc5b4\\ub5a4\", \"\\uacf5\\uc5f0\", \"\\uc704\\ud558\\uc5ec\", \"\\ubc94\\uc704\\ub294\", \"\\uc11c\\uc6b8\\uc2dc\", \"\\ud558\\uace0\", \"\\ub530\\ub77c\", \"\\uc9c0\\ud558\\ucca0\", \"\\ubb38\\uc758\", \"\\uc788\\uc73c\\uba70\", \"\\ub9d0\\ud55c\\ub2e4\", \"\\uc2dc\\uac04\", \"\\ud648\\ud398\\uc774\\uc9c0\", \"\\uc704\\ud55c\", \"\\ub9d0\\ud569\\ub2c8\\ub2e4\", \"\\ubb34\\uc5c7\\uc778\\uac00\\uc694\", \"\\ub300\\ud55c\", \"\\ub300\\ud574\", \"\\uac00\\ub2a5\", \"\\ub530\\ub978\", \"\\ud1b5\\ud574\", \"\\uc11c\\uc6b8\", \"\\uc774\\uc0c1\", \"\\uc788\\uc74c\", \"\\ubb34\\uc5c7\\uc785\\ub2c8\\uae4c\", \"\\uc9c0\\uae09\\uba85\\ub839\", \"\\uc784\\uc2dc\\uc0ac\\uc6a9\\uc2b9\\uc778\", \"\\ub300\\ud559\\uc785\\ud559\", \"\\uc720\\ud559\\ud734\\uc9c1\\uae30\\uac04\\uc740\", \"\\uc911\\uacc4\\ubcf8\\ub3d9\", \"\\uc788\\ub294\\uac00\", \"\\ud574\\uc678\\uc804\\uc2dc\\ud68c\", \"\\uc11c\\ucee4\\uc2a4\", \"\\ub3c5\\ub9bd\\uc720\\uacf5\\uc790\", \"\\ubb38\\uace0\", \"\\uc2e0\\uace0\\ud3ec\\uc0c1\\uae08\\uc740\", \"\\ucd94\\uc815\\uae08\\uc561\\uc774\\ub780\", \"\\ucd94\\uc815\\uae08\\uc561\\uc774\\ub780\\ucd94\\uc815\\uac00\\uaca9\\ubd80\\uac00\\uac00\\uce58\\uc138\\uad00\\uae09\\uae08\\uc561\\uc744\", \"\\ub2f9\\uc9c1\\uadfc\\ubb34\\uc694\\ub839\\uc740\", \"\\uc804\\uc120\\uacfc\\uc758\", \"\\uc790\\ub3d9\\ucc28\\uc815\\ub958\\uc7a5\\uc774\\ub780\", \"\\uc720\\uae09\\uc81c\", \"\\uad6c\\uc815\\uc744\", \"\\uad11\\ub85c\\uc758\", \"\\uc7ac\\ud5a5\\uacbd\\uc6b0\\ud68c\\uc758\", \"\\ud1b5\\ubc18\\uc774\", \"\\uc6b4\\uc601\\ud558\\uc2dc\\ub098\\uc694\", \"\\uc885\\ud569\\uc0c1\\ud669\\uc2e4\\uc740\", \"\\uc11c\\ub300\\ubb38\\uad6c\\uc5d0\", \"\\ucc3d\\uc758\\uacfc\\uc81c\\uad00\\ub9ac\\uc2dc\\uc2a4\\ud15c\\uc774\", \"\\uacb8\\ud560\", \"\\ub3d9\\uc758\\uc728\\uc740\", \"\\uc8fc\\ubbfc\\uc81c\\uc548\\uc2dc\", \"\\uac00\\uad6c\\uac70\\ub9ac\", \"\\ub2e8\\uc704\\ub294\", \"\\uac74\\ucd95\\uc120\", \"\\uae30\\ud68d\\uc774\\ub780\", \"\\ucc28\\uc0c1\\uc704\", \"\\ud568\\uc740\", \"\\uac10\\uc0ac\\ub97c\", \"\\ub418\\ub098\\uc694\", \"\\uac00\\ub2a5\\ud569\\ub2c8\\ub2e4\", \"\\uc784\\ub300\\uc8fc\\ud0dd\", \"\\uc5b4\\ub5bb\\uac8c\", \"\\ub2e4\\ub978\", \"\\uc544\\ub2c8\\ud55c\", \"\\ub530\\ub77c\", \"\\uc815\\ud558\\ub294\", \"\\uc2dc\\ud589\\ub839\", \"\\uc544\\ud30c\\ud2b8\", \"\\uc5c6\\ub294\", \"\\uc870\\ud569\\uc6d0\", \"\\uad00\\ud55c\", \"\\ubb34\\uc5c7\\uc785\\ub2c8\\uae4c\", \"\\ubb34\\uc5c7\\uc778\\uac00\\uc694\", \"\\ub4f1\\uc758\", \"\\uc788\\ub098\\uc694\", \"\\uc11c\\uc6b8\\uc2dc\", \"\\ub300\\ud55c\", \"\\ub530\\ub978\", \"\\uc774\\uc0c1\", \"\\ub9d0\\ud55c\\ub2e4\", \"\\ub4f1\\uc744\", \"\\uad00\\ub828\", \"\\ud544\\uc694\\ud55c\", \"\\uc758\\ud55c\", \"\\ub429\\ub2c8\\ub2e4\", \"\\ud558\\ub294\", \"\\ud558\\uace0\", \"\\ub4f1\\uc5d0\", \"\\ub9d0\\ud569\\ub2c8\\ub2e4\", \"\\uc9c1\\uc778\\uc740\", \"\\uc7a5\\uae30\\uae30\\uc99d\", \"\\uc9c0\\ubc29\\uc9c1\\uc758\", \"\\uad50\\ud1b5\\ub7c9\", \"\\uc608\\ube44\\ube44\", \"\\uac00\\uc2a4\\uba74\\ud5c8\\ub294\", \"\\ubbfc\\uc6d0\\uc0ac\\ubb34\\ub780\", \"\\uad50\\ud1b5\\ud3b8\\uc740\", \"\\uc7a5\\uc560\\uc778\\uc6a9\", \"\\ubcf4\\ub3c4\\uc758\", \"\\ubcbd\\ud654\\ub97c\", \"\\uc735\\uc790\\uae08\\uc744\", \"\\uace0\\ub4f1\\ud559\\uad50\\ub294\", \"\\uc8fc\\ubbfc\\ub300\\uc0c1\", \"\\uc6b4\\uc601\\ud560\", \"\\ud604\\uc9c0\\uc870\\uc0ac\", \"\\uc790\\uce58\\ud68c\\uad00\", \"\\uc0ac\\uc6a9\\ub8cc\\ub97c\", \"\\uad50\\ud1b5\\uacf5\\uc6d0\", \"\\uc11c\\uace0\\uc758\", \"\\uc628\\uc2b5\\ub3c4\\ub294\", \"\\uacf5\\ud734\\uc21c\\ucc30\", \"\\uc131\\ubd81\\ub3d9\", \"\\uc774\\uc7ac\\ubbfc\", \"\\ubcf4\\uc0c1\\uae08\", \"\\ub178\\uc778\\uc2dc\\ud5d8\\uac10\\ub3c5\\uad00\", \"\\uae30\\uc5c5\\uccb4\", \"\\ub9c8\\uc2e4\\uc601\\ud654\\uad00\", \"\\uc124\\ube44\\uacf5\\uc0ac\\ubd84\\uc57c\", \"\\uc815\\ubcf4\\ud1b5\\uc2e0\\uc720\\uc9c0\\ubcf4\\uc218\", \"\\uc870\\ud569\\uc6d0\\uc758\", \"\\uad6c\\ube44\\uc11c\\ub958\\ub294\", \"\\ubd84\\uc758\", \"\\uacf5\\ub3d9\\uc8fc\\ud0dd\\uc758\", \"\\uc9c0\\uc815\\uc790\", \"\\uba85\\uc758\\ubcc0\\uacbd\", \"\\uc5b4\\ub514\\uc11c\", \"\\uc6b4\\uc601\\ud558\\uace0\", \"\\ub204\\uac00\", \"\\ub300\\ud574\", \"\\uacb0\\uc815\", \"\\uc788\\ub098\\uc694\", \"\\uc5b4\\ub5bb\\uac8c\", \"\\uc704\\ud55c\", \"\\uac00\\ub2a5\\ud569\\ub2c8\\ub2e4\", \"\\uad00\\ud55c\", \"\\ubc1b\\uace0\", \"\\ub418\\ub098\\uc694\", \"\\uc788\\uc73c\\uba70\", \"\\uc774\\uc0c1\", \"\\ud55c\\ub2e4\", \"\\uc788\\uc5b4\", \"\\ud544\\uc694\\ud55c\", \"\\uacbd\\uc6b0\\uc5d0\\ub294\", \"\\ud604\\uc7ac\", \"\\uc5c6\\ub294\", \"\\ub300\\ud55c\", \"\\ub429\\ub2c8\\ub2e4\", \"\\uc11c\\uc6b8\\uc2dc\", \"\\ud558\\ub098\\uc694\", \"\\ud655\\uc778\", \"\\ub4f1\\uc758\", \"\\uc81c\\uc870\", \"\\uc785\\ub2c8\\ub2e4\", \"\\ub4f1\\uc744\", \"\\ud1b5\\uc2e0\\ubd84\\uc57c\", \"\\ubbf8\\uc220\\uc791\\ud488\", \"\\uc804\\uc555\", \"\\uc778\\uc0ac\\uc704\\uc6d0\\ud68c\\ub294\", \"\\uc11c\\uc6b8\\ub180\\uc774\\ub9c8\\ub2f9\", \"\\uc900\\uacf5\\ub300\\uae08\", \"\\uc870\\ub840\\uc81c\\uac1c\\uc815\\uccad\\uad6c\\ub97c\", \"\\uc870\\ud569\\ub4f1\\uae30\\ub294\", \"\\uc7a0\\uc218\\uad50\", \"\\ub3c8\\uc554\\ucd08\", \"\\uac1c\\uc778\\ube44\\uc11c\\uac00\", \"\\uad00\\uad11\", \"\\uaddc\\uce59\\uc740\", \"\\ubc15\\ub178\\uc218\\ubbf8\\uc220\\uad00\", \"\\uc5ec\\ub860\\uc870\\uc0ac\", \"\\ub178\\uc870\", \"\\ud65c\\ub3d9\\ubcf4\\uc870\\uc778\", \"\\uc2dc\\ucc45\\ucd94\\uc9c4\\uc5c5\\ubb34\\ucd94\\uc9c4\\ube44\\uc758\", \"\\ub2e4\\uc6b4\\ub77c\\uc774\\ud2b8\\uac00\", \"\\uac10\\ub9ac\\uc81c\\ub3c4\\ub294\", \"\\ud53c\\ucee4\\ud3f0\\uc774\", \"\\uc911\\uc2ec\\uc9c0\\ud615\", \"\\ub192\\uc774\\ub97c\", \"\\uc870\\ud569\\uc774\\uc0ac\\uc758\", \"\\uc815\\uc9c1\", \"\\uc11c\\uc6b8\\ud568\", \"\\uaddc\\uc81c\\ub418\\ub294\\uac8c\", \"\\ubbf8\\uad00\\uc9c0\\uad6c\\uc5d0\", \"\\uc11c\\uc6b8\\ucc44\\uc18c\\ub3c4\", \"\\ub099\\uc0c1\\uc608\\ubc29\", \"\\uacf5\\ubaa8\\ub300\\ud589\\uc81c\", \"\\ub418\\ub824\\uba74\", \"\\uc120\\uc815\\uc2dc\", \"\\uc774\\ub780\", \"\\ud574\\uc57c\", \"\\uc131\\ubd81\\ub3d9\", \"\\uacf5\\ubb34\\uc6d0\", \"\\uc5b8\\uc81c\", \"\\ubb34\\uc5c7\\uc785\\ub2c8\\uae4c\", \"\\ud558\\ub098\\uc694\", \"\\uc5b4\\ub5bb\\uac8c\", \"\\ub418\\uace0\", \"\\uad00\\ud55c\", \"\\uac74\\ucd95\\uc704\\uc6d0\\ud68c\", \"amp\", \"\\ub530\\ub77c\", \"\\uacbd\\uc6b0\\uc5d0\\ub294\", \"\\uc788\\ub098\\uc694\", \"\\ub300\\ud55c\", \"\\ub530\\ub978\", \"\\ud544\\uc694\\ud55c\", \"\\uc774\\uc0c1\\uc758\", \"\\uc704\\ud558\\uc5ec\", \"\\uc5b4\\ub5a4\", \"\\ud558\\ub294\", \"\\ub418\\ub294\", \"\\ud1b5\\ud574\", \"\\ud558\\uace0\", \"\\uac74\\ucd95\\ubb3c\\uc758\", \"\\ub429\\ub2c8\\ub2e4\", \"\\ubb38\\uc758\", \"\\ub9d0\\ud569\\ub2c8\\ub2e4\", \"\\ubb34\\uc5c7\\uc778\\uac00\\uc694\", \"\\ub4f1\\uc758\", \"\\ub4f1\\uc744\"], \"Freq\": [2.0, 1.0, 1.0, 1.0, 1.0, 1.0, 2.0, 1.0, 0.0, 1.0, 1.0, 1.0, 0.0, 1.0, 1.0, 1.0, 3.0, 1.0, 0.0, 0.0, 1.0, 0.0, 0.0, 0.0, 0.0, 0.0, 0.0, 3.0, 1.0, 1.0, 0.6673292417769334, 1.2614615215704275, 0.8072825980914896, 0.4689052552892251, 0.4549995830942142, 0.6936812243634172, 0.8068395020455685, 0.4651815759054552, 0.4340060938870516, 0.42815568584483443, 0.41636347362514226, 0.6406161657038668, 0.3280089146203437, 1.1912807139679191, 0.33478413392383294, 0.4037770147665363, 1.0391137737427347, 0.2790500503055381, 1.0758677817711528, 0.8439703164839983, 0.3193135689355255, 0.5890271229568883, 0.4374760878025025, 0.9325700112251428, 0.2832271497354555, 0.3456334350415413, 0.3456233714759475, 0.2877179241792937, 0.8486830450899736, 0.25254281677400203, 0.5717284834507772, 1.1918490274275493, 1.0758163262151774, 0.7379487193534655, 0.5597846758232609, 0.7094709447648468, 1.4149250601834877, 0.5224082385049333, 1.6950889717936792, 0.7938915045851238, 0.6974712682413482, 0.8160922071211737, 0.561887170608076, 0.8963671754643807, 0.7125623204551974, 0.7002562135195607, 1.0935955685416439, 0.6193691438813417, 0.6610066019554671, 0.7033543898532766, 0.6743119581520571, 0.6044341173265899, 2.011232456215141, 1.4011903258479206, 0.6381195549153025, 0.7756359398259852, 0.5583017949557904, 0.6253963679257791, 0.7931226011225192, 0.4994304029406647, 0.3477907162042702, 0.3381486649537807, 0.581848191285148, 0.41790112179996425, 0.3377756252312934, 0.2576151691623392, 0.27610784177408376, 0.23241612504213482, 0.2262621950125419, 0.24280124720489768, 0.23818715209969157, 0.7486276595220832, 0.20817910878593335, 0.19849209815337837, 0.1972215800614034, 0.1961127635228955, 0.2952469132446972, 0.18103768533457523, 0.1789339128766958, 0.17731989275579735, 0.17505752204142758, 0.1747579419637364, 0.24886231649983798, 0.2078707372951171, 1.2914014097491904, 0.25118266409932377, 0.3651654713492859, 0.34620437814680555, 0.8030756667085563, 1.5102510686262451, 0.3467311453481774, 0.7450417468435517, 0.6039783147991297, 0.5998108933830673, 0.37035503070600995, 0.46164404273000686, 0.2992376842824659, 0.5994911757554996, 0.503997154019265, 0.46615082712338946, 0.44916610748773594, 0.4626400500373677, 0.4397418140419633, 0.42276871684810763, 0.4150381081164753, 0.38488163043776114, 0.3880270214306497, 0.38250197207660086, 0.22158712791471247, 0.19313149619808267, 0.1896860561295915, 0.216500689926561, 0.18157431792161055, 0.17695629796462678, 0.2856036778672401, 0.18346122139591162, 0.1675642708243392, 0.1616606062336221, 0.16096796523776624, 0.15689406071798426, 0.15358147365453406, 0.1517352421446348, 0.1517352421446348, 0.15121494567310484, 0.1499729276094379, 0.1499729276094379, 0.161775019768591, 0.1492878845240241, 0.14886373008702905, 0.1466052366290754, 0.14658424782795482, 0.14336429954015872, 0.14336429954015872, 0.162499127929904, 0.14206114114866378, 0.14172687274523663, 0.14140920991308084, 0.15919455194795432, 0.16096018294484465, 0.2192433329230944, 0.2003590675607508, 0.16725503499649028, 0.1843430390480349, 0.5234368411763484, 0.435444544052598, 0.5776801602891849, 0.38459483422678115, 0.33520556523850675, 0.425970567271238, 0.554494140683443, 0.27596520202577957, 0.2798119329915557, 0.24057270140331286, 0.19716936808930638, 0.6983637443437675, 0.25601518372855353, 0.47011313030516216, 0.4477989591129501, 0.30332036133864393, 0.42022054480712234, 0.24567909482322217, 0.4410885393167228, 0.3652988652336735, 0.27907988227601765, 0.4175350733282123, 0.3505487896501942, 0.37016139382990554, 0.3748246384686584, 0.38821030757099045, 0.34118994958513804, 0.3086690432124128, 0.28677820120026365, 0.2933254810208668, 0.3006813235940903, 0.3033434765731716, 0.31059556843629227, 0.3105037622272224, 0.2973467951626006, 0.29377045095819304, 0.2908011905098626, 0.17716656075016501, 0.17610576267457523, 0.17400301309710425, 0.22337426667652358, 0.16892132278651972, 0.16808326178252417, 0.16737743949819767, 0.1728224232294061, 0.16374167256128278, 0.1633198628551897, 0.16002571965965168, 0.157090963647897, 0.1534506718682662, 0.15019581593173767, 0.16888632642619392, 0.1447235050113701, 0.14466520768095803, 0.1436864013446956, 0.1436864013446956, 0.14151936993215347, 0.14134663849004017, 0.14127074418297556, 0.14127074418297556, 0.14095494986532184, 0.13908003312108774, 0.13675115086399026, 0.13675115086399026, 0.1412865256524736, 0.13609660037178842, 0.1360526060340388, 0.28668420668034816, 0.2733259987551031, 0.22585709727316994, 0.15767492982313552, 0.15598950184160368, 0.16650331605593915, 0.2534883542297452, 0.2322272041672111, 0.264948130731764, 0.6176683024380252, 0.5081298360776734, 0.20203092241160664, 0.8814704228474173, 0.2392882811967742, 0.3147330100438362, 0.43996407523214964, 0.4214222286558366, 0.3571601153786686, 0.3493217874822428, 0.3175370838484442, 0.39971567000404673, 0.35033752638806004, 0.40187297923843157, 0.3983318147812556, 0.34885871227312626, 0.280134050596633, 0.3863004197222522, 0.27963690225045346, 0.2596904491814732, 0.32051366777540957, 0.3301697167680468, 0.35876635839238863, 0.3002770249578685, 0.29411502132491, 0.29666047465585854, 0.2734965787058583, 0.3053726450038497, 0.2934176665321454, 0.290408475887928, 0.2761735995794986, 0.2744376189861851, 0.4429317267240651, 0.4429317267240651, 0.433835185258839, 0.25189861537149705, 0.23116113472948668, 0.23116113472948668, 0.22717943883888378, 0.19723728173248478, 0.18247451216116112, 0.18247451216116112, 0.2265646405591295, 0.29834398919461264, 0.16429720826490266, 0.22450739867406982, 0.15408552973598996, 0.1535427361687526, 0.14992887228743884, 0.1492879148099663, 0.147518007462957, 0.1468736463829387, 0.14683590586221387, 0.1566697281467407, 0.1447519675625786, 0.14447845285230457, 0.144151253140644, 0.14282518459387827, 0.14184540470306825, 0.14120409900463265, 0.14046959229694903, 0.13989967417706145, 0.2313166289459001, 0.18378202040734334, 0.38889851733845, 0.2232146719776861, 0.20492256580740822, 0.392304917133184, 0.22699885456924218, 0.23258930271049444, 0.905524885078916, 0.2132836306100289, 0.28577525095066114, 0.5000810029766235, 0.21951896429474885, 0.5113309356268105, 0.30172290284150866, 0.41866781881914517, 0.42498171704536924, 0.37950061080924946, 0.3776387108204401, 0.31349477680041743, 0.2867774914859727, 0.3026999947516408, 0.29378617514360994, 0.2888094428294862, 0.29608963271807986, 0.27890972477276993, 0.2879933378220234, 0.27568228284510676, 0.2719609567048689, 0.2534481215770606, 0.2603072276027331, 0.26082617158906374, 0.24924249941862686, 0.36510119496034005, 0.34946481073673885, 0.2285102775173053, 0.19121352868070457, 0.172500716666095, 0.17065288239402182, 0.1699177097908118, 0.16804652382731802, 0.1564281688788154, 0.15370484530919476, 0.15115784429226461, 0.15006885047334953, 0.14976340654733186, 0.22382676305991323, 0.21244025187169524, 0.14367847831704952, 0.1364880177565838, 0.1364880177565838, 0.1321475449976145, 0.16513803666081583, 0.12901129959441437, 0.17347854465383553, 0.126317714905827, 0.1256622287187896, 0.1250627690085345, 0.1250627690085345, 0.1455367631407073, 0.12451923069060906, 0.12416848191479139, 0.12367137563781964, 0.13506773519204676, 0.1711258692248611, 0.14275099316584947, 0.17974490712336713, 0.1565010772824834, 0.23828405082679335, 0.1377050262350079, 0.1899932887896811, 0.17278398981758036, 0.1964190714300237, 0.3920596220037783, 0.2124386361870406, 0.27913662650497373, 0.3958941449223081, 0.2581424173229117, 0.4165744135878346, 0.3693118799104265, 0.32910486909736536, 0.2580288111679458, 0.25109546974925434, 0.32471068383807716, 0.3298530817115002, 0.29613508045981096, 0.2149162304767431, 0.2829787982184185, 0.375826411640339, 0.2613234355331773, 0.26468398097523443, 0.23544378618720874, 0.26496199248948454, 0.2513558426127516, 0.23117300728226264, 0.26601978591134434, 0.245224695811452, 0.2424456122230244, 0.23627739001850465, 0.23103001065736362, 0.17491202946662993, 0.1687075910058247, 0.14859951527471815, 0.14539870618675255, 0.1446989722287201, 0.14392291937108923, 0.14368114564710813, 0.14032414458393927, 0.13607184489305094, 0.13544489817245942, 0.23152071406230382, 0.13350636450960668, 0.1303303738491753, 0.14648738331670072, 0.12936490161145134, 0.1286889308952006, 0.12840959543228173, 0.12840959543228173, 0.1283319050517296, 0.1326353997190382, 0.12629385940087676, 0.1259421346146894, 0.12520889956243703, 0.12505625354558628, 0.12474812812432629, 0.12455068836442634, 0.12403863161291223, 0.12403863161291223, 0.12353204259832958, 0.22696668419117186, 0.1700837319222563, 0.17759790726966057, 0.17516748580724267, 0.16269939071372477, 0.27787184463433795, 0.33646688928879315, 0.1549294335247491, 0.20237578750403545, 0.5266147851615258, 0.7293905117705276, 0.30186445152473457, 0.27804404416370837, 0.4264471490912338, 0.18226688754916798, 0.3594007340563464, 0.21884251060199914, 0.4568087328972988, 0.3340274185574843, 0.3797545040350743, 0.22403164545351423, 0.32093197403095386, 0.30329420938382057, 0.278819016342862, 0.25019203243258215, 0.31761060457518114, 0.2790237748802944, 0.24663752714302753, 0.2668567169182775, 0.26859200905551356, 0.20824829187855745, 0.23745706179299908, 0.23095859281741987, 0.22244395262103694, 0.217614336929392, 0.22511386074782577, 0.21543144791572982, 0.21885136299821545, 0.16503925927364238, 0.16443560956823142, 0.1633090951310296, 0.15997465019990997, 0.15817964765840029, 0.19793696515120446, 0.14507290668286438, 0.14087694070669232, 0.14081773371683914, 0.13913778190668186, 0.13828284223853338, 0.13649253695311916, 0.13649253695311916, 0.1349979808149962, 0.13472029963272952, 0.1342556165428508, 0.13125556955573908, 0.13084457609972808, 0.13033768940152687, 0.13011904901918445, 0.12937551573080375, 0.1286973622764936, 0.1286973622764936, 0.1281210264750009, 0.1281210264750009, 0.13519052168346712, 0.1278616609335685, 0.1278616609335685, 0.1301697171872563, 0.12604500674598035, 0.1444553899250365, 0.17731139903574153, 0.19154429990177652, 0.2550053976838038, 0.17164606480218061, 0.4181870530578637, 0.31820421915499003, 0.1861443665870646, 0.6213073803849675, 0.2677469337576513, 0.25134456380866593, 0.35195523425338454, 0.23450745474614276, 0.23552059872290526, 0.24858989724817698, 0.24306822352167518, 0.19923228081095845, 0.32538473451056754, 0.3066390654884331, 0.31309035341392905, 0.2782529656155118, 0.3129288593063922, 0.32902169187087943, 0.2930174510012723, 0.25168875573658206, 0.2641438069040557, 0.23628385946091549, 0.25279379113373257, 0.24228076868552276, 0.2387016537650735, 0.23563602798907407, 0.22418122119309306, 0.2232886074651016, 0.21250025212628867, 0.20792163398245495, 0.20310332417303936, 0.16369411538487, 0.1458896074504411, 0.1377687099688389, 0.1497992189435024, 0.13298793198426473, 0.13221336616892096, 0.13179115471858824, 0.13140400918212727, 0.1410532487490162, 0.13093411935622576, 0.12855118337193203, 0.1283145713850577, 0.12790810697117222, 0.12677248403159885, 0.18892056862182957, 0.1246881860015727, 0.17014792421006517, 0.1396513470680114, 0.12312678223130849, 0.1226124729325634, 0.1226124729325634, 0.12216572516760486, 0.2546874128623519, 0.14483030555252652, 0.14051337091857818, 0.12093691482268532, 0.1206789415470769, 0.12019881504989152, 0.11987036019978445, 0.11970869455001575, 0.23391033466419883, 0.24049760080554977, 0.3026057830194619, 0.2367450960584933, 0.14850420912812082, 0.14820141025566355, 0.31523190520368777, 0.24864844853278023, 0.19905402623474458, 0.24899509301632744, 0.19682503725317996, 0.4281466379829151, 0.5379872811140886, 0.3482777652931982, 0.27574332355858094, 0.35528531265028646, 0.21221400077406602, 0.2997266376724058, 0.26507343658656884, 0.28834186679192453, 0.23204251984862978, 0.19629400695405663, 0.26375134816302154, 0.2682720501371585, 0.2271793683058501, 0.21723233416085688, 0.2826121220542676, 0.2483524753076605, 0.2846830161095457, 0.2543557576344394, 0.23024716685179308, 0.232565141717982, 0.22985454881870512, 0.21904220716868947, 0.22115538245356817, 0.19336886320330723, 0.2426163679011124, 0.15819844551987067, 0.15450398760379316, 0.14455267851257259, 0.1443804054785287, 0.14167832578116155, 0.1405215968048133, 0.13901258073820633, 0.1377481894149372, 0.1349292717874213, 0.14864632277418935, 0.1345433057066251, 0.1316847761881944, 0.1314838483294861, 0.1308458332289758, 0.1304489185257263, 0.1303536227545365, 0.12973380651882088, 0.1265306136184917, 0.12619889740609067, 0.14443021372499887, 0.13266592702103638, 0.11971316372261331, 0.11925409700242348, 0.11923943356181842, 0.1187301083718564, 0.1187301083718564, 0.11735156401857658, 0.11719576321338959, 0.151200641498366, 0.14570360495623857, 0.1402373045385336, 0.21594552745530382, 0.35088391310370853, 0.18729245153018084, 0.3653434775859024, 0.2861573365928966, 0.3908529119050256, 0.37811254170502673, 0.5237939597958925, 0.15785571299106868, 0.33352186892636543, 0.15873418925102065, 0.2434240625838019, 0.30738347508841285, 0.27762788940328126, 0.3115585215876438, 0.30951363448142616, 0.2536563024574142, 0.24778022705171462, 0.20990296767898714, 0.22931852988809476, 0.23357796351304083, 0.22961167612845745, 0.1876719050827981, 0.20305978948948594, 0.20899443660011355, 0.19160374731555624, 0.20264691077976016, 0.2015118224329942, 0.19662886958401984, 0.20414022234908955, 0.19435468679573834, 0.19191996135697223], \"Total\": [2.0, 1.0, 1.0, 1.0, 1.0, 1.0, 2.0, 1.0, 0.0, 1.0, 1.0, 1.0, 0.0, 1.0, 1.0, 1.0, 3.0, 1.0, 0.0, 0.0, 1.0, 0.0, 0.0, 0.0, 0.0, 0.0, 0.0, 3.0, 1.0, 1.0, 0.8710931071104457, 1.6474055205218545, 1.1067813968849987, 0.6575991677828826, 0.6410919596428089, 0.9984990169827619, 1.1672329891966302, 0.6826473635344167, 0.6389840621638656, 0.6473391980399633, 0.6358760255626459, 0.978866590580384, 0.501541775062281, 1.8571162715997336, 0.5262762743471916, 0.6348960225097617, 1.6587191470479168, 0.4527577023229135, 1.7545201932295182, 1.3770597267807667, 0.5210331550644465, 0.9612006311459086, 0.7155485564751648, 1.5295420739288503, 0.4662499088460525, 0.5717068323131546, 0.5756122244515187, 0.47948831006953274, 1.4353551216812372, 0.4271667678927695, 0.9882538493967671, 2.112157164526099, 1.9243988743359624, 1.3375273486806918, 1.0273609767822458, 1.3742112971125273, 3.400576699736004, 0.968144102171848, 4.984569533577539, 1.953695788415419, 1.5819789256978583, 2.1814491001223755, 1.1100038614143604, 2.6985094988533254, 1.8089818940463256, 1.890873553724877, 7.877511234143805, 1.5587096226926793, 2.371143787883034, 4.01840980419212, 3.5713072463823723, 2.342733882395532, 2.1874551100166015, 1.5774122501792036, 0.8143414647966053, 1.0128131259467588, 0.7345254496245346, 0.8267171906717371, 1.060098415022302, 0.6756509616031209, 0.5240134840773201, 0.5143893263680375, 0.9042901221854195, 0.6761902219278222, 0.5611751488326394, 0.43383468179391205, 0.4813171937614599, 0.4086376652227408, 0.40248223624822516, 0.4393697173107413, 0.4362851156631373, 1.375643245675634, 0.38440698641431953, 0.3747116103015872, 0.3734410938709058, 0.3723322764344084, 0.5646760861439275, 0.3572571984168429, 0.35518179785721077, 0.35353940633803754, 0.3512770352553112, 0.350977455073478, 0.5065294487292652, 0.42035518974227043, 3.304808337087722, 0.5341854303489316, 0.8819029229466843, 0.855811540385653, 3.024264243574905, 7.877511234143805, 0.8847562617740482, 3.212584355554874, 3.361330039036411, 3.5418044946655676, 1.2810496381044294, 2.3656234705789663, 0.7833210065948442, 4.984569533577539, 4.01840980419212, 3.1603851365544187, 3.400576699736004, 4.099367568674621, 3.5713072463823723, 2.8658637067802517, 3.1372392031248095, 2.218947023449153, 3.001738857845497, 2.555683536054427, 0.41616187303065494, 0.37060662186530063, 0.36716118190668084, 0.42059558742562553, 0.3590494444948915, 0.3544848440362964, 0.5735864380028669, 0.37426208564383096, 0.34503939693290314, 0.33917765764943236, 0.33844309213748247, 0.33436918648120006, 0.3310595471187951, 0.3292126152432429, 0.3292126152432429, 0.32869007173386733, 0.3274480548288287, 0.3274480548288287, 0.35344720549254915, 0.32676301091530763, 0.3263388568477836, 0.324080362446758, 0.3240593742199249, 0.3208394267308929, 0.3208394267308929, 0.3647246136146211, 0.31953626736768964, 0.3192019991072371, 0.3188843358287691, 0.3591320905586064, 0.37261279943917397, 0.5530592878212843, 0.4946956976995185, 0.39774860125024025, 0.4568591623719707, 2.3656234705789663, 1.7746114756257905, 3.140127463711799, 1.6350751964948622, 1.3432016288791226, 2.046065274705098, 3.361330039036411, 1.0184985259241448, 1.0780653010280647, 0.807192590045586, 0.5495823626610523, 7.877511234143805, 0.9729196620205085, 3.557390201070705, 3.272860186393379, 1.4045603097373374, 3.001738857845497, 0.9292488313240537, 4.01840980419212, 2.6831634863899496, 1.3629896511601374, 4.099367568674621, 2.5387901336257213, 3.304808337087722, 3.5713072463823723, 4.984569533577539, 3.1372392031248095, 2.218947023449153, 1.6887056006544041, 1.948416480975512, 2.1814491001223755, 2.6985094988533254, 3.1603851365544187, 3.212584355554874, 2.6347118034181602, 2.740664823893571, 2.342733882395532, 0.3555059781939171, 0.3544759139464873, 0.3523424311849034, 0.4587021346873413, 0.3472607398756755, 0.3464226795422276, 0.34571685720034373, 0.3573710149443373, 0.34208108945821325, 0.3416592799386299, 0.33836513724369716, 0.335430381492019, 0.33179008890720924, 0.3285352335449072, 0.37225229876871113, 0.3230629223132625, 0.32300462524397294, 0.32202581935690927, 0.32202581935690927, 0.31985878729669215, 0.31968605632209274, 0.3196101623489573, 0.3196101623489573, 0.3192946133732704, 0.31741945057947635, 0.3150905688308879, 0.3150905688308879, 0.3262750364265686, 0.31444559575015835, 0.31439202399867044, 0.6782354429338249, 0.6677571289572583, 0.5804042619311869, 0.3759438908057396, 0.37225806452797094, 0.4089573756892463, 0.746606476603264, 0.6645565413416831, 0.8148346780094703, 3.557390201070705, 2.744336567129108, 0.5838617746502199, 7.877511234143805, 0.8204887240434734, 1.468403922098501, 3.001738857845497, 3.1603851365544187, 2.218947023449153, 2.115312930493893, 1.7746114756257905, 3.1372392031248095, 2.3998247423203174, 3.5418044946655676, 3.5713072463823723, 2.555683536054427, 1.5390713779624956, 4.01840980419212, 1.5692114535399335, 1.2706747859464913, 2.6347118034181602, 3.304808337087722, 4.984569533577539, 2.5384059762323608, 2.446490530435055, 2.6831634863899496, 1.8463511141310645, 4.099367568674621, 3.140127463711799, 3.361330039036411, 2.342733882395532, 2.146951219394176, 0.6220001042531005, 0.6220001042531005, 0.6197828191006057, 0.4309676250858025, 0.4102296226817929, 0.4102296226817929, 0.4062476424245823, 0.3763068668348698, 0.36154238460562516, 0.36154238460562516, 0.4581312955185738, 0.617811540200157, 0.343365081463482, 0.4792690019486347, 0.3331534026195042, 0.33261060922610525, 0.328996745249916, 0.32835578702599844, 0.3265858803707254, 0.32594151908852287, 0.32590377839104834, 0.3498178713102586, 0.3238198408810511, 0.3235463252708279, 0.3232191260329811, 0.32189305749773706, 0.32091327755002114, 0.32027197183290745, 0.31953746458450466, 0.3189675470120793, 0.5827750711014803, 0.4427436112764291, 1.171276417561906, 0.5802085674084206, 0.5300915578634223, 1.4078232116331313, 0.6444475166120351, 0.7295512273839238, 7.877511234143805, 0.6625352125114204, 1.1886861059530722, 4.01840980419212, 0.7313975380572166, 4.984569533577539, 1.6080547479393816, 3.557390201070705, 4.099367568674621, 3.272860186393379, 3.5418044946655676, 2.446490530435055, 2.0165881778908026, 2.8658637067802517, 2.740664823893571, 2.5387901336257213, 3.024264243574905, 2.5384059762323608, 3.212584355554874, 3.140127463711799, 3.1603851365544187, 1.496307403799878, 2.387086927646445, 3.1372392031248095, 1.6663222598510246, 0.5447395459922693, 0.5291032202289004, 0.40814763745331784, 0.3708508881417218, 0.3521380774271994, 0.35029024234123923, 0.34955506989904733, 0.3476838843312103, 0.33606552837008796, 0.33334220562431194, 0.3307952044919361, 0.32970621102234826, 0.32940076590874934, 0.49691369604081537, 0.4720037983417902, 0.3233158381752568, 0.3161253782787382, 0.3161253782787382, 0.31178490498851186, 0.3911916961576803, 0.3086486588669823, 0.4188731982017464, 0.3059550749552094, 0.30529958810367586, 0.3047001294048152, 0.3047001294048152, 0.354936884161834, 0.30415659019313146, 0.3038058424809267, 0.30330873530827235, 0.3323252600967211, 0.4294577475552548, 0.3555114139901963, 0.4682414126636328, 0.39794812379970074, 0.7130731383691519, 0.34484384312194577, 0.5412689664063569, 0.4886202826908528, 0.6414834688161168, 2.5384059762323608, 0.8077055699761018, 1.4467792079223711, 3.140127463711799, 1.2710086145259627, 4.099367568674621, 3.361330039036411, 2.6831634863899496, 1.5932863790414191, 1.5692114535399335, 3.557390201070705, 4.01840980419212, 2.8658637067802517, 0.9933244152025866, 2.6985094988533254, 7.877511234143805, 2.1796342345487867, 2.387086927646445, 1.6022445915346848, 3.5713072463823723, 3.1603851365544187, 1.948416480975512, 4.984569533577539, 3.001738857845497, 3.304808337087722, 2.555683536054427, 3.272860186393379, 0.3545889420707931, 0.34838450267723425, 0.3282865509597445, 0.32507785890474783, 0.32437588415240404, 0.32359983098275313, 0.3233580572182564, 0.3200033027465523, 0.31574875707078803, 0.3151218103391148, 0.5388396692049845, 0.313189489078191, 0.3100072856013004, 0.3490538081996882, 0.3090418130706286, 0.3083658428390663, 0.30808650763833095, 0.30808650763833095, 0.3080088166741467, 0.32117061272006003, 0.3059707707111597, 0.30562626241275914, 0.3048858114640236, 0.30473316559612396, 0.30442503975196195, 0.304227600445414, 0.3037155437360648, 0.3037155437360648, 0.30320895433739997, 0.5591988339337699, 0.42180823503120457, 0.4509970648507222, 0.4516402954420444, 0.41514456064026906, 1.0946884670234072, 1.5924675721619128, 0.43821540729773134, 0.7141694807231278, 4.099367568674621, 7.877511234143805, 1.5218104952305525, 1.3411397025406786, 3.1603851365544187, 0.6206435303467851, 2.744336567129108, 0.9445729511387024, 4.984569533577539, 2.5384059762323608, 3.5713072463823723, 1.0522971679063435, 2.740664823893571, 2.446490530435055, 2.146951219394176, 1.644974801308313, 3.400576699736004, 3.1372392031248095, 2.3998247423203174, 3.557390201070705, 4.01840980419212, 1.2532689075050871, 2.6985094988533254, 2.387086927646445, 1.9457042463254557, 1.953695788415419, 3.361330039036411, 2.342733882395532, 3.272860186393379, 0.3455852838061422, 0.34498163523149966, 0.34385748134335997, 0.3405206758342237, 0.33872567283213595, 0.43379410025817494, 0.3256191650319039, 0.32142305875244026, 0.32136375827936703, 0.31968380706264954, 0.3188288673093661, 0.31703856304099237, 0.31703856304099237, 0.31554400605500926, 0.3152663247931362, 0.31480164177703474, 0.3118015951894812, 0.31139060085192427, 0.3108837146296118, 0.3106650743310394, 0.30992154134576577, 0.30924338780831173, 0.30924338780831173, 0.3086670521202691, 0.3086670521202691, 0.32572474131335055, 0.30840768638622107, 0.30840768638622107, 0.31576392316488666, 0.30659103237136726, 0.36047856206436435, 0.4612955670925006, 0.5526484260505089, 0.8558173156821567, 0.5300533875975616, 3.024264243574905, 1.848354374368616, 0.65163098171305, 7.877511234143805, 1.6022445915346848, 1.4363947753088098, 3.5713072463823723, 1.3452373122143493, 1.3629896511601374, 1.5863987413852088, 1.5128031065344962, 0.9048959361607667, 3.5418044946655676, 3.272860186393379, 3.557390201070705, 2.555683536054427, 4.099367568674621, 4.984569533577539, 4.01840980419212, 2.387086927646445, 3.361330039036411, 2.146951219394176, 3.001738857845497, 2.5387901336257213, 2.6347118034181602, 3.304808337087722, 2.6831634863899496, 3.140127463711799, 2.5384059762323608, 2.0447750136772056, 2.3998247423203174, 0.34429971254592096, 0.3264981853463353, 0.31837430769252106, 0.34648541948638956, 0.3135935293587806, 0.3128189638278939, 0.31239675211405693, 0.31200960681278983, 0.3352025477014584, 0.3115397171686513, 0.3091567802796919, 0.3089201683073163, 0.30851370495936015, 0.30737981514715373, 0.46254964362462764, 0.3052937829732838, 0.4167613694364423, 0.3426270195303801, 0.30373237918892093, 0.30321807085774416, 0.30321807085774416, 0.3027713226488171, 0.6313061363121382, 0.35968029741692203, 0.3496381171434153, 0.30154251258183845, 0.3012848543599518, 0.3008044120548022, 0.30047595795860144, 0.30031429167541335, 0.6650061483774876, 0.7212935395427945, 0.9893749606333768, 0.7802604632133188, 0.40731815850431186, 0.40954061110134266, 1.5390713779624956, 1.1168924255817894, 0.7833210065948442, 1.2532689075050871, 0.7816138150969609, 4.099367568674621, 7.877511234143805, 3.1372392031248095, 1.848354374368616, 3.5418044946655676, 1.1044883383748116, 3.024264243574905, 2.446490530435055, 3.361330039036411, 1.6887056006544041, 1.005886672794029, 2.6347118034181602, 2.8658637067802517, 1.6663222598510246, 1.5128031065344962, 4.01840980419212, 2.6831634863899496, 4.984569533577539, 3.212584355554874, 2.371143787883034, 2.555683536054427, 2.3656234705789663, 1.948416480975512, 3.001738857845497, 0.3744515294726817, 0.5037069016637379, 0.33923891988775035, 0.33554446261786663, 0.3255953286734581, 0.32542088029918126, 0.3227188010943032, 0.3215620716639489, 0.3200530546862201, 0.31878866358710695, 0.31596974660090826, 0.3482072253536026, 0.3156204916756815, 0.31272525030295584, 0.3125295009221659, 0.31188630761086283, 0.3114912544159698, 0.31139409733143913, 0.31077428128459217, 0.30757108785972037, 0.30723937211379093, 0.35273801726750514, 0.32838793053811344, 0.3007536384950346, 0.30029457239638496, 0.3002871676815898, 0.29977058231129633, 0.29977058231129633, 0.2983920392237954, 0.298236237120865, 0.39361661544484783, 0.40095823373634604, 0.38539971624084624, 0.7603184453539876, 1.6712622353600177, 0.6313061363121382, 2.115312930493893, 1.5692114535399335, 3.272860186393379, 3.212584355554874, 7.877511234143805, 0.49842027025952773, 3.5418044946655676, 0.5300972025407257, 1.7746114756257905, 3.5713072463823723, 2.8658637067802517, 4.099367568674621, 4.01840980419212, 2.387086927646445, 2.6347118034181602, 1.8463511141310645, 2.744336567129108, 3.1603851365544187, 3.140127463711799, 1.2058231814188425, 1.9457042463254557, 2.5384059762323608, 1.6778788522366421, 2.6831634863899496, 2.740664823893571, 2.3998247423203174, 3.557390201070705, 2.555683536054427, 3.001738857845497], \"Category\": [\"Default\", \"Default\", \"Default\", \"Default\", \"Default\", \"Default\", \"Default\", \"Default\", \"Default\", \"Default\", \"Default\", \"Default\", \"Default\", \"Default\", \"Default\", \"Default\", \"Default\", \"Default\", \"Default\", \"Default\", \"Default\", \"Default\", \"Default\", \"Default\", \"Default\", \"Default\", \"Default\", \"Default\", \"Default\", \"Default\", \"Topic1\", \"Topic1\", \"Topic1\", \"Topic1\", \"Topic1\", \"Topic1\", \"Topic1\", \"Topic1\", \"Topic1\", \"Topic1\", \"Topic1\", \"Topic1\", \"Topic1\", \"Topic1\", \"Topic1\", \"Topic1\", \"Topic1\", \"Topic1\", \"Topic1\", \"Topic1\", \"Topic1\", \"Topic1\", \"Topic1\", \"Topic1\", \"Topic1\", \"Topic1\", \"Topic1\", \"Topic1\", \"Topic1\", \"Topic1\", \"Topic1\", \"Topic1\", \"Topic1\", \"Topic1\", \"Topic1\", \"Topic1\", \"Topic1\", \"Topic1\", \"Topic1\", \"Topic1\", \"Topic1\", \"Topic1\", \"Topic1\", \"Topic1\", \"Topic1\", \"Topic1\", \"Topic1\", \"Topic1\", \"Topic1\", \"Topic1\", \"Topic1\", \"Topic1\", \"Topic2\", \"Topic2\", \"Topic2\", \"Topic2\", \"Topic2\", \"Topic2\", \"Topic2\", \"Topic2\", \"Topic2\", \"Topic2\", \"Topic2\", \"Topic2\", \"Topic2\", \"Topic2\", \"Topic2\", \"Topic2\", \"Topic2\", \"Topic2\", \"Topic2\", \"Topic2\", \"Topic2\", \"Topic2\", \"Topic2\", \"Topic2\", \"Topic2\", \"Topic2\", \"Topic2\", \"Topic2\", \"Topic2\", \"Topic2\", \"Topic2\", \"Topic2\", \"Topic2\", \"Topic2\", \"Topic2\", \"Topic2\", \"Topic2\", \"Topic2\", \"Topic2\", \"Topic2\", \"Topic2\", \"Topic2\", \"Topic2\", \"Topic2\", \"Topic2\", \"Topic2\", \"Topic2\", \"Topic2\", \"Topic2\", \"Topic2\", \"Topic2\", \"Topic2\", \"Topic2\", \"Topic2\", \"Topic2\", \"Topic2\", \"Topic3\", \"Topic3\", \"Topic3\", \"Topic3\", \"Topic3\", \"Topic3\", \"Topic3\", \"Topic3\", \"Topic3\", \"Topic3\", \"Topic3\", \"Topic3\", \"Topic3\", \"Topic3\", \"Topic3\", \"Topic3\", \"Topic3\", \"Topic3\", \"Topic3\", \"Topic3\", \"Topic3\", \"Topic3\", \"Topic3\", \"Topic3\", \"Topic3\", \"Topic3\", \"Topic3\", \"Topic3\", \"Topic3\", \"Topic3\", \"Topic3\", \"Topic3\", \"Topic3\", \"Topic3\", \"Topic3\", \"Topic3\", \"Topic3\", \"Topic3\", \"Topic3\", \"Topic3\", \"Topic3\", \"Topic3\", \"Topic3\", \"Topic3\", \"Topic3\", \"Topic3\", \"Topic3\", \"Topic3\", \"Topic3\", \"Topic3\", \"Topic3\", \"Topic3\", \"Topic3\", \"Topic3\", \"Topic3\", \"Topic3\", \"Topic3\", \"Topic3\", \"Topic3\", \"Topic3\", \"Topic3\", \"Topic3\", \"Topic3\", \"Topic3\", \"Topic3\", \"Topic3\", \"Topic3\", \"Topic3\", \"Topic3\", \"Topic3\", \"Topic3\", \"Topic3\", \"Topic4\", \"Topic4\", \"Topic4\", \"Topic4\", \"Topic4\", \"Topic4\", \"Topic4\", \"Topic4\", \"Topic4\", \"Topic4\", \"Topic4\", \"Topic4\", \"Topic4\", \"Topic4\", \"Topic4\", \"Topic4\", \"Topic4\", \"Topic4\", \"Topic4\", \"Topic4\", \"Topic4\", \"Topic4\", \"Topic4\", \"Topic4\", \"Topic4\", \"Topic4\", \"Topic4\", \"Topic4\", \"Topic4\", \"Topic4\", \"Topic4\", \"Topic4\", \"Topic4\", \"Topic4\", \"Topic4\", \"Topic4\", \"Topic4\", \"Topic4\", \"Topic4\", \"Topic4\", \"Topic4\", \"Topic4\", \"Topic4\", \"Topic4\", \"Topic4\", \"Topic4\", \"Topic4\", \"Topic4\", \"Topic4\", \"Topic4\", \"Topic4\", \"Topic4\", \"Topic4\", \"Topic4\", \"Topic4\", \"Topic4\", \"Topic4\", \"Topic4\", \"Topic4\", \"Topic4\", \"Topic4\", \"Topic4\", \"Topic4\", \"Topic4\", \"Topic4\", \"Topic4\", \"Topic4\", \"Topic4\", \"Topic4\", \"Topic4\", \"Topic4\", \"Topic5\", \"Topic5\", \"Topic5\", \"Topic5\", \"Topic5\", \"Topic5\", \"Topic5\", \"Topic5\", \"Topic5\", \"Topic5\", \"Topic5\", \"Topic5\", \"Topic5\", \"Topic5\", \"Topic5\", \"Topic5\", \"Topic5\", \"Topic5\", \"Topic5\", \"Topic5\", \"Topic5\", \"Topic5\", \"Topic5\", \"Topic5\", \"Topic5\", \"Topic5\", \"Topic5\", \"Topic5\", \"Topic5\", \"Topic5\", \"Topic5\", \"Topic5\", \"Topic5\", \"Topic5\", \"Topic5\", \"Topic5\", \"Topic5\", \"Topic5\", \"Topic5\", \"Topic5\", \"Topic5\", \"Topic5\", \"Topic5\", \"Topic5\", \"Topic5\", \"Topic5\", \"Topic5\", \"Topic5\", \"Topic5\", \"Topic5\", \"Topic5\", \"Topic5\", \"Topic5\", \"Topic5\", \"Topic5\", \"Topic5\", \"Topic5\", \"Topic5\", \"Topic5\", \"Topic5\", \"Topic5\", \"Topic5\", \"Topic5\", \"Topic6\", \"Topic6\", \"Topic6\", \"Topic6\", \"Topic6\", \"Topic6\", \"Topic6\", \"Topic6\", \"Topic6\", \"Topic6\", \"Topic6\", \"Topic6\", \"Topic6\", \"Topic6\", \"Topic6\", \"Topic6\", \"Topic6\", \"Topic6\", \"Topic6\", \"Topic6\", \"Topic6\", \"Topic6\", \"Topic6\", \"Topic6\", \"Topic6\", \"Topic6\", \"Topic6\", \"Topic6\", \"Topic6\", \"Topic6\", \"Topic6\", \"Topic6\", \"Topic6\", \"Topic6\", \"Topic6\", \"Topic6\", \"Topic6\", \"Topic6\", \"Topic6\", \"Topic6\", \"Topic6\", \"Topic6\", \"Topic6\", \"Topic6\", \"Topic6\", \"Topic6\", \"Topic6\", \"Topic6\", \"Topic6\", \"Topic6\", \"Topic6\", \"Topic6\", \"Topic6\", \"Topic6\", \"Topic6\", \"Topic6\", \"Topic6\", \"Topic6\", \"Topic6\", \"Topic6\", \"Topic6\", \"Topic6\", \"Topic6\", \"Topic6\", \"Topic6\", \"Topic6\", \"Topic6\", \"Topic7\", \"Topic7\", \"Topic7\", \"Topic7\", \"Topic7\", \"Topic7\", \"Topic7\", \"Topic7\", \"Topic7\", \"Topic7\", \"Topic7\", \"Topic7\", \"Topic7\", \"Topic7\", \"Topic7\", \"Topic7\", \"Topic7\", \"Topic7\", \"Topic7\", \"Topic7\", \"Topic7\", \"Topic7\", \"Topic7\", \"Topic7\", \"Topic7\", \"Topic7\", \"Topic7\", \"Topic7\", \"Topic7\", \"Topic7\", \"Topic7\", \"Topic7\", \"Topic7\", \"Topic7\", \"Topic7\", \"Topic7\", \"Topic7\", \"Topic7\", \"Topic7\", \"Topic7\", \"Topic7\", \"Topic7\", \"Topic7\", \"Topic7\", \"Topic7\", \"Topic7\", \"Topic7\", \"Topic7\", \"Topic7\", \"Topic7\", \"Topic7\", \"Topic7\", \"Topic7\", \"Topic7\", \"Topic7\", \"Topic7\", \"Topic7\", \"Topic7\", \"Topic7\", \"Topic7\", \"Topic7\", \"Topic7\", \"Topic7\", \"Topic7\", \"Topic7\", \"Topic7\", \"Topic7\", \"Topic8\", \"Topic8\", \"Topic8\", \"Topic8\", \"Topic8\", \"Topic8\", \"Topic8\", \"Topic8\", \"Topic8\", \"Topic8\", \"Topic8\", \"Topic8\", \"Topic8\", \"Topic8\", \"Topic8\", \"Topic8\", \"Topic8\", \"Topic8\", \"Topic8\", \"Topic8\", \"Topic8\", \"Topic8\", \"Topic8\", \"Topic8\", \"Topic8\", \"Topic8\", \"Topic8\", \"Topic8\", \"Topic8\", \"Topic8\", \"Topic8\", \"Topic8\", \"Topic8\", \"Topic8\", \"Topic8\", \"Topic8\", \"Topic8\", \"Topic8\", \"Topic8\", \"Topic8\", \"Topic8\", \"Topic8\", \"Topic8\", \"Topic8\", \"Topic8\", \"Topic8\", \"Topic8\", \"Topic8\", \"Topic8\", \"Topic8\", \"Topic8\", \"Topic8\", \"Topic8\", \"Topic8\", \"Topic8\", \"Topic8\", \"Topic8\", \"Topic8\", \"Topic8\", \"Topic8\", \"Topic8\", \"Topic8\", \"Topic8\", \"Topic8\", \"Topic8\", \"Topic8\", \"Topic9\", \"Topic9\", \"Topic9\", \"Topic9\", \"Topic9\", \"Topic9\", \"Topic9\", \"Topic9\", \"Topic9\", \"Topic9\", \"Topic9\", \"Topic9\", \"Topic9\", \"Topic9\", \"Topic9\", \"Topic9\", \"Topic9\", \"Topic9\", \"Topic9\", \"Topic9\", \"Topic9\", \"Topic9\", \"Topic9\", \"Topic9\", \"Topic9\", \"Topic9\", \"Topic9\", \"Topic9\", \"Topic9\", \"Topic9\", \"Topic9\", \"Topic9\", \"Topic9\", \"Topic9\", \"Topic9\", \"Topic9\", \"Topic9\", \"Topic9\", \"Topic9\", \"Topic9\", \"Topic9\", \"Topic9\", \"Topic9\", \"Topic9\", \"Topic9\", \"Topic9\", \"Topic9\", \"Topic9\", \"Topic9\", \"Topic9\", \"Topic9\", \"Topic9\", \"Topic9\", \"Topic9\", \"Topic9\", \"Topic9\", \"Topic9\", \"Topic9\", \"Topic9\", \"Topic9\", \"Topic9\", \"Topic9\", \"Topic9\", \"Topic9\", \"Topic9\", \"Topic10\", \"Topic10\", \"Topic10\", \"Topic10\", \"Topic10\", \"Topic10\", \"Topic10\", \"Topic10\", \"Topic10\", \"Topic10\", \"Topic10\", \"Topic10\", \"Topic10\", \"Topic10\", \"Topic10\", \"Topic10\", \"Topic10\", \"Topic10\", \"Topic10\", \"Topic10\", \"Topic10\", \"Topic10\", \"Topic10\", \"Topic10\", \"Topic10\", \"Topic10\", \"Topic10\", \"Topic10\", \"Topic10\", \"Topic10\", \"Topic10\", \"Topic10\", \"Topic10\", \"Topic10\", \"Topic10\", \"Topic10\", \"Topic10\", \"Topic10\", \"Topic10\", \"Topic10\", \"Topic10\", \"Topic10\", \"Topic10\", \"Topic10\", \"Topic10\", \"Topic10\", \"Topic10\", \"Topic10\", \"Topic10\", \"Topic10\", \"Topic10\", \"Topic10\", \"Topic10\", \"Topic10\", \"Topic10\", \"Topic10\", \"Topic10\", \"Topic10\", \"Topic10\", \"Topic10\", \"Topic10\", \"Topic10\", \"Topic10\", \"Topic10\", \"Topic10\"], \"logprob\": [30.0, 29.0, 28.0, 27.0, 26.0, 25.0, 24.0, 23.0, 22.0, 21.0, 20.0, 19.0, 18.0, 17.0, 16.0, 15.0, 14.0, 13.0, 12.0, 11.0, 10.0, 9.0, 8.0, 7.0, 6.0, 5.0, 4.0, 3.0, 2.0, 1.0, -7.9461, -7.3093, -7.7557, -8.299, -8.3291, -7.9074, -7.7562, -8.3069, -8.3763, -8.3899, -8.4178, -7.9869, -8.6563, -7.3666, -8.6359, -8.4485, -7.5032, -8.818, -7.4685, -7.7112, -8.6832, -8.0709, -8.3683, -7.6114, -8.8031, -8.604, -8.604, -8.7874, -7.7057, -8.9178, -8.1007, -7.3661, -7.4685, -7.8455, -8.1218, -7.8848, -7.1945, -8.1909, -7.0139, -7.7724, -7.9019, -7.7448, -8.1181, -7.651, -7.8805, -7.8979, -7.4521, -8.0207, -7.9556, -7.8935, -7.9357, -8.0451, -6.7004, -7.0618, -7.8484, -7.6532, -7.982, -7.8685, -7.6309, -8.0934, -8.4553, -8.4834, -7.9407, -8.2717, -8.4845, -8.7554, -8.6861, -8.8584, -8.8852, -8.8147, -8.8339, -7.6887, -8.9685, -9.0162, -9.0226, -9.0282, -8.6191, -9.1082, -9.1199, -9.129, -9.1418, -9.1435, -8.79, -8.97, -7.1434, -8.7807, -8.4066, -8.4599, -7.6185, -6.9869, -8.4584, -7.6935, -7.9034, -7.9103, -8.3925, -8.1721, -8.6057, -7.9108, -8.0843, -8.1624, -8.1995, -8.17, -8.2207, -8.2601, -8.2785, -8.354, -8.3458, -8.3602, -8.827, -8.9645, -8.9825, -8.8503, -9.0262, -9.052, -8.5733, -9.0159, -9.1065, -9.1424, -9.1467, -9.1723, -9.1936, -9.2057, -9.2057, -9.2092, -9.2174, -9.2174, -9.1417, -9.222, -9.2248, -9.2401, -9.2403, -9.2625, -9.2625, -9.1372, -9.2716, -9.274, -9.2762, -9.1577, -9.1467, -8.8377, -8.9278, -9.1083, -9.0111, -7.9674, -8.1515, -7.8688, -8.2757, -8.4131, -8.1735, -7.9098, -8.6076, -8.5937, -8.7448, -8.9438, -7.6791, -8.6826, -8.0749, -8.1235, -8.5131, -8.1871, -8.7238, -8.1386, -8.3271, -8.5964, -8.1935, -8.3684, -8.3139, -8.3014, -8.2663, -8.3954, -8.4956, -8.5692, -8.5466, -8.5218, -8.513, -8.4894, -8.4897, -8.533, -8.5451, -8.5552, -8.9957, -9.0017, -9.0137, -8.7639, -9.0433, -9.0483, -9.0525, -9.0205, -9.0745, -9.0771, -9.0974, -9.1159, -9.1394, -9.1608, -9.0435, -9.1979, -9.1984, -9.2051, -9.2051, -9.2203, -9.2216, -9.2221, -9.2221, -9.2243, -9.2377, -9.2546, -9.2546, -9.222, -9.2594, -9.2597, -8.5144, -8.5621, -8.7529, -9.1122, -9.123, -9.0578, -8.6375, -8.7251, -8.5932, -7.7468, -7.942, -8.8644, -7.3912, -8.6951, -8.421, -8.0861, -8.1291, -8.2946, -8.3168, -8.4122, -8.182, -8.3139, -8.1766, -8.1855, -8.3181, -8.5375, -8.2162, -8.5393, -8.6133, -8.4028, -8.3732, -8.2901, -8.4681, -8.4888, -8.4802, -8.5615, -8.4512, -8.4912, -8.5015, -8.5517, -8.5581, -8.033, -8.033, -8.0537, -8.5974, -8.6833, -8.6833, -8.7007, -8.842, -8.9198, -8.9198, -8.7034, -8.4281, -9.0247, -8.7125, -9.0889, -9.0924, -9.1162, -9.1205, -9.1324, -9.1368, -9.1371, -9.0723, -9.1514, -9.1533, -9.1555, -9.1648, -9.1717, -9.1762, -9.1814, -9.1855, -8.6826, -8.9126, -8.1631, -8.7183, -8.8038, -8.1544, -8.7014, -8.6771, -7.3179, -8.7638, -8.4712, -7.9116, -8.735, -7.8894, -8.4169, -8.0893, -8.0743, -8.1875, -8.1925, -8.3786, -8.4677, -8.4137, -8.4435, -8.4606, -8.4357, -8.4955, -8.4635, -8.5071, -8.5207, -8.5912, -8.5645, -8.5625, -8.608, -8.1863, -8.2301, -8.6549, -8.8331, -8.9361, -8.9469, -8.9512, -8.9623, -9.0339, -9.0515, -9.0682, -9.0754, -9.0775, -8.6756, -8.7279, -9.1189, -9.1703, -9.1703, -9.2026, -8.9797, -9.2266, -8.9305, -9.2477, -9.2529, -9.2577, -9.2577, -9.1061, -9.2621, -9.2649, -9.2689, -9.1807, -8.9441, -9.1254, -8.895, -9.0335, -8.6131, -9.1614, -8.8395, -8.9345, -8.8063, -8.1151, -8.7279, -8.4548, -8.1054, -8.533, -8.0544, -8.1749, -8.2901, -8.5334, -8.5607, -8.3036, -8.2879, -8.3957, -8.7163, -8.4411, -8.1574, -8.5208, -8.508, -8.625, -8.5069, -8.5596, -8.6433, -8.5029, -8.5843, -8.5957, -8.6215, -8.644, -8.919, -8.9551, -9.082, -9.1038, -9.1086, -9.114, -9.1157, -9.1393, -9.1701, -9.1747, -8.6386, -9.1892, -9.2132, -9.0964, -9.2207, -9.2259, -9.2281, -9.2281, -9.2287, -9.1957, -9.2447, -9.2475, -9.2533, -9.2545, -9.257, -9.2586, -9.2627, -9.2627, -9.2668, -8.6585, -8.947, -8.9038, -8.9176, -8.9914, -8.4561, -8.2648, -9.0403, -8.7732, -7.8168, -7.4911, -8.3733, -8.4555, -8.0278, -8.8778, -8.1989, -8.6949, -7.959, -8.2721, -8.1438, -8.6715, -8.3121, -8.3686, -8.4527, -8.5611, -8.3225, -8.452, -8.5754, -8.4966, -8.4901, -8.7446, -8.6133, -8.6411, -8.6786, -8.7006, -8.6667, -8.7107, -8.6949, -8.9174, -8.921, -8.9279, -8.9485, -8.9598, -8.7356, -9.0463, -9.0757, -9.0761, -9.0881, -9.0943, -9.1073, -9.1073, -9.1183, -9.1204, -9.1238, -9.1464, -9.1496, -9.1534, -9.1551, -9.1608, -9.1661, -9.1661, -9.1706, -9.1706, -9.1169, -9.1726, -9.1726, -9.1547, -9.1869, -9.0506, -8.8457, -8.7684, -8.4823, -8.8781, -7.9876, -8.2609, -8.797, -7.5917, -8.4335, -8.4967, -8.1601, -8.5661, -8.5618, -8.5078, -8.5302, -8.7291, -8.2386, -8.2979, -8.2771, -8.395, -8.2776, -8.2274, -8.3433, -8.4954, -8.4471, -8.5585, -8.491, -8.5335, -8.5483, -8.5613, -8.6111, -8.6151, -8.6646, -8.6864, -8.7098, -8.9206, -9.0357, -9.093, -9.0093, -9.1283, -9.1342, -9.1374, -9.1403, -9.0694, -9.1439, -9.1622, -9.1641, -9.1673, -9.1762, -8.7772, -9.1928, -8.8819, -9.0794, -9.2054, -9.2095, -9.2095, -9.2132, -8.4785, -9.043, -9.0733, -9.2233, -9.2254, -9.2294, -9.2322, -9.2335, -8.5636, -8.5359, -8.3061, -8.5516, -9.018, -9.02, -8.2653, -8.5025, -8.725, -8.5011, -8.7363, -7.9591, -7.7307, -8.1656, -8.3991, -8.1456, -8.661, -8.3157, -8.4386, -8.3544, -8.5716, -8.739, -8.4436, -8.4266, -8.5928, -8.6376, -8.3745, -8.5037, -8.3672, -8.4798, -8.5794, -8.5694, -8.5811, -8.6293, -8.6197, -8.7239, -8.497, -8.9246, -8.9483, -9.0148, -9.016, -9.0349, -9.0431, -9.0539, -9.0631, -9.0837, -8.9869, -9.0866, -9.1081, -9.1096, -9.1145, -9.1175, -9.1182, -9.123, -9.148, -9.1506, -9.0157, -9.1007, -9.2034, -9.2072, -9.2074, -9.2116, -9.2116, -9.2233, -9.2246, -8.9699, -9.0069, -9.0452, -8.6135, -8.128, -8.7558, -8.0877, -8.3319, -8.0202, -8.0533, -7.7274, -8.9268, -8.1788, -8.9213, -8.4937, -8.2604, -8.3622, -8.2469, -8.2535, -8.4525, -8.4759, -8.6418, -8.5534, -8.535, -8.5521, -8.7538, -8.675, -8.6462, -8.7331, -8.677, -8.6826, -8.7072, -8.6697, -8.7188, -8.7314], \"loglift\": [30.0, 29.0, 28.0, 27.0, 26.0, 25.0, 24.0, 23.0, 22.0, 21.0, 20.0, 19.0, 18.0, 17.0, 16.0, 15.0, 14.0, 13.0, 12.0, 11.0, 10.0, 9.0, 8.0, 7.0, 6.0, 5.0, 4.0, 3.0, 2.0, 1.0, 1.745, 1.7445, 1.6959, 1.6732, 1.6686, 1.6472, 1.6422, 1.6279, 1.6246, 1.598, 1.588, 1.5875, 1.5868, 1.5674, 1.5591, 1.5588, 1.5438, 1.5275, 1.5224, 1.5218, 1.5218, 1.5217, 1.5194, 1.5167, 1.513, 1.5082, 1.5013, 1.5007, 1.486, 1.4858, 1.4642, 1.4392, 1.4299, 1.4167, 1.4042, 1.3503, 1.1346, 1.3945, 0.9328, 1.1109, 1.1925, 1.0282, 1.3306, 0.9093, 1.0798, 1.0181, 0.0369, 1.0885, 0.7341, 0.2687, 0.3444, 0.6567, 2.0699, 2.0354, 1.91, 1.8871, 1.8796, 1.8748, 1.8637, 1.8517, 1.744, 1.7344, 1.7129, 1.6727, 1.6462, 1.6327, 1.5981, 1.5896, 1.5779, 1.5608, 1.5486, 1.5454, 1.5406, 1.5185, 1.5155, 1.5128, 1.5054, 1.4741, 1.4683, 1.4638, 1.4574, 1.4566, 1.4432, 1.4497, 1.2142, 1.3993, 1.2722, 1.2489, 0.8279, 0.5021, 1.2171, 0.6925, 0.4373, 0.3781, 0.9129, 0.5199, 1.1916, 0.0359, 0.0778, 0.2399, 0.1296, -0.0278, 0.0594, 0.2401, 0.1312, 0.402, 0.108, 0.2545, 1.6027, 1.5812, 1.5725, 1.5689, 1.5511, 1.5382, 1.5356, 1.52, 1.5106, 1.4919, 1.4898, 1.4763, 1.4649, 1.4584, 1.4584, 1.4565, 1.4521, 1.4521, 1.4514, 1.4496, 1.448, 1.4397, 1.4396, 1.4274, 1.4274, 1.4245, 1.4223, 1.421, 1.4198, 1.4194, 1.3936, 1.3077, 1.3291, 1.3666, 1.3254, 0.7246, 0.828, 0.5399, 0.7857, 0.8449, 0.6636, 0.4309, 0.9271, 0.8841, 1.0224, 1.2078, -0.1901, 0.8979, 0.2091, 0.2439, 0.7002, 0.2668, 0.9026, 0.0235, 0.2389, 0.647, -0.0513, 0.253, 0.0437, -0.0213, -0.3196, 0.0143, 0.2604, 0.4599, 0.3394, 0.2512, 0.0473, -0.087, -0.1037, 0.0513, -0.0002, 0.1465, 1.5916, 1.5885, 1.5825, 1.5685, 1.5674, 1.5648, 1.5627, 1.5615, 1.5513, 1.5499, 1.5392, 1.5294, 1.5169, 1.5053, 1.4977, 1.485, 1.4848, 1.481, 1.481, 1.4726, 1.4719, 1.4716, 1.4716, 1.4704, 1.4629, 1.4533, 1.4533, 1.4511, 1.4506, 1.4504, 1.4269, 1.3948, 1.3442, 1.4191, 1.4182, 1.3894, 1.2078, 1.2366, 1.1646, 0.5372, 0.6015, 1.2268, 0.0978, 1.0558, 0.7478, 0.3678, 0.2732, 0.4614, 0.4871, 0.5673, 0.2277, 0.3638, 0.1118, 0.0946, 0.2966, 0.5844, -0.054, 0.5632, 0.7002, 0.1814, -0.0155, -0.3434, 0.1534, 0.1696, 0.0859, 0.3783, -0.309, -0.0824, -0.1608, 0.15, 0.2309, 1.9949, 1.9949, 1.9777, 1.7974, 1.7608, 1.7608, 1.7532, 1.6884, 1.6506, 1.6506, 1.6303, 1.6065, 1.5973, 1.5761, 1.5633, 1.5614, 1.5485, 1.5462, 1.5397, 1.5373, 1.5371, 1.5311, 1.5292, 1.5282, 1.5269, 1.5218, 1.518, 1.5154, 1.5125, 1.5102, 1.4104, 1.4552, 1.2319, 1.3792, 1.384, 1.0566, 1.291, 1.1912, 0.1712, 1.201, 0.909, 0.2505, 1.1309, 0.0573, 0.6611, 0.1947, 0.0679, 0.1798, 0.096, 0.2798, 0.3839, 0.0865, 0.1013, 0.1607, 0.0106, 0.126, -0.0775, -0.0984, -0.1184, 0.5588, 0.1184, -0.1528, 0.4345, 1.9742, 1.9595, 1.7942, 1.7119, 1.6607, 1.6552, 1.6529, 1.6472, 1.6096, 1.6001, 1.5911, 1.5872, 1.5861, 1.5767, 1.576, 1.5632, 1.5344, 1.5344, 1.5159, 1.5119, 1.502, 1.4928, 1.4896, 1.4866, 1.4838, 1.4838, 1.4828, 1.4812, 1.4795, 1.4772, 1.4739, 1.4542, 1.4618, 1.4168, 1.441, 1.2782, 1.4563, 1.3274, 1.3347, 1.1908, 0.5064, 1.0387, 0.7289, 0.3034, 0.7802, 0.0878, 0.1658, 0.2759, 0.5538, 0.5418, -0.0196, -0.1257, 0.1045, 0.8435, 0.1192, -0.6684, 0.2531, 0.175, 0.4566, -0.2268, -0.1573, 0.2427, -0.5562, -0.1305, -0.2381, -0.0068, -0.2766, 1.6708, 1.6524, 1.5849, 1.5729, 1.5702, 1.5673, 1.5663, 1.5531, 1.5357, 1.5331, 1.5327, 1.5248, 1.511, 1.5092, 1.5067, 1.5036, 1.5023, 1.5023, 1.502, 1.4931, 1.4926, 1.491, 1.4875, 1.4868, 1.4854, 1.4844, 1.482, 1.482, 1.4796, 1.4758, 1.4692, 1.4456, 1.4304, 1.4408, 1.0064, 0.823, 1.3378, 1.1165, 0.3254, -0.0021, 0.7598, 0.804, 0.3745, 1.1522, 0.3446, 0.9151, -0.0123, 0.3494, 0.1363, 0.8306, 0.2328, 0.2898, 0.3363, 0.4942, 0.0066, -0.0423, 0.1023, -0.2126, -0.328, 0.5827, -0.053, 0.0419, 0.2088, 0.1827, -0.326, -0.0089, -0.3275, 1.6982, 1.6963, 1.6927, 1.6818, 1.6758, 1.6526, 1.6287, 1.6124, 1.6121, 1.6054, 1.6019, 1.5945, 1.5945, 1.5882, 1.587, 1.585, 1.572, 1.5702, 1.5679, 1.567, 1.5636, 1.5606, 1.5606, 1.5579, 1.5579, 1.5579, 1.5568, 1.5568, 1.5511, 1.5484, 1.5228, 1.4811, 1.3776, 1.2265, 1.3097, 0.4587, 0.6779, 1.1843, -0.1027, 0.6481, 0.6942, 0.1201, 0.6904, 0.6816, 0.5838, 0.6089, 0.9239, 0.0499, 0.0695, 0.0069, 0.2197, -0.1354, -0.2807, -0.1812, 0.1876, -0.1064, 0.2305, -0.0371, 0.0879, 0.0359, -0.2036, -0.0451, -0.2063, -0.0431, 0.1514, -0.0322, 1.6987, 1.6367, 1.6046, 1.6037, 1.5844, 1.581, 1.5792, 1.5775, 1.5766, 1.5754, 1.5647, 1.5636, 1.5618, 1.5565, 1.5468, 1.5468, 1.5464, 1.5447, 1.5393, 1.5368, 1.5368, 1.5346, 1.5345, 1.5326, 1.5306, 1.5286, 1.5273, 1.5249, 1.5233, 1.5225, 1.3974, 1.3439, 1.2576, 1.2496, 1.4332, 1.4258, 0.8566, 0.94, 1.0723, 0.8262, 1.0632, 0.1831, -0.2417, 0.2441, 0.5396, 0.1428, 0.7927, 0.1307, 0.2198, -0.0137, 0.4574, 0.8082, 0.1407, 0.0736, 0.4496, 0.5015, -0.2123, 0.0623, -0.4205, -0.0939, 0.1103, 0.0453, 0.1109, 0.2567, -0.1659, 1.8114, 1.7418, 1.7095, 1.6968, 1.6603, 1.6596, 1.6491, 1.6445, 1.6384, 1.6332, 1.6214, 1.6211, 1.6197, 1.6074, 1.6065, 1.6037, 1.6019, 1.6015, 1.5987, 1.5841, 1.5825, 1.5794, 1.5659, 1.5511, 1.5488, 1.5487, 1.5461, 1.5461, 1.5391, 1.5383, 1.5155, 1.46, 1.4614, 1.2136, 0.9114, 1.2572, 0.7162, 0.7705, 0.3472, 0.3327, -0.2384, 1.3225, 0.1096, 1.2665, 0.4858, 0.0197, 0.138, -0.1047, -0.0913, 0.2305, 0.1083, 0.298, -0.0099, -0.1326, -0.1433, 0.6121, 0.2124, -0.0247, 0.3025, -0.111, -0.1378, -0.0295, -0.3857, -0.1041, -0.2776]}, \"token.table\": {\"Topic\": [1, 2, 1, 1, 2, 1, 2, 1, 1, 2, 2, 2, 1, 1, 1, 1, 2, 5, 2, 1, 1, 1, 1, 4, 1, 1, 1, 1, 1, 1, 2, 5, 1, 1, 1, 1, 1, 1, 1, 2, 3, 4, 5, 7, 8, 9, 10, 1, 2, 1, 1, 1, 4, 1, 2, 1, 2, 3, 2, 2, 7, 1, 2, 1, 1, 3, 1, 1, 1, 1, 1, 2, 3, 1, 1], \"Freq\": [0.3705749416205238, 0.9433086455269931, 0.47274329276969695, 0.39388840643234674, 1.2279861007074788, 0.28234195351723507, 0.28234195351723507, 0.5699563925561412, 0.6028748156550412, 1.2096034911134053, 0.6339496855602548, 1.3614232161883122, 0.7261849145336337, 0.519642789930992, 1.040365525777731, 0.24885465861564726, 0.24885465861564726, 0.24885465861564726, 0.33065893700410437, 0.2800095122067613, 0.6321196722382822, 0.9035207881289552, 0.2811049515172723, 0.2811049515172723, 0.30554314668173416, 0.3648749716790736, 0.7276901318604972, 1.0118857625603004, 0.5118504149569102, 0.40123825869564195, 0.20061912934782097, 0.20061912934782097, 0.5527971304141706, 0.5384692468062825, 0.8567269853195878, 1.0015032393539793, 0.5288560930105961, 0.3164171317076377, 0.12694364632139918, 0.25388729264279836, 0.12694364632139918, 0.12694364632139918, 0.12694364632139918, 0.12694364632139918, 0.12694364632139918, 0.12694364632139918, 0.12694364632139918, 0.6537904494718182, 0.7269326572449092, 0.7476482637804591, 1.0215896728144391, 0.45841087923798074, 0.36438679277815955, 0.31875159503424605, 0.30258940852262084, 1.147982910021133, 0.29750128323806874, 0.29750128323806874, 0.9873489732523152, 1.1058397913086524, 0.2439400671560938, 0.4268517254625024, 0.9143044768515598, 0.9733677087210943, 0.6966917001199647, 0.42272154146122776, 1.0329040870637844, 0.47344961672128616, 0.6070150837440599, 0.9008977669012844, 0.6415563139159266, 0.3112758730431161, 0.3184584102257895, 0.2940677679987729, 0.42173739319824366], \"Term\": [\"\\uac00\\ub2a5\", \"\\uac74\\uc124\\uae30\\uc220\\uc790\", \"\\uacf5\\ubb34\\uc6d0\", \"\\uad00\\ub828\", \"\\uad00\\ub828\\uc885\\ubaa9\\uc758\", \"\\uad00\\ud55c\", \"\\uad00\\ud55c\", \"\\uad50\\uc721\", \"\\uad6c\\ubd84\", \"\\uad6d\\uac00\\uae30\\uc220\\uc790\\uaca9\\ubc95\\uc5d0\", \"\\uae30\\uc220\\ub2a5\\ub825\\uacfc\", \"\\uae30\\uc220\\uc790\\uaca9\\ucde8\\ub4dd\\uc790\", \"\\uae30\\ud0c0\\uc0ac\\ud56d\", \"\\ub0b4\\uc6a9\", \"\\ub18d\\uc5c5\\uae30\\uc220\\uc13c\\ud130\", \"\\ub300\\ud55c\", \"\\ub300\\ud55c\", \"\\ub300\\ud55c\", \"\\ub418\\ub098\\uc694\", \"\\ub530\\ub77c\", \"\\ub9cc\\uc6d0\", \"\\ubaa8\\uc9d1\", \"\\ubb34\\uc5c7\\uc778\\uac00\\uc694\", \"\\ubb34\\uc5c7\\uc778\\uac00\\uc694\", \"\\ubb34\\uc5c7\\uc785\\ub2c8\\uae4c\", \"\\ubb38\\uc758\", \"\\ubc1c\\uae09\", \"\\ubc29\\ubb38\", \"\\uc11c\\uc6b8\", \"\\uc11c\\uc6b8\\uc2dc\", \"\\uc11c\\uc6b8\\uc2dc\", \"\\uc11c\\uc6b8\\uc2dc\", \"\\uc11c\\uc6b8\\ud2b9\\ubcc4\\uc2dc\", \"\\uc2e0\\uccad\", \"\\uc2e0\\uccad\\ubc29\\ubc95\", \"\\uc2e0\\uccad\\uc11c\", \"\\uc548\\ub0b4\", \"\\uc5b4\\ub5a4\", \"\\uc5b4\\ub5bb\\uac8c\", \"\\uc5b4\\ub5bb\\uac8c\", \"\\uc5b4\\ub5bb\\uac8c\", \"\\uc5b4\\ub5bb\\uac8c\", \"\\uc5b4\\ub5bb\\uac8c\", \"\\uc5b4\\ub5bb\\uac8c\", \"\\uc5b4\\ub5bb\\uac8c\", \"\\uc5b4\\ub5bb\\uac8c\", \"\\uc5b4\\ub5bb\\uac8c\", \"\\uc5b4\\ub9b0\\uc774\\uc9d1\", \"\\uc5b5\\uc6d0\", \"\\uc5c5\\ubb34\\uac1c\\uc694\", \"\\uc5c5\\ubb34\\ub0b4\\uc6a9\", \"\\uc6b4\\uc601\", \"\\uc704\\ud558\\uc5ec\", \"\\uc704\\ud55c\", \"\\uc758\\ud55c\", \"\\uc774\\uba54\\uc77c\", \"\\uc774\\uc0c1\", \"\\uc774\\uc0c1\", \"\\uc774\\uc0c1\\uc774\\uace0\", \"\\uc774\\uc0c1\\uc785\\ub2c8\\ub2e4\", \"\\uc788\\ub098\\uc694\", \"\\uc788\\uc74c\", \"\\uc790\\ubcf8\\uae08\\uc740\", \"\\uc7a5\\uc18c\", \"\\uc811\\uc218\", \"\\uc81c\\uc870\", \"\\uc81c\\ucd9c\", \"\\uc9c0\\uc6d0\", \"\\uccad\\uc18c\\ub144\", \"\\ud3c9\\uc77c\", \"\\ud504\\ub85c\\uadf8\\ub7a8\", \"\\ud558\\ub098\\uc694\", \"\\ud558\\ub294\", \"\\ud648\\ud398\\uc774\\uc9c0\", \"\\ud655\\uc778\"]}, \"R\": 30, \"lambda.step\": 0.01, \"plot.opts\": {\"xlab\": \"PC1\", \"ylab\": \"PC2\"}, \"topic.order\": [3, 9, 2, 7, 6, 5, 4, 1, 8, 10]};\n",
       "\n",
       "function LDAvis_load_lib(url, callback){\n",
       "  var s = document.createElement('script');\n",
       "  s.src = url;\n",
       "  s.async = true;\n",
       "  s.onreadystatechange = s.onload = callback;\n",
       "  s.onerror = function(){console.warn(\"failed to load library \" + url);};\n",
       "  document.getElementsByTagName(\"head\")[0].appendChild(s);\n",
       "}\n",
       "\n",
       "if(typeof(LDAvis) !== \"undefined\"){\n",
       "   // already loaded: just create the visualization\n",
       "   !function(LDAvis){\n",
       "       new LDAvis(\"#\" + \"ldavis_el887311402141037296161953164918\", ldavis_el887311402141037296161953164918_data);\n",
       "   }(LDAvis);\n",
       "}else if(typeof define === \"function\" && define.amd){\n",
       "   // require.js is available: use it to load d3/LDAvis\n",
       "   require.config({paths: {d3: \"https://d3js.org/d3.v5\"}});\n",
       "   require([\"d3\"], function(d3){\n",
       "      window.d3 = d3;\n",
       "      LDAvis_load_lib(\"https://cdn.jsdelivr.net/gh/bmabey/pyLDAvis@3.3.1/pyLDAvis/js/ldavis.v3.0.0.js\", function(){\n",
       "        new LDAvis(\"#\" + \"ldavis_el887311402141037296161953164918\", ldavis_el887311402141037296161953164918_data);\n",
       "      });\n",
       "    });\n",
       "}else{\n",
       "    // require.js not available: dynamically load d3 & LDAvis\n",
       "    LDAvis_load_lib(\"https://d3js.org/d3.v5.js\", function(){\n",
       "         LDAvis_load_lib(\"https://cdn.jsdelivr.net/gh/bmabey/pyLDAvis@3.3.1/pyLDAvis/js/ldavis.v3.0.0.js\", function(){\n",
       "                 new LDAvis(\"#\" + \"ldavis_el887311402141037296161953164918\", ldavis_el887311402141037296161953164918_data);\n",
       "            })\n",
       "         });\n",
       "}\n",
       "</script>"
      ],
      "text/plain": [
       "PreparedData(topic_coordinates=               x          y  topics  cluster       Freq\n",
       "topic                                                  \n",
       "2      32.420952   8.115230       1        1  13.379687\n",
       "8       0.648955  71.707100       2        1  11.603278\n",
       "1      71.019684   9.971006       3        1  10.721346\n",
       "6       3.785981  33.185135       4        1  10.146669\n",
       "5     -42.666500  -9.222070       5        1   9.686810\n",
       "4      -3.621689 -43.526516       6        1   9.308106\n",
       "3      -3.632402  -4.171708       7        1   9.278252\n",
       "0     -36.584400  35.804413       8        1   8.740215\n",
       "7      44.391380  50.615383       9        1   8.696668\n",
       "9      40.235809 -31.591665      10        1   8.438969, topic_info=        Term      Freq     Total Category  logprob  loglift\n",
       "39478   자본금은  2.000000  2.000000  Default  30.0000  30.0000\n",
       "8795   기술능력과  1.000000  1.000000  Default  29.0000  29.0000\n",
       "48611    청소년  1.000000  1.000000  Default  28.0000  28.0000\n",
       "2408   건설기술자  1.000000  1.000000  Default  27.0000  27.0000\n",
       "36726   이상이고  1.000000  1.000000  Default  26.0000  26.0000\n",
       "...      ...       ...       ...      ...      ...      ...\n",
       "16380     문의  0.201512  2.740665  Topic10  -8.6826  -0.1378\n",
       "14923   말합니다  0.196629  2.399825  Topic10  -8.7072  -0.0295\n",
       "16122  무엇인가요  0.204140  3.557390  Topic10  -8.6697  -0.3857\n",
       "14075     등의  0.194355  2.555684  Topic10  -8.7188  -0.1041\n",
       "14074     등을  0.191920  3.001739  Topic10  -8.7314  -0.2776\n",
       "\n",
       "[674 rows x 6 columns], token_table=       Topic      Freq   Term\n",
       "term                         \n",
       "304        1  0.370575     가능\n",
       "2408       2  0.943309  건설기술자\n",
       "4859       1  0.472743    공무원\n",
       "5683       1  0.393888     관련\n",
       "5761       2  1.227986  관련종목의\n",
       "...      ...       ...    ...\n",
       "52548      1  0.641556   프로그램\n",
       "52837      2  0.311276    하나요\n",
       "52908      3  0.318458     하는\n",
       "55325      1  0.294068   홈페이지\n",
       "55625      1  0.421737     확인\n",
       "\n",
       "[75 rows x 3 columns], R=30, lambda_step=0.01, plot_opts={'xlab': 'PC1', 'ylab': 'PC2'}, topic_order=[3, 9, 2, 7, 6, 5, 4, 1, 8, 10])"
      ]
     },
     "execution_count": 25,
     "metadata": {},
     "output_type": "execute_result"
    }
   ],
   "source": [
    "# 토픽 모델링에 이용되는 LDA 모델의 학습 결과를 시각화하는 Python 라이브러리인 pyLDAvis를 사용\n",
    "# mds(Multi-Dimensional Scaling)는 데이터 포인트 간의 거리를 보존하면서 차원을 축소하는 기법\n",
    "# t-SNE(t-Stochastic Neighbor Embedding)은 고차원 데이터를 특히 2, 3차원 등으로 줄여 가시화하는데에 유용\n",
    "\n",
    "pyLDAvis.enable_notebook()\n",
    "pyLDAvis.sklearn.prepare(LDA_model, dtm=dtm_tfidf, vectorizer=tfidf, mds='tsne')"
   ]
  },
  {
   "cell_type": "markdown",
   "metadata": {
    "id": "5SfyYdvZo1Y3"
   },
   "source": [
    "## 코사인 유사도\n",
    "* API Document: https://scikit-learn.org/stable/modules/generated/sklearn.metrics.pairwise.cosine_similarity.html"
   ]
  },
  {
   "cell_type": "code",
   "execution_count": 27,
   "metadata": {
    "id": "AC98n4w5o1Y3"
   },
   "outputs": [],
   "source": [
    "from sklearn.metrics.pairwise import cosine_similarity\n",
    "\n",
    "similarity_simple_pair = cosine_similarity(dtm_tfidf[0] , dtm_tfidf)\n",
    "result_list = similarity_simple_pair.tolist()[0]"
   ]
  },
  {
   "cell_type": "code",
   "execution_count": 28,
   "metadata": {
    "id": "FJFB-n4Lo1Y3",
    "outputId": "547510bf-d33e-4577-f146-c9c943bbfbc2"
   },
   "outputs": [
    {
     "data": {
      "text/html": [
       "<div>\n",
       "<style scoped>\n",
       "    .dataframe tbody tr th:only-of-type {\n",
       "        vertical-align: middle;\n",
       "    }\n",
       "\n",
       "    .dataframe tbody tr th {\n",
       "        vertical-align: top;\n",
       "    }\n",
       "\n",
       "    .dataframe thead th {\n",
       "        text-align: right;\n",
       "    }\n",
       "</style>\n",
       "<table border=\"1\" class=\"dataframe\">\n",
       "  <thead>\n",
       "    <tr style=\"text-align: right;\">\n",
       "      <th></th>\n",
       "      <th>분류</th>\n",
       "      <th>제목</th>\n",
       "      <th>유사도</th>\n",
       "    </tr>\n",
       "  </thead>\n",
       "  <tbody>\n",
       "    <tr>\n",
       "      <th>0</th>\n",
       "      <td>복지</td>\n",
       "      <td>아빠 육아휴직 장려금</td>\n",
       "      <td>1.000000</td>\n",
       "    </tr>\n",
       "    <tr>\n",
       "      <th>1772</th>\n",
       "      <td>경제</td>\n",
       "      <td>도시계획시설부지 재결신청 이후 진행단계는 어떤 과정을 거칩니까?</td>\n",
       "      <td>0.057158</td>\n",
       "    </tr>\n",
       "    <tr>\n",
       "      <th>850</th>\n",
       "      <td>경제</td>\n",
       "      <td>주민대표회의 구성원 몇명입니까?</td>\n",
       "      <td>0.056152</td>\n",
       "    </tr>\n",
       "    <tr>\n",
       "      <th>539</th>\n",
       "      <td>행정</td>\n",
       "      <td>행려자도 아니고 시설수용자도 아닌 사람이 살고 있던 비닐하우스에서 화상을 입었습니다...</td>\n",
       "      <td>0.051952</td>\n",
       "    </tr>\n",
       "    <tr>\n",
       "      <th>3</th>\n",
       "      <td>복지</td>\n",
       "      <td>광진맘택시 운영(임산부,영아 양육가정 전용 택시)</td>\n",
       "      <td>0.048404</td>\n",
       "    </tr>\n",
       "    <tr>\n",
       "      <th>155</th>\n",
       "      <td>경제</td>\n",
       "      <td>[농업기술센터] 후계농업경영인 선정 및 청년창업형 후계농업경영인 신청 안내</td>\n",
       "      <td>0.046280</td>\n",
       "    </tr>\n",
       "    <tr>\n",
       "      <th>35</th>\n",
       "      <td>행정</td>\n",
       "      <td>[시ㆍ구정외 타기관 관련 상담] 고용노동부 [일자리 안정자금]</td>\n",
       "      <td>0.046037</td>\n",
       "    </tr>\n",
       "    <tr>\n",
       "      <th>141</th>\n",
       "      <td>경제</td>\n",
       "      <td>[농업기술센터] 도시농업전문가양성교육 신청</td>\n",
       "      <td>0.043873</td>\n",
       "    </tr>\n",
       "    <tr>\n",
       "      <th>174</th>\n",
       "      <td>행정</td>\n",
       "      <td>찾아가는 아버지교실</td>\n",
       "      <td>0.043034</td>\n",
       "    </tr>\n",
       "    <tr>\n",
       "      <th>233</th>\n",
       "      <td>경제</td>\n",
       "      <td>[농업기술센터] 귀농창업 평일반 교육 신청</td>\n",
       "      <td>0.041945</td>\n",
       "    </tr>\n",
       "  </tbody>\n",
       "</table>\n",
       "</div>"
      ],
      "text/plain": [
       "      분류                                                 제목       유사도\n",
       "0     복지                                        아빠 육아휴직 장려금  1.000000\n",
       "1772  경제                도시계획시설부지 재결신청 이후 진행단계는 어떤 과정을 거칩니까?  0.057158\n",
       "850   경제                                  주민대표회의 구성원 몇명입니까?  0.056152\n",
       "539   행정  행려자도 아니고 시설수용자도 아닌 사람이 살고 있던 비닐하우스에서 화상을 입었습니다...  0.051952\n",
       "3     복지                        광진맘택시 운영(임산부,영아 양육가정 전용 택시)  0.048404\n",
       "155   경제          [농업기술센터] 후계농업경영인 선정 및 청년창업형 후계농업경영인 신청 안내  0.046280\n",
       "35    행정                 [시ㆍ구정외 타기관 관련 상담] 고용노동부 [일자리 안정자금]  0.046037\n",
       "141   경제                            [농업기술센터] 도시농업전문가양성교육 신청  0.043873\n",
       "174   행정                                         찾아가는 아버지교실  0.043034\n",
       "233   경제                            [농업기술센터] 귀농창업 평일반 교육 신청  0.041945"
      ]
     },
     "execution_count": 28,
     "metadata": {},
     "output_type": "execute_result"
    }
   ],
   "source": [
    "df[\"유사도\"] = result_list\n",
    "df[[\"분류\", \"제목\", \"유사도\"]].sort_values(by=\"유사도\", ascending=False).head(10)"
   ]
  },
  {
   "cell_type": "code",
   "execution_count": null,
   "metadata": {},
   "outputs": [],
   "source": []
  }
 ],
 "metadata": {
  "kernelspec": {
   "display_name": "Python 3 (ipykernel)",
   "language": "python",
   "name": "python3"
  },
  "language_info": {
   "codemirror_mode": {
    "name": "ipython",
    "version": 3
   },
   "file_extension": ".py",
   "mimetype": "text/x-python",
   "name": "python",
   "nbconvert_exporter": "python",
   "pygments_lexer": "ipython3",
   "version": "3.7.13"
  },
  "toc": {
   "base_numbering": 1,
   "nav_menu": {},
   "number_sections": true,
   "sideBar": true,
   "skip_h1_title": false,
   "title_cell": "Table of Contents",
   "title_sidebar": "Contents",
   "toc_cell": false,
   "toc_position": {
    "height": "calc(100% - 180px)",
    "left": "10px",
    "top": "150px",
    "width": "256px"
   },
   "toc_section_display": true,
   "toc_window_display": false
  },
  "varInspector": {
   "cols": {
    "lenName": 16,
    "lenType": 16,
    "lenVar": 40
   },
   "kernels_config": {
    "python": {
     "delete_cmd_postfix": "",
     "delete_cmd_prefix": "del ",
     "library": "var_list.py",
     "varRefreshCmd": "print(var_dic_list())"
    },
    "r": {
     "delete_cmd_postfix": ") ",
     "delete_cmd_prefix": "rm(",
     "library": "var_list.r",
     "varRefreshCmd": "cat(var_dic_list()) "
    }
   },
   "types_to_exclude": [
    "module",
    "function",
    "builtin_function_or_method",
    "instance",
    "_Feature"
   ],
   "window_display": false
  }
 },
 "nbformat": 4,
 "nbformat_minor": 1
}
