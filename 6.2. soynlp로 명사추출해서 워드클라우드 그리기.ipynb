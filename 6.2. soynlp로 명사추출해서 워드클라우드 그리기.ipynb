{
 "cells": [
  {
   "cell_type": "markdown",
   "metadata": {
    "id": "MEbpMks-Uypv"
   },
   "source": [
    "# 자연어처리 시작하기\n",
    "* soynlp(https://github.com/lovit/soynlp)로 토큰화하고 명사를 추출해 워드클라우드 그려보기"
   ]
  },
  {
   "cell_type": "code",
   "execution_count": 1,
   "metadata": {
    "colab": {
     "base_uri": "https://localhost:8080/",
     "height": 159
    },
    "executionInfo": {
     "elapsed": 7747,
     "status": "ok",
     "timestamp": 1550294602098,
     "user": {
      "displayName": "Joeun Park",
      "photoUrl": "https://lh6.googleusercontent.com/-JYBWhNoobh0/AAAAAAAAAAI/AAAAAAAADIs/8dW1MgKePR0/s64/photo.jpg",
      "userId": "17163383815352082166"
     },
     "user_tz": -540
    },
    "id": "4C8tBwIPUypw",
    "outputId": "0bacfc51-56e6-4fb5-fca7-437f35ca74af"
   },
   "outputs": [],
   "source": [
    "# !pip install soynlp"
   ]
  },
  {
   "cell_type": "code",
   "execution_count": 2,
   "metadata": {
    "colab": {
     "base_uri": "https://localhost:8080/",
     "height": 192
    },
    "executionInfo": {
     "elapsed": 4393,
     "status": "ok",
     "timestamp": 1550294622951,
     "user": {
      "displayName": "Joeun Park",
      "photoUrl": "https://lh6.googleusercontent.com/-JYBWhNoobh0/AAAAAAAAAAI/AAAAAAAADIs/8dW1MgKePR0/s64/photo.jpg",
      "userId": "17163383815352082166"
     },
     "user_tz": -540
    },
    "id": "0YYMGApSUyp0",
    "outputId": "54fa2613-30c6-4aaf-f99a-752997203ba3"
   },
   "outputs": [
    {
     "name": "stdout",
     "output_type": "stream",
     "text": [
      "Name: soynlp\r\n",
      "Version: 0.0.493\r\n",
      "Summary: Unsupervised Korean Natural Language Processing Toolkits\r\n",
      "Home-page: https://github.com/lovit/soynlp\r\n",
      "Author: Lovit\r\n",
      "Author-email: soy.lovit@gmail.com\r\n",
      "License: UNKNOWN\r\n",
      "Location: /Users/corazzon/opt/anaconda3/lib/python3.7/site-packages\r\n",
      "Requires: numpy, psutil, scikit-learn, scipy\r\n",
      "Required-by: \r\n"
     ]
    }
   ],
   "source": [
    "!pip show soynlp"
   ]
  },
  {
   "cell_type": "code",
   "execution_count": 3,
   "metadata": {
    "id": "3cHJQR0YUyp7"
   },
   "outputs": [],
   "source": [
    "import pandas as pd\n",
    "import numpy as np\n",
    "import re"
   ]
  },
  {
   "cell_type": "markdown",
   "metadata": {
    "id": "fYiFziyhgize"
   },
   "source": [
    "# 데이터 로드하기\n",
    "*  데이터 출처 : https://github.com/akngs/petitions"
   ]
  },
  {
   "cell_type": "code",
   "execution_count": 4,
   "metadata": {
    "id": "l0O_KmJeXUCs"
   },
   "outputs": [
    {
     "name": "stdout",
     "output_type": "stream",
     "text": [
      "https://drive.google.com/open?id=1d8VEAj6n83wT1YRlCrhoU_1mMSvYpXc4 에서 다운로드 받아 실습 경로 /Users/corazzon/codes/pytextbook/data에 옮겨주세요.\n"
     ]
    }
   ],
   "source": [
    "import os\n",
    "import platform\n",
    "\n",
    "base_path = \"data\"\n",
    "file_name = \"petition.csv\"\n",
    "url ='https://drive.google.com/open?id=1d8VEAj6n83wT1YRlCrhoU_1mMSvYpXc4'\n",
    "\n",
    "def file_exist_check(base_path, file_name):\n",
    "    if os.path.exists(f\"./{file_name}\"):\n",
    "        print(f\"{os.getcwd()}/{base_path} 경로에 파일이 있음\")\n",
    "        return\n",
    "\n",
    "    if not os.path.exists(base_path):\n",
    "        os.makedirs(base_path)\n",
    "\n",
    "    if platform.system() == \"Linux\":\n",
    "        # 구글 드라이브에서 csv 파일을 읽어오기 위해 gauth 인증하기\n",
    "        !pip install -U -q PyDrive\n",
    "        from pydrive.auth import GoogleAuth\n",
    "        from pydrive.drive import GoogleDrive\n",
    "        from google.colab import auth\n",
    "        from oauth2client.client import GoogleCredentials\n",
    "        \n",
    "        auth.authenticate_user()\n",
    "        gauth = GoogleAuth()\n",
    "        gauth.credentials = GoogleCredentials.get_application_default()\n",
    "        drive = GoogleDrive(gauth)\n",
    "\n",
    "        id = url.split('=')[1]\n",
    "        downloaded = drive.CreateFile({'id':id}) \n",
    "        downloaded.GetContentFile(f'{base_path}/{file_name}')  \n",
    "        print(f\"사용자의 구글 드라이브에 {base_path}/{file_name} 다운로드 완료\")\n",
    "    else:\n",
    "        print(f\"{url} 에서 다운로드 받아 실습 경로 {os.getcwd()}/{base_path}에 옮겨주세요.\"\"\")\n",
    "        return\n",
    "    \n",
    "file_exist_check(base_path, file_name) "
   ]
  },
  {
   "cell_type": "code",
   "execution_count": 5,
   "metadata": {
    "colab": {
     "base_uri": "https://localhost:8080/",
     "height": 34
    },
    "executionInfo": {
     "elapsed": 10089,
     "status": "ok",
     "timestamp": 1550294738725,
     "user": {
      "displayName": "Joeun Park",
      "photoUrl": "https://lh6.googleusercontent.com/-JYBWhNoobh0/AAAAAAAAAAI/AAAAAAAADIs/8dW1MgKePR0/s64/photo.jpg",
      "userId": "17163383815352082166"
     },
     "user_tz": -540
    },
    "id": "Rl1U_CIcUyp9",
    "outputId": "0fb0b87f-c237-4c83-8984-1738218dca01"
   },
   "outputs": [
    {
     "data": {
      "text/plain": [
       "(377756, 7)"
      ]
     },
     "execution_count": 5,
     "metadata": {},
     "output_type": "execute_result"
    }
   ],
   "source": [
    "df = pd.read_csv(f\"{base_path}/petition.csv\", index_col=\"article_id\",\n",
    "                        parse_dates=['start', 'end'])\n",
    "df.shape"
   ]
  },
  {
   "cell_type": "code",
   "execution_count": 6,
   "metadata": {
    "colab": {
     "base_uri": "https://localhost:8080/",
     "height": 34
    },
    "executionInfo": {
     "elapsed": 1004,
     "status": "ok",
     "timestamp": 1550294741128,
     "user": {
      "displayName": "Joeun Park",
      "photoUrl": "https://lh6.googleusercontent.com/-JYBWhNoobh0/AAAAAAAAAAI/AAAAAAAADIs/8dW1MgKePR0/s64/photo.jpg",
      "userId": "17163383815352082166"
     },
     "user_tz": -540
    },
    "id": "Yg0VqKJZj_Pm",
    "outputId": "b821e153-131f-499c-d6fc-39629e53731e"
   },
   "outputs": [
    {
     "data": {
      "text/plain": [
       "(377756, 7)"
      ]
     },
     "execution_count": 6,
     "metadata": {},
     "output_type": "execute_result"
    }
   ],
   "source": [
    "df.shape"
   ]
  },
  {
   "cell_type": "code",
   "execution_count": 7,
   "metadata": {
    "colab": {
     "base_uri": "https://localhost:8080/",
     "height": 405
    },
    "executionInfo": {
     "elapsed": 962,
     "status": "ok",
     "timestamp": 1550294745836,
     "user": {
      "displayName": "Joeun Park",
      "photoUrl": "https://lh6.googleusercontent.com/-JYBWhNoobh0/AAAAAAAAAAI/AAAAAAAADIs/8dW1MgKePR0/s64/photo.jpg",
      "userId": "17163383815352082166"
     },
     "user_tz": -540
    },
    "id": "bYGWDvEbkBvA",
    "outputId": "a849c942-2311-441f-8cbc-e39e5cf6c722"
   },
   "outputs": [
    {
     "data": {
      "text/html": [
       "<div>\n",
       "<style scoped>\n",
       "    .dataframe tbody tr th:only-of-type {\n",
       "        vertical-align: middle;\n",
       "    }\n",
       "\n",
       "    .dataframe tbody tr th {\n",
       "        vertical-align: top;\n",
       "    }\n",
       "\n",
       "    .dataframe thead th {\n",
       "        text-align: right;\n",
       "    }\n",
       "</style>\n",
       "<table border=\"1\" class=\"dataframe\">\n",
       "  <thead>\n",
       "    <tr style=\"text-align: right;\">\n",
       "      <th></th>\n",
       "      <th>start</th>\n",
       "      <th>end</th>\n",
       "      <th>answered</th>\n",
       "      <th>votes</th>\n",
       "      <th>category</th>\n",
       "      <th>title</th>\n",
       "      <th>content</th>\n",
       "    </tr>\n",
       "    <tr>\n",
       "      <th>article_id</th>\n",
       "      <th></th>\n",
       "      <th></th>\n",
       "      <th></th>\n",
       "      <th></th>\n",
       "      <th></th>\n",
       "      <th></th>\n",
       "      <th></th>\n",
       "    </tr>\n",
       "  </thead>\n",
       "  <tbody>\n",
       "    <tr>\n",
       "      <th>492039</th>\n",
       "      <td>2019-01-09</td>\n",
       "      <td>2019-02-08</td>\n",
       "      <td>0</td>\n",
       "      <td>48</td>\n",
       "      <td>인권/성평등</td>\n",
       "      <td>박종철 의원. 폭행구속수사 및 의원직 박탈 청원합니다</td>\n",
       "      <td>나라돈으로 해외연수가서 현지 동반 가이드를 때려 안경 파편이 얼굴이 꽂혔답니다. C...</td>\n",
       "    </tr>\n",
       "    <tr>\n",
       "      <th>492040</th>\n",
       "      <td>2019-01-09</td>\n",
       "      <td>2019-02-08</td>\n",
       "      <td>0</td>\n",
       "      <td>5</td>\n",
       "      <td>정치개혁</td>\n",
       "      <td>각 정상들은 들으시요 국회의원을 학력과 무관한 양심 및  윤리가 있는  서민이 되어...</td>\n",
       "      <td>각 정당은 현재 국회의원 개개인을 심사하면 지탄받은 사람이 국\\n회를 장악하고 있습...</td>\n",
       "    </tr>\n",
       "    <tr>\n",
       "      <th>492041</th>\n",
       "      <td>2019-01-09</td>\n",
       "      <td>2019-02-08</td>\n",
       "      <td>0</td>\n",
       "      <td>1</td>\n",
       "      <td>외교/통일/국방</td>\n",
       "      <td>남한땅에 옥류관을 오픈해주세요</td>\n",
       "      <td>말그대로 옥류관을 여기서 열면 진짜 재미있고 신나는 일이 일어날것 같은 느낌이 듭니...</td>\n",
       "    </tr>\n",
       "    <tr>\n",
       "      <th>492042</th>\n",
       "      <td>2019-01-09</td>\n",
       "      <td>2019-02-08</td>\n",
       "      <td>0</td>\n",
       "      <td>4</td>\n",
       "      <td>정치개혁</td>\n",
       "      <td>임종석실장님 수고많으셨습니다.</td>\n",
       "      <td>범죄정권이후 많은 어려움을 갖고 시작한 국민의정부.\\n저급한 자칭 보수단체와 한국당...</td>\n",
       "    </tr>\n",
       "    <tr>\n",
       "      <th>492043</th>\n",
       "      <td>2019-01-09</td>\n",
       "      <td>2019-02-08</td>\n",
       "      <td>0</td>\n",
       "      <td>1</td>\n",
       "      <td>행정</td>\n",
       "      <td>예천군과 환경부를 규탄합니다. 어불성설인 가축사육 관련 법규를 개정해주세요!</td>\n",
       "      <td>해당 사건이 발생한 곳은 요즘은 매체에서 매일 나오는 곳으로 '군의원의 외유성 해외...</td>\n",
       "    </tr>\n",
       "  </tbody>\n",
       "</table>\n",
       "</div>"
      ],
      "text/plain": [
       "                start        end  answered  votes  category  \\\n",
       "article_id                                                    \n",
       "492039     2019-01-09 2019-02-08         0     48    인권/성평등   \n",
       "492040     2019-01-09 2019-02-08         0      5      정치개혁   \n",
       "492041     2019-01-09 2019-02-08         0      1  외교/통일/국방   \n",
       "492042     2019-01-09 2019-02-08         0      4      정치개혁   \n",
       "492043     2019-01-09 2019-02-08         0      1        행정   \n",
       "\n",
       "                                                        title  \\\n",
       "article_id                                                      \n",
       "492039                          박종철 의원. 폭행구속수사 및 의원직 박탈 청원합니다   \n",
       "492040      각 정상들은 들으시요 국회의원을 학력과 무관한 양심 및  윤리가 있는  서민이 되어...   \n",
       "492041                                       남한땅에 옥류관을 오픈해주세요   \n",
       "492042                                       임종석실장님 수고많으셨습니다.   \n",
       "492043             예천군과 환경부를 규탄합니다. 어불성설인 가축사육 관련 법규를 개정해주세요!   \n",
       "\n",
       "                                                      content  \n",
       "article_id                                                     \n",
       "492039      나라돈으로 해외연수가서 현지 동반 가이드를 때려 안경 파편이 얼굴이 꽂혔답니다. C...  \n",
       "492040      각 정당은 현재 국회의원 개개인을 심사하면 지탄받은 사람이 국\\n회를 장악하고 있습...  \n",
       "492041      말그대로 옥류관을 여기서 열면 진짜 재미있고 신나는 일이 일어날것 같은 느낌이 듭니...  \n",
       "492042      범죄정권이후 많은 어려움을 갖고 시작한 국민의정부.\\n저급한 자칭 보수단체와 한국당...  \n",
       "492043      해당 사건이 발생한 곳은 요즘은 매체에서 매일 나오는 곳으로 '군의원의 외유성 해외...  "
      ]
     },
     "execution_count": 7,
     "metadata": {},
     "output_type": "execute_result"
    }
   ],
   "source": [
    "df.tail()"
   ]
  },
  {
   "cell_type": "markdown",
   "metadata": {
    "id": "iK_karn7Uyp_"
   },
   "source": [
    "## 자신의 관심사에 맞는 단어로 데이터를 가져옵니다."
   ]
  },
  {
   "cell_type": "code",
   "execution_count": 8,
   "metadata": {
    "colab": {
     "base_uri": "https://localhost:8080/",
     "height": 34
    },
    "executionInfo": {
     "elapsed": 7217,
     "status": "ok",
     "timestamp": 1550294785621,
     "user": {
      "displayName": "Joeun Park",
      "photoUrl": "https://lh6.googleusercontent.com/-JYBWhNoobh0/AAAAAAAAAAI/AAAAAAAADIs/8dW1MgKePR0/s64/photo.jpg",
      "userId": "17163383815352082166"
     },
     "user_tz": -540
    },
    "id": "sgzZ8YqXUyqA",
    "outputId": "cc233bef-3200-409b-8606-b015c92129f1"
   },
   "outputs": [
    {
     "data": {
      "text/plain": [
       "(14960, 7)"
      ]
     },
     "execution_count": 8,
     "metadata": {},
     "output_type": "execute_result"
    }
   ],
   "source": [
    "p = r'.*(돌봄|육아|초등|보육).*'\n",
    "care = df[df['title'].str.match(p) |\n",
    "           df['content'].str.match(p, flags=re.MULTILINE)]\n",
    "care.shape"
   ]
  },
  {
   "cell_type": "code",
   "execution_count": 9,
   "metadata": {
    "colab": {
     "base_uri": "https://localhost:8080/",
     "height": 405
    },
    "executionInfo": {
     "elapsed": 907,
     "status": "ok",
     "timestamp": 1550294849164,
     "user": {
      "displayName": "Joeun Park",
      "photoUrl": "https://lh6.googleusercontent.com/-JYBWhNoobh0/AAAAAAAAAAI/AAAAAAAADIs/8dW1MgKePR0/s64/photo.jpg",
      "userId": "17163383815352082166"
     },
     "user_tz": -540
    },
    "id": "-R2fJgIbUyqD",
    "outputId": "b8fcdb36-7735-4e2a-d394-ab9d884b80fc"
   },
   "outputs": [
    {
     "data": {
      "text/html": [
       "<div>\n",
       "<style scoped>\n",
       "    .dataframe tbody tr th:only-of-type {\n",
       "        vertical-align: middle;\n",
       "    }\n",
       "\n",
       "    .dataframe tbody tr th {\n",
       "        vertical-align: top;\n",
       "    }\n",
       "\n",
       "    .dataframe thead th {\n",
       "        text-align: right;\n",
       "    }\n",
       "</style>\n",
       "<table border=\"1\" class=\"dataframe\">\n",
       "  <thead>\n",
       "    <tr style=\"text-align: right;\">\n",
       "      <th></th>\n",
       "      <th>start</th>\n",
       "      <th>end</th>\n",
       "      <th>answered</th>\n",
       "      <th>votes</th>\n",
       "      <th>category</th>\n",
       "      <th>title</th>\n",
       "      <th>content</th>\n",
       "    </tr>\n",
       "    <tr>\n",
       "      <th>article_id</th>\n",
       "      <th></th>\n",
       "      <th></th>\n",
       "      <th></th>\n",
       "      <th></th>\n",
       "      <th></th>\n",
       "      <th></th>\n",
       "      <th></th>\n",
       "    </tr>\n",
       "  </thead>\n",
       "  <tbody>\n",
       "    <tr>\n",
       "      <th>24</th>\n",
       "      <td>2017-08-19</td>\n",
       "      <td>2017-08-26</td>\n",
       "      <td>0</td>\n",
       "      <td>53</td>\n",
       "      <td>일자리</td>\n",
       "      <td>공공기관 무조건적인 정규직전환을 반대합니다.</td>\n",
       "      <td>현정부에서 정규직 일자리를 늘리는 것에 찬성합니다. 그런데 공공기관 비정규직들은 인...</td>\n",
       "    </tr>\n",
       "    <tr>\n",
       "      <th>36</th>\n",
       "      <td>2017-08-19</td>\n",
       "      <td>2017-08-26</td>\n",
       "      <td>0</td>\n",
       "      <td>1</td>\n",
       "      <td>인권/성평등</td>\n",
       "      <td>한국채식인구 100만명. 학교 급식 및 군대에서 현미채식 선택권을 보장해주십시오!</td>\n",
       "      <td>문재인 대통령님과 각 정부 인사분들께 마음속 깊이 존경과 감사를 표합니다. 대한민국...</td>\n",
       "    </tr>\n",
       "    <tr>\n",
       "      <th>45</th>\n",
       "      <td>2017-08-19</td>\n",
       "      <td>2017-11-17</td>\n",
       "      <td>0</td>\n",
       "      <td>0</td>\n",
       "      <td>육아/교육</td>\n",
       "      <td>초등학교 교사 임용 시험 관련 해결방안</td>\n",
       "      <td>초등학교 교사 임용 시험을 수능 시험 처럼 전국 단위로 실시하고난 후에\\n1지망 2...</td>\n",
       "    </tr>\n",
       "    <tr>\n",
       "      <th>49</th>\n",
       "      <td>2017-08-19</td>\n",
       "      <td>2017-11-17</td>\n",
       "      <td>0</td>\n",
       "      <td>27</td>\n",
       "      <td>일자리</td>\n",
       "      <td>공정한사회 절차가 바른사회가 되기를 원합니다.</td>\n",
       "      <td>문재인대통령과 교육부장관님!\\n교사 정규직은 임용고시라는 제도를 통해 정교사가 될 ...</td>\n",
       "    </tr>\n",
       "    <tr>\n",
       "      <th>56</th>\n",
       "      <td>2017-08-19</td>\n",
       "      <td>2017-11-17</td>\n",
       "      <td>0</td>\n",
       "      <td>5</td>\n",
       "      <td>보건복지</td>\n",
       "      <td>장애아의 상태에 따른 장애아돌봄도우미 정책의 한계에 관하여...읽어주셨으면 하고 글...</td>\n",
       "      <td>안녕하세요. 저는 그냥 평범한 대학생이며, 고등학생인 자폐 1급 남동생을 둔 누나입...</td>\n",
       "    </tr>\n",
       "  </tbody>\n",
       "</table>\n",
       "</div>"
      ],
      "text/plain": [
       "                start        end  answered  votes category  \\\n",
       "article_id                                                   \n",
       "24         2017-08-19 2017-08-26         0     53      일자리   \n",
       "36         2017-08-19 2017-08-26         0      1   인권/성평등   \n",
       "45         2017-08-19 2017-11-17         0      0    육아/교육   \n",
       "49         2017-08-19 2017-11-17         0     27      일자리   \n",
       "56         2017-08-19 2017-11-17         0      5     보건복지   \n",
       "\n",
       "                                                        title  \\\n",
       "article_id                                                      \n",
       "24                                   공공기관 무조건적인 정규직전환을 반대합니다.   \n",
       "36              한국채식인구 100만명. 학교 급식 및 군대에서 현미채식 선택권을 보장해주십시오!   \n",
       "45                                      초등학교 교사 임용 시험 관련 해결방안   \n",
       "49                                  공정한사회 절차가 바른사회가 되기를 원합니다.   \n",
       "56          장애아의 상태에 따른 장애아돌봄도우미 정책의 한계에 관하여...읽어주셨으면 하고 글...   \n",
       "\n",
       "                                                      content  \n",
       "article_id                                                     \n",
       "24          현정부에서 정규직 일자리를 늘리는 것에 찬성합니다. 그런데 공공기관 비정규직들은 인...  \n",
       "36          문재인 대통령님과 각 정부 인사분들께 마음속 깊이 존경과 감사를 표합니다. 대한민국...  \n",
       "45          초등학교 교사 임용 시험을 수능 시험 처럼 전국 단위로 실시하고난 후에\\n1지망 2...  \n",
       "49          문재인대통령과 교육부장관님!\\n교사 정규직은 임용고시라는 제도를 통해 정교사가 될 ...  \n",
       "56          안녕하세요. 저는 그냥 평범한 대학생이며, 고등학생인 자폐 1급 남동생을 둔 누나입...  "
      ]
     },
     "execution_count": 9,
     "metadata": {},
     "output_type": "execute_result"
    }
   ],
   "source": [
    "care.head()"
   ]
  },
  {
   "cell_type": "code",
   "execution_count": 10,
   "metadata": {
    "colab": {
     "base_uri": "https://localhost:8080/",
     "height": 275
    },
    "executionInfo": {
     "elapsed": 1089,
     "status": "ok",
     "timestamp": 1550294850330,
     "user": {
      "displayName": "Joeun Park",
      "photoUrl": "https://lh6.googleusercontent.com/-JYBWhNoobh0/AAAAAAAAAAI/AAAAAAAADIs/8dW1MgKePR0/s64/photo.jpg",
      "userId": "17163383815352082166"
     },
     "user_tz": -540
    },
    "id": "gzi9ptNEUyqG",
    "outputId": "db8330a2-9c54-4bbb-d2eb-817d7e879d91"
   },
   "outputs": [
    {
     "data": {
      "text/html": [
       "<div>\n",
       "<style scoped>\n",
       "    .dataframe tbody tr th:only-of-type {\n",
       "        vertical-align: middle;\n",
       "    }\n",
       "\n",
       "    .dataframe tbody tr th {\n",
       "        vertical-align: top;\n",
       "    }\n",
       "\n",
       "    .dataframe thead th {\n",
       "        text-align: right;\n",
       "    }\n",
       "</style>\n",
       "<table border=\"1\" class=\"dataframe\">\n",
       "  <thead>\n",
       "    <tr style=\"text-align: right;\">\n",
       "      <th></th>\n",
       "      <th>start</th>\n",
       "      <th>end</th>\n",
       "      <th>answered</th>\n",
       "      <th>votes</th>\n",
       "      <th>category</th>\n",
       "      <th>title</th>\n",
       "      <th>content</th>\n",
       "    </tr>\n",
       "    <tr>\n",
       "      <th>article_id</th>\n",
       "      <th></th>\n",
       "      <th></th>\n",
       "      <th></th>\n",
       "      <th></th>\n",
       "      <th></th>\n",
       "      <th></th>\n",
       "      <th></th>\n",
       "    </tr>\n",
       "  </thead>\n",
       "  <tbody>\n",
       "    <tr>\n",
       "      <th>491776</th>\n",
       "      <td>2019-01-09</td>\n",
       "      <td>2019-02-08</td>\n",
       "      <td>0</td>\n",
       "      <td>3</td>\n",
       "      <td>일자리</td>\n",
       "      <td>장애인 일자리를 지켜주세요</td>\n",
       "      <td>제주에 사는 김응순입니다. 큰 딸 아이가 지적장애인 2급입니다. 요즘 나라에서 일자...</td>\n",
       "    </tr>\n",
       "    <tr>\n",
       "      <th>491889</th>\n",
       "      <td>2019-01-09</td>\n",
       "      <td>2019-02-08</td>\n",
       "      <td>0</td>\n",
       "      <td>2</td>\n",
       "      <td>기타</td>\n",
       "      <td>회사발령을 반대합니다</td>\n",
       "      <td>8살 남자아이를 키우고있는 엄마입니다\\n몇일전 저희 신랑이 갑자기 부산에서 서울로 ...</td>\n",
       "    </tr>\n",
       "    <tr>\n",
       "      <th>491966</th>\n",
       "      <td>2019-01-09</td>\n",
       "      <td>2019-02-08</td>\n",
       "      <td>0</td>\n",
       "      <td>0</td>\n",
       "      <td>육아/교육</td>\n",
       "      <td>문재인대통령님...고 김영옥 대령 교과서에 실어주세요~</td>\n",
       "      <td>미국전쟁영웅이자 한국에서도 마찬가지로 영웅인분을 교과서에 실어서 기리면 좋겠습니다\\...</td>\n",
       "    </tr>\n",
       "  </tbody>\n",
       "</table>\n",
       "</div>"
      ],
      "text/plain": [
       "                start        end  answered  votes category  \\\n",
       "article_id                                                   \n",
       "491776     2019-01-09 2019-02-08         0      3      일자리   \n",
       "491889     2019-01-09 2019-02-08         0      2       기타   \n",
       "491966     2019-01-09 2019-02-08         0      0    육아/교육   \n",
       "\n",
       "                                     title  \\\n",
       "article_id                                   \n",
       "491776                      장애인 일자리를 지켜주세요   \n",
       "491889                         회사발령을 반대합니다   \n",
       "491966      문재인대통령님...고 김영옥 대령 교과서에 실어주세요~   \n",
       "\n",
       "                                                      content  \n",
       "article_id                                                     \n",
       "491776      제주에 사는 김응순입니다. 큰 딸 아이가 지적장애인 2급입니다. 요즘 나라에서 일자...  \n",
       "491889      8살 남자아이를 키우고있는 엄마입니다\\n몇일전 저희 신랑이 갑자기 부산에서 서울로 ...  \n",
       "491966      미국전쟁영웅이자 한국에서도 마찬가지로 영웅인분을 교과서에 실어서 기리면 좋겠습니다\\...  "
      ]
     },
     "execution_count": 10,
     "metadata": {},
     "output_type": "execute_result"
    }
   ],
   "source": [
    "care.tail(3)"
   ]
  },
  {
   "cell_type": "code",
   "execution_count": 11,
   "metadata": {
    "id": "yNeVWtJ4UyqQ"
   },
   "outputs": [],
   "source": [
    "# 샘플로 보고 싶은 인덱스의 번호를 넣어주세요.\n",
    "sample_index = 24"
   ]
  },
  {
   "cell_type": "code",
   "execution_count": 12,
   "metadata": {
    "colab": {
     "base_uri": "https://localhost:8080/",
     "height": 34
    },
    "executionInfo": {
     "elapsed": 596,
     "status": "ok",
     "timestamp": 1550294886125,
     "user": {
      "displayName": "Joeun Park",
      "photoUrl": "https://lh6.googleusercontent.com/-JYBWhNoobh0/AAAAAAAAAAI/AAAAAAAADIs/8dW1MgKePR0/s64/photo.jpg",
      "userId": "17163383815352082166"
     },
     "user_tz": -540
    },
    "id": "3D2xrToYUyqY",
    "outputId": "1cd7209e-055a-4a1b-c2a5-74cfb52e0b4d"
   },
   "outputs": [
    {
     "data": {
      "text/plain": [
       "'공공기관 무조건적인 정규직전환을 반대합니다.'"
      ]
     },
     "execution_count": 12,
     "metadata": {},
     "output_type": "execute_result"
    }
   ],
   "source": [
    "sample_title = care.loc[sample_index, 'title']\n",
    "sample_title"
   ]
  },
  {
   "cell_type": "code",
   "execution_count": 13,
   "metadata": {
    "colab": {
     "base_uri": "https://localhost:8080/",
     "height": 54
    },
    "executionInfo": {
     "elapsed": 603,
     "status": "ok",
     "timestamp": 1550294887632,
     "user": {
      "displayName": "Joeun Park",
      "photoUrl": "https://lh6.googleusercontent.com/-JYBWhNoobh0/AAAAAAAAAAI/AAAAAAAADIs/8dW1MgKePR0/s64/photo.jpg",
      "userId": "17163383815352082166"
     },
     "user_tz": -540
    },
    "id": "YzihuRRWUyqc",
    "outputId": "97ebc1eb-b732-4138-b1a1-d42d9d418e34",
    "scrolled": true
   },
   "outputs": [
    {
     "data": {
      "text/plain": [
       "'현정부에서 정규직 일자리를 늘리는 것에 찬성합니다. 그런데 공공기관 비정규직들은 인맥으로 들어온 경우가 많습니다. 자질이 안되는데도 정규직이 된다면 그 피해는 국민들에게 돌아갈것입니다. 현재 공공기관 정규직들은 100대1의 경쟁률을 뚫고 들어온 경우도 있습니다. 지금도 노량진에서 수많은 청춘들이 공부를 하고 있죠. 기존 비정규직들을 무조건적으로 무기직 전환한다면 또 다른 정유라 탄생이고 역차별입니다. 새로 필요로 하는 신규채용부터 공채절차를 거쳐 무기직 전환해야합니다. 예전에 공무원 기능직의 일반직 전환, 초등학교에 중초교사 임용 등이 그 예죠. 실제 일하는 곳에서는 그분들로 인한 업무처리 미흡으로 문제가 되고 있습니다. 사립학교는 인건비를 국가에서 주니 사립학교도 국가에서 공채해야 합니다. 부디 사례 하나하나를 보아가며 처리해주시고 전체 정규직 숫자 전환만 보며 공약실천을 무리하게 하지 말아주세요.  국민들은 정의로운 나라를 원합니다. 역차별이 아닌 공정한 채용이 되게 해주세요.'"
      ]
     },
     "execution_count": 13,
     "metadata": {},
     "output_type": "execute_result"
    }
   ],
   "source": [
    "sample_content = care['content'][sample_index]\n",
    "sample_content"
   ]
  },
  {
   "cell_type": "code",
   "execution_count": 14,
   "metadata": {},
   "outputs": [],
   "source": [
    "content_text = care['content'].str.replace(\"\\\\\\\\n\", \" \", regex=True)\n",
    "content_text = content_text.str.replace(\"[^ㄱ-ㅎㅏ-ㅣ가-힣 a-zA-Z]\", \" \", regex=True)"
   ]
  },
  {
   "cell_type": "code",
   "execution_count": 15,
   "metadata": {},
   "outputs": [
    {
     "data": {
      "text/plain": [
       "article_id\n",
       "24    현정부에서 정규직 일자리를 늘리는 것에 찬성합니다  그런데 공공기관 비정규직들은 인...\n",
       "36    문재인 대통령님과 각 정부 인사분들께 마음속 깊이 존경과 감사를 표합니다  대한민국...\n",
       "Name: content, dtype: object"
      ]
     },
     "execution_count": 15,
     "metadata": {},
     "output_type": "execute_result"
    }
   ],
   "source": [
    "content_text.head(2)"
   ]
  },
  {
   "cell_type": "markdown",
   "metadata": {
    "id": "_iOLPdxVUyqf"
   },
   "source": [
    "# 토큰화"
   ]
  },
  {
   "cell_type": "code",
   "execution_count": 16,
   "metadata": {
    "colab": {
     "base_uri": "https://localhost:8080/",
     "height": 34
    },
    "executionInfo": {
     "elapsed": 970,
     "status": "ok",
     "timestamp": 1550294891752,
     "user": {
      "displayName": "Joeun Park",
      "photoUrl": "https://lh6.googleusercontent.com/-JYBWhNoobh0/AAAAAAAAAAI/AAAAAAAADIs/8dW1MgKePR0/s64/photo.jpg",
      "userId": "17163383815352082166"
     },
     "user_tz": -540
    },
    "id": "TzXp-OFgc4zN",
    "outputId": "36bbb6e7-317a-4737-f740-fbfaee22e09f"
   },
   "outputs": [
    {
     "name": "stderr",
     "output_type": "stream",
     "text": [
      "/Users/corazzon/opt/anaconda3/lib/python3.7/site-packages/soynlp/tokenizer/_tokenizer.py:19: FutureWarning: Possible nested set at position 13\n",
      "  ('english & latin', re.compile(u\"[a-zA-ZÀ-ÿ]+[[`']?s]*|[a-zA-ZÀ-ÿ]+\", re.UNICODE))\n"
     ]
    },
    {
     "data": {
      "text/plain": [
       "<soynlp.tokenizer._tokenizer.RegexTokenizer at 0x7fad414af890>"
      ]
     },
     "execution_count": 16,
     "metadata": {},
     "output_type": "execute_result"
    }
   ],
   "source": [
    "from soynlp.tokenizer import RegexTokenizer\n",
    "\n",
    "tokenizer = RegexTokenizer()\n",
    "tokenizer"
   ]
  },
  {
   "cell_type": "code",
   "execution_count": 17,
   "metadata": {
    "colab": {
     "base_uri": "https://localhost:8080/",
     "height": 34
    },
    "executionInfo": {
     "elapsed": 1053,
     "status": "ok",
     "timestamp": 1550294911795,
     "user": {
      "displayName": "Joeun Park",
      "photoUrl": "https://lh6.googleusercontent.com/-JYBWhNoobh0/AAAAAAAAAAI/AAAAAAAADIs/8dW1MgKePR0/s64/photo.jpg",
      "userId": "17163383815352082166"
     },
     "user_tz": -540
    },
    "id": "tAeDHLGKUyqf",
    "outputId": "24a4cd40-9046-4719-e13e-2872e7b0b8b7"
   },
   "outputs": [
    {
     "data": {
      "text/plain": [
       "['공공기관', '무조건적인', '정규직전환을', '반대합니다', '.']"
      ]
     },
     "execution_count": 17,
     "metadata": {},
     "output_type": "execute_result"
    }
   ],
   "source": [
    "tokened_title = tokenizer.tokenize(sample_title)\n",
    "tokened_title"
   ]
  },
  {
   "cell_type": "code",
   "execution_count": 18,
   "metadata": {
    "colab": {
     "base_uri": "https://localhost:8080/",
     "height": 367
    },
    "executionInfo": {
     "elapsed": 1163,
     "status": "ok",
     "timestamp": 1550294958712,
     "user": {
      "displayName": "Joeun Park",
      "photoUrl": "https://lh6.googleusercontent.com/-JYBWhNoobh0/AAAAAAAAAAI/AAAAAAAADIs/8dW1MgKePR0/s64/photo.jpg",
      "userId": "17163383815352082166"
     },
     "user_tz": -540
    },
    "id": "8fhY7dEDUyqi",
    "outputId": "d0c9346a-0751-498d-ef74-281a6c8df72e"
   },
   "outputs": [
    {
     "data": {
      "text/plain": [
       "['현정부에서',\n",
       " '정규직',\n",
       " '일자리를',\n",
       " '늘리는',\n",
       " '것에',\n",
       " '찬성합니다',\n",
       " '.',\n",
       " '그런데',\n",
       " '공공기관',\n",
       " '비정규직들은',\n",
       " '인맥으로',\n",
       " '들어온',\n",
       " '경우가',\n",
       " '많습니다',\n",
       " '.',\n",
       " '자질이',\n",
       " '안되는데도',\n",
       " '정규직이',\n",
       " '된다면',\n",
       " '그']"
      ]
     },
     "execution_count": 18,
     "metadata": {},
     "output_type": "execute_result"
    }
   ],
   "source": [
    "tokened_content = tokenizer.tokenize(sample_content)\n",
    "tokened_content[:20]"
   ]
  },
  {
   "cell_type": "code",
   "execution_count": 19,
   "metadata": {
    "colab": {
     "base_uri": "https://localhost:8080/",
     "height": 52
    },
    "executionInfo": {
     "elapsed": 662,
     "status": "ok",
     "timestamp": 1550294960066,
     "user": {
      "displayName": "Joeun Park",
      "photoUrl": "https://lh6.googleusercontent.com/-JYBWhNoobh0/AAAAAAAAAAI/AAAAAAAADIs/8dW1MgKePR0/s64/photo.jpg",
      "userId": "17163383815352082166"
     },
     "user_tz": -540
    },
    "id": "eHw05AF0Uyqn",
    "outputId": "967a8521-d1b8-4995-ed11-75a07fab2cfe"
   },
   "outputs": [
    {
     "name": "stdout",
     "output_type": "stream",
     "text": [
      "5\n",
      "125\n"
     ]
    }
   ],
   "source": [
    "print(len(tokened_title))\n",
    "print(len(tokened_content))"
   ]
  },
  {
   "cell_type": "markdown",
   "metadata": {
    "id": "-xal6i47Uyqq"
   },
   "source": [
    "# 텍스트 데이터 전처리 \n",
    "* 개행문자 제거"
   ]
  },
  {
   "cell_type": "code",
   "execution_count": 20,
   "metadata": {},
   "outputs": [
    {
     "data": {
      "text/plain": [
       "article_id\n",
       "24        현정부에서 정규직 일자리를 늘리는 것에 찬성합니다  그런데 공공기관 비정규직들은 인...\n",
       "36        문재인 대통령님과 각 정부 인사분들께 마음속 깊이 존경과 감사를 표합니다  대한민국...\n",
       "45        초등학교 교사 임용 시험을 수능 시험 처럼 전국 단위로 실시하고난 후에  지망  지...\n",
       "49        문재인대통령과 교육부장관님  교사 정규직은 임용고시라는 제도를 통해 정교사가 될 수...\n",
       "56        안녕하세요  저는 그냥 평범한 대학생이며  고등학생인 자폐  급 남동생을 둔 누나입...\n",
       "                                ...                        \n",
       "491634    요즘 문재인 정권 하는 수준보면 진짜 역겹네요   대처럼 진보적인 나이대에서 지지율...\n",
       "491698    빙상연맹을 다시금 태어나게 하기 위해 해체를 건의합니다  미국 체조협회는 코치의 짐...\n",
       "491776    제주에 사는 김응순입니다  큰 딸 아이가 지적장애인  급입니다  요즘 나라에서 일자...\n",
       "491889     살 남자아이를 키우고있는 엄마입니다 몇일전 저희 신랑이 갑자기 부산에서 서울로 발...\n",
       "491966    미국전쟁영웅이자 한국에서도 마찬가지로 영웅인분을 교과서에 실어서 기리면 좋겠습니다 ...\n",
       "Name: content, Length: 14960, dtype: object"
      ]
     },
     "execution_count": 20,
     "metadata": {},
     "output_type": "execute_result"
    }
   ],
   "source": [
    "content_text"
   ]
  },
  {
   "cell_type": "code",
   "execution_count": 21,
   "metadata": {
    "colab": {
     "base_uri": "https://localhost:8080/",
     "height": 139
    },
    "executionInfo": {
     "elapsed": 28350,
     "status": "ok",
     "timestamp": 1550295049468,
     "user": {
      "displayName": "Joeun Park",
      "photoUrl": "https://lh6.googleusercontent.com/-JYBWhNoobh0/AAAAAAAAAAI/AAAAAAAADIs/8dW1MgKePR0/s64/photo.jpg",
      "userId": "17163383815352082166"
     },
     "user_tz": -540
    },
    "id": "EJ-K9DleUyq0",
    "outputId": "846b1418-8199-41ba-e389-3de30163c547"
   },
   "outputs": [
    {
     "ename": "NameError",
     "evalue": "name 'sentences' is not defined",
     "output_type": "error",
     "traceback": [
      "\u001b[0;31m---------------------------------------------------------------------------\u001b[0m",
      "\u001b[0;31mNameError\u001b[0m                                 Traceback (most recent call last)",
      "\u001b[0;32m<timed exec>\u001b[0m in \u001b[0;36m<module>\u001b[0;34m\u001b[0m\n",
      "\u001b[0;31mNameError\u001b[0m: name 'sentences' is not defined"
     ]
    },
    {
     "ename": "NameError",
     "evalue": "name 'tokens' is not defined",
     "output_type": "error",
     "traceback": [
      "\u001b[0;31m---------------------------------------------------------------------------\u001b[0m",
      "\u001b[0;31mNameError\u001b[0m                                 Traceback (most recent call last)",
      "\u001b[0;32m/var/folders/nt/890yxml924n92lgx71fwg56w0000gn/T/ipykernel_78646/3124075001.py\u001b[0m in \u001b[0;36m<module>\u001b[0;34m\u001b[0m\n\u001b[1;32m      1\u001b[0m \u001b[0mget_ipython\u001b[0m\u001b[0;34m(\u001b[0m\u001b[0;34m)\u001b[0m\u001b[0;34m.\u001b[0m\u001b[0mrun_line_magic\u001b[0m\u001b[0;34m(\u001b[0m\u001b[0;34m'time'\u001b[0m\u001b[0;34m,\u001b[0m \u001b[0;34m'tokens = sentences.apply(tokenizer.tokenize)'\u001b[0m\u001b[0;34m)\u001b[0m\u001b[0;34m\u001b[0m\u001b[0;34m\u001b[0m\u001b[0m\n\u001b[0;32m----> 2\u001b[0;31m \u001b[0mtokens\u001b[0m\u001b[0;34m[\u001b[0m\u001b[0;34m:\u001b[0m\u001b[0;36m3\u001b[0m\u001b[0;34m]\u001b[0m\u001b[0;34m\u001b[0m\u001b[0;34m\u001b[0m\u001b[0m\n\u001b[0m",
      "\u001b[0;31mNameError\u001b[0m: name 'tokens' is not defined"
     ]
    }
   ],
   "source": [
    "%time tokens = sentences.apply(tokenizer.tokenize)\n",
    "tokens[:3]"
   ]
  },
  {
   "cell_type": "code",
   "execution_count": null,
   "metadata": {
    "colab": {
     "base_uri": "https://localhost:8080/",
     "height": 34
    },
    "executionInfo": {
     "elapsed": 18180,
     "status": "ok",
     "timestamp": 1550295049470,
     "user": {
      "displayName": "Joeun Park",
      "photoUrl": "https://lh6.googleusercontent.com/-JYBWhNoobh0/AAAAAAAAAAI/AAAAAAAADIs/8dW1MgKePR0/s64/photo.jpg",
      "userId": "17163383815352082166"
     },
     "user_tz": -540
    },
    "id": "c0Kob4-7Uyq2",
    "outputId": "7d4b8034-73e5-4255-82c6-94307b07e9de"
   },
   "outputs": [],
   "source": [
    "tokens[sample_index][:10]"
   ]
  },
  {
   "cell_type": "code",
   "execution_count": null,
   "metadata": {
    "colab": {
     "base_uri": "https://localhost:8080/",
     "height": 107
    },
    "executionInfo": {
     "elapsed": 4468,
     "status": "ok",
     "timestamp": 1550295105361,
     "user": {
      "displayName": "Joeun Park",
      "photoUrl": "https://lh6.googleusercontent.com/-JYBWhNoobh0/AAAAAAAAAAI/AAAAAAAADIs/8dW1MgKePR0/s64/photo.jpg",
      "userId": "17163383815352082166"
     },
     "user_tz": -540
    },
    "id": "_LzvKMQ_mTOG",
    "outputId": "a59f2b04-0ea5-40e4-d147-33f0d0ad0bd1"
   },
   "outputs": [],
   "source": [
    "# !pip install wordcloud"
   ]
  },
  {
   "cell_type": "code",
   "execution_count": null,
   "metadata": {
    "colab": {
     "base_uri": "https://localhost:8080/",
     "height": 69
    },
    "executionInfo": {
     "elapsed": 3659,
     "status": "ok",
     "timestamp": 1550295093883,
     "user": {
      "displayName": "Joeun Park",
      "photoUrl": "https://lh6.googleusercontent.com/-JYBWhNoobh0/AAAAAAAAAAI/AAAAAAAADIs/8dW1MgKePR0/s64/photo.jpg",
      "userId": "17163383815352082166"
     },
     "user_tz": -540
    },
    "id": "E5-fZ_a5anyG",
    "outputId": "671f3c77-5675-410f-8cb8-1bf6e94b8759"
   },
   "outputs": [],
   "source": [
    "# 그래프에 retina display 적용\n",
    "%config InlineBackend.figure_format = 'retina'"
   ]
  },
  {
   "cell_type": "code",
   "execution_count": null,
   "metadata": {
    "id": "ja1NkAPdUyq5"
   },
   "outputs": [],
   "source": [
    "# 폰트 설정시 폰트명이 아닌 폰트의 설치 경로를 입력해 주셔야 합니다.\n",
    "# 윈도우 : r\"C:\\Windows\\Fonts\\malgun.ttf\" 해당 경로에 폰트가 있는지 확인한다.\n",
    "# 맥 : r\"/Library/Fonts/AppleGothic.ttf\"\n",
    "# colab에서 나눔고딕 등의 폰트를 설치했다면 : '/Library/Fonts/NanumBarunGothic.ttf'\n",
    "# fontpath=r\"/Library/Fonts/NanumBarunGothic.ttf\",\n",
    "\n",
    "from wordcloud import WordCloud\n",
    "import matplotlib.pyplot as plt\n",
    "\n",
    "\n",
    "def display_word_cloud(data, width=1200, height=500):\n",
    "    \n",
    "    stopwords = ['하지만', '그리고', '그런데', '저는','제가',\n",
    "                '그럼', '이런', '저런', '합니다',\n",
    "                '많은', '많이', '정말', '너무'] \n",
    "    \n",
    "    word_draw = WordCloud(\n",
    "        font_path=r\"/Library/Fonts/NanumBarunGothic.ttf\",\n",
    "        width=width, height=height,\n",
    "        stopwords=stopwords, \n",
    "        background_color=\"white\",\n",
    "        random_state=42\n",
    "    )\n",
    "    word_draw.generate(data)\n",
    "\n",
    "    plt.figure(figsize=(15, 7))\n",
    "    plt.imshow(word_draw)\n",
    "    plt.axis(\"off\")\n",
    "    plt.show()"
   ]
  },
  {
   "cell_type": "code",
   "execution_count": null,
   "metadata": {
    "colab": {
     "base_uri": "https://localhost:8080/",
     "height": 629
    },
    "executionInfo": {
     "elapsed": 40048,
     "status": "ok",
     "timestamp": 1550295245076,
     "user": {
      "displayName": "Joeun Park",
      "photoUrl": "https://lh6.googleusercontent.com/-JYBWhNoobh0/AAAAAAAAAAI/AAAAAAAADIs/8dW1MgKePR0/s64/photo.jpg",
      "userId": "17163383815352082166"
     },
     "user_tz": -540
    },
    "id": "0FjCcDHcUyq8",
    "outputId": "837183f3-e522-4971-b14b-a28ad3208982"
   },
   "outputs": [],
   "source": [
    "# 결과를 출력해 보면 불용어(STOPWORD)가 너무 많습니다.\n",
    "%time display_word_cloud(' '.join(sentences))"
   ]
  },
  {
   "cell_type": "code",
   "execution_count": null,
   "metadata": {
    "id": "qv6tTdo9UyrA"
   },
   "outputs": [],
   "source": [
    "from soynlp.noun import LRNounExtractor"
   ]
  },
  {
   "cell_type": "code",
   "execution_count": null,
   "metadata": {
    "colab": {
     "base_uri": "https://localhost:8080/",
     "height": 139
    },
    "executionInfo": {
     "elapsed": 74551,
     "status": "ok",
     "timestamp": 1550295295124,
     "user": {
      "displayName": "Joeun Park",
      "photoUrl": "https://lh6.googleusercontent.com/-JYBWhNoobh0/AAAAAAAAAAI/AAAAAAAADIs/8dW1MgKePR0/s64/photo.jpg",
      "userId": "17163383815352082166"
     },
     "user_tz": -540
    },
    "id": "9RzqhvQAUyrB",
    "outputId": "9127087c-c9f3-4505-a5bd-27dd4ec8ce54"
   },
   "outputs": [],
   "source": [
    "%%time\n",
    "noun_extractor = LRNounExtractor(verbose=True)\n",
    "noun_extractor.train(sentences)\n",
    "nouns = noun_extractor.extract()"
   ]
  },
  {
   "cell_type": "code",
   "execution_count": null,
   "metadata": {},
   "outputs": [],
   "source": [
    "nouns_text = \" \".join(list(nouns.keys()))\n",
    "nouns_text[:100]"
   ]
  },
  {
   "cell_type": "code",
   "execution_count": null,
   "metadata": {},
   "outputs": [],
   "source": [
    "type(nouns_text)"
   ]
  },
  {
   "cell_type": "code",
   "execution_count": null,
   "metadata": {
    "colab": {
     "base_uri": "https://localhost:8080/",
     "height": 629
    },
    "executionInfo": {
     "elapsed": 77211,
     "status": "ok",
     "timestamp": 1550295298357,
     "user": {
      "displayName": "Joeun Park",
      "photoUrl": "https://lh6.googleusercontent.com/-JYBWhNoobh0/AAAAAAAAAAI/AAAAAAAADIs/8dW1MgKePR0/s64/photo.jpg",
      "userId": "17163383815352082166"
     },
     "user_tz": -540
    },
    "id": "m_wcP5H8UyrE",
    "outputId": "fbf37f99-6e62-4c0a-9679-a9fddc753986"
   },
   "outputs": [],
   "source": [
    "# 추출된 명사를 찍어봅니다.\n",
    "%time display_word_cloud(nouns_text)"
   ]
  },
  {
   "cell_type": "code",
   "execution_count": null,
   "metadata": {},
   "outputs": [],
   "source": []
  }
 ],
 "metadata": {
  "colab": {
   "collapsed_sections": [],
   "name": "02 soynlp로 명사추출해서 워드클라우드 그리기",
   "provenance": [
    {
     "file_id": "1QYEN5O3K8QGQMMsaRqbTzGhlkm-swFIC",
     "timestamp": 1534231573155
    }
   ]
  },
  "kernelspec": {
   "display_name": "Python 3 (ipykernel)",
   "language": "python",
   "name": "python3"
  },
  "language_info": {
   "codemirror_mode": {
    "name": "ipython",
    "version": 3
   },
   "file_extension": ".py",
   "mimetype": "text/x-python",
   "name": "python",
   "nbconvert_exporter": "python",
   "pygments_lexer": "ipython3",
   "version": "3.7.13"
  },
  "varInspector": {
   "cols": {
    "lenName": 16,
    "lenType": 16,
    "lenVar": 40
   },
   "kernels_config": {
    "python": {
     "delete_cmd_postfix": "",
     "delete_cmd_prefix": "del ",
     "library": "var_list.py",
     "varRefreshCmd": "print(var_dic_list())"
    },
    "r": {
     "delete_cmd_postfix": ") ",
     "delete_cmd_prefix": "rm(",
     "library": "var_list.r",
     "varRefreshCmd": "cat(var_dic_list()) "
    }
   },
   "types_to_exclude": [
    "module",
    "function",
    "builtin_function_or_method",
    "instance",
    "_Feature"
   ],
   "window_display": false
  }
 },
 "nbformat": 4,
 "nbformat_minor": 1
}
