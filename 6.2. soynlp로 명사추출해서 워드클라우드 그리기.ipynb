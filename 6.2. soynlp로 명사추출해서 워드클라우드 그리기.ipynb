{
 "cells": [
  {
   "cell_type": "markdown",
   "metadata": {
    "id": "MEbpMks-Uypv"
   },
   "source": [
    "# 자연어처리 시작하기\n",
    "* soynlp(https://github.com/lovit/soynlp)로 토큰화하고 명사를 추출해 워드클라우드 그려보기"
   ]
  },
  {
   "cell_type": "code",
   "execution_count": null,
   "metadata": {
    "colab": {
     "base_uri": "https://localhost:8080/",
     "height": 159
    },
    "executionInfo": {
     "elapsed": 7747,
     "status": "ok",
     "timestamp": 1550294602098,
     "user": {
      "displayName": "Joeun Park",
      "photoUrl": "https://lh6.googleusercontent.com/-JYBWhNoobh0/AAAAAAAAAAI/AAAAAAAADIs/8dW1MgKePR0/s64/photo.jpg",
      "userId": "17163383815352082166"
     },
     "user_tz": -540
    },
    "id": "4C8tBwIPUypw",
    "outputId": "0bacfc51-56e6-4fb5-fca7-437f35ca74af"
   },
   "outputs": [],
   "source": [
    "# !pip install soynlp"
   ]
  },
  {
   "cell_type": "code",
   "execution_count": null,
   "metadata": {
    "colab": {
     "base_uri": "https://localhost:8080/",
     "height": 192
    },
    "executionInfo": {
     "elapsed": 4393,
     "status": "ok",
     "timestamp": 1550294622951,
     "user": {
      "displayName": "Joeun Park",
      "photoUrl": "https://lh6.googleusercontent.com/-JYBWhNoobh0/AAAAAAAAAAI/AAAAAAAADIs/8dW1MgKePR0/s64/photo.jpg",
      "userId": "17163383815352082166"
     },
     "user_tz": -540
    },
    "id": "0YYMGApSUyp0",
    "outputId": "54fa2613-30c6-4aaf-f99a-752997203ba3"
   },
   "outputs": [],
   "source": [
    "!pip show soynlp"
   ]
  },
  {
   "cell_type": "code",
   "execution_count": null,
   "metadata": {
    "id": "3cHJQR0YUyp7"
   },
   "outputs": [],
   "source": [
    "import pandas as pd\n",
    "import numpy as np\n",
    "import re"
   ]
  },
  {
   "cell_type": "markdown",
   "metadata": {
    "id": "fYiFziyhgize"
   },
   "source": [
    "# 데이터 로드하기\n",
    "*  데이터 출처 : https://github.com/akngs/petitions"
   ]
  },
  {
   "cell_type": "code",
   "execution_count": null,
   "metadata": {
    "id": "l0O_KmJeXUCs"
   },
   "outputs": [],
   "source": [
    "import os\n",
    "import platform\n",
    "\n",
    "base_path = \"data\"\n",
    "file_name = \"petition.csv\"\n",
    "url ='https://drive.google.com/open?id=1d8VEAj6n83wT1YRlCrhoU_1mMSvYpXc4'\n",
    "\n",
    "def file_exist_check(base_path, file_name):\n",
    "    if os.path.exists(f\"./{file_name}\"):\n",
    "        print(f\"{os.getcwd()}/{base_path} 경로에 파일이 있음\")\n",
    "        return\n",
    "\n",
    "    if not os.path.exists(base_path):\n",
    "        os.makedirs(base_path)\n",
    "\n",
    "    if platform.system() == \"Linux\":\n",
    "        # 구글 드라이브에서 csv 파일을 읽어오기 위해 gauth 인증하기\n",
    "        !pip install -U -q PyDrive\n",
    "        from pydrive.auth import GoogleAuth\n",
    "        from pydrive.drive import GoogleDrive\n",
    "        from google.colab import auth\n",
    "        from oauth2client.client import GoogleCredentials\n",
    "        \n",
    "        auth.authenticate_user()\n",
    "        gauth = GoogleAuth()\n",
    "        gauth.credentials = GoogleCredentials.get_application_default()\n",
    "        drive = GoogleDrive(gauth)\n",
    "\n",
    "        id = url.split('=')[1]\n",
    "        downloaded = drive.CreateFile({'id':id}) \n",
    "        downloaded.GetContentFile(f'{base_path}/{file_name}')  \n",
    "        print(f\"사용자의 구글 드라이브에 {base_path}/{file_name} 다운로드 완료\")\n",
    "    else:\n",
    "        print(f\"{url} 에서 다운로드 받아 실습 경로 {os.getcwd()}/{base_path}에 옮겨주세요.\"\"\")\n",
    "        return\n",
    "    \n",
    "file_exist_check(base_path, file_name) "
   ]
  },
  {
   "cell_type": "code",
   "execution_count": null,
   "metadata": {
    "colab": {
     "base_uri": "https://localhost:8080/",
     "height": 34
    },
    "executionInfo": {
     "elapsed": 10089,
     "status": "ok",
     "timestamp": 1550294738725,
     "user": {
      "displayName": "Joeun Park",
      "photoUrl": "https://lh6.googleusercontent.com/-JYBWhNoobh0/AAAAAAAAAAI/AAAAAAAADIs/8dW1MgKePR0/s64/photo.jpg",
      "userId": "17163383815352082166"
     },
     "user_tz": -540
    },
    "id": "Rl1U_CIcUyp9",
    "outputId": "0fb0b87f-c237-4c83-8984-1738218dca01"
   },
   "outputs": [],
   "source": [
    "df = pd.read_csv(f\"{base_path}/petition.csv\", index_col=\"article_id\",\n",
    "                        parse_dates=['start', 'end'])\n",
    "df.shape"
   ]
  },
  {
   "cell_type": "code",
   "execution_count": null,
   "metadata": {
    "colab": {
     "base_uri": "https://localhost:8080/",
     "height": 34
    },
    "executionInfo": {
     "elapsed": 1004,
     "status": "ok",
     "timestamp": 1550294741128,
     "user": {
      "displayName": "Joeun Park",
      "photoUrl": "https://lh6.googleusercontent.com/-JYBWhNoobh0/AAAAAAAAAAI/AAAAAAAADIs/8dW1MgKePR0/s64/photo.jpg",
      "userId": "17163383815352082166"
     },
     "user_tz": -540
    },
    "id": "Yg0VqKJZj_Pm",
    "outputId": "b821e153-131f-499c-d6fc-39629e53731e"
   },
   "outputs": [],
   "source": [
    "df.shape"
   ]
  },
  {
   "cell_type": "code",
   "execution_count": null,
   "metadata": {
    "colab": {
     "base_uri": "https://localhost:8080/",
     "height": 405
    },
    "executionInfo": {
     "elapsed": 962,
     "status": "ok",
     "timestamp": 1550294745836,
     "user": {
      "displayName": "Joeun Park",
      "photoUrl": "https://lh6.googleusercontent.com/-JYBWhNoobh0/AAAAAAAAAAI/AAAAAAAADIs/8dW1MgKePR0/s64/photo.jpg",
      "userId": "17163383815352082166"
     },
     "user_tz": -540
    },
    "id": "bYGWDvEbkBvA",
    "outputId": "a849c942-2311-441f-8cbc-e39e5cf6c722"
   },
   "outputs": [],
   "source": [
    "df.tail()"
   ]
  },
  {
   "cell_type": "markdown",
   "metadata": {
    "id": "iK_karn7Uyp_"
   },
   "source": [
    "## 자신의 관심사에 맞는 단어로 데이터를 가져옵니다."
   ]
  },
  {
   "cell_type": "code",
   "execution_count": null,
   "metadata": {
    "colab": {
     "base_uri": "https://localhost:8080/",
     "height": 34
    },
    "executionInfo": {
     "elapsed": 7217,
     "status": "ok",
     "timestamp": 1550294785621,
     "user": {
      "displayName": "Joeun Park",
      "photoUrl": "https://lh6.googleusercontent.com/-JYBWhNoobh0/AAAAAAAAAAI/AAAAAAAADIs/8dW1MgKePR0/s64/photo.jpg",
      "userId": "17163383815352082166"
     },
     "user_tz": -540
    },
    "id": "sgzZ8YqXUyqA",
    "outputId": "cc233bef-3200-409b-8606-b015c92129f1"
   },
   "outputs": [],
   "source": [
    "p = r'.*(돌봄|육아|초등|보육).*'\n",
    "care = df[df['title'].str.match(p) |\n",
    "           df['content'].str.match(p, flags=re.MULTILINE)]\n",
    "care.shape"
   ]
  },
  {
   "cell_type": "code",
   "execution_count": null,
   "metadata": {
    "colab": {
     "base_uri": "https://localhost:8080/",
     "height": 405
    },
    "executionInfo": {
     "elapsed": 907,
     "status": "ok",
     "timestamp": 1550294849164,
     "user": {
      "displayName": "Joeun Park",
      "photoUrl": "https://lh6.googleusercontent.com/-JYBWhNoobh0/AAAAAAAAAAI/AAAAAAAADIs/8dW1MgKePR0/s64/photo.jpg",
      "userId": "17163383815352082166"
     },
     "user_tz": -540
    },
    "id": "-R2fJgIbUyqD",
    "outputId": "b8fcdb36-7735-4e2a-d394-ab9d884b80fc"
   },
   "outputs": [],
   "source": [
    "care.head()"
   ]
  },
  {
   "cell_type": "code",
   "execution_count": null,
   "metadata": {
    "colab": {
     "base_uri": "https://localhost:8080/",
     "height": 275
    },
    "executionInfo": {
     "elapsed": 1089,
     "status": "ok",
     "timestamp": 1550294850330,
     "user": {
      "displayName": "Joeun Park",
      "photoUrl": "https://lh6.googleusercontent.com/-JYBWhNoobh0/AAAAAAAAAAI/AAAAAAAADIs/8dW1MgKePR0/s64/photo.jpg",
      "userId": "17163383815352082166"
     },
     "user_tz": -540
    },
    "id": "gzi9ptNEUyqG",
    "outputId": "db8330a2-9c54-4bbb-d2eb-817d7e879d91"
   },
   "outputs": [],
   "source": [
    "care.tail(3)"
   ]
  },
  {
   "cell_type": "code",
   "execution_count": null,
   "metadata": {
    "id": "yNeVWtJ4UyqQ"
   },
   "outputs": [],
   "source": [
    "# 샘플로 보고 싶은 인덱스의 번호를 넣어주세요.\n",
    "sample_index = 24"
   ]
  },
  {
   "cell_type": "code",
   "execution_count": null,
   "metadata": {
    "colab": {
     "base_uri": "https://localhost:8080/",
     "height": 34
    },
    "executionInfo": {
     "elapsed": 596,
     "status": "ok",
     "timestamp": 1550294886125,
     "user": {
      "displayName": "Joeun Park",
      "photoUrl": "https://lh6.googleusercontent.com/-JYBWhNoobh0/AAAAAAAAAAI/AAAAAAAADIs/8dW1MgKePR0/s64/photo.jpg",
      "userId": "17163383815352082166"
     },
     "user_tz": -540
    },
    "id": "3D2xrToYUyqY",
    "outputId": "1cd7209e-055a-4a1b-c2a5-74cfb52e0b4d"
   },
   "outputs": [],
   "source": [
    "sample_title = care.loc[sample_index, 'title']\n",
    "sample_title"
   ]
  },
  {
   "cell_type": "code",
   "execution_count": null,
   "metadata": {
    "colab": {
     "base_uri": "https://localhost:8080/",
     "height": 54
    },
    "executionInfo": {
     "elapsed": 603,
     "status": "ok",
     "timestamp": 1550294887632,
     "user": {
      "displayName": "Joeun Park",
      "photoUrl": "https://lh6.googleusercontent.com/-JYBWhNoobh0/AAAAAAAAAAI/AAAAAAAADIs/8dW1MgKePR0/s64/photo.jpg",
      "userId": "17163383815352082166"
     },
     "user_tz": -540
    },
    "id": "YzihuRRWUyqc",
    "outputId": "97ebc1eb-b732-4138-b1a1-d42d9d418e34",
    "scrolled": true
   },
   "outputs": [],
   "source": [
    "sample_content = care['content'][sample_index]\n",
    "sample_content"
   ]
  },
  {
   "cell_type": "code",
   "execution_count": null,
   "metadata": {},
   "outputs": [],
   "source": [
    "content_text = care['content'].str.replace(\"\\\\\\\\n\", \" \", regex=True)\n",
    "content_text = content_text.str.replace(\"[^ㄱ-ㅎㅏ-ㅣ가-힣 a-zA-Z]\", \" \", regex=True)"
   ]
  },
  {
   "cell_type": "code",
   "execution_count": null,
   "metadata": {},
   "outputs": [],
   "source": [
    "content_text.head(2)"
   ]
  },
  {
   "cell_type": "markdown",
   "metadata": {
    "id": "_iOLPdxVUyqf"
   },
   "source": [
    "# 토큰화"
   ]
  },
  {
   "cell_type": "code",
   "execution_count": null,
   "metadata": {
    "colab": {
     "base_uri": "https://localhost:8080/",
     "height": 34
    },
    "executionInfo": {
     "elapsed": 970,
     "status": "ok",
     "timestamp": 1550294891752,
     "user": {
      "displayName": "Joeun Park",
      "photoUrl": "https://lh6.googleusercontent.com/-JYBWhNoobh0/AAAAAAAAAAI/AAAAAAAADIs/8dW1MgKePR0/s64/photo.jpg",
      "userId": "17163383815352082166"
     },
     "user_tz": -540
    },
    "id": "TzXp-OFgc4zN",
    "outputId": "36bbb6e7-317a-4737-f740-fbfaee22e09f"
   },
   "outputs": [],
   "source": [
    "from soynlp.tokenizer import RegexTokenizer\n",
    "\n",
    "tokenizer = RegexTokenizer()\n",
    "tokenizer"
   ]
  },
  {
   "cell_type": "code",
   "execution_count": null,
   "metadata": {
    "colab": {
     "base_uri": "https://localhost:8080/",
     "height": 34
    },
    "executionInfo": {
     "elapsed": 1053,
     "status": "ok",
     "timestamp": 1550294911795,
     "user": {
      "displayName": "Joeun Park",
      "photoUrl": "https://lh6.googleusercontent.com/-JYBWhNoobh0/AAAAAAAAAAI/AAAAAAAADIs/8dW1MgKePR0/s64/photo.jpg",
      "userId": "17163383815352082166"
     },
     "user_tz": -540
    },
    "id": "tAeDHLGKUyqf",
    "outputId": "24a4cd40-9046-4719-e13e-2872e7b0b8b7"
   },
   "outputs": [],
   "source": [
    "tokened_title = tokenizer.tokenize(sample_title)\n",
    "tokened_title"
   ]
  },
  {
   "cell_type": "code",
   "execution_count": null,
   "metadata": {
    "colab": {
     "base_uri": "https://localhost:8080/",
     "height": 367
    },
    "executionInfo": {
     "elapsed": 1163,
     "status": "ok",
     "timestamp": 1550294958712,
     "user": {
      "displayName": "Joeun Park",
      "photoUrl": "https://lh6.googleusercontent.com/-JYBWhNoobh0/AAAAAAAAAAI/AAAAAAAADIs/8dW1MgKePR0/s64/photo.jpg",
      "userId": "17163383815352082166"
     },
     "user_tz": -540
    },
    "id": "8fhY7dEDUyqi",
    "outputId": "d0c9346a-0751-498d-ef74-281a6c8df72e"
   },
   "outputs": [],
   "source": [
    "tokened_content = tokenizer.tokenize(sample_content)\n",
    "tokened_content[:20]"
   ]
  },
  {
   "cell_type": "code",
   "execution_count": null,
   "metadata": {
    "colab": {
     "base_uri": "https://localhost:8080/",
     "height": 52
    },
    "executionInfo": {
     "elapsed": 662,
     "status": "ok",
     "timestamp": 1550294960066,
     "user": {
      "displayName": "Joeun Park",
      "photoUrl": "https://lh6.googleusercontent.com/-JYBWhNoobh0/AAAAAAAAAAI/AAAAAAAADIs/8dW1MgKePR0/s64/photo.jpg",
      "userId": "17163383815352082166"
     },
     "user_tz": -540
    },
    "id": "eHw05AF0Uyqn",
    "outputId": "967a8521-d1b8-4995-ed11-75a07fab2cfe"
   },
   "outputs": [],
   "source": [
    "print(len(tokened_title))\n",
    "print(len(tokened_content))"
   ]
  },
  {
   "cell_type": "markdown",
   "metadata": {
    "id": "-xal6i47Uyqq"
   },
   "source": [
    "# 텍스트 데이터 전처리 \n",
    "* 개행문자 제거"
   ]
  },
  {
   "cell_type": "code",
   "execution_count": null,
   "metadata": {},
   "outputs": [],
   "source": [
    "content_text"
   ]
  },
  {
   "cell_type": "code",
   "execution_count": null,
   "metadata": {
    "colab": {
     "base_uri": "https://localhost:8080/",
     "height": 139
    },
    "executionInfo": {
     "elapsed": 28350,
     "status": "ok",
     "timestamp": 1550295049468,
     "user": {
      "displayName": "Joeun Park",
      "photoUrl": "https://lh6.googleusercontent.com/-JYBWhNoobh0/AAAAAAAAAAI/AAAAAAAADIs/8dW1MgKePR0/s64/photo.jpg",
      "userId": "17163383815352082166"
     },
     "user_tz": -540
    },
    "id": "EJ-K9DleUyq0",
    "outputId": "846b1418-8199-41ba-e389-3de30163c547"
   },
   "outputs": [],
   "source": [
    "%time tokens = content_text.apply(tokenizer.tokenize)\n",
    "tokens[:3]"
   ]
  },
  {
   "cell_type": "code",
   "execution_count": null,
   "metadata": {
    "colab": {
     "base_uri": "https://localhost:8080/",
     "height": 34
    },
    "executionInfo": {
     "elapsed": 18180,
     "status": "ok",
     "timestamp": 1550295049470,
     "user": {
      "displayName": "Joeun Park",
      "photoUrl": "https://lh6.googleusercontent.com/-JYBWhNoobh0/AAAAAAAAAAI/AAAAAAAADIs/8dW1MgKePR0/s64/photo.jpg",
      "userId": "17163383815352082166"
     },
     "user_tz": -540
    },
    "id": "c0Kob4-7Uyq2",
    "outputId": "7d4b8034-73e5-4255-82c6-94307b07e9de"
   },
   "outputs": [],
   "source": [
    "tokens[sample_index][:10]"
   ]
  },
  {
   "cell_type": "code",
   "execution_count": null,
   "metadata": {
    "colab": {
     "base_uri": "https://localhost:8080/",
     "height": 107
    },
    "executionInfo": {
     "elapsed": 4468,
     "status": "ok",
     "timestamp": 1550295105361,
     "user": {
      "displayName": "Joeun Park",
      "photoUrl": "https://lh6.googleusercontent.com/-JYBWhNoobh0/AAAAAAAAAAI/AAAAAAAADIs/8dW1MgKePR0/s64/photo.jpg",
      "userId": "17163383815352082166"
     },
     "user_tz": -540
    },
    "id": "_LzvKMQ_mTOG",
    "outputId": "a59f2b04-0ea5-40e4-d147-33f0d0ad0bd1"
   },
   "outputs": [],
   "source": [
    "# !pip install wordcloud\n",
    "# !pip install koreanize-matplotlib"
   ]
  },
  {
   "cell_type": "code",
   "execution_count": null,
   "metadata": {
    "colab": {
     "base_uri": "https://localhost:8080/",
     "height": 69
    },
    "executionInfo": {
     "elapsed": 3659,
     "status": "ok",
     "timestamp": 1550295093883,
     "user": {
      "displayName": "Joeun Park",
      "photoUrl": "https://lh6.googleusercontent.com/-JYBWhNoobh0/AAAAAAAAAAI/AAAAAAAADIs/8dW1MgKePR0/s64/photo.jpg",
      "userId": "17163383815352082166"
     },
     "user_tz": -540
    },
    "id": "E5-fZ_a5anyG",
    "outputId": "671f3c77-5675-410f-8cb8-1bf6e94b8759"
   },
   "outputs": [],
   "source": [
    "import koreanize_matplotlib\n",
    "# 그래프에 retina display 적용\n",
    "%config InlineBackend.figure_format = 'retina'"
   ]
  },
  {
   "cell_type": "code",
   "execution_count": null,
   "metadata": {
    "id": "ja1NkAPdUyq5"
   },
   "outputs": [],
   "source": [
    "# 폰트 설정시 폰트명이 아닌 폰트의 설치 경로를 입력해 주셔야 합니다.\n",
    "# 윈도우 : r\"C:\\Windows\\Fonts\\malgun.ttf\" 해당 경로에 폰트가 있는지 확인한다.\n",
    "# 맥 : r\"/Library/Fonts/AppleGothic.ttf\"\n",
    "# colab에서 나눔고딕 등의 폰트를 설치했다면 : '/Library/Fonts/NanumBarunGothic.ttf'\n",
    "# fontpath=r\"/Library/Fonts/NanumBarunGothic.ttf\",\n",
    "\n",
    "from wordcloud import WordCloud\n",
    "import matplotlib.pyplot as plt\n",
    "\n",
    "\n",
    "def display_word_cloud(data, width=1200, height=500):\n",
    "    \n",
    "    stopwords = ['하지만', '그리고', '그런데', '저는','제가',\n",
    "                '그럼', '이런', '저런', '합니다',\n",
    "                '많은', '많이', '정말', '너무'] \n",
    "    \n",
    "    word_draw = WordCloud(\n",
    "        font_path=r\"/Library/Fonts/NanumBarunGothic.ttf\",\n",
    "        width=width, height=height,\n",
    "        stopwords=stopwords, \n",
    "        background_color=\"white\",\n",
    "        random_state=42\n",
    "    )\n",
    "    word_draw.generate(data)\n",
    "\n",
    "    plt.figure(figsize=(15, 7))\n",
    "    plt.imshow(word_draw)\n",
    "    plt.axis(\"off\")\n",
    "    plt.show()"
   ]
  },
  {
   "cell_type": "code",
   "execution_count": null,
   "metadata": {
    "colab": {
     "base_uri": "https://localhost:8080/",
     "height": 629
    },
    "executionInfo": {
     "elapsed": 40048,
     "status": "ok",
     "timestamp": 1550295245076,
     "user": {
      "displayName": "Joeun Park",
      "photoUrl": "https://lh6.googleusercontent.com/-JYBWhNoobh0/AAAAAAAAAAI/AAAAAAAADIs/8dW1MgKePR0/s64/photo.jpg",
      "userId": "17163383815352082166"
     },
     "user_tz": -540
    },
    "id": "0FjCcDHcUyq8",
    "outputId": "837183f3-e522-4971-b14b-a28ad3208982"
   },
   "outputs": [],
   "source": [
    "# 결과를 출력해 보면 불용어(STOPWORD)가 너무 많습니다.\n",
    "%time display_word_cloud(' '.join(content_text))"
   ]
  },
  {
   "cell_type": "code",
   "execution_count": null,
   "metadata": {
    "id": "qv6tTdo9UyrA"
   },
   "outputs": [],
   "source": [
    "from soynlp.noun import LRNounExtractor"
   ]
  },
  {
   "cell_type": "code",
   "execution_count": null,
   "metadata": {
    "colab": {
     "base_uri": "https://localhost:8080/",
     "height": 139
    },
    "executionInfo": {
     "elapsed": 74551,
     "status": "ok",
     "timestamp": 1550295295124,
     "user": {
      "displayName": "Joeun Park",
      "photoUrl": "https://lh6.googleusercontent.com/-JYBWhNoobh0/AAAAAAAAAAI/AAAAAAAADIs/8dW1MgKePR0/s64/photo.jpg",
      "userId": "17163383815352082166"
     },
     "user_tz": -540
    },
    "id": "9RzqhvQAUyrB",
    "outputId": "9127087c-c9f3-4505-a5bd-27dd4ec8ce54"
   },
   "outputs": [],
   "source": [
    "%%time\n",
    "noun_extractor = LRNounExtractor(verbose=True)\n",
    "noun_extractor.train(content_text)\n",
    "nouns = noun_extractor.extract()"
   ]
  },
  {
   "cell_type": "code",
   "execution_count": null,
   "metadata": {},
   "outputs": [],
   "source": [
    "nouns_text = \" \".join(list(nouns.keys()))\n",
    "nouns_text[:100]"
   ]
  },
  {
   "cell_type": "code",
   "execution_count": null,
   "metadata": {},
   "outputs": [],
   "source": [
    "type(nouns_text)"
   ]
  },
  {
   "cell_type": "code",
   "execution_count": null,
   "metadata": {
    "colab": {
     "base_uri": "https://localhost:8080/",
     "height": 629
    },
    "executionInfo": {
     "elapsed": 77211,
     "status": "ok",
     "timestamp": 1550295298357,
     "user": {
      "displayName": "Joeun Park",
      "photoUrl": "https://lh6.googleusercontent.com/-JYBWhNoobh0/AAAAAAAAAAI/AAAAAAAADIs/8dW1MgKePR0/s64/photo.jpg",
      "userId": "17163383815352082166"
     },
     "user_tz": -540
    },
    "id": "m_wcP5H8UyrE",
    "outputId": "fbf37f99-6e62-4c0a-9679-a9fddc753986"
   },
   "outputs": [],
   "source": [
    "# 추출된 명사를 찍어봅니다.\n",
    "%time display_word_cloud(nouns_text)"
   ]
  },
  {
   "cell_type": "code",
   "execution_count": null,
   "metadata": {},
   "outputs": [],
   "source": []
  }
 ],
 "metadata": {
  "kernelspec": {
   "display_name": "Python 3 (ipykernel)",
   "language": "python",
   "name": "python3"
  },
  "language_info": {
   "codemirror_mode": {
    "name": "ipython",
    "version": 3
   },
   "file_extension": ".py",
   "mimetype": "text/x-python",
   "name": "python",
   "nbconvert_exporter": "python",
   "pygments_lexer": "ipython3",
   "version": "3.7.13"
  },
  "varInspector": {
   "cols": {
    "lenName": 16,
    "lenType": 16,
    "lenVar": 40
   },
   "kernels_config": {
    "python": {
     "delete_cmd_postfix": "",
     "delete_cmd_prefix": "del ",
     "library": "var_list.py",
     "varRefreshCmd": "print(var_dic_list())"
    },
    "r": {
     "delete_cmd_postfix": ") ",
     "delete_cmd_prefix": "rm(",
     "library": "var_list.r",
     "varRefreshCmd": "cat(var_dic_list()) "
    }
   },
   "types_to_exclude": [
    "module",
    "function",
    "builtin_function_or_method",
    "instance",
    "_Feature"
   ],
   "window_display": false
  }
 },
 "nbformat": 4,
 "nbformat_minor": 1
}
