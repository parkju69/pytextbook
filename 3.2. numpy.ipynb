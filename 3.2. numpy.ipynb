{
 "cells": [
  {
   "cell_type": "markdown",
   "metadata": {
    "id": "01Rk2aw2s79W"
   },
   "source": [
    "[![Open In Colab](https://colab.research.google.com/assets/colab-badge.svg)](https://colab.research.google.com/github/pytextbook/pytextbook/blob/main/3.2.%20numpy.ipynb) "
   ]
  },
  {
   "cell_type": "code",
   "execution_count": 1,
   "metadata": {
    "executionInfo": {
     "elapsed": 283,
     "status": "ok",
     "timestamp": 1672230522175,
     "user": {
      "displayName": "송영숙",
      "userId": "01138230862948206591"
     },
     "user_tz": -540
    },
    "id": "TyFTFTFUs79Z"
   },
   "outputs": [],
   "source": [
    "import numpy as np"
   ]
  },
  {
   "cell_type": "markdown",
   "metadata": {
    "id": "S9NVGUsls79b"
   },
   "source": [
    "## 넘파이 배열<sup>NumPy Arrays</sup>\n",
    "\n",
    "넘파이(numpy)는 Numerical Python의 줄임말로 고성능 수치 계산을 쉽게 할 수 있도록 도와주는 라이브러리다. 자연어를 기계가 이해할 수 있는 벡터 형태로 바꾸려면 다차원 계산이 필수적이기 때문에 넘파이는 텍스트 분석에서 광범위하게 사용되고 있다."
   ]
  },
  {
   "cell_type": "code",
   "execution_count": 2,
   "metadata": {
    "colab": {
     "base_uri": "https://localhost:8080/"
    },
    "executionInfo": {
     "elapsed": 7,
     "status": "ok",
     "timestamp": 1672230522501,
     "user": {
      "displayName": "송영숙",
      "userId": "01138230862948206591"
     },
     "user_tz": -540
    },
    "id": "t5BygCNLs79b",
    "outputId": "896b0ab6-a36b-4029-bccb-35619db204c3"
   },
   "outputs": [
    {
     "data": {
      "text/plain": [
       "array([1., 2., 3.])"
      ]
     },
     "execution_count": 2,
     "metadata": {},
     "output_type": "execute_result"
    }
   ],
   "source": [
    "a = np.array([1, 2, 3], dtype = float)\n",
    "a"
   ]
  },
  {
   "cell_type": "code",
   "execution_count": 3,
   "metadata": {
    "colab": {
     "base_uri": "https://localhost:8080/"
    },
    "executionInfo": {
     "elapsed": 273,
     "status": "ok",
     "timestamp": 1672230569723,
     "user": {
      "displayName": "송영숙",
      "userId": "01138230862948206591"
     },
     "user_tz": -540
    },
    "id": "JcHJdbF9s79d",
    "outputId": "9641a39b-53f3-4b66-cb64-d56773f6c8e5"
   },
   "outputs": [
    {
     "data": {
      "text/plain": [
       "1"
      ]
     },
     "execution_count": 3,
     "metadata": {},
     "output_type": "execute_result"
    }
   ],
   "source": [
    "#차원 반환\n",
    "a.ndim"
   ]
  },
  {
   "cell_type": "code",
   "execution_count": 4,
   "metadata": {
    "colab": {
     "base_uri": "https://localhost:8080/"
    },
    "executionInfo": {
     "elapsed": 299,
     "status": "ok",
     "timestamp": 1672230580905,
     "user": {
      "displayName": "송영숙",
      "userId": "01138230862948206591"
     },
     "user_tz": -540
    },
    "id": "DHWIPyWQs79d",
    "outputId": "031f12da-f613-482b-cdd1-cd90b665f642"
   },
   "outputs": [
    {
     "data": {
      "text/plain": [
       "dtype('float64')"
      ]
     },
     "execution_count": 4,
     "metadata": {},
     "output_type": "execute_result"
    }
   ],
   "source": [
    "#데이터 타입 반환\n",
    "a.dtype"
   ]
  },
  {
   "cell_type": "code",
   "execution_count": 5,
   "metadata": {
    "colab": {
     "base_uri": "https://localhost:8080/"
    },
    "executionInfo": {
     "elapsed": 5,
     "status": "ok",
     "timestamp": 1672230522503,
     "user": {
      "displayName": "송영숙",
      "userId": "01138230862948206591"
     },
     "user_tz": -540
    },
    "id": "CjrgdsRks79d",
    "outputId": "6cfbbe78-2592-413c-c9ec-0443fdc0fd2e"
   },
   "outputs": [
    {
     "data": {
      "text/plain": [
       "(3,)"
      ]
     },
     "execution_count": 5,
     "metadata": {},
     "output_type": "execute_result"
    }
   ],
   "source": [
    "a.shape"
   ]
  },
  {
   "cell_type": "code",
   "execution_count": 6,
   "metadata": {
    "executionInfo": {
     "elapsed": 14,
     "status": "ok",
     "timestamp": 1672230522862,
     "user": {
      "displayName": "송영숙",
      "userId": "01138230862948206591"
     },
     "user_tz": -540
    },
    "id": "hrXGZT4Vs79e"
   },
   "outputs": [],
   "source": [
    "b = np.array([(1.5,2,3), (4,5,6)], dtype = float)"
   ]
  },
  {
   "cell_type": "code",
   "execution_count": 7,
   "metadata": {
    "colab": {
     "base_uri": "https://localhost:8080/"
    },
    "executionInfo": {
     "elapsed": 6,
     "status": "ok",
     "timestamp": 1672230593566,
     "user": {
      "displayName": "송영숙",
      "userId": "01138230862948206591"
     },
     "user_tz": -540
    },
    "id": "-Yv1hG5Os79e",
    "outputId": "60b83cce-cffc-4454-aafb-873048be5540"
   },
   "outputs": [
    {
     "data": {
      "text/plain": [
       "(2, 3)"
      ]
     },
     "execution_count": 7,
     "metadata": {},
     "output_type": "execute_result"
    }
   ],
   "source": [
    "#object dimension의 구성을 튜플 형태로 반환\n",
    "b.shape"
   ]
  },
  {
   "cell_type": "markdown",
   "metadata": {
    "id": "tpVO8UBfs79f"
   },
   "source": [
    "## 브로드캐스팅<sup>broadcasting</sup>                \n",
    "브로드캐스팅은 산술 연산에서 다른 모양의 배열을 처리하는 방법으로 배열 연산을 빠른 속도로 벡터화한다. 다음 코드는 배열과 스칼라값의 연산이다. 스칼라 값은 배열과 모양이 다르더라도 연산할 수 있다"
   ]
  },
  {
   "cell_type": "code",
   "execution_count": 8,
   "metadata": {
    "colab": {
     "base_uri": "https://localhost:8080/"
    },
    "executionInfo": {
     "elapsed": 15,
     "status": "ok",
     "timestamp": 1672230522864,
     "user": {
      "displayName": "송영숙",
      "userId": "01138230862948206591"
     },
     "user_tz": -540
    },
    "id": "UL_2lYThs79f",
    "outputId": "152cc9da-65b9-4d91-9291-730970f818fe"
   },
   "outputs": [
    {
     "data": {
      "text/plain": [
       "array([1.6, 3.2])"
      ]
     },
     "execution_count": 8,
     "metadata": {},
     "output_type": "execute_result"
    }
   ],
   "source": [
    "data = np.array([1.0, 2.0])\n",
    "data * 1.6"
   ]
  },
  {
   "cell_type": "markdown",
   "metadata": {
    "id": "Y5oT76LtwqT6"
   },
   "source": [
    "< 배열과 스칼라값의 연산 > 참고 : https://numpy.org/doc/stable/user/absolute_beginners.html "
   ]
  },
  {
   "cell_type": "markdown",
   "metadata": {
    "id": "JS-JqwelwyNa"
   },
   "source": [
    "다음 코드의 변수 c는 (4, 3)의 배열 형태이고, d는 (3,)으로 1차원 벡터 형태이지만 연산할 수 있다. 이때 1차원 벡터의 크기는 배열의 열의 수인 3과 같아야 한다. "
   ]
  },
  {
   "cell_type": "code",
   "execution_count": 9,
   "metadata": {
    "colab": {
     "base_uri": "https://localhost:8080/"
    },
    "executionInfo": {
     "elapsed": 14,
     "status": "ok",
     "timestamp": 1672230522864,
     "user": {
      "displayName": "송영숙",
      "userId": "01138230862948206591"
     },
     "user_tz": -540
    },
    "id": "QKLpm5W4s79g",
    "outputId": "fa2a1ac1-b417-4237-b1a2-d1838cae6cb3"
   },
   "outputs": [
    {
     "name": "stdout",
     "output_type": "stream",
     "text": [
      "(4, 3) (3,)\n"
     ]
    },
    {
     "data": {
      "text/plain": [
       "array([[ 1,  2,  3],\n",
       "       [11, 12, 13],\n",
       "       [21, 22, 23],\n",
       "       [31, 32, 33]])"
      ]
     },
     "execution_count": 9,
     "metadata": {},
     "output_type": "execute_result"
    }
   ],
   "source": [
    "c = np.array([[ 0,  0,  0],\n",
    "           [10, 10, 10],\n",
    "           [20, 20, 20],\n",
    "           [30, 30, 30]])\n",
    "d = np.array([1, 2, 3])\n",
    "\n",
    "print(c.shape, d.shape)\n",
    "c + d"
   ]
  },
  {
   "cell_type": "markdown",
   "metadata": {
    "id": "4W_CPxD7w5e2"
   },
   "source": [
    "다음과 같이 (4, 3) 형태의 배열과 (4,) 형태의 1차원 벡터를 연산하면 열의 크기와 1차원 벡터의 크기가 달라 브로드캐스팅 되지 않고 오류가 발생할 수 있으므로 주의해야 한다."
   ]
  },
  {
   "cell_type": "code",
   "execution_count": 10,
   "metadata": {
    "colab": {
     "base_uri": "https://localhost:8080/",
     "height": 229
    },
    "executionInfo": {
     "elapsed": 13,
     "status": "error",
     "timestamp": 1672230522865,
     "user": {
      "displayName": "송영숙",
      "userId": "01138230862948206591"
     },
     "user_tz": -540
    },
    "id": "HgrC0HiDs79g",
    "outputId": "10afcf4a-4872-4b8b-e0b2-f7c346a02e30"
   },
   "outputs": [
    {
     "name": "stdout",
     "output_type": "stream",
     "text": [
      "(4, 3) (5,)\n"
     ]
    },
    {
     "ename": "ValueError",
     "evalue": "operands could not be broadcast together with shapes (4,3) (5,) ",
     "output_type": "error",
     "traceback": [
      "\u001b[0;31m---------------------------------------------------------------------------\u001b[0m",
      "\u001b[0;31mValueError\u001b[0m                                Traceback (most recent call last)",
      "Cell \u001b[0;32mIn [10], line 3\u001b[0m\n\u001b[1;32m      1\u001b[0m e \u001b[38;5;241m=\u001b[39m np\u001b[38;5;241m.\u001b[39marray([\u001b[38;5;241m1\u001b[39m, \u001b[38;5;241m2\u001b[39m, \u001b[38;5;241m3\u001b[39m, \u001b[38;5;241m4\u001b[39m, \u001b[38;5;241m5\u001b[39m])\n\u001b[1;32m      2\u001b[0m \u001b[38;5;28mprint\u001b[39m(c\u001b[38;5;241m.\u001b[39mshape, e\u001b[38;5;241m.\u001b[39mshape)\n\u001b[0;32m----> 3\u001b[0m \u001b[43mc\u001b[49m\u001b[43m \u001b[49m\u001b[38;5;241;43m+\u001b[39;49m\u001b[43m \u001b[49m\u001b[43me\u001b[49m\n",
      "\u001b[0;31mValueError\u001b[0m: operands could not be broadcast together with shapes (4,3) (5,) "
     ]
    }
   ],
   "source": [
    "e = np.array([1, 2, 3, 4, 5])\n",
    "print(c.shape, e.shape)\n",
    "c + e"
   ]
  },
  {
   "cell_type": "markdown",
   "metadata": {
    "id": "giHKGYX5xCDG"
   },
   "source": [
    "배열의 열 크기와 다른 크기의 1차원 벡터는 더할 수 없다 "
   ]
  },
  {
   "cell_type": "markdown",
   "metadata": {
    "id": "hIBr68GTs79g"
   },
   "source": [
    "## 집계 함수<sup>Aggregate Functions</sup>\n",
    "\n",
    "집계 함수를 통해 기술통계량을 계산핤 수 있다. \n",
    "                 \n",
    "●\tmax() 또는 np.max() : 최댓값을 반환하는 함수                \n",
    "●\tmin() 또는 np.min() : 최솟값을 반환하는 함수    \n"
   ]
  },
  {
   "cell_type": "code",
   "execution_count": 11,
   "metadata": {
    "colab": {
     "base_uri": "https://localhost:8080/"
    },
    "executionInfo": {
     "elapsed": 313,
     "status": "ok",
     "timestamp": 1672231536722,
     "user": {
      "displayName": "송영숙",
      "userId": "01138230862948206591"
     },
     "user_tz": -540
    },
    "id": "8xaUULGIs79h",
    "outputId": "fca1b189-3568-4853-81db-bff419a82f71"
   },
   "outputs": [
    {
     "data": {
      "text/plain": [
       "3.0"
      ]
     },
     "execution_count": 11,
     "metadata": {},
     "output_type": "execute_result"
    }
   ],
   "source": [
    "max(a)"
   ]
  },
  {
   "cell_type": "code",
   "execution_count": 12,
   "metadata": {
    "colab": {
     "base_uri": "https://localhost:8080/"
    },
    "executionInfo": {
     "elapsed": 4,
     "status": "ok",
     "timestamp": 1672231537027,
     "user": {
      "displayName": "송영숙",
      "userId": "01138230862948206591"
     },
     "user_tz": -540
    },
    "id": "5voGz-TSs79h",
    "outputId": "3ceb429c-bda7-4935-c5a7-2ad1d0dfc49d",
    "scrolled": true
   },
   "outputs": [
    {
     "data": {
      "text/plain": [
       "3.0"
      ]
     },
     "execution_count": 12,
     "metadata": {},
     "output_type": "execute_result"
    }
   ],
   "source": [
    "a.max()"
   ]
  },
  {
   "cell_type": "code",
   "execution_count": 13,
   "metadata": {
    "colab": {
     "base_uri": "https://localhost:8080/"
    },
    "executionInfo": {
     "elapsed": 302,
     "status": "ok",
     "timestamp": 1672231539536,
     "user": {
      "displayName": "송영숙",
      "userId": "01138230862948206591"
     },
     "user_tz": -540
    },
    "id": "hCUML_CNs79h",
    "outputId": "ee1f85e3-bc9e-4d58-b979-45acf710f4c4"
   },
   "outputs": [
    {
     "data": {
      "text/plain": [
       "1.0"
      ]
     },
     "execution_count": 13,
     "metadata": {},
     "output_type": "execute_result"
    }
   ],
   "source": [
    "min(a)"
   ]
  },
  {
   "cell_type": "markdown",
   "metadata": {
    "id": "GgVC2XLAxlv0"
   },
   "source": [
    "● sum() 또는 np.sum() : 합계를 반환하는 함수  "
   ]
  },
  {
   "cell_type": "code",
   "execution_count": 14,
   "metadata": {
    "colab": {
     "base_uri": "https://localhost:8080/"
    },
    "executionInfo": {
     "elapsed": 337,
     "status": "ok",
     "timestamp": 1672231542218,
     "user": {
      "displayName": "송영숙",
      "userId": "01138230862948206591"
     },
     "user_tz": -540
    },
    "id": "6W2aNIJTs79i",
    "outputId": "7ebd5477-a9a0-4708-a533-92506a2f8d9c"
   },
   "outputs": [
    {
     "data": {
      "text/plain": [
       "6.0"
      ]
     },
     "execution_count": 14,
     "metadata": {},
     "output_type": "execute_result"
    }
   ],
   "source": [
    "a.sum()"
   ]
  },
  {
   "cell_type": "markdown",
   "metadata": {
    "id": "omnZ21OFxq05"
   },
   "source": [
    "●\tnp.mean(s, axis = 0) : 열을 따라 산술 평균을 반환하는 함수:             \n",
    "●\tnp.mean(s, axis = 1) : 행을 따라 산술 평균을 반환하는 함수   "
   ]
  },
  {
   "cell_type": "code",
   "execution_count": 15,
   "metadata": {
    "colab": {
     "base_uri": "https://localhost:8080/"
    },
    "executionInfo": {
     "elapsed": 2,
     "status": "ok",
     "timestamp": 1672231542523,
     "user": {
      "displayName": "송영숙",
      "userId": "01138230862948206591"
     },
     "user_tz": -540
    },
    "id": "K7AUMCWCs79i",
    "outputId": "d3c78626-bc6c-4a01-c6cc-49ba0c2ce4e4"
   },
   "outputs": [
    {
     "name": "stdout",
     "output_type": "stream",
     "text": [
      "2차원 배열 : [[10, 20, 30], [30, 40, 50], [50, 60, 70], [70, 80, 90]]\n",
      "열에 따른 산술 평균 : [40. 50. 60.]\n",
      "행에 따른 산술 평균 : [20. 40. 60. 80.]\n"
     ]
    }
   ],
   "source": [
    "s = [[10, 20, 30],\n",
    "       [30, 40, 50],\n",
    "       [50, 60, 70],\n",
    "       [70, 80, 90]]\n",
    "\n",
    "print(\"2차원 배열 :\", s)\n",
    "print(\"열에 따른 산술 평균 :\", np.mean(s, axis=0))\n",
    "print(\"행에 따른 산술 평균 :\", np.mean(s, axis=1))"
   ]
  },
  {
   "cell_type": "markdown",
   "metadata": {
    "id": "WGGUVjL_ypme"
   },
   "source": [
    "np.where() : 괄호 안의 조건에 맞는 값을 찾아서 그 원소의 인덱스를 배열로 반환하는 함수: "
   ]
  },
  {
   "cell_type": "code",
   "execution_count": 16,
   "metadata": {
    "colab": {
     "base_uri": "https://localhost:8080/"
    },
    "executionInfo": {
     "elapsed": 451,
     "status": "ok",
     "timestamp": 1672231544440,
     "user": {
      "displayName": "송영숙",
      "userId": "01138230862948206591"
     },
     "user_tz": -540
    },
    "id": "apOAy0hys79i",
    "outputId": "95e4e4bd-f97a-4f15-b98d-07f2a935cacd"
   },
   "outputs": [
    {
     "data": {
      "text/plain": [
       "(array([0, 1]),)"
      ]
     },
     "execution_count": 16,
     "metadata": {},
     "output_type": "execute_result"
    }
   ],
   "source": [
    "np.where(a < 3)"
   ]
  },
  {
   "cell_type": "markdown",
   "metadata": {
    "id": "86_IHx6wy8-0"
   },
   "source": [
    "## 배열 생성 \n",
    "   \n",
    "●\tnp.zeros((2, 3)): 원소가 모두 0으로 이루어진 2열 3행의 배열 생성         \n",
    "●\tnp.ones((2, 3)): 원소가 모두 1로 이루어진 2열 3행의 배열 생성               \n",
    "●\tnp.linspace(start, stop,step): 시작과 끝 사이에 균일하게  숫자를 생성            \n"
   ]
  },
  {
   "cell_type": "code",
   "execution_count": 17,
   "metadata": {
    "colab": {
     "base_uri": "https://localhost:8080/"
    },
    "executionInfo": {
     "elapsed": 2,
     "status": "ok",
     "timestamp": 1672231544726,
     "user": {
      "displayName": "송영숙",
      "userId": "01138230862948206591"
     },
     "user_tz": -540
    },
    "id": "2TXsY6Y-s79j",
    "outputId": "4626c433-9a36-4406-d02a-3beaadf61413"
   },
   "outputs": [
    {
     "data": {
      "text/plain": [
       "array([0.  , 0.25, 0.5 , 0.75, 1.  , 1.25, 1.5 , 1.75, 2.  ])"
      ]
     },
     "execution_count": 17,
     "metadata": {},
     "output_type": "execute_result"
    }
   ],
   "source": [
    "np.linspace(0, 2, 9) # 0에서 2까지 균일하게 9개의 숫자 생성"
   ]
  },
  {
   "cell_type": "markdown",
   "metadata": {
    "id": "uNIgKj5h0EfP"
   },
   "source": [
    "## 난수 생성      \n",
    "● random.random()은 균등 분포로 표본을 추출     \n",
    "● random.rand()는 균등 비율로 표본을 추출           \n",
    "● random.randn()은 정규 분포로 표본을 추출          "
   ]
  },
  {
   "cell_type": "code",
   "execution_count": 18,
   "metadata": {
    "colab": {
     "base_uri": "https://localhost:8080/"
    },
    "executionInfo": {
     "elapsed": 277,
     "status": "ok",
     "timestamp": 1672231547723,
     "user": {
      "displayName": "송영숙",
      "userId": "01138230862948206591"
     },
     "user_tz": -540
    },
    "id": "oPk6jj7Qs79j",
    "outputId": "25544a0c-ad38-42f0-cabf-28f5f9629ad5"
   },
   "outputs": [
    {
     "data": {
      "text/plain": [
       "array([[0.32108789, 0.93161163],\n",
       "       [0.76207751, 0.07220582]])"
      ]
     },
     "execution_count": 18,
     "metadata": {},
     "output_type": "execute_result"
    }
   ],
   "source": [
    "d = np.random.random((2, 2))\n",
    "d"
   ]
  },
  {
   "cell_type": "code",
   "execution_count": 19,
   "metadata": {
    "colab": {
     "base_uri": "https://localhost:8080/"
    },
    "executionInfo": {
     "elapsed": 424,
     "status": "ok",
     "timestamp": 1672231548481,
     "user": {
      "displayName": "송영숙",
      "userId": "01138230862948206591"
     },
     "user_tz": -540
    },
    "id": "9oQaQhNus79j",
    "outputId": "331a8795-5593-4e3a-8f9d-6e18bc4b8fa2"
   },
   "outputs": [
    {
     "name": "stdout",
     "output_type": "stream",
     "text": [
      "[[-0.67304094 -2.58737117 -1.35617612]\n",
      " [ 2.60116172 -1.72564351 -1.85765209]]\n"
     ]
    }
   ],
   "source": [
    "e = np.random.normal(0, 2, (2, 3))\n",
    "print(e)"
   ]
  },
  {
   "cell_type": "code",
   "execution_count": 20,
   "metadata": {
    "executionInfo": {
     "elapsed": 981,
     "status": "ok",
     "timestamp": 1672231552712,
     "user": {
      "displayName": "송영숙",
      "userId": "01138230862948206591"
     },
     "user_tz": -540
    },
    "id": "XcFDEz6gs79j"
   },
   "outputs": [],
   "source": [
    "import matplotlib.pyplot as plt\n",
    "from scipy.stats import norm\n",
    " \n",
    "x_axis = np.arange(-10, 10, 0.1)"
   ]
  },
  {
   "cell_type": "markdown",
   "metadata": {
    "id": "6EwZCeDD0lj5"
   },
   "source": [
    "## 맷플롯립을 통한 넘파이 배열의 시각화"
   ]
  },
  {
   "cell_type": "code",
   "execution_count": 21,
   "metadata": {},
   "outputs": [
    {
     "data": {
      "text/plain": [
       "0.049999971180118195"
      ]
     },
     "execution_count": 21,
     "metadata": {},
     "output_type": "execute_result"
    }
   ],
   "source": [
    "np.mean(norm.pdf(x_axis, loc=0, scale=2))"
   ]
  },
  {
   "cell_type": "code",
   "execution_count": 22,
   "metadata": {},
   "outputs": [
    {
     "data": {
      "text/plain": [
       "0.06747127297097082"
      ]
     },
     "execution_count": 22,
     "metadata": {},
     "output_type": "execute_result"
    }
   ],
   "source": [
    "np.std(norm.pdf(x_axis, loc=0, scale=2))"
   ]
  },
  {
   "cell_type": "code",
   "execution_count": 23,
   "metadata": {
    "colab": {
     "base_uri": "https://localhost:8080/",
     "height": 283
    },
    "executionInfo": {
     "elapsed": 339,
     "status": "ok",
     "timestamp": 1672231553048,
     "user": {
      "displayName": "송영숙",
      "userId": "01138230862948206591"
     },
     "user_tz": -540
    },
    "id": "eKxK7DO2s79j",
    "outputId": "69974ca7-2f33-4f13-b924-7f7c8e417bca"
   },
   "outputs": [
    {
     "data": {
      "text/plain": [
       "[<matplotlib.lines.Line2D at 0x12d5e8700>]"
      ]
     },
     "execution_count": 23,
     "metadata": {},
     "output_type": "execute_result"
    },
    {
     "data": {
      "image/png": "[encoded data removed]",
      "text/plain": [
       "<Figure size 640x480 with 1 Axes>"
      ]
     },
     "metadata": {},
     "output_type": "display_data"
    }
   ],
   "source": [
    "plt.plot(x_axis, norm.pdf(x_axis, loc=0, scale=2))"
   ]
  },
  {
   "cell_type": "code",
   "execution_count": null,
   "metadata": {},
   "outputs": [],
   "source": []
  },
  {
   "cell_type": "code",
   "execution_count": null,
   "metadata": {},
   "outputs": [],
   "source": []
  }
 ],
 "metadata": {
  "colab": {
   "provenance": []
  },
  "kernelspec": {
   "display_name": "Python 3 (ipykernel)",
   "language": "python",
   "name": "python3"
  },
  "language_info": {
   "codemirror_mode": {
    "name": "ipython",
    "version": 3
   },
   "file_extension": ".py",
   "mimetype": "text/x-python",
   "name": "python",
   "nbconvert_exporter": "python",
   "pygments_lexer": "ipython3",
   "version": "3.10.7"
  },
  "toc": {
   "base_numbering": 1,
   "nav_menu": {},
   "number_sections": true,
   "sideBar": true,
   "skip_h1_title": false,
   "title_cell": "Table of Contents",
   "title_sidebar": "Contents",
   "toc_cell": false,
   "toc_position": {},
   "toc_section_display": true,
   "toc_window_display": false
  },
  "varInspector": {
   "cols": {
    "lenName": 16,
    "lenType": 16,
    "lenVar": 40
   },
   "kernels_config": {
    "python": {
     "delete_cmd_postfix": "",
     "delete_cmd_prefix": "del ",
     "library": "var_list.py",
     "varRefreshCmd": "print(var_dic_list())"
    },
    "r": {
     "delete_cmd_postfix": ") ",
     "delete_cmd_prefix": "rm(",
     "library": "var_list.r",
     "varRefreshCmd": "cat(var_dic_list()) "
    }
   },
   "types_to_exclude": [
    "module",
    "function",
    "builtin_function_or_method",
    "instance",
    "_Feature"
   ],
   "window_display": false
  }
 },
 "nbformat": 4,
 "nbformat_minor": 1
}
