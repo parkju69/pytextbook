{
 "cells": [
  {
   "cell_type": "markdown",
   "metadata": {
    "id": "M4_PHrOVj51Z"
   },
   "source": [
    "[![Open In Colab](https://colab.research.google.com/assets/colab-badge.svg)](https://colab.research.google.com/github/pytextbook/pytextbook/blob/main/7.2.%20seoul-120-baseline-rnn.ipynb) \n",
    "\n",
    "## RNN (Recurrent Neural Network) 으로 텍스트 분류하기\n",
    "\n",
    "* API Document: https://www.tensorflow.org/api_docs/python/tf/keras/layers/RNN\n",
    "\n",
    "## 라이브러리 로드"
   ]
  },
  {
   "cell_type": "code",
   "execution_count": 1,
   "metadata": {
    "executionInfo": {
     "elapsed": 439,
     "status": "ok",
     "timestamp": 1672570135870,
     "user": {
      "displayName": "송영숙",
      "userId": "01138230862948206591"
     },
     "user_tz": -540
    },
    "id": "4CcTgpxw6Aai"
   },
   "outputs": [],
   "source": [
    "import numpy as np\n",
    "import pandas as pd\n",
    "import matplotlib.pyplot as plt\n",
    "import seaborn as sns"
   ]
  },
  {
   "cell_type": "markdown",
   "metadata": {
    "id": "ESivktS1lEm7"
   },
   "source": [
    "## 데이터 미리보기 및 요약"
   ]
  },
  {
   "cell_type": "code",
   "execution_count": 2,
   "metadata": {
    "colab": {
     "base_uri": "https://localhost:8080/"
    },
    "executionInfo": {
     "elapsed": 583,
     "status": "ok",
     "timestamp": 1672570136446,
     "user": {
      "displayName": "송영숙",
      "userId": "01138230862948206591"
     },
     "user_tz": -540
    },
    "id": "eFKC0rSZqNsO",
    "outputId": "8fa26a3c-be79-4b86-d764-0d9611212fc9"
   },
   "outputs": [
    {
     "data": {
      "text/plain": [
       "(2645, 5)"
      ]
     },
     "execution_count": 2,
     "metadata": {},
     "output_type": "execute_result"
    }
   ],
   "source": [
    "df = pd.read_csv(\"https://bit.ly/seoul-120-text-csv\")\n",
    "df.shape"
   ]
  },
  {
   "cell_type": "code",
   "execution_count": 3,
   "metadata": {
    "colab": {
     "base_uri": "https://localhost:8080/",
     "height": 441
    },
    "executionInfo": {
     "elapsed": 6,
     "status": "ok",
     "timestamp": 1672570136447,
     "user": {
      "displayName": "송영숙",
      "userId": "01138230862948206591"
     },
     "user_tz": -540
    },
    "id": "hkHHw0dXZ0JE",
    "outputId": "538d2cc5-b746-47de-a0a8-e8557a05e1c9"
   },
   "outputs": [
    {
     "data": {
      "text/html": [
       "<div>\n",
       "<style scoped>\n",
       "    .dataframe tbody tr th:only-of-type {\n",
       "        vertical-align: middle;\n",
       "    }\n",
       "\n",
       "    .dataframe tbody tr th {\n",
       "        vertical-align: top;\n",
       "    }\n",
       "\n",
       "    .dataframe thead th {\n",
       "        text-align: right;\n",
       "    }\n",
       "</style>\n",
       "<table border=\"1\" class=\"dataframe\">\n",
       "  <thead>\n",
       "    <tr style=\"text-align: right;\">\n",
       "      <th></th>\n",
       "      <th>번호</th>\n",
       "      <th>분류</th>\n",
       "      <th>제목</th>\n",
       "      <th>내용</th>\n",
       "      <th>내용번호</th>\n",
       "      <th>문서</th>\n",
       "    </tr>\n",
       "  </thead>\n",
       "  <tbody>\n",
       "    <tr>\n",
       "      <th>0</th>\n",
       "      <td>2645</td>\n",
       "      <td>복지</td>\n",
       "      <td>아빠 육아휴직 장려금</td>\n",
       "      <td>아빠 육아휴직 장려금   업무개요  남성근로자의 육아휴직을 장려하고 양육에 따른 경...</td>\n",
       "      <td>23522464</td>\n",
       "      <td>아빠 육아휴직 장려금아빠 육아휴직 장려금   업무개요  남성근로자의 육아휴직을 장려...</td>\n",
       "    </tr>\n",
       "    <tr>\n",
       "      <th>1</th>\n",
       "      <td>2644</td>\n",
       "      <td>경제</td>\n",
       "      <td>[서울산업진흥원] 서울메이드란?</td>\n",
       "      <td>서울산업진흥원 서울메이드란 서울의 감성을 담은 다양하고 새로운 경험을 제공하기 위해...</td>\n",
       "      <td>23194045</td>\n",
       "      <td>[서울산업진흥원] 서울메이드란?서울산업진흥원 서울메이드란 서울의 감성을 담은 다양하...</td>\n",
       "    </tr>\n",
       "    <tr>\n",
       "      <th>2</th>\n",
       "      <td>2643</td>\n",
       "      <td>환경</td>\n",
       "      <td>(강북구) 정비중</td>\n",
       "      <td>강북구 정비중  업무개요  투명 폐트병을 교환보상하므로 수거율을 높이고 폐기물을 감...</td>\n",
       "      <td>23032485</td>\n",
       "      <td>(강북구) 정비중강북구 정비중  업무개요  투명 폐트병을 교환보상하므로 수거율을 높...</td>\n",
       "    </tr>\n",
       "    <tr>\n",
       "      <th>3</th>\n",
       "      <td>2642</td>\n",
       "      <td>복지</td>\n",
       "      <td>광진맘택시 운영(임산부,영아 양육가정 전용 택시)</td>\n",
       "      <td>광진맘택시 운영임산부영아 양육가정 전용 택시  업무개요 교통약자인 임산부와 영아가정...</td>\n",
       "      <td>22904492</td>\n",
       "      <td>광진맘택시 운영(임산부,영아 양육가정 전용 택시)광진맘택시 운영임산부영아 양육가정 ...</td>\n",
       "    </tr>\n",
       "    <tr>\n",
       "      <th>4</th>\n",
       "      <td>2641</td>\n",
       "      <td>복지</td>\n",
       "      <td>마포 뇌병변장애인 비전센터</td>\n",
       "      <td>마포 뇌병변장애인 비전센터 마포뇌병변장애인 비전센터 운영   구분 내용  목적  학...</td>\n",
       "      <td>22477798</td>\n",
       "      <td>마포 뇌병변장애인 비전센터마포 뇌병변장애인 비전센터 마포뇌병변장애인 비전센터 운영 ...</td>\n",
       "    </tr>\n",
       "  </tbody>\n",
       "</table>\n",
       "</div>"
      ],
      "text/plain": [
       "     번호  분류                           제목  \\\n",
       "0  2645  복지                  아빠 육아휴직 장려금   \n",
       "1  2644  경제            [서울산업진흥원] 서울메이드란?   \n",
       "2  2643  환경                    (강북구) 정비중   \n",
       "3  2642  복지  광진맘택시 운영(임산부,영아 양육가정 전용 택시)   \n",
       "4  2641  복지               마포 뇌병변장애인 비전센터   \n",
       "\n",
       "                                                  내용      내용번호  \\\n",
       "0  아빠 육아휴직 장려금   업무개요  남성근로자의 육아휴직을 장려하고 양육에 따른 경...  23522464   \n",
       "1  서울산업진흥원 서울메이드란 서울의 감성을 담은 다양하고 새로운 경험을 제공하기 위해...  23194045   \n",
       "2  강북구 정비중  업무개요  투명 폐트병을 교환보상하므로 수거율을 높이고 폐기물을 감...  23032485   \n",
       "3  광진맘택시 운영임산부영아 양육가정 전용 택시  업무개요 교통약자인 임산부와 영아가정...  22904492   \n",
       "4  마포 뇌병변장애인 비전센터 마포뇌병변장애인 비전센터 운영   구분 내용  목적  학...  22477798   \n",
       "\n",
       "                                                  문서  \n",
       "0  아빠 육아휴직 장려금아빠 육아휴직 장려금   업무개요  남성근로자의 육아휴직을 장려...  \n",
       "1  [서울산업진흥원] 서울메이드란?서울산업진흥원 서울메이드란 서울의 감성을 담은 다양하...  \n",
       "2  (강북구) 정비중강북구 정비중  업무개요  투명 폐트병을 교환보상하므로 수거율을 높...  \n",
       "3  광진맘택시 운영(임산부,영아 양육가정 전용 택시)광진맘택시 운영임산부영아 양육가정 ...  \n",
       "4  마포 뇌병변장애인 비전센터마포 뇌병변장애인 비전센터 마포뇌병변장애인 비전센터 운영 ...  "
      ]
     },
     "execution_count": 3,
     "metadata": {},
     "output_type": "execute_result"
    }
   ],
   "source": [
    "# 제목과 내용을 합쳐서 문서라는 파생변수 생성\n",
    "df[\"문서\"] = df[\"제목\"] + df[\"내용\"]\n",
    "df.head()"
   ]
  },
  {
   "cell_type": "code",
   "execution_count": 4,
   "metadata": {
    "colab": {
     "base_uri": "https://localhost:8080/"
    },
    "executionInfo": {
     "elapsed": 5,
     "status": "ok",
     "timestamp": 1672570136447,
     "user": {
      "displayName": "송영숙",
      "userId": "01138230862948206591"
     },
     "user_tz": -540
    },
    "id": "TjuWJzWqZ0JF",
    "outputId": "a8428038-dd86-4404-fc74-d12f1d2831e0"
   },
   "outputs": [
    {
     "data": {
      "text/plain": [
       "행정        1098\n",
       "경제         823\n",
       "복지         217\n",
       "환경         124\n",
       "주택도시계획     110\n",
       "문화관광        96\n",
       "교통          90\n",
       "안전          51\n",
       "건강          23\n",
       "여성가족        13\n",
       "Name: 분류, dtype: int64"
      ]
     },
     "execution_count": 4,
     "metadata": {},
     "output_type": "execute_result"
    }
   ],
   "source": [
    "# value_counts()로 분류별 빈도수 확인\n",
    "df[\"분류\"].value_counts()"
   ]
  },
  {
   "cell_type": "code",
   "execution_count": 5,
   "metadata": {
    "executionInfo": {
     "elapsed": 4,
     "status": "ok",
     "timestamp": 1672570136448,
     "user": {
      "displayName": "송영숙",
      "userId": "01138230862948206591"
     },
     "user_tz": -540
    },
    "id": "0wnpc5nUZ0JF"
   },
   "outputs": [],
   "source": [
    "# 분류별 빈도수 값으로 불균형이 심해 전체 데이터로 예측을 하면 성능이 떨어질 수 있음\n",
    "# 일부 상위 분류 데이터만을 추출해 사용\n",
    "df = df[df[\"분류\"].isin([\"행정\", \"경제\", \"복지\"])]\n",
    "# df = df[df[\"분류\"].isin([\"행정\", \"경제\"])]"
   ]
  },
  {
   "cell_type": "code",
   "execution_count": 6,
   "metadata": {
    "executionInfo": {
     "elapsed": 6,
     "status": "ok",
     "timestamp": 1672570136946,
     "user": {
      "displayName": "송영숙",
      "userId": "01138230862948206591"
     },
     "user_tz": -540
    },
    "id": "zvpvDX5nZ0JG"
   },
   "outputs": [],
   "source": [
    "# 정답(label) 값\n",
    "label_name = \"분류\""
   ]
  },
  {
   "cell_type": "code",
   "execution_count": 7,
   "metadata": {
    "executionInfo": {
     "elapsed": 7,
     "status": "ok",
     "timestamp": 1672570136947,
     "user": {
      "displayName": "송영숙",
      "userId": "01138230862948206591"
     },
     "user_tz": -540
    },
    "id": "2VFsfacbZ0JG"
   },
   "outputs": [],
   "source": [
    "# 독립변수(X, 문제)와 종속변수(y, 정답)\n",
    "X = df[\"문서\"]\n",
    "y = df[label_name]"
   ]
  },
  {
   "cell_type": "markdown",
   "metadata": {
    "id": "sVldgQfrZ0JH"
   },
   "source": [
    "## label one-hot 형태로 만들기"
   ]
  },
  {
   "cell_type": "code",
   "execution_count": 8,
   "metadata": {
    "executionInfo": {
     "elapsed": 7,
     "status": "ok",
     "timestamp": 1672570136947,
     "user": {
      "displayName": "송영숙",
      "userId": "01138230862948206591"
     },
     "user_tz": -540
    },
    "id": "jcyzPconsQY5"
   },
   "outputs": [],
   "source": [
    "# get_dummies 를 사용하여 label 값을 one-hot 형태로 생성\n",
    "y_onehot = pd.get_dummies(y)"
   ]
  },
  {
   "cell_type": "code",
   "execution_count": 9,
   "metadata": {
    "colab": {
     "base_uri": "https://localhost:8080/"
    },
    "executionInfo": {
     "elapsed": 6,
     "status": "ok",
     "timestamp": 1672570136947,
     "user": {
      "displayName": "송영숙",
      "userId": "01138230862948206591"
     },
     "user_tz": -540
    },
    "id": "JaaV4x1AsQY5",
    "outputId": "c1876702-a2af-4bf6-b3f6-f537f69a8453"
   },
   "outputs": [
    {
     "data": {
      "text/plain": [
       "((1710,), (428,), (1710, 3), (428, 3))"
      ]
     },
     "execution_count": 9,
     "metadata": {},
     "output_type": "execute_result"
    }
   ],
   "source": [
    "# train_test_split 으로 학습과 예측에 사용할 데이터를 나누기\n",
    "# 정답값은 y_onehot 으로 지정\n",
    "from sklearn.model_selection import train_test_split\n",
    "\n",
    "X_train, X_test, y_train, y_test = train_test_split(\n",
    "    X, y_onehot, test_size=0.2, random_state=42, stratify=y_onehot)\n",
    "\n",
    "X_train.shape, X_test.shape, y_train.shape, y_test.shape"
   ]
  },
  {
   "cell_type": "code",
   "execution_count": 10,
   "metadata": {
    "colab": {
     "base_uri": "https://localhost:8080/",
     "height": 424
    },
    "executionInfo": {
     "elapsed": 5,
     "status": "ok",
     "timestamp": 1672570136947,
     "user": {
      "displayName": "송영숙",
      "userId": "01138230862948206591"
     },
     "user_tz": -540
    },
    "id": "3b6cgFaJsQY6",
    "outputId": "6c1294ed-a969-4d5a-d671-2618468a039f"
   },
   "outputs": [
    {
     "data": {
      "text/html": [
       "<div>\n",
       "<style scoped>\n",
       "    .dataframe tbody tr th:only-of-type {\n",
       "        vertical-align: middle;\n",
       "    }\n",
       "\n",
       "    .dataframe tbody tr th {\n",
       "        vertical-align: top;\n",
       "    }\n",
       "\n",
       "    .dataframe thead th {\n",
       "        text-align: right;\n",
       "    }\n",
       "</style>\n",
       "<table border=\"1\" class=\"dataframe\">\n",
       "  <thead>\n",
       "    <tr style=\"text-align: right;\">\n",
       "      <th></th>\n",
       "      <th>경제</th>\n",
       "      <th>복지</th>\n",
       "      <th>행정</th>\n",
       "    </tr>\n",
       "  </thead>\n",
       "  <tbody>\n",
       "    <tr>\n",
       "      <th>2052</th>\n",
       "      <td>0</td>\n",
       "      <td>0</td>\n",
       "      <td>1</td>\n",
       "    </tr>\n",
       "    <tr>\n",
       "      <th>2594</th>\n",
       "      <td>1</td>\n",
       "      <td>0</td>\n",
       "      <td>0</td>\n",
       "    </tr>\n",
       "    <tr>\n",
       "      <th>1061</th>\n",
       "      <td>0</td>\n",
       "      <td>0</td>\n",
       "      <td>1</td>\n",
       "    </tr>\n",
       "    <tr>\n",
       "      <th>78</th>\n",
       "      <td>0</td>\n",
       "      <td>0</td>\n",
       "      <td>1</td>\n",
       "    </tr>\n",
       "    <tr>\n",
       "      <th>70</th>\n",
       "      <td>0</td>\n",
       "      <td>0</td>\n",
       "      <td>1</td>\n",
       "    </tr>\n",
       "    <tr>\n",
       "      <th>...</th>\n",
       "      <td>...</td>\n",
       "      <td>...</td>\n",
       "      <td>...</td>\n",
       "    </tr>\n",
       "    <tr>\n",
       "      <th>1571</th>\n",
       "      <td>1</td>\n",
       "      <td>0</td>\n",
       "      <td>0</td>\n",
       "    </tr>\n",
       "    <tr>\n",
       "      <th>1533</th>\n",
       "      <td>1</td>\n",
       "      <td>0</td>\n",
       "      <td>0</td>\n",
       "    </tr>\n",
       "    <tr>\n",
       "      <th>671</th>\n",
       "      <td>1</td>\n",
       "      <td>0</td>\n",
       "      <td>0</td>\n",
       "    </tr>\n",
       "    <tr>\n",
       "      <th>550</th>\n",
       "      <td>1</td>\n",
       "      <td>0</td>\n",
       "      <td>0</td>\n",
       "    </tr>\n",
       "    <tr>\n",
       "      <th>1239</th>\n",
       "      <td>0</td>\n",
       "      <td>0</td>\n",
       "      <td>1</td>\n",
       "    </tr>\n",
       "  </tbody>\n",
       "</table>\n",
       "<p>1710 rows × 3 columns</p>\n",
       "</div>"
      ],
      "text/plain": [
       "      경제  복지  행정\n",
       "2052   0   0   1\n",
       "2594   1   0   0\n",
       "1061   0   0   1\n",
       "78     0   0   1\n",
       "70     0   0   1\n",
       "...   ..  ..  ..\n",
       "1571   1   0   0\n",
       "1533   1   0   0\n",
       "671    1   0   0\n",
       "550    1   0   0\n",
       "1239   0   0   1\n",
       "\n",
       "[1710 rows x 3 columns]"
      ]
     },
     "execution_count": 10,
     "metadata": {},
     "output_type": "execute_result"
    }
   ],
   "source": [
    "y_train"
   ]
  },
  {
   "cell_type": "code",
   "execution_count": 11,
   "metadata": {},
   "outputs": [
    {
     "data": {
      "text/plain": [
       "경제    0.384795\n",
       "복지    0.101754\n",
       "행정    0.513450\n",
       "dtype: float64"
      ]
     },
     "metadata": {},
     "output_type": "display_data"
    },
    {
     "data": {
      "text/plain": [
       "경제    0.385514\n",
       "복지    0.100467\n",
       "행정    0.514019\n",
       "dtype: float64"
      ]
     },
     "metadata": {},
     "output_type": "display_data"
    }
   ],
   "source": [
    "display(y_train.mean())\n",
    "display(y_test.mean())"
   ]
  },
  {
   "cell_type": "markdown",
   "metadata": {
    "id": "5Vm0_ExvnAyN"
   },
   "source": [
    "## 벡터화\n",
    "### 토큰화\n",
    "\n",
    "1. 이 클래스를 사용하면 각 텍스트를 일련의 정수(각 정수는 사전에 있는 토큰의 인덱스임) 또는 단어 수에 따라 각 토큰의 계수가 이진일 수 있는 벡터로 변환하여 텍스트 말뭉치를 벡터화할 수 있습니다.(tf-idf 기반)\n",
    "\n",
    "2. 매개변수\n",
    "- num_words\n",
    ": 단어 빈도에 따라 유지할 최대 단어 수입니다. 가장 일반적인 단어 만 유지됩니다. \n",
    "-filters\n",
    ": 각 요소가 텍스트에서 필터링될 문자인 문자열입니다. 기본값은 문자를 제외한 모든 구두점과 탭 및 줄 바꿈 '입니다.\n",
    "- lower\n",
    ": 부울. 텍스트를 소문자로 변환할지 여부입니다.\n",
    "- split\n",
    ": str. 단어 분할을 위한 구분 기호입니다.\n",
    "- char_level\n",
    ": True이면 모든 문자가 토큰으로 처리됩니다.\n",
    "- oov_token\n",
    ": 주어진 경우, 그것은 word_index에 추가되고 text_to_sequence 호출 중에 어휘 밖의 단어를 대체하는 데 사용됩니다.\n",
    "\n",
    "3. 벡터화 과정\n",
    "- Tokenizer 인스턴스를 생성\n",
    "- fit_on_texts와 word_index를 사용하여 key value로 이루어진 딕셔너리를 생성\n",
    "- texts_to_sequences를 이용하여 text 문장을 숫자로 이루어진 리스트로 변경\n",
    "- 마지막으로 pad_sequences를 이용하여 리스트의 길이를 통일화\n",
    "\n",
    "\n",
    "* API Document: https://www.tensorflow.org/api_docs/python/tf/keras/preprocessing/text/Tokenizer"
   ]
  },
  {
   "cell_type": "markdown",
   "metadata": {
    "id": "pSbB7fNT48FC"
   },
   "source": [
    "### 시퀀스 만들기"
   ]
  },
  {
   "cell_type": "code",
   "execution_count": null,
   "metadata": {
    "executionInfo": {
     "elapsed": 3064,
     "status": "ok",
     "timestamp": 1672570140007,
     "user": {
      "displayName": "송영숙",
      "userId": "01138230862948206591"
     },
     "user_tz": -540
    },
    "id": "hbUdn24iZ0JI",
    "scrolled": true
   },
   "outputs": [],
   "source": [
    "from tensorflow.keras.preprocessing.text import Tokenizer"
   ]
  },
  {
   "cell_type": "code",
   "execution_count": 13,
   "metadata": {
    "colab": {
     "base_uri": "https://localhost:8080/"
    },
    "executionInfo": {
     "elapsed": 5,
     "status": "ok",
     "timestamp": 1672570140007,
     "user": {
      "displayName": "송영숙",
      "userId": "01138230862948206591"
     },
     "user_tz": -540
    },
    "id": "0fkbfHCwrYbl",
    "outputId": "20056eeb-89c7-4a01-af3b-017f986a9873"
   },
   "outputs": [
    {
     "data": {
      "text/plain": [
       "<keras.preprocessing.text.Tokenizer at 0x13c018cd0>"
      ]
     },
     "execution_count": 13,
     "metadata": {},
     "output_type": "execute_result"
    }
   ],
   "source": [
    "# Tokenizer 는 데이터에 출현하는 모든 단어의 개수를 세고 빈도 수로 정렬해서 \n",
    "# num_words 에 지정된 만큼만 숫자로 반환하고, 나머지는 0 으로 반환\n",
    "# 단어 사전의 크기를 지정해 주기 위해 vocab_size를 지정\n",
    "# vocab_size는 텍스트 데이터의 전체 단어 집합의 크기\n",
    "\n",
    "vocab_size = 1000\n",
    "oov_tok = \"<oov>\"\n",
    "tokenizer = Tokenizer(num_words=vocab_size, oov_token = oov_tok)\n",
    "tokenizer"
   ]
  },
  {
   "cell_type": "code",
   "execution_count": 14,
   "metadata": {
    "executionInfo": {
     "elapsed": 472,
     "status": "ok",
     "timestamp": 1672570140476,
     "user": {
      "displayName": "송영숙",
      "userId": "01138230862948206591"
     },
     "user_tz": -540
    },
    "id": "qH1gu3mIlFiD"
   },
   "outputs": [],
   "source": [
    "# Tokenizer 에 데이터 실제로 입력합니다.\n",
    "# fit_on_texts와 word_index를 사용하여 key value로 이루어진 딕셔너리를 생성\n",
    "tokenizer.fit_on_texts(X_train)"
   ]
  },
  {
   "cell_type": "code",
   "execution_count": 15,
   "metadata": {
    "colab": {
     "base_uri": "https://localhost:8080/"
    },
    "executionInfo": {
     "elapsed": 6,
     "status": "ok",
     "timestamp": 1672570140477,
     "user": {
      "displayName": "송영숙",
      "userId": "01138230862948206591"
     },
     "user_tz": -540
    },
    "id": "71WWs9WVrlXD",
    "outputId": "c1a32570-257b-4c89-e8e2-cb1ff136ee15"
   },
   "outputs": [
    {
     "data": {
      "text/plain": [
       "[\"'\",\n",
       " \"'25시\",\n",
       " \"'경복궁\",\n",
       " \"'관리주체는\",\n",
       " \"'기타운동시설운용업'의\",\n",
       " \"'노원'\",\n",
       " \"'당해\",\n",
       " \"'불허용도'란\",\n",
       " \"'새랑'의\",\n",
       " \"'성공창업\"]"
      ]
     },
     "execution_count": 15,
     "metadata": {},
     "output_type": "execute_result"
    }
   ],
   "source": [
    "# tokenizer의 word_index 속성은 단어와 숫자의 키-값 쌍을 포함하는 딕셔너리를 반환\n",
    "# 이때, 반환 시 자동으로 소문자로 변환되어 들어가며, 느낌표나 마침표 같은 구두점은 자동으로 제거\n",
    "# 각 인덱스에 해당하는 단어가 무엇인지 확인\n",
    "\n",
    "word_to_index = tokenizer.word_index\n",
    "sorted(word_to_index)[:10]"
   ]
  },
  {
   "cell_type": "code",
   "execution_count": 16,
   "metadata": {
    "colab": {
     "base_uri": "https://localhost:8080/"
    },
    "executionInfo": {
     "elapsed": 5,
     "status": "ok",
     "timestamp": 1672570140477,
     "user": {
      "displayName": "송영숙",
      "userId": "01138230862948206591"
     },
     "user_tz": -540
    },
    "id": "TSypRjUdsEB0",
    "outputId": "6409e9e3-eb42-4252-aba8-0724d8fa4b34",
    "scrolled": true
   },
   "outputs": [
    {
     "data": {
      "text/plain": [
       "[('우리아이의', 2), ('배정', 11), ('초등학교를', 2), ('알고', 45), ('싶어요', 7)]"
      ]
     },
     "execution_count": 16,
     "metadata": {},
     "output_type": "execute_result"
    }
   ],
   "source": [
    "# 단어별 빈도수를 확인\n",
    "list(tokenizer.word_counts.items())[:5]"
   ]
  },
  {
   "cell_type": "code",
   "execution_count": 17,
   "metadata": {
    "colab": {
     "base_uri": "https://localhost:8080/",
     "height": 327
    },
    "executionInfo": {
     "elapsed": 2084,
     "status": "ok",
     "timestamp": 1672570142558,
     "user": {
      "displayName": "송영숙",
      "userId": "01138230862948206591"
     },
     "user_tz": -540
    },
    "id": "-481DN7osWEX",
    "outputId": "e0dc381b-f782-43cc-f6c7-7e362486d749"
   },
   "outputs": [
    {
     "data": {
      "text/html": [
       "<div>\n",
       "<style scoped>\n",
       "    .dataframe tbody tr th:only-of-type {\n",
       "        vertical-align: middle;\n",
       "    }\n",
       "\n",
       "    .dataframe tbody tr th {\n",
       "        vertical-align: top;\n",
       "    }\n",
       "\n",
       "    .dataframe thead th {\n",
       "        text-align: right;\n",
       "    }\n",
       "</style>\n",
       "<table border=\"1\" class=\"dataframe\">\n",
       "  <thead>\n",
       "    <tr style=\"text-align: right;\">\n",
       "      <th></th>\n",
       "      <th>243</th>\n",
       "      <th>1341</th>\n",
       "      <th>73</th>\n",
       "      <th>460</th>\n",
       "      <th>204</th>\n",
       "      <th>245</th>\n",
       "      <th>69</th>\n",
       "      <th>137</th>\n",
       "      <th>194</th>\n",
       "      <th>533</th>\n",
       "      <th>...</th>\n",
       "      <th>16513</th>\n",
       "      <th>16512</th>\n",
       "      <th>16511</th>\n",
       "      <th>16510</th>\n",
       "      <th>16508</th>\n",
       "      <th>16507</th>\n",
       "      <th>16503</th>\n",
       "      <th>16502</th>\n",
       "      <th>16501</th>\n",
       "      <th>36508</th>\n",
       "    </tr>\n",
       "  </thead>\n",
       "  <tbody>\n",
       "    <tr>\n",
       "      <th>단어</th>\n",
       "      <td>및</td>\n",
       "      <td>돋움</td>\n",
       "      <td>수</td>\n",
       "      <td>경우</td>\n",
       "      <td>또는</td>\n",
       "      <td>등</td>\n",
       "      <td>있는</td>\n",
       "      <td>년</td>\n",
       "      <td>월</td>\n",
       "      <td>있습니다</td>\n",
       "      <td>...</td>\n",
       "      <td>궁내동</td>\n",
       "      <td>분당구</td>\n",
       "      <td>한국기기유화시험연구원</td>\n",
       "      <td>놀이시설팀</td>\n",
       "      <td>가산디지털로</td>\n",
       "      <td>제정되어</td>\n",
       "      <td>검사입니다</td>\n",
       "      <td>안전검사기관으로</td>\n",
       "      <td>시설및</td>\n",
       "      <td>설치하는가</td>\n",
       "    </tr>\n",
       "    <tr>\n",
       "      <th>빈도수</th>\n",
       "      <td>1455</td>\n",
       "      <td>1110</td>\n",
       "      <td>771</td>\n",
       "      <td>593</td>\n",
       "      <td>550</td>\n",
       "      <td>547</td>\n",
       "      <td>411</td>\n",
       "      <td>398</td>\n",
       "      <td>379</td>\n",
       "      <td>378</td>\n",
       "      <td>...</td>\n",
       "      <td>1</td>\n",
       "      <td>1</td>\n",
       "      <td>1</td>\n",
       "      <td>1</td>\n",
       "      <td>1</td>\n",
       "      <td>1</td>\n",
       "      <td>1</td>\n",
       "      <td>1</td>\n",
       "      <td>1</td>\n",
       "      <td>1</td>\n",
       "    </tr>\n",
       "  </tbody>\n",
       "</table>\n",
       "<p>2 rows × 36509 columns</p>\n",
       "</div>"
      ],
      "text/plain": [
       "    243   1341  73    460   204   245   69    137   194   533    ... 16513  \\\n",
       "단어      및    돋움     수    경우    또는     등    있는     년     월  있습니다  ...   궁내동   \n",
       "빈도수  1455  1110   771   593   550   547   411   398   379   378  ...     1   \n",
       "\n",
       "    16512        16511  16510   16508 16507  16503     16502 16501  36508  \n",
       "단어    분당구  한국기기유화시험연구원  놀이시설팀  가산디지털로  제정되어  검사입니다  안전검사기관으로   시설및  설치하는가  \n",
       "빈도수     1            1      1       1     1      1         1     1      1  \n",
       "\n",
       "[2 rows x 36509 columns]"
      ]
     },
     "execution_count": 17,
     "metadata": {},
     "output_type": "execute_result"
    }
   ],
   "source": [
    "# 단어별 빈도수를 확인\n",
    "word_df = pd.DataFrame(tokenizer.word_counts.items(), columns = ['단어', '빈도수'])\n",
    "word_df.sort_values(by=\"빈도수\", ascending=False).T"
   ]
  },
  {
   "cell_type": "code",
   "execution_count": 18,
   "metadata": {
    "executionInfo": {
     "elapsed": 617,
     "status": "ok",
     "timestamp": 1672570143171,
     "user": {
      "displayName": "송영숙",
      "userId": "01138230862948206591"
     },
     "user_tz": -540
    },
    "id": "drtrcSCkZ0JL"
   },
   "outputs": [],
   "source": [
    "# texts_to_sequences를 이용하여 text 문장을 숫자로 이루어진 리스트로 변경\n",
    "train_sequences = tokenizer.texts_to_sequences(X_train)\n",
    "test_sequences = tokenizer.texts_to_sequences(X_test)"
   ]
  },
  {
   "cell_type": "markdown",
   "metadata": {
    "id": "MF24eCgKbBS6"
   },
   "source": [
    "## 패딩(Padding)\n",
    "\n",
    "* API Document: https://www.tensorflow.org/tutorials/keras/text_classification"
   ]
  },
  {
   "cell_type": "code",
   "execution_count": 19,
   "metadata": {
    "colab": {
     "base_uri": "https://localhost:8080/"
    },
    "executionInfo": {
     "elapsed": 6,
     "status": "ok",
     "timestamp": 1672570143172,
     "user": {
      "displayName": "송영숙",
      "userId": "01138230862948206591"
     },
     "user_tz": -540
    },
    "id": "cemv0J0dbF2h",
    "outputId": "9bab769f-655e-405e-84fc-9a6f48ea312d"
   },
   "outputs": [
    {
     "name": "stdout",
     "output_type": "stream",
     "text": [
      "(1710,)\n"
     ]
    }
   ],
   "source": [
    "# 독립변수를 전처리합니다. \n",
    "# 문장의 길이가 제각각인 벡터의 크기를 패딩 작업을 통해 나머지 빈 공간을 0으로 채움\n",
    "# max_length는 패딩의 기준이 됨\n",
    "# padding_type='post' 는 패딩을 앞(기본값)이 아닌 뒤('post')에 채움\n",
    "from tensorflow.keras.preprocessing.sequence import pad_sequences\n",
    "\n",
    "max_length = 500\n",
    "padding_type = \"post\"\n",
    "# padding_type = \"pre\"\n",
    "\n",
    "X_train_sp = pad_sequences(train_sequences, padding=padding_type, maxlen=max_length)\n",
    "X_test_sp = pad_sequences(test_sequences, padding=padding_type, maxlen=max_length)\n",
    "\n",
    "\n",
    "print(X_train.shape)"
   ]
  },
  {
   "cell_type": "markdown",
   "metadata": {
    "id": "uInDm3wobb5v"
   },
   "source": [
    "## 모델 만들기\n",
    "\n",
    "### simple RNN\n",
    "\n",
    "* API Document: https://www.tensorflow.org/guide/keras/rnn\n",
    "* API Document: https://www.tensorflow.org/api_docs/python/tf/keras/layers/SimpleRNNCell"
   ]
  },
  {
   "cell_type": "code",
   "execution_count": 20,
   "metadata": {
    "executionInfo": {
     "elapsed": 5,
     "status": "ok",
     "timestamp": 1672570143172,
     "user": {
      "displayName": "송영숙",
      "userId": "01138230862948206591"
     },
     "user_tz": -540
    },
    "id": "yUGUYDs1Z0JM"
   },
   "outputs": [],
   "source": [
    "from tensorflow.keras import Sequential\n",
    "from tensorflow.keras.layers import Dense, Embedding, SimpleRNN, GRU, Bidirectional, LSTM, Dropout, BatchNormalization"
   ]
  },
  {
   "cell_type": "code",
   "execution_count": 21,
   "metadata": {
    "executionInfo": {
     "elapsed": 5,
     "status": "ok",
     "timestamp": 1672570143172,
     "user": {
      "displayName": "송영숙",
      "userId": "01138230862948206591"
     },
     "user_tz": -540
    },
    "id": "MbtT1Vdebei7"
   },
   "outputs": [],
   "source": [
    "# 하이퍼파라미터(모델링할 때 사용자가 직접 세팅해주는 값)을 설정\n",
    "# vocab_size는 텍스트 데이터의 전체 단어 집합의 크기\n",
    "# embedding_dim는 임베딩 할 벡터의 차원\n",
    "# max_length는 패딩의 기준\n",
    "\n",
    "embedding_dim = 64"
   ]
  },
  {
   "cell_type": "code",
   "execution_count": 22,
   "metadata": {
    "colab": {
     "base_uri": "https://localhost:8080/"
    },
    "executionInfo": {
     "elapsed": 4,
     "status": "ok",
     "timestamp": 1672570143172,
     "user": {
      "displayName": "송영숙",
      "userId": "01138230862948206591"
     },
     "user_tz": -540
    },
    "id": "ATWh1mLDZ0JN",
    "outputId": "bbbf53d1-b7a7-4e48-c474-a37917b6d629"
   },
   "outputs": [
    {
     "data": {
      "text/plain": [
       "3"
      ]
     },
     "execution_count": 22,
     "metadata": {},
     "output_type": "execute_result"
    }
   ],
   "source": [
    "# 클래스의 수는 분류될 예측값의 종류\n",
    "# 정답값이 one-hot 형태로 인코딩 되어 있기 때문에 정답값의 컬럼의 수가 예측값의 종류가 됨\n",
    "n_class = y_train.shape[1]\n",
    "n_class"
   ]
  },
  {
   "cell_type": "markdown",
   "metadata": {
    "id": "V3OJM7Nv6eYu"
   },
   "source": [
    "## Bidirectional RNN"
   ]
  },
  {
   "cell_type": "code",
   "execution_count": null,
   "metadata": {
    "executionInfo": {
     "elapsed": 3207,
     "status": "ok",
     "timestamp": 1672570146376,
     "user": {
      "displayName": "송영숙",
      "userId": "01138230862948206591"
     },
     "user_tz": -540
    },
    "id": "O9RwuUKIsQY-"
   },
   "outputs": [],
   "source": [
    "model = Sequential([\n",
    "    Embedding(input_dim=vocab_size, output_dim=embedding_dim, input_length=max_length),\n",
    "    Bidirectional(LSTM(units=64, return_sequences=True)),\n",
    "    BatchNormalization(),\n",
    "    Bidirectional(LSTM(units=32)),\n",
    "    Dropout(0.2),\n",
    "    Dense(units=16, activation='relu'),\n",
    "    Dense(units=n_class, activation='softmax')\n",
    "])"
   ]
  },
  {
   "cell_type": "markdown",
   "metadata": {
    "id": "YBglNGeFZ0JN"
   },
   "source": [
    "* https://www.tensorflow.org/guide/keras/rnn#%EC%96%91%EB%B0%A9%ED%96%A5_rnn"
   ]
  },
  {
   "cell_type": "markdown",
   "metadata": {
    "id": "2bbId7zpZ0JN"
   },
   "source": [
    "### Bidirectional LSTM\n",
    "\n",
    "<img src=\"https://upload.wikimedia.org/wikipedia/commons/thumb/6/63/Long_Short-Term_Memory.svg/1600px-Long_Short-Term_Memory.svg.png\" width=\"400\">\n",
    "\n",
    "* 출처 : https://ko.wikipedia.org/wiki/%EC%88%9C%ED%99%98_%EC%8B%A0%EA%B2%BD%EB%A7%9D\n",
    "\n",
    "* API Document: https://www.tensorflow.org/api_docs/python/tf/keras/layers/Bidirectional"
   ]
  },
  {
   "cell_type": "markdown",
   "metadata": {
    "id": "MJi6uCatI54I"
   },
   "source": [
    "### GRU\n",
    "\n",
    "<img src=\"https://upload.wikimedia.org/wikipedia/commons/thumb/3/37/Gated_Recurrent_Unit%2C_base_type.svg/440px-Gated_Recurrent_Unit%2C_base_type.svg.png\" width=\"400\">\n",
    "\n",
    "* API Document: https://www.tensorflow.org/api_docs/python/tf/keras/layers/GRU"
   ]
  },
  {
   "cell_type": "markdown",
   "metadata": {
    "id": "TD6brH6LZ0JN"
   },
   "source": [
    "## 모델 컴파일"
   ]
  },
  {
   "cell_type": "code",
   "execution_count": 24,
   "metadata": {
    "colab": {
     "base_uri": "https://localhost:8080/"
    },
    "executionInfo": {
     "elapsed": 8,
     "status": "ok",
     "timestamp": 1672570146377,
     "user": {
      "displayName": "송영숙",
      "userId": "01138230862948206591"
     },
     "user_tz": -540
    },
    "id": "_uYPV_gbZ0JO",
    "outputId": "d4cd7acb-0e78-49c5-ddb7-57916cf27a32"
   },
   "outputs": [
    {
     "name": "stdout",
     "output_type": "stream",
     "text": [
      "Model: \"sequential\"\n",
      "_________________________________________________________________\n",
      " Layer (type)                Output Shape              Param #   \n",
      "=================================================================\n",
      " embedding (Embedding)       (None, 500, 64)           64000     \n",
      "                                                                 \n",
      " bidirectional (Bidirectiona  (None, 500, 128)         66048     \n",
      " l)                                                              \n",
      "                                                                 \n",
      " batch_normalization (BatchN  (None, 500, 128)         512       \n",
      " ormalization)                                                   \n",
      "                                                                 \n",
      " bidirectional_1 (Bidirectio  (None, 64)               41216     \n",
      " nal)                                                            \n",
      "                                                                 \n",
      " dropout (Dropout)           (None, 64)                0         \n",
      "                                                                 \n",
      " dense (Dense)               (None, 16)                1040      \n",
      "                                                                 \n",
      " dense_1 (Dense)             (None, 3)                 51        \n",
      "                                                                 \n",
      "=================================================================\n",
      "Total params: 172,867\n",
      "Trainable params: 172,611\n",
      "Non-trainable params: 256\n",
      "_________________________________________________________________\n"
     ]
    }
   ],
   "source": [
    "# 여러개 정답 중 하나 맞추는 문제이며, 정답값이 one-hot 형태이기 때문에\n",
    "# 손실 함수는 categorical_crossentropy를 사용\n",
    "model.compile(loss='categorical_crossentropy',\n",
    "              optimizer= 'adam',\n",
    "              metrics = ['accuracy']) \n",
    "model.summary()"
   ]
  },
  {
   "cell_type": "markdown",
   "metadata": {
    "id": "K6Z8ZNu-Z0JO"
   },
   "source": [
    "## 학습"
   ]
  },
  {
   "cell_type": "code",
   "execution_count": null,
   "metadata": {
    "executionInfo": {
     "elapsed": 5,
     "status": "ok",
     "timestamp": 1672570146377,
     "user": {
      "displayName": "송영숙",
      "userId": "01138230862948206591"
     },
     "user_tz": -540
    },
    "id": "GrK3Wa0VsQZA"
   },
   "outputs": [],
   "source": [
    "from tensorflow.keras.callbacks import EarlyStopping\n",
    "early_stop = EarlyStopping(monitor='val_loss', patience=5)"
   ]
  },
  {
   "cell_type": "code",
   "execution_count": 26,
   "metadata": {
    "colab": {
     "base_uri": "https://localhost:8080/"
    },
    "executionInfo": {
     "elapsed": 369564,
     "status": "ok",
     "timestamp": 1672570515936,
     "user": {
      "displayName": "송영숙",
      "userId": "01138230862948206591"
     },
     "user_tz": -540
    },
    "id": "cj9vQS6msQZA",
    "outputId": "74f969cc-c6b8-4ed5-bb4d-aceb8384d182"
   },
   "outputs": [
    {
     "name": "stdout",
     "output_type": "stream",
     "text": [
      "Epoch 1/100\n",
      "22/22 [==============================] - 35s 1s/step - loss: 1.0296 - accuracy: 0.4196 - val_loss: 1.0839 - val_accuracy: 0.4942\n",
      "Epoch 2/100\n",
      "22/22 [==============================] - 31s 1s/step - loss: 0.9399 - accuracy: 0.5219 - val_loss: 1.0683 - val_accuracy: 0.4942\n",
      "Epoch 3/100\n",
      "22/22 [==============================] - 39s 2s/step - loss: 0.9089 - accuracy: 0.5607 - val_loss: 1.0555 - val_accuracy: 0.5029\n",
      "Epoch 4/100\n",
      "22/22 [==============================] - 32s 1s/step - loss: 0.7903 - accuracy: 0.6703 - val_loss: 1.0194 - val_accuracy: 0.6696\n",
      "Epoch 5/100\n",
      "22/22 [==============================] - 35s 2s/step - loss: 0.6866 - accuracy: 0.7368 - val_loss: 0.9811 - val_accuracy: 0.6404\n",
      "Epoch 6/100\n",
      "22/22 [==============================] - 36s 2s/step - loss: 0.6071 - accuracy: 0.7624 - val_loss: 0.9511 - val_accuracy: 0.6696\n",
      "Epoch 7/100\n",
      "22/22 [==============================] - 40s 2s/step - loss: 0.5322 - accuracy: 0.7990 - val_loss: 0.9164 - val_accuracy: 0.6404\n",
      "Epoch 8/100\n",
      "22/22 [==============================] - 33s 1s/step - loss: 0.4790 - accuracy: 0.8077 - val_loss: 0.9318 - val_accuracy: 0.6140\n",
      "Epoch 9/100\n",
      "22/22 [==============================] - 36s 2s/step - loss: 0.4375 - accuracy: 0.8246 - val_loss: 0.8662 - val_accuracy: 0.6930\n",
      "Epoch 10/100\n",
      "22/22 [==============================] - 36s 2s/step - loss: 0.3539 - accuracy: 0.8699 - val_loss: 0.8349 - val_accuracy: 0.6754\n",
      "Epoch 11/100\n",
      "22/22 [==============================] - 41s 2s/step - loss: 0.2890 - accuracy: 0.8984 - val_loss: 0.7983 - val_accuracy: 0.6404\n",
      "Epoch 12/100\n",
      "22/22 [==============================] - 40s 2s/step - loss: 0.2757 - accuracy: 0.9064 - val_loss: 0.7979 - val_accuracy: 0.6637\n",
      "Epoch 13/100\n",
      "22/22 [==============================] - 48s 2s/step - loss: 0.2286 - accuracy: 0.9276 - val_loss: 0.8569 - val_accuracy: 0.5965\n",
      "Epoch 14/100\n",
      "22/22 [==============================] - 50s 2s/step - loss: 0.2212 - accuracy: 0.9174 - val_loss: 0.7655 - val_accuracy: 0.6579\n",
      "Epoch 15/100\n",
      "22/22 [==============================] - 43s 2s/step - loss: 0.1670 - accuracy: 0.9408 - val_loss: 1.0504 - val_accuracy: 0.5760\n",
      "Epoch 16/100\n",
      "22/22 [==============================] - 32s 1s/step - loss: 0.1392 - accuracy: 0.9496 - val_loss: 0.8139 - val_accuracy: 0.6608\n",
      "Epoch 17/100\n",
      "22/22 [==============================] - 35s 2s/step - loss: 0.1242 - accuracy: 0.9598 - val_loss: 0.8995 - val_accuracy: 0.6462\n",
      "Epoch 18/100\n",
      "22/22 [==============================] - 36s 2s/step - loss: 0.1424 - accuracy: 0.9459 - val_loss: 0.9287 - val_accuracy: 0.6608\n",
      "Epoch 19/100\n",
      "22/22 [==============================] - 30s 1s/step - loss: 0.1080 - accuracy: 0.9583 - val_loss: 1.0117 - val_accuracy: 0.6520\n"
     ]
    }
   ],
   "source": [
    "# 모델 학습을 실행\n",
    "history = model.fit(X_train_sp, y_train, \n",
    "                    epochs=100, batch_size=64, callbacks=early_stop, validation_split=0.2,\n",
    "                    use_multiprocessing=True)  "
   ]
  },
  {
   "cell_type": "code",
   "execution_count": 27,
   "metadata": {
    "executionInfo": {
     "elapsed": 19,
     "status": "ok",
     "timestamp": 1672570515936,
     "user": {
      "displayName": "송영숙",
      "userId": "01138230862948206591"
     },
     "user_tz": -540
    },
    "id": "LMnumSxuZ0JO"
   },
   "outputs": [],
   "source": [
    "# 모델 학습의 결과값을 데이터 프레임으로 만들어 확인\n",
    "df_hist = pd.DataFrame(history.history)"
   ]
  },
  {
   "cell_type": "code",
   "execution_count": 28,
   "metadata": {
    "colab": {
     "base_uri": "https://localhost:8080/",
     "height": 394
    },
    "executionInfo": {
     "elapsed": 12,
     "status": "ok",
     "timestamp": 1672570515937,
     "user": {
      "displayName": "송영숙",
      "userId": "01138230862948206591"
     },
     "user_tz": -540
    },
    "id": "MCU7v3_Ec5eA",
    "outputId": "0db45cb4-1c79-40cb-cb9b-ac78c67107b3"
   },
   "outputs": [
    {
     "data": {
      "text/html": [
       "<div>\n",
       "<style scoped>\n",
       "    .dataframe tbody tr th:only-of-type {\n",
       "        vertical-align: middle;\n",
       "    }\n",
       "\n",
       "    .dataframe tbody tr th {\n",
       "        vertical-align: top;\n",
       "    }\n",
       "\n",
       "    .dataframe thead th {\n",
       "        text-align: right;\n",
       "    }\n",
       "</style>\n",
       "<table border=\"1\" class=\"dataframe\">\n",
       "  <thead>\n",
       "    <tr style=\"text-align: right;\">\n",
       "      <th></th>\n",
       "      <th>loss</th>\n",
       "      <th>accuracy</th>\n",
       "      <th>val_loss</th>\n",
       "      <th>val_accuracy</th>\n",
       "    </tr>\n",
       "  </thead>\n",
       "  <tbody>\n",
       "    <tr>\n",
       "      <th>0</th>\n",
       "      <td>1.029561</td>\n",
       "      <td>0.419591</td>\n",
       "      <td>1.083869</td>\n",
       "      <td>0.494152</td>\n",
       "    </tr>\n",
       "    <tr>\n",
       "      <th>1</th>\n",
       "      <td>0.939884</td>\n",
       "      <td>0.521930</td>\n",
       "      <td>1.068267</td>\n",
       "      <td>0.494152</td>\n",
       "    </tr>\n",
       "    <tr>\n",
       "      <th>2</th>\n",
       "      <td>0.908941</td>\n",
       "      <td>0.560673</td>\n",
       "      <td>1.055508</td>\n",
       "      <td>0.502924</td>\n",
       "    </tr>\n",
       "    <tr>\n",
       "      <th>3</th>\n",
       "      <td>0.790296</td>\n",
       "      <td>0.670322</td>\n",
       "      <td>1.019422</td>\n",
       "      <td>0.669591</td>\n",
       "    </tr>\n",
       "    <tr>\n",
       "      <th>4</th>\n",
       "      <td>0.686628</td>\n",
       "      <td>0.736842</td>\n",
       "      <td>0.981123</td>\n",
       "      <td>0.640351</td>\n",
       "    </tr>\n",
       "    <tr>\n",
       "      <th>5</th>\n",
       "      <td>0.607115</td>\n",
       "      <td>0.762427</td>\n",
       "      <td>0.951119</td>\n",
       "      <td>0.669591</td>\n",
       "    </tr>\n",
       "    <tr>\n",
       "      <th>6</th>\n",
       "      <td>0.532195</td>\n",
       "      <td>0.798977</td>\n",
       "      <td>0.916393</td>\n",
       "      <td>0.640351</td>\n",
       "    </tr>\n",
       "    <tr>\n",
       "      <th>7</th>\n",
       "      <td>0.478977</td>\n",
       "      <td>0.807749</td>\n",
       "      <td>0.931836</td>\n",
       "      <td>0.614035</td>\n",
       "    </tr>\n",
       "    <tr>\n",
       "      <th>8</th>\n",
       "      <td>0.437454</td>\n",
       "      <td>0.824561</td>\n",
       "      <td>0.866190</td>\n",
       "      <td>0.692982</td>\n",
       "    </tr>\n",
       "    <tr>\n",
       "      <th>9</th>\n",
       "      <td>0.353886</td>\n",
       "      <td>0.869883</td>\n",
       "      <td>0.834920</td>\n",
       "      <td>0.675439</td>\n",
       "    </tr>\n",
       "    <tr>\n",
       "      <th>10</th>\n",
       "      <td>0.288987</td>\n",
       "      <td>0.898392</td>\n",
       "      <td>0.798291</td>\n",
       "      <td>0.640351</td>\n",
       "    </tr>\n",
       "    <tr>\n",
       "      <th>11</th>\n",
       "      <td>0.275687</td>\n",
       "      <td>0.906433</td>\n",
       "      <td>0.797923</td>\n",
       "      <td>0.663743</td>\n",
       "    </tr>\n",
       "    <tr>\n",
       "      <th>12</th>\n",
       "      <td>0.228638</td>\n",
       "      <td>0.927632</td>\n",
       "      <td>0.856894</td>\n",
       "      <td>0.596491</td>\n",
       "    </tr>\n",
       "    <tr>\n",
       "      <th>13</th>\n",
       "      <td>0.221214</td>\n",
       "      <td>0.917398</td>\n",
       "      <td>0.765498</td>\n",
       "      <td>0.657895</td>\n",
       "    </tr>\n",
       "    <tr>\n",
       "      <th>14</th>\n",
       "      <td>0.167045</td>\n",
       "      <td>0.940789</td>\n",
       "      <td>1.050420</td>\n",
       "      <td>0.576023</td>\n",
       "    </tr>\n",
       "    <tr>\n",
       "      <th>15</th>\n",
       "      <td>0.139150</td>\n",
       "      <td>0.949561</td>\n",
       "      <td>0.813878</td>\n",
       "      <td>0.660819</td>\n",
       "    </tr>\n",
       "    <tr>\n",
       "      <th>16</th>\n",
       "      <td>0.124235</td>\n",
       "      <td>0.959795</td>\n",
       "      <td>0.899508</td>\n",
       "      <td>0.646199</td>\n",
       "    </tr>\n",
       "    <tr>\n",
       "      <th>17</th>\n",
       "      <td>0.142437</td>\n",
       "      <td>0.945906</td>\n",
       "      <td>0.928685</td>\n",
       "      <td>0.660819</td>\n",
       "    </tr>\n",
       "    <tr>\n",
       "      <th>18</th>\n",
       "      <td>0.108015</td>\n",
       "      <td>0.958333</td>\n",
       "      <td>1.011736</td>\n",
       "      <td>0.652047</td>\n",
       "    </tr>\n",
       "  </tbody>\n",
       "</table>\n",
       "</div>"
      ],
      "text/plain": [
       "        loss  accuracy  val_loss  val_accuracy\n",
       "0   1.029561  0.419591  1.083869      0.494152\n",
       "1   0.939884  0.521930  1.068267      0.494152\n",
       "2   0.908941  0.560673  1.055508      0.502924\n",
       "3   0.790296  0.670322  1.019422      0.669591\n",
       "4   0.686628  0.736842  0.981123      0.640351\n",
       "5   0.607115  0.762427  0.951119      0.669591\n",
       "6   0.532195  0.798977  0.916393      0.640351\n",
       "7   0.478977  0.807749  0.931836      0.614035\n",
       "8   0.437454  0.824561  0.866190      0.692982\n",
       "9   0.353886  0.869883  0.834920      0.675439\n",
       "10  0.288987  0.898392  0.798291      0.640351\n",
       "11  0.275687  0.906433  0.797923      0.663743\n",
       "12  0.228638  0.927632  0.856894      0.596491\n",
       "13  0.221214  0.917398  0.765498      0.657895\n",
       "14  0.167045  0.940789  1.050420      0.576023\n",
       "15  0.139150  0.949561  0.813878      0.660819\n",
       "16  0.124235  0.959795  0.899508      0.646199\n",
       "17  0.142437  0.945906  0.928685      0.660819\n",
       "18  0.108015  0.958333  1.011736      0.652047"
      ]
     },
     "execution_count": 28,
     "metadata": {},
     "output_type": "execute_result"
    }
   ],
   "source": [
    "# 모델 학습 결과을 그래프로 시각화\n",
    "df_hist"
   ]
  },
  {
   "cell_type": "code",
   "execution_count": 29,
   "metadata": {
    "colab": {
     "base_uri": "https://localhost:8080/",
     "height": 283
    },
    "executionInfo": {
     "elapsed": 11,
     "status": "ok",
     "timestamp": 1672570515937,
     "user": {
      "displayName": "송영숙",
      "userId": "01138230862948206591"
     },
     "user_tz": -540
    },
    "id": "ixIPPgKgZ0JP",
    "outputId": "544ea466-d8b6-4a72-afa0-d5f3bd667c81"
   },
   "outputs": [
    {
     "data": {
      "text/plain": [
       "<AxesSubplot: >"
      ]
     },
     "execution_count": 29,
     "metadata": {},
     "output_type": "execute_result"
    },
    {
     "data": {
      "image/png": "[encoded data removed]",
      "text/plain": [
       "<Figure size 640x480 with 1 Axes>"
      ]
     },
     "metadata": {},
     "output_type": "display_data"
    }
   ],
   "source": [
    "df_hist[[\"accuracy\", \"val_accuracy\"]].plot()"
   ]
  },
  {
   "cell_type": "code",
   "execution_count": 30,
   "metadata": {
    "colab": {
     "base_uri": "https://localhost:8080/",
     "height": 283
    },
    "executionInfo": {
     "elapsed": 495,
     "status": "ok",
     "timestamp": 1672570516425,
     "user": {
      "displayName": "송영숙",
      "userId": "01138230862948206591"
     },
     "user_tz": -540
    },
    "id": "uB6Dx0Xzty4U",
    "outputId": "0c0ad644-3cfd-4890-f59e-861f6dcd9dd9"
   },
   "outputs": [
    {
     "data": {
      "text/plain": [
       "<AxesSubplot: >"
      ]
     },
     "execution_count": 30,
     "metadata": {},
     "output_type": "execute_result"
    },
    {
     "data": {
      "image/png": "[encoded data removed]",
      "text/plain": [
       "<Figure size 640x480 with 1 Axes>"
      ]
     },
     "metadata": {},
     "output_type": "display_data"
    }
   ],
   "source": [
    "df_hist[[\"loss\", \"val_loss\"]].plot()"
   ]
  },
  {
   "cell_type": "markdown",
   "metadata": {
    "id": "OFpNLGzUZ0JP"
   },
   "source": [
    "## 예측"
   ]
  },
  {
   "cell_type": "code",
   "execution_count": 31,
   "metadata": {
    "colab": {
     "base_uri": "https://localhost:8080/"
    },
    "executionInfo": {
     "elapsed": 4729,
     "status": "ok",
     "timestamp": 1672570521151,
     "user": {
      "displayName": "송영숙",
      "userId": "01138230862948206591"
     },
     "user_tz": -540
    },
    "id": "o-jaBsHTt7Ri",
    "outputId": "927deaee-cebb-4676-bfc1-f3ad01d82382"
   },
   "outputs": [
    {
     "name": "stdout",
     "output_type": "stream",
     "text": [
      "14/14 [==============================] - 5s 275ms/step\n"
     ]
    },
    {
     "data": {
      "text/plain": [
       "array([[0.02138495, 0.01754523, 0.9610699 ],\n",
       "       [0.41765302, 0.12994365, 0.45240328],\n",
       "       [0.9705732 , 0.00836947, 0.02105728],\n",
       "       [0.9896534 , 0.00348728, 0.00685931],\n",
       "       [0.8280882 , 0.10654894, 0.06536286],\n",
       "       [0.22194865, 0.03383152, 0.74421984],\n",
       "       [0.5160765 , 0.06042129, 0.42350218],\n",
       "       [0.98538744, 0.00488452, 0.00972811],\n",
       "       [0.03315984, 0.02532461, 0.94151556],\n",
       "       [0.02035268, 0.04367943, 0.93596786]], dtype=float32)"
      ]
     },
     "execution_count": 31,
     "metadata": {},
     "output_type": "execute_result"
    }
   ],
   "source": [
    "# predict() 메서드로 모델 예측\n",
    "y_pred = model.predict(X_test_sp)\n",
    "y_pred[:10]"
   ]
  },
  {
   "cell_type": "markdown",
   "metadata": {
    "id": "CTE70dO3Z0JP"
   },
   "source": [
    "## 평가"
   ]
  },
  {
   "cell_type": "code",
   "execution_count": 32,
   "metadata": {
    "colab": {
     "base_uri": "https://localhost:8080/"
    },
    "executionInfo": {
     "elapsed": 7,
     "status": "ok",
     "timestamp": 1672570521151,
     "user": {
      "displayName": "송영숙",
      "userId": "01138230862948206591"
     },
     "user_tz": -540
    },
    "id": "iUvRhKTVuXFR",
    "outputId": "a3e7fc58-9164-453f-8511-be61611b9119"
   },
   "outputs": [
    {
     "data": {
      "text/plain": [
       "array([2, 2, 0, 0, 0, 2, 0, 0, 2, 2])"
      ]
     },
     "execution_count": 32,
     "metadata": {},
     "output_type": "execute_result"
    }
   ],
   "source": [
    "# numpy.argmax를 이용해 가장 큰 값의 인덱스들을 반환한 값(클래스 예측)을 y_predict에 할당\n",
    "y_predict = np.argmax(y_pred, axis=1)\n",
    "y_predict[:10]"
   ]
  },
  {
   "cell_type": "code",
   "execution_count": 33,
   "metadata": {
    "executionInfo": {
     "elapsed": 4,
     "status": "ok",
     "timestamp": 1672570521152,
     "user": {
      "displayName": "송영숙",
      "userId": "01138230862948206591"
     },
     "user_tz": -540
    },
    "id": "WaTm4zwMZ0JP"
   },
   "outputs": [],
   "source": [
    "# numpy.argmax를 이용해 가장 큰 값의 인덱스들을 반환한 값(클래스 예측)을 y_test_val에 할당\n",
    "y_test_val = np.argmax(y_test.values, axis=1)"
   ]
  },
  {
   "cell_type": "code",
   "execution_count": 34,
   "metadata": {
    "colab": {
     "base_uri": "https://localhost:8080/"
    },
    "executionInfo": {
     "elapsed": 527,
     "status": "ok",
     "timestamp": 1672570521675,
     "user": {
      "displayName": "송영숙",
      "userId": "01138230862948206591"
     },
     "user_tz": -540
    },
    "id": "tXe_vRQmZ0JP",
    "outputId": "9c6fe63f-0e74-49c4-92e2-0e6b8ae38496",
    "scrolled": true
   },
   "outputs": [
    {
     "data": {
      "text/plain": [
       "0.6588785046728972"
      ]
     },
     "execution_count": 34,
     "metadata": {},
     "output_type": "execute_result"
    }
   ],
   "source": [
    "# 실제값과 예측값을 비교하여 맞춘 값의 평균을 확인\n",
    "(y_test_val == y_predict).mean()"
   ]
  },
  {
   "cell_type": "code",
   "execution_count": 35,
   "metadata": {
    "colab": {
     "base_uri": "https://localhost:8080/"
    },
    "executionInfo": {
     "elapsed": 4895,
     "status": "ok",
     "timestamp": 1672570526567,
     "user": {
      "displayName": "송영숙",
      "userId": "01138230862948206591"
     },
     "user_tz": -540
    },
    "id": "LftFDAHXIIXM",
    "outputId": "45008066-fe7d-4026-9e68-f73b63acec6d",
    "scrolled": true
   },
   "outputs": [
    {
     "name": "stdout",
     "output_type": "stream",
     "text": [
      "14/14 [==============================] - 3s 178ms/step - loss: 1.0107 - accuracy: 0.6589\n"
     ]
    },
    {
     "data": {
      "text/plain": [
       "(1.010740041732788, 0.65887850522995)"
      ]
     },
     "execution_count": 35,
     "metadata": {},
     "output_type": "execute_result"
    }
   ],
   "source": [
    "# 모델에 설정된 손실 값 및 메트릭 값을 반환하여 평가\n",
    "test_loss, test_acc = model.evaluate(X_test_sp, y_test)\n",
    "test_loss, test_acc "
   ]
  },
  {
   "cell_type": "code",
   "execution_count": null,
   "metadata": {
    "executionInfo": {
     "elapsed": 14,
     "status": "ok",
     "timestamp": 1672570526568,
     "user": {
      "displayName": "송영숙",
      "userId": "01138230862948206591"
     },
     "user_tz": -540
    },
    "id": "t0EVMWhcsQZB"
   },
   "outputs": [],
   "source": []
  }
 ],
 "metadata": {
  "colab": {
   "provenance": []
  },
  "kernelspec": {
   "display_name": "Python 3 (ipykernel)",
   "language": "python",
   "name": "python3"
  },
  "language_info": {
   "codemirror_mode": {
    "name": "ipython",
    "version": 3
   },
   "file_extension": ".py",
   "mimetype": "text/x-python",
   "name": "python",
   "nbconvert_exporter": "python",
   "pygments_lexer": "ipython3",
   "version": "3.10.7"
  },
  "toc": {
   "base_numbering": 1,
   "nav_menu": {},
   "number_sections": true,
   "sideBar": true,
   "skip_h1_title": false,
   "title_cell": "Table of Contents",
   "title_sidebar": "Contents",
   "toc_cell": false,
   "toc_position": {
    "height": "calc(100% - 180px)",
    "left": "10px",
    "top": "150px",
    "width": "256px"
   },
   "toc_section_display": true,
   "toc_window_display": false
  },
  "varInspector": {
   "cols": {
    "lenName": 16,
    "lenType": 16,
    "lenVar": 40
   },
   "kernels_config": {
    "python": {
     "delete_cmd_postfix": "",
     "delete_cmd_prefix": "del ",
     "library": "var_list.py",
     "varRefreshCmd": "print(var_dic_list())"
    },
    "r": {
     "delete_cmd_postfix": ") ",
     "delete_cmd_prefix": "rm(",
     "library": "var_list.r",
     "varRefreshCmd": "cat(var_dic_list()) "
    }
   },
   "types_to_exclude": [
    "module",
    "function",
    "builtin_function_or_method",
    "instance",
    "_Feature"
   ],
   "window_display": false
  }
 },
 "nbformat": 4,
 "nbformat_minor": 1
}
