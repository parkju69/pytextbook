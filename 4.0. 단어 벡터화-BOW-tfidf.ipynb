{
 "cells": [
  {
   "cell_type": "markdown",
   "metadata": {
    "id": "Vy6Elih7gVZ_"
   },
   "source": [
    "* https://scikit-learn.org/stable/modules/feature_extraction.html\n",
    "\n",
    "## 라이브러리 로드"
   ]
  },
  {
   "cell_type": "code",
   "execution_count": 1,
   "metadata": {
    "id": "kBIC6ap4XNO6"
   },
   "outputs": [],
   "source": [
    "# ignore warnings\n",
    "import warnings\n",
    "warnings.filterwarnings(\"ignore\")"
   ]
  },
  {
   "cell_type": "code",
   "execution_count": 2,
   "metadata": {
    "id": "kFlB8K5kIhC9"
   },
   "outputs": [],
   "source": [
    "# 데이터 분석을 위한 pandas, 수치계산을 위한 numpy, 시각화를 위한 seaborn, matplotlib 을 로드합니다.\n",
    "import pandas as pd\n",
    "import numpy as np\n",
    "import seaborn as sns\n",
    "import matplotlib.pyplot as plt"
   ]
  },
  {
   "cell_type": "markdown",
   "metadata": {},
   "source": [
    "## 시각화를 위한 한글폰트 설정"
   ]
  },
  {
   "cell_type": "code",
   "execution_count": 3,
   "metadata": {
    "id": "29oJws6LgzIR"
   },
   "outputs": [],
   "source": [
    "def get_font_family():\n",
    "    \"\"\"\n",
    "    시스템 환경에 따른 기본 폰트명을 반환하는 함수\n",
    "    \"\"\"\n",
    "    import platform\n",
    "    system_name = platform.system()\n",
    "\n",
    "    if system_name == \"Darwin\" :\n",
    "        font_family = \"AppleGothic\"\n",
    "    elif system_name == \"Windows\":\n",
    "        font_family = \"Malgun Gothic\"\n",
    "    else:\n",
    "        # Linux(Colab)\n",
    "        !apt-get install fonts-nanum -qq  > /dev/null\n",
    "        !fc-cache -fv\n",
    "\n",
    "        import matplotlib as mpl\n",
    "        mpl.font_manager._rebuild()\n",
    "        findfont = mpl.font_manager.fontManager.findfont\n",
    "        mpl.font_manager.findfont = findfont\n",
    "        mpl.backends.backend_agg.findfont = findfont\n",
    "        \n",
    "        font_family = \"NanumBarunGothic\"\n",
    "    return font_family\n",
    "\n",
    "plt.style.use(\"seaborn\")\n",
    "plt.rc(\"font\", family=get_font_family())\n",
    "plt.rc(\"axes\", unicode_minus=False)\n",
    "\n",
    "%config InlineBackend.figure_format = 'retina'"
   ]
  },
  {
   "cell_type": "code",
   "execution_count": 4,
   "metadata": {},
   "outputs": [
    {
     "data": {
      "text/plain": [
       "'AppleGothic'"
      ]
     },
     "execution_count": 4,
     "metadata": {},
     "output_type": "execute_result"
    }
   ],
   "source": [
    "get_font_family()"
   ]
  },
  {
   "cell_type": "markdown",
   "metadata": {
    "id": "Rhy1ATcYrSgi"
   },
   "source": [
    "## 분석할 문서"
   ]
  },
  {
   "cell_type": "code",
   "execution_count": 5,
   "metadata": {
    "id": "yv-6jXPabA2E"
   },
   "outputs": [],
   "source": [
    "corpus = [\"코로나 거리두기와 코로나 상생지원금 문의입니다.\",\n",
    "          \"지하철 운행시간과 지하철 요금 문의입니다.\",\n",
    "          \"지하철 승강장 문의입니다.\",\n",
    "          \"택시 승강장 문의입니다.\"]"
   ]
  },
  {
   "cell_type": "code",
   "execution_count": 6,
   "metadata": {},
   "outputs": [
    {
     "data": {
      "text/plain": [
       "['코로나 거리두기와 코로나 상생지원금 문의입니다.',\n",
       " '지하철 운행시간과 지하철 요금 문의입니다.',\n",
       " '지하철 승강장 문의입니다.',\n",
       " '택시 승강장 문의입니다.']"
      ]
     },
     "execution_count": 6,
     "metadata": {},
     "output_type": "execute_result"
    }
   ],
   "source": [
    "corpus"
   ]
  },
  {
   "cell_type": "markdown",
   "metadata": {
    "id": "G5c3Qt8lwoP6"
   },
   "source": [
    "## Bag of Words\n",
    "\n",
    "\n",
    "\n",
    "### CountVectorizer\n",
    "\n",
    "* API documentation:https://scikit-learn.org/stable/modules/generated/sklearn.feature_extraction.text.CountVectorizer.html"
   ]
  },
  {
   "cell_type": "code",
   "execution_count": 7,
   "metadata": {
    "id": "NwxFNuC2NET4"
   },
   "outputs": [],
   "source": [
    "# sklearn.feature_extraction.text의 CountVectorizer 를 통해 BOW 를 생성\n",
    "from sklearn.feature_extraction.text import CountVectorizer"
   ]
  },
  {
   "cell_type": "markdown",
   "metadata": {
    "id": "pdXYRQqgQS2V"
   },
   "source": [
    "### fit, transform, fit_transfrom의 차이점\n",
    "* fit(): 원시 문서에 있는 모든 토큰의 어휘 사전을 배웁니다.\n",
    "* transform(): 문서를 문서 용어 매트릭스로 변환합니다. transform 이후엔 매트릭스로 변환되어 숫자형태로 변경됩니다.\n",
    "* fit_transform(): 어휘 사전을 배우고 문서 용어 매트릭스를 반환합니다. fit 다음에 변환이 오는 것과 동일하지만 더 효율적으로 구현됩니다.\n",
    "\n",
    "⚠️ 주의! ⚠️\n",
    "* 단, fit_transform 은 학습데이터에만 사용하고 예측 데이터에는 transform 을 사용합니다.\n",
    "* 예측 데이터에도 fit_transform 을 사용하게 된다면 서로 다른 단어사전으로 행렬을 만들게 됩니다.\n",
    "* fit 과 transform 을 따로 사용해 준다 하더라도 fit 은 학습 데이터에만 사용합니다. 같은 단어 사전으로 예측 데이터셋의 단어 사전을 만들기 위해서 입니다."
   ]
  },
  {
   "cell_type": "code",
   "execution_count": 8,
   "metadata": {
    "id": "Kj92S-EBF-yB"
   },
   "outputs": [
    {
     "data": {
      "text/plain": [
       "<4x9 sparse matrix of type '<class 'numpy.int64'>'\n",
       "\twith 14 stored elements in Compressed Sparse Row format>"
      ]
     },
     "execution_count": 8,
     "metadata": {},
     "output_type": "execute_result"
    }
   ],
   "source": [
    "# 문장에서 노출되는 feature(특징이 될만한 단어) 수를 합한 Document Term Matrix(이하 dtm) 을 반환합니다.\n",
    "# fit(): 원시 문서에 있는 모든 토큰의 어휘 사전을 배웁니다.\n",
    "# transform(): 문서를 단어 빈도수가 들어있는 문서 용어 매트릭스로 변환합니다. \n",
    "cvect = CountVectorizer()\n",
    "cvect.fit(corpus)\n",
    "dtm = cvect.transform(corpus)\n",
    "dtm"
   ]
  },
  {
   "cell_type": "code",
   "execution_count": 9,
   "metadata": {},
   "outputs": [
    {
     "data": {
      "text/plain": [
       "<4x9 sparse matrix of type '<class 'numpy.int64'>'\n",
       "\twith 14 stored elements in Compressed Sparse Row format>"
      ]
     },
     "execution_count": 9,
     "metadata": {},
     "output_type": "execute_result"
    }
   ],
   "source": [
    "# fit_transform() 어휘 사전을 배우고 문서 용어 매트릭스를 반환합니다. \n",
    "# fit 다음에 변환이 오는 것과 동일하지만 더 효율적으로 구현됩니다.\n",
    "dtm = cvect.fit_transform(corpus)\n",
    "dtm"
   ]
  },
  {
   "cell_type": "code",
   "execution_count": 10,
   "metadata": {
    "id": "t_YEjZbIE4L1"
   },
   "outputs": [
    {
     "data": {
      "text/plain": [
       "['거리두기와', '문의입니다', '상생지원금', '승강장', '요금', '운행시간과', '지하철', '코로나', '택시']"
      ]
     },
     "execution_count": 10,
     "metadata": {},
     "output_type": "execute_result"
    }
   ],
   "source": [
    "# get_feature_names is deprecated in 1.0 and will be removed in 1.2\n",
    "# 1.2 버전에서 제외될 예정으로 get_feature_names_out()을 사용합니다.\n",
    "cvect.get_feature_names()"
   ]
  },
  {
   "cell_type": "code",
   "execution_count": 11,
   "metadata": {},
   "outputs": [
    {
     "data": {
      "text/plain": [
       "array(['거리두기와', '문의입니다', '상생지원금', '승강장', '요금', '운행시간과', '지하철', '코로나',\n",
       "       '택시'], dtype=object)"
      ]
     },
     "execution_count": 11,
     "metadata": {},
     "output_type": "execute_result"
    }
   ],
   "source": [
    "# get_feature_names_out 로 단어 사전 보기\n",
    "vocab = cvect.get_feature_names_out()\n",
    "vocab"
   ]
  },
  {
   "cell_type": "code",
   "execution_count": 12,
   "metadata": {
    "id": "gXSatDPzF-vt"
   },
   "outputs": [
    {
     "data": {
      "text/plain": [
       "{'코로나': 7,\n",
       " '거리두기와': 0,\n",
       " '상생지원금': 2,\n",
       " '문의입니다': 1,\n",
       " '지하철': 6,\n",
       " '운행시간과': 5,\n",
       " '요금': 4,\n",
       " '승강장': 3,\n",
       " '택시': 8}"
      ]
     },
     "execution_count": 12,
     "metadata": {},
     "output_type": "execute_result"
    }
   ],
   "source": [
    "# 단어사전을 봅니다. \n",
    "# 단어사전은 {\"단어\": 인덱스번호} 로 되어 있습니다.\n",
    "cvect.vocabulary_"
   ]
  },
  {
   "cell_type": "code",
   "execution_count": 13,
   "metadata": {},
   "outputs": [
    {
     "data": {
      "text/html": [
       "<div>\n",
       "<style scoped>\n",
       "    .dataframe tbody tr th:only-of-type {\n",
       "        vertical-align: middle;\n",
       "    }\n",
       "\n",
       "    .dataframe tbody tr th {\n",
       "        vertical-align: top;\n",
       "    }\n",
       "\n",
       "    .dataframe thead th {\n",
       "        text-align: right;\n",
       "    }\n",
       "</style>\n",
       "<table border=\"1\" class=\"dataframe\">\n",
       "  <thead>\n",
       "    <tr style=\"text-align: right;\">\n",
       "      <th></th>\n",
       "      <th>거리두기와</th>\n",
       "      <th>문의입니다</th>\n",
       "      <th>상생지원금</th>\n",
       "      <th>승강장</th>\n",
       "      <th>요금</th>\n",
       "      <th>운행시간과</th>\n",
       "      <th>지하철</th>\n",
       "      <th>코로나</th>\n",
       "      <th>택시</th>\n",
       "    </tr>\n",
       "  </thead>\n",
       "  <tbody>\n",
       "    <tr>\n",
       "      <th>0</th>\n",
       "      <td>1</td>\n",
       "      <td>1</td>\n",
       "      <td>1</td>\n",
       "      <td>0</td>\n",
       "      <td>0</td>\n",
       "      <td>0</td>\n",
       "      <td>0</td>\n",
       "      <td>2</td>\n",
       "      <td>0</td>\n",
       "    </tr>\n",
       "    <tr>\n",
       "      <th>1</th>\n",
       "      <td>0</td>\n",
       "      <td>1</td>\n",
       "      <td>0</td>\n",
       "      <td>0</td>\n",
       "      <td>1</td>\n",
       "      <td>1</td>\n",
       "      <td>2</td>\n",
       "      <td>0</td>\n",
       "      <td>0</td>\n",
       "    </tr>\n",
       "    <tr>\n",
       "      <th>2</th>\n",
       "      <td>0</td>\n",
       "      <td>1</td>\n",
       "      <td>0</td>\n",
       "      <td>1</td>\n",
       "      <td>0</td>\n",
       "      <td>0</td>\n",
       "      <td>1</td>\n",
       "      <td>0</td>\n",
       "      <td>0</td>\n",
       "    </tr>\n",
       "    <tr>\n",
       "      <th>3</th>\n",
       "      <td>0</td>\n",
       "      <td>1</td>\n",
       "      <td>0</td>\n",
       "      <td>1</td>\n",
       "      <td>0</td>\n",
       "      <td>0</td>\n",
       "      <td>0</td>\n",
       "      <td>0</td>\n",
       "      <td>1</td>\n",
       "    </tr>\n",
       "  </tbody>\n",
       "</table>\n",
       "</div>"
      ],
      "text/plain": [
       "   거리두기와  문의입니다  상생지원금  승강장  요금  운행시간과  지하철  코로나  택시\n",
       "0      1      1      1    0   0      0    0    2   0\n",
       "1      0      1      0    0   1      1    2    0   0\n",
       "2      0      1      0    1   0      0    1    0   0\n",
       "3      0      1      0    1   0      0    0    0   1"
      ]
     },
     "execution_count": 13,
     "metadata": {},
     "output_type": "execute_result"
    }
   ],
   "source": [
    "# document-term matrix 를 데이터프레임으로 만듭니다.\n",
    "df_dtm = pd.DataFrame(dtm.toarray(), columns=vocab)\n",
    "df_dtm"
   ]
  },
  {
   "cell_type": "code",
   "execution_count": 14,
   "metadata": {},
   "outputs": [
    {
     "data": {
      "text/html": [
       "<div>\n",
       "<style scoped>\n",
       "    .dataframe tbody tr th:only-of-type {\n",
       "        vertical-align: middle;\n",
       "    }\n",
       "\n",
       "    .dataframe tbody tr th {\n",
       "        vertical-align: top;\n",
       "    }\n",
       "\n",
       "    .dataframe thead th {\n",
       "        text-align: right;\n",
       "    }\n",
       "</style>\n",
       "<table border=\"1\" class=\"dataframe\">\n",
       "  <thead>\n",
       "    <tr style=\"text-align: right;\">\n",
       "      <th></th>\n",
       "      <th>거리두기와</th>\n",
       "      <th>문의입니다</th>\n",
       "      <th>상생지원금</th>\n",
       "      <th>승강장</th>\n",
       "      <th>요금</th>\n",
       "      <th>운행시간과</th>\n",
       "      <th>지하철</th>\n",
       "      <th>코로나</th>\n",
       "      <th>택시</th>\n",
       "    </tr>\n",
       "  </thead>\n",
       "  <tbody>\n",
       "    <tr>\n",
       "      <th>0</th>\n",
       "      <td>1</td>\n",
       "      <td>4</td>\n",
       "      <td>1</td>\n",
       "      <td>2</td>\n",
       "      <td>1</td>\n",
       "      <td>1</td>\n",
       "      <td>3</td>\n",
       "      <td>2</td>\n",
       "      <td>1</td>\n",
       "    </tr>\n",
       "  </tbody>\n",
       "</table>\n",
       "</div>"
      ],
      "text/plain": [
       "   거리두기와  문의입니다  상생지원금  승강장  요금  운행시간과  지하철  코로나  택시\n",
       "0      1      4      1    2   1      1    3    2   1"
      ]
     },
     "execution_count": 14,
     "metadata": {},
     "output_type": "execute_result"
    }
   ],
   "source": [
    "# 전체 문서에서 단어 빈도의 합계를 구합니다.\n",
    "df_dtm.sum().to_frame().T"
   ]
  },
  {
   "cell_type": "code",
   "execution_count": 15,
   "metadata": {
    "scrolled": true
   },
   "outputs": [
    {
     "data": {
      "text/plain": [
       "['코로나 거리두기와 코로나 상생지원금 문의입니다.',\n",
       " '지하철 운행시간과 지하철 요금 문의입니다.',\n",
       " '지하철 승강장 문의입니다.',\n",
       " '택시 승강장 문의입니다.']"
      ]
     },
     "execution_count": 15,
     "metadata": {},
     "output_type": "execute_result"
    }
   ],
   "source": [
    "# corpus 와 document-term matrix 를 비교해 봅니다.\n",
    "corpus"
   ]
  },
  {
   "cell_type": "markdown",
   "metadata": {
    "id": "GIPr3DaCPohL"
   },
   "source": [
    "### N-grams \n",
    "\n",
    "* 토큰을 몇 개 사용할 것인지를 구분합니다. 지정한 n개의 숫자 만큼의 토큰을 묶어서 사용합니다.\n",
    "* 예를 들어 (1, 1) 이라면 1개의 토큰을 (2, 3)이라면 2~3개의 토큰을 사용합니다.\n",
    "* analyzer 설정에 따라 단어단위, 캐릭터 단위에 따라 사용할 수 있습니다.\n",
    "\n",
    "* 기본값 = (1, 1)\n",
    "* ngram_range(min_n, max_n)\n",
    "* min_n <= n <= max_n\n",
    "```\n",
    "(1, 1) 은 1 <= n <= 1\n",
    "(1, 2) 은 1 <= n <= 2\n",
    "(2, 2) 은 2 <= n <= 2\n",
    "```"
   ]
  },
  {
   "cell_type": "code",
   "execution_count": 16,
   "metadata": {},
   "outputs": [],
   "source": [
    "# 단어가 너무 많아서 출력이 오래 걸린다면 max_columns 값을 조정해서 사용합니다.\n",
    "# pd.options.display.max_columns = None"
   ]
  },
  {
   "cell_type": "code",
   "execution_count": 17,
   "metadata": {
    "id": "15LxBmxkHg8U"
   },
   "outputs": [
    {
     "data": {
      "text/plain": [
       "<4x20 sparse matrix of type '<class 'numpy.int64'>'\n",
       "\twith 26 stored elements in Compressed Sparse Row format>"
      ]
     },
     "execution_count": 17,
     "metadata": {},
     "output_type": "execute_result"
    }
   ],
   "source": [
    "# ngram_range: 추출할 다른 단어 n-gram 또는 char n-gram에 대한 n-값 범위의 하한 및 상한입니다. 기본값 = (1, 1)\n",
    "# ngram_range=(1, 2)\n",
    "cvect = CountVectorizer(ngram_range=(1, 2))\n",
    "dtm = cvect.fit_transform(corpus)\n",
    "dtm"
   ]
  },
  {
   "cell_type": "code",
   "execution_count": 18,
   "metadata": {},
   "outputs": [
    {
     "data": {
      "text/html": [
       "<div>\n",
       "<style scoped>\n",
       "    .dataframe tbody tr th:only-of-type {\n",
       "        vertical-align: middle;\n",
       "    }\n",
       "\n",
       "    .dataframe tbody tr th {\n",
       "        vertical-align: top;\n",
       "    }\n",
       "\n",
       "    .dataframe thead th {\n",
       "        text-align: right;\n",
       "    }\n",
       "</style>\n",
       "<table border=\"1\" class=\"dataframe\">\n",
       "  <thead>\n",
       "    <tr style=\"text-align: right;\">\n",
       "      <th></th>\n",
       "      <th>거리두기와</th>\n",
       "      <th>거리두기와 코로나</th>\n",
       "      <th>문의입니다</th>\n",
       "      <th>상생지원금</th>\n",
       "      <th>상생지원금 문의입니다</th>\n",
       "      <th>승강장</th>\n",
       "      <th>승강장 문의입니다</th>\n",
       "      <th>요금</th>\n",
       "      <th>요금 문의입니다</th>\n",
       "      <th>운행시간과</th>\n",
       "      <th>운행시간과 지하철</th>\n",
       "      <th>지하철</th>\n",
       "      <th>지하철 승강장</th>\n",
       "      <th>지하철 요금</th>\n",
       "      <th>지하철 운행시간과</th>\n",
       "      <th>코로나</th>\n",
       "      <th>코로나 거리두기와</th>\n",
       "      <th>코로나 상생지원금</th>\n",
       "      <th>택시</th>\n",
       "      <th>택시 승강장</th>\n",
       "    </tr>\n",
       "  </thead>\n",
       "  <tbody>\n",
       "    <tr>\n",
       "      <th>0</th>\n",
       "      <td>1</td>\n",
       "      <td>1</td>\n",
       "      <td>1</td>\n",
       "      <td>1</td>\n",
       "      <td>1</td>\n",
       "      <td>0</td>\n",
       "      <td>0</td>\n",
       "      <td>0</td>\n",
       "      <td>0</td>\n",
       "      <td>0</td>\n",
       "      <td>0</td>\n",
       "      <td>0</td>\n",
       "      <td>0</td>\n",
       "      <td>0</td>\n",
       "      <td>0</td>\n",
       "      <td>2</td>\n",
       "      <td>1</td>\n",
       "      <td>1</td>\n",
       "      <td>0</td>\n",
       "      <td>0</td>\n",
       "    </tr>\n",
       "    <tr>\n",
       "      <th>1</th>\n",
       "      <td>0</td>\n",
       "      <td>0</td>\n",
       "      <td>1</td>\n",
       "      <td>0</td>\n",
       "      <td>0</td>\n",
       "      <td>0</td>\n",
       "      <td>0</td>\n",
       "      <td>1</td>\n",
       "      <td>1</td>\n",
       "      <td>1</td>\n",
       "      <td>1</td>\n",
       "      <td>2</td>\n",
       "      <td>0</td>\n",
       "      <td>1</td>\n",
       "      <td>1</td>\n",
       "      <td>0</td>\n",
       "      <td>0</td>\n",
       "      <td>0</td>\n",
       "      <td>0</td>\n",
       "      <td>0</td>\n",
       "    </tr>\n",
       "    <tr>\n",
       "      <th>2</th>\n",
       "      <td>0</td>\n",
       "      <td>0</td>\n",
       "      <td>1</td>\n",
       "      <td>0</td>\n",
       "      <td>0</td>\n",
       "      <td>1</td>\n",
       "      <td>1</td>\n",
       "      <td>0</td>\n",
       "      <td>0</td>\n",
       "      <td>0</td>\n",
       "      <td>0</td>\n",
       "      <td>1</td>\n",
       "      <td>1</td>\n",
       "      <td>0</td>\n",
       "      <td>0</td>\n",
       "      <td>0</td>\n",
       "      <td>0</td>\n",
       "      <td>0</td>\n",
       "      <td>0</td>\n",
       "      <td>0</td>\n",
       "    </tr>\n",
       "    <tr>\n",
       "      <th>3</th>\n",
       "      <td>0</td>\n",
       "      <td>0</td>\n",
       "      <td>1</td>\n",
       "      <td>0</td>\n",
       "      <td>0</td>\n",
       "      <td>1</td>\n",
       "      <td>1</td>\n",
       "      <td>0</td>\n",
       "      <td>0</td>\n",
       "      <td>0</td>\n",
       "      <td>0</td>\n",
       "      <td>0</td>\n",
       "      <td>0</td>\n",
       "      <td>0</td>\n",
       "      <td>0</td>\n",
       "      <td>0</td>\n",
       "      <td>0</td>\n",
       "      <td>0</td>\n",
       "      <td>1</td>\n",
       "      <td>1</td>\n",
       "    </tr>\n",
       "  </tbody>\n",
       "</table>\n",
       "</div>"
      ],
      "text/plain": [
       "   거리두기와  거리두기와 코로나  문의입니다  상생지원금  상생지원금 문의입니다  승강장  승강장 문의입니다  요금  요금 문의입니다  \\\n",
       "0      1          1      1      1            1    0          0   0         0   \n",
       "1      0          0      1      0            0    0          0   1         1   \n",
       "2      0          0      1      0            0    1          1   0         0   \n",
       "3      0          0      1      0            0    1          1   0         0   \n",
       "\n",
       "   운행시간과  운행시간과 지하철  지하철  지하철 승강장  지하철 요금  지하철 운행시간과  코로나  코로나 거리두기와  \\\n",
       "0      0          0    0        0       0          0    2          1   \n",
       "1      1          1    2        0       1          1    0          0   \n",
       "2      0          0    1        1       0          0    0          0   \n",
       "3      0          0    0        0       0          0    0          0   \n",
       "\n",
       "   코로나 상생지원금  택시  택시 승강장  \n",
       "0          1   0       0  \n",
       "1          0   0       0  \n",
       "2          0   0       0  \n",
       "3          0   1       1  "
      ]
     },
     "execution_count": 18,
     "metadata": {},
     "output_type": "execute_result"
    }
   ],
   "source": [
    "# df_dtm.sum 으로 빈도수 합계 구하기\n",
    "vocab = cvect.get_feature_names_out()\n",
    "df_dtm = pd.DataFrame(dtm.toarray(), columns=vocab)\n",
    "df_dtm"
   ]
  },
  {
   "cell_type": "markdown",
   "metadata": {
    "id": "dWEivLuaJ5te"
   },
   "source": [
    "### min_df\n",
    "\n",
    "* 기본값=1\n",
    "* min_df는 문서 빈도(문서의 %에 있음)가 지정된 임계값보다 엄격하게 낮은 용어를 무시합니다. \n",
    "* 예를 들어, min_df=0.66은 용어가 어휘의 일부로 간주되려면 문서의 66%에 나타나야 합니다.\n",
    "* 때때로 min_df가 어휘 크기를 제한하는 데 사용됩니다.\n",
    "* 예를들어 min_df를 0.1, 0.2로 설정한다면 10%, 20%에 나타나는 용어만 학습합니다."
   ]
  },
  {
   "cell_type": "markdown",
   "metadata": {
    "id": "MdwIi9dOLoHb"
   },
   "source": [
    "### max_df\n",
    "\n",
    "* 기본값=**1**\n",
    "* max_df=int : 빈도수를 의미\n",
    "* max_df=float : 비율을 의미\n",
    "* 어휘를 작성할 때 주어진 임계값보다 문서 빈도가 엄격히 높은 용어는 무시\n",
    "* 빈번하게 등장하는 불용어 등을 제거하기에 좋음\n",
    "* 예를 들어 코로나 관련 기사를 분석하면 90%에 '코로나'라는 용어가 등장할 수 있는데, 이 경우 max_df=0.89 로 비율을 설정하여 너무 빈번하게 등장하는 단어를 제외할 수 있음"
   ]
  },
  {
   "cell_type": "code",
   "execution_count": 19,
   "metadata": {},
   "outputs": [
    {
     "data": {
      "text/html": [
       "<div>\n",
       "<style scoped>\n",
       "    .dataframe tbody tr th:only-of-type {\n",
       "        vertical-align: middle;\n",
       "    }\n",
       "\n",
       "    .dataframe tbody tr th {\n",
       "        vertical-align: top;\n",
       "    }\n",
       "\n",
       "    .dataframe thead th {\n",
       "        text-align: right;\n",
       "    }\n",
       "</style>\n",
       "<table border=\"1\" class=\"dataframe\">\n",
       "  <thead>\n",
       "    <tr style=\"text-align: right;\">\n",
       "      <th></th>\n",
       "      <th>거리두기와</th>\n",
       "      <th>거리두기와 코로나</th>\n",
       "      <th>거리두기와 코로나 상생지원금</th>\n",
       "      <th>문의입니다</th>\n",
       "      <th>상생지원금</th>\n",
       "      <th>상생지원금 문의입니다</th>\n",
       "      <th>승강장</th>\n",
       "      <th>승강장 문의입니다</th>\n",
       "      <th>요금</th>\n",
       "      <th>요금 문의입니다</th>\n",
       "      <th>...</th>\n",
       "      <th>지하철 운행시간과</th>\n",
       "      <th>지하철 운행시간과 지하철</th>\n",
       "      <th>코로나</th>\n",
       "      <th>코로나 거리두기와</th>\n",
       "      <th>코로나 거리두기와 코로나</th>\n",
       "      <th>코로나 상생지원금</th>\n",
       "      <th>코로나 상생지원금 문의입니다</th>\n",
       "      <th>택시</th>\n",
       "      <th>택시 승강장</th>\n",
       "      <th>택시 승강장 문의입니다</th>\n",
       "    </tr>\n",
       "  </thead>\n",
       "  <tbody>\n",
       "    <tr>\n",
       "      <th>0</th>\n",
       "      <td>1</td>\n",
       "      <td>1</td>\n",
       "      <td>1</td>\n",
       "      <td>1</td>\n",
       "      <td>1</td>\n",
       "      <td>1</td>\n",
       "      <td>0</td>\n",
       "      <td>0</td>\n",
       "      <td>0</td>\n",
       "      <td>0</td>\n",
       "      <td>...</td>\n",
       "      <td>0</td>\n",
       "      <td>0</td>\n",
       "      <td>2</td>\n",
       "      <td>1</td>\n",
       "      <td>1</td>\n",
       "      <td>1</td>\n",
       "      <td>1</td>\n",
       "      <td>0</td>\n",
       "      <td>0</td>\n",
       "      <td>0</td>\n",
       "    </tr>\n",
       "    <tr>\n",
       "      <th>1</th>\n",
       "      <td>0</td>\n",
       "      <td>0</td>\n",
       "      <td>0</td>\n",
       "      <td>1</td>\n",
       "      <td>0</td>\n",
       "      <td>0</td>\n",
       "      <td>0</td>\n",
       "      <td>0</td>\n",
       "      <td>1</td>\n",
       "      <td>1</td>\n",
       "      <td>...</td>\n",
       "      <td>1</td>\n",
       "      <td>1</td>\n",
       "      <td>0</td>\n",
       "      <td>0</td>\n",
       "      <td>0</td>\n",
       "      <td>0</td>\n",
       "      <td>0</td>\n",
       "      <td>0</td>\n",
       "      <td>0</td>\n",
       "      <td>0</td>\n",
       "    </tr>\n",
       "    <tr>\n",
       "      <th>2</th>\n",
       "      <td>0</td>\n",
       "      <td>0</td>\n",
       "      <td>0</td>\n",
       "      <td>1</td>\n",
       "      <td>0</td>\n",
       "      <td>0</td>\n",
       "      <td>1</td>\n",
       "      <td>1</td>\n",
       "      <td>0</td>\n",
       "      <td>0</td>\n",
       "      <td>...</td>\n",
       "      <td>0</td>\n",
       "      <td>0</td>\n",
       "      <td>0</td>\n",
       "      <td>0</td>\n",
       "      <td>0</td>\n",
       "      <td>0</td>\n",
       "      <td>0</td>\n",
       "      <td>0</td>\n",
       "      <td>0</td>\n",
       "      <td>0</td>\n",
       "    </tr>\n",
       "    <tr>\n",
       "      <th>3</th>\n",
       "      <td>0</td>\n",
       "      <td>0</td>\n",
       "      <td>0</td>\n",
       "      <td>1</td>\n",
       "      <td>0</td>\n",
       "      <td>0</td>\n",
       "      <td>1</td>\n",
       "      <td>1</td>\n",
       "      <td>0</td>\n",
       "      <td>0</td>\n",
       "      <td>...</td>\n",
       "      <td>0</td>\n",
       "      <td>0</td>\n",
       "      <td>0</td>\n",
       "      <td>0</td>\n",
       "      <td>0</td>\n",
       "      <td>0</td>\n",
       "      <td>0</td>\n",
       "      <td>1</td>\n",
       "      <td>1</td>\n",
       "      <td>1</td>\n",
       "    </tr>\n",
       "  </tbody>\n",
       "</table>\n",
       "<p>4 rows × 28 columns</p>\n",
       "</div>"
      ],
      "text/plain": [
       "   거리두기와  거리두기와 코로나  거리두기와 코로나 상생지원금  문의입니다  상생지원금  상생지원금 문의입니다  승강장  \\\n",
       "0      1          1                1      1      1            1    0   \n",
       "1      0          0                0      1      0            0    0   \n",
       "2      0          0                0      1      0            0    1   \n",
       "3      0          0                0      1      0            0    1   \n",
       "\n",
       "   승강장 문의입니다  요금  요금 문의입니다  ...  지하철 운행시간과  지하철 운행시간과 지하철  코로나  코로나 거리두기와  \\\n",
       "0          0   0         0  ...          0              0    2          1   \n",
       "1          0   1         1  ...          1              1    0          0   \n",
       "2          1   0         0  ...          0              0    0          0   \n",
       "3          1   0         0  ...          0              0    0          0   \n",
       "\n",
       "   코로나 거리두기와 코로나  코로나 상생지원금  코로나 상생지원금 문의입니다  택시  택시 승강장  택시 승강장 문의입니다  \n",
       "0              1          1                1   0       0             0  \n",
       "1              0          0                0   0       0             0  \n",
       "2              0          0                0   0       0             0  \n",
       "3              0          0                0   1       1             1  \n",
       "\n",
       "[4 rows x 28 columns]"
      ]
     },
     "execution_count": 19,
     "metadata": {},
     "output_type": "execute_result"
    }
   ],
   "source": [
    "cvect = CountVectorizer(ngram_range=(1, 3), min_df=0.2, max_df=5)\n",
    "dtm = cvect.fit_transform(corpus)\n",
    "vocab = cvect.get_feature_names_out()\n",
    "df_dtm = pd.DataFrame(dtm.toarray(), columns=vocab)\n",
    "df_dtm"
   ]
  },
  {
   "cell_type": "markdown",
   "metadata": {
    "id": "2IseYq_4RZk5"
   },
   "source": [
    "### max_features\n",
    "\n",
    "* 기본값 = None\n",
    "* 벡터라이저가 학습할 기능(어휘)의 양 제한\n",
    "* corpus중 빈도수가 가장 높은 순으로 해당 갯수만큼만 추출"
   ]
  },
  {
   "cell_type": "code",
   "execution_count": 20,
   "metadata": {
    "id": "8Ad5WAo1PyVI"
   },
   "outputs": [
    {
     "data": {
      "text/html": [
       "<div>\n",
       "<style scoped>\n",
       "    .dataframe tbody tr th:only-of-type {\n",
       "        vertical-align: middle;\n",
       "    }\n",
       "\n",
       "    .dataframe tbody tr th {\n",
       "        vertical-align: top;\n",
       "    }\n",
       "\n",
       "    .dataframe thead th {\n",
       "        text-align: right;\n",
       "    }\n",
       "</style>\n",
       "<table border=\"1\" class=\"dataframe\">\n",
       "  <thead>\n",
       "    <tr style=\"text-align: right;\">\n",
       "      <th></th>\n",
       "      <th>문의입니다</th>\n",
       "      <th>승강장</th>\n",
       "      <th>승강장 문의입니다</th>\n",
       "      <th>지하철</th>\n",
       "      <th>코로나</th>\n",
       "      <th>코로나 거리두기와</th>\n",
       "      <th>코로나 거리두기와 코로나</th>\n",
       "      <th>코로나 상생지원금</th>\n",
       "      <th>코로나 상생지원금 문의입니다</th>\n",
       "      <th>택시</th>\n",
       "    </tr>\n",
       "  </thead>\n",
       "  <tbody>\n",
       "    <tr>\n",
       "      <th>0</th>\n",
       "      <td>1</td>\n",
       "      <td>0</td>\n",
       "      <td>0</td>\n",
       "      <td>0</td>\n",
       "      <td>2</td>\n",
       "      <td>1</td>\n",
       "      <td>1</td>\n",
       "      <td>1</td>\n",
       "      <td>1</td>\n",
       "      <td>0</td>\n",
       "    </tr>\n",
       "    <tr>\n",
       "      <th>1</th>\n",
       "      <td>1</td>\n",
       "      <td>0</td>\n",
       "      <td>0</td>\n",
       "      <td>2</td>\n",
       "      <td>0</td>\n",
       "      <td>0</td>\n",
       "      <td>0</td>\n",
       "      <td>0</td>\n",
       "      <td>0</td>\n",
       "      <td>0</td>\n",
       "    </tr>\n",
       "    <tr>\n",
       "      <th>2</th>\n",
       "      <td>1</td>\n",
       "      <td>1</td>\n",
       "      <td>1</td>\n",
       "      <td>1</td>\n",
       "      <td>0</td>\n",
       "      <td>0</td>\n",
       "      <td>0</td>\n",
       "      <td>0</td>\n",
       "      <td>0</td>\n",
       "      <td>0</td>\n",
       "    </tr>\n",
       "    <tr>\n",
       "      <th>3</th>\n",
       "      <td>1</td>\n",
       "      <td>1</td>\n",
       "      <td>1</td>\n",
       "      <td>0</td>\n",
       "      <td>0</td>\n",
       "      <td>0</td>\n",
       "      <td>0</td>\n",
       "      <td>0</td>\n",
       "      <td>0</td>\n",
       "      <td>1</td>\n",
       "    </tr>\n",
       "  </tbody>\n",
       "</table>\n",
       "</div>"
      ],
      "text/plain": [
       "   문의입니다  승강장  승강장 문의입니다  지하철  코로나  코로나 거리두기와  코로나 거리두기와 코로나  코로나 상생지원금  \\\n",
       "0      1    0          0    0    2          1              1          1   \n",
       "1      1    0          0    2    0          0              0          0   \n",
       "2      1    1          1    1    0          0              0          0   \n",
       "3      1    1          1    0    0          0              0          0   \n",
       "\n",
       "   코로나 상생지원금 문의입니다  택시  \n",
       "0                1   0  \n",
       "1                0   0  \n",
       "2                0   0  \n",
       "3                0   1  "
      ]
     },
     "execution_count": 20,
     "metadata": {},
     "output_type": "execute_result"
    }
   ],
   "source": [
    "# max_features 갯수만큼의 단어만 추출하기\n",
    "\n",
    "cvect = CountVectorizer(ngram_range=(1, 3), min_df=1, max_df=1.0, max_features=10)\n",
    "dtm = cvect.fit_transform(corpus)\n",
    "vocab = cvect.get_feature_names_out()\n",
    "df_dtm = pd.DataFrame(dtm.toarray(), columns=vocab)\n",
    "df_dtm"
   ]
  },
  {
   "cell_type": "markdown",
   "metadata": {},
   "source": [
    "### 불용어 stop_words\n",
    "\n",
    "* 문장에 자주 등장하지만 \"우리, 그, 그리고, 그래서\" 등 관사, 전치사, 조사, 접속사 등의 단어로 문장 내에서 큰 의미를 갖지 않는 단어"
   ]
  },
  {
   "cell_type": "code",
   "execution_count": 21,
   "metadata": {},
   "outputs": [
    {
     "data": {
      "text/html": [
       "<div>\n",
       "<style scoped>\n",
       "    .dataframe tbody tr th:only-of-type {\n",
       "        vertical-align: middle;\n",
       "    }\n",
       "\n",
       "    .dataframe tbody tr th {\n",
       "        vertical-align: top;\n",
       "    }\n",
       "\n",
       "    .dataframe thead th {\n",
       "        text-align: right;\n",
       "    }\n",
       "</style>\n",
       "<table border=\"1\" class=\"dataframe\">\n",
       "  <thead>\n",
       "    <tr style=\"text-align: right;\">\n",
       "      <th></th>\n",
       "      <th>거리두기와</th>\n",
       "      <th>거리두기와 상생지원금</th>\n",
       "      <th>상생지원금</th>\n",
       "      <th>승강장</th>\n",
       "      <th>요금</th>\n",
       "      <th>운행시간과</th>\n",
       "      <th>운행시간과 지하철</th>\n",
       "      <th>운행시간과 지하철 요금</th>\n",
       "      <th>지하철</th>\n",
       "      <th>지하철 승강장</th>\n",
       "      <th>지하철 요금</th>\n",
       "      <th>지하철 운행시간과</th>\n",
       "      <th>지하철 운행시간과 지하철</th>\n",
       "      <th>택시</th>\n",
       "      <th>택시 승강장</th>\n",
       "    </tr>\n",
       "  </thead>\n",
       "  <tbody>\n",
       "    <tr>\n",
       "      <th>0</th>\n",
       "      <td>1</td>\n",
       "      <td>1</td>\n",
       "      <td>1</td>\n",
       "      <td>0</td>\n",
       "      <td>0</td>\n",
       "      <td>0</td>\n",
       "      <td>0</td>\n",
       "      <td>0</td>\n",
       "      <td>0</td>\n",
       "      <td>0</td>\n",
       "      <td>0</td>\n",
       "      <td>0</td>\n",
       "      <td>0</td>\n",
       "      <td>0</td>\n",
       "      <td>0</td>\n",
       "    </tr>\n",
       "    <tr>\n",
       "      <th>1</th>\n",
       "      <td>0</td>\n",
       "      <td>0</td>\n",
       "      <td>0</td>\n",
       "      <td>0</td>\n",
       "      <td>1</td>\n",
       "      <td>1</td>\n",
       "      <td>1</td>\n",
       "      <td>1</td>\n",
       "      <td>2</td>\n",
       "      <td>0</td>\n",
       "      <td>1</td>\n",
       "      <td>1</td>\n",
       "      <td>1</td>\n",
       "      <td>0</td>\n",
       "      <td>0</td>\n",
       "    </tr>\n",
       "    <tr>\n",
       "      <th>2</th>\n",
       "      <td>0</td>\n",
       "      <td>0</td>\n",
       "      <td>0</td>\n",
       "      <td>1</td>\n",
       "      <td>0</td>\n",
       "      <td>0</td>\n",
       "      <td>0</td>\n",
       "      <td>0</td>\n",
       "      <td>1</td>\n",
       "      <td>1</td>\n",
       "      <td>0</td>\n",
       "      <td>0</td>\n",
       "      <td>0</td>\n",
       "      <td>0</td>\n",
       "      <td>0</td>\n",
       "    </tr>\n",
       "    <tr>\n",
       "      <th>3</th>\n",
       "      <td>0</td>\n",
       "      <td>0</td>\n",
       "      <td>0</td>\n",
       "      <td>1</td>\n",
       "      <td>0</td>\n",
       "      <td>0</td>\n",
       "      <td>0</td>\n",
       "      <td>0</td>\n",
       "      <td>0</td>\n",
       "      <td>0</td>\n",
       "      <td>0</td>\n",
       "      <td>0</td>\n",
       "      <td>0</td>\n",
       "      <td>1</td>\n",
       "      <td>1</td>\n",
       "    </tr>\n",
       "  </tbody>\n",
       "</table>\n",
       "</div>"
      ],
      "text/plain": [
       "   거리두기와  거리두기와 상생지원금  상생지원금  승강장  요금  운행시간과  운행시간과 지하철  운행시간과 지하철 요금  지하철  \\\n",
       "0      1            1      1    0   0      0          0             0    0   \n",
       "1      0            0      0    0   1      1          1             1    2   \n",
       "2      0            0      0    1   0      0          0             0    1   \n",
       "3      0            0      0    1   0      0          0             0    0   \n",
       "\n",
       "   지하철 승강장  지하철 요금  지하철 운행시간과  지하철 운행시간과 지하철  택시  택시 승강장  \n",
       "0        0       0          0              0   0       0  \n",
       "1        0       1          1              1   0       0  \n",
       "2        1       0          0              0   0       0  \n",
       "3        0       0          0              0   1       1  "
      ]
     },
     "execution_count": 21,
     "metadata": {},
     "output_type": "execute_result"
    }
   ],
   "source": [
    "stop_words=[\"코로나\", \"문의입니다\"]\n",
    "# max_features 갯수만큼의 단어만 추출하기\n",
    "\n",
    "cvect = CountVectorizer(ngram_range=(1, 3), min_df=1, max_df=1.0, max_features=20, stop_words=stop_words)\n",
    "dtm = cvect.fit_transform(corpus)\n",
    "vocab = cvect.get_feature_names_out()\n",
    "df_dtm = pd.DataFrame(dtm.toarray(), columns=vocab)\n",
    "df_dtm"
   ]
  },
  {
   "cell_type": "markdown",
   "metadata": {
    "id": "FWIgHaWFbYyZ"
   },
   "source": [
    "### analyzer\n",
    "\n",
    "* 기본값='word'\n",
    "* 종류: word, char, char_wb\n",
    "* 기능을 단어 n-그램으로 만들지 문자 n-그램으로 만들어야 하는지 여부입니다. 옵션 'char_wb'는 단어 경계 내부의 텍스트에서만 문자 n-gram을 생성합니다. 단어 가장자리의 n-gram은 공백으로 채워집니다.\n",
    "* 띄어쓰기가 제대로 되어 있지 않은 문자 등에 사용할 수 있습니다."
   ]
  },
  {
   "cell_type": "code",
   "execution_count": 22,
   "metadata": {
    "id": "sW3jX8omddHS"
   },
   "outputs": [
    {
     "data": {
      "text/html": [
       "<div>\n",
       "<style scoped>\n",
       "    .dataframe tbody tr th:only-of-type {\n",
       "        vertical-align: middle;\n",
       "    }\n",
       "\n",
       "    .dataframe tbody tr th {\n",
       "        vertical-align: top;\n",
       "    }\n",
       "\n",
       "    .dataframe thead th {\n",
       "        text-align: right;\n",
       "    }\n",
       "</style>\n",
       "<table border=\"1\" class=\"dataframe\">\n",
       "  <thead>\n",
       "    <tr style=\"text-align: right;\">\n",
       "      <th></th>\n",
       "      <th></th>\n",
       "      <th>문</th>\n",
       "      <th>문의</th>\n",
       "      <th>문의입</th>\n",
       "      <th>문의입니</th>\n",
       "      <th>.</th>\n",
       "      <th>니</th>\n",
       "      <th>니다</th>\n",
       "      <th>니다.</th>\n",
       "      <th>다</th>\n",
       "      <th>...</th>\n",
       "      <th>의입니다.</th>\n",
       "      <th>입</th>\n",
       "      <th>입니</th>\n",
       "      <th>입니다</th>\n",
       "      <th>입니다.</th>\n",
       "      <th>지</th>\n",
       "      <th>철</th>\n",
       "      <th>철</th>\n",
       "      <th>하</th>\n",
       "      <th>하철</th>\n",
       "    </tr>\n",
       "  </thead>\n",
       "  <tbody>\n",
       "    <tr>\n",
       "      <th>0</th>\n",
       "      <td>4</td>\n",
       "      <td>1</td>\n",
       "      <td>1</td>\n",
       "      <td>1</td>\n",
       "      <td>1</td>\n",
       "      <td>1</td>\n",
       "      <td>1</td>\n",
       "      <td>1</td>\n",
       "      <td>1</td>\n",
       "      <td>1</td>\n",
       "      <td>...</td>\n",
       "      <td>1</td>\n",
       "      <td>1</td>\n",
       "      <td>1</td>\n",
       "      <td>1</td>\n",
       "      <td>1</td>\n",
       "      <td>1</td>\n",
       "      <td>0</td>\n",
       "      <td>0</td>\n",
       "      <td>0</td>\n",
       "      <td>0</td>\n",
       "    </tr>\n",
       "    <tr>\n",
       "      <th>1</th>\n",
       "      <td>4</td>\n",
       "      <td>1</td>\n",
       "      <td>1</td>\n",
       "      <td>1</td>\n",
       "      <td>1</td>\n",
       "      <td>1</td>\n",
       "      <td>1</td>\n",
       "      <td>1</td>\n",
       "      <td>1</td>\n",
       "      <td>1</td>\n",
       "      <td>...</td>\n",
       "      <td>1</td>\n",
       "      <td>1</td>\n",
       "      <td>1</td>\n",
       "      <td>1</td>\n",
       "      <td>1</td>\n",
       "      <td>2</td>\n",
       "      <td>2</td>\n",
       "      <td>2</td>\n",
       "      <td>2</td>\n",
       "      <td>2</td>\n",
       "    </tr>\n",
       "    <tr>\n",
       "      <th>2</th>\n",
       "      <td>2</td>\n",
       "      <td>1</td>\n",
       "      <td>1</td>\n",
       "      <td>1</td>\n",
       "      <td>1</td>\n",
       "      <td>1</td>\n",
       "      <td>1</td>\n",
       "      <td>1</td>\n",
       "      <td>1</td>\n",
       "      <td>1</td>\n",
       "      <td>...</td>\n",
       "      <td>1</td>\n",
       "      <td>1</td>\n",
       "      <td>1</td>\n",
       "      <td>1</td>\n",
       "      <td>1</td>\n",
       "      <td>1</td>\n",
       "      <td>1</td>\n",
       "      <td>1</td>\n",
       "      <td>1</td>\n",
       "      <td>1</td>\n",
       "    </tr>\n",
       "    <tr>\n",
       "      <th>3</th>\n",
       "      <td>2</td>\n",
       "      <td>1</td>\n",
       "      <td>1</td>\n",
       "      <td>1</td>\n",
       "      <td>1</td>\n",
       "      <td>1</td>\n",
       "      <td>1</td>\n",
       "      <td>1</td>\n",
       "      <td>1</td>\n",
       "      <td>1</td>\n",
       "      <td>...</td>\n",
       "      <td>1</td>\n",
       "      <td>1</td>\n",
       "      <td>1</td>\n",
       "      <td>1</td>\n",
       "      <td>1</td>\n",
       "      <td>0</td>\n",
       "      <td>0</td>\n",
       "      <td>0</td>\n",
       "      <td>0</td>\n",
       "      <td>0</td>\n",
       "    </tr>\n",
       "  </tbody>\n",
       "</table>\n",
       "<p>4 rows × 30 columns</p>\n",
       "</div>"
      ],
      "text/plain": [
       "       문   문의   문의입   문의입니  .  니  니다  니다.  다  ...  의입니다.  입  입니  입니다  입니다.  지  \\\n",
       "0  4   1    1     1      1  1  1   1    1  1  ...      1  1   1    1     1  1   \n",
       "1  4   1    1     1      1  1  1   1    1  1  ...      1  1   1    1     1  2   \n",
       "2  2   1    1     1      1  1  1   1    1  1  ...      1  1   1    1     1  1   \n",
       "3  2   1    1     1      1  1  1   1    1  1  ...      1  1   1    1     1  0   \n",
       "\n",
       "   철  철   하  하철   \n",
       "0  0   0  0    0  \n",
       "1  2   2  2    2  \n",
       "2  1   1  1    1  \n",
       "3  0   0  0    0  \n",
       "\n",
       "[4 rows x 30 columns]"
      ]
     },
     "execution_count": 22,
     "metadata": {},
     "output_type": "execute_result"
    }
   ],
   "source": [
    "# analyzer='char', ngram_range=(2, 3)\n",
    "\n",
    "cvect = CountVectorizer(analyzer='char', \n",
    "                        ngram_range=(1, 5), min_df=2, \n",
    "                        max_df=1.0, max_features=30, \n",
    "                        stop_words=stop_words)\n",
    "\n",
    "dtm = cvect.fit_transform(corpus)\n",
    "vocab = cvect.get_feature_names_out()\n",
    "df_dtm = pd.DataFrame(dtm.toarray(), columns=vocab)\n",
    "df_dtm"
   ]
  },
  {
   "cell_type": "markdown",
   "metadata": {
    "id": "rJFrsTk0m-kR"
   },
   "source": [
    "## TF-IDF\n",
    "\n",
    "\\begin{equation*}\n",
    "\\text{tfidf}(w, d) = \\text{tf} \\times (\\log\\big(\\frac{N + 1}{N_w + 1}\\big) + 1)\n",
    "\\end{equation*}\n",
    "\n",
    "\n",
    "### TfidfVectorizer"
   ]
  },
  {
   "cell_type": "code",
   "execution_count": 23,
   "metadata": {
    "id": "2jyOWdiGTCSR"
   },
   "outputs": [
    {
     "data": {
      "text/plain": [
       "<4x9 sparse matrix of type '<class 'numpy.float64'>'\n",
       "\twith 14 stored elements in Compressed Sparse Row format>"
      ]
     },
     "execution_count": 23,
     "metadata": {},
     "output_type": "execute_result"
    }
   ],
   "source": [
    "# sklearn.feature_extraction.text 에서 TfidfVectorizer 를 불러옵니다.\n",
    "# fit, transform 으로 변환을 합니다.\n",
    "# tfidfvect\n",
    "from sklearn.feature_extraction.text import TfidfVectorizer\n",
    "tfidfvect = TfidfVectorizer()\n",
    "tfidfvect.fit(corpus)\n",
    "dtm = tfidfvect.transform(corpus)\n",
    "dtm"
   ]
  },
  {
   "cell_type": "code",
   "execution_count": 24,
   "metadata": {},
   "outputs": [
    {
     "data": {
      "text/plain": [
       "<4x9 sparse matrix of type '<class 'numpy.float64'>'\n",
       "\twith 14 stored elements in Compressed Sparse Row format>"
      ]
     },
     "execution_count": 24,
     "metadata": {},
     "output_type": "execute_result"
    }
   ],
   "source": [
    "# fit_transform 으로 변환할 수도 있습니다.\n",
    "dtm = tfidfvect.fit_transform(corpus)\n",
    "dtm"
   ]
  },
  {
   "cell_type": "code",
   "execution_count": 25,
   "metadata": {
    "scrolled": false
   },
   "outputs": [
    {
     "data": {
      "text/plain": [
       "array([[0.39928771, 0.20836489, 0.39928771, 0.        , 0.        ,\n",
       "        0.        , 0.        , 0.79857543, 0.        ],\n",
       "       [0.        , 0.23921859, 0.        , 0.        , 0.45841237,\n",
       "        0.45841237, 0.72283516, 0.        , 0.        ],\n",
       "       [0.        , 0.42389674, 0.        , 0.64043405, 0.        ,\n",
       "        0.        , 0.64043405, 0.        , 0.        ],\n",
       "       [0.        , 0.37919167, 0.        , 0.5728925 , 0.        ,\n",
       "        0.        , 0.        , 0.        , 0.72664149]])"
      ]
     },
     "execution_count": 25,
     "metadata": {},
     "output_type": "execute_result"
    }
   ],
   "source": [
    "# dtm.toarray() 로 배열을 확인합니다.\n",
    "# 문서에 토큰이 더 많이 나타날수록 가중치는 더 커집니다. \n",
    "# 그러나 토큰이 문서에 많이 표시될수록 가중치가 감소합니다.\n",
    "dtm.toarray()"
   ]
  },
  {
   "cell_type": "code",
   "execution_count": 26,
   "metadata": {
    "scrolled": true
   },
   "outputs": [
    {
     "name": "stdout",
     "output_type": "stream",
     "text": [
      "단어 수 :  9\n",
      "['거리두기와' '문의입니다' '상생지원금' '승강장' '요금' '운행시간과' '지하철' '코로나' '택시']\n"
     ]
    },
    {
     "data": {
      "text/html": [
       "<style type=\"text/css\">\n",
       "#T_40a37_row0_col0, #T_40a37_row0_col2, #T_40a37_row0_col7, #T_40a37_row1_col4, #T_40a37_row1_col5, #T_40a37_row1_col6, #T_40a37_row2_col1, #T_40a37_row2_col3, #T_40a37_row3_col8 {\n",
       "  background-color: #023858;\n",
       "  color: #f1f1f1;\n",
       "}\n",
       "#T_40a37_row0_col1, #T_40a37_row0_col3, #T_40a37_row0_col4, #T_40a37_row0_col5, #T_40a37_row0_col6, #T_40a37_row0_col8, #T_40a37_row1_col0, #T_40a37_row1_col2, #T_40a37_row1_col3, #T_40a37_row1_col7, #T_40a37_row1_col8, #T_40a37_row2_col0, #T_40a37_row2_col2, #T_40a37_row2_col4, #T_40a37_row2_col5, #T_40a37_row2_col7, #T_40a37_row2_col8, #T_40a37_row3_col0, #T_40a37_row3_col2, #T_40a37_row3_col4, #T_40a37_row3_col5, #T_40a37_row3_col6, #T_40a37_row3_col7 {\n",
       "  background-color: #fff7fb;\n",
       "  color: #000000;\n",
       "}\n",
       "#T_40a37_row1_col1 {\n",
       "  background-color: #e8e4f0;\n",
       "  color: #000000;\n",
       "}\n",
       "#T_40a37_row2_col6 {\n",
       "  background-color: #045788;\n",
       "  color: #f1f1f1;\n",
       "}\n",
       "#T_40a37_row3_col1 {\n",
       "  background-color: #0569a4;\n",
       "  color: #f1f1f1;\n",
       "}\n",
       "#T_40a37_row3_col3 {\n",
       "  background-color: #045483;\n",
       "  color: #f1f1f1;\n",
       "}\n",
       "</style>\n",
       "<table id=\"T_40a37_\">\n",
       "  <thead>\n",
       "    <tr>\n",
       "      <th class=\"blank level0\" >&nbsp;</th>\n",
       "      <th class=\"col_heading level0 col0\" >거리두기와</th>\n",
       "      <th class=\"col_heading level0 col1\" >문의입니다</th>\n",
       "      <th class=\"col_heading level0 col2\" >상생지원금</th>\n",
       "      <th class=\"col_heading level0 col3\" >승강장</th>\n",
       "      <th class=\"col_heading level0 col4\" >요금</th>\n",
       "      <th class=\"col_heading level0 col5\" >운행시간과</th>\n",
       "      <th class=\"col_heading level0 col6\" >지하철</th>\n",
       "      <th class=\"col_heading level0 col7\" >코로나</th>\n",
       "      <th class=\"col_heading level0 col8\" >택시</th>\n",
       "    </tr>\n",
       "  </thead>\n",
       "  <tbody>\n",
       "    <tr>\n",
       "      <th id=\"T_40a37_level0_row0\" class=\"row_heading level0 row0\" >0</th>\n",
       "      <td id=\"T_40a37_row0_col0\" class=\"data row0 col0\" >0.399288</td>\n",
       "      <td id=\"T_40a37_row0_col1\" class=\"data row0 col1\" >0.208365</td>\n",
       "      <td id=\"T_40a37_row0_col2\" class=\"data row0 col2\" >0.399288</td>\n",
       "      <td id=\"T_40a37_row0_col3\" class=\"data row0 col3\" >0.000000</td>\n",
       "      <td id=\"T_40a37_row0_col4\" class=\"data row0 col4\" >0.000000</td>\n",
       "      <td id=\"T_40a37_row0_col5\" class=\"data row0 col5\" >0.000000</td>\n",
       "      <td id=\"T_40a37_row0_col6\" class=\"data row0 col6\" >0.000000</td>\n",
       "      <td id=\"T_40a37_row0_col7\" class=\"data row0 col7\" >0.798575</td>\n",
       "      <td id=\"T_40a37_row0_col8\" class=\"data row0 col8\" >0.000000</td>\n",
       "    </tr>\n",
       "    <tr>\n",
       "      <th id=\"T_40a37_level0_row1\" class=\"row_heading level0 row1\" >1</th>\n",
       "      <td id=\"T_40a37_row1_col0\" class=\"data row1 col0\" >0.000000</td>\n",
       "      <td id=\"T_40a37_row1_col1\" class=\"data row1 col1\" >0.239219</td>\n",
       "      <td id=\"T_40a37_row1_col2\" class=\"data row1 col2\" >0.000000</td>\n",
       "      <td id=\"T_40a37_row1_col3\" class=\"data row1 col3\" >0.000000</td>\n",
       "      <td id=\"T_40a37_row1_col4\" class=\"data row1 col4\" >0.458412</td>\n",
       "      <td id=\"T_40a37_row1_col5\" class=\"data row1 col5\" >0.458412</td>\n",
       "      <td id=\"T_40a37_row1_col6\" class=\"data row1 col6\" >0.722835</td>\n",
       "      <td id=\"T_40a37_row1_col7\" class=\"data row1 col7\" >0.000000</td>\n",
       "      <td id=\"T_40a37_row1_col8\" class=\"data row1 col8\" >0.000000</td>\n",
       "    </tr>\n",
       "    <tr>\n",
       "      <th id=\"T_40a37_level0_row2\" class=\"row_heading level0 row2\" >2</th>\n",
       "      <td id=\"T_40a37_row2_col0\" class=\"data row2 col0\" >0.000000</td>\n",
       "      <td id=\"T_40a37_row2_col1\" class=\"data row2 col1\" >0.423897</td>\n",
       "      <td id=\"T_40a37_row2_col2\" class=\"data row2 col2\" >0.000000</td>\n",
       "      <td id=\"T_40a37_row2_col3\" class=\"data row2 col3\" >0.640434</td>\n",
       "      <td id=\"T_40a37_row2_col4\" class=\"data row2 col4\" >0.000000</td>\n",
       "      <td id=\"T_40a37_row2_col5\" class=\"data row2 col5\" >0.000000</td>\n",
       "      <td id=\"T_40a37_row2_col6\" class=\"data row2 col6\" >0.640434</td>\n",
       "      <td id=\"T_40a37_row2_col7\" class=\"data row2 col7\" >0.000000</td>\n",
       "      <td id=\"T_40a37_row2_col8\" class=\"data row2 col8\" >0.000000</td>\n",
       "    </tr>\n",
       "    <tr>\n",
       "      <th id=\"T_40a37_level0_row3\" class=\"row_heading level0 row3\" >3</th>\n",
       "      <td id=\"T_40a37_row3_col0\" class=\"data row3 col0\" >0.000000</td>\n",
       "      <td id=\"T_40a37_row3_col1\" class=\"data row3 col1\" >0.379192</td>\n",
       "      <td id=\"T_40a37_row3_col2\" class=\"data row3 col2\" >0.000000</td>\n",
       "      <td id=\"T_40a37_row3_col3\" class=\"data row3 col3\" >0.572892</td>\n",
       "      <td id=\"T_40a37_row3_col4\" class=\"data row3 col4\" >0.000000</td>\n",
       "      <td id=\"T_40a37_row3_col5\" class=\"data row3 col5\" >0.000000</td>\n",
       "      <td id=\"T_40a37_row3_col6\" class=\"data row3 col6\" >0.000000</td>\n",
       "      <td id=\"T_40a37_row3_col7\" class=\"data row3 col7\" >0.000000</td>\n",
       "      <td id=\"T_40a37_row3_col8\" class=\"data row3 col8\" >0.726641</td>\n",
       "    </tr>\n",
       "  </tbody>\n",
       "</table>\n"
      ],
      "text/plain": [
       "<pandas.io.formats.style.Styler at 0x7f835920a290>"
      ]
     },
     "metadata": {},
     "output_type": "display_data"
    }
   ],
   "source": [
    "# display_transform_dtm 으로 변환 결과를 확인합니다.\n",
    "vocab = tfidfvect.get_feature_names_out()\n",
    "df_dtm = pd.DataFrame(dtm.toarray(), columns=vocab)\n",
    "print(\"단어 수 : \", len(vocab))\n",
    "print(vocab)\n",
    "display(df_dtm.style.background_gradient())"
   ]
  },
  {
   "cell_type": "markdown",
   "metadata": {
    "id": "XNrqEJNYS1GX"
   },
   "source": [
    "### IDF\n",
    "\n",
    "**IDF**\n",
    "\n",
    "- IDF 값은 문서군의 성격에 따라 결정된다. 예를 들어 '원자'라는 낱말은 일반적인 문서들 사이에서는 잘 나오지 않기 때문에 IDF 값이 높아지고 문서의 핵심어가 될 수 있지만, 원자에 대한 문서를 모아놓은 문서군의 경우 이 낱말은 상투어가 되어 각 문서들을 세분화하여 구분할 수 있는 다른 낱말들이 높은 가중치를 얻게 된다."
   ]
  },
  {
   "cell_type": "code",
   "execution_count": 27,
   "metadata": {
    "id": "OkaUmQ_rTCMj"
   },
   "outputs": [
    {
     "data": {
      "text/plain": [
       "array([1.91629073, 1.        , 1.91629073, 1.51082562, 1.91629073,\n",
       "       1.91629073, 1.51082562, 1.91629073, 1.91629073])"
      ]
     },
     "execution_count": 27,
     "metadata": {},
     "output_type": "execute_result"
    }
   ],
   "source": [
    "# 하나의 문서에만 나타나는 토큰은 idf 가중치가 높습니다.\n",
    "# 적게 나타난 토큰이라도 모든 문서에도 있는 토큰은 idf가 낮습니다.\n",
    "idf = tfidfvect.idf_\n",
    "idf"
   ]
  },
  {
   "cell_type": "code",
   "execution_count": 28,
   "metadata": {
    "id": "ikcpPibOUiSz"
   },
   "outputs": [
    {
     "data": {
      "text/plain": [
       "{'거리두기와': 1.916290731874155,\n",
       " '문의입니다': 1.0,\n",
       " '상생지원금': 1.916290731874155,\n",
       " '승강장': 1.5108256237659907,\n",
       " '요금': 1.916290731874155,\n",
       " '운행시간과': 1.916290731874155,\n",
       " '지하철': 1.5108256237659907,\n",
       " '코로나': 1.916290731874155,\n",
       " '택시': 1.916290731874155}"
      ]
     },
     "execution_count": 28,
     "metadata": {},
     "output_type": "execute_result"
    }
   ],
   "source": [
    "# 사전만들기\n",
    "# dict, zip 을 사용하여 피처명과 idf 값을 딕셔너리 형태로 만듭니다.\n",
    "# idf_dict\n",
    "vocab = tfidfvect.get_feature_names_out()\n",
    "idf_dict = dict(zip(vocab, idf))\n",
    "idf_dict"
   ]
  },
  {
   "cell_type": "code",
   "execution_count": 29,
   "metadata": {},
   "outputs": [
    {
     "data": {
      "text/plain": [
       "<matplotlib.axes._subplots.AxesSubplot at 0x7f831811db50>"
      ]
     },
     "execution_count": 29,
     "metadata": {},
     "output_type": "execute_result"
    },
    {
     "data": {
      "image/png": "[encoded data removed]",
      "text/plain": [
       "<Figure size 576x396 with 1 Axes>"
      ]
     },
     "metadata": {
      "image/png": {
       "height": 329,
       "width": 527
      }
     },
     "output_type": "display_data"
    }
   ],
   "source": [
    "# idf_dict 값 시각화\n",
    "pd.Series(idf_dict).plot.barh()"
   ]
  },
  {
   "cell_type": "markdown",
   "metadata": {},
   "source": [
    "### TfidfVectorizer 의 다양한 기능 사용하기\n",
    "* analyzer\n",
    "* n-gram\n",
    "* min_df, max_df\n",
    "* max_features\n",
    "* stop_words"
   ]
  },
  {
   "cell_type": "code",
   "execution_count": 30,
   "metadata": {
    "id": "ZxrR99jEk714"
   },
   "outputs": [
    {
     "name": "stdout",
     "output_type": "stream",
     "text": [
      "단어 수 :  20\n",
      "['거리두기와' '거리두기와 코로나' '문의입니다' '상생지원금' '상생지원금 문의입니다' '승강장' '승강장 문의입니다' '요금'\n",
      " '요금 문의입니다' '운행시간과' '운행시간과 지하철' '지하철' '지하철 승강장' '지하철 요금' '지하철 운행시간과' '코로나'\n",
      " '코로나 거리두기와' '코로나 상생지원금' '택시' '택시 승강장']\n"
     ]
    },
    {
     "data": {
      "text/html": [
       "<style type=\"text/css\">\n",
       "#T_c043b_row0_col0, #T_c043b_row0_col1, #T_c043b_row0_col3, #T_c043b_row0_col4, #T_c043b_row0_col15, #T_c043b_row0_col16, #T_c043b_row0_col17, #T_c043b_row1_col7, #T_c043b_row1_col8, #T_c043b_row1_col9, #T_c043b_row1_col10, #T_c043b_row1_col11, #T_c043b_row1_col13, #T_c043b_row1_col14, #T_c043b_row2_col2, #T_c043b_row2_col5, #T_c043b_row2_col6, #T_c043b_row2_col12, #T_c043b_row3_col18, #T_c043b_row3_col19 {\n",
       "  background-color: #023858;\n",
       "  color: #f1f1f1;\n",
       "}\n",
       "#T_c043b_row0_col2, #T_c043b_row0_col5, #T_c043b_row0_col6, #T_c043b_row0_col7, #T_c043b_row0_col8, #T_c043b_row0_col9, #T_c043b_row0_col10, #T_c043b_row0_col11, #T_c043b_row0_col12, #T_c043b_row0_col13, #T_c043b_row0_col14, #T_c043b_row0_col18, #T_c043b_row0_col19, #T_c043b_row1_col0, #T_c043b_row1_col1, #T_c043b_row1_col3, #T_c043b_row1_col4, #T_c043b_row1_col5, #T_c043b_row1_col6, #T_c043b_row1_col12, #T_c043b_row1_col15, #T_c043b_row1_col16, #T_c043b_row1_col17, #T_c043b_row1_col18, #T_c043b_row1_col19, #T_c043b_row2_col0, #T_c043b_row2_col1, #T_c043b_row2_col3, #T_c043b_row2_col4, #T_c043b_row2_col7, #T_c043b_row2_col8, #T_c043b_row2_col9, #T_c043b_row2_col10, #T_c043b_row2_col13, #T_c043b_row2_col14, #T_c043b_row2_col15, #T_c043b_row2_col16, #T_c043b_row2_col17, #T_c043b_row2_col18, #T_c043b_row2_col19, #T_c043b_row3_col0, #T_c043b_row3_col1, #T_c043b_row3_col3, #T_c043b_row3_col4, #T_c043b_row3_col7, #T_c043b_row3_col8, #T_c043b_row3_col9, #T_c043b_row3_col10, #T_c043b_row3_col11, #T_c043b_row3_col12, #T_c043b_row3_col13, #T_c043b_row3_col14, #T_c043b_row3_col15, #T_c043b_row3_col16, #T_c043b_row3_col17 {\n",
       "  background-color: #fff7fb;\n",
       "  color: #000000;\n",
       "}\n",
       "#T_c043b_row1_col2 {\n",
       "  background-color: #f0eaf4;\n",
       "  color: #000000;\n",
       "}\n",
       "#T_c043b_row2_col11 {\n",
       "  background-color: #046198;\n",
       "  color: #f1f1f1;\n",
       "}\n",
       "#T_c043b_row3_col2 {\n",
       "  background-color: #04598c;\n",
       "  color: #f1f1f1;\n",
       "}\n",
       "#T_c043b_row3_col5, #T_c043b_row3_col6 {\n",
       "  background-color: #03476f;\n",
       "  color: #f1f1f1;\n",
       "}\n",
       "</style>\n",
       "<table id=\"T_c043b_\">\n",
       "  <thead>\n",
       "    <tr>\n",
       "      <th class=\"blank level0\" >&nbsp;</th>\n",
       "      <th class=\"col_heading level0 col0\" >거리두기와</th>\n",
       "      <th class=\"col_heading level0 col1\" >거리두기와 코로나</th>\n",
       "      <th class=\"col_heading level0 col2\" >문의입니다</th>\n",
       "      <th class=\"col_heading level0 col3\" >상생지원금</th>\n",
       "      <th class=\"col_heading level0 col4\" >상생지원금 문의입니다</th>\n",
       "      <th class=\"col_heading level0 col5\" >승강장</th>\n",
       "      <th class=\"col_heading level0 col6\" >승강장 문의입니다</th>\n",
       "      <th class=\"col_heading level0 col7\" >요금</th>\n",
       "      <th class=\"col_heading level0 col8\" >요금 문의입니다</th>\n",
       "      <th class=\"col_heading level0 col9\" >운행시간과</th>\n",
       "      <th class=\"col_heading level0 col10\" >운행시간과 지하철</th>\n",
       "      <th class=\"col_heading level0 col11\" >지하철</th>\n",
       "      <th class=\"col_heading level0 col12\" >지하철 승강장</th>\n",
       "      <th class=\"col_heading level0 col13\" >지하철 요금</th>\n",
       "      <th class=\"col_heading level0 col14\" >지하철 운행시간과</th>\n",
       "      <th class=\"col_heading level0 col15\" >코로나</th>\n",
       "      <th class=\"col_heading level0 col16\" >코로나 거리두기와</th>\n",
       "      <th class=\"col_heading level0 col17\" >코로나 상생지원금</th>\n",
       "      <th class=\"col_heading level0 col18\" >택시</th>\n",
       "      <th class=\"col_heading level0 col19\" >택시 승강장</th>\n",
       "    </tr>\n",
       "  </thead>\n",
       "  <tbody>\n",
       "    <tr>\n",
       "      <th id=\"T_c043b_level0_row0\" class=\"row_heading level0 row0\" >0</th>\n",
       "      <td id=\"T_c043b_row0_col0\" class=\"data row0 col0\" >0.312008</td>\n",
       "      <td id=\"T_c043b_row0_col1\" class=\"data row0 col1\" >0.312008</td>\n",
       "      <td id=\"T_c043b_row0_col2\" class=\"data row0 col2\" >0.162819</td>\n",
       "      <td id=\"T_c043b_row0_col3\" class=\"data row0 col3\" >0.312008</td>\n",
       "      <td id=\"T_c043b_row0_col4\" class=\"data row0 col4\" >0.312008</td>\n",
       "      <td id=\"T_c043b_row0_col5\" class=\"data row0 col5\" >0.000000</td>\n",
       "      <td id=\"T_c043b_row0_col6\" class=\"data row0 col6\" >0.000000</td>\n",
       "      <td id=\"T_c043b_row0_col7\" class=\"data row0 col7\" >0.000000</td>\n",
       "      <td id=\"T_c043b_row0_col8\" class=\"data row0 col8\" >0.000000</td>\n",
       "      <td id=\"T_c043b_row0_col9\" class=\"data row0 col9\" >0.000000</td>\n",
       "      <td id=\"T_c043b_row0_col10\" class=\"data row0 col10\" >0.000000</td>\n",
       "      <td id=\"T_c043b_row0_col11\" class=\"data row0 col11\" >0.000000</td>\n",
       "      <td id=\"T_c043b_row0_col12\" class=\"data row0 col12\" >0.000000</td>\n",
       "      <td id=\"T_c043b_row0_col13\" class=\"data row0 col13\" >0.000000</td>\n",
       "      <td id=\"T_c043b_row0_col14\" class=\"data row0 col14\" >0.000000</td>\n",
       "      <td id=\"T_c043b_row0_col15\" class=\"data row0 col15\" >0.624016</td>\n",
       "      <td id=\"T_c043b_row0_col16\" class=\"data row0 col16\" >0.312008</td>\n",
       "      <td id=\"T_c043b_row0_col17\" class=\"data row0 col17\" >0.312008</td>\n",
       "      <td id=\"T_c043b_row0_col18\" class=\"data row0 col18\" >0.000000</td>\n",
       "      <td id=\"T_c043b_row0_col19\" class=\"data row0 col19\" >0.000000</td>\n",
       "    </tr>\n",
       "    <tr>\n",
       "      <th id=\"T_c043b_level0_row1\" class=\"row_heading level0 row1\" >1</th>\n",
       "      <td id=\"T_c043b_row1_col0\" class=\"data row1 col0\" >0.000000</td>\n",
       "      <td id=\"T_c043b_row1_col1\" class=\"data row1 col1\" >0.000000</td>\n",
       "      <td id=\"T_c043b_row1_col2\" class=\"data row1 col2\" >0.176327</td>\n",
       "      <td id=\"T_c043b_row1_col3\" class=\"data row1 col3\" >0.000000</td>\n",
       "      <td id=\"T_c043b_row1_col4\" class=\"data row1 col4\" >0.000000</td>\n",
       "      <td id=\"T_c043b_row1_col5\" class=\"data row1 col5\" >0.000000</td>\n",
       "      <td id=\"T_c043b_row1_col6\" class=\"data row1 col6\" >0.000000</td>\n",
       "      <td id=\"T_c043b_row1_col7\" class=\"data row1 col7\" >0.337894</td>\n",
       "      <td id=\"T_c043b_row1_col8\" class=\"data row1 col8\" >0.337894</td>\n",
       "      <td id=\"T_c043b_row1_col9\" class=\"data row1 col9\" >0.337894</td>\n",
       "      <td id=\"T_c043b_row1_col10\" class=\"data row1 col10\" >0.337894</td>\n",
       "      <td id=\"T_c043b_row1_col11\" class=\"data row1 col11\" >0.532799</td>\n",
       "      <td id=\"T_c043b_row1_col12\" class=\"data row1 col12\" >0.000000</td>\n",
       "      <td id=\"T_c043b_row1_col13\" class=\"data row1 col13\" >0.337894</td>\n",
       "      <td id=\"T_c043b_row1_col14\" class=\"data row1 col14\" >0.337894</td>\n",
       "      <td id=\"T_c043b_row1_col15\" class=\"data row1 col15\" >0.000000</td>\n",
       "      <td id=\"T_c043b_row1_col16\" class=\"data row1 col16\" >0.000000</td>\n",
       "      <td id=\"T_c043b_row1_col17\" class=\"data row1 col17\" >0.000000</td>\n",
       "      <td id=\"T_c043b_row1_col18\" class=\"data row1 col18\" >0.000000</td>\n",
       "      <td id=\"T_c043b_row1_col19\" class=\"data row1 col19\" >0.000000</td>\n",
       "    </tr>\n",
       "    <tr>\n",
       "      <th id=\"T_c043b_level0_row2\" class=\"row_heading level0 row2\" >2</th>\n",
       "      <td id=\"T_c043b_row2_col0\" class=\"data row2 col0\" >0.000000</td>\n",
       "      <td id=\"T_c043b_row2_col1\" class=\"data row2 col1\" >0.000000</td>\n",
       "      <td id=\"T_c043b_row2_col2\" class=\"data row2 col2\" >0.294628</td>\n",
       "      <td id=\"T_c043b_row2_col3\" class=\"data row2 col3\" >0.000000</td>\n",
       "      <td id=\"T_c043b_row2_col4\" class=\"data row2 col4\" >0.000000</td>\n",
       "      <td id=\"T_c043b_row2_col5\" class=\"data row2 col5\" >0.445132</td>\n",
       "      <td id=\"T_c043b_row2_col6\" class=\"data row2 col6\" >0.445132</td>\n",
       "      <td id=\"T_c043b_row2_col7\" class=\"data row2 col7\" >0.000000</td>\n",
       "      <td id=\"T_c043b_row2_col8\" class=\"data row2 col8\" >0.000000</td>\n",
       "      <td id=\"T_c043b_row2_col9\" class=\"data row2 col9\" >0.000000</td>\n",
       "      <td id=\"T_c043b_row2_col10\" class=\"data row2 col10\" >0.000000</td>\n",
       "      <td id=\"T_c043b_row2_col11\" class=\"data row2 col11\" >0.445132</td>\n",
       "      <td id=\"T_c043b_row2_col12\" class=\"data row2 col12\" >0.564594</td>\n",
       "      <td id=\"T_c043b_row2_col13\" class=\"data row2 col13\" >0.000000</td>\n",
       "      <td id=\"T_c043b_row2_col14\" class=\"data row2 col14\" >0.000000</td>\n",
       "      <td id=\"T_c043b_row2_col15\" class=\"data row2 col15\" >0.000000</td>\n",
       "      <td id=\"T_c043b_row2_col16\" class=\"data row2 col16\" >0.000000</td>\n",
       "      <td id=\"T_c043b_row2_col17\" class=\"data row2 col17\" >0.000000</td>\n",
       "      <td id=\"T_c043b_row2_col18\" class=\"data row2 col18\" >0.000000</td>\n",
       "      <td id=\"T_c043b_row2_col19\" class=\"data row2 col19\" >0.000000</td>\n",
       "    </tr>\n",
       "    <tr>\n",
       "      <th id=\"T_c043b_level0_row3\" class=\"row_heading level0 row3\" >3</th>\n",
       "      <td id=\"T_c043b_row3_col0\" class=\"data row3 col0\" >0.000000</td>\n",
       "      <td id=\"T_c043b_row3_col1\" class=\"data row3 col1\" >0.000000</td>\n",
       "      <td id=\"T_c043b_row3_col2\" class=\"data row3 col2\" >0.278320</td>\n",
       "      <td id=\"T_c043b_row3_col3\" class=\"data row3 col3\" >0.000000</td>\n",
       "      <td id=\"T_c043b_row3_col4\" class=\"data row3 col4\" >0.000000</td>\n",
       "      <td id=\"T_c043b_row3_col5\" class=\"data row3 col5\" >0.420493</td>\n",
       "      <td id=\"T_c043b_row3_col6\" class=\"data row3 col6\" >0.420493</td>\n",
       "      <td id=\"T_c043b_row3_col7\" class=\"data row3 col7\" >0.000000</td>\n",
       "      <td id=\"T_c043b_row3_col8\" class=\"data row3 col8\" >0.000000</td>\n",
       "      <td id=\"T_c043b_row3_col9\" class=\"data row3 col9\" >0.000000</td>\n",
       "      <td id=\"T_c043b_row3_col10\" class=\"data row3 col10\" >0.000000</td>\n",
       "      <td id=\"T_c043b_row3_col11\" class=\"data row3 col11\" >0.000000</td>\n",
       "      <td id=\"T_c043b_row3_col12\" class=\"data row3 col12\" >0.000000</td>\n",
       "      <td id=\"T_c043b_row3_col13\" class=\"data row3 col13\" >0.000000</td>\n",
       "      <td id=\"T_c043b_row3_col14\" class=\"data row3 col14\" >0.000000</td>\n",
       "      <td id=\"T_c043b_row3_col15\" class=\"data row3 col15\" >0.000000</td>\n",
       "      <td id=\"T_c043b_row3_col16\" class=\"data row3 col16\" >0.000000</td>\n",
       "      <td id=\"T_c043b_row3_col17\" class=\"data row3 col17\" >0.000000</td>\n",
       "      <td id=\"T_c043b_row3_col18\" class=\"data row3 col18\" >0.533343</td>\n",
       "      <td id=\"T_c043b_row3_col19\" class=\"data row3 col19\" >0.533343</td>\n",
       "    </tr>\n",
       "  </tbody>\n",
       "</table>\n"
      ],
      "text/plain": [
       "<pandas.io.formats.style.Styler at 0x7f8308857110>"
      ]
     },
     "metadata": {},
     "output_type": "display_data"
    }
   ],
   "source": [
    "# analyzer='char_wb', ngram_range=(2, 3), max_df=1.0, min_df=1\n",
    "tfidfvect = TfidfVectorizer(analyzer=\"word\", ngram_range=(1, 2), max_df=1.0, min_df=1)\n",
    "dtm = tfidfvect.fit_transform(corpus)\n",
    "vocab = tfidfvect.get_feature_names_out()\n",
    "df_dtm = pd.DataFrame(dtm.toarray(), columns=vocab)\n",
    "print(\"단어 수 : \", len(vocab))\n",
    "print(vocab)\n",
    "display(df_dtm.style.background_gradient())"
   ]
  },
  {
   "cell_type": "code",
   "execution_count": null,
   "metadata": {},
   "outputs": [],
   "source": []
  },
  {
   "cell_type": "code",
   "execution_count": null,
   "metadata": {},
   "outputs": [],
   "source": []
  },
  {
   "cell_type": "code",
   "execution_count": null,
   "metadata": {},
   "outputs": [],
   "source": []
  },
  {
   "cell_type": "code",
   "execution_count": null,
   "metadata": {},
   "outputs": [],
   "source": []
  },
  {
   "cell_type": "code",
   "execution_count": null,
   "metadata": {},
   "outputs": [],
   "source": []
  },
  {
   "cell_type": "code",
   "execution_count": null,
   "metadata": {},
   "outputs": [],
   "source": []
  },
  {
   "cell_type": "code",
   "execution_count": null,
   "metadata": {},
   "outputs": [],
   "source": []
  },
  {
   "cell_type": "code",
   "execution_count": null,
   "metadata": {},
   "outputs": [],
   "source": []
  }
 ],
 "metadata": {
  "kernelspec": {
   "display_name": "Python 3 (ipykernel)",
   "language": "python",
   "name": "python3"
  },
  "language_info": {
   "codemirror_mode": {
    "name": "ipython",
    "version": 3
   },
   "file_extension": ".py",
   "mimetype": "text/x-python",
   "name": "python",
   "nbconvert_exporter": "python",
   "pygments_lexer": "ipython3",
   "version": "3.7.13"
  },
  "toc": {
   "base_numbering": 1,
   "nav_menu": {},
   "number_sections": true,
   "sideBar": true,
   "skip_h1_title": false,
   "title_cell": "Table of Contents",
   "title_sidebar": "Contents",
   "toc_cell": false,
   "toc_position": {},
   "toc_section_display": true,
   "toc_window_display": true
  },
  "varInspector": {
   "cols": {
    "lenName": 16,
    "lenType": 16,
    "lenVar": 40
   },
   "kernels_config": {
    "python": {
     "delete_cmd_postfix": "",
     "delete_cmd_prefix": "del ",
     "library": "var_list.py",
     "varRefreshCmd": "print(var_dic_list())"
    },
    "r": {
     "delete_cmd_postfix": ") ",
     "delete_cmd_prefix": "rm(",
     "library": "var_list.r",
     "varRefreshCmd": "cat(var_dic_list()) "
    }
   },
   "types_to_exclude": [
    "module",
    "function",
    "builtin_function_or_method",
    "instance",
    "_Feature"
   ],
   "window_display": false
  }
 },
 "nbformat": 4,
 "nbformat_minor": 1
}
